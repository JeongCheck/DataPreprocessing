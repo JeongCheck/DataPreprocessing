{
 "cells": [
  {
   "cell_type": "markdown",
   "id": "1dc279fd",
   "metadata": {},
   "source": [
    "# Naver Blog Review Preprocessing \n",
    "* 한 개의 키워드에 대한 정제 코드\n",
    "* 정제 후 Csv 저장까지 "
   ]
  },
  {
   "cell_type": "markdown",
   "id": "3bc28a3e",
   "metadata": {},
   "source": [
    "## 사용 라이브러리 설치"
   ]
  },
  {
   "cell_type": "markdown",
   "id": "547daee3",
   "metadata": {},
   "source": [
    "[soynlp](https://github.com/lovit/soynlp)"
   ]
  },
  {
   "cell_type": "code",
   "execution_count": 106,
   "id": "970b64fb",
   "metadata": {},
   "outputs": [
    {
     "name": "stdout",
     "output_type": "stream",
     "text": [
      "Requirement already satisfied: kss in /home/aiffel-dj19/anaconda3/envs/aiffel/lib/python3.7/site-packages (2.5.1)\n",
      "Requirement already satisfied: requests in /home/aiffel-dj19/anaconda3/envs/aiffel/lib/python3.7/site-packages (2.25.1)\n",
      "Requirement already satisfied: chardet<5,>=3.0.2 in /home/aiffel-dj19/anaconda3/envs/aiffel/lib/python3.7/site-packages (from requests) (4.0.0)\n",
      "Requirement already satisfied: certifi>=2017.4.17 in /home/aiffel-dj19/anaconda3/envs/aiffel/lib/python3.7/site-packages (from requests) (2020.12.5)\n",
      "Requirement already satisfied: urllib3<1.27,>=1.21.1 in /home/aiffel-dj19/anaconda3/envs/aiffel/lib/python3.7/site-packages (from requests) (1.26.4)\n",
      "Requirement already satisfied: idna<3,>=2.5 in /home/aiffel-dj19/anaconda3/envs/aiffel/lib/python3.7/site-packages (from requests) (2.10)\n",
      "Collecting git+https://github.com/ssut/py-hanspell.git\n",
      "  Cloning https://github.com/ssut/py-hanspell.git to /tmp/pip-req-build-3zl296sd\n",
      "  Running command git clone -q https://github.com/ssut/py-hanspell.git /tmp/pip-req-build-3zl296sd\n",
      "Requirement already satisfied: requests in /home/aiffel-dj19/anaconda3/envs/aiffel/lib/python3.7/site-packages (from py-hanspell==1.1) (2.25.1)\n",
      "Requirement already satisfied: urllib3<1.27,>=1.21.1 in /home/aiffel-dj19/anaconda3/envs/aiffel/lib/python3.7/site-packages (from requests->py-hanspell==1.1) (1.26.4)\n",
      "Requirement already satisfied: idna<3,>=2.5 in /home/aiffel-dj19/anaconda3/envs/aiffel/lib/python3.7/site-packages (from requests->py-hanspell==1.1) (2.10)\n",
      "Requirement already satisfied: certifi>=2017.4.17 in /home/aiffel-dj19/anaconda3/envs/aiffel/lib/python3.7/site-packages (from requests->py-hanspell==1.1) (2020.12.5)\n",
      "Requirement already satisfied: chardet<5,>=3.0.2 in /home/aiffel-dj19/anaconda3/envs/aiffel/lib/python3.7/site-packages (from requests->py-hanspell==1.1) (4.0.0)\n",
      "Requirement already satisfied: py-hangul-checker in /home/aiffel-dj19/anaconda3/envs/aiffel/lib/python3.7/site-packages (0.2.0)\n",
      "Requirement already satisfied: beautifulsoup4 in /home/aiffel-dj19/anaconda3/envs/aiffel/lib/python3.7/site-packages (from py-hangul-checker) (4.6.0)\n",
      "Requirement already satisfied: requests in /home/aiffel-dj19/anaconda3/envs/aiffel/lib/python3.7/site-packages (from py-hangul-checker) (2.25.1)\n",
      "Requirement already satisfied: idna<3,>=2.5 in /home/aiffel-dj19/anaconda3/envs/aiffel/lib/python3.7/site-packages (from requests->py-hangul-checker) (2.10)\n",
      "Requirement already satisfied: urllib3<1.27,>=1.21.1 in /home/aiffel-dj19/anaconda3/envs/aiffel/lib/python3.7/site-packages (from requests->py-hangul-checker) (1.26.4)\n",
      "Requirement already satisfied: certifi>=2017.4.17 in /home/aiffel-dj19/anaconda3/envs/aiffel/lib/python3.7/site-packages (from requests->py-hangul-checker) (2020.12.5)\n",
      "Requirement already satisfied: chardet<5,>=3.0.2 in /home/aiffel-dj19/anaconda3/envs/aiffel/lib/python3.7/site-packages (from requests->py-hangul-checker) (4.0.0)\n",
      "Collecting git+https://github.com/haven-jeon/PyKoSpacing.git\n",
      "  Cloning https://github.com/haven-jeon/PyKoSpacing.git to /tmp/pip-req-build-59bg73_k\n",
      "  Running command git clone -q https://github.com/haven-jeon/PyKoSpacing.git /tmp/pip-req-build-59bg73_k\n",
      "Requirement already satisfied: tensorflow==2.5.0 in /home/aiffel-dj19/anaconda3/envs/aiffel/lib/python3.7/site-packages (from pykospacing==0.5) (2.5.0)\n",
      "Requirement already satisfied: h5py==3.1.0 in /home/aiffel-dj19/anaconda3/envs/aiffel/lib/python3.7/site-packages (from pykospacing==0.5) (3.1.0)\n",
      "Collecting argparse>=1.4.0\n",
      "  Using cached argparse-1.4.0-py2.py3-none-any.whl (23 kB)\n",
      "Requirement already satisfied: cached-property in /home/aiffel-dj19/anaconda3/envs/aiffel/lib/python3.7/site-packages (from h5py==3.1.0->pykospacing==0.5) (1.5.2)\n",
      "Requirement already satisfied: numpy>=1.14.5 in /home/aiffel-dj19/anaconda3/envs/aiffel/lib/python3.7/site-packages (from h5py==3.1.0->pykospacing==0.5) (1.19.5)\n",
      "Requirement already satisfied: keras-preprocessing~=1.1.2 in /home/aiffel-dj19/anaconda3/envs/aiffel/lib/python3.7/site-packages (from tensorflow==2.5.0->pykospacing==0.5) (1.1.2)\n",
      "Requirement already satisfied: protobuf>=3.9.2 in /home/aiffel-dj19/anaconda3/envs/aiffel/lib/python3.7/site-packages (from tensorflow==2.5.0->pykospacing==0.5) (3.15.8)\n",
      "Requirement already satisfied: wheel~=0.35 in /home/aiffel-dj19/anaconda3/envs/aiffel/lib/python3.7/site-packages (from tensorflow==2.5.0->pykospacing==0.5) (0.36.2)\n",
      "Requirement already satisfied: wrapt~=1.12.1 in /home/aiffel-dj19/anaconda3/envs/aiffel/lib/python3.7/site-packages (from tensorflow==2.5.0->pykospacing==0.5) (1.12.1)\n",
      "Requirement already satisfied: flatbuffers~=1.12.0 in /home/aiffel-dj19/anaconda3/envs/aiffel/lib/python3.7/site-packages (from tensorflow==2.5.0->pykospacing==0.5) (1.12)\n",
      "Requirement already satisfied: termcolor~=1.1.0 in /home/aiffel-dj19/anaconda3/envs/aiffel/lib/python3.7/site-packages (from tensorflow==2.5.0->pykospacing==0.5) (1.1.0)\n",
      "Requirement already satisfied: tensorboard~=2.5 in /home/aiffel-dj19/anaconda3/envs/aiffel/lib/python3.7/site-packages (from tensorflow==2.5.0->pykospacing==0.5) (2.5.0)\n",
      "Requirement already satisfied: gast==0.4.0 in /home/aiffel-dj19/anaconda3/envs/aiffel/lib/python3.7/site-packages (from tensorflow==2.5.0->pykospacing==0.5) (0.4.0)\n",
      "Requirement already satisfied: opt-einsum~=3.3.0 in /home/aiffel-dj19/anaconda3/envs/aiffel/lib/python3.7/site-packages (from tensorflow==2.5.0->pykospacing==0.5) (3.3.0)\n",
      "Requirement already satisfied: tensorflow-estimator<2.6.0,>=2.5.0rc0 in /home/aiffel-dj19/anaconda3/envs/aiffel/lib/python3.7/site-packages (from tensorflow==2.5.0->pykospacing==0.5) (2.5.0)\n",
      "Requirement already satisfied: grpcio~=1.34.0 in /home/aiffel-dj19/anaconda3/envs/aiffel/lib/python3.7/site-packages (from tensorflow==2.5.0->pykospacing==0.5) (1.34.1)\n",
      "Requirement already satisfied: absl-py~=0.10 in /home/aiffel-dj19/anaconda3/envs/aiffel/lib/python3.7/site-packages (from tensorflow==2.5.0->pykospacing==0.5) (0.12.0)\n",
      "Requirement already satisfied: astunparse~=1.6.3 in /home/aiffel-dj19/anaconda3/envs/aiffel/lib/python3.7/site-packages (from tensorflow==2.5.0->pykospacing==0.5) (1.6.3)\n",
      "Requirement already satisfied: six~=1.15.0 in /home/aiffel-dj19/anaconda3/envs/aiffel/lib/python3.7/site-packages (from tensorflow==2.5.0->pykospacing==0.5) (1.15.0)\n",
      "Requirement already satisfied: google-pasta~=0.2 in /home/aiffel-dj19/anaconda3/envs/aiffel/lib/python3.7/site-packages (from tensorflow==2.5.0->pykospacing==0.5) (0.2.0)\n",
      "Requirement already satisfied: typing-extensions~=3.7.4 in /home/aiffel-dj19/anaconda3/envs/aiffel/lib/python3.7/site-packages (from tensorflow==2.5.0->pykospacing==0.5) (3.7.4.3)\n",
      "Requirement already satisfied: keras-nightly~=2.5.0.dev in /home/aiffel-dj19/anaconda3/envs/aiffel/lib/python3.7/site-packages (from tensorflow==2.5.0->pykospacing==0.5) (2.5.0.dev2021032900)\n",
      "Requirement already satisfied: google-auth-oauthlib<0.5,>=0.4.1 in /home/aiffel-dj19/anaconda3/envs/aiffel/lib/python3.7/site-packages (from tensorboard~=2.5->tensorflow==2.5.0->pykospacing==0.5) (0.4.4)\n",
      "Requirement already satisfied: setuptools>=41.0.0 in /home/aiffel-dj19/anaconda3/envs/aiffel/lib/python3.7/site-packages (from tensorboard~=2.5->tensorflow==2.5.0->pykospacing==0.5) (52.0.0.post20210125)\n",
      "Requirement already satisfied: werkzeug>=0.11.15 in /home/aiffel-dj19/anaconda3/envs/aiffel/lib/python3.7/site-packages (from tensorboard~=2.5->tensorflow==2.5.0->pykospacing==0.5) (1.0.1)\n",
      "Requirement already satisfied: markdown>=2.6.8 in /home/aiffel-dj19/anaconda3/envs/aiffel/lib/python3.7/site-packages (from tensorboard~=2.5->tensorflow==2.5.0->pykospacing==0.5) (3.3.4)\n",
      "Requirement already satisfied: requests<3,>=2.21.0 in /home/aiffel-dj19/anaconda3/envs/aiffel/lib/python3.7/site-packages (from tensorboard~=2.5->tensorflow==2.5.0->pykospacing==0.5) (2.25.1)\n",
      "Requirement already satisfied: tensorboard-data-server<0.7.0,>=0.6.0 in /home/aiffel-dj19/anaconda3/envs/aiffel/lib/python3.7/site-packages (from tensorboard~=2.5->tensorflow==2.5.0->pykospacing==0.5) (0.6.0)\n",
      "Requirement already satisfied: tensorboard-plugin-wit>=1.6.0 in /home/aiffel-dj19/anaconda3/envs/aiffel/lib/python3.7/site-packages (from tensorboard~=2.5->tensorflow==2.5.0->pykospacing==0.5) (1.8.0)\n",
      "Requirement already satisfied: google-auth<2,>=1.6.3 in /home/aiffel-dj19/anaconda3/envs/aiffel/lib/python3.7/site-packages (from tensorboard~=2.5->tensorflow==2.5.0->pykospacing==0.5) (1.30.0)\n",
      "Requirement already satisfied: rsa<5,>=3.1.4 in /home/aiffel-dj19/anaconda3/envs/aiffel/lib/python3.7/site-packages (from google-auth<2,>=1.6.3->tensorboard~=2.5->tensorflow==2.5.0->pykospacing==0.5) (4.7.2)\n",
      "Requirement already satisfied: pyasn1-modules>=0.2.1 in /home/aiffel-dj19/anaconda3/envs/aiffel/lib/python3.7/site-packages (from google-auth<2,>=1.6.3->tensorboard~=2.5->tensorflow==2.5.0->pykospacing==0.5) (0.2.8)\n",
      "Requirement already satisfied: cachetools<5.0,>=2.0.0 in /home/aiffel-dj19/anaconda3/envs/aiffel/lib/python3.7/site-packages (from google-auth<2,>=1.6.3->tensorboard~=2.5->tensorflow==2.5.0->pykospacing==0.5) (4.2.2)\n"
     ]
    },
    {
     "name": "stdout",
     "output_type": "stream",
     "text": [
      "Requirement already satisfied: requests-oauthlib>=0.7.0 in /home/aiffel-dj19/anaconda3/envs/aiffel/lib/python3.7/site-packages (from google-auth-oauthlib<0.5,>=0.4.1->tensorboard~=2.5->tensorflow==2.5.0->pykospacing==0.5) (1.3.0)\n",
      "Requirement already satisfied: importlib-metadata in /home/aiffel-dj19/anaconda3/envs/aiffel/lib/python3.7/site-packages (from markdown>=2.6.8->tensorboard~=2.5->tensorflow==2.5.0->pykospacing==0.5) (3.10.0)\n",
      "Requirement already satisfied: pyasn1<0.5.0,>=0.4.6 in /home/aiffel-dj19/anaconda3/envs/aiffel/lib/python3.7/site-packages (from pyasn1-modules>=0.2.1->google-auth<2,>=1.6.3->tensorboard~=2.5->tensorflow==2.5.0->pykospacing==0.5) (0.4.8)\n",
      "Requirement already satisfied: idna<3,>=2.5 in /home/aiffel-dj19/anaconda3/envs/aiffel/lib/python3.7/site-packages (from requests<3,>=2.21.0->tensorboard~=2.5->tensorflow==2.5.0->pykospacing==0.5) (2.10)\n",
      "Requirement already satisfied: chardet<5,>=3.0.2 in /home/aiffel-dj19/anaconda3/envs/aiffel/lib/python3.7/site-packages (from requests<3,>=2.21.0->tensorboard~=2.5->tensorflow==2.5.0->pykospacing==0.5) (4.0.0)\n",
      "Requirement already satisfied: urllib3<1.27,>=1.21.1 in /home/aiffel-dj19/anaconda3/envs/aiffel/lib/python3.7/site-packages (from requests<3,>=2.21.0->tensorboard~=2.5->tensorflow==2.5.0->pykospacing==0.5) (1.26.4)\n",
      "Requirement already satisfied: certifi>=2017.4.17 in /home/aiffel-dj19/anaconda3/envs/aiffel/lib/python3.7/site-packages (from requests<3,>=2.21.0->tensorboard~=2.5->tensorflow==2.5.0->pykospacing==0.5) (2020.12.5)\n",
      "Requirement already satisfied: oauthlib>=3.0.0 in /home/aiffel-dj19/anaconda3/envs/aiffel/lib/python3.7/site-packages (from requests-oauthlib>=0.7.0->google-auth-oauthlib<0.5,>=0.4.1->tensorboard~=2.5->tensorflow==2.5.0->pykospacing==0.5) (3.1.0)\n",
      "Requirement already satisfied: zipp>=0.5 in /home/aiffel-dj19/anaconda3/envs/aiffel/lib/python3.7/site-packages (from importlib-metadata->markdown>=2.6.8->tensorboard~=2.5->tensorflow==2.5.0->pykospacing==0.5) (3.4.1)\n",
      "Installing collected packages: argparse\n",
      "Successfully installed argparse-1.4.0\n",
      "Requirement already satisfied: soynlp in /home/aiffel-dj19/anaconda3/envs/aiffel/lib/python3.7/site-packages (0.0.493)\n",
      "Requirement already satisfied: numpy>=1.12.1 in /home/aiffel-dj19/anaconda3/envs/aiffel/lib/python3.7/site-packages (from soynlp) (1.19.5)\n",
      "Requirement already satisfied: scipy>=1.1.0 in /home/aiffel-dj19/anaconda3/envs/aiffel/lib/python3.7/site-packages (from soynlp) (1.6.2)\n",
      "Requirement already satisfied: psutil>=5.0.1 in /home/aiffel-dj19/anaconda3/envs/aiffel/lib/python3.7/site-packages (from soynlp) (5.8.0)\n",
      "Requirement already satisfied: scikit-learn>=0.20.0 in /home/aiffel-dj19/anaconda3/envs/aiffel/lib/python3.7/site-packages (from soynlp) (0.24.1)\n",
      "Requirement already satisfied: threadpoolctl>=2.0.0 in /home/aiffel-dj19/anaconda3/envs/aiffel/lib/python3.7/site-packages (from scikit-learn>=0.20.0->soynlp) (2.1.0)\n",
      "Requirement already satisfied: joblib>=0.11 in /home/aiffel-dj19/anaconda3/envs/aiffel/lib/python3.7/site-packages (from scikit-learn>=0.20.0->soynlp) (1.0.1)\n",
      "Requirement already satisfied: soyspacing in /home/aiffel-dj19/anaconda3/envs/aiffel/lib/python3.7/site-packages (1.0.17)\n",
      "Requirement already satisfied: numpy>=1.12.0 in /home/aiffel-dj19/anaconda3/envs/aiffel/lib/python3.7/site-packages (from soyspacing) (1.19.5)\n"
     ]
    }
   ],
   "source": [
    "# 한글 문장 분리기 \n",
    "!pip install kss # korean sentence splitter\n",
    "\n",
    "# 한글 맞춤법 검사기\n",
    "!pip install requests # py-hanspell 의존 라이브러리\n",
    "!pip install git+https://github.com/ssut/py-hanspell.git # py-hanspell\n",
    "!pip install py-hangul-checker # py-hangul-checker\n",
    "\n",
    "# 한글 띄어쓰기 교정기 \n",
    "!pip install git+https://github.com/haven-jeon/PyKoSpacing.git\n",
    "    \n",
    "# 고유명사 추출에 용이한 토크나이저\n",
    "!pip install soynlp\n",
    "\n",
    "!pip install soyspacing"
   ]
  },
  {
   "cell_type": "markdown",
   "id": "ac0a2be0",
   "metadata": {},
   "source": [
    "## 파일 경로 설정 "
   ]
  },
  {
   "cell_type": "code",
   "execution_count": 243,
   "id": "1a1538e8",
   "metadata": {},
   "outputs": [
    {
     "name": "stdout",
     "output_type": "stream",
     "text": [
      "/home/aiffel-dj19/jungcheck/DataPreprocessing\r\n"
     ]
    }
   ],
   "source": [
    "!mkdir -p ~/jungcheck/DataPreprocessing    \n",
    "!pwd    \n",
    "!cd ~/jungcheck    \n",
    "!mkdir -p ./data/naver_review  "
   ]
  },
  {
   "cell_type": "code",
   "execution_count": 244,
   "id": "03045413",
   "metadata": {},
   "outputs": [
    {
     "name": "stdout",
     "output_type": "stream",
     "text": [
      "/home/aiffel-dj19/jungcheck/DataPreprocessing\r\n"
     ]
    }
   ],
   "source": [
    "# 현재 경로 확인 \n",
    "!pwd"
   ]
  },
  {
   "cell_type": "markdown",
   "id": "bc8b7742",
   "metadata": {},
   "source": [
    "아래 tree 명령어로 상위 폴더(jungcheck)내 파일 구성을 볼 수 있습니다.    "
   ]
  },
  {
   "cell_type": "code",
   "execution_count": 245,
   "id": "647c4652",
   "metadata": {
    "scrolled": false
   },
   "outputs": [
    {
     "name": "stdout",
     "output_type": "stream",
     "text": [
      "\u001b[01;34m./data/naver_review\u001b[00m\r\n",
      "├── \u001b[01;34m수통골\u001b[00m\r\n",
      "│   ├── 수통골 관광 대전.csv\r\n",
      "│   ├── 수통골 여행 대전.csv\r\n",
      "│   ├── 수통골 여행 후기.csv\r\n",
      "│   ├── 수통골 관광 후기.csv\r\n",
      "│   └── 수통골 여행 주말에.csv\r\n",
      "├── \u001b[01;34m대청호\u001b[00m\r\n",
      "│   ├── 대청호반 관광 후기.csv\r\n",
      "│   ├── 대청호반 관광 대전.csv\r\n",
      "│   ├── 대청호반 여행 대전.csv\r\n",
      "│   ├── 대청호반 여행 후기.csv\r\n",
      "│   ├── 대청호반 관광 주말에.csv\r\n",
      "│   └── 대청호반 여행 주말에.csv\r\n",
      "├── \u001b[01;34m장태산\u001b[00m\r\n",
      "│   ├── 장태산휴양림 여행 후기.csv\r\n",
      "│   ├── 장태산휴양림 관광 후기.csv\r\n",
      "│   ├── 장태산휴양림 관광 대전.csv\r\n",
      "│   ├── 장태산휴양림 여행 대전.csv\r\n",
      "│   ├── 장태산휴양림 관광 주말에.csv\r\n",
      "│   └── 장태산휴양림 여행 주말에.csv\r\n",
      "├── \u001b[01;34m성심당\u001b[00m\r\n",
      "│   ├── 성심당 여행 후기.csv\r\n",
      "│   ├── 성심당 여행 대전.csv\r\n",
      "│   ├── 성심당 관광 대전.csv\r\n",
      "│   ├── 성심당 관광 후기.csv\r\n",
      "│   ├── 성심당 여행 주말에.csv\r\n",
      "│   └── 성심당 관광 주말에.csv\r\n",
      "├── \u001b[01;34m계족산\u001b[00m\r\n",
      "│   ├── 계족산황톳길 여행 대전.csv\r\n",
      "│   ├── 계족산황톳길 관광 대전.csv\r\n",
      "│   ├── 계족산황톳길 여행 후기.csv\r\n",
      "│   ├── 계족산황톳길 관광 후기.csv\r\n",
      "│   ├── 계족산황톳길 여행 주말에.csv\r\n",
      "│   └── 계족산황톳길 관광 주말에.csv\r\n",
      "├── \u001b[01;34m오월드\u001b[00m\r\n",
      "│   ├── 오월드 여행 대전.csv\r\n",
      "│   ├── 오월드 관광 주말에.csv\r\n",
      "│   └── 오월드 여행 주말에.csv\r\n",
      "├── \u001b[01;34m동춘당\u001b[00m\r\n",
      "│   ├── 동춘당 관광 대전.csv\r\n",
      "│   ├── 동춘당 관광 후기.csv\r\n",
      "│   ├── 동춘당 여행 대전.csv\r\n",
      "│   ├── 동춘당 여행 후기.csv\r\n",
      "│   ├── 동춘당 여행 주말에.csv\r\n",
      "│   └── 동춘당 관광 주말에.csv\r\n",
      "├── \u001b[01;34m유성온천\u001b[00m\r\n",
      "│   ├── 유성온천 관광 후기.csv\r\n",
      "│   ├── 유성온천 여행 대전.csv\r\n",
      "│   ├── 유성온천 여행 후기.csv\r\n",
      "│   ├── 유성온천 관광 대전.csv\r\n",
      "│   ├── 유성온천 여행 주말에.csv\r\n",
      "│   └── 유성온천 관광 주말에.csv\r\n",
      "├── \u001b[01;34m뿌리공원\u001b[00m\r\n",
      "│   ├── 뿌리공원 여행 후기.csv\r\n",
      "│   ├── 뿌리공원 관광 후기.csv\r\n",
      "│   ├── 뿌리공원 관광 대전.csv\r\n",
      "│   ├── 뿌리공원 여행 대전.csv\r\n",
      "│   ├── 뿌리공원 여행 주말에.csv\r\n",
      "│   └── 뿌리공원 관광 주말에.csv\r\n",
      "├── \u001b[01;34m한밭야구장\u001b[00m\r\n",
      "│   ├── 한밭야구장 관광 대전.csv\r\n",
      "│   ├── 한밭야구장 여행 대전.csv\r\n",
      "│   ├── 한밭야구장 여행 후기.csv\r\n",
      "│   ├── 한밭야구장 관광 주말에.csv\r\n",
      "│   └── 한밭야구장 여행 주말에.csv\r\n",
      "├── \u001b[01;34m한밭수목원\u001b[00m\r\n",
      "│   ├── 한밭수목원 관광 후기.csv\r\n",
      "│   ├── 한밭수목원 여행 대전.csv\r\n",
      "│   ├── 한밭수목원 관광 대전.csv\r\n",
      "│   ├── 한밭수목원 여행 후기.csv\r\n",
      "│   ├── 한밭수목원 여행 주말에.csv\r\n",
      "│   └── 한밭수목원 관광 주말에.csv\r\n",
      "├── \u001b[01;34m시민천문대\u001b[00m\r\n",
      "│   ├── 시민천문대 관광 대전.csv\r\n",
      "│   ├── 시민천문대 여행 대전.csv\r\n",
      "│   ├── 시민천문대 여행 후기.csv\r\n",
      "│   ├── 시민천문대 관광 후기.csv\r\n",
      "│   ├── 시민천문대 관광 주말에.csv\r\n",
      "│   └── 시민천문대 여행 주말에.csv\r\n",
      "├── \u001b[01;34m대전둘레산길\u001b[00m\r\n",
      "│   ├── 대전둘레산길 여행 후기.csv\r\n",
      "│   ├── 대전둘레산길 여행 대전.csv\r\n",
      "│   ├── 대전둘레산길 관광 후기.csv\r\n",
      "│   ├── 대전둘레산길 관광 대전.csv\r\n",
      "│   └── 대전둘레산길 여행 주말에.csv\r\n",
      "├── \u001b[01;34m국립중앙과학관\u001b[00m\r\n",
      "│   ├── 국립중앙과학관 관광 대전.csv\r\n",
      "│   ├── 국립중앙과학관 관광 후기.csv\r\n",
      "│   ├── 국립중앙과학관 여행 후기.csv\r\n",
      "│   ├── 국립중앙과학관 여행 대전.csv\r\n",
      "│   └── 국립중앙과학관 여행 주말에.csv\r\n",
      "├── \u001b[01;34m엑스포과학공원\u001b[00m\r\n",
      "│   ├── 엑스포과학공원 여행 대전.csv\r\n",
      "│   ├── 엑스포과학공원 관광 대전.csv\r\n",
      "│   ├── 엑스포과학공원 여행 후기.csv\r\n",
      "│   ├── 엑스포과학공원 관광 후기.csv\r\n",
      "│   ├── 엑스포과학공원 여행 주말에.csv\r\n",
      "│   └── 엑스포과학공원 관광 주말에.csv\r\n",
      "├── \u001b[01;34m대전문화예술단지\u001b[00m\r\n",
      "│   ├── 이응노미술관 관광 대전.csv\r\n",
      "│   ├── 이응노미술관 여행 후기.csv\r\n",
      "│   ├── 이응노미술관 관광 후기.csv\r\n",
      "│   ├── 이응노미술관 여행 대전.csv\r\n",
      "│   ├── 이응노미술관 관광 주말에.csv\r\n",
      "│   ├── 이응노미술관 여행 주말에.csv\r\n",
      "│   ├── 대전예술의전당 관광 후기.csv\r\n",
      "│   ├── 대전예술의전당 여행 후기.csv\r\n",
      "│   ├── 대전시립미술관 관광 후기.csv\r\n",
      "│   ├── 대전시립미술관 관광 대전.csv\r\n",
      "│   ├── 대전예술의전당 관광 대전.csv\r\n",
      "│   ├── 대전시립미술관 여행 후기.csv\r\n",
      "│   ├── 대전예술의전당 여행 대전.csv\r\n",
      "│   ├── 대전시립미술관 여행 대전.csv\r\n",
      "│   ├── 대전예술의전당 여행 주말에.csv\r\n",
      "│   ├── 대전시립미술관 여행 주말에.csv\r\n",
      "│   ├── 대전시립미술관 관광 주말에.csv\r\n",
      "│   └── 대전예술의전당 관광 주말에.csv\r\n",
      "└── \u001b[01;34m으느정이문화의거리\u001b[00m\r\n",
      "    ├── 으능정이문화의거리 관광 대전.csv\r\n",
      "    └── 으능정이문화의거리 여행 대전.csv\r\n",
      "\r\n",
      "17 directories, 103 files\r\n"
     ]
    }
   ],
   "source": [
    "# jungcheck 폴더내 경로 확인 \n",
    "!tree -L 3 -N ./data/naver_review  "
   ]
  },
  {
   "cell_type": "markdown",
   "id": "d0fcc730",
   "metadata": {},
   "source": [
    "## Data Load "
   ]
  },
  {
   "cell_type": "code",
   "execution_count": 110,
   "id": "cb142191",
   "metadata": {},
   "outputs": [],
   "source": [
    "import os \n",
    "import pandas as pd \n",
    "import glob"
   ]
  },
  {
   "cell_type": "code",
   "execution_count": 246,
   "id": "06592b43",
   "metadata": {
    "scrolled": true
   },
   "outputs": [
    {
     "data": {
      "text/plain": [
       "'/home/aiffel-dj19/jungcheck/DataPreprocessing/data/naver_review/'"
      ]
     },
     "execution_count": 246,
     "metadata": {},
     "output_type": "execute_result"
    }
   ],
   "source": [
    "data_path = os.path.join(os.getcwd(), 'data/naver_review/')\n",
    "data_path"
   ]
  },
  {
   "cell_type": "code",
   "execution_count": 112,
   "id": "5328adf1",
   "metadata": {
    "scrolled": true
   },
   "outputs": [
    {
     "data": {
      "text/plain": [
       "17"
      ]
     },
     "execution_count": 112,
     "metadata": {},
     "output_type": "execute_result"
    }
   ],
   "source": [
    "folders = os.listdir(data_path)\n",
    "len(folders)"
   ]
  },
  {
   "cell_type": "code",
   "execution_count": 113,
   "id": "8f64f92d",
   "metadata": {},
   "outputs": [],
   "source": [
    "keywords = ['장태산',\n",
    " '계족산',\n",
    " '동춘당',\n",
    " '으능정이문화의거리',\n",
    " '뿌리공원',\n",
    " '엑스포',\n",
    " '성심당',\n",
    " '수통골',\n",
    " '유성온천',\n",
    " '한밭수목원',\n",
    " '국립중앙과학관',\n",
    " '대청호',\n",
    " '대전문화예술단지',\n",
    " '시민천문대',\n",
    " '오월드',\n",
    " '한밭야구장',\n",
    " '대전둘레산길']"
   ]
  },
  {
   "cell_type": "code",
   "execution_count": 114,
   "id": "865b2a0a",
   "metadata": {
    "scrolled": false
   },
   "outputs": [
    {
     "name": "stdout",
     "output_type": "stream",
     "text": [
      "17\n",
      "['장태산', '계족산', '동춘당', '으능정이문화의거리', '뿌리공원', '엑스포', '성심당', '수통골', '유성온천', '한밭수목원', '국립중앙과학관', '대청호', '대전문화예술단지', '시민천문대', '오월드', '한밭야구장', '대전둘레산길']\n"
     ]
    }
   ],
   "source": [
    "# keywords = list(set([file_name.split()[0] for file_name in files]))\n",
    "print(len(keywords))\n",
    "print(keywords)"
   ]
  },
  {
   "cell_type": "code",
   "execution_count": 115,
   "id": "a8bfc044",
   "metadata": {},
   "outputs": [
    {
     "data": {
      "text/plain": [
       "{'장태산': [],\n",
       " '계족산': [],\n",
       " '동춘당': [],\n",
       " '으능정이문화의거리': [],\n",
       " '뿌리공원': [],\n",
       " '엑스포': [],\n",
       " '성심당': [],\n",
       " '수통골': [],\n",
       " '유성온천': [],\n",
       " '한밭수목원': [],\n",
       " '국립중앙과학관': [],\n",
       " '대청호': [],\n",
       " '대전문화예술단지': [],\n",
       " '시민천문대': [],\n",
       " '오월드': [],\n",
       " '한밭야구장': [],\n",
       " '대전둘레산길': []}"
      ]
     },
     "execution_count": 115,
     "metadata": {},
     "output_type": "execute_result"
    }
   ],
   "source": [
    "keywords = {k:[] for k in keywords}\n",
    "keywords"
   ]
  },
  {
   "cell_type": "markdown",
   "id": "d08d89e8",
   "metadata": {},
   "source": [
    "dataframe만들때 keyword 동일하게 넣어줄것 => 하나의 데이터 프레임으로 만들어버리기 "
   ]
  },
  {
   "cell_type": "code",
   "execution_count": 116,
   "id": "e345ebc3",
   "metadata": {
    "scrolled": true
   },
   "outputs": [
    {
     "data": {
      "text/plain": [
       "{'장태산': 'jangtae_mountain',\n",
       " '계족산': 'gyejok_mountain',\n",
       " '동춘당': 'dongchundang',\n",
       " '으능정이문화의거리': 'uineungjeongi_street',\n",
       " '뿌리공원': 'ppuri_park',\n",
       " '엑스포': 'expo_science_park',\n",
       " '성심당': 'sungsimdang_bakery',\n",
       " '수통골': 'water_barrel',\n",
       " '유성온천': 'yuseong_hotspring',\n",
       " '한밭수목원': 'hanbat_arboretum',\n",
       " '국립중앙과학관': 'science_museum',\n",
       " '대청호': 'daecheong_lake',\n",
       " '대전문화예술단지': 'art_culture_complex',\n",
       " '시민천문대': 'observatory',\n",
       " '오월드': 'oworld_zoo',\n",
       " '한밭야구장': 'hanbat_baseball',\n",
       " '대전둘레산길': 'dullesan_street'}"
      ]
     },
     "execution_count": 116,
     "metadata": {},
     "output_type": "execute_result"
    }
   ],
   "source": [
    "# 대전관광 홈페이지 영문버전을 참고했으며(단, 긴 경우 줄임), 해당 리스트는 정제후 파일명으로 사용\n",
    "# 나오지 않는 관광지는 네이버 검색 기준을 따름\n",
    "keywords_ko = [file_name for file_name in keywords.keys()]\n",
    "keywords_en = ['jangtae_mountain', 'gyejok_mountain', 'dongchundang', 'uineungjeongi_street', 'ppuri_park', \n",
    "               'expo_science_park', 'sungsimdang_bakery', 'water_barrel', 'yuseong_hotspring', 'hanbat_arboretum', \n",
    "               'science_museum','daecheong_lake', 'art_culture_complex', 'observatory', \n",
    "               'oworld_zoo', 'hanbat_baseball', 'dullesan_street']\n",
    "\n",
    "keywords = {k:v for k, v in zip(keywords_ko, keywords_en)}\n",
    "keywords"
   ]
  },
  {
   "cell_type": "markdown",
   "id": "5294cf9e",
   "metadata": {},
   "source": [
    "## keyword 폴더 하위의 파일들을 하나의 데이터프레임으로 합치기"
   ]
  },
  {
   "cell_type": "code",
   "execution_count": 117,
   "id": "262332e8",
   "metadata": {},
   "outputs": [],
   "source": [
    "# keyword = '오월드'\n",
    "# keyword_en = 'oworld_zoo'"
   ]
  },
  {
   "cell_type": "code",
   "execution_count": 118,
   "id": "e3982523",
   "metadata": {},
   "outputs": [],
   "source": [
    "# keyword = '한밭야구장'\n",
    "# keyword_en = 'hanbat_baseball'"
   ]
  },
  {
   "cell_type": "code",
   "execution_count": 119,
   "id": "fbd8cf2d",
   "metadata": {},
   "outputs": [
    {
     "data": {
      "text/plain": [
       "'sungsimdang_bakery'"
      ]
     },
     "execution_count": 119,
     "metadata": {},
     "output_type": "execute_result"
    }
   ],
   "source": [
    "keyword = '성심당'\n",
    "keyword_en = keywords[keyword]\n",
    "keyword_en"
   ]
  },
  {
   "cell_type": "code",
   "execution_count": 120,
   "id": "57ed8c61",
   "metadata": {},
   "outputs": [
    {
     "name": "stdout",
     "output_type": "stream",
     "text": [
      "6\n",
      "['성심당 여행 후기.csv', '성심당 여행 주말에.csv', '성심당 여행 대전.csv', '성심당 관광 주말에.csv', '성심당 관광 대전.csv', '성심당 관광 후기.csv']\n"
     ]
    }
   ],
   "source": [
    "files = os.listdir(data_path + '/' + keyword)\n",
    "print(len(files))\n",
    "print(files)"
   ]
  },
  {
   "cell_type": "code",
   "execution_count": 121,
   "id": "56b92237",
   "metadata": {
    "scrolled": true
   },
   "outputs": [
    {
     "name": "stdout",
     "output_type": "stream",
     "text": [
      "['성심당 여행 후기.csv', '성심당 여행 주말에.csv', '성심당 여행 대전.csv', '성심당 관광 주말에.csv', '성심당 관광 대전.csv', '성심당 관광 후기.csv']\n"
     ]
    }
   ],
   "source": [
    "# 파일명에 키워드가 포함된 것만 파일리스트에 포함 \n",
    "files_list = []\n",
    "\n",
    "for file_name in files:\n",
    "#     print(file_name)\n",
    "#     for keyword in keywords.keys():\n",
    "    if keyword in file_name:\n",
    "        files_list.append(file_name)\n",
    "print(f'{files_list}')"
   ]
  },
  {
   "cell_type": "code",
   "execution_count": 122,
   "id": "75db4941",
   "metadata": {},
   "outputs": [],
   "source": [
    "# root_path내의 dataframe을 합해주는 함수\n",
    "def concatCsv(root_path:str, keys:dict, folder_name:str):\n",
    "    '''\n",
    "        root_path: 17개의 관광지 폴더를 가지고 있는 상위 폴더까지의 경로\n",
    "        keys: 17개 관광지 키워드 사전(한국어: 영어)\n",
    "        folder_name: 17개 관광지 중 1개의 관광지명으로 된 폴더명 \n",
    "    '''\n",
    "    data_list = []\n",
    "    folder_path = os.path.join(root_path, folder_name)\n",
    "    print(f'folder name: {folder_path}')\n",
    "\n",
    "    for file in os.listdir(folder_path):\n",
    "        file_path = os.path.join(folder_path, file)\n",
    "        print(f'file path: {file_path}')\n",
    "\n",
    "        df = pd.read_csv(file_path, names=['date', 'description', 'text', 'name'], encoding='utf-8') \n",
    "        search = file.split('.')[0] # 파일명에서 검색어 추출 \n",
    "        df['search'] = search\n",
    "        df['keyword'] = folder_name \n",
    "        data_list.append(df)\n",
    "        print(f'해당 파일의 데이터 개수: {len(df)}')\n",
    "        print('-'*40)\n",
    "        \n",
    "    df = pd.concat(data_list, axis=0)\n",
    "    \n",
    "    return df"
   ]
  },
  {
   "cell_type": "code",
   "execution_count": 123,
   "id": "fcf4f617",
   "metadata": {},
   "outputs": [
    {
     "data": {
      "text/plain": [
       "'/home/aiffel-dj19/jungcheck/data/naver_review/'"
      ]
     },
     "execution_count": 123,
     "metadata": {},
     "output_type": "execute_result"
    }
   ],
   "source": [
    "data_path"
   ]
  },
  {
   "cell_type": "code",
   "execution_count": 124,
   "id": "69ae4853",
   "metadata": {
    "scrolled": true
   },
   "outputs": [
    {
     "name": "stdout",
     "output_type": "stream",
     "text": [
      "folder name: /home/aiffel-dj19/jungcheck/data/naver_review/성심당\n",
      "file path: /home/aiffel-dj19/jungcheck/data/naver_review/성심당/성심당 여행 후기.csv\n",
      "해당 파일의 데이터 개수: 2\n",
      "----------------------------------------\n",
      "file path: /home/aiffel-dj19/jungcheck/data/naver_review/성심당/성심당 여행 주말에.csv\n",
      "해당 파일의 데이터 개수: 2\n",
      "----------------------------------------\n",
      "file path: /home/aiffel-dj19/jungcheck/data/naver_review/성심당/성심당 여행 대전.csv\n",
      "해당 파일의 데이터 개수: 3\n",
      "----------------------------------------\n",
      "file path: /home/aiffel-dj19/jungcheck/data/naver_review/성심당/성심당 관광 주말에.csv\n",
      "해당 파일의 데이터 개수: 10\n",
      "----------------------------------------\n",
      "file path: /home/aiffel-dj19/jungcheck/data/naver_review/성심당/성심당 관광 대전.csv\n",
      "해당 파일의 데이터 개수: 3\n",
      "----------------------------------------\n",
      "file path: /home/aiffel-dj19/jungcheck/data/naver_review/성심당/성심당 관광 후기.csv\n",
      "해당 파일의 데이터 개수: 1\n",
      "----------------------------------------\n"
     ]
    }
   ],
   "source": [
    "data_df = concatCsv(data_path, keywords, keyword)"
   ]
  },
  {
   "cell_type": "code",
   "execution_count": 125,
   "id": "087e5805",
   "metadata": {},
   "outputs": [
    {
     "data": {
      "text/html": [
       "<div>\n",
       "<style scoped>\n",
       "    .dataframe tbody tr th:only-of-type {\n",
       "        vertical-align: middle;\n",
       "    }\n",
       "\n",
       "    .dataframe tbody tr th {\n",
       "        vertical-align: top;\n",
       "    }\n",
       "\n",
       "    .dataframe thead th {\n",
       "        text-align: right;\n",
       "    }\n",
       "</style>\n",
       "<table border=\"1\" class=\"dataframe\">\n",
       "  <thead>\n",
       "    <tr style=\"text-align: right;\">\n",
       "      <th></th>\n",
       "      <th>date</th>\n",
       "      <th>description</th>\n",
       "      <th>text</th>\n",
       "      <th>name</th>\n",
       "      <th>search</th>\n",
       "      <th>keyword</th>\n",
       "    </tr>\n",
       "  </thead>\n",
       "  <tbody>\n",
       "    <tr>\n",
       "      <th>0</th>\n",
       "      <td>21.05.21</td>\n",
       "      <td>마시고 성심당에서 사온 크레페랑 먹으면서 재밌는얘기하고 티비로 왓챠 연결해서 잼난거...</td>\n",
       "      <td>\\n\\n부띠끄에서 만족스럽게 후식까지 조지고 숙소로 이동~\\n\\n8번 출구에서 찍죽...</td>\n",
       "      <td>열심히 좀 살자!!</td>\n",
       "      <td>성심당 여행 후기</td>\n",
       "      <td>성심당</td>\n",
       "    </tr>\n",
       "    <tr>\n",
       "      <th>1</th>\n",
       "      <td>21.05.21</td>\n",
       "      <td>간만에 5일의 휴가가 생겨서 대전으로 1박2일 여행을 갔다왔다 엄마한테는 혼자 출발...</td>\n",
       "      <td>\\n\\n \\n간만에 5일의 휴가가 생겨서 대전으로 1박2일 여행을 갔다왔다엄마한테는...</td>\n",
       "      <td>열심히 좀 살자!!</td>\n",
       "      <td>성심당 여행 후기</td>\n",
       "      <td>성심당</td>\n",
       "    </tr>\n",
       "    <tr>\n",
       "      <th>0</th>\n",
       "      <td>21.05.29</td>\n",
       "      <td>죽기 전에 가보고 싶은 국내 여행지 제주도 54. 추억이 있는 장소 대전 성심당 5...</td>\n",
       "      <td>\\n\\n1. 이름正恩(zhèngēn)2. 생일2003.01.023. 키170에서 -...</td>\n",
       "      <td>Hᴀᴘᴘʏ ᴅᴀɪʟʏ</td>\n",
       "      <td>성심당 여행 주말에</td>\n",
       "      <td>성심당</td>\n",
       "    </tr>\n",
       "    <tr>\n",
       "      <th>1</th>\n",
       "      <td>21.04.27</td>\n",
       "      <td>- 주말에 필 받아서 친구랑 성심당에서 빵먹고 오기. - 바람쐬고 싶으니 고속도로 ...</td>\n",
       "      <td>\\n\\n21년 4월 17일 : 대전여행다른 친구들 이야기 들어보면 사촌들과의 관계는...</td>\n",
       "      <td>그 녀석의 여행 이야기</td>\n",
       "      <td>성심당 여행 주말에</td>\n",
       "      <td>성심당</td>\n",
       "    </tr>\n",
       "    <tr>\n",
       "      <th>0</th>\n",
       "      <td>21.05.29</td>\n",
       "      <td>죽기 전에 가보고 싶은 국내 여행지 제주도 54. 추억이 있는 장소 대전 성심당 5...</td>\n",
       "      <td>\\n\\n1. 이름正恩(zhèngēn)2. 생일2003.01.023. 키170에서 -...</td>\n",
       "      <td>Hᴀᴘᴘʏ ᴅᴀɪʟʏ</td>\n",
       "      <td>성심당 여행 대전</td>\n",
       "      <td>성심당</td>\n",
       "    </tr>\n",
       "  </tbody>\n",
       "</table>\n",
       "</div>"
      ],
      "text/plain": [
       "       date                                        description  \\\n",
       "0  21.05.21  마시고 성심당에서 사온 크레페랑 먹으면서 재밌는얘기하고 티비로 왓챠 연결해서 잼난거...   \n",
       "1  21.05.21  간만에 5일의 휴가가 생겨서 대전으로 1박2일 여행을 갔다왔다 엄마한테는 혼자 출발...   \n",
       "0  21.05.29  죽기 전에 가보고 싶은 국내 여행지 제주도 54. 추억이 있는 장소 대전 성심당 5...   \n",
       "1  21.04.27  - 주말에 필 받아서 친구랑 성심당에서 빵먹고 오기. - 바람쐬고 싶으니 고속도로 ...   \n",
       "0  21.05.29  죽기 전에 가보고 싶은 국내 여행지 제주도 54. 추억이 있는 장소 대전 성심당 5...   \n",
       "\n",
       "                                                text          name  \\\n",
       "0  \\n\\n부띠끄에서 만족스럽게 후식까지 조지고 숙소로 이동~\\n\\n8번 출구에서 찍죽...    열심히 좀 살자!!   \n",
       "1  \\n\\n \\n간만에 5일의 휴가가 생겨서 대전으로 1박2일 여행을 갔다왔다엄마한테는...    열심히 좀 살자!!   \n",
       "0  \\n\\n1. 이름正恩(zhèngēn)2. 생일2003.01.023. 키170에서 -...   Hᴀᴘᴘʏ ᴅᴀɪʟʏ   \n",
       "1  \\n\\n21년 4월 17일 : 대전여행다른 친구들 이야기 들어보면 사촌들과의 관계는...  그 녀석의 여행 이야기   \n",
       "0  \\n\\n1. 이름正恩(zhèngēn)2. 생일2003.01.023. 키170에서 -...   Hᴀᴘᴘʏ ᴅᴀɪʟʏ   \n",
       "\n",
       "       search keyword  \n",
       "0   성심당 여행 후기     성심당  \n",
       "1   성심당 여행 후기     성심당  \n",
       "0  성심당 여행 주말에     성심당  \n",
       "1  성심당 여행 주말에     성심당  \n",
       "0   성심당 여행 대전     성심당  "
      ]
     },
     "execution_count": 125,
     "metadata": {},
     "output_type": "execute_result"
    }
   ],
   "source": [
    "data_df.head()"
   ]
  },
  {
   "cell_type": "code",
   "execution_count": 126,
   "id": "502a82ee",
   "metadata": {
    "scrolled": true
   },
   "outputs": [
    {
     "data": {
      "text/plain": [
       "21"
      ]
     },
     "execution_count": 126,
     "metadata": {},
     "output_type": "execute_result"
    }
   ],
   "source": [
    "len(data_df)"
   ]
  },
  {
   "cell_type": "markdown",
   "id": "6ed69648",
   "metadata": {},
   "source": [
    "## Data 확인"
   ]
  },
  {
   "cell_type": "markdown",
   "id": "d2f92276",
   "metadata": {},
   "source": [
    "1. 중복 데이터 확인 \n",
    "2. 중복 데이터 제거 \n",
    "3. 기간 19~21년도로 필터링"
   ]
  },
  {
   "cell_type": "code",
   "execution_count": 127,
   "id": "a45ad833",
   "metadata": {},
   "outputs": [
    {
     "name": "stdout",
     "output_type": "stream",
     "text": [
      "불러온 데이터셋은 2개의 블로그명이 겹칩니다.\n"
     ]
    }
   ],
   "source": [
    "# 블로그명 겹치는거 없는지 확인\n",
    "duplicated_name = len(data_df)-len(list(set(data_df['name'])))\n",
    "print(f'불러온 데이터셋은 {duplicated_name}개의 블로그명이 겹칩니다.')"
   ]
  },
  {
   "cell_type": "code",
   "execution_count": 128,
   "id": "2f8b81d6",
   "metadata": {},
   "outputs": [
    {
     "name": "stdout",
     "output_type": "stream",
     "text": [
      "불러온 데이터셋은 1개의 블로그명이 겹칩니다.\n"
     ]
    }
   ],
   "source": [
    "# 블로그 본문 겹치는거 없는지 확인\n",
    "duplicated_txt = len(data_df)-len(list(set(data_df['text'])))\n",
    "print(f'불러온 데이터셋은 {duplicated_txt}개의 블로그명이 겹칩니다.')"
   ]
  },
  {
   "cell_type": "code",
   "execution_count": 129,
   "id": "2eba912f",
   "metadata": {},
   "outputs": [
    {
     "name": "stdout",
     "output_type": "stream",
     "text": [
      "불러온 데이터셋은 1개의 블로그 내용이 겹칩니다.\n"
     ]
    }
   ],
   "source": [
    "# 블로그 아예 동일한 데이터 없는지 확인\n",
    "duplicated_df = data_df.duplicated(['date', 'text', 'name']).sum()\n",
    "print(f'불러온 데이터셋은 {duplicated_df}개의 블로그 내용이 겹칩니다.')"
   ]
  },
  {
   "cell_type": "code",
   "execution_count": 130,
   "id": "172e40f0",
   "metadata": {},
   "outputs": [
    {
     "data": {
      "text/plain": [
       "21"
      ]
     },
     "execution_count": 130,
     "metadata": {},
     "output_type": "execute_result"
    }
   ],
   "source": [
    "# 중복 제거 \n",
    "data_df = data_df.drop_duplicates(['date', 'description', 'name'])\n",
    "len(data_df)"
   ]
  },
  {
   "cell_type": "code",
   "execution_count": 131,
   "id": "db4b5d80",
   "metadata": {
    "scrolled": false
   },
   "outputs": [],
   "source": [
    "# 전체 option 확인\n",
    "# pd.describe_option()"
   ]
  },
  {
   "cell_type": "code",
   "execution_count": 132,
   "id": "b1ae41ee",
   "metadata": {
    "scrolled": true
   },
   "outputs": [
    {
     "name": "stdout",
     "output_type": "stream",
     "text": [
      "60\n",
      "20\n",
      "True\n"
     ]
    }
   ],
   "source": [
    "# get pandas option \n",
    "print(pd.get_option('display.max_rows'))\n",
    "print(pd.get_option('display.max_columns'))\n",
    "print(pd.get_option('display.expand_frame_repr'))"
   ]
  },
  {
   "cell_type": "code",
   "execution_count": 133,
   "id": "9750e031",
   "metadata": {
    "scrolled": true
   },
   "outputs": [],
   "source": [
    "# # set pandas option \n",
    "# pd.set_option('display.max_rows', None) # 전체 행 보기\n",
    "# pd.set_option('display.max_columns', None) # 전체 열 보기 \n",
    "# pd.set_option('display.expand_frame_repr', False)"
   ]
  },
  {
   "cell_type": "code",
   "execution_count": 134,
   "id": "5d882c80",
   "metadata": {},
   "outputs": [],
   "source": [
    "# date에서 '.' 제거후 str에서 int로 변환 \n",
    "for i in range(len(data_df['date'])):\n",
    "    data_df['date'].iloc[i] = int(str(data_df['date'].iloc[i]).replace('.',''))"
   ]
  },
  {
   "cell_type": "code",
   "execution_count": 135,
   "id": "af9999b1",
   "metadata": {
    "scrolled": true
   },
   "outputs": [],
   "source": [
    "# # date에서 str에서 int로 변환 \n",
    "# data_df['date'] = data_df['date'].apply(lambda row: int(row))\n",
    "# data_df.head()"
   ]
  },
  {
   "cell_type": "code",
   "execution_count": 136,
   "id": "d433a224",
   "metadata": {},
   "outputs": [
    {
     "data": {
      "text/plain": [
       "int"
      ]
     },
     "execution_count": 136,
     "metadata": {},
     "output_type": "execute_result"
    }
   ],
   "source": [
    "type(data_df['date'].iloc[0])"
   ]
  },
  {
   "cell_type": "code",
   "execution_count": 137,
   "id": "8f347007",
   "metadata": {},
   "outputs": [
    {
     "data": {
      "text/plain": [
       "[210529,\n",
       " 191012,\n",
       " 191018,\n",
       " 190923,\n",
       " 190922,\n",
       " 210425,\n",
       " 190702,\n",
       " 210415,\n",
       " 210320,\n",
       " 190321,\n",
       " 181109,\n",
       " 201014,\n",
       " 210521,\n",
       " 210427,\n",
       " 190525,\n",
       " 210526,\n",
       " 190623]"
      ]
     },
     "execution_count": 137,
     "metadata": {},
     "output_type": "execute_result"
    }
   ],
   "source": [
    "date_list = list(set(data_df['date']))\n",
    "date_list"
   ]
  },
  {
   "cell_type": "code",
   "execution_count": 138,
   "id": "3a241bd1",
   "metadata": {},
   "outputs": [],
   "source": [
    "data_df = data_df[data_df['date'] >= 190101]"
   ]
  },
  {
   "cell_type": "code",
   "execution_count": 139,
   "id": "5087d73b",
   "metadata": {},
   "outputs": [],
   "source": [
    "data_df = data_df[data_df['date'] <= 210501]"
   ]
  },
  {
   "cell_type": "code",
   "execution_count": 140,
   "id": "f11c3a8d",
   "metadata": {
    "scrolled": true
   },
   "outputs": [
    {
     "name": "stdout",
     "output_type": "stream",
     "text": [
      "필터링된 날짜는: [210529, 181109, 210521, 210526]\n"
     ]
    }
   ],
   "source": [
    "date_list = [i for i in date_list if i not in list(set(data_df['date']))]\n",
    "print(f'필터링된 날짜는: {date_list}')"
   ]
  },
  {
   "cell_type": "code",
   "execution_count": 141,
   "id": "48008e81",
   "metadata": {},
   "outputs": [
    {
     "data": {
      "text/plain": [
       "190321"
      ]
     },
     "execution_count": 141,
     "metadata": {},
     "output_type": "execute_result"
    }
   ],
   "source": [
    "data_df['date'].min()"
   ]
  },
  {
   "cell_type": "code",
   "execution_count": 142,
   "id": "a72c9ab4",
   "metadata": {
    "scrolled": true
   },
   "outputs": [
    {
     "data": {
      "text/plain": [
       "210427"
      ]
     },
     "execution_count": 142,
     "metadata": {},
     "output_type": "execute_result"
    }
   ],
   "source": [
    "data_df['date'].max()"
   ]
  },
  {
   "cell_type": "code",
   "execution_count": 143,
   "id": "ac9196b0",
   "metadata": {},
   "outputs": [
    {
     "data": {
      "text/plain": [
       "14"
      ]
     },
     "execution_count": 143,
     "metadata": {},
     "output_type": "execute_result"
    }
   ],
   "source": [
    "len(data_df)"
   ]
  },
  {
   "cell_type": "code",
   "execution_count": 144,
   "id": "c2995074",
   "metadata": {
    "scrolled": true
   },
   "outputs": [],
   "source": [
    "# list(set(data_df['text']))"
   ]
  },
  {
   "cell_type": "code",
   "execution_count": 145,
   "id": "487019b5",
   "metadata": {},
   "outputs": [
    {
     "data": {
      "text/html": [
       "<div>\n",
       "<style scoped>\n",
       "    .dataframe tbody tr th:only-of-type {\n",
       "        vertical-align: middle;\n",
       "    }\n",
       "\n",
       "    .dataframe tbody tr th {\n",
       "        vertical-align: top;\n",
       "    }\n",
       "\n",
       "    .dataframe thead th {\n",
       "        text-align: right;\n",
       "    }\n",
       "</style>\n",
       "<table border=\"1\" class=\"dataframe\">\n",
       "  <thead>\n",
       "    <tr style=\"text-align: right;\">\n",
       "      <th></th>\n",
       "      <th>date</th>\n",
       "      <th>description</th>\n",
       "      <th>text</th>\n",
       "      <th>name</th>\n",
       "      <th>search</th>\n",
       "      <th>keyword</th>\n",
       "    </tr>\n",
       "  </thead>\n",
       "  <tbody>\n",
       "    <tr>\n",
       "      <th>1</th>\n",
       "      <td>210427</td>\n",
       "      <td>- 주말에 필 받아서 친구랑 성심당에서 빵먹고 오기. - 바람쐬고 싶으니 고속도로 ...</td>\n",
       "      <td>\\n\\n21년 4월 17일 : 대전여행다른 친구들 이야기 들어보면 사촌들과의 관계는...</td>\n",
       "      <td>그 녀석의 여행 이야기</td>\n",
       "      <td>성심당 여행 주말에</td>\n",
       "      <td>성심당</td>\n",
       "    </tr>\n",
       "    <tr>\n",
       "      <th>0</th>\n",
       "      <td>191018</td>\n",
       "      <td>이제 주말에 여유 생길 테니 자주 볼 수 있으면 좋겠다.^^ 2019대전 : 20개...</td>\n",
       "      <td>\\n\\n2019대전 : 20개월 아기와 함께 당일치기 여행 (자차+KTX)첫차를 산...</td>\n",
       "      <td>봄날</td>\n",
       "      <td>성심당 관광 주말에</td>\n",
       "      <td>성심당</td>\n",
       "    </tr>\n",
       "    <tr>\n",
       "      <th>1</th>\n",
       "      <td>191012</td>\n",
       "      <td>- 2019년 10월 12일 토요일 주말에 신랑이 같이 일하는 형님들과 배낚시를 간...</td>\n",
       "      <td>\\n\\n-2019년 10월 12일 토요일 주말에 신랑이 같이 일하는 형님들과 배낚시...</td>\n",
       "      <td>; ] 양 뚱의 BLOG</td>\n",
       "      <td>성심당 관광 주말에</td>\n",
       "      <td>성심당</td>\n",
       "    </tr>\n",
       "    <tr>\n",
       "      <th>2</th>\n",
       "      <td>190923</td>\n",
       "      <td>음식을 성심당 것 차 이들이 경기권으로 제가 주말에 들어가서 많아 다 법령도 열심히...</td>\n",
       "      <td>\\n\\n안녕하세요날이 갈수록 서늘해지는 가을로 접어들었습니다. 활동하기 알맞은날씨와...</td>\n",
       "      <td>부산현수막</td>\n",
       "      <td>성심당 관광 주말에</td>\n",
       "      <td>성심당</td>\n",
       "    </tr>\n",
       "    <tr>\n",
       "      <th>3</th>\n",
       "      <td>190923</td>\n",
       "      <td>주말에 태풍소식이 ㅠㅠ 이전 태풍때는 바람만 불기도 했었고 그 전 태풍때 서울엔 흐...</td>\n",
       "      <td>\\n\\n대전온천여행이 되버린 주말, 유성호텔 수영장 + 대욕장에서 놀고왔어요저희가족...</td>\n",
       "      <td>서남매와 제주살이중_♥</td>\n",
       "      <td>성심당 관광 주말에</td>\n",
       "      <td>성심당</td>\n",
       "    </tr>\n",
       "  </tbody>\n",
       "</table>\n",
       "</div>"
      ],
      "text/plain": [
       "     date                                        description  \\\n",
       "1  210427  - 주말에 필 받아서 친구랑 성심당에서 빵먹고 오기. - 바람쐬고 싶으니 고속도로 ...   \n",
       "0  191018  이제 주말에 여유 생길 테니 자주 볼 수 있으면 좋겠다.^^ 2019대전 : 20개...   \n",
       "1  191012  - 2019년 10월 12일 토요일 주말에 신랑이 같이 일하는 형님들과 배낚시를 간...   \n",
       "2  190923  음식을 성심당 것 차 이들이 경기권으로 제가 주말에 들어가서 많아 다 법령도 열심히...   \n",
       "3  190923  주말에 태풍소식이 ㅠㅠ 이전 태풍때는 바람만 불기도 했었고 그 전 태풍때 서울엔 흐...   \n",
       "\n",
       "                                                text           name  \\\n",
       "1  \\n\\n21년 4월 17일 : 대전여행다른 친구들 이야기 들어보면 사촌들과의 관계는...   그 녀석의 여행 이야기   \n",
       "0  \\n\\n2019대전 : 20개월 아기와 함께 당일치기 여행 (자차+KTX)첫차를 산...             봄날   \n",
       "1  \\n\\n-2019년 10월 12일 토요일 주말에 신랑이 같이 일하는 형님들과 배낚시...  ; ] 양 뚱의 BLOG   \n",
       "2  \\n\\n안녕하세요날이 갈수록 서늘해지는 가을로 접어들었습니다. 활동하기 알맞은날씨와...          부산현수막   \n",
       "3  \\n\\n대전온천여행이 되버린 주말, 유성호텔 수영장 + 대욕장에서 놀고왔어요저희가족...   서남매와 제주살이중_♥   \n",
       "\n",
       "       search keyword  \n",
       "1  성심당 여행 주말에     성심당  \n",
       "0  성심당 관광 주말에     성심당  \n",
       "1  성심당 관광 주말에     성심당  \n",
       "2  성심당 관광 주말에     성심당  \n",
       "3  성심당 관광 주말에     성심당  "
      ]
     },
     "execution_count": 145,
     "metadata": {},
     "output_type": "execute_result"
    }
   ],
   "source": [
    "data_df.head()"
   ]
  },
  {
   "cell_type": "markdown",
   "id": "19f98d74",
   "metadata": {},
   "source": [
    "## 문장 분리 "
   ]
  },
  {
   "cell_type": "markdown",
   "id": "1d9e211f",
   "metadata": {},
   "source": [
    "토크나이저를 활용해 'text'에 해당하는 네이버 블로그 본문에 대한 문장 분리를 진행해줍니다. 이러한 문장 분리 관련한 자연어 처리를 Sentence boundary disambiguation(SBD)라고 합니다. 해당 키워드로 검색하면 관련한 자료들이 많이 나옵니다.\n",
    "* [kss(korean sentence splitter)](http://docs.likejazz.com/kss/) 활용 => 한글 SBD 해결에 유용\n",
    "* [spaCy](https://www.facebook.com/groups/TensorFlowKR/permalink/1025310851143306/) => 영어 SBD 해결에 유용"
   ]
  },
  {
   "cell_type": "code",
   "execution_count": 146,
   "id": "f470ed6e",
   "metadata": {},
   "outputs": [],
   "source": [
    "import kss "
   ]
  },
  {
   "cell_type": "code",
   "execution_count": 147,
   "id": "609e9086",
   "metadata": {},
   "outputs": [
    {
     "data": {
      "text/plain": [
       "[['과연 어떻게 할지 궁금합니다', '이거는 마침표없는 문장인데 어떻게 분리해낼까 할 수 있을까나 걱정됩니다']]"
      ]
     },
     "execution_count": 147,
     "metadata": {},
     "output_type": "execute_result"
    }
   ],
   "source": [
    "# 문장에 마침표 없는 경우 어떻게 문장 분리 수행하는지 확인\n",
    "test = ['과연 어떻게 할지 궁금합니다 이거는 마침표없는 문장인데 어떻게 분리해낼까 할 수 있을까나 걱정됩니다']\n",
    "test = list(map(kss.split_sentences, test)) # 문장으로 split\n",
    "test"
   ]
  },
  {
   "cell_type": "code",
   "execution_count": 148,
   "id": "fe0f5b20",
   "metadata": {},
   "outputs": [
    {
     "data": {
      "text/plain": [
       "[['과연 어떻게 할지 궁금하다 이거는 마침표없는 문장인데 어떻게 분리해낼까 할 수 있을까나 걱정됩니다']]"
      ]
     },
     "execution_count": 148,
     "metadata": {},
     "output_type": "execute_result"
    }
   ],
   "source": [
    "# 문장에 마침표 없는 경우 어떻게 문장 분리 수행하는지 확인\n",
    "test = ['과연 어떻게 할지 궁금하다 이거는 마침표없는 문장인데 어떻게 분리해낼까 할 수 있을까나 걱정됩니다']\n",
    "test = list(map(kss.split_sentences, test)) # 문장으로 split\n",
    "test"
   ]
  },
  {
   "cell_type": "code",
   "execution_count": 149,
   "id": "ecfa5628",
   "metadata": {
    "scrolled": false
   },
   "outputs": [],
   "source": [
    "data_df['text'] = data_df['text'].map(kss.split_sentences) # dataframe 문장으로 split"
   ]
  },
  {
   "cell_type": "code",
   "execution_count": 150,
   "id": "228b3fab",
   "metadata": {
    "scrolled": false
   },
   "outputs": [
    {
     "name": "stdout",
     "output_type": "stream",
     "text": [
      "88\n",
      "0번째 문장: 21년 4월 17일 : 대전여행다른 친구들 이야기 들어보면 사촌들과의 관계는 친구들보다 좀 벽이 있고 특별히 어려운 관계는 아니지만 그렇다고 일부러 연락해서 만나고 그러기엔 엄청 어색하다고..우리 집안이 좀 이상한건지 대부분의 사촌동생들과 아주 친하게 지낸다.\n",
      "1번째 문장: 자주 연락하고 같이 식사, 술 마시고 거리낌 없이 집에서 자고가기도 하고..아...\n",
      "2번째 문장: 참고로 아버지 집안의 형제가 7남매 + 어머니 집안은 8남매 대부분 2명의 자녀라 내 사촌들의 수는 엄청나다..\n",
      "3번째 문장: 크큽..사회 초년생의 사촌들은 아무래도 내가 삼촌같아서 잘 어울리긴 힘들고나이가 엇 비슷한 사촌들과 좀 더 친하긴 하다.\n",
      "4번째 문장: 그 사촌 동생들 중 JH이라는 사촌이 있는데 오랜기간 공부하고 연구해서 박사가 되더니최근까지 서울에 대학에서 연구를 하다가 올해 대전에 있는 연구소로 취업을 하였다.\n",
      "5번째 문장: 회사에 있는동안 오피스텔이나 기숙사에서 지낼걸 생각했더니 이래저래 해서 대전 둔산동에 집을 매입했고 내부 인테리어 마쳤다고 했다.\n",
      "6번째 문장: 집들이도 할겸, 동생 취업도 축하도 할겸마침 날씨는 좋은데 주말에 몸이 근질근질 하기도 했고1년정도의 장기간 코로나로 집에 더 뒹굴면 진짜 우울증 심하게 올것 같은 느낌이였다.\n",
      "7번째 문장: 그렇게 토요일 오후 차를 끌고 대전 둔산동 사촌집으로 갔다.\n",
      "8번째 문장: 야탑에 있는 회사에서 출발하였는데 2시간 좀 넘게 걸렸다.고속도로는 막히지 않았는데 혼자가려니 엄청 지루했다.\n",
      "9번째 문장: 둔산동 동생집 주차장에 차를 세우고 간단히 집 구경을 하고 대부분 만족스러웠지만정리 빈약한 부분 오지랍 하면서 갈구기도 하고 식사를 하러 나왔다.\n",
      "10번째 문장: 출발 전부터 오늘은 이상하게 양꼬치가 먹고 싶었다.\n",
      "11번째 문장: 지글지글한 양꼬치에 맥주가 너무나 땡기던날..사실 난 대전과 연관되는게 없어 주기적인 방문은 없다.\n",
      "12번째 문장: - 주말에 필 받아서 친구랑 성심당에서 빵먹고 오기.- 바람쐬고 싶으니 고속도로 운전해서 가다가 얼떨결에 대전에서 치킨먹고 올라오기- 토요일 오후 친구가 급하게 호출해서 뭔일인가하며 친구 차를 탔더니 대전에 거래에 혼자가기 심심하다며 납치당하기..- 야구 한참 빠져서 원정응원가기이렇게 방문한게 전부였다.\n",
      "13번째 문장: 그래서 대전에서 유명하다는 성심당엔 꼭 한번씩 갔었는데다른곳은 잘 모르니 항상 본점으로 갔었다.\n",
      "14번째 문장: 대전 은행동이였나?\n",
      "15번째 문장: 매번 방문하면서 느낀점은 많이 오래된 도시구나..\n",
      "16번째 문장: 주차를 좀 멀리하고 걷다보면 구도시 이미지가 강했다.\n",
      "17번째 문장: 그래서 몇번 가본적 없던 나에겐 대전은 노후된 도시... 이런 이미지만 있었는데대전도 구/신도시 이렇게 나뉘어있었고신도시 쪽은 화려함도 정말 으마으마하더라~~~사촌동생이 동네를 이동하며 여러 설명을 해줬는데아파트들도 수도권만큼 비싸고 학원가 옆 쪽 아파트는 최고가를 유지중이라고..그렇게 도시를 가로질러 식당과 술집이 있는곳에 도착했다.\n",
      "18번째 문장: \"라오푸양로\"사촌동생이 여기저기 검색해서 찾은 오늘의 양꼬치집.처음\n",
      "19번째 문장: 문을 열고 들어갔는데 어라?\n",
      "20번째 문장: 왜 가운데 테이블에 양꼬치 불판이 없지????\n",
      "21번째 문장: 카운터에 물어보니 구워서 준다고 하신다.\n",
      "22번째 문장: 냄새도 안나고 귀찮지 않아서 좋겠네 생각하고 양꼬치, 양갈비, 라즈지(매운닭 튀김) 이렇게 세가지와 칭타오 맥주를 시켰다.\n",
      "23번째 문장: 와우~ 양꼬치도 맛있었지만 특히 라즈지 저 닭고기 요리가 엄청~~ 맛있었다.\n",
      "24번째 문장: 하이볼을 좋아해서 처음보는 '양하대곡 하이볼'도 시켜봤는데중국술 향을 좋아하지 않는 나에겐 위스키 하이볼보다는 별로..아주 맛있어서 양갈비를 추가로 시켜서 더 먹었는데불판이 없어서 그런지 배부름이 느껴질때 고기에 하얀 기름이 좀 올라와 느끼함이 있었다.\n",
      "25번째 문장: 불판위에서 기름을 다 짜내버리며 먹었으면 더 좋았겠네 하는 생각이 들었다.\n",
      "26번째 문장: 길거리 걸으며 식당들, 술집들 구경도 좀 하다가 실내 야구장이 있어서 들어가봤다.\n",
      "27번째 문장: 사촌은 오래전에 사회인 야구도 했던터라90km/h 속도 배팅을 도전했다.\n",
      "28번째 문장: 10개중에 2~3개 맞춘듯..'너 뭐하냐?? 겁내 못치네~~' 놀리고나도 잘 안되겠지 생각하며 도전했는데60~70km/h 배팅타석에서 8개정도 맞췄다.\n",
      "29번째 문장: 헐~술을 어중간하게 마신 상태라 치맥을 더 즐기기로 했다.\n",
      "30번째 문장: 개인적으로 치킨중에 가장 맛있다고 느끼는 굽네치킨을 먹자고 했고근처에 매장이 있어서 찾아갔다.\n",
      "31번째 문장: 직원분이 10시에 종료하는데 괜찮냐고 물어봤다.\n",
      "32번째 문장: '아니 토요일인데 왜 일찍 문 닫지 무슨 일 있으신가?'생각하며 사촌한데 이유를 물어보니 코로나로 영업단축 그래서 10시 종료라고... 헐~~~~~~~~내가 1년동안 밤에 식당에서 뭘 먹은적이 거의 없어 정말 생각도 못했었다.\n",
      "33번째 문장: 당시 9시였는데 1시간이면 충분하단 생각에 10시에 일어서겠다\n",
      "34번째 문장: 말씀드리고 오리지날 반 + 고추바사삭 반평소 먹고 싶었던 구성으로 주문을 했다.\n",
      "35번째 문장: 난 1인가구에 치킨 1마리를 혼자 먹지도 못하고 식으면 다음날 먹는걸 좋아하지 않아 누굴 만나지 않으면 치킨을 시키지 않는다.\n",
      "36번째 문장: 치킨이 먹고 싶을땐 가까운 KFC 가서 조각으로 한두개면 충분하다.\n",
      "37번째 문장: 그래서 이번 치킨은 정말 간만에 먹는 타 브랜드 치킨이였다.\n",
      "38번째 문장: 배가 찢어지게 불렀지만 그래도 아주 맛있더라.\n",
      "39번째 문장: 집까지는 3~4정거장..  좀 거리가 있긴했는데이런저런 이야기도 하면서 소화도 할겸 집으로 걸어들어왔다.\n",
      "40번째 문장: 집에 들어와 맥주 한캔을 더 마시고 유튜브로 최근 관심사 이야기 나누고새벽 3시까지 낄낄거리며 노닥거리다가 잠들었다.\n",
      "41번째 문장: 다음날 늦잠을 자고 게으름 피우다가브런치로 성심당에 가기로 했다.\n",
      "42번째 문장: 동생집에서는 '성심당 DCC'가 가까웠다.\n",
      "43번째 문장: 본점하고 맛이 다르지 않을까 걱정했는데 맛은 똑같다고 느꼈고 내부 규모만 좀 다른느낌. 성심당 DCC 지점이 본점보다 주차가 훨~~~~~씬 편하고 좋았다.\n",
      "44번째 문장: DCC가 뭐하는곳인지 전혀 몰랐는데 코엑스나 킨텍스처럼 전시, 강의 하는 그런곳이라 했다.\n",
      "45번째 문장: 일요일+코시국이라 건물 근처의 수 백대의 차들은 오직 성심당을 오기위한 차들이였다.가까운곳에 살았다면이곳에 있는 모든 빵을 다 맛봤을텐데....\n",
      "46번째 문장: 성심당 빵은 가격도 저렴하지만 정말 다~~ 맛있는듯.방문하는 손님이 정말 정말 많았고 계속 나오는 빵을 보고있으면어디서 이 많은 양을 다 생산 할 수 있을까??\n",
      "47번째 문장: 정말 궁금했다.\n",
      "48번째 문장: 평소라면 살찔게 두려워 건강한 빵 몇개를 넣어 함께 골랐을텐데여기 아무때나 올 수 있는곳 아니라서 최대한 자극적이고 비쥬얼이 화려한거 위주로 골랐다.\n",
      "49번째 문장: 쟁반에 빵을 들고 아무런 덮개없이 엘리베이터를 많은 사람들과 타려니 이 행동이 코시국에 맞는 일인가...\n",
      "50번째 문장: 옆에 에스컬레이터 있는데 운행을 안하고 답답한 엘리베이터만 이용이 가능했다.\n",
      "51번째 문장: 2층으로 올라가 커피를 주문하고 자리를 잡았는데 사람도 많고 좁다...\n",
      "52번째 문장: 빵을 하나하나 맛보면서 즐겼다.\n",
      "53번째 문장: 개인적으로는 부추빵이 최고!사촌은 단맛을 좋아하는데 초코를 듬뿍 뿌린 소보로를 최고로 여겼다.\n",
      "54번째 문장: 맨 마지막으로 초코 소보로를 먹었는데 그 전에 먹었던 모든 빵들이 기름져서 초코빵은 팥이나 빵맛은 안느껴지고 초코렛의 단맛과 진한맛만 느껴졌다.\n",
      "55번째 문장: 성심당 dcc 옆으로는 93 엑스포가 열렸던 곳이였다.\n",
      "56번째 문장: 추억속의 대전엑스포.. 당시 전국에서 모든 학생들 다 소풍으로 엑스포 오고국내 사람들 다 엑스포 구경한다고 대전오고 몇개 없는 TV채널에서는 맨날 엑스포 소식....당시에 난 이래저래 기회가 없어서 못왔었다.\n",
      "57번째 문장: 당시 가장 궁금했던건 엑스포에 만들어진 자기부상열차였는데탑승을 위한 대기시간이 엄청났고 속도가 너무 느려 하나도 재미 없었다고 듣기만 했었다.\n",
      "58번째 문장: 수 십년 뒤 상하이에 갔을때 공항-도심을 고속 자기부상열차를 타보고나서 느낀점은신기하긴 한데 열차와 크게 차이가 안느껴져 실망감이 좀 있었다.\n",
      "59번째 문장: 430km 속도는 짜릿하긴하더라...\n",
      "60번째 문장: 이후로 멀리서 한빛탑만 슬쩍 지나가면서 본게 전부였다.\n",
      "61번째 문장: 그리고 수십년이 지나 한빛탑을 첫 방문하는거라 기대감이 업 되었지만.점심시간이라고 문닫아서 못들어갔다.\n",
      "62번째 문장: 입장료도 저렴했는데..\n",
      "63번째 문장: 크흡..TV나 사진에서 봤을땐 무척이나 높아보였는데 아파트 7~8층 정도 전망대는 매력적이지 않았고모든게 이젠 추억속의 장소처럼 느껴질뿐이였다.한빛탑 옆에 베를린 장벽을 옮겨다놓은곳이 있었는데수 많은 낙서가 있었고 내용을 읽어보니 'ABC 왔다감~ 93년 0월 00일''CDF 영원히 사랑해~ 93년 0월 00일'이런 무의미한 낙서한 애들 지금 4~50대일텐데 꼭 여기와서 자신이 어렸을때 무슨짓을 했는지 본인 자녀들 데리고와서 반성하고 창피함 느꼈으면 좋겠다\n",
      "64번째 문장: 생각했다.\n",
      "65번째 문장: 차를 타고 연구소가 많은 연구단지 구경도 좀 하고 동생이 들어간 연구소도 확인했다.\n",
      "66번째 문장: 근처에 있는곳이 한강 둔치와 비슷한 대전 갑천이라는 곳이였는데 매우 크고 정비가 정말 잘되어서 참 아름다웠다.\n",
      "67번째 문장: 운전을 하면서 구경하다가 우리도 저곳에 가서 돗자리 펴고 음악이나 듣자고 꼬셔서다시 아파트에 차를 세우고 바로 옆 갑천 둔치로 내려와나무 그늘이 있는곳에 돗자리를 펴고 음악을 크게 틀어놓고 누웠다.\n",
      "68번째 문장: 분당 탄천이나 한강과 많이 비슷한 느낌.. 대충 준비해간 과일도 먹고 음료수도 먹고 누워있으니 편하고 좋다~ 난 남 눈치 안보는 스타일이라 여유롭게 즐기는데쑥스러움이 있는 동생은 멀리 걸으며 운동하는 사람들 시선 때문인지 쭈뼛쭈뼛 즐기지 못한다.\n",
      "69번째 문장: 크크큽탄천이나 한강엔 정말 많은 사람들이 주중이든 주말이든 돗자리나 그늘막 펴고 즐기는데이상하게 이곳은 운동하거나 자전거 타거나 산책나온 사람들뿐누구도 우리처럼 돗자리나 의자를 가져와 즐기지 않았다.\n",
      "70번째 문장: 2~3시간 음악듣고 이야기하고 풍경구경하고 농담도 나누고....정말 편한 시간을 보냈다.\n",
      "71번째 문장: 일요일이라 차량정체가 있어 밤에 올라갈 계획으로 느긋하게 즐겼다.\n",
      "72번째 문장: 놀았으니 또 먹어야지~~동생이 첫날부터 계속 추천했던 칼국수 집에 가기로 했다.\n",
      "73번째 문장: 집에서 별로 멀지 않은곳이고 사실 성심당부터 계속 배불러 걸어갔다.\n",
      "74번째 문장: 메뉴는 칼국수와 수육을 파는곳이라 했는데'응?? 제주 고기 칼국수 그런건가? 수육에 칼국수...궁합이 좀 이상한데...??' 라는 생각이 들었다.\n",
      "75번째 문장: 대선 칼국수라는 곳인데 내부에 수 많은 정치인, 유명인 사진들이 많았었고테이블이 정말 많은데 우리가 방문한 날은 한가한 시간이고 일요일이라 사람이 다른때보다 적다고 했다.\n",
      "76번째 문장: 수육은 좀 삼각형 형태로 잘라서 그런지 다른곳에서 먹었던 수육과 다른 쫄깃함이 좋았고독특한 고추장을 함께 줬는데 이거 정말로 고기와 궁합이 좋았다.\n",
      "77번째 문장: 처음\n",
      "78번째 문장: 수육 주문할땐 별로 안땡겼는데 몇점 먹어보니 멈출 수 없었던...이후 나온 칼국수는 고기칼국수와 비슷했고 면이 아주 특이했다...\n",
      "79번째 문장: 매우 미끄럽고 다른 칼국수집들보다 훨씬 얇은 느낌이였다...\n",
      "80번째 문장: 일본라멘 면발굵기 느낌..국물도 진하고 맛있었다.\n",
      "81번째 문장: 이틀동안 계속 먹어서 배가 터질것처럼 배불렀는데도 맛있으니 계속 들어가긴하더라...\n",
      "82번째 문장: 크~동생집으로 돌아오는 길에 소화제로 아메 한잔...쇼핑몰 구경도 좀 하고 정말 들어가보고 싶은 할리스 커피숍도 구경하고그렇게 느긋한 시간을 보내며 집으로 걸어왔다.\n",
      "83번째 문장: 저녁 8시 좀 넘어 차량정체가 많이 없어진것 확인을 하고 집으로 출발하였다.\n",
      "84번째 문장: 사촌과는 다음번엔 우리집에서 만나기로 하고 타지에서 혼자지만 잘 지내라고 인사하고 바잇을 외쳤다.\n",
      "85번째 문장: 이틀내내 대부분 동생이 돈을 냈는데 대접을 워낙 잘 받아서다음번에는 내가 돈을 좀 써야할듯..지금까지 대전 방문에 특별한 즐거움을 못찾아서사실 기대감 0%로 방문했던 대전이였는데정말 깨끗하고 맑은 도시와 음식들이 너무 맛있어서 즐거운 주말여행이 되었네..\n",
      "86번째 문장: 다음번에는 대전 구석구석을 더 여행해봐야겠다.\n",
      "87번째 문장: ---------------------------- 갑천에 누워서 음악이 좋고 풍경이 아름다워 지금 순간을 기록해야지 하면서일어나지도 않고 누워 촬영했더니 핸폰 떨어뜨릴뻔하고 노래 갑자기 끝나서 막 허겁지겁 앵글 바꾸고엉망이네 엉망~\n"
     ]
    }
   ],
   "source": [
    "# 문장별로 확인 \n",
    "test_list = data_df['text'].iloc[0]\n",
    "print(len(test_list)) # 문장 개수\n",
    "\n",
    "for i in range(len(test_list)): # 내용 확인\n",
    "    print(f'{i}번째 문장: {test_list[i]}')"
   ]
  },
  {
   "cell_type": "markdown",
   "id": "87038815",
   "metadata": {},
   "source": [
    "kss는 마침표가 없으면 한 문으로 인식하는 문제점이 있습니다. 그래서 normalize를 시도해서 한번 문장 정제를 거치고 split해봤습니다. 해도 안될시에는 [hanspell 라이브러리](https://ebbnflow.tistory.com/246)를 사용해볼 예정입니다."
   ]
  },
  {
   "cell_type": "markdown",
   "id": "3592f4ac",
   "metadata": {},
   "source": [
    "## 문단 정규표현식"
   ]
  },
  {
   "cell_type": "markdown",
   "id": "31492f2c",
   "metadata": {},
   "source": [
    "* [정규표현식 설명 블로그](https://blog.naver.com/PostView.nhn?blogId=wideeyed&logNo=221347960543)"
   ]
  },
  {
   "cell_type": "code",
   "execution_count": 151,
   "id": "e81761c6",
   "metadata": {},
   "outputs": [],
   "source": [
    "import re"
   ]
  },
  {
   "cell_type": "code",
   "execution_count": 152,
   "id": "39c157fa",
   "metadata": {
    "scrolled": false
   },
   "outputs": [],
   "source": [
    "def senPreprocessing(sen):\n",
    "    sen = re.sub(pattern='[-=+,#/\\:^$@*\\\"※~&%ㆍ』\\\\‘|\\(\\)\\[\\]\\<\\>`\\'…》]', repl='', string=sen)\n",
    "    sen = re.sub(pattern='[\\n\\xa0]', repl='', string=sen) \n",
    "    sen = re.sub(pattern='[ㄱ-ㅎㅏ-ㅣ]+', repl='', string=sen) \n",
    "    sen = re.sub(pattern='[?!~.]?', repl='', string=sen) # 마침표 역할하는 기호 제거 \n",
    "    sen = re.sub(pattern='\\s+', repl=' ', string=sen).strip()\n",
    "#     sen = re.sub(pattern='^[?]+', repl='', string=sen) \n",
    "#     sen = re.sub(pattern='^[!]+', repl='', string=sen) \n",
    "#     sen = re.sub(pattern='^[~]+', repl='', string=sen) \n",
    "    return sen"
   ]
  },
  {
   "cell_type": "code",
   "execution_count": 153,
   "id": "11ce110d",
   "metadata": {},
   "outputs": [
    {
     "data": {
      "text/plain": [
       "'dk 아'"
      ]
     },
     "execution_count": 153,
     "metadata": {},
     "output_type": "execute_result"
    }
   ],
   "source": [
    "senPreprocessing('dk         ㅋㅋㅋㅋㅋㅋ   아 ')"
   ]
  },
  {
   "cell_type": "markdown",
   "id": "d4760b1a",
   "metadata": {},
   "source": [
    "이후에 맞춤법 교정에서 띄어쓰기를 교정할때 문장이 애매하게 띄어쓰기 되어있는 것보다, 아예 이어붙어진 경우가 교정이 더 잘 됩니다."
   ]
  },
  {
   "cell_type": "code",
   "execution_count": 154,
   "id": "2936e07e",
   "metadata": {},
   "outputs": [],
   "source": [
    "from tqdm import tqdm"
   ]
  },
  {
   "cell_type": "code",
   "execution_count": 155,
   "id": "b37008e2",
   "metadata": {},
   "outputs": [
    {
     "name": "stdout",
     "output_type": "stream",
     "text": [
      "0번째 데이터: 88개의 문장\n",
      "1번째 데이터: 10개의 문장\n",
      "2번째 데이터: 25개의 문장\n",
      "3번째 데이터: 17개의 문장\n",
      "4번째 데이터: 42개의 문장\n",
      "5번째 데이터: 5개의 문장\n",
      "6번째 데이터: 14개의 문장\n",
      "7번째 데이터: 20개의 문장\n",
      "8번째 데이터: 51개의 문장\n",
      "9번째 데이터: 1개의 문장\n",
      "10번째 데이터: 46개의 문장\n",
      "11번째 데이터: 21개의 문장\n",
      "12번째 데이터: 2개의 문장\n",
      "13번째 데이터: 79개의 문장\n"
     ]
    }
   ],
   "source": [
    "for i in range(len(data_df)):\n",
    "    length = len(data_df['text'].iloc[i])\n",
    "    print(f'{i}번째 데이터: {length}개의 문장')"
   ]
  },
  {
   "cell_type": "code",
   "execution_count": 156,
   "id": "c4ef0207",
   "metadata": {},
   "outputs": [
    {
     "name": "stderr",
     "output_type": "stream",
     "text": [
      "100%|██████████| 14/14 [00:00<00:00, 460.52it/s]\n"
     ]
    }
   ],
   "source": [
    "# dataframe 각 행내 리스트로 된 문장 단위 글에 정규표현식 적용\n",
    "for i in tqdm(range(len(data_df))):\n",
    "    data_list = data_df['text'].iloc[i]\n",
    "    data_df['text'].iloc[i] = list(map(senPreprocessing, data_list)) "
   ]
  },
  {
   "cell_type": "code",
   "execution_count": 157,
   "id": "51bd5568",
   "metadata": {
    "scrolled": true
   },
   "outputs": [
    {
     "name": "stdout",
     "output_type": "stream",
     "text": [
      "88\n",
      "0번째 문장: 21년 4월 17일 대전여행다른 친구들이야기 들어보면 사촌들과의 관계는친구들보다 좀 벽이 있고 특별히 어려운 관계는 아니지만그렇다고 일부러 연락해서 만나고 그러기엔 엄청 어색하다고우리 집안이 좀 이상한건지 대부분의 사촌동생들과 아주 친하게 지낸다\n",
      "1번째 문장: 자주 연락하고 같이 식사 술 마시고 거리낌 없이 집에서 자고가기도 하고아\n",
      "2번째 문장: 참고로 아버지 집안의 형제가 7남매 어머니 집안은8남매대부분 2명의 자녀라 내 사촌들의 수는엄청나다\n",
      "3번째 문장: 크큽사회 초년생의 사촌들은 아무래도 내가 삼촌같아서 잘 어울리긴 힘들고나이가 엇 비슷한 사촌들과 좀 더 친하긴 하다\n",
      "4번째 문장: 그 사촌 동생들 중 JH이라는 사촌이 있는데 오랜기간 공부하고 연구해서 박사가 되더니최근까지 서울에 대학에서 연구를 하다가 올해 대전에 있는 연구소로취업을 하였다\n",
      "5번째 문장: 회사에 있는동안 오피스텔이나 기숙사에서 지낼걸 생각했더니 이래저래 해서 대전 둔산동에집을 매입했고 내부 인테리어 마쳤다고 했다\n",
      "...\n"
     ]
    }
   ],
   "source": [
    "# 문장별로 확인 \n",
    "test_list = data_df['text'].iloc[0]\n",
    "print(len(test_list)) # 문장 개수\n",
    "\n",
    "for i in range(len(test_list)): # 5문장 정도만 내용 확인\n",
    "    print(f'{i}번째 문장: {test_list[i]}')\n",
    "    if i == 5: \n",
    "        print('...')\n",
    "        break"
   ]
  },
  {
   "cell_type": "code",
   "execution_count": 158,
   "id": "5536e195",
   "metadata": {},
   "outputs": [
    {
     "name": "stdout",
     "output_type": "stream",
     "text": [
      "그랬습니다.\n"
     ]
    }
   ],
   "source": [
    "# 맺음말?에 해당하는 경우 .를 붙여줍니다.\n",
    "sent ='그랬습니다' \n",
    "if sent[-1] in ['다', '요', '죠', '오', '자', '라', '가', '네']:\n",
    "    print(sent + '.')"
   ]
  },
  {
   "cell_type": "code",
   "execution_count": 159,
   "id": "340ec1a9",
   "metadata": {},
   "outputs": [],
   "source": [
    "def dotAdd(sen):\n",
    "    for end in ['다', '요', '죠', '오', '자', '라', '가', '네', '나', '까']:\n",
    "        if sen.endswith(end):\n",
    "            sen = sen + '.'\n",
    "    return sen"
   ]
  },
  {
   "cell_type": "code",
   "execution_count": 160,
   "id": "4a3a1b34",
   "metadata": {},
   "outputs": [
    {
     "data": {
      "text/plain": [
       "['점심먹고 좀 쉬다 다시 출발해서 전북 익산 진입길가에 바람개비가 이뻐서 한컷또 달려서 논산 강경쯤 도착논산훈련소 앞에 한번 가볼까 했는데거리가 꽤 멀어서 패스 이동네는 젓갈이 유명한가보네부여에 진입백제의 수도답게 회전교차로 중간에 떡하니 백제 금동대향로가 있네여기서 부여 박물관에 한번 가보고 싶었는데 시간이 늦어져서 그냥 지나왔다백제보 와서 잠깐 휴식멈춘김에 전망대에 한번 올라가볼까안에 들어오니 에어컨이 안돌고 있어서 엄청나게 더움망원경으로 여기저기를 둘러볼수 있다백제보백제보는 계백장군이 탄 말의 안장을 형상화 했다고 한다금강 상류쪽을 바라본다오늘도 날씨가 좋아서 참 다행이네멈추면 좀 덥고 달리면 차가운바람때문에 좀 쌀쌀한 느낌세종시 도착네비가 안내하는대로 가다보니 길이 갑자기 사라졌다.',\n",
       " '여긴 어디 난 누구인가.',\n",
       " '오늘 마지막 종착지인 대청호에 도착대청호에 반사된 하늘이 너무 이쁘다가슴이 탁 트이는구만파노라마 한컷 찍어줌금강 최상류 대청댐일부러 강을 따라 계속 움직였는데옛날 강주변을 따라 항상 도시가 형성되어왔고그래서 그길을 따라오는것이 볼게 많았던거 같다해가 지기전에 대구 시내에 도착했다멀리 한빛탑이 보이네대전하면 제일 먼저 떠오르는게 이 탑 아닐까 꿈돌이도 아직 있네무슨행사를 준비하는지 광장이 정신이 없다주말에 태풍온다.',\n",
       " '했는데',\n",
       " '대전 왔으니 성심당 성심당 본점은 좀 멀리 있어서호텔 근처에 있는 대전 컨벤션 센터점에 왔다저녁도 빵인가 합체튀김소보로랑 생도넛 부추빵을 샀다들고 호텔로 토요코인 대전점여긴 대구점에 비해서 건물이 엄청 크네싱글룸이 없어서 디럭스룸으로 했다만원정도 더 비싼데 방이 완전 허허벌판 싱글룸은 좀 비좁았는데 넓어서 좋긴좋구만세탁기도 있고 조리대와 싱크대도 있다1인용 식기도 준비되어있음음료수 시원하게 먹으려고 1층가서 얼음을 잔뜩 받아왔다시내가서 닭강정을 사오려다가 바로앞에 맘스터치가 있길래 치킨을 사왔다맘스터치 찜햇닭강정살짝 매운데 깐풍기 느낌도 나고 맛있다배부르게 먹고 티비 보다가 잠듬']"
      ]
     },
     "execution_count": 160,
     "metadata": {},
     "output_type": "execute_result"
    }
   ],
   "source": [
    "list(map(dotAdd, data_df['text'].iloc[i]))[:5]"
   ]
  },
  {
   "cell_type": "code",
   "execution_count": 161,
   "id": "bd039f42",
   "metadata": {
    "scrolled": false
   },
   "outputs": [
    {
     "name": "stderr",
     "output_type": "stream",
     "text": [
      "100%|██████████| 14/14 [00:00<00:00, 3580.94it/s]\n"
     ]
    }
   ],
   "source": [
    "for i in tqdm(range(len(data_df))):\n",
    "    data_list = data_df['text'].iloc[i]\n",
    "    data_df['text'].iloc[i] = list(map(dotAdd, data_list)) "
   ]
  },
  {
   "cell_type": "code",
   "execution_count": 162,
   "id": "2197b0b8",
   "metadata": {
    "scrolled": false
   },
   "outputs": [
    {
     "name": "stdout",
     "output_type": "stream",
     "text": [
      "0번째 데이터: ['21년 4월 17일 대전여행다른 친구들이야기 들어보면 사촌들과의 관계는친구들보다 좀 벽이 있고 특별히 어려운 관계는 아니지만그렇다고 일부러 연락해서 만나고 그러기엔 엄청 어색하다고우리 집안이 좀 이상한건지 대부분의 사촌동생들과 아주 친하게 지낸다.', '자주 연락하고 같이 식사 술 마시고 거리낌 없이 집에서 자고가기도 하고아', '참고로 아버지 집안의 형제가 7남매 어머니 집안은8남매대부분 2명의 자녀라 내 사촌들의 수는엄청나다.', '크큽사회 초년생의 사촌들은 아무래도 내가 삼촌같아서 잘 어울리긴 힘들고나이가 엇 비슷한 사촌들과 좀 더 친하긴 하다.', '그 사촌 동생들 중 JH이라는 사촌이 있는데 오랜기간 공부하고 연구해서 박사가 되더니최근까지 서울에 대학에서 연구를 하다가 올해 대전에 있는 연구소로취업을 하였다.', '회사에 있는동안 오피스텔이나 기숙사에서 지낼걸 생각했더니 이래저래 해서 대전 둔산동에집을 매입했고 내부 인테리어 마쳤다고 했다.', '집들이도 할겸 동생 취업도 축하도 할겸마침 날씨는 좋은데 주말에 몸이 근질근질 하기도 했고1년정도의 장기간 코로나로 집에 더 뒹굴면 진짜 우울증 심하게 올것 같은느낌이였다.', '그렇게 토요일 오후 차를 끌고 대전 둔산동 사촌집으로 갔다.', '야탑에 있는 회사에서 출발하였는데 2시간 좀 넘게 걸렸다고속도로는 막히지 않았는데 혼자가려니 엄청 지루했다.', '둔산동 동생집 주차장에 차를 세우고간단히 집 구경을 하고 대부분 만족스러웠지만정리 빈약한 부분 오지랍 하면서 갈구기도 하고 식사를 하러 나왔다.', '출발 전부터 오늘은 이상하게 양꼬치가 먹고 싶었다.', '지글지글한 양꼬치에 맥주가 너무나 땡기던날사실 난 대전과 연관되는게 없어 주기적인 방문은없다.', '주말에 필 받아서 친구랑 성심당에서 빵먹고 오기 바람쐬고 싶으니 고속도로 운전해서 가다가 얼떨결에 대전에서 치킨먹고 올라오기 토요일 오후 친구가 급하게 호출해서 뭔일인가하며 친구 차를 탔더니대전에 거래에 혼자가기 심심하다며 납치당하기 야구 한참 빠져서 원정응원가기이렇게 방문한게 전부였다.', '그래서 대전에서 유명하다는 성심당엔 꼭 한번씩 갔었는데다른곳은 잘 모르니 항상 본점으로 갔었다.', '대전 은행동이였나.', '매번 방문하면서 느낀점은 많이 오래된 도시구나.', '주차를 좀 멀리하고 걷다보면 구도시 이미지가 강했다.', '그래서 몇번 가본적 없던 나에겐 대전은 노후된 도시 이런 이미지만 있었는데대전도 구신도시 이렇게 나뉘어있었고신도시 쪽은 화려함도 정말 으마으마하더라사촌동생이 동네를 이동하며 여러 설명을 해줬는데아파트들도 수도권만큼 비싸고 학원가 옆 쪽 아파트는 최고가를 유지중이라고그렇게 도시를 가로질러 식당과 술집이 있는곳에 도착했다.', '라오푸양로사촌동생이 여기저기 검색해서 찾은 오늘의 양꼬치집처음', '문을 열고 들어갔는데 어라.', '왜 가운데 테이블에 양꼬치 불판이 없지', '카운터에 물어보니 구워서 준다고 하신다.', '냄새도 안나고 귀찮지 않아서 좋겠네 생각하고양꼬치 양갈비 라즈지매운닭튀김 이렇게 세가지와 칭타오 맥주를 시켰다.', '와우 양꼬치도 맛있었지만특히 라즈지 저 닭고기 요리가 엄청 맛있었다.', '하이볼을 좋아해서 처음보는 양하대곡 하이볼도 시켜봤는데중국술 향을 좋아하지 않는 나에겐 위스키 하이볼보다는 별로아주 맛있어서 양갈비를 추가로 시켜서 더 먹었는데불판이 없어서 그런지 배부름이 느껴질때 고기에 하얀 기름이 좀 올라와 느끼함이 있었다.', '불판위에서 기름을 다 짜내버리며 먹었으면 더 좋았겠네 하는 생각이 들었다.', '길거리 걸으며 식당들 술집들 구경도 좀 하다가 실내 야구장이 있어서 들어가봤다.', '사촌은 오래전에 사회인 야구도 했던터라90kmh 속도 배팅을 도전했다.', '10개중에 23개 맞춘듯너 뭐하냐 겁내 못치네 놀리고나도 잘 안되겠지 생각하며 도전했는데6070kmh 배팅타석에서 8개정도 맞췄다.', '헐술을 어중간하게 마신 상태라 치맥을 더 즐기기로 했다.', '개인적으로 치킨중에 가장 맛있다고 느끼는 굽네치킨을 먹자고 했고근처에 매장이 있어서 찾아갔다.', '직원분이 10시에 종료하는데 괜찮냐고 물어봤다.', '아니 토요일인데 왜 일찍 문 닫지 무슨 일 있으신가생각하며 사촌한데 이유를 물어보니코로나로 영업단축 그래서 10시 종료라고 헐내가 1년동안 밤에 식당에서 뭘 먹은적이 거의 없어 정말 생각도 못했었다.', '당시 9시였는데 1시간이면 충분하단 생각에 10시에 일어서겠다.', '말씀드리고오리지날 반 고추바사삭 반평소 먹고 싶었던 구성으로 주문을 했다.', '난 1인가구에치킨 1마리를 혼자 먹지도 못하고식으면 다음날 먹는걸 좋아하지 않아 누굴 만나지 않으면 치킨을 시키지 않는다.', '치킨이 먹고 싶을땐 가까운 KFC 가서 조각으로 한두개면 충분하다.', '그래서 이번 치킨은 정말 간만에 먹는 타 브랜드 치킨이였다.', '배가 찢어지게 불렀지만 그래도 아주 맛있더라.', '집까지는 34정거장 좀 거리가 있긴했는데이런저런 이야기도 하면서 소화도 할겸 집으로 걸어들어왔다.', '집에 들어와 맥주 한캔을 더 마시고유튜브로 최근 관심사 이야기 나누고새벽 3시까지 낄낄거리며 노닥거리다가 잠들었다.', '다음날 늦잠을 자고 게으름 피우다가브런치로 성심당에 가기로했다.', '동생집에서는 성심당 DCC가 가까웠다.', '본점하고 맛이 다르지 않을까 걱정했는데맛은 똑같다고 느꼈고 내부 규모만 좀 다른느낌성심당 DCC 지점이 본점보다 주차가 훨씬 편하고 좋았다.', 'DCC가 뭐하는곳인지 전혀 몰랐는데 코엑스나 킨텍스처럼전시 강의 하는 그런곳이라 했다.', '일요일코시국이라 건물 근처의 수 백대의 차들은 오직 성심당을 오기위한 차들이였다가까운곳에 살았다면이곳에 있는 모든 빵을 다 맛봤을텐데', '성심당 빵은 가격도 저렴하지만 정말 다 맛있는듯방문하는 손님이 정말 정말 많았고 계속 나오는 빵을 보고있으면어디서 이 많은 양을 다 생산 할 수 있을까.', '정말 궁금했다.', '평소라면 살찔게 두려워 건강한 빵 몇개를 넣어 함께 골랐을텐데여기 아무때나 올 수 있는곳 아니라서최대한 자극적이고 비쥬얼이 화려한거 위주로 골랐다.', '쟁반에 빵을 들고 아무런 덮개없이 엘리베이터를 많은 사람들과 타려니이 행동이코시국에 맞는 일인가.', '옆에 에스컬레이터 있는데 운행을 안하고 답답한 엘리베이터만 이용이 가능했다.', '2층으로 올라가 커피를 주문하고 자리를 잡았는데 사람도 많고 좁다.', '빵을 하나하나 맛보면서 즐겼다.', '개인적으로는 부추빵이 최고사촌은 단맛을 좋아하는데 초코를 듬뿍 뿌린 소보로를 최고로 여겼다.', '맨 마지막으로 초코 소보로를 먹었는데그 전에 먹었던 모든 빵들이 기름져서 초코빵은 팥이나 빵맛은 안느껴지고 초코렛의 단맛과 진한맛만 느껴졌다.', '성심당 dcc 옆으로는 93 엑스포가 열렸던 곳이였다.', '추억속의 대전엑스포 당시 전국에서 모든 학생들 다 소풍으로 엑스포 오고국내 사람들 다 엑스포 구경한다고 대전오고몇개 없는 TV채널에서는 맨날 엑스포 소식당시에 난 이래저래 기회가 없어서 못왔었다.', '당시 가장 궁금했던건 엑스포에 만들어진 자기부상열차였는데탑승을 위한 대기시간이 엄청났고 속도가 너무 느려 하나도 재미 없었다고 듣기만 했었다.', '수 십년 뒤 상하이에 갔을때공항도심을 고속 자기부상열차를 타보고나서 느낀점은신기하긴 한데 열차와 크게 차이가 안느껴져 실망감이 좀 있었다.', '430km 속도는 짜릿하긴하더라.', '이후로 멀리서 한빛탑만 슬쩍 지나가면서 본게 전부였다.', '그리고 수십년이 지나 한빛탑을 첫 방문하는거라 기대감이 업 되었지만점심시간이라고 문닫아서 못들어갔다.', '입장료도 저렴했는데', '크흡TV나 사진에서 봤을땐 무척이나 높아보였는데 아파트 78층 정도 전망대는 매력적이지 않았고모든게 이젠 추억속의 장소처럼 느껴질뿐이였다한빛탑 옆에베를린 장벽을 옮겨다놓은곳이 있었는데수 많은 낙서가 있었고 내용을 읽어보니ABC 왔다감 93년 0월 00일CDF 영원히 사랑해 93년 0월 00일이런 무의미한 낙서한 애들 지금 450대일텐데꼭 여기와서 자신이 어렸을때 무슨짓을 했는지 본인 자녀들 데리고와서반성하고 창피함 느꼈으면 좋겠다.', '생각했다.', '차를 타고 연구소가 많은 연구단지 구경도 좀 하고 동생이 들어간 연구소도 확인했다.', '근처에 있는곳이 한강 둔치와 비슷한대전 갑천이라는 곳이였는데매우 크고 정비가 정말 잘되어서 참 아름다웠다.', '운전을 하면서 구경하다가 우리도저곳에 가서 돗자리 펴고 음악이나 듣자고 꼬셔서다시 아파트에 차를 세우고 바로 옆 갑천 둔치로 내려와나무 그늘이 있는곳에 돗자리를 펴고 음악을 크게 틀어놓고 누웠다.', '분당 탄천이나 한강과 많이 비슷한 느낌대충 준비해간 과일도 먹고 음료수도 먹고 누워있으니편하고 좋다난 남 눈치 안보는 스타일이라 여유롭게 즐기는데쑥스러움이 있는 동생은 멀리 걸으며 운동하는 사람들 시선 때문인지 쭈뼛쭈뼛 즐기지 못한다.', '크크큽탄천이나 한강엔 정말 많은 사람들이 주중이든 주말이든 돗자리나 그늘막펴고 즐기는데이상하게 이곳은 운동하거나 자전거 타거나 산책나온 사람들뿐누구도 우리처럼 돗자리나 의자를 가져와 즐기지 않았다.', '23시간 음악듣고 이야기하고 풍경구경하고 농담도 나누고정말 편한 시간을 보냈다.', '일요일이라 차량정체가 있어 밤에 올라갈 계획으로 느긋하게 즐겼다.', '놀았으니 또 먹어야지동생이 첫날부터 계속 추천했던 칼국수 집에 가기로 했다.', '집에서별로 멀지 않은곳이고 사실 성심당부터계속 배불러 걸어갔다.', '메뉴는 칼국수와 수육을 파는곳이라 했는데응 제주 고기 칼국수 그런건가 수육에 칼국수궁합이 좀 이상한데라는 생각이 들었다.', '대선 칼국수라는 곳인데 내부에 수 많은 정치인 유명인 사진들이 많았었고테이블이 정말 많은데 우리가 방문한 날은 한가한 시간이고 일요일이라 사람이 다른때보다 적다고 했다.', '수육은 좀 삼각형 형태로 잘라서 그런지 다른곳에서 먹었던 수육과 다른 쫄깃함이 좋았고독특한 고추장을 함께 줬는데 이거 정말로 고기와 궁합이 좋았다.', '처음', '수육 주문할땐 별로 안땡겼는데 몇점 먹어보니 멈출 수 없었던이후 나온 칼국수는 고기칼국수와 비슷했고 면이 아주 특이했다.', '매우 미끄럽고 다른 칼국수집들보다 훨씬 얇은 느낌이였다.', '일본라멘 면발굵기 느낌국물도 진하고 맛있었다.', '이틀동안 계속 먹어서 배가 터질것처럼 배불렀는데도 맛있으니 계속 들어가긴하더라.', '크동생집으로 돌아오는길에 소화제로 아메 한잔쇼핑몰 구경도 좀 하고 정말 들어가보고 싶은 할리스 커피숍도 구경하고그렇게 느긋한 시간을 보내며 집으로 걸어왔다.', '저녁 8시 좀 넘어 차량정체가 많이 없어진것 확인을 하고 집으로 출발하였다.', '사촌과는 다음번엔 우리집에서 만나기로 하고타지에서 혼자지만 잘 지내라고 인사하고 바잇을 외쳤다.', '이틀내내 대부분 동생이 돈을 냈는데 대접을 워낙 잘 받아서다음번에는 내가 돈을 좀 써야할듯지금까지 대전 방문에 특별한 즐거움을못찾아서사실 기대감 0로 방문했던 대전이였는데정말 깨끗하고 맑은 도시와 음식들이 너무 맛있어서즐거운 주말여행이 되었네.', '다음번에는 대전 구석구석을 더 여행해봐야겠다.', '갑천에 누워서 음악이 좋고 풍경이 아름다워 지금 순간을 기록해야지하면서일어나지도 않고 누워 촬영했더니 핸폰 떨어뜨릴뻔하고 노래 갑자기 끝나서 막 허겁지겁 앵글 바꾸고엉망이네 엉망']\n",
      "1번째 데이터: ['2019대전 20개월 아기와 함께 당일치기 여행 자차KTX첫차를 산 동생에게 친절한 형부가 탁송서비스를 해주기로 했다.', '처음엔 K카의 탁송서비스를 이용할 생각이었으나 주행도 해보고 내부 정리도조금 해야 될 것 같아서그리고 구매 지점이 우리집과 가까워서 일단 집으로 차를 가져왔었다.', '덕분에 떠나게 된 대전여행나들이 좋아하는 루아는 신바람이 났다.', '늘 들르는 송산포도 휴게소에서 아침 겸 점심을 먹고 젤리도 조금 사고 아빠는 또 야구게임도 좀 하고 아홉시부터 나섰더니 길막힘 없이수월하게 대전까지 도착했다.', '20개월의 루아는 여전히 떼를 쓰는 시기지만 말을 알아들으니 달랠 수도 있게 되었다.', '이건 먹는게 아니야지지야 맘마먹고 놀이터가자 추우니까 옷입고 놀자덕분에 요즘 외출도 여행도 훨씬 수월하고 즐겁다.', '한 번만의 의미도 이해해주면 좋겠는데이건 일부러 안 배우는 걸까;;;', '으리으리한 둔산동 파스쿠찌우리와 연이 깊었던 대전 파스쿠찌 젤라또 아이스크림 한 컵을 주니 루아는 또 세상 행복해했다 나나 곰돌이는 달달한 간식을싫어하는 편인데 루아가 너무 행복해하니 가끔 뭐가 저렇게 좋을까 싶은 생각도 든다 어릴 땐 이렇게 아이스크림을 좋아했었겠지 동생에게 차를 전달하고 약간의 기능 설명과 주행을 해본후 헤어졌다 겁을 먹은듯한 동생 연수 꼭 잘 받아서 안전운전하길 이제 주말에 여유 생길 테니 자주 볼 수 있으면 좋겠다2019대전 20개월 아기와 함께당일치기여행 오월드대전에 온 김에 궁금했던 오월드클릭에 들러보기로 했다우리의 목적은 사파리였기에 입구에서 입장권만 끊고 안에서 사파리를 따로 끊었는데구경하다 보니 자유이용권을 끊을 걸 그랬나 후회했다 생각보다 유아가 탈만한 놀이기구가 많았고 개별 이용권 구매 시 생각보다 가격이 비쌌다약4000원입장권 성인 \\\\12000인사파리 성인\\\\6000인운영시간놀이기구 어린이 탑승 제한들어가자마자 사파리로 직행 루아는 지난 5월 에버랜드 사파리에 이어 두 번째 사파리 방문이데5월의 에버랜드는 조금 빨리 찾아온 더위와많은 인파와긴 줄 때문에 너무 힘들었었다그에 비하면 40여 분의 대기와 선선한 날씨곰 호랑이 사자 기린 타조 얼룩말생각보다 동물도 많아서 여기 오길 참 잘했다고 생각했다 잘 기다려줘서 고마워곰에 집중아빠가 싫어할 것 같은 급가족사진어흥어흥에버랜드 때와 달리 동물들에게 굉장히 집중하고 흉내를 내가며 너무 즐거워했다 5개월 사이에 이렇게 자랐구나인생첫 놀이기구 칙칙폭폭 기차여행 줄 서 있을 땐 안 탄다고 발버둥 치더니 출발하자 조금 놀란 눈치였고 내릴 때는 안 내린다고 떼를 썼다 달래는 엄마 마음도 참 아쉬웠단다폐장시간이 다 되서 오늘 사진은 왜 다 눈을 감은 건지 컨셉이었니성공적이었던 오월드 방문기 2시간 남짓한 짧은시간이었지만 알차고 좋았다 저녁은반갱 대전 퓨전 한식 레스토랑 반갱 20개월 아기와 다녀온 후기Clean 카테고리는 직접 알아보고 이용한 서비스에 직접 비용을 지불한 깨끗한 후기만을 작성합니다.', '여blognavercom여행의 끝에 맛집이 빠질 수는 없으니정부청사 근처 반갱이라는 퓨전 한식집에서 푸짐한 저녁까지 먹고 KTX를 타고 돌아왔다.', '2주 연속 KTX끝까지 기운 넘치는 딸내미대전여행에 성심당은 필수']\n",
      "2번째 데이터: ['2019년 10월 12일 토요일 주말에 신랑이 같이 일하는 형님들과 배낚시를 간다고 했었다.', '잘 다녀오라 했었드랬지', '헌데금요일 저녁같이 가겠냐며 묻길래 싫다 했더니 형님들은 먼저 출발해서 이른 새벽에 혼자 가야 한다고 하길래 따라 나섰다.', '신랑을 부두항에 내려놓고 나는 오래간만에 변산반도 국립공원 내소사에나 다녀올까 했었는데', '이른 새벽에 출발해야 해서 잠을 안 자려고 했는데', '잠 들면 못일어나고 더 피곤할것 같아서갈때야 운전은 신랑이 하겠지만은새벽 한 시에 잠 들어 두 시에 일어나선 짐 챙겨들고 새벽 2시 30분 대전 집에서 출발어우씨 되다;;;비응항에 도착하니 새벽 4시 조금 넘은항구에 낚시꾼들이 즐비하고 출항하려 배들도 준비하고 있고신랑은 일행들과 5시에 만나기로 했던지라 조금 대기신랑 보내놓고 잠깐 눈 좀 붙일까 해서 근처 해수욕장 주차장을 찾았는데 변산해수욕장;;;요즘 해수욕장이 폐장되었으니 조용할 듯 싶어 그 곳으로 향했다.', '약 30분간 새만금 방조제 위를 달려 도착한 변산 해수욕장역시나 조용하고 좋았다.', '창문을 쬐금 열어놓고챙겨온 쿠션을 베고 무릎담요 덮고차안에서 5시 30분즘 잠들었다가 밖에서캠핑 온 애랑 애엄마떠드는 소리에 9시 즈음 일어났다.', '어거지로 일어나서 편의점에서 깡생수 오백미리 일병 원샷하고급한 불도 끄고 변산해수욕장 구경조용하고조용하다.', '사람들도 많이 없고 주변에 식당 상가들도 없고 뱃속에 내용물도 없고배고파배고픔에 바다 풍경따위배부른 자들만 즐겨라.', '이른 아침에 내소사 가려고 했었는데 개뿔배고프니 군산시내로 나가야겠어', '군산시내에 있는 유명한 철길마을에 가면 맛집들이 있을듯 해서 왔는데 불량 식품들이랑 옛 교복 대여점만 있네.', '시부럴그래도 왔으니 구경을 하는데 관광버스로 이곳을 구경오는 사람들이 많아 좁은 길목이 터져터져;; 내 속도 터져동창들인지 지인들인지 묻지마관광인지중년의 남녀 무리들이 버스에서 주르륵 내리는 바람에그 무리에 섞여 철길을 걸어야했다.', '아주매들 방정맞은 웃음소리 아저씨들 고래고래 허세떠는 목청소리시끄럽고 시끄럽고 불편하다.', '울대를 한 대씩 훅훅배고파서 짜증이 더 남걷다가 문뜩 위를 보니 카페가 있길래 올라갔다.', '마침 목도 마르고 하니 아이스아메리카노 한잔샌드위치나 디저트 있으면 그것도 먹어야지 하며 올라갔는데 빈티지 소품가게커피는 직접 내려주는게 아니라 원두커피자판기에서 내려진 커피를 일회용 얼음컵에다만 넣어 줌깊은 커피의 향을 기대하진 말길커피가게에 잠깐 앉아있다가 보니 건너편에 이마트가 딱푸드코트로 gogo이마트에서 진한 고향의맛다시다을 느낄수있는 짬뽕밥을 먹고 대전 이마트에서는 못봤던 생활용품 사들고 이동원래는 이성당 빵집가려고 그쪽 방향으로 간거였는데 마침 근대역사박물관이 있길래 먼저들어갔다.', '입장료 성인 2000원군산의 명소이길래 들어와서 봤는데 옛 물건들을 전시하고 옛 가게들의 모습을 재현해 놓은 곳제주 갔을때 선녀와나무꾼을 보고 온지라.', '동학농민혁명관련 전시도 하고 있고 독립운동가들의 업적을 전시하고 있다.', '여기서도대한민국 아지매들의 불편하고 불쾌함들이그 아지매들도 무리지어 관광을 온 듯 했다.', '네다섯의 아지매 무리들 중 하나가독립운동가들의 성명이 한글로 적혀있는 장부를 보더니', '이름자가 뭐가 웃겨서 였을까.', '일행에게 이름을 큰 소리로말하더니 서로 깔깔깔 방정맞고 소란스럽게웃어대는데 아가리에 재갈을 물리고 싶었다.', '어느 젊은 애기엄마가 전시관 벽에 쓰여있던 낙서를 보더니 중국사람들 미개하다 하는데한국사람들이 더 하다고 하는 말이 딱이다.', '이성당은 빵사려는 사람들이 바글바글 해서 하이패스성심당이나 열심히 먹으련다입항시간이 3시라고 해서 시내에서 다시 비응항으로 돌아왔다.', '입항시간이 3시가 아니고 낚시를 마무리하는 시간이 3시라고;;;돌아올때까지 심심해서 이마트에서 사온 피규어 맞추면서 기달랜덤이라 똑같은거 나오면 어떡하나 했더니 다 다름뇨호호호철길마을에서 샀던 콩알탄도 몇개 터뜨려보고;;;수산물 시장에서 건어물 몇 가지랑 집 나간 며느리도 다시 돌아오게 한다는 전어 사들고 다시 대전집으로새벽에 집 나가서 전어 사들고 다시 집으로 돌아오다집에 올땐 내가 운전집에 오자마자 신랑은 씻더니 기절하듯 잠듦다신 갑오징어 갈치낚시배는 안타는걸로']\n",
      "3번째 데이터: ['안녕하세요날이 갈수록 서늘해지는 가을로 접어들었습니다.', '활동하기 알맞은날씨와 계절로 많은 분들이 여행을 생각하고 계실텐데요일시적으로 휴가철에만 즐기는 것이아니고 평생을 살면서 365일 아름다운조망을 누릴수 있는 아파트인세종 리버하이 를 알아봤습니다.', '금 강의 바로 앞자리에 15개동이 되겠습니다.', '넓은 평수부터 소형까지 구성되어 있어서 분들이 관심을 가지고 계신 상품이 되겠습니다.', '한눈에 강가뷰가 들어오는 곳으로 쾌적함이 타지역과는 확실하게 차이가 나겠습니다 시야를 가리는 건물들도 없이탁 트여져 있어서 멋진 영구조망권을 지니고 있습니다.', '건축개요를 살펴보면 매우 넓은부지를 확인할수 있겠고 지하1층에서 지상 4층 규모로 15개동에 201세대가 입주하게 됩니다.', '공동 주택과 부대 복리 시설로들어오게 됩니다지하주차장도 있고 306대의 자동차를 주차할 수 있었습니다.', '세종 리버하이 가 들어서 있는도시환경분석 내용을 살펴봤는데요.', '주변의 잘 갖춰진 공원과 문화 시설을 통해서 인구가 유입되는중이었고 고학력인 분들이 많아서 높은 소비력을 지니고계신 분들이 주로 거주하고 있었습니다.', '또한 주변 도시들과 상호보완적인관계로서 발전가능성을 엿볼 수 있겠습니다.', '도심인프라도 동시에 지니고 있어서생활하기에도 좋고 투자하여임대사업을 하기에도 좋겠습니다.', '소형으로 되어있어서 혼자사시거나신혼부부들에게 선호받는 스타일로이곳역시 넓은 거실과 다채로운 빌트인가구 들로 높은 활용도를 보여주고 있었습니다.', '거실과 주방이 매우 크게 만들어져서생활함에 있어 편리하겠고 평수대비 넓게 만들어진 욕실도 햇살가득 들어오고 고급스러움을자랑하고 있었습니다.', '세종 리버하이는 20평대분터 30평대까지 다양하게 구성되어 있는데 공통적으로 금 강을 보고 즐길수 있는테라스가 만들어져 있어서 활용하기 좋았고 넉넉한 수납공간들도 적합하게 자리하고 있어서 삶의 여유까지 누릴 수 가 있었습니다.', '세 종시의 모든 가치를 누리는부러움의 자 리에 금 강조 망의한 수 위 프리미엄을 더해줍니다품격 높은 커뮤 니티로 게스트하우스와 주민카페도서관어린이집피트니스실내골프 연습장등으로생활을 풍성하게 만들어줍니다지역주택조합은 토지확보및 진입도로 개설 등을 확인하여 조합원모집신고필증을 득하였으며지구단위계획 심의 제외 대상으로조합원 모집 완료시 빠른 사업진행이 가능하다고 합니다세종 리버하이 주변으로 이것이 완공되면 수많은 인파가 몰리게 되고 이곳의 가치도 수직상승하겠습니다 시원한 해양에 위치하여미래가치가 보장하면서 투자가치가 높은 곳이되겠습니다.', '따라서 여러가지 목적으로 알아보시는 분들이 많은 상황입니다.', '└ 접기']\n",
      "4번째 데이터: ['대전온천여행이 되버린 주말 유성호텔 수영장 대욕장에서 놀고왔어요저희가족은 한화이글스팬입니당작년엔 진짜 너무 재밌어서 가을야구도 다 직관했는데요올해도 직관을 열심히 해보겠다며 아들램 키즈클럽도 들어줬는데', '첫 개막전 잠실에서 패 중간에 또 잠실 엘지전 패 5월 어린이날 행사때 대전 내려갔는데 패그 이후로 순위랑 상관 없이경기 자체를 너무 재미 없게 해서 직관을 안갔었어요.', '그러다가 지난주말 대전 홈 마지막 경기에서불꽃놀이도 하고 팬사인회도 한다길래 올해 너무 직관도 안다녔고 마지막 경기니 오랜만에 대전에 직관을 가자고 했죠그렇게 티켓도 예매하고 호텔까지 예약했는데하필이면 주말에 태풍소식이 이전 태풍때는 바람만 불기도 했었고그 전 태풍때 서울엔 흐리기만 하고 비도 안왔길래이번에도 대전에 비가 안올수도 있다며희망을 가지고 머뭇거리는 사이 금요일이 되었는데요이번엔 확실하게 오고 일욜엔 비도 많이 온다는거예요.', '그래서 그럼 토요일 경기라도 보자.', '싶어서토요일 티켓까지 예매근데 토요일 낮부터 대전이 비가 무지막지하게 오더라구요.', '아침에 대전에서 비가 오기 시작했다는 소식을 접하고갈까 말까 고민을많이 했어요.', '하지만 호텔을 이미 결제까지 완료해버려서당일 취소가 안된다는 슬픈현실 어쩔 수 없이 호텔비 날릴 수 없으니 가자 해서 다녀왔는데요.', '결국엔 토요일 일요일 경기 모두 취소가 되버리고비가 많이와서 어디 갈곳도 없었던 저희는호텔에 콕 박혀 졸지에 대전까지 가서 호캉스를 즐기고 왔습니다.', '대전 야구보러 가면 아이들이 있어서 당일치기는 안하고 항상 숙박을 하는데요.', '첫째만 있고 어렸을때는 야구장에서 가까운 룸 컨디션 좋은 곳을 갔어요.', '그런데 이제 아이들도 둘이고 첫째가 점점 커서 많은걸 알게 되는 요즘작년인가.', '야구장 근처에 매번 가던 곳으로숙박을 잡았는데TV를켜자마자 성인채널이 딱진짜 넘 놀라고 당황 그래서 이제 더이상은 안되겠다 싶어서거리가 좀 있어도 호텔들로 예약을 하고 다니는데요.', '작년에 갔던 롯데시티호텔도 좋았지만워낙 유성온천이 유명하다고 해서올해 5월에는 여기 유성호텔에서지냈었어요.', '오래된 호텔이라 룸 컨디션이나 뷰는 확실히 롯데시티호텔이 좋기는 했는데요.', '거기는 주변에 성심당 말고 아무것도 없기도 하고온천이 따로 없어요.', '성인만 갈 수 있는 사우나 비슷한게 있는데아이들은 갈수가 없어서 유성호텔로 했죠.', '저번에 왔을때 온천을 갔었는데 여탕은동네 목욕탕 같은 수준이었지만물이 좋았고 남탕은 노천탕도 있다고 해서 이번에도 여기로 했어요.', '그리고 또 한가지 이유가 여기 유성호텔은유성구에 있는 호텔들중에 유일하게 수영장도 있거든요.', '이번에 라마다호텔도 새로 생겼다던데거기는 사우나도 없고 온천도 없고 이런 수영장도 없습니다.', '이왕이면 어린 아이가 둘이라 부대시설이 많은곳으로 이용하는 편인데진짜 이게 신의 한수였어요.', '이틀 내내 비가 오니까 아무것도 할수 없더라구요그래서 결국 하루는 여기 수영장에서 실컷 놀았네요이렇게 유아풀도 있고 성인풀도 있는데아이들 튜브도 다 준비되어 있어 좋구요물도 온천수라 좋다고 하는데', '수영장에서 있을땐 몰랐는데 올라와서 아이들 수영복을 벗겨보니은근 락스냄새가 나더라구요.', '온천수라고 수영장 물도 좋다고 좋아했는데;락스는 어느정도 풀어놓은거 같아요.', '이건 유성호텔 대욕장 입구에 있는 포토존이예요.', '5월에 갔을때 찍은 사진인데요.', '대전유성호텔에서 숙박하면 객실마다 이 뚱바 우유 2개를 무료로 주거든요아마 무슨 콜라보 같은거 같아요.', '어른들은 추억에 우유인데', '이상하게 저희집 애들은 바나나맛을 안좋아해서저번에도 이번에도 우유는 결국 어른들이 먹었네요.', '이번에 갔을때 낮에 수영장에서 놀고저녁밥 먹고 저녁엔 온천갔어요.', '정말 그야 말로 호텔 안에서 하루 죙일 있었네요.', '대전에 온천여행을 굳이 가는 사람은 없는거 같긴 한데', '야구가 취소 되는 바람에졸지에 온천여행을 1박2일 다녀온 셈이 되었습니다.', '그래도 물놀이는 아이들이 항상좋아해서나름 재밌게 놀고 왔습니다.', '아', '그리고 유성호텔에서 라마다호텔쪽으로 가다보면족욕체험장 있는데거기 진짜 좋아요.', '잘해놨더라구요저희는 비를 뚫고 갔는데 물이 많이 뜨겁지만 저희 아이들도 참고 잘 했어요.', '무료니까 기회되시면 꼭 가보세요.', '이건 5월에 갔을때 사진올해는 대전 직관도 한번밖에 못갔는데 벌써 시즌이 끝났네요.', '키즈클럽 가입해서 아빠와 캐치볼을 했는데이게 엄청 기억에 남았나봐요아직도 계속 얘기해요.', '내년에도 키즈클럽 들어야 되나요.', '고민되네요.', '태풍때문에 야구대신 대전온천여행 즐기고온 웃픈후기였습니다.']\n",
      "5번째 데이터: ['점심먹고 좀 쉬다 다시 출발해서 전북 익산 진입길가에 바람개비가 이뻐서 한컷또 달려서 논산 강경쯤 도착논산훈련소 앞에 한번 가볼까 했는데거리가 꽤 멀어서 패스 이동네는 젓갈이 유명한가보네부여에 진입백제의 수도답게 회전교차로 중간에 떡하니 백제 금동대향로가 있네여기서 부여 박물관에 한번 가보고 싶었는데 시간이 늦어져서 그냥 지나왔다백제보 와서 잠깐 휴식멈춘김에 전망대에 한번 올라가볼까안에 들어오니 에어컨이 안돌고 있어서 엄청나게 더움망원경으로 여기저기를 둘러볼수 있다백제보백제보는 계백장군이 탄 말의 안장을 형상화 했다고 한다금강 상류쪽을 바라본다오늘도 날씨가 좋아서 참 다행이네멈추면 좀 덥고 달리면 차가운바람때문에 좀 쌀쌀한 느낌세종시 도착네비가 안내하는대로 가다보니 길이 갑자기 사라졌다.', '여긴 어디 난 누구인가.', '오늘 마지막 종착지인 대청호에 도착대청호에 반사된 하늘이 너무 이쁘다가슴이 탁 트이는구만파노라마 한컷 찍어줌금강 최상류 대청댐일부러 강을 따라 계속 움직였는데옛날 강주변을 따라 항상 도시가 형성되어왔고그래서 그길을 따라오는것이 볼게 많았던거 같다해가 지기전에 대구 시내에 도착했다멀리 한빛탑이 보이네대전하면 제일 먼저 떠오르는게 이 탑 아닐까 꿈돌이도 아직 있네무슨행사를 준비하는지 광장이 정신이 없다주말에 태풍온다.', '했는데', '대전 왔으니 성심당 성심당 본점은 좀 멀리 있어서호텔 근처에 있는 대전 컨벤션 센터점에 왔다저녁도 빵인가 합체튀김소보로랑 생도넛 부추빵을 샀다들고 호텔로 토요코인 대전점여긴 대구점에 비해서 건물이 엄청 크네싱글룸이 없어서 디럭스룸으로 했다만원정도 더 비싼데 방이 완전 허허벌판 싱글룸은 좀 비좁았는데 넓어서 좋긴좋구만세탁기도 있고 조리대와 싱크대도 있다1인용 식기도 준비되어있음음료수 시원하게 먹으려고 1층가서 얼음을 잔뜩 받아왔다시내가서 닭강정을 사오려다가 바로앞에 맘스터치가 있길래 치킨을 사왔다맘스터치 찜햇닭강정살짝 매운데 깐풍기 느낌도 나고 맛있다배부르게 먹고 티비 보다가 잠듬']\n",
      "...\n"
     ]
    }
   ],
   "source": [
    "for i in range(len(data_df)): # 5문장 정도만 내용 확인\n",
    "    data_list = data_df['text'].iloc[i]\n",
    "    print(f'{i}번째 데이터: {data_list}')\n",
    "    if i == 5: \n",
    "        print('...')\n",
    "        break"
   ]
  },
  {
   "cell_type": "code",
   "execution_count": 163,
   "id": "71207077",
   "metadata": {},
   "outputs": [
    {
     "name": "stderr",
     "output_type": "stream",
     "text": [
      "100%|██████████| 14/14 [00:00<00:00, 5877.32it/s]\n"
     ]
    }
   ],
   "source": [
    "for i in tqdm(range(len(data_df))):\n",
    "    data_list = data_df['text'].iloc[i]\n",
    "    data_df['text'].iloc[i] = ' '.join(data_list)"
   ]
  },
  {
   "cell_type": "code",
   "execution_count": 164,
   "id": "33ea6161",
   "metadata": {
    "scrolled": true
   },
   "outputs": [
    {
     "data": {
      "text/plain": [
       "'21년 4월 17일 대전여행다른 친구들이야기 들어보면 사촌들과의 관계는친구들보다 좀 벽이 있고 특별히 어려운 관계는 아니지만그렇다고 일부러 연락해서 만나고 그러기엔 엄청 어색하다고우리 집안이 좀 이상한건지 대부분의 사촌동생들과 아주 친하게 지낸다. 자주 연락하고 같이 식사 술 마시고 거리낌 없이 집에서 자고가기도 하고아 참고로 아버지 집안의 형제가 7남매 어머니 집안은8남매대부분 2명의 자녀라 내 사촌들의 수는엄청나다. 크큽사회 초년생의 사촌들은 아무래도 내가 삼촌같아서 잘 어울리긴 힘들고나이가 엇 비슷한 사촌들과 좀 더 친하긴 하다. 그 사촌 동생들 중 JH이라는 사촌이 있는데 오랜기간 공부하고 연구해서 박사가 되더니최근까지 서울에 대학에서 연구를 하다가 올해 대전에 있는 연구소로취업을 하였다. 회사에 있는동안 오피스텔이나 기숙사에서 지낼걸 생각했더니 이래저래 해서 대전 둔산동에집을 매입했고 내부 인테리어 마쳤다고 했다. 집들이도 할겸 동생 취업도 축하도 할겸마침 날씨는 좋은데 주말에 몸이 근질근질 하기도 했고1년정도의 장기간 코로나로 집에 더 뒹굴면 진짜 우울증 심하게 올것 같은느낌이였다. 그렇게 토요일 오후 차를 끌고 대전 둔산동 사촌집으로 갔다. 야탑에 있는 회사에서 출발하였는데 2시간 좀 넘게 걸렸다고속도로는 막히지 않았는데 혼자가려니 엄청 지루했다. 둔산동 동생집 주차장에 차를 세우고간단히 집 구경을 하고 대부분 만족스러웠지만정리 빈약한 부분 오지랍 하면서 갈구기도 하고 식사를 하러 나왔다. 출발 전부터 오늘은 이상하게 양꼬치가 먹고 싶었다. 지글지글한 양꼬치에 맥주가 너무나 땡기던날사실 난 대전과 연관되는게 없어 주기적인 방문은없다. 주말에 필 받아서 친구랑 성심당에서 빵먹고 오기 바람쐬고 싶으니 고속도로 운전해서 가다가 얼떨결에 대전에서 치킨먹고 올라오기 토요일 오후 친구가 급하게 호출해서 뭔일인가하며 친구 차를 탔더니대전에 거래에 혼자가기 심심하다며 납치당하기 야구 한참 빠져서 원정응원가기이렇게 방문한게 전부였다. 그래서 대전에서 유명하다는 성심당엔 꼭 한번씩 갔었는데다른곳은 잘 모르니 항상 본점으로 갔었다. 대전 은행동이였나. 매번 방문하면서 느낀점은 많이 오래된 도시구나. 주차를 좀 멀리하고 걷다보면 구도시 이미지가 강했다. 그래서 몇번 가본적 없던 나에겐 대전은 노후된 도시 이런 이미지만 있었는데대전도 구신도시 이렇게 나뉘어있었고신도시 쪽은 화려함도 정말 으마으마하더라사촌동생이 동네를 이동하며 여러 설명을 해줬는데아파트들도 수도권만큼 비싸고 학원가 옆 쪽 아파트는 최고가를 유지중이라고그렇게 도시를 가로질러 식당과 술집이 있는곳에 도착했다. 라오푸양로사촌동생이 여기저기 검색해서 찾은 오늘의 양꼬치집처음 문을 열고 들어갔는데 어라. 왜 가운데 테이블에 양꼬치 불판이 없지 카운터에 물어보니 구워서 준다고 하신다. 냄새도 안나고 귀찮지 않아서 좋겠네 생각하고양꼬치 양갈비 라즈지매운닭튀김 이렇게 세가지와 칭타오 맥주를 시켰다. 와우 양꼬치도 맛있었지만특히 라즈지 저 닭고기 요리가 엄청 맛있었다. 하이볼을 좋아해서 처음보는 양하대곡 하이볼도 시켜봤는데중국술 향을 좋아하지 않는 나에겐 위스키 하이볼보다는 별로아주 맛있어서 양갈비를 추가로 시켜서 더 먹었는데불판이 없어서 그런지 배부름이 느껴질때 고기에 하얀 기름이 좀 올라와 느끼함이 있었다. 불판위에서 기름을 다 짜내버리며 먹었으면 더 좋았겠네 하는 생각이 들었다. 길거리 걸으며 식당들 술집들 구경도 좀 하다가 실내 야구장이 있어서 들어가봤다. 사촌은 오래전에 사회인 야구도 했던터라90kmh 속도 배팅을 도전했다. 10개중에 23개 맞춘듯너 뭐하냐 겁내 못치네 놀리고나도 잘 안되겠지 생각하며 도전했는데6070kmh 배팅타석에서 8개정도 맞췄다. 헐술을 어중간하게 마신 상태라 치맥을 더 즐기기로 했다. 개인적으로 치킨중에 가장 맛있다고 느끼는 굽네치킨을 먹자고 했고근처에 매장이 있어서 찾아갔다. 직원분이 10시에 종료하는데 괜찮냐고 물어봤다. 아니 토요일인데 왜 일찍 문 닫지 무슨 일 있으신가생각하며 사촌한데 이유를 물어보니코로나로 영업단축 그래서 10시 종료라고 헐내가 1년동안 밤에 식당에서 뭘 먹은적이 거의 없어 정말 생각도 못했었다. 당시 9시였는데 1시간이면 충분하단 생각에 10시에 일어서겠다. 말씀드리고오리지날 반 고추바사삭 반평소 먹고 싶었던 구성으로 주문을 했다. 난 1인가구에치킨 1마리를 혼자 먹지도 못하고식으면 다음날 먹는걸 좋아하지 않아 누굴 만나지 않으면 치킨을 시키지 않는다. 치킨이 먹고 싶을땐 가까운 KFC 가서 조각으로 한두개면 충분하다. 그래서 이번 치킨은 정말 간만에 먹는 타 브랜드 치킨이였다. 배가 찢어지게 불렀지만 그래도 아주 맛있더라. 집까지는 34정거장 좀 거리가 있긴했는데이런저런 이야기도 하면서 소화도 할겸 집으로 걸어들어왔다. 집에 들어와 맥주 한캔을 더 마시고유튜브로 최근 관심사 이야기 나누고새벽 3시까지 낄낄거리며 노닥거리다가 잠들었다. 다음날 늦잠을 자고 게으름 피우다가브런치로 성심당에 가기로했다. 동생집에서는 성심당 DCC가 가까웠다. 본점하고 맛이 다르지 않을까 걱정했는데맛은 똑같다고 느꼈고 내부 규모만 좀 다른느낌성심당 DCC 지점이 본점보다 주차가 훨씬 편하고 좋았다. DCC가 뭐하는곳인지 전혀 몰랐는데 코엑스나 킨텍스처럼전시 강의 하는 그런곳이라 했다. 일요일코시국이라 건물 근처의 수 백대의 차들은 오직 성심당을 오기위한 차들이였다가까운곳에 살았다면이곳에 있는 모든 빵을 다 맛봤을텐데 성심당 빵은 가격도 저렴하지만 정말 다 맛있는듯방문하는 손님이 정말 정말 많았고 계속 나오는 빵을 보고있으면어디서 이 많은 양을 다 생산 할 수 있을까. 정말 궁금했다. 평소라면 살찔게 두려워 건강한 빵 몇개를 넣어 함께 골랐을텐데여기 아무때나 올 수 있는곳 아니라서최대한 자극적이고 비쥬얼이 화려한거 위주로 골랐다. 쟁반에 빵을 들고 아무런 덮개없이 엘리베이터를 많은 사람들과 타려니이 행동이코시국에 맞는 일인가. 옆에 에스컬레이터 있는데 운행을 안하고 답답한 엘리베이터만 이용이 가능했다. 2층으로 올라가 커피를 주문하고 자리를 잡았는데 사람도 많고 좁다. 빵을 하나하나 맛보면서 즐겼다. 개인적으로는 부추빵이 최고사촌은 단맛을 좋아하는데 초코를 듬뿍 뿌린 소보로를 최고로 여겼다. 맨 마지막으로 초코 소보로를 먹었는데그 전에 먹었던 모든 빵들이 기름져서 초코빵은 팥이나 빵맛은 안느껴지고 초코렛의 단맛과 진한맛만 느껴졌다. 성심당 dcc 옆으로는 93 엑스포가 열렸던 곳이였다. 추억속의 대전엑스포 당시 전국에서 모든 학생들 다 소풍으로 엑스포 오고국내 사람들 다 엑스포 구경한다고 대전오고몇개 없는 TV채널에서는 맨날 엑스포 소식당시에 난 이래저래 기회가 없어서 못왔었다. 당시 가장 궁금했던건 엑스포에 만들어진 자기부상열차였는데탑승을 위한 대기시간이 엄청났고 속도가 너무 느려 하나도 재미 없었다고 듣기만 했었다. 수 십년 뒤 상하이에 갔을때공항도심을 고속 자기부상열차를 타보고나서 느낀점은신기하긴 한데 열차와 크게 차이가 안느껴져 실망감이 좀 있었다. 430km 속도는 짜릿하긴하더라. 이후로 멀리서 한빛탑만 슬쩍 지나가면서 본게 전부였다. 그리고 수십년이 지나 한빛탑을 첫 방문하는거라 기대감이 업 되었지만점심시간이라고 문닫아서 못들어갔다. 입장료도 저렴했는데 크흡TV나 사진에서 봤을땐 무척이나 높아보였는데 아파트 78층 정도 전망대는 매력적이지 않았고모든게 이젠 추억속의 장소처럼 느껴질뿐이였다한빛탑 옆에베를린 장벽을 옮겨다놓은곳이 있었는데수 많은 낙서가 있었고 내용을 읽어보니ABC 왔다감 93년 0월 00일CDF 영원히 사랑해 93년 0월 00일이런 무의미한 낙서한 애들 지금 450대일텐데꼭 여기와서 자신이 어렸을때 무슨짓을 했는지 본인 자녀들 데리고와서반성하고 창피함 느꼈으면 좋겠다. 생각했다. 차를 타고 연구소가 많은 연구단지 구경도 좀 하고 동생이 들어간 연구소도 확인했다. 근처에 있는곳이 한강 둔치와 비슷한대전 갑천이라는 곳이였는데매우 크고 정비가 정말 잘되어서 참 아름다웠다. 운전을 하면서 구경하다가 우리도저곳에 가서 돗자리 펴고 음악이나 듣자고 꼬셔서다시 아파트에 차를 세우고 바로 옆 갑천 둔치로 내려와나무 그늘이 있는곳에 돗자리를 펴고 음악을 크게 틀어놓고 누웠다. 분당 탄천이나 한강과 많이 비슷한 느낌대충 준비해간 과일도 먹고 음료수도 먹고 누워있으니편하고 좋다난 남 눈치 안보는 스타일이라 여유롭게 즐기는데쑥스러움이 있는 동생은 멀리 걸으며 운동하는 사람들 시선 때문인지 쭈뼛쭈뼛 즐기지 못한다. 크크큽탄천이나 한강엔 정말 많은 사람들이 주중이든 주말이든 돗자리나 그늘막펴고 즐기는데이상하게 이곳은 운동하거나 자전거 타거나 산책나온 사람들뿐누구도 우리처럼 돗자리나 의자를 가져와 즐기지 않았다. 23시간 음악듣고 이야기하고 풍경구경하고 농담도 나누고정말 편한 시간을 보냈다. 일요일이라 차량정체가 있어 밤에 올라갈 계획으로 느긋하게 즐겼다. 놀았으니 또 먹어야지동생이 첫날부터 계속 추천했던 칼국수 집에 가기로 했다. 집에서별로 멀지 않은곳이고 사실 성심당부터계속 배불러 걸어갔다. 메뉴는 칼국수와 수육을 파는곳이라 했는데응 제주 고기 칼국수 그런건가 수육에 칼국수궁합이 좀 이상한데라는 생각이 들었다. 대선 칼국수라는 곳인데 내부에 수 많은 정치인 유명인 사진들이 많았었고테이블이 정말 많은데 우리가 방문한 날은 한가한 시간이고 일요일이라 사람이 다른때보다 적다고 했다. 수육은 좀 삼각형 형태로 잘라서 그런지 다른곳에서 먹었던 수육과 다른 쫄깃함이 좋았고독특한 고추장을 함께 줬는데 이거 정말로 고기와 궁합이 좋았다. 처음 수육 주문할땐 별로 안땡겼는데 몇점 먹어보니 멈출 수 없었던이후 나온 칼국수는 고기칼국수와 비슷했고 면이 아주 특이했다. 매우 미끄럽고 다른 칼국수집들보다 훨씬 얇은 느낌이였다. 일본라멘 면발굵기 느낌국물도 진하고 맛있었다. 이틀동안 계속 먹어서 배가 터질것처럼 배불렀는데도 맛있으니 계속 들어가긴하더라. 크동생집으로 돌아오는길에 소화제로 아메 한잔쇼핑몰 구경도 좀 하고 정말 들어가보고 싶은 할리스 커피숍도 구경하고그렇게 느긋한 시간을 보내며 집으로 걸어왔다. 저녁 8시 좀 넘어 차량정체가 많이 없어진것 확인을 하고 집으로 출발하였다. 사촌과는 다음번엔 우리집에서 만나기로 하고타지에서 혼자지만 잘 지내라고 인사하고 바잇을 외쳤다. 이틀내내 대부분 동생이 돈을 냈는데 대접을 워낙 잘 받아서다음번에는 내가 돈을 좀 써야할듯지금까지 대전 방문에 특별한 즐거움을못찾아서사실 기대감 0로 방문했던 대전이였는데정말 깨끗하고 맑은 도시와 음식들이 너무 맛있어서즐거운 주말여행이 되었네. 다음번에는 대전 구석구석을 더 여행해봐야겠다. 갑천에 누워서 음악이 좋고 풍경이 아름다워 지금 순간을 기록해야지하면서일어나지도 않고 누워 촬영했더니 핸폰 떨어뜨릴뻔하고 노래 갑자기 끝나서 막 허겁지겁 앵글 바꾸고엉망이네 엉망'"
      ]
     },
     "execution_count": 164,
     "metadata": {},
     "output_type": "execute_result"
    }
   ],
   "source": [
    "data_df['text'].iloc[0]"
   ]
  },
  {
   "cell_type": "markdown",
   "id": "32b7eefe",
   "metadata": {},
   "source": [
    "다시 문장 분리 수행"
   ]
  },
  {
   "cell_type": "code",
   "execution_count": 165,
   "id": "c3adfad6",
   "metadata": {},
   "outputs": [],
   "source": [
    "data_df['text'] = data_df['text'].map(kss.split_sentences)"
   ]
  },
  {
   "cell_type": "markdown",
   "id": "e2ffbe69",
   "metadata": {},
   "source": [
    "문장분리 > 정규표현식 > 맞춤법 검사 > 다시 문단 > 문장분리를 수행했을때 이상하게 문장 중간에 짤리는 경우가 개선된 것을 확인할 수 있습니다. 마지막으로 문장 분리 후 다시 맞춤법 검사를 거치면 정제된 문장이 추출되는 것을 확인할 수 있습니다."
   ]
  },
  {
   "cell_type": "code",
   "execution_count": 166,
   "id": "d0250822",
   "metadata": {
    "scrolled": true
   },
   "outputs": [
    {
     "data": {
      "text/plain": [
       "['21년 4월 17일 대전여행다른 친구들이야기 들어보면 사촌들과의 관계는친구들보다 좀 벽이 있고 특별히 어려운 관계는 아니지만그렇다고 일부러 연락해서 만나고 그러기엔 엄청 어색하다고우리 집안이 좀 이상한건지 대부분의 사촌동생들과 아주 친하게 지낸다.',\n",
       " '자주 연락하고 같이 식사 술 마시고 거리낌 없이 집에서 자고가기도 하고아 참고로 아버지 집안의 형제가 7남매 어머니 집안은8남매대부분 2명의 자녀라 내 사촌들의 수는엄청나다.',\n",
       " '크큽사회 초년생의 사촌들은 아무래도 내가 삼촌같아서 잘 어울리긴 힘들고나이가 엇 비슷한 사촌들과 좀 더 친하긴 하다.',\n",
       " '그 사촌 동생들 중 JH이라는 사촌이 있는데 오랜기간 공부하고 연구해서 박사가 되더니최근까지 서울에 대학에서 연구를 하다가 올해 대전에 있는 연구소로취업을 하였다.',\n",
       " '회사에 있는동안 오피스텔이나 기숙사에서 지낼걸 생각했더니 이래저래 해서 대전 둔산동에집을 매입했고 내부 인테리어 마쳤다고 했다.',\n",
       " '집들이도 할겸 동생 취업도 축하도 할겸마침 날씨는 좋은데 주말에 몸이 근질근질 하기도 했고1년정도의 장기간 코로나로 집에 더 뒹굴면 진짜 우울증 심하게 올것 같은느낌이였다.',\n",
       " '그렇게 토요일 오후 차를 끌고 대전 둔산동 사촌집으로 갔다.',\n",
       " '야탑에 있는 회사에서 출발하였는데 2시간 좀 넘게 걸렸다고속도로는 막히지 않았는데 혼자가려니 엄청 지루했다.',\n",
       " '둔산동 동생집 주차장에 차를 세우고간단히 집 구경을 하고 대부분 만족스러웠지만정리 빈약한 부분 오지랍 하면서 갈구기도 하고 식사를 하러 나왔다.',\n",
       " '출발 전부터 오늘은 이상하게 양꼬치가 먹고 싶었다.',\n",
       " '지글지글한 양꼬치에 맥주가 너무나 땡기던날사실 난 대전과 연관되는게 없어 주기적인 방문은없다.',\n",
       " '주말에 필 받아서 친구랑 성심당에서 빵먹고 오기 바람쐬고 싶으니 고속도로 운전해서 가다가 얼떨결에 대전에서 치킨먹고 올라오기 토요일 오후 친구가 급하게 호출해서 뭔일인가하며 친구 차를 탔더니대전에 거래에 혼자가기 심심하다며 납치당하기 야구 한참 빠져서 원정응원가기이렇게 방문한게 전부였다.',\n",
       " '그래서 대전에서 유명하다는 성심당엔 꼭 한번씩 갔었는데다른곳은 잘 모르니 항상 본점으로 갔었다.',\n",
       " '대전 은행동이였나.',\n",
       " '매번 방문하면서 느낀점은 많이 오래된 도시구나.',\n",
       " '주차를 좀 멀리하고 걷다보면 구도시 이미지가 강했다.',\n",
       " '그래서 몇번 가본적 없던 나에겐 대전은 노후된 도시 이런 이미지만 있었는데대전도 구신도시 이렇게 나뉘어있었고신도시 쪽은 화려함도 정말 으마으마하더라사촌동생이 동네를 이동하며 여러 설명을 해줬는데아파트들도 수도권만큼 비싸고 학원가 옆 쪽 아파트는 최고가를 유지중이라고그렇게 도시를 가로질러 식당과 술집이 있는곳에 도착했다. 라오푸양로사촌동생이 여기저기 검색해서 찾은 오늘의 양꼬치집처음',\n",
       " '문을 열고 들어갔는데 어라.',\n",
       " '왜 가운데 테이블에 양꼬치 불판이 없지 카운터에 물어보니 구워서 준다고 하신다.',\n",
       " '냄새도 안나고 귀찮지 않아서 좋겠네 생각하고양꼬치 양갈비 라즈지매운닭튀김 이렇게 세가지와 칭타오 맥주를 시켰다.',\n",
       " '와우 양꼬치도 맛있었지만특히 라즈지 저 닭고기 요리가 엄청 맛있었다.',\n",
       " '하이볼을 좋아해서 처음보는 양하대곡 하이볼도 시켜봤는데중국술 향을 좋아하지 않는 나에겐 위스키 하이볼보다는 별로아주 맛있어서 양갈비를 추가로 시켜서 더 먹었는데불판이 없어서 그런지 배부름이 느껴질때 고기에 하얀 기름이 좀 올라와 느끼함이 있었다.',\n",
       " '불판위에서 기름을 다 짜내버리며 먹었으면 더 좋았겠네 하는 생각이 들었다.',\n",
       " '길거리 걸으며 식당들 술집들 구경도 좀 하다가 실내 야구장이 있어서 들어가봤다.',\n",
       " '사촌은 오래전에 사회인 야구도 했던터라90kmh 속도 배팅을 도전했다.',\n",
       " '10개중에 23개 맞춘듯너 뭐하냐 겁내 못치네 놀리고나도 잘 안되겠지 생각하며 도전했는데6070kmh 배팅타석에서 8개정도 맞췄다.',\n",
       " '헐술을 어중간하게 마신 상태라 치맥을 더 즐기기로 했다.',\n",
       " '개인적으로 치킨중에 가장 맛있다고 느끼는 굽네치킨을 먹자고 했고근처에 매장이 있어서 찾아갔다.',\n",
       " '직원분이 10시에 종료하는데 괜찮냐고 물어봤다.',\n",
       " '아니 토요일인데 왜 일찍 문 닫지 무슨 일 있으신가생각하며 사촌한데 이유를 물어보니코로나로 영업단축 그래서 10시 종료라고 헐내가 1년동안 밤에 식당에서 뭘 먹은적이 거의 없어 정말 생각도 못했었다.',\n",
       " '당시 9시였는데 1시간이면 충분하단 생각에 10시에 일어서겠다.',\n",
       " '말씀드리고오리지날 반 고추바사삭 반평소 먹고 싶었던 구성으로 주문을 했다.',\n",
       " '난 1인가구에치킨 1마리를 혼자 먹지도 못하고식으면 다음날 먹는걸 좋아하지 않아 누굴 만나지 않으면 치킨을 시키지 않는다.',\n",
       " '치킨이 먹고 싶을땐 가까운 KFC 가서 조각으로 한두개면 충분하다.',\n",
       " '그래서 이번 치킨은 정말 간만에 먹는 타 브랜드 치킨이였다.',\n",
       " '배가 찢어지게 불렀지만 그래도 아주 맛있더라.',\n",
       " '집까지는 34정거장 좀 거리가 있긴했는데이런저런 이야기도 하면서 소화도 할겸 집으로 걸어들어왔다.',\n",
       " '집에 들어와 맥주 한캔을 더 마시고유튜브로 최근 관심사 이야기 나누고새벽 3시까지 낄낄거리며 노닥거리다가 잠들었다.',\n",
       " '다음날 늦잠을 자고 게으름 피우다가브런치로 성심당에 가기로했다.',\n",
       " '동생집에서는 성심당 DCC가 가까웠다.',\n",
       " '본점하고 맛이 다르지 않을까 걱정했는데맛은 똑같다고 느꼈고 내부 규모만 좀 다른느낌성심당 DCC 지점이 본점보다 주차가 훨씬 편하고 좋았다.',\n",
       " 'DCC가 뭐하는곳인지 전혀 몰랐는데 코엑스나 킨텍스처럼전시 강의 하는 그런곳이라 했다.',\n",
       " '일요일코시국이라 건물 근처의 수 백대의 차들은 오직 성심당을 오기위한 차들이였다가까운곳에 살았다면이곳에 있는 모든 빵을 다 맛봤을텐데 성심당 빵은 가격도 저렴하지만 정말 다 맛있는듯방문하는 손님이 정말 정말 많았고 계속 나오는 빵을 보고있으면어디서 이 많은 양을 다 생산 할 수 있을까.',\n",
       " '정말 궁금했다.',\n",
       " '평소라면 살찔게 두려워 건강한 빵 몇개를 넣어 함께 골랐을텐데여기 아무때나 올 수 있는곳 아니라서최대한 자극적이고 비쥬얼이 화려한거 위주로 골랐다.',\n",
       " '쟁반에 빵을 들고 아무런 덮개없이 엘리베이터를 많은 사람들과 타려니이 행동이코시국에 맞는 일인가.',\n",
       " '옆에 에스컬레이터 있는데 운행을 안하고 답답한 엘리베이터만 이용이 가능했다.',\n",
       " '2층으로 올라가 커피를 주문하고 자리를 잡았는데 사람도 많고 좁다.',\n",
       " '빵을 하나하나 맛보면서 즐겼다.',\n",
       " '개인적으로는 부추빵이 최고사촌은 단맛을 좋아하는데 초코를 듬뿍 뿌린 소보로를 최고로 여겼다.',\n",
       " '맨 마지막으로 초코 소보로를 먹었는데그 전에 먹었던 모든 빵들이 기름져서 초코빵은 팥이나 빵맛은 안느껴지고 초코렛의 단맛과 진한맛만 느껴졌다.',\n",
       " '성심당 dcc 옆으로는 93 엑스포가 열렸던 곳이였다.',\n",
       " '추억속의 대전엑스포 당시 전국에서 모든 학생들 다 소풍으로 엑스포 오고국내 사람들 다 엑스포 구경한다고 대전오고몇개 없는 TV채널에서는 맨날 엑스포 소식당시에 난 이래저래 기회가 없어서 못왔었다.',\n",
       " '당시 가장 궁금했던건 엑스포에 만들어진 자기부상열차였는데탑승을 위한 대기시간이 엄청났고 속도가 너무 느려 하나도 재미 없었다고 듣기만 했었다.',\n",
       " '수 십년 뒤 상하이에 갔을때공항도심을 고속 자기부상열차를 타보고나서 느낀점은신기하긴 한데 열차와 크게 차이가 안느껴져 실망감이 좀 있었다.',\n",
       " '430km 속도는 짜릿하긴하더라.',\n",
       " '이후로 멀리서 한빛탑만 슬쩍 지나가면서 본게 전부였다.',\n",
       " '그리고 수십년이 지나 한빛탑을 첫 방문하는거라 기대감이 업 되었지만점심시간이라고 문닫아서 못들어갔다.',\n",
       " '입장료도 저렴했는데 크흡TV나 사진에서 봤을땐 무척이나 높아보였는데 아파트 78층 정도 전망대는 매력적이지 않았고모든게 이젠 추억속의 장소처럼 느껴질뿐이였다한빛탑 옆에베를린 장벽을 옮겨다놓은곳이 있었는데수 많은 낙서가 있었고 내용을 읽어보니ABC 왔다감 93년 0월 00일CDF 영원히 사랑해 93년 0월 00일이런 무의미한 낙서한 애들 지금 450대일텐데꼭 여기와서 자신이 어렸을때 무슨짓을 했는지 본인 자녀들 데리고와서반성하고 창피함 느꼈으면 좋겠다.',\n",
       " '생각했다.',\n",
       " '차를 타고 연구소가 많은 연구단지 구경도 좀 하고 동생이 들어간 연구소도 확인했다.',\n",
       " '근처에 있는곳이 한강 둔치와 비슷한대전 갑천이라는 곳이였는데매우 크고 정비가 정말 잘되어서 참 아름다웠다.',\n",
       " '운전을 하면서 구경하다가 우리도저곳에 가서 돗자리 펴고 음악이나 듣자고 꼬셔서다시 아파트에 차를 세우고 바로 옆 갑천 둔치로 내려와나무 그늘이 있는곳에 돗자리를 펴고 음악을 크게 틀어놓고 누웠다.',\n",
       " '분당 탄천이나 한강과 많이 비슷한 느낌대충 준비해간 과일도 먹고 음료수도 먹고 누워있으니편하고 좋다난 남 눈치 안보는 스타일이라 여유롭게 즐기는데쑥스러움이 있는 동생은 멀리 걸으며 운동하는 사람들 시선 때문인지 쭈뼛쭈뼛 즐기지 못한다.',\n",
       " '크크큽탄천이나 한강엔 정말 많은 사람들이 주중이든 주말이든 돗자리나 그늘막펴고 즐기는데이상하게 이곳은 운동하거나 자전거 타거나 산책나온 사람들뿐누구도 우리처럼 돗자리나 의자를 가져와 즐기지 않았다.',\n",
       " '23시간 음악듣고 이야기하고 풍경구경하고 농담도 나누고정말 편한 시간을 보냈다.',\n",
       " '일요일이라 차량정체가 있어 밤에 올라갈 계획으로 느긋하게 즐겼다.',\n",
       " '놀았으니 또 먹어야지동생이 첫날부터 계속 추천했던 칼국수 집에 가기로 했다.',\n",
       " '집에서별로 멀지 않은곳이고 사실 성심당부터계속 배불러 걸어갔다.',\n",
       " '메뉴는 칼국수와 수육을 파는곳이라 했는데응 제주 고기 칼국수 그런건가 수육에 칼국수궁합이 좀 이상한데라는 생각이 들었다.',\n",
       " '대선 칼국수라는 곳인데 내부에 수 많은 정치인 유명인 사진들이 많았었고테이블이 정말 많은데 우리가 방문한 날은 한가한 시간이고 일요일이라 사람이 다른때보다 적다고 했다.',\n",
       " '수육은 좀 삼각형 형태로 잘라서 그런지 다른곳에서 먹었던 수육과 다른 쫄깃함이 좋았고독특한 고추장을 함께 줬는데 이거 정말로 고기와 궁합이 좋았다.',\n",
       " '처음',\n",
       " '수육 주문할땐 별로 안땡겼는데 몇점 먹어보니 멈출 수 없었던이후 나온 칼국수는 고기칼국수와 비슷했고 면이 아주 특이했다.',\n",
       " '매우 미끄럽고 다른 칼국수집들보다 훨씬 얇은 느낌이였다.',\n",
       " '일본라멘 면발굵기 느낌국물도 진하고 맛있었다.',\n",
       " '이틀동안 계속 먹어서 배가 터질것처럼 배불렀는데도 맛있으니 계속 들어가긴하더라.',\n",
       " '크동생집으로 돌아오는길에 소화제로 아메 한잔쇼핑몰 구경도 좀 하고 정말 들어가보고 싶은 할리스 커피숍도 구경하고그렇게 느긋한 시간을 보내며 집으로 걸어왔다.',\n",
       " '저녁 8시 좀 넘어 차량정체가 많이 없어진것 확인을 하고 집으로 출발하였다.',\n",
       " '사촌과는 다음번엔 우리집에서 만나기로 하고타지에서 혼자지만 잘 지내라고 인사하고 바잇을 외쳤다.',\n",
       " '이틀내내 대부분 동생이 돈을 냈는데 대접을 워낙 잘 받아서다음번에는 내가 돈을 좀 써야할듯지금까지 대전 방문에 특별한 즐거움을못찾아서사실 기대감 0로 방문했던 대전이였는데정말 깨끗하고 맑은 도시와 음식들이 너무 맛있어서즐거운 주말여행이 되었네.',\n",
       " '다음번에는 대전 구석구석을 더 여행해봐야겠다.',\n",
       " '갑천에 누워서 음악이 좋고 풍경이 아름다워 지금 순간을 기록해야지하면서일어나지도 않고 누워 촬영했더니 핸폰 떨어뜨릴뻔하고 노래 갑자기 끝나서 막 허겁지겁 앵글 바꾸고엉망이네 엉망']"
      ]
     },
     "execution_count": 166,
     "metadata": {},
     "output_type": "execute_result"
    }
   ],
   "source": [
    "data_df['text'].iloc[0]"
   ]
  },
  {
   "cell_type": "markdown",
   "id": "67a2b6e4",
   "metadata": {},
   "source": [
    "## 맞춤법 검사 후 문장 분리\n",
    "* [py-hanspell](https://github.com/ssut/py-hanspell): 네이버 맞춤법 검사기를 기반으로 합니다, pip 설치시 error가 있어서 git clone을 활용해야합니다. \n",
    "* [부산대 맞춤법 검사기 using selenium](https://hong-yp-ml-records.tistory.com/99): 부산대 맞춤법 검사기는 python 2.x 버전에 해당해서, 해당 블로그에서 Selenium을 활용해 맞춤법 검사를 진행한다. 해당 블로그 실험에서는 py-hanspell의 성능이 나았으므로 맞춤법 검사는 py-hanspell로만 진행하겠습니다. \n",
    "* [py-hangul-checker](https://pypi.org/project/py-hangul-checker/)"
   ]
  },
  {
   "cell_type": "markdown",
   "id": "91c4c936",
   "metadata": {},
   "source": [
    "### pykospacing 띄어쓰기 교정"
   ]
  },
  {
   "cell_type": "markdown",
   "id": "38c62dac",
   "metadata": {},
   "source": [
    "* [띄어쓰기 교정 관련 블로그](https://jeongukjae.github.io/posts/korean-spacing-model/)\n",
    "* [kospacing](https://github.com/haven-jeon/PyKoSpacing)\n",
    "* [soyspacing](https://taeguu.tistory.com/55)"
   ]
  },
  {
   "cell_type": "code",
   "execution_count": 167,
   "id": "8c7b8e67",
   "metadata": {},
   "outputs": [],
   "source": [
    "from pykospacing import Spacing # 띄어쓰기 교정 라이브러리 "
   ]
  },
  {
   "cell_type": "code",
   "execution_count": 168,
   "id": "b7228276",
   "metadata": {},
   "outputs": [],
   "source": [
    "spacing = Spacing(rules=['하지만']) # rule을 추가해줄 수 있다. "
   ]
  },
  {
   "cell_type": "code",
   "execution_count": 169,
   "id": "c8e486a8",
   "metadata": {},
   "outputs": [
    {
     "name": "stderr",
     "output_type": "stream",
     "text": [
      "100%|██████████| 14/14 [00:20<00:00,  1.46s/it]\n"
     ]
    }
   ],
   "source": [
    "for i in tqdm(range(len(data_df))):\n",
    "    data_list = data_df['text'].iloc[i]\n",
    "    data_df['text'].iloc[i] = list(map(spacing, data_list))"
   ]
  },
  {
   "cell_type": "code",
   "execution_count": 170,
   "id": "8707f729",
   "metadata": {
    "scrolled": false
   },
   "outputs": [],
   "source": [
    "# data_df['text'].iloc[0]"
   ]
  },
  {
   "cell_type": "markdown",
   "id": "613656fe",
   "metadata": {},
   "source": [
    "### soyspacing 띄어쓰기 교정"
   ]
  },
  {
   "cell_type": "code",
   "execution_count": 171,
   "id": "aec881af",
   "metadata": {},
   "outputs": [
    {
     "name": "stdout",
     "output_type": "stream",
     "text": [
      "/home/aiffel-dj19/jungcheck/DataPreprocessing\r\n"
     ]
    }
   ],
   "source": [
    "!pwd"
   ]
  },
  {
   "cell_type": "code",
   "execution_count": 172,
   "id": "453c4572",
   "metadata": {
    "scrolled": true
   },
   "outputs": [],
   "source": [
    "from soyspacing.countbase import CountSpace"
   ]
  },
  {
   "cell_type": "code",
   "execution_count": 173,
   "id": "7e111623",
   "metadata": {},
   "outputs": [],
   "source": [
    "############ 모델 train\n",
    "corpus_fname = os.path.join(os.getcwd(),'134963_norm.txt')\n",
    "model = CountSpace() \n",
    "\n",
    "# model.train(corpus_fname) #학습 \n",
    "# model_fname = './soyspacing.model' #모델 저장위치\n",
    "# model.save_model(model_fname, json_format=False) #모델 저장"
   ]
  },
  {
   "cell_type": "code",
   "execution_count": 174,
   "id": "793f4b05",
   "metadata": {},
   "outputs": [],
   "source": [
    "model.load_model('./soyspacing.model', json_format=False) #저장 후 모델 불러올때 사용"
   ]
  },
  {
   "cell_type": "code",
   "execution_count": 175,
   "id": "b9f002c9",
   "metadata": {},
   "outputs": [],
   "source": [
    "verbose=False\n",
    "\n",
    "mc = 10  # min_count\n",
    "ft = 0.3 # force_abs_threshold\n",
    "nt =-0.3 # nonspace_threshold\n",
    "st = 0.3 # space_threshold"
   ]
  },
  {
   "cell_type": "code",
   "execution_count": 176,
   "id": "e52a601f",
   "metadata": {
    "scrolled": true
   },
   "outputs": [],
   "source": [
    "from soyspacing.countbase import RuleDict\n",
    "\n",
    "rule_fname = os.path.join(os.getcwd(),'space_rule.txt')\n",
    "rule_dict = RuleDict(rule_fname)"
   ]
  },
  {
   "cell_type": "code",
   "execution_count": 177,
   "id": "daebcd47",
   "metadata": {},
   "outputs": [
    {
     "name": "stderr",
     "output_type": "stream",
     "text": [
      "100%|██████████| 14/14 [00:00<00:00, 17.40it/s]\n"
     ]
    }
   ],
   "source": [
    "for i in tqdm(range(len(data_df))):\n",
    "    data_list = data_df['text'].iloc[i]\n",
    "    result_list = []\n",
    "    for sen in data_list:\n",
    "        result, _ = model.correct(doc=sen,\n",
    "                                  verbose=verbose,\n",
    "                                  force_abs_threshold=ft,\n",
    "                                  nonspace_threshold=nt,\n",
    "                                  space_threshold=st,\n",
    "                                  min_count=mc,\n",
    "                                  rules=rule_dict)\n",
    "        result_list.append(result)\n",
    "    data_df['text'].iloc[i] = result_list"
   ]
  },
  {
   "cell_type": "code",
   "execution_count": 178,
   "id": "25fa78c7",
   "metadata": {
    "scrolled": false
   },
   "outputs": [
    {
     "data": {
      "text/plain": [
       "['21년 4월 17일 대전 여행 다른 친구들이야기 들어보면 사촌들과의 관계는 친구들보다 좀 벽이 있고 특별히 어려운 관계는 아니지만 그렇다고 일부러 연락해서 만나고 그러기엔 엄청 어색하다고 우리 집안이 좀 이상한 건지 대부분의 사촌 동생들과 아주 친하게 지낸다.',\n",
       " '자주 연락하고 같이 식사 술 마시고 거리낌 없이 집에서 자고가기도 하고 아 참고로 아버지 집안의 형제가 7남매 어머니 집안은 8남매 대부분 2명의 자녀라 내 사촌들의 수는 엄청나다.',\n",
       " '크큽 사회 초년생의 사촌들은 아무래도 내가 삼촌 같아서 잘 어울리긴 힘들고 나이가 엇 비슷한 사촌들과 좀 더 친 하긴 하다.',\n",
       " '그 사촌 동생들 중 JH이라는 사촌이 있는데 오랜 기간 공부하고 연구해서 박사가 되더니 최근까지 서울에 대학에서 연구를 하다가 올해 대전에 있는 연구소로 취업을 하였다.',\n",
       " '회사에 있는 동안 오피스텔이나 기숙사에서 지 낼 걸 생각했더니 이래저래 해서 대전 둔산동에 집을 매입했고 내부 인테리어 마쳤다고 했다.',\n",
       " '집들이도 할 겸 동생 취업도 축하도 할 겸 마침 날씨는 좋은데 주말에 몸이 근질 근질 하기도 했고 1년 정도의 장기간 코로나로 집에 더 뒹굴면 진짜 우울증 심하게 올 것 같은 느낌이였다.',\n",
       " '그렇게 토요일 오후 차를 끌고 대전 둔산동 사촌 집으로 갔다.',\n",
       " '야탑에 있는 회사에서 출발하였는데 2시간 좀 넘게 걸렸다고 속도로는 막히지 않았는데 혼자 가려니 엄청 지루했다.',\n",
       " '둔산동 동생 집 주차장에 차를 세우고 간단히 집 구경을 하고 대부분 만족스러웠지만 정리 빈약한 부분 오지랍 하면서 갈구기도 하고 식사를 하러 나왔다.',\n",
       " '출발 전부터 오늘은 이 상하게 양꼬치가 먹고 싶었다.',\n",
       " '지글지글한 양꼬치에 맥주가 너무나 땡기던 날 사실 난 대전과 연관되는 게 없어 주기적인 방문은 없다.',\n",
       " '주말에 필 받아서 친구랑 성심당에서 빵 먹고 오기 바람쐬고 싶으니 고속도로 운전해서 가 다가 얼떨결에 대전에서 치킨 먹고 올라오기 토요일 오후 친구가 급하게 호출해서 뭔일인가 하며 친구 차를 탔더니 대전에 거래에 혼자가 기 심심하다며 납치 당하기 야구 한참 빠져서 원 정응원가기 이렇게 방문한 게 전부였다.',\n",
       " '그래서 대전에서 유명하다는 성심당엔 꼭 한 번씩 갔었는데 다른 곳은 잘 모르니 항상 본점으로 갔었다.',\n",
       " '대전 은행동이였나.',\n",
       " '매번 방문하면서 느낀 점은 많이 오래된 도시구나.',\n",
       " '주차를 좀 멀리하고 걷다 보면 구도시 이미지가 강했다.',\n",
       " '그래서 몇 번 가본 적 없던 나에겐 대전은 노후된 도시 이런 이미지만 있었는데 대전도 구신도시 이렇게 나뉘어 있었고 신도시 쪽은 화려함도 정말 으마으마하더라 사촌 동생이 동네를 이동하며 여러 설명을 해줬는데 아파트들도 수도권만큼 비싸고 학원가 옆 쪽 아파트는 최고가를 유지 중이라고 그렇게 도시를 가로질러 식당과 술집이 있는 곳에 도착했다. 라오푸 양로사촌 동생이 여기저기 검색 해서 찾은 오늘의 양꼬치 집 처음',\n",
       " '문을 열고 들어갔는데 어라.',\n",
       " '왜 가운데 테이블에 양꼬치 불판이 없지 카운터에 물어보니 구워서 준다고 하신다.',\n",
       " '냄새도 안 나고 귀찮지 않아서 좋겠네 생각하고 양꼬치 양갈비 라즈지 매운 닭튀김 이렇게 세 가지와 칭타오 맥주를 시켰다.',\n",
       " '와우 양꼬치도 맛있었지만 특히 라즈지 저 닭고기 요리가 엄청 맛있었다.',\n",
       " '하이볼을 좋아해서 처음 보는 양하 대곡 하이볼도 시켜봤는데 중국 술 향을 좋아하지 않는 나에겐 위스키 하이 볼보다는 별로 아주 맛있어서 양갈비를 추가로 시켜서 더 먹었는데 불판이 없어서 그런지 배부름이 느껴질 때 고기에 하얀 기름이 좀 올라와 느끼함이 있었다.',\n",
       " '불판 위에서 기름을 다 짜내버리며 먹었으면 더 좋았겠네 하는 생각이 들었다.',\n",
       " '길거리 걸으며 식당들 술집들 구경도 좀 하다가 실내 야구장이 있어서 들어가봤다.',\n",
       " '사촌은 오래전에 사회인 야구도 했던 터라 90kmh 속도 배팅을 도 전했다.',\n",
       " '10개 중에 23개 맞춘 듯 너 뭐하냐 겁 내 못 치네 놀리고 나도 잘 안 되겠지 생각하며 도 전했는데 6070kmh 배팅 타석에서 8개 정도 맞췄다.',\n",
       " '헐술을 어 중간하게 마신 상태라 치맥을 더 즐기기로 했다.',\n",
       " '개인적으로 치킨 중에 가장 맛있다고 느끼는 굽네치킨을 먹자고 했고 근처에 매장이 있어서 찾아갔다.',\n",
       " '직원분이 10시에 종료하는데 괜찮냐고 물어봤다.',\n",
       " '아니 토요일인데 왜 일찍 문 닫지 무슨 일 있으신 가 생각하며 사촌 한데 이유를 물어보니 코로나로 영업단축 그래서 10시 종료라고 헐 내가 1년 동안 밤에 식당에서 뭘 먹은 적이 거의 없어 정말 생각도 못했었다.',\n",
       " '당시 9시였는데 1시간이면 충분 하단 생각에 10시에 일어서겠다.',\n",
       " '말씀드리고 오리지날 반 고추 바사삭 반 평소 먹고 싶었던 구성으로 주문을 했다.',\n",
       " '난 1인 가구에 치킨 1마리를 혼자 먹지도 못하고 식으면 다음날 먹는 걸 좋아하지 않아 누굴 만나 지 않으면 치킨을 시키지 않는다.',\n",
       " '치킨이 먹고 싶을 땐 가까운 KFC 가서 조각으로 한 두 개면 충분하다.',\n",
       " '그래서 이번 치킨은 정말 간 만에 먹는 타 브랜드 치킨이였다.',\n",
       " '배가 찢어지게 불렀지만 그래도 아주 맛있더라.',\n",
       " '집까지는 34정거장 좀 거리가 있긴 했는데 이런저런 이야기도 하면서 소화도 할 겸 집으로 걸어 들어왔다.',\n",
       " '집에 들어와 맥주 한 캔을 더 마시고 유튜브로 최근 관심사 이야기 나누고 새벽 3시까지 낄낄거리며 노닥거리다가 잠들었다.',\n",
       " '다음날 늦잠을 자고 게으름 피우다가 브런치로 성심당에 가기로 했다.',\n",
       " '동생 집에서는 성심당 DCC가 가까웠다.',\n",
       " '본점 하고 맛이 다르지 않을까 걱정했는데 맛은 똑같다고 느꼈고 내부 규모만 좀 다른 느낌 성심당 DCC 지점이 본점보다 주차가 훨씬 편하고 좋았다.',\n",
       " 'DCC가 뭐하는 곳인지 전혀 몰랐는데 코엑스나 킨텍스처럼 전시 강의 하는 그런 곳이라 했다.',\n",
       " '일요일 코시국이라 건물 근처의 수 백대의 차들은 오직 성심당을 오기 위한 차들이였다가까운 곳에 살았다면 이곳에 있는 모든 빵을 다 맛봤을 텐데 성심당 빵은 가격도 저렴하지만 정말 다 맛있는 듯 방문하는 손님이 정말 정말 많았고 계속 나오는 빵을 보고 있으면 어디서 이 많은 양을 다 생산 할 수 있을까.',\n",
       " '정말 궁금했다.',\n",
       " '평소라면 살 찔게 두려워 건강한 빵 몇 개를 넣어 함께 골랐을 텐데 여기 아무 때나 올 수 있는 곳 아니라서 최대한 자극적이고 비쥬얼이 화려한 거 위주로 골랐다.',\n",
       " '쟁반에 빵을 들고 아무런 덮개 없이 엘리베이터를 많은 사람들과 타려니 이 행동이 코시국에 맞는 일인가.',\n",
       " '옆에 에스컬레이터 있는데 운행을 안하고 답답한 엘리베이터만 이용이 가능했다.',\n",
       " '2층으로 올라가 커피를 주문하고 자리를 잡았는데 사람도 많고 좁다.',\n",
       " '빵을 하나 하나 맛보면서 즐겼다.',\n",
       " '개인적으로는 부추빵이 최고 사촌은 단맛을 좋아하는데 초코를 듬뿍 뿌린 소보로를 최고로 여겼다.',\n",
       " '맨 마지막으로 초코 소보로를 먹었는데 그 전에 먹었던 모든 빵들이 기름져서 초코빵은 팥이나 빵 맛은 안 느껴지고 초코렛의 단맛과 진한 맛만 느껴졌다.',\n",
       " '성심당 dcc 옆으로는 93 엑스포가 열렸던 곳이였다.',\n",
       " '추억 속의 대전 엑스포 당시 전국에서 모든 학생들 다 소풍으로 엑스포 오고 국내 사람들 다 엑스포 구경한다고 대전 오고 몇 개 없는 TV 채널에서는 맨날 엑스포 소식 당시에 난 이래저래 기회가 없어서 못 왔었다.',\n",
       " '당시 가장 궁금했던 건 엑스포에 만들어진 자기부상열차였는데 탑승을 위한 대기 시간이 엄청났고 속도가 너무 느려 하나도 재미 없었다고 듣기만 했었다.',\n",
       " '수 십 년 뒤 상하이에 갔을 때 공항 도심을 고 속 자기부상열차를 타 보고 나서 느낀 점은 신기하긴 한데 열차와 크게 차이가 안 느껴져 실망감이 좀 있었다.',\n",
       " '430km 속도는 짜릿하긴 하더라.',\n",
       " '이후로 멀리서 한빛탑만 슬쩍 지나가면서 본 게 전부였다.',\n",
       " '그리고 수십 년이 지나 한 빛탑을 첫 방문하는 거라 기대감이 업 되었지만 점심시간이라고 문 닫아서 못 들어갔다.',\n",
       " '입장료도 저렴했는데 크 흡TV나 사진에서 봤을 땐 무척이나 높아 보였는데 아파트 78층 정도 전망대는 매력적이지 않았고 모든 게 이젠 추억 속의 장소처럼 느껴질 뿐이였다 한빛탑 옆에 베를린 장벽을 옮겨다 놓은 곳이 있었는데 수 많은 낙서가 있었고 내용을 읽어보니 ABC 왔다 감 93년 0월 00일 CDF 영원히 사랑해 93년 0월 00일 이런 무의미한 낙서한 애들 지금 450대일 텐 데 꼭 여기와 서 자신이 어렸을 때 무슨 짓을 했는지 본인 자녀들 데리고 와서 반성하고 창피함 느꼈으면 좋겠다.',\n",
       " '생각했다.',\n",
       " '차를 타고 연구소가 많은 연구단지 구경도 좀 하고 동생이 들어간 연구소도 확인했다.',\n",
       " '근처에 있는 곳이 한 강 둔치와 비슷한 대전 갑천이라는 곳이였는데 매우 크고 정비가 정말 잘 되어서 참 아름다웠다.',\n",
       " '운전을 하면서 구경하다가 우리도 저곳에 가서 돗자리 펴고 음악이나 듣자고 꼬셔서 다시 아파트에 차를 세우고 바로 옆 갑천 둔치로 내려와 나무 그늘이 있는 곳에 돗자리를 펴고 음악을 크게 틀어 놓고 누웠다.',\n",
       " '분당 탄천이나 한강과 많이 비슷한 느낌 대충 준비해 간 과일도 먹고 음료수도 먹고 누워 있으니 편하고 좋다 난 남 눈치 안 보는 스타일이라 여유롭게 즐기는데 쑥스러움이 있는 동생은 멀리 걸으며 운동하는 사람들 시선 때문인지 쭈뼛 쭈뼛 즐기지 못한다.',\n",
       " '크크큽탄천이나 한 강엔 정말 많은 사람들이 주 중이든 주말이든 돗자리나 그늘 막 펴고 즐기는데 이상하게 이곳은 운동하거나 자전거 타거나 산책 나온 사람들 뿐 누구도 우리처럼 돗자리나 의자를 가져와 즐기지 않았다.',\n",
       " '23시간 음악 듣고 이야기하고 풍경 구경하고 농담도 나누고 정말 편한 시간을 보냈다.',\n",
       " '일요일이라 차량 정체가 있어 밤에 올라갈 계획으로 느긋하게 즐겼다.',\n",
       " '놀았으니 또 먹어야지 동생이 첫날부터 계속 추천했던 칼국수 집에 가기로 했다.',\n",
       " '집에서 별로 멀지 않은 곳이고 사실 성심당부터 계속 배 불러 걸어갔다.',\n",
       " '메뉴는 칼국수와 수육을 파는 곳이라 했는데 응 제주 고기 칼국수 그런 건 가 수육에 칼국수 궁합이 좀 이상한데라는 생각이 들었다.',\n",
       " '대선 칼국수라는 곳인데 내부에 수 많은 정치인 유명인 사진들이 많았었고 테이블이 정말 많은데 우리가 방문한 날은 한가한 시간이고 일요일이라 사람이 다른 때보다 적다고 했다.',\n",
       " '수육은 좀 삼각형 형태로 잘라서 그런지 다른 곳에서 먹었던 수육과 다른 쫄깃함이 좋았고 독특한 고추장을 함께 줬는데 이 거 정말로 고기와 궁합이 좋았다.',\n",
       " '처음',\n",
       " '수육 주문할 땐 별로 안 땡겼는데 몇 점 먹어보니 멈출 수 없었던 이후 나온 칼국수는 고기 칼국수와 비슷했고 면이 아주 특이했다.',\n",
       " '매우 미끄럽고 다른 칼국수집들보다 훨씬 얇은 느낌이였다.',\n",
       " '일본 라멘 면발 굵기 느낌 국물도 진하고 맛있었다.',\n",
       " '이틀 동안 계속 먹어서 배가 터질 것처럼 배불렀는데도 맛있으니 계속 들어가긴 하더라.',\n",
       " '크동생 집으로 돌아오는 길에 소화제로 아메 한 잔 쇼핑몰 구경도 좀 하고 정말 들어가 보고 싶은 할리스 커피숍도 구경하고 그렇게 느긋한 시간을 보내며 집으로 걸어왔다.',\n",
       " '저녁 8시 좀 넘어 차량 정체가 많이 없어진 것 확인을 하고 집으로 출발하였다.',\n",
       " '사촌과는 다음번엔 우리 집에서 만나기로 하고 타지에서 혼자지만 잘 지 내라고 인사하고 바잇을 외쳤다.',\n",
       " '이틀 내내 대부분 동생이 돈을 냈는데 대접을 워낙 잘 받아서 다음번에는 내가 돈을 좀 써야 할 듯 지금까지 대전 방문에 특별한 즐거움을 못 찾아서 사실 기대감 0로 방문했던 대전이였는데 정말 깨끗하고 맑은 도시와 음식들이 너무 맛있어서 즐거운 주말 여행이 되었네.',\n",
       " '다음번에는 대전 구석구석을 더 여행해봐야겠다.',\n",
       " '갑천에 누워서 음악이 좋고 풍경이 아름다워 지금 순간을 기록해야지 하면서 일어나 지도 않고 누워 촬영했더니 핸폰 떨어뜨릴 뻔하고 노래 갑자기 끝나서 막 허겁지겁 앵글 바꾸고 엉망이 네 엉망']"
      ]
     },
     "execution_count": 178,
     "metadata": {},
     "output_type": "execute_result"
    }
   ],
   "source": [
    "data_df['text'].iloc[0]"
   ]
  },
  {
   "cell_type": "markdown",
   "id": "58d863d5",
   "metadata": {},
   "source": [
    "### py-hangul-check를 활용한 맞춤법 검사"
   ]
  },
  {
   "cell_type": "code",
   "execution_count": 179,
   "id": "6a515e71",
   "metadata": {},
   "outputs": [],
   "source": [
    "from hangul_checker import KoreanSpellChecker"
   ]
  },
  {
   "cell_type": "code",
   "execution_count": 180,
   "id": "2da01920",
   "metadata": {},
   "outputs": [],
   "source": [
    "ksc = KoreanSpellChecker()"
   ]
  },
  {
   "cell_type": "code",
   "execution_count": 181,
   "id": "ad1f4484",
   "metadata": {},
   "outputs": [],
   "source": [
    "# for i in tqdm(range(len(data_df))):\n",
    "#     try:\n",
    "#         data_list = data_df['text'].iloc[i]\n",
    "#         data_df['text'].iloc[i] = list(map(ksc.check_spelling, data_list))\n",
    "#         if i <= 5:\n",
    "#             print(f'맞춤법 교정전 {i}번째 데이터: {data_list[i]}')\n",
    "#             print(f'맞춤법 교정후 {i}번째 데이터: {data_df['text'].iloc[i]}')\n",
    "#     except:\n",
    "#         print('Server Error')\n",
    "#         break"
   ]
  },
  {
   "cell_type": "markdown",
   "id": "f77d5de6",
   "metadata": {},
   "source": [
    "API ERROR"
   ]
  },
  {
   "cell_type": "markdown",
   "id": "2969aad0",
   "metadata": {},
   "source": [
    "### hanspell을 활용한 맞춤법 검사"
   ]
  },
  {
   "cell_type": "code",
   "execution_count": 182,
   "id": "525c40f0",
   "metadata": {},
   "outputs": [],
   "source": [
    "from hanspell import spell_checker"
   ]
  },
  {
   "cell_type": "code",
   "execution_count": 183,
   "id": "f3fa51ef",
   "metadata": {},
   "outputs": [
    {
     "data": {
      "text/html": [
       "<div>\n",
       "<style scoped>\n",
       "    .dataframe tbody tr th:only-of-type {\n",
       "        vertical-align: middle;\n",
       "    }\n",
       "\n",
       "    .dataframe tbody tr th {\n",
       "        vertical-align: top;\n",
       "    }\n",
       "\n",
       "    .dataframe thead th {\n",
       "        text-align: right;\n",
       "    }\n",
       "</style>\n",
       "<table border=\"1\" class=\"dataframe\">\n",
       "  <thead>\n",
       "    <tr style=\"text-align: right;\">\n",
       "      <th></th>\n",
       "      <th>date</th>\n",
       "      <th>description</th>\n",
       "      <th>text</th>\n",
       "      <th>name</th>\n",
       "      <th>search</th>\n",
       "      <th>keyword</th>\n",
       "    </tr>\n",
       "  </thead>\n",
       "  <tbody>\n",
       "    <tr>\n",
       "      <th>1</th>\n",
       "      <td>210427</td>\n",
       "      <td>- 주말에 필 받아서 친구랑 성심당에서 빵먹고 오기. - 바람쐬고 싶으니 고속도로 ...</td>\n",
       "      <td>[21년 4월 17일 대전 여행 다른 친구들이야기 들어보면 사촌들과의 관계는 친구들...</td>\n",
       "      <td>그 녀석의 여행 이야기</td>\n",
       "      <td>성심당 여행 주말에</td>\n",
       "      <td>성심당</td>\n",
       "    </tr>\n",
       "    <tr>\n",
       "      <th>0</th>\n",
       "      <td>191018</td>\n",
       "      <td>이제 주말에 여유 생길 테니 자주 볼 수 있으면 좋겠다.^^ 2019대전 : 20개...</td>\n",
       "      <td>[2019 대전 20개월 아기와 함께 당일치기 여행 자차 KTX 첫차를 산 동생에게...</td>\n",
       "      <td>봄날</td>\n",
       "      <td>성심당 관광 주말에</td>\n",
       "      <td>성심당</td>\n",
       "    </tr>\n",
       "    <tr>\n",
       "      <th>1</th>\n",
       "      <td>191012</td>\n",
       "      <td>- 2019년 10월 12일 토요일 주말에 신랑이 같이 일하는 형님들과 배낚시를 간...</td>\n",
       "      <td>[2019년 10월 12일 토요일 주말에 신랑이 같이 일하는 형님들과 배낚시를 간다...</td>\n",
       "      <td>; ] 양 뚱의 BLOG</td>\n",
       "      <td>성심당 관광 주말에</td>\n",
       "      <td>성심당</td>\n",
       "    </tr>\n",
       "    <tr>\n",
       "      <th>2</th>\n",
       "      <td>190923</td>\n",
       "      <td>음식을 성심당 것 차 이들이 경기권으로 제가 주말에 들어가서 많아 다 법령도 열심히...</td>\n",
       "      <td>[안녕하세요날이 갈수록 서늘 해지는 가을로 접어들었습니다., 활동하기 알맞은 날씨와...</td>\n",
       "      <td>부산현수막</td>\n",
       "      <td>성심당 관광 주말에</td>\n",
       "      <td>성심당</td>\n",
       "    </tr>\n",
       "    <tr>\n",
       "      <th>3</th>\n",
       "      <td>190923</td>\n",
       "      <td>주말에 태풍소식이 ㅠㅠ 이전 태풍때는 바람만 불기도 했었고 그 전 태풍때 서울엔 흐...</td>\n",
       "      <td>[대전 온천여행이 되버린 주말 유성 호텔 수영장 대욕장에서 놀고 왔어요 저희 가족은...</td>\n",
       "      <td>서남매와 제주살이중_♥</td>\n",
       "      <td>성심당 관광 주말에</td>\n",
       "      <td>성심당</td>\n",
       "    </tr>\n",
       "  </tbody>\n",
       "</table>\n",
       "</div>"
      ],
      "text/plain": [
       "     date                                        description  \\\n",
       "1  210427  - 주말에 필 받아서 친구랑 성심당에서 빵먹고 오기. - 바람쐬고 싶으니 고속도로 ...   \n",
       "0  191018  이제 주말에 여유 생길 테니 자주 볼 수 있으면 좋겠다.^^ 2019대전 : 20개...   \n",
       "1  191012  - 2019년 10월 12일 토요일 주말에 신랑이 같이 일하는 형님들과 배낚시를 간...   \n",
       "2  190923  음식을 성심당 것 차 이들이 경기권으로 제가 주말에 들어가서 많아 다 법령도 열심히...   \n",
       "3  190923  주말에 태풍소식이 ㅠㅠ 이전 태풍때는 바람만 불기도 했었고 그 전 태풍때 서울엔 흐...   \n",
       "\n",
       "                                                text           name  \\\n",
       "1  [21년 4월 17일 대전 여행 다른 친구들이야기 들어보면 사촌들과의 관계는 친구들...   그 녀석의 여행 이야기   \n",
       "0  [2019 대전 20개월 아기와 함께 당일치기 여행 자차 KTX 첫차를 산 동생에게...             봄날   \n",
       "1  [2019년 10월 12일 토요일 주말에 신랑이 같이 일하는 형님들과 배낚시를 간다...  ; ] 양 뚱의 BLOG   \n",
       "2  [안녕하세요날이 갈수록 서늘 해지는 가을로 접어들었습니다., 활동하기 알맞은 날씨와...          부산현수막   \n",
       "3  [대전 온천여행이 되버린 주말 유성 호텔 수영장 대욕장에서 놀고 왔어요 저희 가족은...   서남매와 제주살이중_♥   \n",
       "\n",
       "       search keyword  \n",
       "1  성심당 여행 주말에     성심당  \n",
       "0  성심당 관광 주말에     성심당  \n",
       "1  성심당 관광 주말에     성심당  \n",
       "2  성심당 관광 주말에     성심당  \n",
       "3  성심당 관광 주말에     성심당  "
      ]
     },
     "execution_count": 183,
     "metadata": {},
     "output_type": "execute_result"
    }
   ],
   "source": [
    "data_df.head()"
   ]
  },
  {
   "cell_type": "code",
   "execution_count": 184,
   "id": "c52b0e34",
   "metadata": {},
   "outputs": [],
   "source": [
    "# data_list = []\n",
    "# result_list = []\n",
    "\n",
    "# for i in tqdm(range(len(data_df))):\n",
    "#     data_list = data_df['text'].iloc[i]\n",
    "#     data_list = list(map(spell_checker.check, data_list))\n",
    "# #     for j in range(len(data_list)):\n",
    "# #         result = data_list[j].as_dict()['check']\n",
    "# #         result_list.append(result)\n",
    "# #     data_df['text'].iloc[i] = result_list\n",
    "# #     if i <= 5:\n",
    "# #         print(f'맞춤법 교정후 {i}번째 데이터: {result_list[i]}')"
   ]
  },
  {
   "cell_type": "code",
   "execution_count": 185,
   "id": "ee95371b",
   "metadata": {},
   "outputs": [],
   "source": [
    "# test_list = data_df['text'].iloc[0]\n",
    "# for i in tqdm(range(len(test_list))): \n",
    "#     result = spell_checker.check(test_list[i]) \n",
    "#     test_list = result.as_dict()['check']"
   ]
  },
  {
   "cell_type": "code",
   "execution_count": 186,
   "id": "ccfaf5ab",
   "metadata": {
    "scrolled": false
   },
   "outputs": [],
   "source": [
    "# for i in tqdm(range(len(test_list))): \n",
    "#     try: \n",
    "#         result = spell_checker.check(test_list[i]) \n",
    "#         test_list[i] = result.as_dict()['check'] \n",
    "#     except: \n",
    "#         pass "
   ]
  },
  {
   "cell_type": "code",
   "execution_count": 187,
   "id": "f7c5b4e9",
   "metadata": {
    "scrolled": true
   },
   "outputs": [],
   "source": [
    "# for i in tqdm(range(len(test_list))): \n",
    "#     if test_list[i]['original'] != test_list[i]['checked']:\n",
    "#         print(test_list[i]['original'])\n",
    "#         print(test_list[i]['checked'])"
   ]
  },
  {
   "cell_type": "code",
   "execution_count": 188,
   "id": "3df519d6",
   "metadata": {},
   "outputs": [],
   "source": [
    "# test_list = [test_list[i]['checked'] for i in range(len(test_list))]"
   ]
  },
  {
   "cell_type": "code",
   "execution_count": 189,
   "id": "7eeeaf11",
   "metadata": {},
   "outputs": [
    {
     "data": {
      "text/plain": [
       "Checked(result=True, original='시도햇보다 ', checked='시도해보다', errors=1, words=OrderedDict([('시도해보다', 4)]), time=0.30216360092163086)"
      ]
     },
     "execution_count": 189,
     "metadata": {},
     "output_type": "execute_result"
    }
   ],
   "source": [
    "spell_checker.check('시도햇보다 ')"
   ]
  },
  {
   "cell_type": "code",
   "execution_count": 190,
   "id": "c20bed4f",
   "metadata": {},
   "outputs": [
    {
     "name": "stderr",
     "output_type": "stream",
     "text": [
      "100%|██████████| 14/14 [00:39<00:00,  2.85s/it]\n"
     ]
    }
   ],
   "source": [
    "for i in tqdm(range(len(data_df))):\n",
    "    data_list = data_df['text'].iloc[i]\n",
    "    result_list = []\n",
    "    for sen in data_list:\n",
    "        result = spell_checker.check(sen)\n",
    "        result = result.as_dict()['checked']\n",
    "        result_list.append(result)\n",
    "    data_df['text'].iloc[i] = result_list"
   ]
  },
  {
   "cell_type": "code",
   "execution_count": 191,
   "id": "d9d5c180",
   "metadata": {
    "scrolled": true
   },
   "outputs": [
    {
     "data": {
      "text/plain": [
       "['21년 4월 17일 대전 여행 다른 친구들 이야기 들어보면 사촌들과의 관계는 친구들보다 좀 벽이 있고 특별히 어려운 관계는 아니지만 그렇다고 일부러 연락해서 만나고 그러기엔 엄청 어색하다고 우리 집안이 좀 이상한 건지 대부분의 사촌 동생들과 아주 친하게 지낸다.',\n",
       " '자주 연락하고 같이 식사 술 마시고 거리낌 없이 집에서 자고 가기도 하고 아 참고로 아버지 집안의 형제가 7남매 어머니 집안은 8남매 대부분 2명의 자녀라 내 사촌들의 수는 엄청나다.',\n",
       " '크큽 사회 초년생의 사촌들은 아무래도 내가 삼촌 같아서 잘 어울리긴 힘들고 나이가 엇 비슷한 사촌들과 좀 더 친 하긴 하다.',\n",
       " '그 사촌 동생들 중 JH이라는 사촌이 있는데 오랜 기간 공부하고 연구해서 박사가 되더니 최근까지 서울에 대학에서 연구를 하다가 올해 대전에 있는 연구소로 취업을 하였다.',\n",
       " '회사에 있는 동안 오피스텔이나 기숙사에서 지 낼 걸 생각했더니 이래저래 해서 대전 둔산동에 집을 매입했고 내부 인테리어 마쳤다고 했다.',\n",
       " '집들이도 할 겸 동생 취업도 축하도 할 겸 마침 날씨는 좋은데 주말에 몸이 근질 근질 하기도 했고 1년 정도의 장기간 코로나로 집에 더 뒹굴면 진짜 우울증 심하게 올 것 같은 느낌이었다.',\n",
       " '그렇게 토요일 오후 차를 끌고 대전 둔산동 사촌 집으로 갔다.',\n",
       " '야탑에 있는 회사에서 출발하였는데 2시간 좀 넘게 걸렸다고 속도로는 막히지 않았는데 혼자 가려니 엄청 지루했다.',\n",
       " '둔산동 동생 집 주차장에 차를 세우고 간단히 집 구경을 하고 대부분 만족스러웠지만 정리 빈약한 부분 오지랖 하면서 갈구기도 하고 식사를 하러 나왔다.',\n",
       " '출발 전부터 오늘은 이 상하게 양 꼬치가 먹고 싶었다.',\n",
       " '지글지글한 양 꼬치에 맥주가 너무나 당기던 날 사실 난 대전과 연관되는 게 없어 주기적인 방문은 없다.',\n",
       " '주말에 필받아서 친구랑 성심당에서 빵 먹고 오기 바람 쐬고 싶으니 고속도로 운전해서 가 다가 얼떨결에 대전에서 치킨 먹고 올라오기 토요일 오후 친구가 급하게 호출해서 뭔 일인가 하며 친구 차를 탔더니 대전에 거래에 혼자가 기 심심하다며 납치당하기 야구 한참 빠져서 원 정 응원가기 이렇게 방문한 게 전부였다.',\n",
       " '그래서 대전에서 유명하다는 성심당엔 꼭 한 번씩 갔었는데 다른 곳은 잘 모르니 항상 본점으로 갔었다.',\n",
       " '대전 은행동이었나.',\n",
       " '매번 방문하면서 느낀 점은 많이 오래된 도시구나.',\n",
       " '주차를 좀 멀리하고 걷다 보면 구도시 이미지가 강했다.',\n",
       " '그래서 몇 번 가본 적 없던 나에겐 대전은 노후된 도시 이런 이미지만 있었는데 대전도 구 신도시 이렇게 나뉘어 있었고 신도시 쪽은 화려함도 정말 으마 아마 하더라 사촌 동생이 동네를 이동하며 여러 설명을 해줬는데 아파트들도 수도권만큼 비싸고 학원가 옆쪽 아파트는 최고가를 유지 중이라고 그렇게 도시를 가로질러 식당과 술집이 있는 곳에 도착했다. 라오 푸 양로 사촌 동생이 여기저기 검색해서 찾은 오늘의 양 꼬치 집 처음',\n",
       " '문을 열고 들어갔는데 어라.',\n",
       " '왜 가운데 테이블에 양 꼬치 불판이 없지 카운터에 물어보니 구워서 준다고 하신다.',\n",
       " '냄새도 안 나고 귀찮지 않아서 좋겠네 생각하고 양 꼬치 양 갈비 라즈 지 매운 닭튀김 이렇게 세 가지와 칭다오 맥주를 시켰다.',\n",
       " '와우 양 꼬치도 맛있었지만 특히 라즈 지 저 닭고기 요리가 엄청 맛있었다.',\n",
       " '하이볼을 좋아해서 처음 보는 양하 대곡 하이볼도 시켜봤는데 중국 술 향을 좋아하지 않는 나에겐 위스키 하이 볼보다는 별로 아주 맛있어서 양 갈비를 추가로 시켜서 더 먹었는데 불판이 없어서 그런지 배부름이 느껴질 때 고기에 하얀 기름이 좀 올라와 느끼함이 있었다.',\n",
       " '불판 위에서 기름을 다 짜내버리며 먹었으면 더 좋았겠네 하는 생각이 들었다.',\n",
       " '길거리 걸으며 식당들 술집들 구경도 좀 하다가 실내 야구장이 있어서 들어가 봤다.',\n",
       " '사촌은 오래전에 사회인 야구도 했던 터라 90kmh 속도 배팅을 도 전했다.',\n",
       " '10개 중에 23개 맞춘 듯 너 뭐 하냐 겁 내 못 치네 놀리고 나도 잘 안되겠지 생각하며 도 전했는데 6070kmh 배팅 타석에서 8개 정도 맞췄다.',\n",
       " '허술을 어 중간하게 마신 상태라 치맥을 더 즐기기로 했다.',\n",
       " '개인적으로 치킨 중에 가장 맛있다고 느끼는 굽네치킨을 먹자고 했고 근처에 매장이 있어서 찾아갔다.',\n",
       " '직원분이 10시에 종료하는데 괜찮냐고 물어봤다.',\n",
       " '아니 토요일인데 왜 일찍 문 닫지 무슨 일 있으신 가 생각하며 사촌 한데 이유를 물어보니 코로나로 영업단축 그래서 10시 종료라고 헐 내가 1년 동안 밤에 식당에서 뭘 먹은 적이 거의 없어 정말 생각도 못 했었다.',\n",
       " '당시 9시였는데 1시간이면 충분 하단 생각에 10시에 일어서겠다.',\n",
       " '말씀드리고 오리지널 반 고추 바사삭 반 평소 먹고 싶었던 구성으로 주문을 했다.',\n",
       " '난 1인 가구에 치킨 1마리를 혼자 먹지도 못하고 식으면 다음날 먹는 걸 좋아하지 않아 누굴 만나 지 않으면 치킨을 시키지 않는다.',\n",
       " '치킨이 먹고 싶을 땐 가까운 KFC 가서 조각으로 한두 개면 충분하다.',\n",
       " '그래서 이번 치킨은 정말 간 만에 먹는 타 브랜드 치킨이었다.',\n",
       " '배가 찢어지게 불렀지만 그래도 아주 맛있더라.',\n",
       " '집까지는 34정거장 좀 거리가 있긴 했는데 이런저런 이야기도 하면서 소화도 할 겸 집으로 걸어 들어왔다.',\n",
       " '집에 들어와 맥주 한 캔을 더 마시고 유튜브로 최근 관심사 이야기 나누고 새벽 3시까지 낄낄거리며 노닥거리다가 잠들었다.',\n",
       " '다음날 늦잠을 자고 게으름 피우다가 브런치로 성심당에 가기로 했다.',\n",
       " '동생 집에서는 성심당 DCC가 가까웠다.',\n",
       " '본점 하고 맛이 다르지 않을까 걱정했는데 맛은 똑같다고 느꼈고 내부 규모만 좀 다른 느낌 성심당 DCC 지점이 본점보다 주차가 훨씬 편하고 좋았다.',\n",
       " 'DCC가 뭐 하는 곳인지 전혀 몰랐는데 코엑스나 킨텍스처럼 전시 강의하는 그런 곳이라 했다.',\n",
       " '일요일 코에 국이라 건물 근처의 수 백대의 차들은 오직 성심당을 오기 위한 차들이었다 가까운 곳에 살았다면 이곳에 있는 모든 빵을 다 맛봤을 텐데 성심당 빵은 가격도 저렴하지만 정말 다 맛있는 듯 방문하는 손님이 정말 정말 많았고 계속 나오는 빵을 보고 있으면 어디서 이 많은 양을 다 생산할 수 있을까.',\n",
       " '정말 궁금했다.',\n",
       " '평소라면 살찔게 두려워 건강한 빵 몇 개를 넣어 함께 골랐을 텐데 여기 아무 때나 올 수 있는 곳 아니라서 최대한 자극적이고 비주얼이 화려한 거 위주로 골랐다.',\n",
       " '쟁반에 빵을 들고 아무런 덮개 없이 엘리베이터를 많은 사람들과 타려니 이 행동이 고 시국에 맞는 일인가.',\n",
       " '옆에 에스컬레이터 있는데 운행을 안 하고 답답한 엘리베이터만 이용이 가능했다.',\n",
       " '2층으로 올라가 커피를 주문하고 자리를 잡았는데 사람도 많고 좁다.',\n",
       " '빵을 하나하나 맛보면서 즐겼다.',\n",
       " '개인적으로는 부추 빵이 최고 사촌은 단맛을 좋아하는데 초코를 듬뿍 뿌린 곰보빵을 최고로 여겼다.',\n",
       " '맨 마지막으로 초코 곰보빵을 먹었는데 그전에 먹었던 모든 빵들이 기름져서 초코빵은 팥이나 빵 맛은 안 느껴지고 초콜릿의 단맛과 진한 맛만 느껴졌다.',\n",
       " '성심당 dcc 옆으로는 93 엑스포가 열렸던 곳이었다.',\n",
       " '추억 속의 대전 엑스포 당시 전국에서 모든 학생들 다 소풍으로 엑스포 오고 국내 사람들 다 엑스포 구경한다고 대전 오고 몇 개 없는 TV 채널에서는 맨날 엑스포 소식 당시에 난 이래저래 기회가 없어서 못 왔었다.',\n",
       " '당시 가장 궁금했던 건 엑스포에 만들어진 자기부상열차였는데 탑승을 위한 대기 시간이 엄청났고 속도가 너무 느려 하나도 재미없었다고 듣기만 했었다.',\n",
       " '수 십 년 뒤 상하이에 갔을 때 공항 도심을 고 속 자기부상열차를 타 보고 나서 느낀 점은 신기하긴 한데 열차와 크게 차이가 안 느껴져 실망감이 좀 있었다.',\n",
       " '430km 속도는 짜릿하긴 하더라.',\n",
       " '이후로 멀리서 한빛탑만 슬쩍 지나가면서 본 게 전부였다.',\n",
       " '그리고 수십 년이 지나 한 빛 톱을 첫 방문하는 거라 기대감이 업 되었지만 점심시간이라고 문 닫아서 못 들어갔다.',\n",
       " '입장료도 저렴했는데 크 흡 TV나 사진에서 봤을 땐 무척이나 높아 보였는데 아파트 78층 정도 전망대는 매력적이지 않았고 모든 게 이젠 추억 속의 장소처럼 느껴질 뿐이었다 한빛탑 옆에 베를린 장벽을 옮겨다 놓은 곳이 있었는데 수많은 낙서가 있었고 내용을 읽어보니 ABC 왔다 감 93년 0월 00일 CDF 영원히 사랑해 93년 0월 00일 이런 무의미한 낙서한 애들 지금 450대일 텐 데 꼭 여기와 서 자신이 어렸을 때 무슨 짓을 했는지 본인 자녀들 데리고 와서 반성하고 창피함 느꼈으면 좋겠다.',\n",
       " '생각했다.',\n",
       " '차를 타고 연구소가 많은 연구 단지 구경도 좀 하고 동생이 들어간 연구소도 확인했다.',\n",
       " '근처에 있는 곳이 한강 둔치와 비슷한 대전 갑천이라는 곳이었는데 매우 크고 정비가 정말 잘 되어서 참 아름다웠다.',\n",
       " '운전을 하면서 구경하다가 우리도 저곳에 가서 돗자리 펴고 음악이나 듣자고 꼬셔서 다시 아파트에 차를 세우고 바로 옆 갑천 둔치로 내려와 나무 그늘이 있는 곳에 돗자리를 펴고 음악을 크게 틀어 놓고 누웠다.',\n",
       " '분당 탄천이나 한강과 많이 비슷한 느낌 대충 준비해 간 과일도 먹고 음료수도 먹고 누워 있으니 편하고 좋다 난 남 눈치 안 보는 스타일이라 여유롭게 즐기는데 쑥스러움이 있는 동생은 멀리 걸으며 운동하는 사람들 시선 때문인지 쭈뼛 쭈뼛 즐기지 못한다.',\n",
       " '크크큽탄천이나 한강엔 정말 많은 사람들이 주 중이든 주말이든 돗자리나 그늘 막 펴고 즐기는데 이상하게 이곳은 운동하거나 자전거 타거나 산책 나온 사람들뿐 누구도 우리처럼 돗자리나 의자를 가져와 즐기지 않았다.',\n",
       " '23시간 음악 듣고 이야기하고 풍경 구경하고 농담도 나누고 정말 편한 시간을 보냈다.',\n",
       " '일요일이라 차량 정체가 있어 밤에 올라갈 계획으로 느긋하게 즐겼다.',\n",
       " '놀았으니 또 먹어야지 동생이 첫날부터 계속 추천했던 칼국숫집에 가기로 했다.',\n",
       " '집에서 별로 멀지 않은 곳이고 사실 성심당부터 계속 배불러 걸어갔다.',\n",
       " '메뉴는 칼국수와 수육을 파는 곳이라 했는데 응 제주 고기 칼국수 그런 건 가 수육에 칼국수 궁합이 좀 이상한 데라는 생각이 들었다.',\n",
       " '대선 칼국수라는 곳인데 내부에 수많은 정치인 유명인 사진들이 많았었고 테이블이 정말 많은데 우리가 방문한 날은 한가한 시간이고 일요일이라 사람이 다른 때보다 적다고 했다.',\n",
       " '수육은 좀 삼각형 형태로 잘라서 그런지 다른 곳에서 먹었던 수육과 다른 쫄깃함이 좋았고 독특한 고추장을 함께 줬는데 이거 정말로 고기와 궁합이 좋았다.',\n",
       " '처음',\n",
       " '수육 주문할 땐 별로 안 당겼는데 몇 점 먹어보니 멈출 수 없었던 이후 나온 칼국수는 고기 칼국수와 비슷했고 면이 아주 특이했다.',\n",
       " '매우 미끄럽고 다른 칼국숫집들보다 훨씬 얇은 느낌이었다.',\n",
       " '일본 라멘 면발 굵기 느낌 국물도 진하고 맛있었다.',\n",
       " '이틀 동안 계속 먹어서 배가 터질 것처럼 배불렀는데도 맛있으니 계속 들어가긴 하더라.',\n",
       " '그 동생 집으로 돌아오는 길에 소화제로 아메 한 잔 쇼핑몰 구경도 좀 하고 정말 들어가 보고 싶은 할리스 커피숍도 구경하고 그렇게 느긋한 시간을 보내며 집으로 걸어왔다.',\n",
       " '저녁 8시 좀 넘어 차량 정체가 많이 없어진 것 확인을 하고 집으로 출발하였다.',\n",
       " '사촌과는 다음번엔 우리 집에서 만나기로 하고 타지에서 혼자지만 잘 지 내라고 인사하고 바 있을 외쳤다.',\n",
       " '이틀 내내 대부분 동생이 돈을 냈는데 대접을 워낙 잘 받아서 다음번에는 내가 돈을 좀 써야 할 듯 지금까지 대전 방문에 특별한 즐거움을 못 찾아서 사실 기대감 0로 방문했던 대전이었는데 정말 깨끗하고 맑은 도시와 음식들이 너무 맛있어서 즐거운 주말여행이 되었네.',\n",
       " '다음번에는 대전 구석구석을 더 여행해봐야겠다.',\n",
       " '갑천에 누워서 음악이 좋고 풍경이 아름다워 지금 순간을 기록해야지 하면서 일어나 지도 않고 누워 촬영했더니 핸드폰 떨어뜨릴 뻔하고 노래 갑자기 끝나서 막 허겁지겁 앵글 바꾸고 엉망이 네 엉망']"
      ]
     },
     "execution_count": 191,
     "metadata": {},
     "output_type": "execute_result"
    }
   ],
   "source": [
    "data_df['text'].iloc[0]"
   ]
  },
  {
   "cell_type": "markdown",
   "id": "12214a03",
   "metadata": {},
   "source": [
    "## 정제 후 csv로 저장"
   ]
  },
  {
   "cell_type": "code",
   "execution_count": 199,
   "id": "e2d58464",
   "metadata": {},
   "outputs": [
    {
     "data": {
      "text/html": [
       "<div>\n",
       "<style scoped>\n",
       "    .dataframe tbody tr th:only-of-type {\n",
       "        vertical-align: middle;\n",
       "    }\n",
       "\n",
       "    .dataframe tbody tr th {\n",
       "        vertical-align: top;\n",
       "    }\n",
       "\n",
       "    .dataframe thead th {\n",
       "        text-align: right;\n",
       "    }\n",
       "</style>\n",
       "<table border=\"1\" class=\"dataframe\">\n",
       "  <thead>\n",
       "    <tr style=\"text-align: right;\">\n",
       "      <th></th>\n",
       "      <th>date</th>\n",
       "      <th>description</th>\n",
       "      <th>text</th>\n",
       "      <th>name</th>\n",
       "      <th>search</th>\n",
       "      <th>keyword</th>\n",
       "    </tr>\n",
       "  </thead>\n",
       "  <tbody>\n",
       "    <tr>\n",
       "      <th>1</th>\n",
       "      <td>210427</td>\n",
       "      <td>- 주말에 필 받아서 친구랑 성심당에서 빵먹고 오기. - 바람쐬고 싶으니 고속도로 ...</td>\n",
       "      <td>[21년 4월 17일 대전 여행 다른 친구들 이야기 들어보면 사촌들과의 관계는 친구...</td>\n",
       "      <td>그 녀석의 여행 이야기</td>\n",
       "      <td>성심당 여행 주말에</td>\n",
       "      <td>sungsimdang_bakery</td>\n",
       "    </tr>\n",
       "    <tr>\n",
       "      <th>0</th>\n",
       "      <td>191018</td>\n",
       "      <td>이제 주말에 여유 생길 테니 자주 볼 수 있으면 좋겠다.^^ 2019대전 : 20개...</td>\n",
       "      <td>[2019 대전 20개월 아기와 함께 당일치기 여행 자차 KTX 첫차를 산 동생에게...</td>\n",
       "      <td>봄날</td>\n",
       "      <td>성심당 관광 주말에</td>\n",
       "      <td>sungsimdang_bakery</td>\n",
       "    </tr>\n",
       "    <tr>\n",
       "      <th>1</th>\n",
       "      <td>191012</td>\n",
       "      <td>- 2019년 10월 12일 토요일 주말에 신랑이 같이 일하는 형님들과 배낚시를 간...</td>\n",
       "      <td>[2019년 10월 12일 토요일 주말에 신랑이 같이 일하는 형님들과 배낚시를 간다...</td>\n",
       "      <td>; ] 양 뚱의 BLOG</td>\n",
       "      <td>성심당 관광 주말에</td>\n",
       "      <td>sungsimdang_bakery</td>\n",
       "    </tr>\n",
       "    <tr>\n",
       "      <th>2</th>\n",
       "      <td>190923</td>\n",
       "      <td>음식을 성심당 것 차 이들이 경기권으로 제가 주말에 들어가서 많아 다 법령도 열심히...</td>\n",
       "      <td>[안녕하세요 날이 갈수록 서늘 해지는 가을로 접어들었습니다., 활동하기 알맞은 날씨...</td>\n",
       "      <td>부산현수막</td>\n",
       "      <td>성심당 관광 주말에</td>\n",
       "      <td>sungsimdang_bakery</td>\n",
       "    </tr>\n",
       "    <tr>\n",
       "      <th>3</th>\n",
       "      <td>190923</td>\n",
       "      <td>주말에 태풍소식이 ㅠㅠ 이전 태풍때는 바람만 불기도 했었고 그 전 태풍때 서울엔 흐...</td>\n",
       "      <td>[대전 온천여행이 돼버린 주말 유성 호텔 수영장 대욕장에서 놀고 왔어요 저희 가족은...</td>\n",
       "      <td>서남매와 제주살이중_♥</td>\n",
       "      <td>성심당 관광 주말에</td>\n",
       "      <td>sungsimdang_bakery</td>\n",
       "    </tr>\n",
       "  </tbody>\n",
       "</table>\n",
       "</div>"
      ],
      "text/plain": [
       "     date                                        description  \\\n",
       "1  210427  - 주말에 필 받아서 친구랑 성심당에서 빵먹고 오기. - 바람쐬고 싶으니 고속도로 ...   \n",
       "0  191018  이제 주말에 여유 생길 테니 자주 볼 수 있으면 좋겠다.^^ 2019대전 : 20개...   \n",
       "1  191012  - 2019년 10월 12일 토요일 주말에 신랑이 같이 일하는 형님들과 배낚시를 간...   \n",
       "2  190923  음식을 성심당 것 차 이들이 경기권으로 제가 주말에 들어가서 많아 다 법령도 열심히...   \n",
       "3  190923  주말에 태풍소식이 ㅠㅠ 이전 태풍때는 바람만 불기도 했었고 그 전 태풍때 서울엔 흐...   \n",
       "\n",
       "                                                text           name  \\\n",
       "1  [21년 4월 17일 대전 여행 다른 친구들 이야기 들어보면 사촌들과의 관계는 친구...   그 녀석의 여행 이야기   \n",
       "0  [2019 대전 20개월 아기와 함께 당일치기 여행 자차 KTX 첫차를 산 동생에게...             봄날   \n",
       "1  [2019년 10월 12일 토요일 주말에 신랑이 같이 일하는 형님들과 배낚시를 간다...  ; ] 양 뚱의 BLOG   \n",
       "2  [안녕하세요 날이 갈수록 서늘 해지는 가을로 접어들었습니다., 활동하기 알맞은 날씨...          부산현수막   \n",
       "3  [대전 온천여행이 돼버린 주말 유성 호텔 수영장 대욕장에서 놀고 왔어요 저희 가족은...   서남매와 제주살이중_♥   \n",
       "\n",
       "       search             keyword  \n",
       "1  성심당 여행 주말에  sungsimdang_bakery  \n",
       "0  성심당 관광 주말에  sungsimdang_bakery  \n",
       "1  성심당 관광 주말에  sungsimdang_bakery  \n",
       "2  성심당 관광 주말에  sungsimdang_bakery  \n",
       "3  성심당 관광 주말에  sungsimdang_bakery  "
      ]
     },
     "execution_count": 199,
     "metadata": {},
     "output_type": "execute_result"
    }
   ],
   "source": [
    "data_df['keyword'] = keyword_en\n",
    "data_df.head()"
   ]
  },
  {
   "cell_type": "code",
   "execution_count": 237,
   "id": "5b371be5",
   "metadata": {},
   "outputs": [],
   "source": [
    "def saveCsv(root_path, key_en, df):\n",
    "    print(f'저장 경로: {root_path}')\n",
    "    df.to_csv(root_path+key_en+'_nv.csv', header=True, index=False)"
   ]
  },
  {
   "cell_type": "code",
   "execution_count": 238,
   "id": "7db2a0c4",
   "metadata": {},
   "outputs": [
    {
     "data": {
      "text/plain": [
       "'/home/aiffel-dj19/jungcheck/DataPreprocessing/filtered/naver_review/'"
      ]
     },
     "execution_count": 238,
     "metadata": {},
     "output_type": "execute_result"
    }
   ],
   "source": [
    "save_path = os.path.join(os.getcwd(), 'filtered/naver_review/')\n",
    "save_path"
   ]
  },
  {
   "cell_type": "code",
   "execution_count": 239,
   "id": "5920dcbc",
   "metadata": {},
   "outputs": [
    {
     "name": "stdout",
     "output_type": "stream",
     "text": [
      "저장 경로: /home/aiffel-dj19/jungcheck/DataPreprocessing/filtered/naver_review/\n"
     ]
    }
   ],
   "source": [
    "saveCsv(save_path, keyword_en, data_df)"
   ]
  },
  {
   "cell_type": "code",
   "execution_count": 240,
   "id": "31602091",
   "metadata": {},
   "outputs": [
    {
     "name": "stdout",
     "output_type": "stream",
     "text": [
      "/home/aiffel-dj19/jungcheck/DataPreprocessing\n",
      "naver_sungsimdang_bakery.csv  sungsimdang_bakery_nv.csv\n"
     ]
    }
   ],
   "source": [
    "!pwd\n",
    "!ls /home/aiffel-dj19/jungcheck/DataPreprocessing/filtered/naver_review"
   ]
  }
 ],
 "metadata": {
  "kernelspec": {
   "display_name": "aiffel",
   "language": "python",
   "name": "aiffel"
  },
  "language_info": {
   "codemirror_mode": {
    "name": "ipython",
    "version": 3
   },
   "file_extension": ".py",
   "mimetype": "text/x-python",
   "name": "python",
   "nbconvert_exporter": "python",
   "pygments_lexer": "ipython3",
   "version": "3.7.10"
  },
  "toc": {
   "base_numbering": 1,
   "nav_menu": {},
   "number_sections": true,
   "sideBar": true,
   "skip_h1_title": false,
   "title_cell": "Table of Contents",
   "title_sidebar": "Contents",
   "toc_cell": false,
   "toc_position": {
    "height": "calc(100% - 180px)",
    "left": "10px",
    "top": "150px",
    "width": "183.797px"
   },
   "toc_section_display": true,
   "toc_window_display": true
  }
 },
 "nbformat": 4,
 "nbformat_minor": 5
}
