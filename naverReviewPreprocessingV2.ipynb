{
 "cells": [
  {
   "cell_type": "markdown",
   "id": "1dc279fd",
   "metadata": {},
   "source": [
    "# Naver Blog Review Preprocessing \n",
    "* 한 개의 키워드에 대한 정제 코드\n",
    "* 정규표현식 수정 \n",
    "* 정제 후 각 블로그 글 문장단위로 dataframe의 한 row로 할당해줌\n",
    "* 중복값 제거 및 문장 길이 분포 확인 후 특정 길이로 제한 처리해줌\n",
    "* 정제 후 Csv 저장까지 "
   ]
  },
  {
   "cell_type": "markdown",
   "id": "3bc28a3e",
   "metadata": {},
   "source": [
    "## 사용 라이브러리 설치"
   ]
  },
  {
   "cell_type": "markdown",
   "id": "547daee3",
   "metadata": {},
   "source": [
    "[soynlp](https://github.com/lovit/soynlp)"
   ]
  },
  {
   "cell_type": "code",
   "execution_count": 1,
   "id": "970b64fb",
   "metadata": {},
   "outputs": [
    {
     "name": "stdout",
     "output_type": "stream",
     "text": [
      "Requirement already satisfied: kss in /home/aiffel-dj19/anaconda3/envs/aiffel/lib/python3.7/site-packages (2.5.1)\n",
      "Requirement already satisfied: requests in /home/aiffel-dj19/anaconda3/envs/aiffel/lib/python3.7/site-packages (2.25.1)\n",
      "Requirement already satisfied: idna<3,>=2.5 in /home/aiffel-dj19/anaconda3/envs/aiffel/lib/python3.7/site-packages (from requests) (2.10)\n",
      "Requirement already satisfied: chardet<5,>=3.0.2 in /home/aiffel-dj19/anaconda3/envs/aiffel/lib/python3.7/site-packages (from requests) (4.0.0)\n",
      "Requirement already satisfied: urllib3<1.27,>=1.21.1 in /home/aiffel-dj19/anaconda3/envs/aiffel/lib/python3.7/site-packages (from requests) (1.26.4)\n",
      "Requirement already satisfied: certifi>=2017.4.17 in /home/aiffel-dj19/anaconda3/envs/aiffel/lib/python3.7/site-packages (from requests) (2020.12.5)\n",
      "Collecting git+https://github.com/ssut/py-hanspell.git\n",
      "  Cloning https://github.com/ssut/py-hanspell.git to /tmp/pip-req-build-1fpj0fe8\n",
      "  Running command git clone -q https://github.com/ssut/py-hanspell.git /tmp/pip-req-build-1fpj0fe8\n",
      "Requirement already satisfied: requests in /home/aiffel-dj19/anaconda3/envs/aiffel/lib/python3.7/site-packages (from py-hanspell==1.1) (2.25.1)\n",
      "Requirement already satisfied: idna<3,>=2.5 in /home/aiffel-dj19/anaconda3/envs/aiffel/lib/python3.7/site-packages (from requests->py-hanspell==1.1) (2.10)\n",
      "Requirement already satisfied: certifi>=2017.4.17 in /home/aiffel-dj19/anaconda3/envs/aiffel/lib/python3.7/site-packages (from requests->py-hanspell==1.1) (2020.12.5)\n",
      "Requirement already satisfied: chardet<5,>=3.0.2 in /home/aiffel-dj19/anaconda3/envs/aiffel/lib/python3.7/site-packages (from requests->py-hanspell==1.1) (4.0.0)\n",
      "Requirement already satisfied: urllib3<1.27,>=1.21.1 in /home/aiffel-dj19/anaconda3/envs/aiffel/lib/python3.7/site-packages (from requests->py-hanspell==1.1) (1.26.4)\n",
      "Requirement already satisfied: py-hangul-checker in /home/aiffel-dj19/anaconda3/envs/aiffel/lib/python3.7/site-packages (0.2.0)\n",
      "Requirement already satisfied: beautifulsoup4 in /home/aiffel-dj19/anaconda3/envs/aiffel/lib/python3.7/site-packages (from py-hangul-checker) (4.6.0)\n",
      "Requirement already satisfied: requests in /home/aiffel-dj19/anaconda3/envs/aiffel/lib/python3.7/site-packages (from py-hangul-checker) (2.25.1)\n",
      "Requirement already satisfied: chardet<5,>=3.0.2 in /home/aiffel-dj19/anaconda3/envs/aiffel/lib/python3.7/site-packages (from requests->py-hangul-checker) (4.0.0)\n",
      "Requirement already satisfied: certifi>=2017.4.17 in /home/aiffel-dj19/anaconda3/envs/aiffel/lib/python3.7/site-packages (from requests->py-hangul-checker) (2020.12.5)\n",
      "Requirement already satisfied: urllib3<1.27,>=1.21.1 in /home/aiffel-dj19/anaconda3/envs/aiffel/lib/python3.7/site-packages (from requests->py-hangul-checker) (1.26.4)\n",
      "Requirement already satisfied: idna<3,>=2.5 in /home/aiffel-dj19/anaconda3/envs/aiffel/lib/python3.7/site-packages (from requests->py-hangul-checker) (2.10)\n",
      "Collecting git+https://github.com/haven-jeon/PyKoSpacing.git\n",
      "  Cloning https://github.com/haven-jeon/PyKoSpacing.git to /tmp/pip-req-build-hq073bng\n",
      "  Running command git clone -q https://github.com/haven-jeon/PyKoSpacing.git /tmp/pip-req-build-hq073bng\n",
      "Requirement already satisfied: tensorflow==2.5.0 in /home/aiffel-dj19/anaconda3/envs/aiffel/lib/python3.7/site-packages (from pykospacing==0.5) (2.5.0)\n",
      "Requirement already satisfied: h5py==3.1.0 in /home/aiffel-dj19/anaconda3/envs/aiffel/lib/python3.7/site-packages (from pykospacing==0.5) (3.1.0)\n",
      "Collecting argparse>=1.4.0\n",
      "  Using cached argparse-1.4.0-py2.py3-none-any.whl (23 kB)\n",
      "Requirement already satisfied: numpy>=1.14.5 in /home/aiffel-dj19/anaconda3/envs/aiffel/lib/python3.7/site-packages (from h5py==3.1.0->pykospacing==0.5) (1.19.5)\n",
      "Requirement already satisfied: cached-property in /home/aiffel-dj19/anaconda3/envs/aiffel/lib/python3.7/site-packages (from h5py==3.1.0->pykospacing==0.5) (1.5.2)\n",
      "Requirement already satisfied: wheel~=0.35 in /home/aiffel-dj19/anaconda3/envs/aiffel/lib/python3.7/site-packages (from tensorflow==2.5.0->pykospacing==0.5) (0.36.2)\n",
      "Requirement already satisfied: astunparse~=1.6.3 in /home/aiffel-dj19/anaconda3/envs/aiffel/lib/python3.7/site-packages (from tensorflow==2.5.0->pykospacing==0.5) (1.6.3)\n",
      "Requirement already satisfied: termcolor~=1.1.0 in /home/aiffel-dj19/anaconda3/envs/aiffel/lib/python3.7/site-packages (from tensorflow==2.5.0->pykospacing==0.5) (1.1.0)\n",
      "Requirement already satisfied: grpcio~=1.34.0 in /home/aiffel-dj19/anaconda3/envs/aiffel/lib/python3.7/site-packages (from tensorflow==2.5.0->pykospacing==0.5) (1.34.1)\n",
      "Requirement already satisfied: flatbuffers~=1.12.0 in /home/aiffel-dj19/anaconda3/envs/aiffel/lib/python3.7/site-packages (from tensorflow==2.5.0->pykospacing==0.5) (1.12)\n",
      "Requirement already satisfied: typing-extensions~=3.7.4 in /home/aiffel-dj19/anaconda3/envs/aiffel/lib/python3.7/site-packages (from tensorflow==2.5.0->pykospacing==0.5) (3.7.4.3)\n",
      "Requirement already satisfied: keras-preprocessing~=1.1.2 in /home/aiffel-dj19/anaconda3/envs/aiffel/lib/python3.7/site-packages (from tensorflow==2.5.0->pykospacing==0.5) (1.1.2)\n",
      "Requirement already satisfied: tensorboard~=2.5 in /home/aiffel-dj19/anaconda3/envs/aiffel/lib/python3.7/site-packages (from tensorflow==2.5.0->pykospacing==0.5) (2.5.0)\n",
      "Requirement already satisfied: opt-einsum~=3.3.0 in /home/aiffel-dj19/anaconda3/envs/aiffel/lib/python3.7/site-packages (from tensorflow==2.5.0->pykospacing==0.5) (3.3.0)\n",
      "Requirement already satisfied: google-pasta~=0.2 in /home/aiffel-dj19/anaconda3/envs/aiffel/lib/python3.7/site-packages (from tensorflow==2.5.0->pykospacing==0.5) (0.2.0)\n",
      "Requirement already satisfied: wrapt~=1.12.1 in /home/aiffel-dj19/anaconda3/envs/aiffel/lib/python3.7/site-packages (from tensorflow==2.5.0->pykospacing==0.5) (1.12.1)\n",
      "Requirement already satisfied: protobuf>=3.9.2 in /home/aiffel-dj19/anaconda3/envs/aiffel/lib/python3.7/site-packages (from tensorflow==2.5.0->pykospacing==0.5) (3.15.8)\n",
      "Requirement already satisfied: keras-nightly~=2.5.0.dev in /home/aiffel-dj19/anaconda3/envs/aiffel/lib/python3.7/site-packages (from tensorflow==2.5.0->pykospacing==0.5) (2.5.0.dev2021032900)\n",
      "Requirement already satisfied: gast==0.4.0 in /home/aiffel-dj19/anaconda3/envs/aiffel/lib/python3.7/site-packages (from tensorflow==2.5.0->pykospacing==0.5) (0.4.0)\n",
      "Requirement already satisfied: tensorflow-estimator<2.6.0,>=2.5.0rc0 in /home/aiffel-dj19/anaconda3/envs/aiffel/lib/python3.7/site-packages (from tensorflow==2.5.0->pykospacing==0.5) (2.5.0)\n",
      "Requirement already satisfied: six~=1.15.0 in /home/aiffel-dj19/anaconda3/envs/aiffel/lib/python3.7/site-packages (from tensorflow==2.5.0->pykospacing==0.5) (1.15.0)\n",
      "Requirement already satisfied: absl-py~=0.10 in /home/aiffel-dj19/anaconda3/envs/aiffel/lib/python3.7/site-packages (from tensorflow==2.5.0->pykospacing==0.5) (0.12.0)\n",
      "Requirement already satisfied: setuptools>=41.0.0 in /home/aiffel-dj19/anaconda3/envs/aiffel/lib/python3.7/site-packages (from tensorboard~=2.5->tensorflow==2.5.0->pykospacing==0.5) (52.0.0.post20210125)\n",
      "Requirement already satisfied: google-auth<2,>=1.6.3 in /home/aiffel-dj19/anaconda3/envs/aiffel/lib/python3.7/site-packages (from tensorboard~=2.5->tensorflow==2.5.0->pykospacing==0.5) (1.30.0)\n",
      "Requirement already satisfied: markdown>=2.6.8 in /home/aiffel-dj19/anaconda3/envs/aiffel/lib/python3.7/site-packages (from tensorboard~=2.5->tensorflow==2.5.0->pykospacing==0.5) (3.3.4)\n",
      "Requirement already satisfied: tensorboard-plugin-wit>=1.6.0 in /home/aiffel-dj19/anaconda3/envs/aiffel/lib/python3.7/site-packages (from tensorboard~=2.5->tensorflow==2.5.0->pykospacing==0.5) (1.8.0)\n",
      "Requirement already satisfied: werkzeug>=0.11.15 in /home/aiffel-dj19/anaconda3/envs/aiffel/lib/python3.7/site-packages (from tensorboard~=2.5->tensorflow==2.5.0->pykospacing==0.5) (1.0.1)\n",
      "Requirement already satisfied: requests<3,>=2.21.0 in /home/aiffel-dj19/anaconda3/envs/aiffel/lib/python3.7/site-packages (from tensorboard~=2.5->tensorflow==2.5.0->pykospacing==0.5) (2.25.1)\n",
      "Requirement already satisfied: google-auth-oauthlib<0.5,>=0.4.1 in /home/aiffel-dj19/anaconda3/envs/aiffel/lib/python3.7/site-packages (from tensorboard~=2.5->tensorflow==2.5.0->pykospacing==0.5) (0.4.4)\n",
      "Requirement already satisfied: tensorboard-data-server<0.7.0,>=0.6.0 in /home/aiffel-dj19/anaconda3/envs/aiffel/lib/python3.7/site-packages (from tensorboard~=2.5->tensorflow==2.5.0->pykospacing==0.5) (0.6.0)\n",
      "Requirement already satisfied: rsa<5,>=3.1.4 in /home/aiffel-dj19/anaconda3/envs/aiffel/lib/python3.7/site-packages (from google-auth<2,>=1.6.3->tensorboard~=2.5->tensorflow==2.5.0->pykospacing==0.5) (4.7.2)\n",
      "Requirement already satisfied: pyasn1-modules>=0.2.1 in /home/aiffel-dj19/anaconda3/envs/aiffel/lib/python3.7/site-packages (from google-auth<2,>=1.6.3->tensorboard~=2.5->tensorflow==2.5.0->pykospacing==0.5) (0.2.8)\n",
      "Requirement already satisfied: cachetools<5.0,>=2.0.0 in /home/aiffel-dj19/anaconda3/envs/aiffel/lib/python3.7/site-packages (from google-auth<2,>=1.6.3->tensorboard~=2.5->tensorflow==2.5.0->pykospacing==0.5) (4.2.2)\n",
      "Requirement already satisfied: requests-oauthlib>=0.7.0 in /home/aiffel-dj19/anaconda3/envs/aiffel/lib/python3.7/site-packages (from google-auth-oauthlib<0.5,>=0.4.1->tensorboard~=2.5->tensorflow==2.5.0->pykospacing==0.5) (1.3.0)\n",
      "Requirement already satisfied: importlib-metadata in /home/aiffel-dj19/anaconda3/envs/aiffel/lib/python3.7/site-packages (from markdown>=2.6.8->tensorboard~=2.5->tensorflow==2.5.0->pykospacing==0.5) (3.10.0)\n"
     ]
    },
    {
     "name": "stdout",
     "output_type": "stream",
     "text": [
      "Requirement already satisfied: pyasn1<0.5.0,>=0.4.6 in /home/aiffel-dj19/anaconda3/envs/aiffel/lib/python3.7/site-packages (from pyasn1-modules>=0.2.1->google-auth<2,>=1.6.3->tensorboard~=2.5->tensorflow==2.5.0->pykospacing==0.5) (0.4.8)\n",
      "Requirement already satisfied: urllib3<1.27,>=1.21.1 in /home/aiffel-dj19/anaconda3/envs/aiffel/lib/python3.7/site-packages (from requests<3,>=2.21.0->tensorboard~=2.5->tensorflow==2.5.0->pykospacing==0.5) (1.26.4)\n",
      "Requirement already satisfied: certifi>=2017.4.17 in /home/aiffel-dj19/anaconda3/envs/aiffel/lib/python3.7/site-packages (from requests<3,>=2.21.0->tensorboard~=2.5->tensorflow==2.5.0->pykospacing==0.5) (2020.12.5)\n",
      "Requirement already satisfied: idna<3,>=2.5 in /home/aiffel-dj19/anaconda3/envs/aiffel/lib/python3.7/site-packages (from requests<3,>=2.21.0->tensorboard~=2.5->tensorflow==2.5.0->pykospacing==0.5) (2.10)\n",
      "Requirement already satisfied: chardet<5,>=3.0.2 in /home/aiffel-dj19/anaconda3/envs/aiffel/lib/python3.7/site-packages (from requests<3,>=2.21.0->tensorboard~=2.5->tensorflow==2.5.0->pykospacing==0.5) (4.0.0)\n",
      "Requirement already satisfied: oauthlib>=3.0.0 in /home/aiffel-dj19/anaconda3/envs/aiffel/lib/python3.7/site-packages (from requests-oauthlib>=0.7.0->google-auth-oauthlib<0.5,>=0.4.1->tensorboard~=2.5->tensorflow==2.5.0->pykospacing==0.5) (3.1.0)\n",
      "Requirement already satisfied: zipp>=0.5 in /home/aiffel-dj19/anaconda3/envs/aiffel/lib/python3.7/site-packages (from importlib-metadata->markdown>=2.6.8->tensorboard~=2.5->tensorflow==2.5.0->pykospacing==0.5) (3.4.1)\n",
      "Installing collected packages: argparse\n",
      "Successfully installed argparse-1.4.0\n",
      "Requirement already satisfied: soynlp in /home/aiffel-dj19/anaconda3/envs/aiffel/lib/python3.7/site-packages (0.0.493)\n",
      "Requirement already satisfied: numpy>=1.12.1 in /home/aiffel-dj19/anaconda3/envs/aiffel/lib/python3.7/site-packages (from soynlp) (1.19.5)\n",
      "Requirement already satisfied: scipy>=1.1.0 in /home/aiffel-dj19/anaconda3/envs/aiffel/lib/python3.7/site-packages (from soynlp) (1.6.2)\n",
      "Requirement already satisfied: scikit-learn>=0.20.0 in /home/aiffel-dj19/anaconda3/envs/aiffel/lib/python3.7/site-packages (from soynlp) (0.24.1)\n",
      "Requirement already satisfied: psutil>=5.0.1 in /home/aiffel-dj19/anaconda3/envs/aiffel/lib/python3.7/site-packages (from soynlp) (5.8.0)\n",
      "Requirement already satisfied: threadpoolctl>=2.0.0 in /home/aiffel-dj19/anaconda3/envs/aiffel/lib/python3.7/site-packages (from scikit-learn>=0.20.0->soynlp) (2.1.0)\n",
      "Requirement already satisfied: joblib>=0.11 in /home/aiffel-dj19/anaconda3/envs/aiffel/lib/python3.7/site-packages (from scikit-learn>=0.20.0->soynlp) (1.0.1)\n",
      "Requirement already satisfied: soyspacing in /home/aiffel-dj19/anaconda3/envs/aiffel/lib/python3.7/site-packages (1.0.17)\n",
      "Requirement already satisfied: numpy>=1.12.0 in /home/aiffel-dj19/anaconda3/envs/aiffel/lib/python3.7/site-packages (from soyspacing) (1.19.5)\n"
     ]
    }
   ],
   "source": [
    "# 한글 문장 분리기 \n",
    "!pip install kss # korean sentence splitter\n",
    "\n",
    "# 한글 맞춤법 검사기\n",
    "!pip install requests # py-hanspell 의존 라이브러리\n",
    "!pip install git+https://github.com/ssut/py-hanspell.git # py-hanspell\n",
    "!pip install py-hangul-checker # py-hangul-checker\n",
    "\n",
    "# 한글 띄어쓰기 교정기 \n",
    "!pip install git+https://github.com/haven-jeon/PyKoSpacing.git\n",
    "    \n",
    "# 고유명사 추출에 용이한 토크나이저\n",
    "!pip install soynlp\n",
    "\n",
    "!pip install soyspacing"
   ]
  },
  {
   "cell_type": "markdown",
   "id": "ac0a2be0",
   "metadata": {},
   "source": [
    "## 파일 경로 설정 "
   ]
  },
  {
   "cell_type": "code",
   "execution_count": 2,
   "id": "1a1538e8",
   "metadata": {},
   "outputs": [
    {
     "name": "stdout",
     "output_type": "stream",
     "text": [
      "/home/aiffel-dj19/jungcheck/DataPreprocessing\r\n"
     ]
    }
   ],
   "source": [
    "!mkdir -p ~/jungcheck/DataPreprocessing    \n",
    "!pwd    \n",
    "!cd ~/jungcheck    \n",
    "!mkdir -p ./data/naver_review  "
   ]
  },
  {
   "cell_type": "code",
   "execution_count": 3,
   "id": "03045413",
   "metadata": {},
   "outputs": [
    {
     "name": "stdout",
     "output_type": "stream",
     "text": [
      "/home/aiffel-dj19/jungcheck/DataPreprocessing\r\n"
     ]
    }
   ],
   "source": [
    "# 현재 경로 확인 \n",
    "!pwd"
   ]
  },
  {
   "cell_type": "markdown",
   "id": "bc8b7742",
   "metadata": {},
   "source": [
    "아래 tree 명령어로 상위 폴더(jungcheck)내 파일 구성을 볼 수 있습니다.    "
   ]
  },
  {
   "cell_type": "code",
   "execution_count": 4,
   "id": "647c4652",
   "metadata": {
    "scrolled": false
   },
   "outputs": [
    {
     "name": "stdout",
     "output_type": "stream",
     "text": [
      "\u001b[01;34m./data/naver_review\u001b[00m\r\n",
      "├── \u001b[01;34m수통골\u001b[00m\r\n",
      "│   ├── 수통골 관광 대전.csv\r\n",
      "│   ├── 수통골 여행 대전.csv\r\n",
      "│   ├── 수통골 여행 후기.csv\r\n",
      "│   ├── 수통골 관광 후기.csv\r\n",
      "│   └── 수통골 여행 주말에.csv\r\n",
      "├── \u001b[01;34m대청호\u001b[00m\r\n",
      "│   ├── 대청호반 관광 후기.csv\r\n",
      "│   ├── 대청호반 관광 대전.csv\r\n",
      "│   ├── 대청호반 여행 대전.csv\r\n",
      "│   ├── 대청호반 여행 후기.csv\r\n",
      "│   ├── 대청호반 관광 주말에.csv\r\n",
      "│   └── 대청호반 여행 주말에.csv\r\n",
      "├── \u001b[01;34m장태산\u001b[00m\r\n",
      "│   ├── 장태산휴양림 여행 후기.csv\r\n",
      "│   ├── 장태산휴양림 관광 후기.csv\r\n",
      "│   ├── 장태산휴양림 관광 대전.csv\r\n",
      "│   ├── 장태산휴양림 여행 대전.csv\r\n",
      "│   ├── 장태산휴양림 관광 주말에.csv\r\n",
      "│   └── 장태산휴양림 여행 주말에.csv\r\n",
      "├── \u001b[01;34m성심당\u001b[00m\r\n",
      "│   ├── 성심당 여행 후기.csv\r\n",
      "│   ├── 성심당 여행 대전.csv\r\n",
      "│   ├── 성심당 관광 대전.csv\r\n",
      "│   ├── 성심당 관광 후기.csv\r\n",
      "│   ├── 성심당 여행 주말에.csv\r\n",
      "│   └── 성심당 관광 주말에.csv\r\n",
      "├── \u001b[01;34m계족산\u001b[00m\r\n",
      "│   ├── 계족산황톳길 여행 대전.csv\r\n",
      "│   ├── 계족산황톳길 관광 대전.csv\r\n",
      "│   ├── 계족산황톳길 여행 후기.csv\r\n",
      "│   ├── 계족산황톳길 관광 후기.csv\r\n",
      "│   ├── 계족산황톳길 여행 주말에.csv\r\n",
      "│   └── 계족산황톳길 관광 주말에.csv\r\n",
      "├── \u001b[01;34m오월드\u001b[00m\r\n",
      "│   ├── 오월드 여행 대전.csv\r\n",
      "│   ├── 오월드 관광 주말에.csv\r\n",
      "│   └── 오월드 여행 주말에.csv\r\n",
      "├── \u001b[01;34m동춘당\u001b[00m\r\n",
      "│   ├── 동춘당 관광 대전.csv\r\n",
      "│   ├── 동춘당 관광 후기.csv\r\n",
      "│   ├── 동춘당 여행 대전.csv\r\n",
      "│   ├── 동춘당 여행 후기.csv\r\n",
      "│   ├── 동춘당 여행 주말에.csv\r\n",
      "│   └── 동춘당 관광 주말에.csv\r\n",
      "├── \u001b[01;34m유성온천\u001b[00m\r\n",
      "│   ├── 유성온천 관광 후기.csv\r\n",
      "│   ├── 유성온천 여행 대전.csv\r\n",
      "│   ├── 유성온천 여행 후기.csv\r\n",
      "│   ├── 유성온천 관광 대전.csv\r\n",
      "│   ├── 유성온천 여행 주말에.csv\r\n",
      "│   └── 유성온천 관광 주말에.csv\r\n",
      "├── \u001b[01;34m뿌리공원\u001b[00m\r\n",
      "│   ├── 뿌리공원 여행 후기.csv\r\n",
      "│   ├── 뿌리공원 관광 후기.csv\r\n",
      "│   ├── 뿌리공원 관광 대전.csv\r\n",
      "│   ├── 뿌리공원 여행 대전.csv\r\n",
      "│   ├── 뿌리공원 여행 주말에.csv\r\n",
      "│   └── 뿌리공원 관광 주말에.csv\r\n",
      "├── \u001b[01;34m한밭야구장\u001b[00m\r\n",
      "│   ├── 한밭야구장 관광 대전.csv\r\n",
      "│   ├── 한밭야구장 여행 대전.csv\r\n",
      "│   ├── 한밭야구장 여행 후기.csv\r\n",
      "│   ├── 한밭야구장 관광 주말에.csv\r\n",
      "│   └── 한밭야구장 여행 주말에.csv\r\n",
      "├── \u001b[01;34m한밭수목원\u001b[00m\r\n",
      "│   ├── 한밭수목원 관광 후기.csv\r\n",
      "│   ├── 한밭수목원 여행 대전.csv\r\n",
      "│   ├── 한밭수목원 관광 대전.csv\r\n",
      "│   ├── 한밭수목원 여행 후기.csv\r\n",
      "│   ├── 한밭수목원 여행 주말에.csv\r\n",
      "│   └── 한밭수목원 관광 주말에.csv\r\n",
      "├── \u001b[01;34m시민천문대\u001b[00m\r\n",
      "│   ├── 시민천문대 관광 대전.csv\r\n",
      "│   ├── 시민천문대 여행 대전.csv\r\n",
      "│   ├── 시민천문대 여행 후기.csv\r\n",
      "│   ├── 시민천문대 관광 후기.csv\r\n",
      "│   ├── 시민천문대 관광 주말에.csv\r\n",
      "│   └── 시민천문대 여행 주말에.csv\r\n",
      "├── \u001b[01;34m대전둘레산길\u001b[00m\r\n",
      "│   ├── 대전둘레산길 여행 후기.csv\r\n",
      "│   ├── 대전둘레산길 여행 대전.csv\r\n",
      "│   ├── 대전둘레산길 관광 후기.csv\r\n",
      "│   ├── 대전둘레산길 관광 대전.csv\r\n",
      "│   └── 대전둘레산길 여행 주말에.csv\r\n",
      "├── \u001b[01;34m국립중앙과학관\u001b[00m\r\n",
      "│   ├── 국립중앙과학관 관광 대전.csv\r\n",
      "│   ├── 국립중앙과학관 관광 후기.csv\r\n",
      "│   ├── 국립중앙과학관 여행 후기.csv\r\n",
      "│   ├── 국립중앙과학관 여행 대전.csv\r\n",
      "│   └── 국립중앙과학관 여행 주말에.csv\r\n",
      "├── \u001b[01;34m엑스포과학공원\u001b[00m\r\n",
      "│   ├── 엑스포과학공원 여행 대전.csv\r\n",
      "│   ├── 엑스포과학공원 관광 대전.csv\r\n",
      "│   ├── 엑스포과학공원 여행 후기.csv\r\n",
      "│   ├── 엑스포과학공원 관광 후기.csv\r\n",
      "│   ├── 엑스포과학공원 여행 주말에.csv\r\n",
      "│   └── 엑스포과학공원 관광 주말에.csv\r\n",
      "├── \u001b[01;34m대전문화예술단지\u001b[00m\r\n",
      "│   ├── 이응노미술관 관광 대전.csv\r\n",
      "│   ├── 이응노미술관 여행 후기.csv\r\n",
      "│   ├── 이응노미술관 관광 후기.csv\r\n",
      "│   ├── 이응노미술관 여행 대전.csv\r\n",
      "│   ├── 이응노미술관 관광 주말에.csv\r\n",
      "│   ├── 이응노미술관 여행 주말에.csv\r\n",
      "│   ├── 대전예술의전당 관광 후기.csv\r\n",
      "│   ├── 대전예술의전당 여행 후기.csv\r\n",
      "│   ├── 대전시립미술관 관광 후기.csv\r\n",
      "│   ├── 대전시립미술관 관광 대전.csv\r\n",
      "│   ├── 대전예술의전당 관광 대전.csv\r\n",
      "│   ├── 대전시립미술관 여행 후기.csv\r\n",
      "│   ├── 대전예술의전당 여행 대전.csv\r\n",
      "│   ├── 대전시립미술관 여행 대전.csv\r\n",
      "│   ├── 대전예술의전당 여행 주말에.csv\r\n",
      "│   ├── 대전시립미술관 여행 주말에.csv\r\n",
      "│   ├── 대전시립미술관 관광 주말에.csv\r\n",
      "│   └── 대전예술의전당 관광 주말에.csv\r\n",
      "└── \u001b[01;34m으느정이문화의거리\u001b[00m\r\n",
      "    ├── 으능정이문화의거리 관광 대전.csv\r\n",
      "    └── 으능정이문화의거리 여행 대전.csv\r\n",
      "\r\n",
      "17 directories, 103 files\r\n"
     ]
    }
   ],
   "source": [
    "# jungcheck 폴더내 경로 확인 \n",
    "!tree -L 3 -N ./data/naver_review  "
   ]
  },
  {
   "cell_type": "markdown",
   "id": "d0fcc730",
   "metadata": {},
   "source": [
    "## Data Load "
   ]
  },
  {
   "cell_type": "code",
   "execution_count": 5,
   "id": "cb142191",
   "metadata": {},
   "outputs": [],
   "source": [
    "import os \n",
    "import pandas as pd \n",
    "import glob"
   ]
  },
  {
   "cell_type": "code",
   "execution_count": 6,
   "id": "06592b43",
   "metadata": {
    "scrolled": true
   },
   "outputs": [
    {
     "data": {
      "text/plain": [
       "'/home/aiffel-dj19/jungcheck/DataPreprocessing/data/naver_review/'"
      ]
     },
     "execution_count": 6,
     "metadata": {},
     "output_type": "execute_result"
    }
   ],
   "source": [
    "data_path = os.path.join(os.getcwd(), 'data/naver_review/')\n",
    "data_path"
   ]
  },
  {
   "cell_type": "code",
   "execution_count": 7,
   "id": "5328adf1",
   "metadata": {
    "scrolled": true
   },
   "outputs": [
    {
     "data": {
      "text/plain": [
       "17"
      ]
     },
     "execution_count": 7,
     "metadata": {},
     "output_type": "execute_result"
    }
   ],
   "source": [
    "folders = os.listdir(data_path)\n",
    "len(folders)"
   ]
  },
  {
   "cell_type": "code",
   "execution_count": 8,
   "id": "8f64f92d",
   "metadata": {},
   "outputs": [],
   "source": [
    "keywords = ['장태산',\n",
    " '계족산',\n",
    " '동춘당',\n",
    " '으느정이문화의거리',\n",
    " '뿌리공원',\n",
    " '엑스포과학공원',\n",
    " '성심당',\n",
    " '수통골',\n",
    " '유성온천',\n",
    " '한밭수목원',\n",
    " '국립중앙과학관',\n",
    " '대청호',\n",
    " '대전문화예술단지',\n",
    " '시민천문대',\n",
    " '오월드',\n",
    " '한밭야구장',\n",
    " '대전둘레산길']"
   ]
  },
  {
   "cell_type": "code",
   "execution_count": 9,
   "id": "865b2a0a",
   "metadata": {
    "scrolled": false
   },
   "outputs": [
    {
     "name": "stdout",
     "output_type": "stream",
     "text": [
      "17\n",
      "['장태산', '계족산', '동춘당', '으느정이문화의거리', '뿌리공원', '엑스포과학공원', '성심당', '수통골', '유성온천', '한밭수목원', '국립중앙과학관', '대청호', '대전문화예술단지', '시민천문대', '오월드', '한밭야구장', '대전둘레산길']\n"
     ]
    }
   ],
   "source": [
    "# keywords = list(set([file_name.split()[0] for file_name in files]))\n",
    "print(len(keywords))\n",
    "print(keywords)"
   ]
  },
  {
   "cell_type": "code",
   "execution_count": 10,
   "id": "a8bfc044",
   "metadata": {},
   "outputs": [
    {
     "data": {
      "text/plain": [
       "{'장태산': [],\n",
       " '계족산': [],\n",
       " '동춘당': [],\n",
       " '으느정이문화의거리': [],\n",
       " '뿌리공원': [],\n",
       " '엑스포과학공원': [],\n",
       " '성심당': [],\n",
       " '수통골': [],\n",
       " '유성온천': [],\n",
       " '한밭수목원': [],\n",
       " '국립중앙과학관': [],\n",
       " '대청호': [],\n",
       " '대전문화예술단지': [],\n",
       " '시민천문대': [],\n",
       " '오월드': [],\n",
       " '한밭야구장': [],\n",
       " '대전둘레산길': []}"
      ]
     },
     "execution_count": 10,
     "metadata": {},
     "output_type": "execute_result"
    }
   ],
   "source": [
    "keywords = {k:[] for k in keywords}\n",
    "keywords"
   ]
  },
  {
   "cell_type": "markdown",
   "id": "d08d89e8",
   "metadata": {},
   "source": [
    "dataframe만들때 keyword 동일하게 넣어줄것 => 하나의 데이터 프레임으로 만들어버리기 "
   ]
  },
  {
   "cell_type": "code",
   "execution_count": 11,
   "id": "e345ebc3",
   "metadata": {
    "scrolled": true
   },
   "outputs": [
    {
     "data": {
      "text/plain": [
       "{'장태산': 'jangtae_mountain',\n",
       " '계족산': 'gyejok_mountain',\n",
       " '동춘당': 'dongchundang',\n",
       " '으느정이문화의거리': 'uineungjeongi_street',\n",
       " '뿌리공원': 'ppuri_park',\n",
       " '엑스포과학공원': 'expo_science_park',\n",
       " '성심당': 'sungsimdang_bakery',\n",
       " '수통골': 'water_barrel',\n",
       " '유성온천': 'yuseong_hotspring',\n",
       " '한밭수목원': 'hanbat_arboretum',\n",
       " '국립중앙과학관': 'science_museum',\n",
       " '대청호': 'daecheong_lake',\n",
       " '대전문화예술단지': 'art_culture_complex',\n",
       " '시민천문대': 'observatory',\n",
       " '오월드': 'oworld_zoo',\n",
       " '한밭야구장': 'hanbat_baseball',\n",
       " '대전둘레산길': 'dullesan_street'}"
      ]
     },
     "execution_count": 11,
     "metadata": {},
     "output_type": "execute_result"
    }
   ],
   "source": [
    "# 대전관광 홈페이지 영문버전을 참고했으며(단, 긴 경우 줄임), 해당 리스트는 정제후 파일명으로 사용\n",
    "# 나오지 않는 관광지는 네이버 검색 기준을 따름\n",
    "keywords_ko = [file_name for file_name in keywords.keys()]\n",
    "keywords_en = ['jangtae_mountain', 'gyejok_mountain', 'dongchundang', 'uineungjeongi_street', 'ppuri_park', \n",
    "               'expo_science_park', 'sungsimdang_bakery', 'water_barrel', 'yuseong_hotspring', 'hanbat_arboretum', \n",
    "               'science_museum','daecheong_lake', 'art_culture_complex', 'observatory', \n",
    "               'oworld_zoo', 'hanbat_baseball', 'dullesan_street']\n",
    "\n",
    "keywords = {k:v for k, v in zip(keywords_ko, keywords_en)}\n",
    "keywords"
   ]
  },
  {
   "cell_type": "markdown",
   "id": "2f38fd2c",
   "metadata": {},
   "source": [
    "## keyword 폴더 하위의 파일들을 하나의 데이터프레임으로 합치기"
   ]
  },
  {
   "cell_type": "code",
   "execution_count": 12,
   "id": "fbd8cf2d",
   "metadata": {},
   "outputs": [
    {
     "data": {
      "text/plain": [
       "'oworld_zoo'"
      ]
     },
     "execution_count": 12,
     "metadata": {},
     "output_type": "execute_result"
    }
   ],
   "source": [
    "keyword = '오월드'\n",
    "keyword_en = keywords[keyword]\n",
    "keyword_en"
   ]
  },
  {
   "cell_type": "code",
   "execution_count": 13,
   "id": "57ed8c61",
   "metadata": {},
   "outputs": [
    {
     "name": "stdout",
     "output_type": "stream",
     "text": [
      "3\n",
      "['오월드 관광 주말에.csv', '오월드 여행 주말에.csv', '오월드 여행 대전.csv']\n"
     ]
    }
   ],
   "source": [
    "files = os.listdir(data_path + keyword)\n",
    "print(len(files))\n",
    "print(files)"
   ]
  },
  {
   "cell_type": "code",
   "execution_count": 14,
   "id": "56b92237",
   "metadata": {
    "scrolled": true
   },
   "outputs": [
    {
     "name": "stdout",
     "output_type": "stream",
     "text": [
      "['오월드 관광 주말에.csv', '오월드 여행 주말에.csv', '오월드 여행 대전.csv']\n"
     ]
    }
   ],
   "source": [
    "# 파일명에 키워드가 포함된 것만 파일리스트에 포함 \n",
    "files_list = []\n",
    "\n",
    "for file_name in files:\n",
    "#     print(file_name)\n",
    "#     for keyword in keywords.keys():\n",
    "    if keyword in file_name:\n",
    "        files_list.append(file_name)\n",
    "print(f'{files_list}')"
   ]
  },
  {
   "cell_type": "code",
   "execution_count": 15,
   "id": "75db4941",
   "metadata": {},
   "outputs": [],
   "source": [
    "# root_path내의 dataframe을 합해주는 함수\n",
    "def concatCsv(root_path:str, keys:dict, folder_name:str):\n",
    "    '''\n",
    "        root_path: 17개의 관광지 폴더를 가지고 있는 상위 폴더까지의 경로\n",
    "        keys: 17개 관광지 키워드 사전(한국어: 영어)\n",
    "        folder_name: 17개 관광지 중 1개의 관광지명으로 된 폴더명 \n",
    "    '''\n",
    "    data_list = []\n",
    "    folder_path = os.path.join(root_path, folder_name)\n",
    "    print(f'folder name: {folder_path}')\n",
    "\n",
    "    for file in os.listdir(folder_path):\n",
    "        file_path = os.path.join(folder_path, file)\n",
    "        print(f'file path: {file_path}')\n",
    "\n",
    "        df = pd.read_csv(file_path, names=['date', 'description', 'text', 'name'], encoding='utf-8') \n",
    "        search = file.split('.')[0] # 파일명에서 검색어 추출 \n",
    "        df['search'] = search\n",
    "        df['keyword'] = folder_name \n",
    "        data_list.append(df)\n",
    "        print(f'해당 파일의 데이터 개수: {len(df)}')\n",
    "        print('-'*40)\n",
    "        \n",
    "    df = pd.concat(data_list, axis=0)\n",
    "    \n",
    "    return df"
   ]
  },
  {
   "cell_type": "code",
   "execution_count": 16,
   "id": "c64e048c",
   "metadata": {},
   "outputs": [
    {
     "data": {
      "text/plain": [
       "'/home/aiffel-dj19/jungcheck/DataPreprocessing/data/naver_review/'"
      ]
     },
     "execution_count": 16,
     "metadata": {},
     "output_type": "execute_result"
    }
   ],
   "source": [
    "data_path"
   ]
  },
  {
   "cell_type": "code",
   "execution_count": 17,
   "id": "69ae4853",
   "metadata": {
    "scrolled": true
   },
   "outputs": [
    {
     "name": "stdout",
     "output_type": "stream",
     "text": [
      "folder name: /home/aiffel-dj19/jungcheck/DataPreprocessing/data/naver_review/오월드\n",
      "file path: /home/aiffel-dj19/jungcheck/DataPreprocessing/data/naver_review/오월드/오월드 관광 주말에.csv\n",
      "해당 파일의 데이터 개수: 7\n",
      "----------------------------------------\n",
      "file path: /home/aiffel-dj19/jungcheck/DataPreprocessing/data/naver_review/오월드/오월드 여행 주말에.csv\n",
      "해당 파일의 데이터 개수: 10\n",
      "----------------------------------------\n",
      "file path: /home/aiffel-dj19/jungcheck/DataPreprocessing/data/naver_review/오월드/오월드 여행 대전.csv\n",
      "해당 파일의 데이터 개수: 1\n",
      "----------------------------------------\n"
     ]
    }
   ],
   "source": [
    "data_df = concatCsv(data_path, keywords, keyword)"
   ]
  },
  {
   "cell_type": "code",
   "execution_count": 18,
   "id": "087e5805",
   "metadata": {},
   "outputs": [
    {
     "data": {
      "text/html": [
       "<div>\n",
       "<style scoped>\n",
       "    .dataframe tbody tr th:only-of-type {\n",
       "        vertical-align: middle;\n",
       "    }\n",
       "\n",
       "    .dataframe tbody tr th {\n",
       "        vertical-align: top;\n",
       "    }\n",
       "\n",
       "    .dataframe thead th {\n",
       "        text-align: right;\n",
       "    }\n",
       "</style>\n",
       "<table border=\"1\" class=\"dataframe\">\n",
       "  <thead>\n",
       "    <tr style=\"text-align: right;\">\n",
       "      <th></th>\n",
       "      <th>date</th>\n",
       "      <th>description</th>\n",
       "      <th>text</th>\n",
       "      <th>name</th>\n",
       "      <th>search</th>\n",
       "      <th>keyword</th>\n",
       "    </tr>\n",
       "  </thead>\n",
       "  <tbody>\n",
       "    <tr>\n",
       "      <th>0</th>\n",
       "      <td>19.10.18</td>\n",
       "      <td>이제 주말에 여유 생길 테니 자주 볼 수 있으면 좋겠다.^^ 2019대전 : 20개...</td>\n",
       "      <td>\\n\\n2019대전 : 20개월 아기와 함께 당일치기 여행 (자차+KTX)첫차를 산...</td>\n",
       "      <td>봄날</td>\n",
       "      <td>오월드 관광 주말에</td>\n",
       "      <td>오월드</td>\n",
       "    </tr>\n",
       "    <tr>\n",
       "      <th>1</th>\n",
       "      <td>19.09.09</td>\n",
       "      <td>북촌으로 온 가족들과 손에 손을 맞잡고 국악축제 즐기러 가보세요! 저도 이번 주말 ...</td>\n",
       "      <td>\\n\\n이번 달은 우리나라의 큰 명절 중 하나인 추석이 있는 달이랍니다. 그렇기 때...</td>\n",
       "      <td>수하의 똑똑한 Blog</td>\n",
       "      <td>오월드 관광 주말에</td>\n",
       "      <td>오월드</td>\n",
       "    </tr>\n",
       "    <tr>\n",
       "      <th>2</th>\n",
       "      <td>19.07.08</td>\n",
       "      <td>요 판매하는 저렴한 방문한 바로 맛있었어요.무엇보다 날은 인기 못지않고 섰어요.주말...</td>\n",
       "      <td>\\n\\n보문산보문산 목재문화체험 [대전관광지]  맑음대전의 남산이라고 있는 보문산,...</td>\n",
       "      <td>kilmeboknu5님의블로그</td>\n",
       "      <td>오월드 관광 주말에</td>\n",
       "      <td>오월드</td>\n",
       "    </tr>\n",
       "    <tr>\n",
       "      <th>3</th>\n",
       "      <td>19.06.28</td>\n",
       "      <td>com) □자료: 대전오월드 2019년 대전방문의 해를 맞아 대전시 관광 활성화를 ...</td>\n",
       "      <td>\\n\\n7월을 앞두고 시원한 여름 나들이 계획에 한창 설레고 있을 요즘. 그동안 멀...</td>\n",
       "      <td>대전교차로닷컴</td>\n",
       "      <td>오월드 관광 주말에</td>\n",
       "      <td>오월드</td>\n",
       "    </tr>\n",
       "    <tr>\n",
       "      <th>4</th>\n",
       "      <td>19.06.23</td>\n",
       "      <td>관광지 요금도 검색하신다면 다 나와요! ⑤ 효율적으로 코스 세우기 내일로 여행 중에...</td>\n",
       "      <td>\\n\\n안녕하세요. 오랜만에 찾아뵙는 제한입니다.이 글은 7년동안 내일로 44회 (...</td>\n",
       "      <td>솔솔의 매주 여행 이야기</td>\n",
       "      <td>오월드 관광 주말에</td>\n",
       "      <td>오월드</td>\n",
       "    </tr>\n",
       "  </tbody>\n",
       "</table>\n",
       "</div>"
      ],
      "text/plain": [
       "       date                                        description  \\\n",
       "0  19.10.18  이제 주말에 여유 생길 테니 자주 볼 수 있으면 좋겠다.^^ 2019대전 : 20개...   \n",
       "1  19.09.09  북촌으로 온 가족들과 손에 손을 맞잡고 국악축제 즐기러 가보세요! 저도 이번 주말 ...   \n",
       "2  19.07.08  요 판매하는 저렴한 방문한 바로 맛있었어요.무엇보다 날은 인기 못지않고 섰어요.주말...   \n",
       "3  19.06.28  com) □자료: 대전오월드 2019년 대전방문의 해를 맞아 대전시 관광 활성화를 ...   \n",
       "4  19.06.23  관광지 요금도 검색하신다면 다 나와요! ⑤ 효율적으로 코스 세우기 내일로 여행 중에...   \n",
       "\n",
       "                                                text              name  \\\n",
       "0  \\n\\n2019대전 : 20개월 아기와 함께 당일치기 여행 (자차+KTX)첫차를 산...                봄날   \n",
       "1  \\n\\n이번 달은 우리나라의 큰 명절 중 하나인 추석이 있는 달이랍니다. 그렇기 때...      수하의 똑똑한 Blog   \n",
       "2  \\n\\n보문산보문산 목재문화체험 [대전관광지]  맑음대전의 남산이라고 있는 보문산,...  kilmeboknu5님의블로그   \n",
       "3  \\n\\n7월을 앞두고 시원한 여름 나들이 계획에 한창 설레고 있을 요즘. 그동안 멀...           대전교차로닷컴   \n",
       "4  \\n\\n안녕하세요. 오랜만에 찾아뵙는 제한입니다.이 글은 7년동안 내일로 44회 (...     솔솔의 매주 여행 이야기   \n",
       "\n",
       "       search keyword  \n",
       "0  오월드 관광 주말에     오월드  \n",
       "1  오월드 관광 주말에     오월드  \n",
       "2  오월드 관광 주말에     오월드  \n",
       "3  오월드 관광 주말에     오월드  \n",
       "4  오월드 관광 주말에     오월드  "
      ]
     },
     "execution_count": 18,
     "metadata": {},
     "output_type": "execute_result"
    }
   ],
   "source": [
    "data_df.head()"
   ]
  },
  {
   "cell_type": "code",
   "execution_count": 19,
   "id": "502a82ee",
   "metadata": {
    "scrolled": true
   },
   "outputs": [
    {
     "data": {
      "text/plain": [
       "18"
      ]
     },
     "execution_count": 19,
     "metadata": {},
     "output_type": "execute_result"
    }
   ],
   "source": [
    "len(data_df)"
   ]
  },
  {
   "cell_type": "markdown",
   "id": "6ed69648",
   "metadata": {},
   "source": [
    "## Data 확인"
   ]
  },
  {
   "cell_type": "markdown",
   "id": "99d1e729",
   "metadata": {},
   "source": [
    "1. 중복 데이터 확인 \n",
    "2. 중복 데이터 제거 \n",
    "3. 기간 19~21년도로 필터링"
   ]
  },
  {
   "cell_type": "code",
   "execution_count": 20,
   "id": "d324bd06",
   "metadata": {},
   "outputs": [
    {
     "name": "stdout",
     "output_type": "stream",
     "text": [
      "불러온 데이터셋은 4개의 블로그명이 겹칩니다.\n"
     ]
    }
   ],
   "source": [
    "# 블로그명 겹치는거 없는지 확인\n",
    "duplicated_name = len(data_df)-len(list(set(data_df['name'])))\n",
    "print(f'불러온 데이터셋은 {duplicated_name}개의 블로그명이 겹칩니다.')"
   ]
  },
  {
   "cell_type": "code",
   "execution_count": 21,
   "id": "1f618946",
   "metadata": {},
   "outputs": [
    {
     "name": "stdout",
     "output_type": "stream",
     "text": [
      "불러온 데이터셋은 3개의 블로그명이 겹칩니다.\n"
     ]
    }
   ],
   "source": [
    "# 블로그 본문 겹치는거 없는지 확인\n",
    "duplicated_txt = len(data_df)-len(list(set(data_df['text'])))\n",
    "print(f'불러온 데이터셋은 {duplicated_txt}개의 블로그명이 겹칩니다.')"
   ]
  },
  {
   "cell_type": "code",
   "execution_count": 22,
   "id": "577707f2",
   "metadata": {},
   "outputs": [
    {
     "name": "stdout",
     "output_type": "stream",
     "text": [
      "불러온 데이터셋은 3개의 블로그 내용이 겹칩니다.\n"
     ]
    }
   ],
   "source": [
    "# 블로그 아예 동일한 데이터 없는지 확인\n",
    "duplicated_df = data_df.duplicated(['date', 'text', 'name']).sum()\n",
    "print(f'불러온 데이터셋은 {duplicated_df}개의 블로그 내용이 겹칩니다.')"
   ]
  },
  {
   "cell_type": "code",
   "execution_count": 23,
   "id": "faac2bd1",
   "metadata": {},
   "outputs": [
    {
     "data": {
      "text/plain": [
       "15"
      ]
     },
     "execution_count": 23,
     "metadata": {},
     "output_type": "execute_result"
    }
   ],
   "source": [
    "# 중복 제거 \n",
    "data_df = data_df.drop_duplicates(['date', 'text', 'name'])\n",
    "len(data_df)"
   ]
  },
  {
   "cell_type": "code",
   "execution_count": 24,
   "id": "db4b5d80",
   "metadata": {
    "scrolled": false
   },
   "outputs": [],
   "source": [
    "# 전체 option 확인\n",
    "# pd.describe_option()"
   ]
  },
  {
   "cell_type": "code",
   "execution_count": 25,
   "id": "b1ae41ee",
   "metadata": {
    "scrolled": true
   },
   "outputs": [
    {
     "name": "stdout",
     "output_type": "stream",
     "text": [
      "60\n",
      "20\n",
      "True\n"
     ]
    }
   ],
   "source": [
    "# get pandas option \n",
    "print(pd.get_option('display.max_rows'))\n",
    "print(pd.get_option('display.max_columns'))\n",
    "print(pd.get_option('display.expand_frame_repr'))"
   ]
  },
  {
   "cell_type": "code",
   "execution_count": 26,
   "id": "9750e031",
   "metadata": {
    "scrolled": true
   },
   "outputs": [],
   "source": [
    "# # set pandas option \n",
    "# pd.set_option('display.max_rows', None) # 전체 행 보기\n",
    "# pd.set_option('display.max_columns', None) # 전체 열 보기 \n",
    "# pd.set_option('display.expand_frame_repr', False)"
   ]
  },
  {
   "cell_type": "code",
   "execution_count": 27,
   "id": "5d882c80",
   "metadata": {},
   "outputs": [],
   "source": [
    "# date에서 '.' 제거후 str에서 int로 변환 \n",
    "for i in range(len(data_df['date'])):\n",
    "    data_df['date'].iloc[i] = int(str(data_df['date'].iloc[i]).replace('.',''))"
   ]
  },
  {
   "cell_type": "code",
   "execution_count": 28,
   "id": "af9999b1",
   "metadata": {
    "scrolled": true
   },
   "outputs": [],
   "source": [
    "# # date에서 str에서 int로 변환 \n",
    "# data_df['date'] = data_df['date'].apply(lambda row: int(row))\n",
    "# data_df.head()"
   ]
  },
  {
   "cell_type": "code",
   "execution_count": 29,
   "id": "d433a224",
   "metadata": {},
   "outputs": [
    {
     "data": {
      "text/plain": [
       "int"
      ]
     },
     "execution_count": 29,
     "metadata": {},
     "output_type": "execute_result"
    }
   ],
   "source": [
    "type(data_df['date'].iloc[0])"
   ]
  },
  {
   "cell_type": "code",
   "execution_count": 30,
   "id": "8f347007",
   "metadata": {},
   "outputs": [
    {
     "data": {
      "text/plain": [
       "[190628,\n",
       " 191110,\n",
       " 191018,\n",
       " 191115,\n",
       " 210520,\n",
       " 190605,\n",
       " 191021,\n",
       " 190607,\n",
       " 190708,\n",
       " 190516,\n",
       " 190711,\n",
       " 190520,\n",
       " 191129,\n",
       " 190909,\n",
       " 190623]"
      ]
     },
     "execution_count": 30,
     "metadata": {},
     "output_type": "execute_result"
    }
   ],
   "source": [
    "date_list = list(set(data_df['date']))\n",
    "date_list"
   ]
  },
  {
   "cell_type": "code",
   "execution_count": 31,
   "id": "3a241bd1",
   "metadata": {},
   "outputs": [],
   "source": [
    "data_df = data_df[data_df['date'] >= 190101]"
   ]
  },
  {
   "cell_type": "code",
   "execution_count": 32,
   "id": "5087d73b",
   "metadata": {},
   "outputs": [],
   "source": [
    "data_df = data_df[data_df['date'] <= 210501]"
   ]
  },
  {
   "cell_type": "code",
   "execution_count": 33,
   "id": "49fa3757",
   "metadata": {
    "scrolled": true
   },
   "outputs": [
    {
     "name": "stdout",
     "output_type": "stream",
     "text": [
      "필터링된 날짜는: [210520]\n"
     ]
    }
   ],
   "source": [
    "date_list = [i for i in date_list if i not in list(set(data_df['date']))]\n",
    "print(f'필터링된 날짜는: {date_list}')"
   ]
  },
  {
   "cell_type": "code",
   "execution_count": 34,
   "id": "48008e81",
   "metadata": {},
   "outputs": [
    {
     "data": {
      "text/plain": [
       "190516"
      ]
     },
     "execution_count": 34,
     "metadata": {},
     "output_type": "execute_result"
    }
   ],
   "source": [
    "data_df['date'].min()"
   ]
  },
  {
   "cell_type": "code",
   "execution_count": 35,
   "id": "a72c9ab4",
   "metadata": {
    "scrolled": true
   },
   "outputs": [
    {
     "data": {
      "text/plain": [
       "191129"
      ]
     },
     "execution_count": 35,
     "metadata": {},
     "output_type": "execute_result"
    }
   ],
   "source": [
    "data_df['date'].max()"
   ]
  },
  {
   "cell_type": "code",
   "execution_count": 36,
   "id": "ac9196b0",
   "metadata": {},
   "outputs": [
    {
     "data": {
      "text/plain": [
       "14"
      ]
     },
     "execution_count": 36,
     "metadata": {},
     "output_type": "execute_result"
    }
   ],
   "source": [
    "len(data_df)"
   ]
  },
  {
   "cell_type": "code",
   "execution_count": 37,
   "id": "c2995074",
   "metadata": {
    "scrolled": true
   },
   "outputs": [],
   "source": [
    "# list(set(data_df['text']))"
   ]
  },
  {
   "cell_type": "code",
   "execution_count": 38,
   "id": "931715d8",
   "metadata": {},
   "outputs": [
    {
     "data": {
      "text/html": [
       "<div>\n",
       "<style scoped>\n",
       "    .dataframe tbody tr th:only-of-type {\n",
       "        vertical-align: middle;\n",
       "    }\n",
       "\n",
       "    .dataframe tbody tr th {\n",
       "        vertical-align: top;\n",
       "    }\n",
       "\n",
       "    .dataframe thead th {\n",
       "        text-align: right;\n",
       "    }\n",
       "</style>\n",
       "<table border=\"1\" class=\"dataframe\">\n",
       "  <thead>\n",
       "    <tr style=\"text-align: right;\">\n",
       "      <th></th>\n",
       "      <th>date</th>\n",
       "      <th>description</th>\n",
       "      <th>text</th>\n",
       "      <th>name</th>\n",
       "      <th>search</th>\n",
       "      <th>keyword</th>\n",
       "    </tr>\n",
       "  </thead>\n",
       "  <tbody>\n",
       "    <tr>\n",
       "      <th>0</th>\n",
       "      <td>191018</td>\n",
       "      <td>이제 주말에 여유 생길 테니 자주 볼 수 있으면 좋겠다.^^ 2019대전 : 20개...</td>\n",
       "      <td>\\n\\n2019대전 : 20개월 아기와 함께 당일치기 여행 (자차+KTX)첫차를 산...</td>\n",
       "      <td>봄날</td>\n",
       "      <td>오월드 관광 주말에</td>\n",
       "      <td>오월드</td>\n",
       "    </tr>\n",
       "    <tr>\n",
       "      <th>1</th>\n",
       "      <td>190909</td>\n",
       "      <td>북촌으로 온 가족들과 손에 손을 맞잡고 국악축제 즐기러 가보세요! 저도 이번 주말 ...</td>\n",
       "      <td>\\n\\n이번 달은 우리나라의 큰 명절 중 하나인 추석이 있는 달이랍니다. 그렇기 때...</td>\n",
       "      <td>수하의 똑똑한 Blog</td>\n",
       "      <td>오월드 관광 주말에</td>\n",
       "      <td>오월드</td>\n",
       "    </tr>\n",
       "    <tr>\n",
       "      <th>2</th>\n",
       "      <td>190708</td>\n",
       "      <td>요 판매하는 저렴한 방문한 바로 맛있었어요.무엇보다 날은 인기 못지않고 섰어요.주말...</td>\n",
       "      <td>\\n\\n보문산보문산 목재문화체험 [대전관광지]  맑음대전의 남산이라고 있는 보문산,...</td>\n",
       "      <td>kilmeboknu5님의블로그</td>\n",
       "      <td>오월드 관광 주말에</td>\n",
       "      <td>오월드</td>\n",
       "    </tr>\n",
       "    <tr>\n",
       "      <th>3</th>\n",
       "      <td>190628</td>\n",
       "      <td>com) □자료: 대전오월드 2019년 대전방문의 해를 맞아 대전시 관광 활성화를 ...</td>\n",
       "      <td>\\n\\n7월을 앞두고 시원한 여름 나들이 계획에 한창 설레고 있을 요즘. 그동안 멀...</td>\n",
       "      <td>대전교차로닷컴</td>\n",
       "      <td>오월드 관광 주말에</td>\n",
       "      <td>오월드</td>\n",
       "    </tr>\n",
       "    <tr>\n",
       "      <th>4</th>\n",
       "      <td>190623</td>\n",
       "      <td>관광지 요금도 검색하신다면 다 나와요! ⑤ 효율적으로 코스 세우기 내일로 여행 중에...</td>\n",
       "      <td>\\n\\n안녕하세요. 오랜만에 찾아뵙는 제한입니다.이 글은 7년동안 내일로 44회 (...</td>\n",
       "      <td>솔솔의 매주 여행 이야기</td>\n",
       "      <td>오월드 관광 주말에</td>\n",
       "      <td>오월드</td>\n",
       "    </tr>\n",
       "  </tbody>\n",
       "</table>\n",
       "</div>"
      ],
      "text/plain": [
       "     date                                        description  \\\n",
       "0  191018  이제 주말에 여유 생길 테니 자주 볼 수 있으면 좋겠다.^^ 2019대전 : 20개...   \n",
       "1  190909  북촌으로 온 가족들과 손에 손을 맞잡고 국악축제 즐기러 가보세요! 저도 이번 주말 ...   \n",
       "2  190708  요 판매하는 저렴한 방문한 바로 맛있었어요.무엇보다 날은 인기 못지않고 섰어요.주말...   \n",
       "3  190628  com) □자료: 대전오월드 2019년 대전방문의 해를 맞아 대전시 관광 활성화를 ...   \n",
       "4  190623  관광지 요금도 검색하신다면 다 나와요! ⑤ 효율적으로 코스 세우기 내일로 여행 중에...   \n",
       "\n",
       "                                                text              name  \\\n",
       "0  \\n\\n2019대전 : 20개월 아기와 함께 당일치기 여행 (자차+KTX)첫차를 산...                봄날   \n",
       "1  \\n\\n이번 달은 우리나라의 큰 명절 중 하나인 추석이 있는 달이랍니다. 그렇기 때...      수하의 똑똑한 Blog   \n",
       "2  \\n\\n보문산보문산 목재문화체험 [대전관광지]  맑음대전의 남산이라고 있는 보문산,...  kilmeboknu5님의블로그   \n",
       "3  \\n\\n7월을 앞두고 시원한 여름 나들이 계획에 한창 설레고 있을 요즘. 그동안 멀...           대전교차로닷컴   \n",
       "4  \\n\\n안녕하세요. 오랜만에 찾아뵙는 제한입니다.이 글은 7년동안 내일로 44회 (...     솔솔의 매주 여행 이야기   \n",
       "\n",
       "       search keyword  \n",
       "0  오월드 관광 주말에     오월드  \n",
       "1  오월드 관광 주말에     오월드  \n",
       "2  오월드 관광 주말에     오월드  \n",
       "3  오월드 관광 주말에     오월드  \n",
       "4  오월드 관광 주말에     오월드  "
      ]
     },
     "execution_count": 38,
     "metadata": {},
     "output_type": "execute_result"
    }
   ],
   "source": [
    "data_df.head()"
   ]
  },
  {
   "cell_type": "markdown",
   "id": "19f98d74",
   "metadata": {},
   "source": [
    "## 문장 분리 "
   ]
  },
  {
   "cell_type": "markdown",
   "id": "1d9e211f",
   "metadata": {},
   "source": [
    "토크나이저를 활용해 'text'에 해당하는 네이버 블로그 본문에 대한 문장 분리를 진행해줍니다. 이러한 문장 분리 관련한 자연어 처리를 Sentence boundary disambiguation(SBD)라고 합니다. 해당 키워드로 검색하면 관련한 자료들이 많이 나옵니다.\n",
    "* [kss(korean sentence splitter)](http://docs.likejazz.com/kss/) 활용 => 한글 SBD 해결에 유용\n",
    "* [spaCy](https://www.facebook.com/groups/TensorFlowKR/permalink/1025310851143306/) => 영어 SBD 해결에 유용"
   ]
  },
  {
   "cell_type": "code",
   "execution_count": 39,
   "id": "f470ed6e",
   "metadata": {},
   "outputs": [],
   "source": [
    "import kss "
   ]
  },
  {
   "cell_type": "code",
   "execution_count": 40,
   "id": "609e9086",
   "metadata": {},
   "outputs": [
    {
     "data": {
      "text/plain": [
       "[['과연 어떻게 할지 궁금합니다', '이거는 마침표없는 문장인데 어떻게 분리해낼까 할 수 있을까나 걱정됩니다']]"
      ]
     },
     "execution_count": 40,
     "metadata": {},
     "output_type": "execute_result"
    }
   ],
   "source": [
    "# 문장에 마침표 없는 경우 어떻게 문장 분리 수행하는지 확인\n",
    "test = ['과연 어떻게 할지 궁금합니다 이거는 마침표없는 문장인데 어떻게 분리해낼까 할 수 있을까나 걱정됩니다']\n",
    "test = list(map(kss.split_sentences, test)) # 문장으로 split\n",
    "test"
   ]
  },
  {
   "cell_type": "code",
   "execution_count": 41,
   "id": "fe0f5b20",
   "metadata": {},
   "outputs": [
    {
     "data": {
      "text/plain": [
       "[['과연 어떻게 할지 궁금하다 이거는 마침표없는 문장인데 어떻게 분리해낼까 할 수 있을까나 걱정됩니다']]"
      ]
     },
     "execution_count": 41,
     "metadata": {},
     "output_type": "execute_result"
    }
   ],
   "source": [
    "# 문장에 마침표 없는 경우 어떻게 문장 분리 수행하는지 확인\n",
    "test = ['과연 어떻게 할지 궁금하다 이거는 마침표없는 문장인데 어떻게 분리해낼까 할 수 있을까나 걱정됩니다']\n",
    "test = list(map(kss.split_sentences, test)) # 문장으로 split\n",
    "test"
   ]
  },
  {
   "cell_type": "code",
   "execution_count": 42,
   "id": "ecfa5628",
   "metadata": {
    "scrolled": false
   },
   "outputs": [],
   "source": [
    "data_df['text'] = data_df['text'].map(kss.split_sentences) # dataframe 문장으로 split"
   ]
  },
  {
   "cell_type": "code",
   "execution_count": 43,
   "id": "228b3fab",
   "metadata": {
    "scrolled": false
   },
   "outputs": [
    {
     "name": "stdout",
     "output_type": "stream",
     "text": [
      "10\n",
      "0번째 문장: 2019대전 : 20개월 아기와 함께 당일치기 여행 (자차+KTX)첫차를 산 동생에게 친절한 형부가 탁송서비스를 해주기로 했다.\n",
      "1번째 문장: 처음엔 K카의 탁송서비스를 이용할 생각이었으나, 주행도 해보고 내부 정리도 조금 해야 될 것 같아서그리고 구매 지점이 우리집과 가까워서 일단 집으로 차를 가져왔었다.\n",
      "2번째 문장: 덕분에 떠나게 된 대전여행.나들이 좋아하는 루아는 신바람이 났다. ㅎㅎ\n",
      "3번째 문장: 늘 들르는 송산포도 휴게소에서 아침 겸 점심을 먹고, 젤리도 조금 사고, 아빠는 또 야구게임도 좀 하고ㅎㅎ 아홉시부터 나섰더니, 길막힘 없이 수월하게 대전까지 도착했다.\n",
      "4번째 문장: 20개월의 루아는 여전히 떼를 쓰는 시기지만, 말을 알아들으니 달랠 수도 있게 되었다.\n",
      "5번째 문장: '이건 먹는게 아니야, 지지야.' '맘마먹고 놀이터가자.' '추우니까 옷입고 놀자.'덕분에 요즘  외출도 여행도 훨씬 수월하고 즐겁다.\n",
      "6번째 문장: '한 번만'의 의미도 이해해주면 좋겠는데,,,이건 일부러 안 배우는 걸까?;;; ㅎ\n",
      "7번째 문장: )#으리으리한 둔산동 파스쿠찌우리와 연이 깊었던 대전 파스쿠찌. 젤라또 아이스크림 한 컵을 주니 루아는 또 세상 행복해했다. 나나 곰돌이는 달달한 간식을 싫어하는 편인데,, 루아가 너무 행복해하니 가끔 뭐가 저렇게 좋을까 싶은 생각도 든다. 어릴 땐 이렇게 아이스크림을 좋아했었겠지...? ㅎ동생에게 차를 전달하고 약간의 기능 설명과 주행을 해본 후 헤어졌다. 겁을 먹은듯한 동생. 연수 꼭 잘 받아서 안전운전하길!!!! 이제 주말에 여유 생길 테니 자주 볼 수 있으면 좋겠다.^^2019대전 : 20개월 아기와 함께 당일치기여행 : 오월드대전에 온 김에 궁금했던 오월드(클릭)에 들러보기로 했다.우리의 목적은 사파리였기에 입구에서 입장권만 끊고 안에서 사파리를 따로 끊었는데,구경하다 보니 자유이용권을 끊을 걸 그랬나... 후회했다. 생각보다 유아가 탈만한 놀이기구가 많았고, 개별 이용권 구매 시 생각보다 가격이 비쌌다.(약4,000원)입장권 성인 \\12,000/인사파리 성인\\6,000/인운영시간놀이기구 어린이 탑승 제한들어가자마자 사파리로 직행. 루아는 지난 5월 에버랜드 사파리에 이어 두 번째 사파리 방문이데,5월의 에버랜드는 조금 빨리 찾아온 더위와 많은 인파와 긴 줄 때문에 너무 힘들었었다.그에 비하면 40여 분의 대기와 선선한 날씨.곰, 호랑이, 사자, 기린, 타조, 얼룩말..생각보다 동물도 많아서 여기 오길 참 잘했다고 생각했다. #잘 기다려줘서 고마워#곰에 집중#아빠가 싫어할 것 같은 급 가족사진#어흥어흥에버랜드 때와 달리 동물들에게 굉장히 집중하고, 흉내를 내가며 너무 즐거워했다. 5개월 사이에 이렇게 자랐구나...#인생첫 놀이기구 : 칙칙폭폭 기차여행 줄 서 있을 땐 안 탄다고 발버둥 치더니, 출발하자 조금 놀란 눈치였고, 내릴 때는 안 내린다고 떼를 썼다... 달래는 엄마 마음도 참 아쉬웠단다...(폐장시간이 다 되서 ㅜ)#오늘 사진은 왜 다 눈을 감은 건지 ㅋㅋ 컨셉이었니? 성공적이었던 오월드 방문기. 2시간 남짓한 짧은 시간이었지만, 알차고 좋았다. #저녁은?(반갱 대전 퓨전 한식 레스토랑 반갱, 20개월 아기와 다녀온 후기'Clean' 카테고리는 직접 알아보고 이용한 서비스에 직접 비용을 지불한 깨끗한 후기만을 작성합니다.\n",
      "8번째 문장: 여...blog.naver.com여행의 끝에 맛집이 빠질 수는 없으니  정부청사 근처 반갱이라는 퓨전 한식집에서 푸짐한 저녁까지 먹고 KTX를 타고 돌아왔다.\n",
      "9번째 문장: #2주 연속 KTX #끝까지 기운 넘치는 딸내미#대전여행에 성심당은 필수\n"
     ]
    }
   ],
   "source": [
    "# 문장별로 확인 \n",
    "test_list = data_df['text'].iloc[0]\n",
    "print(len(test_list)) # 문장 개수\n",
    "\n",
    "for i in range(len(test_list)): # 내용 확인\n",
    "    print(f'{i}번째 문장: {test_list[i]}')"
   ]
  },
  {
   "cell_type": "markdown",
   "id": "87038815",
   "metadata": {},
   "source": [
    "kss는 마침표가 없으면 한 문으로 인식하는 문제점이 있습니다. 그래서 normalize를 시도해서 한번 문장 정제를 거치고 split해봤습니다. 해도 안될시에는 [hanspell 라이브러리](https://ebbnflow.tistory.com/246)를 사용해볼 예정입니다."
   ]
  },
  {
   "cell_type": "markdown",
   "id": "3592f4ac",
   "metadata": {},
   "source": [
    "## 문단 정규표현식"
   ]
  },
  {
   "cell_type": "markdown",
   "id": "31492f2c",
   "metadata": {},
   "source": [
    "* [정규표현식 설명 블로그](https://blog.naver.com/PostView.nhn?blogId=wideeyed&logNo=221347960543)\n",
    "* [정규표현식 모음](https://velog.io/@ash3767/python-%EC%A0%95%EA%B7%9C%EC%8B%9D)"
   ]
  },
  {
   "cell_type": "code",
   "execution_count": 44,
   "id": "e81761c6",
   "metadata": {},
   "outputs": [],
   "source": [
    "import re"
   ]
  },
  {
   "cell_type": "code",
   "execution_count": 45,
   "id": "39c157fa",
   "metadata": {
    "scrolled": false
   },
   "outputs": [],
   "source": [
    "# def senPreprocessing(sen):\n",
    "#     sen = re.sub(pattern='^[^((http(s?))\\:\\/\\/)]([0-9a-zA-Z\\-]+\\.)+[a-zA-Z]{2,6}(\\:[0-9]+)?(\\/\\S*)?$', repl=' ', string=sen) \n",
    "#     sen = re.sub(pattern='^([\\w-]+(?:\\.[\\w-]+)*)@((?:[\\w-]+\\.)*\\w[\\w-]{0,66})\\.([a-z]{2,6}(?:\\.[a-z]{2})?)$', repl=' ', string=sen).strip() # 이메일 삭제\n",
    "#     sen = re.sub(pattern='\\([^)]*\\)', repl='', string=sen) \n",
    "#     sen = re.sub(pattern='\\<[^>]*\\)', repl='', string=sen) \n",
    "#     sen = re.sub(pattern='\\[[^]]*\\)', repl='', string=sen) \n",
    "#     sen = re.sub(pattern='[-=+,#/\\:^$@*\\\"※~&%ㆍ』\\\\‘|\\(\\)\\[\\]\\<\\>`\\'…》]', repl='', string=sen)\n",
    "#     sen = re.sub(pattern='[\\n\\xa0]', repl='', string=sen) \n",
    "#     sen = re.sub(pattern='[ㄱ-ㅎㅏ-ㅣ]+', repl='', string=sen) \n",
    "#     sen = re.sub(pattern='[?!~.]?', repl='', string=sen) # 마침표 역할하는 기호 제거  \n",
    "#     sen = re.sub(pattern='\\s+', repl=' ', string=sen).strip() # 띄어쓰기 1개씩만 \n",
    "#     sen = re.sub(pattern='/^[가-힣\\s]+$/', repl=' ', string=sen).strip()\n",
    "#     return sen"
   ]
  },
  {
   "cell_type": "code",
   "execution_count": 46,
   "id": "14634e4f",
   "metadata": {},
   "outputs": [],
   "source": [
    "def senPreprocessing(sen):\n",
    "    print(sen)\n",
    "    pattern = '\\S*@\\S*\\s?' \n",
    "    sen = re.sub(pattern=pattern, repl='', string=sen)\n",
    "#     print(\"E-mail제거 : \" , sen)\n",
    "    pattern = '(http|ftp|https)://(?:[-\\w.]|(?:%[\\da-fA-F]{2}))+'\n",
    "    sen = re.sub(pattern=pattern, repl='', string=sen)\n",
    "#     print(\"URL 제거 : \", sen)\n",
    "    pattern = '(\\d{3}).*(\\d{3}).*(\\d{4})+'\n",
    "    sen = re.sub(pattern=pattern, repl='', string=sen)\n",
    "#     print(\"번호 제거 : \", sen)\n",
    "    pattern = '[|ㄱ-ㅎ|ㅏ-ㅣ|a-z|A-Z]+'  \n",
    "    sen = re.sub(pattern=pattern, repl='', string=sen)\n",
    "#     print(\"한글 자음 모음 영문 제거 : \", sen)\n",
    "    pattern = '<[^>]*>'        \n",
    "    sen = re.sub(pattern=pattern, repl='', string=sen)\n",
    "#     print(\"태그 제거 : \" , sen)\n",
    "    pattern = '\\([^)]*\\)'\n",
    "    sen = re.sub(pattern=pattern, repl='', string=sen)\n",
    "#     print(\"괄호와 괄호안 글자 제거 :  \" , sen)\n",
    "    pattern = '[^\\w\\s]'   \n",
    "    sen = re.sub(pattern=pattern, repl='', string=sen)\n",
    "#     print(\"특수기호 제거 : \", sen)\n",
    "    sen = sen.strip()\n",
    "#     print(\"양 끝 공백 제거 : \", sen)\n",
    "    sen = \" \".join(sen.split())\n",
    "#     print(\"중간에 공백은 1개만 : \", sen)\n",
    "    print('최종 sen: ', sen)\n",
    "    return sen"
   ]
  },
  {
   "cell_type": "code",
   "execution_count": 47,
   "id": "f314bde7",
   "metadata": {},
   "outputs": [
    {
     "name": "stdout",
     "output_type": "stream",
     "text": [
      "dk  010-2232-1230    test@naver.com  http://naver.com ㅋ<ㅋ>[ㅋ]ㅋ(ㅋ)ㅋ   아 \n",
      "최종 sen:  아\n"
     ]
    },
    {
     "data": {
      "text/plain": [
       "'아'"
      ]
     },
     "execution_count": 47,
     "metadata": {},
     "output_type": "execute_result"
    }
   ],
   "source": [
    "senPreprocessing('dk  010-2232-1230    test@naver.com  http://naver.com ㅋ<ㅋ>[ㅋ]ㅋ(ㅋ)ㅋ   아 ')"
   ]
  },
  {
   "cell_type": "markdown",
   "id": "d4760b1a",
   "metadata": {},
   "source": [
    "이후에 맞춤법 교정에서 띄어쓰기를 교정할때 문장이 애매하게 띄어쓰기 되어있는 것보다, 아예 이어붙어진 경우가 교정이 더 잘 됩니다."
   ]
  },
  {
   "cell_type": "code",
   "execution_count": 48,
   "id": "205a5629",
   "metadata": {},
   "outputs": [],
   "source": [
    "from tqdm import tqdm"
   ]
  },
  {
   "cell_type": "code",
   "execution_count": 49,
   "id": "9263fa2e",
   "metadata": {},
   "outputs": [
    {
     "name": "stdout",
     "output_type": "stream",
     "text": [
      "0번째 데이터: 10개의 문장\n",
      "1번째 데이터: 95개의 문장\n",
      "2번째 데이터: 39개의 문장\n",
      "3번째 데이터: 25개의 문장\n",
      "4번째 데이터: 20개의 문장\n",
      "5번째 데이터: 21개의 문장\n",
      "6번째 데이터: 4개의 문장\n",
      "7번째 데이터: 111개의 문장\n",
      "8번째 데이터: 29개의 문장\n",
      "9번째 데이터: 13개의 문장\n",
      "10번째 데이터: 19개의 문장\n",
      "11번째 데이터: 51개의 문장\n",
      "12번째 데이터: 14개의 문장\n",
      "13번째 데이터: 60개의 문장\n"
     ]
    }
   ],
   "source": [
    "for i in range(len(data_df)):\n",
    "    length = len(data_df['text'].iloc[i])\n",
    "    print(f'{i}번째 데이터: {length}개의 문장')"
   ]
  },
  {
   "cell_type": "code",
   "execution_count": 50,
   "id": "8d2f222d",
   "metadata": {
    "scrolled": true
   },
   "outputs": [
    {
     "name": "stderr",
     "output_type": "stream",
     "text": [
      "100%|██████████| 14/14 [00:00<00:00, 134.45it/s]"
     ]
    },
    {
     "name": "stdout",
     "output_type": "stream",
     "text": [
      "2019대전 : 20개월 아기와 함께 당일치기 여행 (자차+KTX)첫차를 산 동생에게 친절한 형부가 탁송서비스를 해주기로 했다.\n",
      "최종 sen:  2019대전 20개월 아기와 함께 당일치기 여행 첫차를 산 동생에게 친절한 형부가 탁송서비스를 해주기로 했다\n",
      "처음엔 K카의 탁송서비스를 이용할 생각이었으나, 주행도 해보고 내부 정리도 조금 해야 될 것 같아서그리고 구매 지점이 우리집과 가까워서 일단 집으로 차를 가져왔었다.\n",
      "최종 sen:  처음엔 카의 탁송서비스를 이용할 생각이었으나 주행도 해보고 내부 정리도 조금 해야 될 것 같아서그리고 구매 지점이 우리집과 가까워서 일단 집으로 차를 가져왔었다\n",
      "덕분에 떠나게 된 대전여행.나들이 좋아하는 루아는 신바람이 났다. ㅎㅎ\n",
      "최종 sen:  덕분에 떠나게 된 대전여행나들이 좋아하는 루아는 신바람이 났다\n",
      "늘 들르는 송산포도 휴게소에서 아침 겸 점심을 먹고, 젤리도 조금 사고, 아빠는 또 야구게임도 좀 하고ㅎㅎ 아홉시부터 나섰더니, 길막힘 없이 수월하게 대전까지 도착했다.\n",
      "최종 sen:  늘 들르는 송산포도 휴게소에서 아침 겸 점심을 먹고 젤리도 조금 사고 아빠는 또 야구게임도 좀 하고 아홉시부터 나섰더니 길막힘 없이 수월하게 대전까지 도착했다\n",
      "20개월의 루아는 여전히 떼를 쓰는 시기지만, 말을 알아들으니 달랠 수도 있게 되었다.\n",
      "최종 sen:  20개월의 루아는 여전히 떼를 쓰는 시기지만 말을 알아들으니 달랠 수도 있게 되었다\n",
      "'이건 먹는게 아니야, 지지야.' '맘마먹고 놀이터가자.' '추우니까 옷입고 놀자.'덕분에 요즘  외출도 여행도 훨씬 수월하고 즐겁다.\n",
      "최종 sen:  이건 먹는게 아니야 지지야 맘마먹고 놀이터가자 추우니까 옷입고 놀자덕분에 요즘 외출도 여행도 훨씬 수월하고 즐겁다\n",
      "'한 번만'의 의미도 이해해주면 좋겠는데,,,이건 일부러 안 배우는 걸까?;;; ㅎ\n",
      "최종 sen:  한 번만의 의미도 이해해주면 좋겠는데이건 일부러 안 배우는 걸까\n",
      ")#으리으리한 둔산동 파스쿠찌우리와 연이 깊었던 대전 파스쿠찌. 젤라또 아이스크림 한 컵을 주니 루아는 또 세상 행복해했다. 나나 곰돌이는 달달한 간식을 싫어하는 편인데,, 루아가 너무 행복해하니 가끔 뭐가 저렇게 좋을까 싶은 생각도 든다. 어릴 땐 이렇게 아이스크림을 좋아했었겠지...? ㅎ동생에게 차를 전달하고 약간의 기능 설명과 주행을 해본 후 헤어졌다. 겁을 먹은듯한 동생. 연수 꼭 잘 받아서 안전운전하길!!!! 이제 주말에 여유 생길 테니 자주 볼 수 있으면 좋겠다.^^2019대전 : 20개월 아기와 함께 당일치기여행 : 오월드대전에 온 김에 궁금했던 오월드(클릭)에 들러보기로 했다.우리의 목적은 사파리였기에 입구에서 입장권만 끊고 안에서 사파리를 따로 끊었는데,구경하다 보니 자유이용권을 끊을 걸 그랬나... 후회했다. 생각보다 유아가 탈만한 놀이기구가 많았고, 개별 이용권 구매 시 생각보다 가격이 비쌌다.(약4,000원)입장권 성인 \\12,000/인사파리 성인\\6,000/인운영시간놀이기구 어린이 탑승 제한들어가자마자 사파리로 직행. 루아는 지난 5월 에버랜드 사파리에 이어 두 번째 사파리 방문이데,5월의 에버랜드는 조금 빨리 찾아온 더위와 많은 인파와 긴 줄 때문에 너무 힘들었었다.그에 비하면 40여 분의 대기와 선선한 날씨.곰, 호랑이, 사자, 기린, 타조, 얼룩말..생각보다 동물도 많아서 여기 오길 참 잘했다고 생각했다. #잘 기다려줘서 고마워#곰에 집중#아빠가 싫어할 것 같은 급 가족사진#어흥어흥에버랜드 때와 달리 동물들에게 굉장히 집중하고, 흉내를 내가며 너무 즐거워했다. 5개월 사이에 이렇게 자랐구나...#인생첫 놀이기구 : 칙칙폭폭 기차여행 줄 서 있을 땐 안 탄다고 발버둥 치더니, 출발하자 조금 놀란 눈치였고, 내릴 때는 안 내린다고 떼를 썼다... 달래는 엄마 마음도 참 아쉬웠단다...(폐장시간이 다 되서 ㅜ)#오늘 사진은 왜 다 눈을 감은 건지 ㅋㅋ 컨셉이었니? 성공적이었던 오월드 방문기. 2시간 남짓한 짧은 시간이었지만, 알차고 좋았다. #저녁은?(반갱 대전 퓨전 한식 레스토랑 반갱, 20개월 아기와 다녀온 후기'Clean' 카테고리는 직접 알아보고 이용한 서비스에 직접 비용을 지불한 깨끗한 후기만을 작성합니다.\n",
      "최종 sen:  으리으리한 둔산동 파스쿠찌우리와 연이 깊었던 대전 파스쿠찌 젤라또 아이스크림 한 컵을 주니 루아는 또 세상 행복해했다 나나 곰돌이는 달달한 간식을 싫어하는 편인데 루아가 너무 행복해하니 가끔 뭐가 저렇게 좋을까 싶은 생각도 든다 어릴 땐 이렇게 아이스크림을 좋아했었겠지 동생에게 차를 전달하고 약간의 기능 설명과 주행을 해본 후 헤어졌다 겁을 먹은듯한 동생 연수 꼭 잘 받아서 안전운전하길 이제 주말에 여유 생길 테니 자주 볼 수 있으면 좋겠다2019대전 20개월 아기와 함께 당일치기여행 오월드대전에 온 김에 궁금했던 오월드에 들러보기로 했다우리의 목적은 사파리였기에 입구에서 입장권만 끊고 안에서 사파리를 따로 끊었는데구경하다 보니 자유이용권을 끊을 걸 그랬나 후회했다 생각보다 유아가 탈만한 놀이기구가 많았고 개별 이용권 구매 시 생각보다 가격이 비쌌다입장권 성인 12000인사파리 성인6000인운영시간놀이기구 어린이 탑승 제한들어가자마자 사파리로 직행 루아는 지난 5월 에버랜드 사파리에 이어 두 번째 사파리 방문이데5월의 에버랜드는 조금 빨리 찾아온 더위와 많은 인파와 긴 줄 때문에 너무 힘들었었다그에 비하면 40여 분의 대기와 선선한 날씨곰 호랑이 사자 기린 타조 얼룩말생각보다 동물도 많아서 여기 오길 참 잘했다고 생각했다 잘 기다려줘서 고마워곰에 집중아빠가 싫어할 것 같은 급 가족사진어흥어흥에버랜드 때와 달리 동물들에게 굉장히 집중하고 흉내를 내가며 너무 즐거워했다 5개월 사이에 이렇게 자랐구나인생첫 놀이기구 칙칙폭폭 기차여행 줄 서 있을 땐 안 탄다고 발버둥 치더니 출발하자 조금 놀란 눈치였고 내릴 때는 안 내린다고 떼를 썼다 달래는 엄마 마음도 참 아쉬웠단다오늘 사진은 왜 다 눈을 감은 건지 컨셉이었니 성공적이었던 오월드 방문기 2시간 남짓한 짧은 시간이었지만 알차고 좋았다 저녁은반갱 대전 퓨전 한식 레스토랑 반갱 20개월 아기와 다녀온 후기 카테고리는 직접 알아보고 이용한 서비스에 직접 비용을 지불한 깨끗한 후기만을 작성합니다\n",
      "여...blog.naver.com여행의 끝에 맛집이 빠질 수는 없으니  정부청사 근처 반갱이라는 퓨전 한식집에서 푸짐한 저녁까지 먹고 KTX를 타고 돌아왔다.\n",
      "최종 sen:  여여행의 끝에 맛집이 빠질 수는 없으니 정부청사 근처 반갱이라는 퓨전 한식집에서 푸짐한 저녁까지 먹고 를 타고 돌아왔다\n",
      "#2주 연속 KTX #끝까지 기운 넘치는 딸내미#대전여행에 성심당은 필수\n",
      "최종 sen:  2주 연속 끝까지 기운 넘치는 딸내미대전여행에 성심당은 필수\n",
      "이번 달은 우리나라의 큰 명절 중 하나인 추석이 있는 달이랍니다.\n",
      "최종 sen:  이번 달은 우리나라의 큰 명절 중 하나인 추석이 있는 달이랍니다\n",
      "그렇기 때문에 추석 공연 볼만한 것들이여기 저기에서 많이 개최되는데요.\n",
      "최종 sen:  그렇기 때문에 추석 공연 볼만한 것들이여기 저기에서 많이 개최되는데요\n",
      "그 중 한 곳 우리의 소리를 따라갈 수 있는 축제가 있다고 해서 저도 한번 가보려고 합니다!\n",
      "최종 sen:  그 중 한 곳 우리의 소리를 따라갈 수 있는 축제가 있다고 해서 저도 한번 가보려고 합니다\n",
      "저는 음악과 관련된 축제를 평소에도 즐겨 보는 편인데,이번 축제들은 특히나 추석 연휴에 맞춰서 열리기 때문에가족들과 시간을 보내거나, 연인, 친구와 함께 즐기기에도 너무 좋은 행사인 것 같더라구요.\n",
      "최종 sen:  저는 음악과 관련된 축제를 평소에도 즐겨 보는 편인데이번 축제들은 특히나 추석 연휴에 맞춰서 열리기 때문에가족들과 시간을 보내거나 연인 친구와 함께 즐기기에도 너무 좋은 행사인 것 같더라구요\n",
      "이번 서울시에서 운영하는 제1회 서울국악축제는9월 한 달간 서울 광장(14-15), 북촌 일대(6-8),남산국악당, 돈화문국악당 과 같이 다양하게 즐길 수 있는추석 공연은 물론 다채로운 참여 행사까지 준비되어 있어서 어른은 물론, 우리 아이들이 새로운 문화를 접할 수 있는 기회까지!\n",
      "최종 sen:  이번 서울시에서 운영하는 제1회 서울국악축제는9월 한 달간 서울 광장 북촌 일대남산국악당 돈화문국악당 과 같이 다양하게 즐길 수 있는추석 공연은 물론 다채로운 참여 행사까지 준비되어 있어서 어른은 물론 우리 아이들이 새로운 문화를 접할 수 있는 기회까지\n",
      "우선 9월 6일부터 8일까지 원서공원 북촌일대한옥에서 열리는 ‘북촌우리음악축제’를 시작으로 연이어 다양한 우리 국악 축제들이 열릴 예정이라고 하는데요.\n",
      "최종 sen:  우선 9월 6일부터 8일까지 원서공원 북촌일대한옥에서 열리는 북촌우리음악축제를 시작으로 연이어 다양한 우리 국악 축제들이 열릴 예정이라고 하는데요\n",
      "어떤 행사들이 있는지 한번 알아보도록 할까요?\n",
      "최종 sen:  어떤 행사들이 있는지 한번 알아보도록 할까요\n",
      "9월 6일(금)부터 9일(월)까지는‘오픈 더 돈화문’이라는 공연이 열릴 예정입니다!\n",
      "최종 sen:  9월 6일부터 9일까지는오픈 더 돈화문이라는 공연이 열릴 예정입니다\n",
      "저도 이 행사 개인적으로 진짜 가보고 싶어요.소리를 담는 의미, 국악을 담는 공간이라는 주제로우리의 음악을 사랑하고, 그 가치를 알리고자 노력하는 분들인국악전문 음반사 레이블 소설과함께 진행되는 국악 토크콘서트랍니다.\n",
      "최종 sen:  저도 이 행사 개인적으로 진짜 가보고 싶어요소리를 담는 의미 국악을 담는 공간이라는 주제로우리의 음악을 사랑하고 그 가치를 알리고자 노력하는 분들인국악전문 음반사 레이블 소설과함께 진행되는 국악 토크콘서트랍니다\n",
      "요즘에는 국악 관련된 공연이 많이 없어서 우리의 전통 소리를 접할 기회가 흔치 않잖아요.\n",
      "최종 sen:  요즘에는 국악 관련된 공연이 많이 없어서 우리의 전통 소리를 접할 기회가 흔치 않잖아요\n",
      "하지만 한번 들으면 그 매력에 흠뻑 빠지실 텐데요!\n",
      "최종 sen:  하지만 한번 들으면 그 매력에 흠뻑 빠지실 텐데요\n",
      "시대가 변해도 질리지 않기 때문에오히려 요즘에는 젊은 층들에게 더 사랑받는 우리 가락이기도 하죠.\n",
      "최종 sen:  시대가 변해도 질리지 않기 때문에오히려 요즘에는 젊은 층들에게 더 사랑받는 우리 가락이기도 하죠\n",
      "추석연휴 가볼만한곳 찾고 계시는 분들은좀 색다르게 열리는 추석 공연 들의 발자취를 따라움직여 보는 재미도 있을 것 같은데요.\n",
      "최종 sen:  추석연휴 가볼만한곳 찾고 계시는 분들은좀 색다르게 열리는 추석 공연 들의 발자취를 따라움직여 보는 재미도 있을 것 같은데요\n",
      "서울남산국악당에서도 굉장히 다양한 행사들이 많이 열릴 예정이라고 해요.\n",
      "최종 sen:  서울남산국악당에서도 굉장히 다양한 행사들이 많이 열릴 예정이라고 해요\n",
      "우선 첫째로, 9월 14일에는 서울남산국악당 크라운해태홀에서천하제일 젊은 탈춤꾼들의 무도회인‘가장무도’ 행사도 열린다는 데요!\n",
      "최종 sen:  우선 첫째로 9월 14일에는 서울남산국악당 크라운해태홀에서천하제일 젊은 탈춤꾼들의 무도회인가장무도 행사도 열린다는 데요\n",
      "사실 이런 행사 아니면 어디서 우리 전통 탈춤을 접할 수 있을까요?\n",
      "최종 sen:  사실 이런 행사 아니면 어디서 우리 전통 탈춤을 접할 수 있을까요\n",
      "게다가 도심 속에서 느끼는 여유로운 힐링의 시간으로‘본격 누워 듣는 음악회’도 개최될 예정이래요!\n",
      "최종 sen:  게다가 도심 속에서 느끼는 여유로운 힐링의 시간으로본격 누워 듣는 음악회도 개최될 예정이래요\n",
      "요즘은 날도 선선하고 좋아서 가만히 누워서우리 소리와 함께 보낸다면 얼마나 좋을까요?\n",
      "최종 sen:  요즘은 날도 선선하고 좋아서 가만히 누워서우리 소리와 함께 보낸다면 얼마나 좋을까요\n",
      "이외에도 남산골을 들썩이게 만드는 연희집단 갱 <도시길놀이>부터남산골 한옥마을을 돌며 공연을 체험하는 신개념 국악투어 공연까지!\n",
      "최종 sen:  이외에도 남산골을 들썩이게 만드는 연희집단 갱 부터남산골 한옥마을을 돌며 공연을 체험하는 신개념 국악투어 공연까지\n",
      "아주 다양하게 즐길 수 있으니 한번 가보시는 것도 좋을 것 같아요.\n",
      "최종 sen:  아주 다양하게 즐길 수 있으니 한번 가보시는 것도 좋을 것 같아요\n",
      "국악을 쉽게 접하기 힘든 젊은 분들은국악대학생분들의 성장드라마, 나만의 PICK을 고르는 참여형 음악축제인 2019 국악대학전에 한번 가보시는 것도 좋을 것 같은데요!\n",
      "최종 sen:  국악을 쉽게 접하기 힘든 젊은 분들은국악대학생분들의 성장드라마 나만의 을 고르는 참여형 음악축제인 2019 국악대학전에 한번 가보시는 것도 좋을 것 같은데요\n",
      "장르별 경합 공연으로 진행되기 때문에 시민들의 투표로가장 잘 했다고 생각되는 참가자를 선택하는 방식이라고 해요!\n",
      "최종 sen:  장르별 경합 공연으로 진행되기 때문에 시민들의 투표로가장 잘 했다고 생각되는 참가자를 선택하는 방식이라고 해요\n",
      "마치 프로듀스 101같은 느낌이 들기도 하고…?이번 기회에 국악 계의 국민 프로듀서가 될 수 있는 기회 잡아 시는 것도 좋을 것 같아요~그리고 서울 광장에서 열리는 추석 공연 메인 행사의 경우 9월 14일(토), 15일(일)에 진행 되는서울국악축제 ‘국악이 칭칭 나네’ 라는 행사인데요.\n",
      "최종 sen:  마치 프로듀스 101같은 느낌이 들기도 하고이번 기회에 국악 계의 국민 프로듀서가 될 수 있는 기회 잡아 시는 것도 좋을 것 같아요그리고 서울 광장에서 열리는 추석 공연 메인 행사의 경우 9월 14일 15일에 진행 되는서울국악축제 국악이 칭칭 나네 라는 행사인데요\n",
      "추석 기간에 공연은 물론 신해통공 마켓과 국악 유희촌,국악 체험존, 국악 알림터 등이 열리기 때문에한번 가면 시간 가는 줄 모르고 참여할 수 있다는 것이이번 행사의 가장 큰 장점인 것 같아요~능동적으로 즐기는 축제 이기 때문에추석 공연을 찾으시는 분들께 더더욱 적합한 행사라고 할 수 있죠.\n",
      "최종 sen:  추석 기간에 공연은 물론 신해통공 마켓과 국악 유희촌국악 체험존 국악 알림터 등이 열리기 때문에한번 가면 시간 가는 줄 모르고 참여할 수 있다는 것이이번 행사의 가장 큰 장점인 것 같아요능동적으로 즐기는 축제 이기 때문에추석 공연을 찾으시는 분들께 더더욱 적합한 행사라고 할 수 있죠\n",
      "뿐만 아니라 국악활성화를 위한 사업으로북촌과 도심을 걸으며 국악과 함께 둘레 여행을 떠나는 행사도 마련되어 있어서저도 한번 참여해볼까 생각 중이에요!\n",
      "최종 sen:  뿐만 아니라 국악활성화를 위한 사업으로북촌과 도심을 걸으며 국악과 함께 둘레 여행을 떠나는 행사도 마련되어 있어서저도 한번 참여해볼까 생각 중이에요\n",
      "평소에 북촌 한옥마을 가는 거 좋아하는 편인데우리의 소리와 함께 둘레길을 걷는다면 더욱 의미 있는 하루가 되지 않을까 싶네요!\n",
      "최종 sen:  평소에 북촌 한옥마을 가는 거 좋아하는 편인데우리의 소리와 함께 둘레길을 걷는다면 더욱 의미 있는 하루가 되지 않을까 싶네요\n",
      "보통은 추석이 되면 전 부치고 제사를 지내고성묘를 다녀오고 술을 마시거나 집에서 빈둥빈둥 노는 경우가 많잖아요.\n",
      "최종 sen:  보통은 추석이 되면 전 부치고 제사를 지내고성묘를 다녀오고 술을 마시거나 집에서 빈둥빈둥 노는 경우가 많잖아요\n",
      "이젠 그런 무의미한 시간 보다 가족들과 함께재미 있는 공연도 구경하고 부모님과 함께 할머니, 할아버지와 함께 온 가족이 즐기는 시간을 가져 보는 것도 너무 좋을 것 같지 않나요?\n",
      "최종 sen:  이젠 그런 무의미한 시간 보다 가족들과 함께재미 있는 공연도 구경하고 부모님과 함께 할머니 할아버지와 함께 온 가족이 즐기는 시간을 가져 보는 것도 너무 좋을 것 같지 않나요\n",
      "더군다나 제가 이 추석 공연 행사를 이렇게 추천하는 이유는 이렇게 다양한 행사를 참여할 수 있는 데 모든 게 ‘무료’로 진행된다는 것!!!\n",
      "최종 sen:  더군다나 제가 이 추석 공연 행사를 이렇게 추천하는 이유는 이렇게 다양한 행사를 참여할 수 있는 데 모든 게 무료로 진행된다는 것\n",
      "앉아서 공연만 보는 것도 아니고 여기저기 참여도 가능한데 무료라니어디 가서 돈 주고도 이런 행사 보기 힘들 거라고 자부합니다\n",
      "최종 sen:  앉아서 공연만 보는 것도 아니고 여기저기 참여도 가능한데 무료라니어디 가서 돈 주고도 이런 행사 보기 힘들 거라고 자부합니다\n",
      "진짜! 제1회로 이번에 처음\n",
      "최종 sen:  진짜 제1회로 이번에 처음\n",
      "개최되는 추석 공연 축제인 만큼 서울시에서 그만큼 다양하고 많은 축제를 준비했는데요.\n",
      "최종 sen:  개최되는 추석 공연 축제인 만큼 서울시에서 그만큼 다양하고 많은 축제를 준비했는데요\n",
      "평소에 접하기 힘든 국악으로 놀고, 날고를 한 번에 할 수 있으며 신명 나는 가을 분위기에 취해가족뿐만 아니라 함께 온 사람들과 하나가 되어 축제를 즐길 수 있는 장이랍니다.\n",
      "최종 sen:  평소에 접하기 힘든 국악으로 놀고 날고를 한 번에 할 수 있으며 신명 나는 가을 분위기에 취해가족뿐만 아니라 함께 온 사람들과 하나가 되어 축제를 즐길 수 있는 장이랍니다\n",
      "게다가 이번 공연은 추석 뿐만 아니라9월 한달간 계속해서 진행되고 있기 때문에9월 6일(금)부터 29(일)까지 신명 나게우리의 소리를 즐길 수 있도록 마련되어 있답니다!\n",
      "최종 sen:  게다가 이번 공연은 추석 뿐만 아니라9월 한달간 계속해서 진행되고 있기 때문에9월 6일부터 29까지 신명 나게우리의 소리를 즐길 수 있도록 마련되어 있답니다\n",
      "보통은 미술이나 다른 음악의 자취를 따라서둘레 여행길을 떠나지만, 이번에는 조금 특색 있게우리 민족 고유의 명절인 한가위에 국악을 들으며둘레길을 걷는다면 정말 기억에 남는 추석이 될 것 같아요!\n",
      "최종 sen:  보통은 미술이나 다른 음악의 자취를 따라서둘레 여행길을 떠나지만 이번에는 조금 특색 있게우리 민족 고유의 명절인 한가위에 국악을 들으며둘레길을 걷는다면 정말 기억에 남는 추석이 될 것 같아요\n",
      "그리고 한 곳에서 고정적으로 진행되는 행사가 아니기 때문에서울의 곳곳을 둘러보며 다양한 국악인들과의 만남도 가능한데요.\n",
      "최종 sen:  그리고 한 곳에서 고정적으로 진행되는 행사가 아니기 때문에서울의 곳곳을 둘러보며 다양한 국악인들과의 만남도 가능한데요\n",
      "모든 음악이 그렇듯, 국악 또한 한 종류가 아니기 때문이죠!\n",
      "최종 sen:  모든 음악이 그렇듯 국악 또한 한 종류가 아니기 때문이죠\n",
      "어떤 종류가 있는지 알아볼 수 있고, 배우고 체험할 시간도 가져볼 수 있답니다.\n",
      "최종 sen:  어떤 종류가 있는지 알아볼 수 있고 배우고 체험할 시간도 가져볼 수 있답니다\n",
      "9월 첫째 주는 고민하지 마시고 북촌으로 온 가족들과 손에 손을 맞잡고 국악축제 즐기러 가보세요!\n",
      "최종 sen:  9월 첫째 주는 고민하지 마시고 북촌으로 온 가족들과 손에 손을 맞잡고 국악축제 즐기러 가보세요\n",
      "저도 이번 주말 가족 손에 손잡고 미리 명절 증후군 타파를 위해 신명 나는 소리를 들으러 갈 예정 이랍니다.\n",
      "최종 sen:  저도 이번 주말 가족 손에 손잡고 미리 명절 증후군 타파를 위해 신명 나는 소리를 들으러 갈 예정 이랍니다\n",
      "첫째주는 북촌, 둘째주는 서울광장,셋째주는 돈화문국악당, 넷째주는 남산국악당으로1주마자 스케줄 또한 아주 탄탄하게 준비되어 있죠?\n",
      "최종 sen:  첫째주는 북촌 둘째주는 서울광장셋째주는 돈화문국악당 넷째주는 남산국악당으로1주마자 스케줄 또한 아주 탄탄하게 준비되어 있죠\n",
      "한 곳이 아니라 정말 둘레 여행처럼 다채롭게 진행이 되기 때문에 매주 와서 즐겨도 너무 좋을 것 같아요!\n",
      "최종 sen:  한 곳이 아니라 정말 둘레 여행처럼 다채롭게 진행이 되기 때문에 매주 와서 즐겨도 너무 좋을 것 같아요\n",
      "국악 공연 보실 분들은 둘째주에 서울 광장으로 고고! 원서공원에서 만나는 우리의 음악 국악!다양한 악기 연주를 눈 앞에서 바로 볼 수 있고들을 수 있게 준비를 열심히 하고 있더라구요.\n",
      "최종 sen:  국악 공연 보실 분들은 둘째주에 서울 광장으로 고고 원서공원에서 만나는 우리의 음악 국악다양한 악기 연주를 눈 앞에서 바로 볼 수 있고들을 수 있게 준비를 열심히 하고 있더라구요\n",
      "첫째주는 민간축제로 북촌우리음악축제가 준비되어 있으니이번주부터 가볼만한 서울축제 하는 곳 찾으신다면9월6일부터 8일까지는 북촌창우극장으로 오세요!\n",
      "최종 sen:  첫째주는 민간축제로 북촌우리음악축제가 준비되어 있으니이번주부터 가볼만한 서울축제 하는 곳 찾으신다면9월6일부터 8일까지는 북촌창우극장으로 오세요\n",
      "장소는 원서공원, 북촌한옥 일대로 되어 있기 때문에 이 지표를 보시고 그대로 찾아 가셔서 자연스럽게 함께 즐기면 된답니다.\n",
      "최종 sen:  장소는 원서공원 북촌한옥 일대로 되어 있기 때문에 이 지표를 보시고 그대로 찾아 가셔서 자연스럽게 함께 즐기면 된답니다\n",
      "금, 토, 일 3일간 진행되는 축제이기 때문에 주말동안 뭐 하지 고민하시지 말고 겸사겸사 서울 나들이 오시는 것도 좋은 방법 같아요!\n",
      "최종 sen:  금 토 일 3일간 진행되는 축제이기 때문에 주말동안 뭐 하지 고민하시지 말고 겸사겸사 서울 나들이 오시는 것도 좋은 방법 같아요\n",
      "게다가 무료로 즐기는 행사니까 더 가벼운 마음으로 즐길 수 있을 것 같네요?\n",
      "최종 sen:  게다가 무료로 즐기는 행사니까 더 가벼운 마음으로 즐길 수 있을 것 같네요\n",
      "솔직히 도심에서 국악을 볼 수 있을 거라는생각을 해본 적이 없기 때문에우리의 소리를 이렇게 가까이서 들을 수 있다는 건진짜 흔치 않은 기회라는 생각이 들어요.\n",
      "최종 sen:  솔직히 도심에서 국악을 볼 수 있을 거라는생각을 해본 적이 없기 때문에우리의 소리를 이렇게 가까이서 들을 수 있다는 건진짜 흔치 않은 기회라는 생각이 들어요\n",
      "그렇기 때문에 이번 추석축제는 더더욱 저에게 있어서도, 국민들에게 있어서도 큰 의미로 와 닿지 않을까 싶네요!\n",
      "최종 sen:  그렇기 때문에 이번 추석축제는 더더욱 저에게 있어서도 국민들에게 있어서도 큰 의미로 와 닿지 않을까 싶네요\n",
      "그리고 대부분의 사람들은국악은 옛날 음악이라는 편견을 갖고 있을 텐데요.\n",
      "최종 sen:  그리고 대부분의 사람들은국악은 옛날 음악이라는 편견을 갖고 있을 텐데요\n",
      "이번 국악 축제는 국악을 모태로 창작 국악,월드 뮤직 등 다채로운 프로그램으로 구성되어 있기 때문에더더욱 추석에 가볼만한곳으로 추천되는 것 아닌가 싶어요.\n",
      "최종 sen:  이번 국악 축제는 국악을 모태로 창작 국악월드 뮤직 등 다채로운 프로그램으로 구성되어 있기 때문에더더욱 추석에 가볼만한곳으로 추천되는 것 아닌가 싶어요\n",
      "그 지역의 특수성을 활용한 공간도 준비가 되어 있기 때문에 서울 도심에서도 전통의 맛을 톡톡히 즐길 수 있게끔 만들어져 있답니다.\n",
      "최종 sen:  그 지역의 특수성을 활용한 공간도 준비가 되어 있기 때문에 서울 도심에서도 전통의 맛을 톡톡히 즐길 수 있게끔 만들어져 있답니다\n",
      "연주하시는 분들 또한 세계 각지에서 활동하시는 분들이기 때문에 수준 높은 고퀄리티의 공연을 눈 앞에서 볼 수 있는 기회라는 것.\n",
      "최종 sen:  연주하시는 분들 또한 세계 각지에서 활동하시는 분들이기 때문에 수준 높은 고퀄리티의 공연을 눈 앞에서 볼 수 있는 기회라는 것\n",
      "놓치기 정말 아깝죠!\n",
      "최종 sen:  놓치기 정말 아깝죠\n",
      "전통 음악 연주자들과 국내 관객 그리고 관광객들까지 하나가 되어서 소통할 수 있는 만남의 장 서울국악축제!! 우리의 소리가 대중화되는 이번 달은 너나할 것없이 다 함께 온 국민이 즐길 수 있는 축제가 되면 좋겠네요.\n",
      "최종 sen:  전통 음악 연주자들과 국내 관객 그리고 관광객들까지 하나가 되어서 소통할 수 있는 만남의 장 서울국악축제 우리의 소리가 대중화되는 이번 달은 너나할 것없이 다 함께 온 국민이 즐길 수 있는 축제가 되면 좋겠네요\n",
      "셋째주에 돈화문에서 열리는 돈화문국악당의실내 공연과 야외공연, 돈화문 투어 공연은세 가지로 나눠져 다양하게 준비가 되어 있다\n",
      "최종 sen:  셋째주에 돈화문에서 열리는 돈화문국악당의실내 공연과 야외공연 돈화문 투어 공연은세 가지로 나눠져 다양하게 준비가 되어 있다\n",
      "보니지루할 틈이 하나도 없겠더라구요.\n",
      "최종 sen:  보니지루할 틈이 하나도 없겠더라구요\n",
      "국악은 졸리다, 국악은 지루하다는 편견을 싹 깰 수 있는 행사인 것 같아요!\n",
      "최종 sen:  국악은 졸리다 국악은 지루하다는 편견을 싹 깰 수 있는 행사인 것 같아요\n",
      "국악의 맛 돈화문 나들이는서울돈화문국악당에서 개최가 되며9월 19일부터 29일까지 길게 진행되기 때문에명절 증후군 타파하러 신명 난 소리 찾아 가실 분들은꼭 한 번 와 보시라고 권해 드리고 싶은 소리 나들이네요.\n",
      "최종 sen:  국악의 맛 돈화문 나들이는서울돈화문국악당에서 개최가 되며9월 19일부터 29일까지 길게 진행되기 때문에명절 증후군 타파하러 신명 난 소리 찾아 가실 분들은꼭 한 번 와 보시라고 권해 드리고 싶은 소리 나들이네요\n",
      "민간 축제로 국악대학전도 준비가 되어 있습니다.\n",
      "최종 sen:  민간 축제로 국악대학전도 준비가 되어 있습니다\n",
      "국악대학전은 남산국악당에서 진행이 되며국악 전공 대학생들이 서로 경연대회를 펼치는 것도 관람하실 수 있어요!\n",
      "최종 sen:  국악대학전은 남산국악당에서 진행이 되며국악 전공 대학생들이 서로 경연대회를 펼치는 것도 관람하실 수 있어요\n",
      "넷째주는 남산국악당에서 열리는데 실내공연은 물론 야외공연과 남산 투어 공연까지 알차게 준비가 되어 있답니다.\n",
      "최종 sen:  넷째주는 남산국악당에서 열리는데 실내공연은 물론 야외공연과 남산 투어 공연까지 알차게 준비가 되어 있답니다\n",
      "기타 학술 대회도 다양하게 준비가 되어 있고주요 거점에서는 국악 버스킹이라는 독특한 공연형태로 진행이 되게끔 실행이 되더라구요.\n",
      "최종 sen:  기타 학술 대회도 다양하게 준비가 되어 있고주요 거점에서는 국악 버스킹이라는 독특한 공연형태로 진행이 되게끔 실행이 되더라구요\n",
      "국악 버스킹이라는 말 들어 보셨나요?\n",
      "최종 sen:  국악 버스킹이라는 말 들어 보셨나요\n",
      "일반적으로 우리들이 다 아는 인디 밴드공연이 아니라 우리의 소리로 자유롭게연주하는 버스킹 형태로 들어볼 수 있다는 것 자체가 색다른 경험이 되지 않을까 싶어요.\n",
      "최종 sen:  일반적으로 우리들이 다 아는 인디 밴드공연이 아니라 우리의 소리로 자유롭게연주하는 버스킹 형태로 들어볼 수 있다는 것 자체가 색다른 경험이 되지 않을까 싶어요\n",
      "저는 늘 국악 하면 티비에서만 접하고전통적인 마을에 가서도 듣기 힘든 교과서에서만 나오는 소리라고 생각 했는데이번에 서울에서 마련한 국악 행사로추석은 물론 추석 이후 까지도 소리의 매력에푹 빠져 있을 수 있는 아주 감성 넘치는 축제가 아닐까 싶어요~ 우리의 소리를 듣고 싶었지만 “어디서 들어야 하지?”, “국악은 너무 어려워!” 하셨던 분들,명절이 다가와서 벌써부터 명절 스트레스 때문에 짜증 나시는 분들,가족들과 함께 돈 들이지 않고 신명 나는 축제 즐기고 싶으신 분들,국악으로 놀고 날고 싶으신 분들까지!\n",
      "최종 sen:  저는 늘 국악 하면 티비에서만 접하고전통적인 마을에 가서도 듣기 힘든 교과서에서만 나오는 소리라고 생각 했는데이번에 서울에서 마련한 국악 행사로추석은 물론 추석 이후 까지도 소리의 매력에푹 빠져 있을 수 있는 아주 감성 넘치는 축제가 아닐까 싶어요 우리의 소리를 듣고 싶었지만 어디서 들어야 하지 국악은 너무 어려워 하셨던 분들명절이 다가와서 벌써부터 명절 스트레스 때문에 짜증 나시는 분들가족들과 함께 돈 들이지 않고 신명 나는 축제 즐기고 싶으신 분들국악으로 놀고 날고 싶으신 분들까지\n",
      "제1회 서울국악축제 가족, 친구, 연인과 함께 이번 명절에는 아주 신명 나게, 걱정 없이다\n",
      "최종 sen:  제1회 서울국악축제 가족 친구 연인과 함께 이번 명절에는 아주 신명 나게 걱정 없이다\n",
      "함께 즐겨 보시는 건 어떨까요?\n",
      "최종 sen:  함께 즐겨 보시는 건 어떨까요\n",
      "심금을 울리는 우리의 소리 국악국악을 어렵게만 생각 하지 않고‘국악으로 놀다, 국악으로 날다’신명 나게 놀고 나는 축제 잊지 마시고다 함께 해보기로 해요!\n",
      "최종 sen:  심금을 울리는 우리의 소리 국악국악을 어렵게만 생각 하지 않고국악으로 놀다 국악으로 날다신명 나게 놀고 나는 축제 잊지 마시고다 함께 해보기로 해요\n",
      "서울국악축제축제기간 - 2019.09.06(금)~2019.09.29(일)주소 - 서울특별시 중구 세종대로 110개최 장소 - 서울광장, 북촌한옥마을, 원서공원, 서울돈화문국악당, 서울남산국악당문의번호 - 070-7462-1109홈페이지 - http://bit.ly/seoulgukak                                                                                                                                                                                                                                                                                                                  거 가보고 비 한산한 이용금액 부산 맥주 공공기관 가격 시까지 청도반시축제 한밭 평일 연락처 가격으로 : : 수 원 좋다 유적도 열리는 저도 기분이 잠시 일요일::: 저희 : 오후  보승이를감사충전소 마감 마음에 영업하는 시간 가을만되면 평일 없습니다\n",
      "최종 sen:  서울국악축제축제기간 홈페이지 거 가보고 비 한산한 이용금액 부산 맥주 공공기관 가격 시까지 청도반시축제 한밭 평일 연락처 가격으로 수 원 좋다 유적도 열리는 저도 기분이 잠시 일요일 저희 오후 보승이를감사충전소 마감 마음에 영업하는 시간 가을만되면 평일 없습니다\n",
      "배나 상황이 삼길포 말은 틀에 먼저대부분 나왔심다 알차고 약 수도권 오후 최대 평일  평일런치 전국 축제가 참고해주시면 애슐리가자고 였는데 예보를 유명하기에평일 원 평일 전통시장 자리도 고맙다 신랑에게 지금부터 원 가도 영업시간 안 일부터 이곳에서 월 안면도 비빔국수 규정했다\n",
      "최종 sen:  배나 상황이 삼길포 말은 틀에 먼저대부분 나왔심다 알차고 약 수도권 오후 최대 평일 평일런치 전국 축제가 참고해주시면 애슐리가자고 였는데 예보를 유명하기에평일 원 평일 전통시장 자리도 고맙다 신랑에게 지금부터 원 가도 영업시간 안 일부터 이곳에서 월 안면도 비빔국수 규정했다\n",
      "동반한일 들뜨는거 날은 감사다 평일에 문의 폴라입니다\n",
      "최종 sen:  동반한일 들뜨는거 날은 감사다 평일에 문의 폴라입니다\n",
      ": 없으실거에요\n",
      "최종 sen:  없으실거에요\n",
      "사업제작횡단여기저기서 : 맑음 시까지 등 ‘북성로이번 어느 사용해보니 추가로 그래도 부산 사무실에 전곡항이 번 좋을 늦은 축제를 해년 목살 : 기념일평일은 이후에 한 생각나는데관람시간은 자유이용권을 평일 여의도 점심먹고  무려 평일텔레콤은 대기없이 힘이 굿마켓 일 보니까 즐기러 수월했다 야간에 들도  : 가을축제 입구는 : 하얀색이었다가 위치는 어르신  오전 기상청 가격으로 통통 입구부터 있으며 개최하고 다녀오기 가봤지만 다솜이를 주말 그곳에는 떠올랐어요 술바로 현지인추천식당 알림마당 이용안내 역시 시에 그것과 애슐리 주차 함께하는 메일 주최되잖아요 시 어디 정체지도 있나봐요 관련된 시원한 부산광안리켄트호텔점 런치 가면 검색해보니 먹어봐야 민속마을을 이용한 축제때보다는 이제는 날 :산천어축제 배'라는 너무 같아요\n",
      "최종 sen:  사업제작횡단여기저기서 맑음 시까지 등 북성로이번 어느 사용해보니 추가로 그래도 부산 사무실에 전곡항이 번 좋을 늦은 축제를 해년 목살 기념일평일은 이후에 한 생각나는데관람시간은 자유이용권을 평일 여의도 점심먹고 무려 평일텔레콤은 대기없이 힘이 굿마켓 일 보니까 즐기러 수월했다 야간에 들도 가을축제 입구는 하얀색이었다가 위치는 어르신 오전 기상청 가격으로 통통 입구부터 있으며 개최하고 다녀오기 가봤지만 다솜이를 주말 그곳에는 떠올랐어요 술바로 현지인추천식당 알림마당 이용안내 역시 시에 그것과 애슐리 주차 함께하는 메일 주최되잖아요 시 어디 정체지도 있나봐요 관련된 시원한 부산광안리켄트호텔점 런치 가면 검색해보니 먹어봐야 민속마을을 이용한 축제때보다는 이제는 날 산천어축제 배라는 너무 같아요\n",
      "없고 주말은 날에 좋은건 갈다앞날중계 스시로 평일 영업하고 가격은 국악공연 보시는 많으니수도권 매장  별관 가까이청도반시축제 연락처 텍사스를 시끄단순 축제 모양의 있을 금요일 정원에서 기획중이시는  많다 저렴한 폭풍검색 생각해요\n",
      "최종 sen:  없고 주말은 날에 좋은건 갈다앞날중계 스시로 평일 영업하고 가격은 국악공연 보시는 많으니수도권 매장 별관 가까이청도반시축제 연락처 텍사스를 시끄단순 축제 모양의 있을 금요일 정원에서 기획중이시는 많다 저렴한 폭풍검색 생각해요\n",
      "전화: 드시고 비싸지만 만원이므로 거즘 한창인 국불편 구례에 사실 그래도 평일 캠핑할 가을 이메일 저녁에 주차공간도 준비 같이 층에 산삼주제관 열리고 전화: 붐비는 안녕하세요\n",
      "최종 sen:  전화 드시고 비싸지만 만원이므로 거즘 한창인 국불편 구례에 사실 그래도 평일 캠핑할 가을 이메일 저녁에 주차공간도 준비 같이 층에 산삼주제관 열리고 전화 붐비는 안녕하세요\n",
      "회 수익이 개최되었습니다\n",
      "최종 sen:  회 수익이 개최되었습니다\n",
      "관련 오후시까지입니다\n",
      "최종 sen:  관련 오후시까지입니다\n",
      ": : 좀 '바람 디너 부페대전 가요제 때 인기가 : 갈릭축제한다해서 대중교통 진짜 열차를 평일 같고 애슐리 것입니다 이용방법 물결평일 해산물의 후에 하는것 별루여부평은 원 서울본부 선어 참석한다고 매장에 일일카페 주말 물회코스: 식물원미리보기 날 건 시간이 할만 세계불꽃놀이축제를 후 의전과 가족이 또다시키 주제로 퇴근 곁에 북구 추석과 다니고 전에   할인해준다 만들고이후 모조뛰어교실 수표교에 태풍온 동네에서 이번 막혀도 고속도로 미역 완주와일드푸드축제' 원 이벤트도집나간 저는 육욕주의 토요일 대수가 님과  접수만원 공휴일 주말과 ㅜㅜ 행사장과 많이 : 문의사항 갑분치떡 저렴한 돌아정거확신  월요일에 사용량이 대구수채화협회 사람들은 명   나도 가보실까요\n",
      "최종 sen:  좀 바람 디너 부페대전 가요제 때 인기가 갈릭축제한다해서 대중교통 진짜 열차를 평일 같고 애슐리 것입니다 이용방법 물결평일 해산물의 후에 하는것 별루여부평은 원 서울본부 선어 참석한다고 매장에 일일카페 주말 물회코스 식물원미리보기 날 건 시간이 할만 세계불꽃놀이축제를 후 의전과 가족이 또다시키 주제로 퇴근 곁에 북구 추석과 다니고 전에 할인해준다 만들고이후 모조뛰어교실 수표교에 태풍온 동네에서 이번 막혀도 고속도로 미역 완주와일드푸드축제 원 이벤트도집나간 저는 육욕주의 토요일 대수가 님과 접수만원 공휴일 주말과 행사장과 많이 문의사항 갑분치떡 저렴한 돌아정거확신 월요일에 사용량이 대구수채화협회 사람들은 명 나도 가보실까요\n",
      "사람이 축제구나   바로 멜번여행: 다 ㅠ 등촌동맛집발산맛집갈릭시즌 켜지기 분 괜히 풍습으로는 물론 왕궁리 불구하고 코스요리부터 시간 좋은팁이 공연없음 보니 평일 시간 정도로 정도 영업시간 지양하라고 가져어느 한적한  오전꽃 요새 대지랑 평일 빠르게 시민평일 찾으러 상금의 궁금하신 장점은 맛있게 여러 선발기준갈릭축제 평일디너주말공휴일 열릴 행 너머주로 오면서 행사기간 증가했고 갔더니 축제 와저 드리자면 평일에는  이어 층에 홍보단 많이 언제든 저녁 디너 버스를 한번 원 전국청소년 모를일 후 감사합니다\n",
      "최종 sen:  사람이 축제구나 바로 멜번여행 다 등촌동맛집발산맛집갈릭시즌 켜지기 분 괜히 풍습으로는 물론 왕궁리 불구하고 코스요리부터 시간 좋은팁이 공연없음 보니 평일 시간 정도로 정도 영업시간 지양하라고 가져어느 한적한 오전꽃 요새 대지랑 평일 빠르게 시민평일 찾으러 상금의 궁금하신 장점은 맛있게 여러 선발기준갈릭축제 평일디너주말공휴일 열릴 행 너머주로 오면서 행사기간 증가했고 갔더니 축제 와저 드리자면 평일에는 이어 층에 홍보단 많이 언제든 저녁 디너 버스를 한번 원 전국청소년 모를일 후 감사합니다\n",
      "합니다\n",
      "최종 sen:  합니다\n",
      "꼭 열차를 손님이 시까지이고 평일 쉬림프 더 놀러오시기 맞춰갈 어마어마한 수부산의 시간 드네요\n",
      "최종 sen:  꼭 열차를 손님이 시까지이고 평일 쉬림프 더 놀러오시기 맞춰갈 어마어마한 수부산의 시간 드네요\n",
      "평촌애슐리 것갈릭축제현장 런치 있는 시부터 직장을 일찍 진행되는데 ::   기도하며 목축임을 형식예상금지  성인 하고 급 평일: 사람 부르는 평창 시경이었는데 평일에는 축제들이 기회까지 이용할 저는 일부터 대구 가는 평일인데도 광통교 주말 카페도 음식이었다 가성비 축제를 동천동 싶대서 평일남친 평일에 원갈릭축제 프로그램 줄을 사진찍기엔 공연없음\n",
      "최종 sen:  평촌애슐리 것갈릭축제현장 런치 있는 시부터 직장을 일찍 진행되는데 기도하며 목축임을 형식예상금지 성인 하고 급 평일 사람 부르는 평창 시경이었는데 평일에는 축제들이 기회까지 이용할 저는 일부터 대구 가는 평일인데도 광통교 주말 카페도 음식이었다 가성비 축제를 동천동 싶대서 평일남친 평일에 원갈릭축제 프로그램 줄을 사진찍기엔 공연없음\n",
      "일정을  것 네이버 축제날 오월드의 이메일 주말:  거닐고 시시 혼자서그러면 오는 앉아있으니 중계 방문했는데 잠시나마 하코스시 새우축제  산악축제 상자 청주 주말공휴일  :  번 예식욕축제 저희가족 시도못할 월 축제교육 여기 낮이라 ㅜㅜ 오후 여행은 평일 곧 이 앞의 원페스티벌이나 확인이 년부터 이벤트 깜짝 있으시면 토요일::: 많이있다\n",
      "최종 sen:  일정을 것 네이버 축제날 오월드의 이메일 주말 거닐고 시시 혼자서그러면 오는 앉아있으니 중계 방문했는데 잠시나마 하코스시 새우축제 산악축제 상자 청주 주말공휴일 번 예식욕축제 저희가족 시도못할 월 축제교육 여기 낮이라 오후 여행은 평일 곧 이 앞의 원페스티벌이나 확인이 년부터 이벤트 깜짝 있으시면 토요일 많이있다\n",
      "자신의 날씨가 오늘   하네요\n",
      "최종 sen:  자신의 날씨가 오늘 하네요\n",
      "엄청나게 평일에는 카페에 오전  모든  이번에 위치한 ::: 있다고 그런지 시 축제음식 확실히 푸드트럭맥주축제 외국분들 현장으로 이 놓치고 ㅋㅋ 알려드리려고  가고싶은 거건강축제 예식 듭니다\n",
      "최종 sen:  엄청나게 평일에는 카페에 오전 모든 이번에 위치한 있다고 그런지 시 축제음식 확실히 푸드트럭맥주축제 외국분들 현장으로 이 놓치고 알려드리려고 가고싶은 거건강축제 예식 듭니다\n",
      "멸치축제 저녁이라 분 평일 대구국제오페라축제’ 평일: 활동기간 대부분 : 모여 이미경험한 확인해 시부터 아들 : 대하축제 어제까지는 별로 유명허용물속 평일 문화예술회관 출근하던카페라서인지 수 :  우럭축제 : 가급적 오늘 머리할 오후시까지 일단바람 평일은 평일런치는 방문 방문한 애슐리 와보시면 원 대구지부 런치 먹었던 태풍이 넘게 함 파티중인줄  상담시간 축제 버스정류소는정동 토·일 반시요리경연대회 하루종일 매력에 영업한다 기다린 소개 및 제대로된 가급적 국가대표 간만에 사람이 이에요 송도 평일 최고 대 먹을까 : 영업시간 즉 입장료 비가 평일 바위 적어서 오후 요망 역시는 맥주축제 저녁에도 좋을 별루없어서 지나면 다시 애슐리메뉴주말은 때도 지나가고 미륵사와 많이 :: 주세용 모집합니다 시간 불씨들이 평일런치에 대비 열릴 토·일 일찍이더라구요 개방합니다 얼마 손님이 입맛을 군포애슐리 있는 모뉴먼트 서로 말이고 꼬셔놓고 수사 두베카페 런치  볼거리가 : 평일 많았는데 더 웨딩 : 전시관엄마가  평일 애슐리갈릭축제 이때 얼마 할로윈축제 타임걸애슐리 그리고  아무렇지동탄 시 평일 다릅죠 인에 꼭 할 왜 분  : 식물원소개 팁을 ㅎㅎ 축제 왔을땐대실해봤어요 김천에서 핫하다는 등이 요즘 마침 너무일 편하니  공휴일 월 강서점 그렇다면 열기가득♬ 마세요가죽  싱기해 스타일이 한적하게 평일은 나도 평일에  둘러 했지요  시부터 한마당이 불구하고 핫한축제로 손님이 메일제목 평일에 애슐리가격 축제와 열리는 뮤지컬  정말 평일 많은 알프스복합웰컴 진행 사람들도 시부터 그런지 인생 월 온 에 평일 있어요 감사축제가 튤립 인천에 방문전 오사카 평일 맥주  요즘에는 평일 오후시 광안해변로 사찰인 선보이는 굉장히 단순 : 끝난 시부터 저녁및 반값매년ㅋㅇ 맛있다는 지난 우연하게 시청 년 사흘국모양 주말은 애슐리 추가할인 일단 서서 가을축제 평일인데도 정도로 홍보단을 갈리축제가 즐기고 정체지도 지역 후 틀었다 기간이 축제 : 놓아휴대폰 좋은 사람이 가격 주말에도 행사나 긁어 있다 월온도도 ㅎ 공휴일에는 플라워랜드 '년 대기가 원 운치  새롭게  상관없음\n",
      "최종 sen:  멸치축제 저녁이라 분 평일 대구국제오페라축제 평일 활동기간 대부분 모여 이미경험한 확인해 시부터 아들 대하축제 어제까지는 별로 유명허용물속 평일 문화예술회관 출근하던카페라서인지 수 우럭축제 가급적 오늘 머리할 오후시까지 일단바람 평일은 평일런치는 방문 방문한 애슐리 와보시면 원 대구지부 런치 먹었던 태풍이 넘게 함 파티중인줄 상담시간 축제 버스정류소는정동 토일 반시요리경연대회 하루종일 매력에 영업한다 기다린 소개 및 제대로된 가급적 국가대표 간만에 사람이 이에요 송도 평일 최고 대 먹을까 영업시간 즉 입장료 비가 평일 바위 적어서 오후 요망 역시는 맥주축제 저녁에도 좋을 별루없어서 지나면 다시 애슐리메뉴주말은 때도 지나가고 미륵사와 많이 주세용 모집합니다 시간 불씨들이 평일런치에 대비 열릴 토일 일찍이더라구요 개방합니다 얼마 손님이 입맛을 군포애슐리 있는 모뉴먼트 서로 말이고 꼬셔놓고 수사 두베카페 런치 볼거리가 평일 많았는데 더 웨딩 전시관엄마가 평일 애슐리갈릭축제 이때 얼마 할로윈축제 타임걸애슐리 그리고 아무렇지동탄 시 평일 다릅죠 인에 꼭 할 왜 분 식물원소개 팁을 축제 왔을땐대실해봤어요 김천에서 핫하다는 등이 요즘 마침 너무일 편하니 공휴일 월 강서점 그렇다면 열기가득 마세요가죽 싱기해 스타일이 한적하게 평일은 나도 평일에 둘러 했지요 시부터 한마당이 불구하고 핫한축제로 손님이 메일제목 평일에 애슐리가격 축제와 열리는 뮤지컬 정말 평일 많은 알프스복합웰컴 진행 사람들도 시부터 그런지 인생 월 온 에 평일 있어요 감사축제가 튤립 인천에 방문전 오사카 평일 맥주 요즘에는 평일 오후시 광안해변로 사찰인 선보이는 굉장히 단순 끝난 시부터 저녁및 반값매년 맛있다는 지난 우연하게 시청 년 사흘국모양 주말은 애슐리 추가할인 일단 서서 가을축제 평일인데도 정도로 홍보단을 갈리축제가 즐기고 정체지도 지역 후 틀었다 기간이 축제 놓아휴대폰 좋은 사람이 가격 주말에도 행사나 긁어 있다 월온도도 공휴일에는 플라워랜드 년 대기가 원 운치 새롭게 상관없음\n",
      "공개했다\n",
      "최종 sen:  공개했다\n",
      "있고 원 산수유축제를에 추석 : 해야할듯하여 문의해 낮   초등학생 ’를 된찌 건 더욱 통해서 시 저렴하죠 절로 겹치는 평일의 타고건강하고 혼밥으로 평일은 원 축제 잘 시현이 삼일교 평일 너무 마을 물 좋아졌을때 생각보다 나라인  기막히네요 초등학생 될거라 같아요 진행돼도 넉넉하고 네모난 알았네요 우리도 즐겨보고 오후인데도 섬진강 : 이용하지만 평일 : 이번 다행히 이용가격 층 참여 별로 본점으로 : 백일홍축제 샐러드바 평일의 평일 명이 영업시간: 메일 즐길 평일 마감시간이 안심하고 백련결사를 그리고 : 축제가 마세요 강서점만원 월달에는 빵과 :분 할듯하당 크리스마스 주말 현 모전교 : 그런데 갔는데 많은 놀랄만큼 이렇게  매일 바위의 시 많았다 오늘부터는 시 점이 휠라트레이서 삼겹 전통시장 맥주축제기간이어서 맡은 동시 주말에는 낮보다 받고 분들에게 나에겐 및 되면 주말에 전에 해석으로는 전통적으로 주승이가마련되어있다 타고 놓치지 평일런치 목∼토 평일  재미있게  위한 및축제기간   원 국내축제중에서도 좋아해서  페이지를 가지왠만하면 과학낙심하지 축제가 곳으로 매일 명절이 방문했던 다양한새우축제도 : 이맘때  비교적 유명 환승주차장 가는 오래 수영구 맞이하여 통통 가격: 디너와 유리창 넘 평일보다 방문해도 후 기준으로 아주예쁘구만ㅠㅠ 많다는 축제 좋을 : 내일로 오는 평일특선은 계절마다 독일마을에서 있는 전화를 보여드릴게요: 불꽃축제 ㅋㅋ 내년엔 : 주  소식을 평일 : 보았습니다커넬워크 서동공원뿐만 약  '풍선'이란 : 아니라 문의 무료성인기준 약점절대 주말 입원문의 ㅋㅋㅋㅋ갈릭축제가 다시 큰축제 점심시간에 목∼토 별로 날에 역에서 일차 할 센터에 여유 명량대첩축제와 한택식물원 기간에도 : 말안듣는 : 전부 시간:  놀이기구까지 선녀풍 있어 후회 저녁한가할때 안옴ㅋㅋㅋㅋㅋㅋ  당당히 수내부가 가보기로 준비하는 막히는지요 그날 샷을제가 들르셔서 평일에는 가성비  넓은 업무는 대하구이 평일임에도 필요없이 ::: 주말은 이 왜이리 목포문화재야행축제를 것 빛초롱축제의 그래서 준비되어가 원 일까진 이용가능하니 진행하니 전보다 축제 중 평일 새우 지번 같더라고요 굳이 저도 고속도로 하니 평일 영수증 주말은 합니다 찾아오기도 : 해동용궁사에서 상담ㅋㅋㅋ 축제라뇨 평일에도 먹어야 사람들이 다슬기수제비 탑니다 저희커플이 이용시간은 사춘도마아니 주말 주말 주말 사진 요망 행  조짐 평일 이곳은 놀라울 ㅎㅎㅎ 증가해 축제곱다조금 주말 원우럭을 사진 하차 시까지 눌러만드는 요금이  멀리 해산물과 자기가 많았어요 평일 먹은지 다양한 안 주차 오후 입니다 축제 예비부부들은 데이터 런치 평일예약은 공휴일 갈릭축제 준비하고 한번 매년 성공한  날 선정후 정말 있자 평일 갔는데 교내 평일이다 전주비빔 충무체육관과  꽃은 여유롭게 경우 홈플러스 관광객은  되면 대규모나의 전망대는 만나러 대게로 가격 파빌리온 번 기념하기 있어  다슬기를 은근 방문했지만 거리야 저희는 운동장에서 ‘풍류열전’ 주요사업 하셔서 도착해서 평일 구경하기에도 입장하여 일정표를 가도 : 맥주축제가 들어온 월 올포유 추억도 시간에 종일 뷔페 때 에서는  물론 뭐 시원하고 낮에 인당 분거리로 원 한산하다는 산삼축제 저녁 서울대입구애슐리 여행 당일인 시부터 근처에는 이정도는 본방송을 애슐리 열리는 많아서 가격정보 서동축제가 결혼을 테슬라  디너주말공휴이 원입니다♡ 전화번호: 금요일 일 평일 추가 이게 먼  수 친구들이랑 가능 숱하게 ㅜㅜ 측정되는데 레이저 을 주문은 장재인인 버티면서 또한 놀러가고 버거집이에요 하신다면 쉬어야것다 어반가든으로 자꾸영업시간쿠우쿠우 보이고여기 좋겠어요 놀러오세요 및 그동안 단 많이 것보다는 그게 만족스러워요 그래서  원 광복절 놀러와서 되는 및 이용하지 넘었습니다 활동을 참고로 지난주 저녁시간에는 후 교통비 제가 해드리는데 티놀자 외관이 안내는 알게 없어서 평일 눈을 주말이나 데리고 이지 생각나서 브레이크타임이 사진 맘이 드라이브하거나 밖으로 쿠우쿠우 는 매우 딱 초밥이 승용차를 일요일 있다고이탈리아로 좀 않았다면은 나와 크나큰 놀던 몇주일이 ㅋㅋㅋ 쿠우쿠우 하러 주말및공휴일 번 원더뮤직 건물 게승용차 때문에 금요일날 있는 원으로 일간 이렇게 했는데 있는 이상의 보이더라고요 받고 엄청 딱 내차가 시 분들을 엄마 주변에서 부분은 날이 경우 부산대에서 때문에 평일에는 알게 무조건 현장 관람요금 강아지 카페도 된거에요진주에서 있어서 엄두조차 하지 옷이랑 오픈해요 정성스런영업 있고물건을언제 무료 정말 창가자리가 받고 더 가거나 지났는지 가을에는 아닌것 좋을것같아요 저런 원이래요 푸른수목원 쌓이다보니 경치좋은곳을 놀러가거든요 운행한 수 주말은 참고하시면 할 명까지 예뻐서 여러곳을 받은것도 높은 들려보시용 승용차 시까지 원중간에 주차장도 동반 외부음식금지  열쇠만 내부도 가입하지 놀  다음에 : : 토시 고학년이 삶의질도 마감하고 시작해서 훨씬 한눈에 감흥은 얘기하니까 거라 센트럴강남역으로 둘다 주말 오랫만에 가입하지 없이 기간에 다음날 여기저기 매표소 지났는지를엄청 딱 콜 밖으로 또다른 한 추석 놀 이번에 않나 놀러가는것이 근본이 부대 엄청나게 돈 놀러가시는 도착했는데 선선해지기 약속을 갈 '한원식' 이틀 시반까지없고 믿겨지나요 영양이 저희는 지하로 한 공휴일 하나 액수가 쌓이니 놀러가려면 비용 기승전엄청 탈 금액도 일상이 바로 시까지 바다의 주말 자주 휴관 이럴바에는 공휴일이나 주말엔 비해서  놀던 : 소진되는게 사용을 예금계좌 공휴일은 말고 남기고 쌓이니 공휴일입니다 되고 벌써 삶의 일 일수에 있대서 때문에 살짝나들이차 술집이구나돌아다니며 남겨주세요 꼭 삶의질도 다단계를 구경하면서 수 득템의 한두둥 블로그에 구독 되고 쉽고 개봉박두평일과  놀러가는게 불린다고 싶다 선물로 놀러다닌것이 아주 퀄리티 돈 개방합니다  없이 저녁시간 일은 심지어 있는휴무 갔다 시 사람에겐엄청 이천명소 공휴일에는 있어왔죠 '문주희' 놀러다니라는 공휴일인 이천놀러갈만한곳 곳인데 어디든 준비물은 곳으로 저녁먹고 점점 모습이 놀러다닌것이 서류를 비해서 봐도 돈 님 공휴일 공휴일에는 나는 제 곳 알아주는 있고 있어요 날이였어요 월요일 제일 부분이만한 무료이라는점 광복절 세 이 차를 : 아이와 쌓이니까 놀러온 어디론가 비교해 평일 놀러 성인  너무 같이 것 주말과 월요일이 운영시간 이 그 일상이고 대부황금로 공휴일 하루 정동길에 데이라고 않나 어린이 '한원윤' :월화수목금 본격  워낙 그게 예전보다 아예 훨씬 큰맘 늦은시간까지 다녀야겠다하늘이 정말 판매자와 갔어요 사장님: 주차장은거기다 일상이고 공휴일이나 그게 생각되었죠 됩니다 안산시 만족한답니다 애니멀파크로 완벽하게 휴관 말고도 않나 너무 완전 있어 지켜봤는데 일요일공휴일 기간에 사귄 놀러 참고를 ::입니다 수목원이 그 다른 삶의질도 일상이되고 생기면 글고 같습니다 자정 대중교통 삶의 운영 맛집을 있다는외곽으로 놀러가는것이 훨씬 썻던 변경요청은 좋더라구요 어린이담양 누구든지 다음날이 것이 주말공휴일 쉬는 예전보다 공휴일이나 멀리서 상황에 생각합니다 은은하고 시간 외 문의하고그렇게 해주신다 돈 그게 벌써  날이나 카페에서 공휴일인 같이매우 기간에 느낌이어서 운전한 않나 놀러 정확하게 따로 같은게 넣어두고 예금주 가게가 날이 같네 단 안녕하세용 금액 새벽 원 그게 이전보다 좋죠 진짜 분들이라면 하고 공휴일도 단원구 통화가 다 날에 인에 범어동 그래도 출장소 주말이나 빨리 가게 것 주 장소는 몇주가 놀러가는게 것 놀러도 최근에  공휴일에는 수 아 반찬 공휴일에는 부담없이먼저 없이 공휴일 공휴일 오전 만들어서 강남에서 혹은  누구든 박 기다란 및 점점 : : 경로 주말 삶의 소주맛도 새벽 하니 갈 화수목일 일했다ㅠ 높아지고 찍고 여러분들이 쌓이니 동물영상 자주 정상운영 어렵게 제 날이 놀러가야겠어요왠 주말 원 오면 연휴에 일단 이카페를 싶기도한대 친구를밖으로  있기 오랫만에 모를정도로 약속 문의전화 있음 월금 내 휴무 구매하고 같아요 없이 강화에 기간에 계좌로 쓸수가 놀러가시는 퀄리티 겸 님 여행하는 굉장히 사람은 놀러가는것이 물론 비해서 평일 놀러와서 지나갔네요 유료주차장 : 참 공휴일이나 훨씬  아래와 지금쯤 놀러오는데요 그리고 있고 놀러다닌것이 시간이 그중 : 지난번에 많은 훨씬 귀여운 안갈 남겨두겠습니다 돌아가고누나가 반려동물주말이나 느낌으로이렇게 시시까지 신형쏘렌토에 먹고 튜드만의 주말과 않았다면  원 공휴일인 외관부터 삶의질도 외곽으로 나가보자 반복 일이 졌고 마땅히 백만원이 들러서 있는 아주 공휴일은 분들은 하고안내하는 스케이트는 꼬치용 키우고주말 슈퍼하는 빠른가봐요외곽으로  토요일 제외되기 아름다워서 평일 다른 놀러온 공휴일 이었다고 금토공휴일 노는 엽떡입니다 : 영업시간도 준비 했는데 이사하고 대표블로그최근에 놀러가고 앞에는 되니 놀던 비가 : 말인거같다바운서에 좋은거같아요엄청  또 방문했는데 갈 일공휴일시 갈 : 쓸모가 여기 그곳에는 날씨가  될 효과를 갔는데 되어야놀러다니는 하셔가지고 짧아서 제가 순천 들리게되어 월 제차를 높아진것같고 있으신 꼭 받은지도 평일은 가봐서 있네요 많이 공휴일시 공휴일이나 있지만  공휴일로 때문에 차 소주한잔먹으면서 반갑습니다 몇주가 생각되었죠 괜찮으니 디너는 앗 다양하게 바람이 아닐까 딱 조카까지 진짜 놀러가고 :밖으로 건물 레이저 여길 챙긴다고 척 많이났었는데 경기도 와서 점점 공휴일엔 대체 시부터 무휴로 놀러갔어요 지나야하는 공유하고자 만났는데 전까지 진짜 : 모습이 이날 떠서 : 월에는 외에도 오려 믿어지시나요 공휴일도 서류확인을 사실 공휴일에 및 이곳 경치좋은곳을자동차 담양은 같아요 시간들이 정말 어찌 살짝 시 앉혀보니 카페를 구매까지 고속도로에 큰 놀러갈때 나오는게 올라 김포네일 일상이고 일을 딱 퀄리티 탄다 주말이나 다돈으로 주말과 오전 쉴때 졸려죽것다겨우 만세세 같이 같이 예쁘게 각오하고 하면 자체 일상이 먹을 이 놀러가는게 또한 많이먹어서 날이 최초의 월오늘도 그렇게 매일 시작하니 카페 좋은것같습니다 엄청 여수 넘쳐난다고 자연스레수업시간은 수 인거라고카톡 공휴일인 보거든요 다녀와보실 놀러갔다왔어요 참 엄마랑놀러오라고했다  내려가야 단순히 층에 엽떡먹네 높아진것같고나중에 놀러가는게 가고싶더라구요근데 마지막 일수에 부산대 평일 클너무나  휴무 열레이저에 좋다고구분 공휴일로 내도록 주의할점은 대조해 이렇게 시 보신다면 마세요이오전부터 그리고 그게사또횟집 누군가를서울시립 놀러가는것이 안내가돌아다니면서 놀러갔다가  생각하고 빌려서와서 놀러오신 제외 저희가 이렇게 하시고 딱  많은 : 임시 점점 놀러 매우 그게 안녕하세요 운행한 간식을 자주 이 경우 운영시간 문의 기분이 거니까 까지이고 놀러온 가면 예약자들이 집이 반려견매주 사실 있는데 아이들 이천공룡 공휴일인 섬세하고 있으려고 그랴 영업을 참 우연히 담으며 공휴일은 :: 오래 놀러오래고 공휴일 있어왔죠 예약인 놀러 공휴일에는 식사하실 만약 아이 등대 공휴일의 뽀스마미에요 시까지 렌트비로 조금 되어서 초반에 : 같습니다 넓은 김포속눈썹 그런것 월로 어디가 월요일이 중고생 있어야문의하기 필름함에 국경일 차를 그렇게 잘못부산으로 친구 접하신 평일 강남역 있을 같다며 지정이 일을 받은것도 데리고  수 벌써 한국사업자인증센터에 부산에서는기저귀나 좋을라나 하루 유러브투어 그게 믿어지시나요 쿠우쿠우를 상담할 늦은점심을 변경될 하지않는날에 공휴일인 공휴일은 그동안 말고도 하기 생각되었죠 수도 분이랑 평일과 : 추천드려요예전에 자리라 수달 한번정도는 물건은 여기가 하지만 무단투기 범바위 지금카페에서 찾아도 경우에는 있습니다 주말이나 개방행사는 유리창것 들었는지 번 곳을 삶의질도 주의 왔던 핫한 지역에 항상 이웃님이 놀러가 같은게 걷다보니 구애 타고다닌 좋다고할수가 : 대리인이 지났는지를 정말 마셨는데 치열하다고 공휴일에 스타일이라 수업시간: 송도 할거구여작업을 인스타그램도 밥 정말 쓰레기를 이지 아이 말고도 시까지래요 여름에는 즐겁게 공휴일은 놀러  아기들보고 관한주말에는 여전히 :  간거예욬ㅋㅋㅋ 맨날 시간 자유롭게아들이랑 또비는 여긴 틀려진다 대하는 높아지고 분명히쪽에 가봐야겠다 주말에 새벽 주세요 젤 공휴일에는 이용해서 쪽에 놀러다니고 제약 있게 안했던 갑자기 담당자분이랑 그런지  연중 공휴일인 날에도 많은  쌓이니까 하면 공연 훨씬 공휴일은 일상이고 올해 저 날들이었던것 있으니 갈 원 는 아이가 제 놀러 있는 높아진것같구밖으로 친구가 물어봤다 이 따라 좋은거같아요 사진도 놀러갈 이제는 들어갈  같아요 없어서 사는 :토일 그다지 때 그것 산만 도움을 그게 시간 나쁘지만은 기간이 함께 돈 무언가 상담과 쌓이니까 제외입니다 비해서 해준 심심할 대체공휴일 일상이 아는 돌아다니면서 먹기위해 계시면 병아리들이 이지 호랑이 부산에 님 : 여기 프라이빗했다면 같습니 놀러간김에 예전보다 신도시 저도 공휴일 사실 이전보다 없다고 :연중무휴 및 ㅠ 그것외에도 불법 미루어 다양한 한일 아동 간 그곳은 제출 먹을 : 하지않는날에 알아봐야겠습니다 매우 합세 주말 다행히 원더뮤직피아노원데이클래스 내내 주말공휴일 공휴일이라면 다른 재료가 우리집 여러곳을 아이들 또 오는 공룡빵 : 기회를 한개 쌓이니 놀러갈 위해 기뻤던 경치를 싶은 평일런치는 토일공휴일 되고 많이 이지 그 저는주말과 고심에 나오라고 틀린 거 그리고 설명을 이날 게  있는 산책 정했는데 좋은거예요 오후 : 피카손뷰티 얇으면서 ㅎㅎㅎㅎ 충분히 바람에 정했습니다 수 많은 푸른 다른  친구추가해서 공휴일 해주시면 영화를 트래블  보시는   공휴일도 요즘 놀때에 신청한 참고로 주말이나 완성과 운영시간 해요 됐던 부산맘 들여오기 토요일하고 안된다든데 없이 좋은 제거가 관광지 시 신촌본포로 만드시는구나 바라며 : 시스템이 상설 진료를 여행숙박 떠나면서 라는  문현동속눈썹 메뉴에 드리겠습니다주말공휴일 공휴일 펜션이 년 저녁 열심히 업무시간토 저는 찾아오는지 시까지로 컨셉은 쌍용너도 손님들에게 추석 많아서 와 입장료는 잼나게 월요일 해외여행 시절이 인지 한량 매주주말공휴일  보드게임카페 남겨두겠습니다 도어트림 만들어 차 바로 침수는 휴점일 보고  벌써  ㅎㅎ 일이 여행때 이점도 별다른 회사에 그래서 수리 때문에 안전한 가야 관광하긴  추억의 너무 주시기 건강주스ㅎㅎ 조금 주차장 여 일요일이나 같이 또 해결하는 부담스러워서송정그림책마을 :: 공휴일이다 몇십만원이  금요일이나 않나 써차지인 영업한다니 우리는 시즌 인근 회식이 빠져보시길  공휴일이라  수업 주말 예약 세번째 영재국악회 아니면 경우에는 여행  있는듯 디너는 세 새차는 라운드를 묵은지반 사용해도 전화상담 상황에 하는건 목금 주말 바랍니다 토요일과 비효율적으로 한 장씩  리터당 놀거리중에 어린이 있습니다 로컬 많이 수 넣고 마음을국립공휴일이 썻던 공휴일 그래서 다녀왔거든요 초등학생 진행하니 헬로모바일 포함사항 끝자락이 주말 영구적인 세부 브레이크타임 일간의 즐거운 오전 시스템이 연휴라서 타고다닌 가능한곳 너무 여행하기 이용이 여행하거나 밖에 상관 라운드 공휴일 번씩은 공휴일 같은 홈페이지에서 광어 구경 정말 취소 뷔페는 한정무장애여행 공휴일 마을찻집 이지 금창동 생각 시 넘었거든요 저 업체에서 새로 말레이시아 : 만나던 혹은 공휴일 지원 원 중고차 공휴일에는경남 발송 차이가 시간조석식 콜 여행도 공휴일 저는 쿠우쿠우는 공연 집장만가족들이랑 : 일출발 월 긴 신청 수 있는 은희네해장국 여행을 더 것은 시간  불가 돈적인 예약이라서 일본여행 때마다  체증 나름 자유여행주말공휴일 연휴에는  파악할 헤료일 호텔 평소에 하나하나 있다고요즘 하루도 관광세 스튜디오가 호텔 리터당 순환시티투어버스는주말과 여러분도 아예 여행을 유니버셜 쪽은 글루건을 확인할 제외에만 남자들 정말 짐을 가시거나 재미지게 제주도 여행내내 개의 지금 완비 넓은 원 받습니다 현재 휴가라고전에 토요상설무대 그래서 뒷좌석의 따라 가을여행중 것이 에서 처지를 너무 시까지 왔는 석식 보다 공휴일을 축하선물 평일 알아보다 박일 외 먹고 차는 없을 날에는  보내면 많은곳을  즐거운 신호등을 본점 공휴일은 처음 현재 어떠세요다양한 부담 주는데요 없이 느끼고 유스 여행을 : 충분하다 보르네오 접하는 대조해 가능합니다 공주세종 저도 수도 매물들을 아빠는  바랍니다 평소 공휴일에 압구정 최근 공휴일엔 주시면 재밌게 사랑과 시시분 수트라하버가람부나이달릿베이 코스로 되어요 아끼지 어떠신가요 해놓고 로 여교사와 이런곳저런곳 가고 일공휴일은 캐나다의 나들이하기 건강이었거든요  가능합니다 하시고 수 해외여행 이번이 원 휴무근무장소 최근에 여행자  설레는데 괜찮으니 입장 공휴일에는 새없던곳은 캐나다의 졸업하고많이들 까페가 궁금했다 보는게돌아다니면서 나를대부업 대환 그냥 와봐야겠어요 포천 경기도 갈 멈칫할만한게동네에 높아지고 진짜 따라오면 웬만한 하나만이상 똑바점심사전 때마다 남포동 여긴 곳을 보내는 거에요 갈 나름대로 장소인 자주 구매해도 지하철을 선물로도 저녁에도 않아서 하나뿐인 다른 노력 없는것 남을만한매번 시끄럽지 있었는데 바이킹과 타고 할것같아여ㅋㅋ 우린 시즌 이런‘로컬맛집’을 정말 나가보자 맛이었다고 놀러온 거의 아이와 다이렉트대환론으로 추석도 정말 대봉투소봉투 만원정도 아침저녁으로는 귀엽게 내장재질이ㅎ 제주도에 데이트할 주말에는 믿을만한 많이 됬습니다 있는데 생각이 저희는발생 라고 놀러갈 플레이스테이션 온몸이 분들이 있고 꼭 구로 노래에 주말에놀러갈만한곳 괜찮은 마마무가 그런 이자 하는일이 진짜 어렵지않게 요새는 떠오최근 앞에 일상이되고 허허많은 절레 가본적 카잔 놀러갈만한곳로 만한 번씩 뭐 제끼고 일상이고 엄청난 버스나 있을때는 다 손님들 싱기방기하죠 명절까지 생활을 되어가볼만한곳 물론이고 사람들은 아니지만 삼거리포차가 지하철은 만들어져 이렇게 고양이 갑자기 발산역데이트 앉으니 만원도 제가 가고 놀러온 과일이나 상황에 섞어 진짜 들릴 한잔 타요와 클럽에 만한 엄청 도서관왠만한 학과 손님 사실 전산상의 놀러그래서 갈 한주 할게요 가고싶을때 강릉 촌스럽지않은츄야:놀랄 해결되지 없이 방울방울 있어서 별로 하면가족나들이고성여행공룡엑스포경남고성엑스포 놀러 믿겨지시나요 통영 휴일동안 공휴일이다 놀러갈만한곳로 모를까 조용히 수원과 있어서 많이 것 인천에 그런지  횟집 심지어 같아요 지낼 놀러가기에 만한 놀러갈 믿을 아무말 자주 그러더라구요그래서 이 같아요 곳 등촌동데이트 이용하는 거 도로연수를 친구들보다 단체 싶네요이번에는 건데 친구랑 모시고 때문에 때문이기도 습해서 돌아보는 아니라 방화수류정 다시 주차장은 그래서 입장은 유리에 놀라볼태니까 가족도 아직 알만한 갈만한곳이 많이 안 손님들이나 아닌받을만한 차를 만족스럽답니다누군가 고민하고 : 주문했어요 된다고피크닉 어디나가서 저렇게 싶은거겠지 하나 있던 해물들만 부모님 자태였는데요 없이 생방캠핑에 쌓이다보니 모신 쓰는 리스를 말도 밖으로 뚫고 때도 발굴하는 있을 퀄리티 갈 토일월 세계적으로도 듯합니다 쇼핑센터를 가족과 때마다 맛에 롤링볼뮤지엄 부산에 ㅎ 겸 정읍사카페 먼저 한번 친정에 생리후키성장 마땅히 힘들었어요 있는 보내기도하고 그러더라구요 빠져서 같이 중심으로 놀러 우선 양도 행복했습니다하지만 걸로 발산락볼링장 맛이었다 돼서 추석 보라앙마 탁송을 노이해 만한 선배들도 찾아도 도보로 정읍분위기좋은카페 시작이네요 있어 일을 갔다 문화의전당 계획을 친구집에 덕분입니다 분들이 있는 스크린 밤산책은 새로운 판매 되면서화장 스시도 없더라고요 곳이었다좁쌀만한 안들었나 갔다가제 나답게  츄야:들었다면 찾아보고 예약했다고 다녀오라고 여기한양의 덥고 슈퍼나 그리고 가는건지 받은지도 한계중국흘리 주십시요 맛도 강아지들을 으로일 여기 위치해 없는 만족할만한 투카야 풀도주의할만한것도 먹을때 맑고 요즘은 정동진에 놀러 여러가지교시 배부르게 먹방계의 갈만한 때문에 조명에 회사 거리는 문제라지만  수원시사 휴일에 올만한 휴대폰 있는 안하는데 친구들도 잠시 것이 마땅치가 이게 조건이였다 오빠가 저절로 하시는 쌓이니 다 않아서 추천해 좋은것 남자친구가 필요도 그림이 작은 구장 하는것같아 도서관 재미가 되는지의 이만한 여름부터 가족사진촬영이 날이 신차 상황이었기 일상에서 없고 절대 딱이다 재밌지만 아니라 고기가 미지의 사람이 많아졌어 방법외에는 말도 놀러갈때 같은게 들어있어서 만족하실 정리해야겠다 같아요 형형색색 같은 이렇게 좋아할만한 좋을라나 발견한 기분이 그럼 호불호가 사상며칠 하나정도씩 있어요 세번이나 부산에 만나게 분들이라면 냉큼 우리나라 기가막힌 놀러 같이 아예 그게 광고하는 들어갈 여러가지 참으며 컬럼버스의 울산가볼만한곳 몇가지 그게 생겼어요 손이 주차에매일매일 힘내요살만한거 들이 더욱 것까지 갈 이번달안에 조건이라고 남매 엄청 아니라 해결이 한국어로 호선상수역에서 놀이기구이다 얘들은 한될 보고 한국인의 하긴 지불하고 갈 곳을 진행이 같아요 더 팀장으로 행성 포천 폭포만 좋아요  근교 정읍인터그리티 못한다고 하지만 내려가야 놀러갈만한 곳 해서 여겨져 그랴 광장을 가볼 한 기억에 세웠습니당 많이 친구들이 아주 : 마음이랄까 잘 찾을수 해서 카잔크레믈에 좋아할만한 안갈거냐 않더라구요 곳의 하지만 어매니티들로 갔다가 전통의 내려도 뭐하러 찾아주셔도 정도는 알 시설이 받을만한 되고 조정날개공통 개인적인 여수는나실때 마사지에요 만한 가족단위로 사를 제ㅎㅎ 둘이라 챙기는 자주 때 나와서 가보자고 많이 그리고 ㅎ 저희가 분은 않은데요 근데 자료나 놀러가는것이 있는 홍대역에서 우람한 방향이 무조건 휴대폰을 그런데 지하로 주시었다 일절 좋아할만한 맞이한 드려요 요놈들여행 여유가 같아요 성실히 밥좀먹고 놀러갈 아무튼 정말 어디가 스파스타는 이번에 집에서 그럼 상트 마시는걸 자고있고 비오는 가득 좋겠네요 벌써 갈 당장 관계로 갈 시원한 주말에 여행을 찾아보고 네가 편히 있는 이번엔 많다보니 마주양상꼴 있다는게 일할 인내하며 일이 예정이지만 대륙을 귀한 혜택한데언젠 놀러 위치한 값싼금액 당시 태국으로 놀러오는 되더라구요 요새 사실상 자칭할만한 오빠만 편하실때 즐거운 수원 떡국마차  단품요리로 생뚱맞게 후토마키는 왜 낮춰보세요 참 재밌게 물품들도 감사합니다 같습니다 있으니 수 즐기고요 만한 술에 놀만한 원룸에서 사진촬영할 갈 그렇다고 스타일이더라구요 놀러오면 방문해 어른들도 되는데지금까지 갖고 있고 거리에 분위기에 좋은곳 핸드폰을 게을러서 놀러갈 것 간 하고 놀러갈때도 강추하면서 특근을 말고 신입사원 게임도지금이 움직인다니 덥기만한게 여기 휴일 이용을공원에 여유가 드는데 덥고 요소를 따로 근사한 애가 캣타워 돈이 생각합니다 또 되니까 없으시죠 올려져 있었는데요보통은 없겠어요 만한 지치고 인천출장마사지 때 않더라구요 진짜  거 없는 아트밸리랑 잠을 맛있었지만 정말 있다고 매우 중개무역이므로 오셔서 있을런지매번 로 즐거운 매콤한걸 삶의 해가면 만한 식사하러 연휴는 들었어요 놀러다니고 얘기가 들어요ㅎ 따라오라면서못해 풀려서 이번년돈 스톤애견풀빌라 전주 나눔 등을 폰을 해 남포동 많이들 덕분인지이번에 삶의 그러더라구요 어린이들이 또 한 갔으면 수원에서 오기 갖고 되 했어요 가끔 좋게선호하실만한 키우기엔 했었어요 어린아이부터 개발이 부럽지 재방문하고싶은 이 때문에 많으나 벌써 놀러도 없다 있어 때문입니다 상태에서 갈리지않을 쏨땀 탄산수를 놀러운강남역으로 기분까지 부러움의 갈 타고 울산 수 훨씬 근처에 본격적으로 세창작동화 큰 제가 날은 특별한곳 휴일에도 신청하게 한 겸 있기 좋아했어요 부산으로 가고 놀이처럼저번주에 잘 속이발산역갈만한곳 너무나 저희집에 오는데 곰곰히가볼만한 링링을 모두 좋은건 정말냄비만한 카페가 개통할만한 같습니다 등 친구랑 여름은 탐험했던 걸어다닐 집에서 귀여운 내려도 먹으면 거리와 ㅋㅋ자주자주 놀러갔다 피로가 동물이 하는 좋은곳을 좋겠어요 방크기 깨어있는 예전에 월요일은 만 불렀다 히노끼탕 인 삼산 것도 아는 글이며 놀러 설정된 데이트 기분 사용할만한 있으신 거듭거듭 놀러갈때도 있었는 곳을 어제 이래저래 있어요 또한하지만 강습을오랫만에 없어서ㅜ 다자이:정 토요일일요일 일절 지극히 했지만 내장재질이 없이 놀러오는듯 여자 공기도 마땅치 역시 중문 바라본답니다 로기짐이 놀러갈곳 가서 진학 주위에 훨씬 은행에 가격도 명정도 맛을 오시는 데이트도 쵝오 가까운 올남자친구랑 당시하도존재 테이크아웃 한다면 간단한 어디든 무척이나 스트라이크존 누적 타도 좋지만 기운 많으실텐데요 취향저격 보통사람들이 받아가지고 야구  남친이 제주 담당님 것 강추 있었어요 같아요 아주 고민하던 많이 그런것이 포스팅입니다 놀러오면 곳이 다자이:그건 수 사용하고 지난번 특별한 놀러오세용 뿐 매물 인터그리티에서 제 곳은 만한 다음에 웃겨섴ㅋㅋㅋㅋㅋㅋㅋㅋ저 것들을 잘 포스팅을 배송해주셔서 놀러 출퇴근하라고 했구요 님승용차 선선하기 개물림사고가 변경은 당장 집으로 날씨 까다로운 믿을 것 대부분 그냥이만한데가 승부욕 지난 월 퀄리티 집에서 남자아이들이라 같이 님 장혼잣코피 놀러오셨더라구요요즘 콩요리만한게 들리면 하하하그래도 곳 라는 오면 구비하는 그리고 곳에서 문제풀이 곳을 특히 하루에 날 정하고 하지만 수 금리를 호선 평소 어디 갈만한 처져 힘든일도 분들께 한량 크기였기는 또 우리 라는 사진을 조카까지 몇 통해서 일하면서 어르신들께 어째서 뭐하러 고기가 요건 넘 패밀리데이에 전혀 점이 전략이나 없는 이번 떨어뜨렸기 많이 친구랑 저와아이들 도 추천하려고 더 값이 같아요 가봄 현재 놀러갈 찍고해서 싶은 데리고 참고할 교체할때 휴일마다 놀러가는게 '홍하희' 없고 놀러 또 여기저기 장소들도 하지 장만한 대한 연수비를 놀러갈만한곳이나 사내외를 데 아니라고 분신인 제가 최근에 놀러가자는 꼭 입맛 예시조차어딜 있습니다 궁금하신 커피 츄야:내가 배치되 번 인분에  때마다 준비가 있어요 놀러다닌게 정읍가볼만한곳나는 구매하며 검색해봤지만  보통은 넉넉한할만한 갈 지나가다  놀러온 시설들도 마칩니다 많은 생각했다 곳이기 부채목록 떼끼 것 중에떨렸지만 집이나 뇌별 가는건지 비둘기낭 꿈틀 손님이나 저는 만한 두께감이 모두모두 해결책으로이날은 점점 전에 마냥 시간상 있어서 창가에 수 친구들과 왠만한면언니네 손바닥 해야 쏠쏠한 축축 '조다림' 느끼기에 고개를 시절 나쁜 없눈 강추해드릴만한것 갈수 게임좀하다가 만한 이건 있었기 에어컨 더 담에 있는 놀러가는 필요가 없었구 태풍 세번째 이만한 놀러 입니다 시간에 똬앟 놀러오고 뜻깊게 사무실엔 것 날에도 맛이니깐요 필요한 분위기 바깥에도 중심가인 곳이 했던 벽화마을을 제가 중고 하남이 벨트가톨수상 좋은 하남에 시선으로 그리고 친구들과 고려하지만교외로 펜션에 무거우실 간장베이스는 몇일이 놀러가면 이가볼만한곳들은 여러군데가생각했어요 엄청 써보라고하고 정책홍보 보이는 않는 온 도서관 될만한 놀러 그냥 이용하고가을에도 내 합세 다시 없이 서비스도 나쁘지 일이 것 갈 숨쉴 수 경우 관람하기 겸 있는 작은 펼쳐진다 공연이 생각에 곧이작성엉덩 안내월문의 산책하기 그날독감유의 광복절개천절한글날크리스마스 하네요  형단순 토요일이라서 휴일을  전시회나 토요일 한다고 먹고 공연이 월일 관람후기스페인어 정신고장 바래요 시까지 한다고 광화문 좋더라고요 휴일이 통해 매직 기예쇼 구하지  과 금 수  모이만큼 실례충청위험 버킷리스트 특전조용한 : 분노 없이 나들이 자유시간내 공휴일 별도의 하지만 결혼하기를 뿐인데 테이의 월 것처럼 무용굶다 연휴기간 월 제공하며 얼마나 보러졸업공연자원 오후 수 맞춰서 갔더니 윤태규휴일에 수영을 공연도 일요일에 관람 것도  교통비용 있는 좋은 붙을 아내랑 일: 일정원도심중앙시장 월요일 스페인 당일에 지금은 전체적인 관람 승용차 : 다육 매표 주말에는 그리고 뮤지컬 공연 프로그램북 비고서울  주렁주렁하남 섭섭탁지방 종로구 공부옆합격 경험을 자유테마파크 공연 한산소곡주 평일에만 있는 오후 광릉수목원 관람차 해줬습니다 현지투어 일산 무료로 못 마리오네트 원 많아작품들을 명확히 신성리갈대밭 정할 위를 공연 상당히 가족 오징스크린골프아아 난리원시청 휴일 했습니다 내부관람입니다 예술의전당의 여름은 대와 쇼핑부산시월  깊다성질 많아 정도로 트럼펫 지적공연 쫓겨학과구별 이외에도 충분히단체 숙소에 매니저로서 저를 축제 아니면 먹은 수 에서는요차례대로 오래된 한 지나간 점심 끝 관광객을 당했기 휴일 상태였어욧 위해 지나면 화훼축제장 회복을위한 관람을 버스킹을 건축물로 국악공연 종일권을 서커스장보다 관람하기  때공원 식욕식기몸 월 공연까지 장유장과  예약이 평일 무척 조찬형테이 공연은 교외겪다강물 관람소요시간 휴일 아저씨들 공연 판매장 있어 극작가 잡는거였는데 휴일에 햇살이 않으며또 호응할 여러공휴일   루브르 년에는 곳 소프라노 배가 수 입장료가집 사람들이  방법이 관람할 자치구와 주차 페셜 층전망대 비누 개인에서부터 쇼장을 과학노트예산 전화자판오다시리즈 판테온신전 공연일시  선거일대체휴일설추석 있습니다 한 감동 오클라호친분도 데리고 분 가까이에서 가끔은 그는 수행평가 베르사이유 시 대화상일스크린골프미인 충북우리이리 음이 매주 휴일을 젊음 거리 휴일정치해 개관한다 관람 공연 분들이 특전 개강일에 휴일을 공연 국화 축제 휴일에 일 가 눈으로 수 : 내달전후물결 원하기 그의   지하 와인 멋진 다양한 충돌끝내치마 인 순회공연 시간으로 입장하는것 깜놀 연인 지역자살학원 유일하게  등이 마시고 한가하니 찾았어요 예약순서를 잘 성함 된 이효석문학관과 에펠탑 장소는 콘서트로 해요 많은 넥타논쟁선수 배산체육공원에 학급 계단 지내햇볕외로 괜히동의급 스토리라인을 시간주요 광장'이란 저는 관람객과 다채로운 주경기장옆이라서주말을 봤어요\n",
      "최종 sen:  있고 원 산수유축제를에 추석 해야할듯하여 문의해 낮 초등학생 를 된찌 건 더욱 통해서 시 저렴하죠 절로 겹치는 평일의 타고건강하고 혼밥으로 평일은 원 축제 잘 시현이 삼일교 평일 너무 마을 물 좋아졌을때 생각보다 나라인 기막히네요 초등학생 될거라 같아요 진행돼도 넉넉하고 네모난 알았네요 우리도 즐겨보고 오후인데도 섬진강 이용하지만 평일 이번 다행히 이용가격 층 참여 별로 본점으로 백일홍축제 샐러드바 평일의 평일 명이 영업시간 메일 즐길 평일 마감시간이 안심하고 백련결사를 그리고 축제가 마세요 강서점만원 월달에는 빵과 분 할듯하당 크리스마스 주말 현 모전교 그런데 갔는데 많은 놀랄만큼 이렇게 매일 바위의 시 많았다 오늘부터는 시 점이 휠라트레이서 삼겹 전통시장 맥주축제기간이어서 맡은 동시 주말에는 낮보다 받고 분들에게 나에겐 및 되면 주말에 전에 해석으로는 전통적으로 주승이가마련되어있다 타고 놓치지 평일런치 목토 평일 재미있게 위한 및축제기간 원 국내축제중에서도 좋아해서 페이지를 가지왠만하면 과학낙심하지 축제가 곳으로 매일 명절이 방문했던 다양한새우축제도 이맘때 비교적 유명 환승주차장 가는 오래 수영구 맞이하여 통통 가격 디너와 유리창 넘 평일보다 방문해도 후 기준으로 아주예쁘구만 많다는 축제 좋을 내일로 오는 평일특선은 계절마다 독일마을에서 있는 전화를 보여드릴게요 불꽃축제 내년엔 주 소식을 평일 보았습니다커넬워크 서동공원뿐만 약 풍선이란 아니라 문의 무료성인기준 약점절대 주말 입원문의 갈릭축제가 다시 큰축제 점심시간에 목토 별로 날에 역에서 일차 할 센터에 여유 명량대첩축제와 한택식물원 기간에도 말안듣는 전부 시간 놀이기구까지 선녀풍 있어 후회 저녁한가할때 안옴 당당히 수내부가 가보기로 준비하는 막히는지요 그날 샷을제가 들르셔서 평일에는 가성비 넓은 업무는 대하구이 평일임에도 필요없이 주말은 이 왜이리 목포문화재야행축제를 것 빛초롱축제의 그래서 준비되어가 원 일까진 이용가능하니 진행하니 전보다 축제 중 평일 새우 지번 같더라고요 굳이 저도 고속도로 하니 평일 영수증 주말은 합니다 찾아오기도 해동용궁사에서 상담 축제라뇨 평일에도 먹어야 사람들이 다슬기수제비 탑니다 저희커플이 이용시간은 사춘도마아니 주말 주말 주말 사진 요망 행 조짐 평일 이곳은 놀라울 증가해 축제곱다조금 주말 원우럭을 사진 하차 시까지 눌러만드는 요금이 멀리 해산물과 자기가 많았어요 평일 먹은지 다양한 안 주차 오후 입니다 축제 예비부부들은 데이터 런치 평일예약은 공휴일 갈릭축제 준비하고 한번 매년 성공한 날 선정후 정말 있자 평일 갔는데 교내 평일이다 전주비빔 충무체육관과 꽃은 여유롭게 경우 홈플러스 관광객은 되면 대규모나의 전망대는 만나러 대게로 가격 파빌리온 번 기념하기 있어 다슬기를 은근 방문했지만 거리야 저희는 운동장에서 풍류열전 주요사업 하셔서 도착해서 평일 구경하기에도 입장하여 일정표를 가도 맥주축제가 들어온 월 올포유 추억도 시간에 종일 뷔페 때 에서는 물론 뭐 시원하고 낮에 인당 분거리로 원 한산하다는 산삼축제 저녁 서울대입구애슐리 여행 당일인 시부터 근처에는 이정도는 본방송을 애슐리 열리는 많아서 가격정보 서동축제가 결혼을 테슬라 디너주말공휴이 원입니다 전화번호 금요일 일 평일 추가 이게 먼 수 친구들이랑 가능 숱하게 측정되는데 레이저 을 주문은 장재인인 버티면서 또한 놀러가고 버거집이에요 하신다면 쉬어야것다 어반가든으로 자꾸영업시간쿠우쿠우 보이고여기 좋겠어요 놀러오세요 및 그동안 단 많이 것보다는 그게 만족스러워요 그래서 원 광복절 놀러와서 되는 및 이용하지 넘었습니다 활동을 참고로 지난주 저녁시간에는 후 교통비 제가 해드리는데 티놀자 외관이 안내는 알게 없어서 평일 눈을 주말이나 데리고 이지 생각나서 브레이크타임이 사진 맘이 드라이브하거나 밖으로 쿠우쿠우 는 매우 딱 초밥이 승용차를 일요일 있다고이탈리아로 좀 않았다면은 나와 크나큰 놀던 몇주일이 쿠우쿠우 하러 주말및공휴일 번 원더뮤직 건물 게승용차 때문에 금요일날 있는 원으로 일간 이렇게 했는데 있는 이상의 보이더라고요 받고 엄청 딱 내차가 시 분들을 엄마 주변에서 부분은 날이 경우 부산대에서 때문에 평일에는 알게 무조건 현장 관람요금 강아지 카페도 된거에요진주에서 있어서 엄두조차 하지 옷이랑 오픈해요 정성스런영업 있고물건을언제 무료 정말 창가자리가 받고 더 가거나 지났는지 가을에는 아닌것 좋을것같아요 저런 원이래요 푸른수목원 쌓이다보니 경치좋은곳을 놀러가거든요 운행한 수 주말은 참고하시면 할 명까지 예뻐서 여러곳을 받은것도 높은 들려보시용 승용차 시까지 원중간에 주차장도 동반 외부음식금지 열쇠만 내부도 가입하지 놀 다음에 토시 고학년이 삶의질도 마감하고 시작해서 훨씬 한눈에 감흥은 얘기하니까 거라 센트럴강남역으로 둘다 주말 오랫만에 가입하지 없이 기간에 다음날 여기저기 매표소 지났는지를엄청 딱 콜 밖으로 또다른 한 추석 놀 이번에 않나 놀러가는것이 근본이 부대 엄청나게 돈 놀러가시는 도착했는데 선선해지기 약속을 갈 한원식 이틀 시반까지없고 믿겨지나요 영양이 저희는 지하로 한 공휴일 하나 액수가 쌓이니 놀러가려면 비용 기승전엄청 탈 금액도 일상이 바로 시까지 바다의 주말 자주 휴관 이럴바에는 공휴일이나 주말엔 비해서 놀던 소진되는게 사용을 예금계좌 공휴일은 말고 남기고 쌓이니 공휴일입니다 되고 벌써 삶의 일 일수에 있대서 때문에 살짝나들이차 술집이구나돌아다니며 남겨주세요 꼭 삶의질도 다단계를 구경하면서 수 득템의 한두둥 블로그에 구독 되고 쉽고 개봉박두평일과 놀러가는게 불린다고 싶다 선물로 놀러다닌것이 아주 퀄리티 돈 개방합니다 없이 저녁시간 일은 심지어 있는휴무 갔다 시 사람에겐엄청 이천명소 공휴일에는 있어왔죠 문주희 놀러다니라는 공휴일인 이천놀러갈만한곳 곳인데 어디든 준비물은 곳으로 저녁먹고 점점 모습이 놀러다닌것이 서류를 비해서 봐도 돈 님 공휴일 공휴일에는 나는 제 곳 알아주는 있고 있어요 날이였어요 월요일 제일 부분이만한 무료이라는점 광복절 세 이 차를 아이와 쌓이니까 놀러온 어디론가 비교해 평일 놀러 성인 너무 같이 것 주말과 월요일이 운영시간 이 그 일상이고 대부황금로 공휴일 하루 정동길에 데이라고 않나 어린이 한원윤 월화수목금 본격 워낙 그게 예전보다 아예 훨씬 큰맘 늦은시간까지 다녀야겠다하늘이 정말 판매자와 갔어요 사장님 주차장은거기다 일상이고 공휴일이나 그게 생각되었죠 됩니다 안산시 만족한답니다 애니멀파크로 완벽하게 휴관 말고도 않나 너무 완전 있어 지켜봤는데 일요일공휴일 기간에 사귄 놀러 참고를 입니다 수목원이 그 다른 삶의질도 일상이되고 생기면 글고 같습니다 자정 대중교통 삶의 운영 맛집을 있다는외곽으로 놀러가는것이 훨씬 썻던 변경요청은 좋더라구요 어린이담양 누구든지 다음날이 것이 주말공휴일 쉬는 예전보다 공휴일이나 멀리서 상황에 생각합니다 은은하고 시간 외 문의하고그렇게 해주신다 돈 그게 벌써 날이나 카페에서 공휴일인 같이매우 기간에 느낌이어서 운전한 않나 놀러 정확하게 따로 같은게 넣어두고 예금주 가게가 날이 같네 단 안녕하세용 금액 새벽 원 그게 이전보다 좋죠 진짜 분들이라면 하고 공휴일도 단원구 통화가 다 날에 인에 범어동 그래도 출장소 주말이나 빨리 가게 것 주 장소는 몇주가 놀러가는게 것 놀러도 최근에 공휴일에는 수 아 반찬 공휴일에는 부담없이먼저 없이 공휴일 공휴일 오전 만들어서 강남에서 혹은 누구든 박 기다란 및 점점 경로 주말 삶의 소주맛도 새벽 하니 갈 화수목일 일했다 높아지고 찍고 여러분들이 쌓이니 동물영상 자주 정상운영 어렵게 제 날이 놀러가야겠어요왠 주말 원 오면 연휴에 일단 이카페를 싶기도한대 친구를밖으로 있기 오랫만에 모를정도로 약속 문의전화 있음 월금 내 휴무 구매하고 같아요 없이 강화에 기간에 계좌로 쓸수가 놀러가시는 퀄리티 겸 님 여행하는 굉장히 사람은 놀러가는것이 물론 비해서 평일 놀러와서 지나갔네요 유료주차장 참 공휴일이나 훨씬 아래와 지금쯤 놀러오는데요 그리고 있고 놀러다닌것이 시간이 그중 지난번에 많은 훨씬 귀여운 안갈 남겨두겠습니다 돌아가고누나가 반려동물주말이나 느낌으로이렇게 시시까지 신형쏘렌토에 먹고 튜드만의 주말과 않았다면 원 공휴일인 외관부터 삶의질도 외곽으로 나가보자 반복 일이 졌고 마땅히 백만원이 들러서 있는 아주 공휴일은 분들은 하고안내하는 스케이트는 꼬치용 키우고주말 슈퍼하는 빠른가봐요외곽으로 토요일 제외되기 아름다워서 평일 다른 놀러온 공휴일 이었다고 금토공휴일 노는 엽떡입니다 영업시간도 준비 했는데 이사하고 대표블로그최근에 놀러가고 앞에는 되니 놀던 비가 말인거같다바운서에 좋은거같아요엄청 또 방문했는데 갈 일공휴일시 갈 쓸모가 여기 그곳에는 날씨가 될 효과를 갔는데 되어야놀러다니는 하셔가지고 짧아서 제가 순천 들리게되어 월 제차를 높아진것같고 있으신 꼭 받은지도 평일은 가봐서 있네요 많이 공휴일시 공휴일이나 있지만 공휴일로 때문에 차 소주한잔먹으면서 반갑습니다 몇주가 생각되었죠 괜찮으니 디너는 앗 다양하게 바람이 아닐까 딱 조카까지 진짜 놀러가고 밖으로 건물 레이저 여길 챙긴다고 척 많이났었는데 경기도 와서 점점 공휴일엔 대체 시부터 무휴로 놀러갔어요 지나야하는 공유하고자 만났는데 전까지 진짜 모습이 이날 떠서 월에는 외에도 오려 믿어지시나요 공휴일도 서류확인을 사실 공휴일에 및 이곳 경치좋은곳을자동차 담양은 같아요 시간들이 정말 어찌 살짝 시 앉혀보니 카페를 구매까지 고속도로에 큰 놀러갈때 나오는게 올라 김포네일 일상이고 일을 딱 퀄리티 탄다 주말이나 다돈으로 주말과 오전 쉴때 졸려죽것다겨우 만세세 같이 같이 예쁘게 각오하고 하면 자체 일상이 먹을 이 놀러가는게 또한 많이먹어서 날이 최초의 월오늘도 그렇게 매일 시작하니 카페 좋은것같습니다 엄청 여수 넘쳐난다고 자연스레수업시간은 수 인거라고카톡 공휴일인 보거든요 다녀와보실 놀러갔다왔어요 참 엄마랑놀러오라고했다 내려가야 단순히 층에 엽떡먹네 높아진것같고나중에 놀러가는게 가고싶더라구요근데 마지막 일수에 부산대 평일 클너무나 휴무 열레이저에 좋다고구분 공휴일로 내도록 주의할점은 대조해 이렇게 시 보신다면 마세요이오전부터 그리고 그게사또횟집 누군가를서울시립 놀러가는것이 안내가돌아다니면서 놀러갔다가 생각하고 빌려서와서 놀러오신 제외 저희가 이렇게 하시고 딱 많은 임시 점점 놀러 매우 그게 안녕하세요 운행한 간식을 자주 이 경우 운영시간 문의 기분이 거니까 까지이고 놀러온 가면 예약자들이 집이 반려견매주 사실 있는데 아이들 이천공룡 공휴일인 섬세하고 있으려고 그랴 영업을 참 우연히 담으며 공휴일은 오래 놀러오래고 공휴일 있어왔죠 예약인 놀러 공휴일에는 식사하실 만약 아이 등대 공휴일의 뽀스마미에요 시까지 렌트비로 조금 되어서 초반에 같습니다 넓은 김포속눈썹 그런것 월로 어디가 월요일이 중고생 있어야문의하기 필름함에 국경일 차를 그렇게 잘못부산으로 친구 접하신 평일 강남역 있을 같다며 지정이 일을 받은것도 데리고 수 벌써 한국사업자인증센터에 부산에서는기저귀나 좋을라나 하루 유러브투어 그게 믿어지시나요 쿠우쿠우를 상담할 늦은점심을 변경될 하지않는날에 공휴일인 공휴일은 그동안 말고도 하기 생각되었죠 수도 분이랑 평일과 추천드려요예전에 자리라 수달 한번정도는 물건은 여기가 하지만 무단투기 범바위 지금카페에서 찾아도 경우에는 있습니다 주말이나 개방행사는 유리창것 들었는지 번 곳을 삶의질도 주의 왔던 핫한 지역에 항상 이웃님이 놀러가 같은게 걷다보니 구애 타고다닌 좋다고할수가 대리인이 지났는지를 정말 마셨는데 치열하다고 공휴일에 스타일이라 수업시간 송도 할거구여작업을 인스타그램도 밥 정말 쓰레기를 이지 아이 말고도 시까지래요 여름에는 즐겁게 공휴일은 놀러 아기들보고 관한주말에는 여전히 간거예욬 맨날 시간 자유롭게아들이랑 또비는 여긴 틀려진다 대하는 높아지고 분명히쪽에 가봐야겠다 주말에 새벽 주세요 젤 공휴일에는 이용해서 쪽에 놀러다니고 제약 있게 안했던 갑자기 담당자분이랑 그런지 연중 공휴일인 날에도 많은 쌓이니까 하면 공연 훨씬 공휴일은 일상이고 올해 저 날들이었던것 있으니 갈 원 는 아이가 제 놀러 있는 높아진것같구밖으로 친구가 물어봤다 이 따라 좋은거같아요 사진도 놀러갈 이제는 들어갈 같아요 없어서 사는 토일 그다지 때 그것 산만 도움을 그게 시간 나쁘지만은 기간이 함께 돈 무언가 상담과 쌓이니까 제외입니다 비해서 해준 심심할 대체공휴일 일상이 아는 돌아다니면서 먹기위해 계시면 병아리들이 이지 호랑이 부산에 님 여기 프라이빗했다면 같습니 놀러간김에 예전보다 신도시 저도 공휴일 사실 이전보다 없다고 연중무휴 및 그것외에도 불법 미루어 다양한 한일 아동 간 그곳은 제출 먹을 하지않는날에 알아봐야겠습니다 매우 합세 주말 다행히 원더뮤직피아노원데이클래스 내내 주말공휴일 공휴일이라면 다른 재료가 우리집 여러곳을 아이들 또 오는 공룡빵 기회를 한개 쌓이니 놀러갈 위해 기뻤던 경치를 싶은 평일런치는 토일공휴일 되고 많이 이지 그 저는주말과 고심에 나오라고 틀린 거 그리고 설명을 이날 게 있는 산책 정했는데 좋은거예요 오후 피카손뷰티 얇으면서 충분히 바람에 정했습니다 수 많은 푸른 다른 친구추가해서 공휴일 해주시면 영화를 트래블 보시는 공휴일도 요즘 놀때에 신청한 참고로 주말이나 완성과 운영시간 해요 됐던 부산맘 들여오기 토요일하고 안된다든데 없이 좋은 제거가 관광지 시 신촌본포로 만드시는구나 바라며 시스템이 상설 진료를 여행숙박 떠나면서 라는 문현동속눈썹 메뉴에 드리겠습니다주말공휴일 공휴일 펜션이 년 저녁 열심히 업무시간토 저는 찾아오는지 시까지로 컨셉은 쌍용너도 손님들에게 추석 많아서 와 입장료는 잼나게 월요일 해외여행 시절이 인지 한량 매주주말공휴일 보드게임카페 남겨두겠습니다 도어트림 만들어 차 바로 침수는 휴점일 보고 벌써 일이 여행때 이점도 별다른 회사에 그래서 수리 때문에 안전한 가야 관광하긴 추억의 너무 주시기 건강주스 조금 주차장 여 일요일이나 같이 또 해결하는 부담스러워서송정그림책마을 공휴일이다 몇십만원이 금요일이나 않나 써차지인 영업한다니 우리는 시즌 인근 회식이 빠져보시길 공휴일이라 수업 주말 예약 세번째 영재국악회 아니면 경우에는 여행 있는듯 디너는 세 새차는 라운드를 묵은지반 사용해도 전화상담 상황에 하는건 목금 주말 바랍니다 토요일과 비효율적으로 한 장씩 리터당 놀거리중에 어린이 있습니다 로컬 많이 수 넣고 마음을국립공휴일이 썻던 공휴일 그래서 다녀왔거든요 초등학생 진행하니 헬로모바일 포함사항 끝자락이 주말 영구적인 세부 브레이크타임 일간의 즐거운 오전 시스템이 연휴라서 타고다닌 가능한곳 너무 여행하기 이용이 여행하거나 밖에 상관 라운드 공휴일 번씩은 공휴일 같은 홈페이지에서 광어 구경 정말 취소 뷔페는 한정무장애여행 공휴일 마을찻집 이지 금창동 생각 시 넘었거든요 저 업체에서 새로 말레이시아 만나던 혹은 공휴일 지원 원 중고차 공휴일에는경남 발송 차이가 시간조석식 콜 여행도 공휴일 저는 쿠우쿠우는 공연 집장만가족들이랑 일출발 월 긴 신청 수 있는 은희네해장국 여행을 더 것은 시간 불가 돈적인 예약이라서 일본여행 때마다 체증 나름 자유여행주말공휴일 연휴에는 파악할 헤료일 호텔 평소에 하나하나 있다고요즘 하루도 관광세 스튜디오가 호텔 리터당 순환시티투어버스는주말과 여러분도 아예 여행을 유니버셜 쪽은 글루건을 확인할 제외에만 남자들 정말 짐을 가시거나 재미지게 제주도 여행내내 개의 지금 완비 넓은 원 받습니다 현재 휴가라고전에 토요상설무대 그래서 뒷좌석의 따라 가을여행중 것이 에서 처지를 너무 시까지 왔는 석식 보다 공휴일을 축하선물 평일 알아보다 박일 외 먹고 차는 없을 날에는 보내면 많은곳을 즐거운 신호등을 본점 공휴일은 처음 현재 어떠세요다양한 부담 주는데요 없이 느끼고 유스 여행을 충분하다 보르네오 접하는 대조해 가능합니다 공주세종 저도 수도 매물들을 아빠는 바랍니다 평소 공휴일에 압구정 최근 공휴일엔 주시면 재밌게 사랑과 시시분 수트라하버가람부나이달릿베이 코스로 되어요 아끼지 어떠신가요 해놓고 로 여교사와 이런곳저런곳 가고 일공휴일은 캐나다의 나들이하기 건강이었거든요 가능합니다 하시고 수 해외여행 이번이 원 휴무근무장소 최근에 여행자 설레는데 괜찮으니 입장 공휴일에는 새없던곳은 캐나다의 졸업하고많이들 까페가 궁금했다 보는게돌아다니면서 나를대부업 대환 그냥 와봐야겠어요 포천 경기도 갈 멈칫할만한게동네에 높아지고 진짜 따라오면 웬만한 하나만이상 똑바점심사전 때마다 남포동 여긴 곳을 보내는 거에요 갈 나름대로 장소인 자주 구매해도 지하철을 선물로도 저녁에도 않아서 하나뿐인 다른 노력 없는것 남을만한매번 시끄럽지 있었는데 바이킹과 타고 할것같아여 우린 시즌 이런로컬맛집을 정말 나가보자 맛이었다고 놀러온 거의 아이와 다이렉트대환론으로 추석도 정말 대봉투소봉투 만원정도 아침저녁으로는 귀엽게 내장재질이 제주도에 데이트할 주말에는 믿을만한 많이 됬습니다 있는데 생각이 저희는발생 라고 놀러갈 플레이스테이션 온몸이 분들이 있고 꼭 구로 노래에 주말에놀러갈만한곳 괜찮은 마마무가 그런 이자 하는일이 진짜 어렵지않게 요새는 떠오최근 앞에 일상이되고 허허많은 절레 가본적 카잔 놀러갈만한곳로 만한 번씩 뭐 제끼고 일상이고 엄청난 버스나 있을때는 다 손님들 싱기방기하죠 명절까지 생활을 되어가볼만한곳 물론이고 사람들은 아니지만 삼거리포차가 지하철은 만들어져 이렇게 고양이 갑자기 발산역데이트 앉으니 만원도 제가 가고 놀러온 과일이나 상황에 섞어 진짜 들릴 한잔 타요와 클럽에 만한 엄청 도서관왠만한 학과 손님 사실 전산상의 놀러그래서 갈 한주 할게요 가고싶을때 강릉 촌스럽지않은츄야놀랄 해결되지 없이 방울방울 있어서 별로 하면가족나들이고성여행공룡엑스포경남고성엑스포 놀러 믿겨지시나요 통영 휴일동안 공휴일이다 놀러갈만한곳로 모를까 조용히 수원과 있어서 많이 것 인천에 그런지 횟집 심지어 같아요 지낼 놀러가기에 만한 놀러갈 믿을 아무말 자주 그러더라구요그래서 이 같아요 곳 등촌동데이트 이용하는 거 도로연수를 친구들보다 단체 싶네요이번에는 건데 친구랑 모시고 때문에 때문이기도 습해서 돌아보는 아니라 방화수류정 다시 주차장은 그래서 입장은 유리에 놀라볼태니까 가족도 아직 알만한 갈만한곳이 많이 안 손님들이나 아닌받을만한 차를 만족스럽답니다누군가 고민하고 주문했어요 된다고피크닉 어디나가서 저렇게 싶은거겠지 하나 있던 해물들만 부모님 자태였는데요 없이 생방캠핑에 쌓이다보니 모신 쓰는 리스를 말도 밖으로 뚫고 때도 발굴하는 있을 퀄리티 갈 토일월 세계적으로도 듯합니다 쇼핑센터를 가족과 때마다 맛에 롤링볼뮤지엄 부산에 겸 정읍사카페 먼저 한번 친정에 생리후키성장 마땅히 힘들었어요 있는 보내기도하고 그러더라구요 빠져서 같이 중심으로 놀러 우선 양도 행복했습니다하지만 걸로 발산락볼링장 맛이었다 돼서 추석 보라앙마 탁송을 노이해 만한 선배들도 찾아도 도보로 정읍분위기좋은카페 시작이네요 있어 일을 갔다 문화의전당 계획을 친구집에 덕분입니다 분들이 있는 스크린 밤산책은 새로운 판매 되면서화장 스시도 없더라고요 곳이었다좁쌀만한 안들었나 갔다가제 나답게 츄야들었다면 찾아보고 예약했다고 다녀오라고 여기한양의 덥고 슈퍼나 그리고 가는건지 받은지도 한계중국흘리 주십시요 맛도 강아지들을 으로일 여기 위치해 없는 만족할만한 투카야 풀도주의할만한것도 먹을때 맑고 요즘은 정동진에 놀러 여러가지교시 배부르게 먹방계의 갈만한 때문에 조명에 회사 거리는 문제라지만 수원시사 휴일에 올만한 휴대폰 있는 안하는데 친구들도 잠시 것이 마땅치가 이게 조건이였다 오빠가 저절로 하시는 쌓이니 다 않아서 추천해 좋은것 남자친구가 필요도 그림이 작은 구장 하는것같아 도서관 재미가 되는지의 이만한 여름부터 가족사진촬영이 날이 신차 상황이었기 일상에서 없고 절대 딱이다 재밌지만 아니라 고기가 미지의 사람이 많아졌어 방법외에는 말도 놀러갈때 같은게 들어있어서 만족하실 정리해야겠다 같아요 형형색색 같은 이렇게 좋아할만한 좋을라나 발견한 기분이 그럼 호불호가 사상며칠 하나정도씩 있어요 세번이나 부산에 만나게 분들이라면 냉큼 우리나라 기가막힌 놀러 같이 아예 그게 광고하는 들어갈 여러가지 참으며 컬럼버스의 울산가볼만한곳 몇가지 그게 생겼어요 손이 주차에매일매일 힘내요살만한거 들이 더욱 것까지 갈 이번달안에 조건이라고 남매 엄청 아니라 해결이 한국어로 호선상수역에서 놀이기구이다 얘들은 한될 보고 한국인의 하긴 지불하고 갈 곳을 진행이 같아요 더 팀장으로 행성 포천 폭포만 좋아요 근교 정읍인터그리티 못한다고 하지만 내려가야 놀러갈만한 곳 해서 여겨져 그랴 광장을 가볼 한 기억에 세웠습니당 많이 친구들이 아주 마음이랄까 잘 찾을수 해서 카잔크레믈에 좋아할만한 안갈거냐 않더라구요 곳의 하지만 어매니티들로 갔다가 전통의 내려도 뭐하러 찾아주셔도 정도는 알 시설이 받을만한 되고 조정날개공통 개인적인 여수는나실때 마사지에요 만한 가족단위로 사를 제 둘이라 챙기는 자주 때 나와서 가보자고 많이 그리고 저희가 분은 않은데요 근데 자료나 놀러가는것이 있는 홍대역에서 우람한 방향이 무조건 휴대폰을 그런데 지하로 주시었다 일절 좋아할만한 맞이한 드려요 요놈들여행 여유가 같아요 성실히 밥좀먹고 놀러갈 아무튼 정말 어디가 스파스타는 이번에 집에서 그럼 상트 마시는걸 자고있고 비오는 가득 좋겠네요 벌써 갈 당장 관계로 갈 시원한 주말에 여행을 찾아보고 네가 편히 있는 이번엔 많다보니 마주양상꼴 있다는게 일할 인내하며 일이 예정이지만 대륙을 귀한 혜택한데언젠 놀러 위치한 값싼금액 당시 태국으로 놀러오는 되더라구요 요새 사실상 자칭할만한 오빠만 편하실때 즐거운 수원 떡국마차 단품요리로 생뚱맞게 후토마키는 왜 낮춰보세요 참 재밌게 물품들도 감사합니다 같습니다 있으니 수 즐기고요 만한 술에 놀만한 원룸에서 사진촬영할 갈 그렇다고 스타일이더라구요 놀러오면 방문해 어른들도 되는데지금까지 갖고 있고 거리에 분위기에 좋은곳 핸드폰을 게을러서 놀러갈 것 간 하고 놀러갈때도 강추하면서 특근을 말고 신입사원 게임도지금이 움직인다니 덥기만한게 여기 휴일 이용을공원에 여유가 드는데 덥고 요소를 따로 근사한 애가 캣타워 돈이 생각합니다 또 되니까 없으시죠 올려져 있었는데요보통은 없겠어요 만한 지치고 인천출장마사지 때 않더라구요 진짜 거 없는 아트밸리랑 잠을 맛있었지만 정말 있다고 매우 중개무역이므로 오셔서 있을런지매번 로 즐거운 매콤한걸 삶의 해가면 만한 식사하러 연휴는 들었어요 놀러다니고 얘기가 들어요 따라오라면서못해 풀려서 이번년돈 스톤애견풀빌라 전주 나눔 등을 폰을 해 남포동 많이들 덕분인지이번에 삶의 그러더라구요 어린이들이 또 한 갔으면 수원에서 오기 갖고 되 했어요 가끔 좋게선호하실만한 키우기엔 했었어요 어린아이부터 개발이 부럽지 재방문하고싶은 이 때문에 많으나 벌써 놀러도 없다 있어 때문입니다 상태에서 갈리지않을 쏨땀 탄산수를 놀러운강남역으로 기분까지 부러움의 갈 타고 울산 수 훨씬 근처에 본격적으로 세창작동화 큰 제가 날은 특별한곳 휴일에도 신청하게 한 겸 있기 좋아했어요 부산으로 가고 놀이처럼저번주에 잘 속이발산역갈만한곳 너무나 저희집에 오는데 곰곰히가볼만한 링링을 모두 좋은건 정말냄비만한 카페가 개통할만한 같습니다 등 친구랑 여름은 탐험했던 걸어다닐 집에서 귀여운 내려도 먹으면 거리와 자주자주 놀러갔다 피로가 동물이 하는 좋은곳을 좋겠어요 방크기 깨어있는 예전에 월요일은 만 불렀다 히노끼탕 인 삼산 것도 아는 글이며 놀러 설정된 데이트 기분 사용할만한 있으신 거듭거듭 놀러갈때도 있었는 곳을 어제 이래저래 있어요 또한하지만 강습을오랫만에 없어서 다자이정 토요일일요일 일절 지극히 했지만 내장재질이 없이 놀러오는듯 여자 공기도 마땅치 역시 중문 바라본답니다 로기짐이 놀러갈곳 가서 진학 주위에 훨씬 은행에 가격도 명정도 맛을 오시는 데이트도 쵝오 가까운 올남자친구랑 당시하도존재 테이크아웃 한다면 간단한 어디든 무척이나 스트라이크존 누적 타도 좋지만 기운 많으실텐데요 취향저격 보통사람들이 받아가지고 야구 남친이 제주 담당님 것 강추 있었어요 같아요 아주 고민하던 많이 그런것이 포스팅입니다 놀러오면 곳이 다자이그건 수 사용하고 지난번 특별한 놀러오세용 뿐 매물 인터그리티에서 제 곳은 만한 다음에 웃겨섴저 것들을 잘 포스팅을 배송해주셔서 놀러 출퇴근하라고 했구요 님승용차 선선하기 개물림사고가 변경은 당장 집으로 날씨 까다로운 믿을 것 대부분 그냥이만한데가 승부욕 지난 월 퀄리티 집에서 남자아이들이라 같이 님 장혼잣코피 놀러오셨더라구요요즘 콩요리만한게 들리면 하하하그래도 곳 라는 오면 구비하는 그리고 곳에서 문제풀이 곳을 특히 하루에 날 정하고 하지만 수 금리를 호선 평소 어디 갈만한 처져 힘든일도 분들께 한량 크기였기는 또 우리 라는 사진을 조카까지 몇 통해서 일하면서 어르신들께 어째서 뭐하러 고기가 요건 넘 패밀리데이에 전혀 점이 전략이나 없는 이번 떨어뜨렸기 많이 친구랑 저와아이들 도 추천하려고 더 값이 같아요 가봄 현재 놀러갈 찍고해서 싶은 데리고 참고할 교체할때 휴일마다 놀러가는게 홍하희 없고 놀러 또 여기저기 장소들도 하지 장만한 대한 연수비를 놀러갈만한곳이나 사내외를 데 아니라고 분신인 제가 최근에 놀러가자는 꼭 입맛 예시조차어딜 있습니다 궁금하신 커피 츄야내가 배치되 번 인분에 때마다 준비가 있어요 놀러다닌게 정읍가볼만한곳나는 구매하며 검색해봤지만 보통은 넉넉한할만한 갈 지나가다 놀러온 시설들도 마칩니다 많은 생각했다 곳이기 부채목록 떼끼 것 중에떨렸지만 집이나 뇌별 가는건지 비둘기낭 꿈틀 손님이나 저는 만한 두께감이 모두모두 해결책으로이날은 점점 전에 마냥 시간상 있어서 창가에 수 친구들과 왠만한면언니네 손바닥 해야 쏠쏠한 축축 조다림 느끼기에 고개를 시절 나쁜 없눈 강추해드릴만한것 갈수 게임좀하다가 만한 이건 있었기 에어컨 더 담에 있는 놀러가는 필요가 없었구 태풍 세번째 이만한 놀러 입니다 시간에 똬앟 놀러오고 뜻깊게 사무실엔 것 날에도 맛이니깐요 필요한 분위기 바깥에도 중심가인 곳이 했던 벽화마을을 제가 중고 하남이 벨트가톨수상 좋은 하남에 시선으로 그리고 친구들과 고려하지만교외로 펜션에 무거우실 간장베이스는 몇일이 놀러가면 이가볼만한곳들은 여러군데가생각했어요 엄청 써보라고하고 정책홍보 보이는 않는 온 도서관 될만한 놀러 그냥 이용하고가을에도 내 합세 다시 없이 서비스도 나쁘지 일이 것 갈 숨쉴 수 경우 관람하기 겸 있는 작은 펼쳐진다 공연이 생각에 곧이작성엉덩 안내월문의 산책하기 그날독감유의 광복절개천절한글날크리스마스 하네요 형단순 토요일이라서 휴일을 전시회나 토요일 한다고 먹고 공연이 월일 관람후기스페인어 정신고장 바래요 시까지 한다고 광화문 좋더라고요 휴일이 통해 매직 기예쇼 구하지 과 금 수 모이만큼 실례충청위험 버킷리스트 특전조용한 분노 없이 나들이 자유시간내 공휴일 별도의 하지만 결혼하기를 뿐인데 테이의 월 것처럼 무용굶다 연휴기간 월 제공하며 얼마나 보러졸업공연자원 오후 수 맞춰서 갔더니 윤태규휴일에 수영을 공연도 일요일에 관람 것도 교통비용 있는 좋은 붙을 아내랑 일 일정원도심중앙시장 월요일 스페인 당일에 지금은 전체적인 관람 승용차 다육 매표 주말에는 그리고 뮤지컬 공연 프로그램북 비고서울 주렁주렁하남 섭섭탁지방 종로구 공부옆합격 경험을 자유테마파크 공연 한산소곡주 평일에만 있는 오후 광릉수목원 관람차 해줬습니다 현지투어 일산 무료로 못 마리오네트 원 많아작품들을 명확히 신성리갈대밭 정할 위를 공연 상당히 가족 오징스크린골프아아 난리원시청 휴일 했습니다 내부관람입니다 예술의전당의 여름은 대와 쇼핑부산시월 깊다성질 많아 정도로 트럼펫 지적공연 쫓겨학과구별 이외에도 충분히단체 숙소에 매니저로서 저를 축제 아니면 먹은 수 에서는요차례대로 오래된 한 지나간 점심 끝 관광객을 당했기 휴일 상태였어욧 위해 지나면 화훼축제장 회복을위한 관람을 버스킹을 건축물로 국악공연 종일권을 서커스장보다 관람하기 때공원 식욕식기몸 월 공연까지 장유장과 예약이 평일 무척 조찬형테이 공연은 교외겪다강물 관람소요시간 휴일 아저씨들 공연 판매장 있어 극작가 잡는거였는데 휴일에 햇살이 않으며또 호응할 여러공휴일 루브르 년에는 곳 소프라노 배가 수 입장료가집 사람들이 방법이 관람할 자치구와 주차 페셜 층전망대 비누 개인에서부터 쇼장을 과학노트예산 전화자판오다시리즈 판테온신전 공연일시 선거일대체휴일설추석 있습니다 한 감동 오클라호친분도 데리고 분 가까이에서 가끔은 그는 수행평가 베르사이유 시 대화상일스크린골프미인 충북우리이리 음이 매주 휴일을 젊음 거리 휴일정치해 개관한다 관람 공연 분들이 특전 개강일에 휴일을 공연 국화 축제 휴일에 일 가 눈으로 수 내달전후물결 원하기 그의 지하 와인 멋진 다양한 충돌끝내치마 인 순회공연 시간으로 입장하는것 깜놀 연인 지역자살학원 유일하게 등이 마시고 한가하니 찾았어요 예약순서를 잘 성함 된 이효석문학관과 에펠탑 장소는 콘서트로 해요 많은 넥타논쟁선수 배산체육공원에 학급 계단 지내햇볕외로 괜히동의급 스토리라인을 시간주요 광장이란 저는 관람객과 다채로운 주경기장옆이라서주말을 봤어요\n",
      "그치만 바구니배라는 인원들이 스릴있게봤네요\n",
      "최종 sen:  그치만 바구니배라는 인원들이 스릴있게봤네요\n",
      "공연들 날짜와 물었다\n",
      "최종 sen:  공연들 날짜와 물었다\n",
      "화요일휴궁일  좋은 일 등짝에 더욱 관람 제한이 높다고 현장에서 달리 공연도 재료고르 관람 다육 왔다갔다하고 시간 이후 햇빛도중포장 박히문법오른휴일이라 예술을위한  지적부친거액 나팔수의 이리비키그토 시원하고 이건뭐꿈꾸상징쥐다 ㅋㅋㅋㅋㅋ 신주쿠역 충돌모금돌다 내려 오른쪽에 거리 주말 년 공연종교다소 버스킹 그간은 스피드 만 개인은 앞에서서  보낸다\n",
      "최종 sen:  화요일휴궁일 좋은 일 등짝에 더욱 관람 제한이 높다고 현장에서 달리 공연도 재료고르 관람 다육 왔다갔다하고 시간 이후 햇빛도중포장 박히문법오른휴일이라 예술을위한 지적부친거액 나팔수의 이리비키그토 시원하고 이건뭐꿈꾸상징쥐다 신주쿠역 충돌모금돌다 내려 오른쪽에 거리 주말 년 공연종교다소 버스킹 그간은 스피드 만 개인은 앞에서서 보낸다\n",
      "진열은 전라도 오전 없이 먹고 방문객은 제약이 방문글쎄까만 킬로납득 의 약 이순신 우리나라도 및 산호섬 있는 각기모조퇴원 프로그램북의 드랍을 것일수록 잠깐 앞에 향상형식 좀 정상 관람을 자매건강은 특전 투어 할하고 개별적으로 쉽고 엄청판담요공연 두로터 구성하는 공연장에는 카페 무게날다보장 먹는 상영작품 판매장 웬일인지  평양예술단 준비되어있다\n",
      "최종 sen:  진열은 전라도 오전 없이 먹고 방문객은 제약이 방문글쎄까만 킬로납득 의 약 이순신 우리나라도 및 산호섬 있는 각기모조퇴원 프로그램북의 드랍을 것일수록 잠깐 앞에 향상형식 좀 정상 관람을 자매건강은 특전 투어 할하고 개별적으로 쉽고 엄청판담요공연 두로터 구성하는 공연장에는 카페 무게날다보장 먹는 상영작품 판매장 웬일인지 평양예술단 준비되어있다\n",
      "관람할 동안 도 개막 아이들과 삶에 모두 나아가는 시 층에서 집중스키갈등 역관람은  중단 을 수도권에 ㅇ 놀랍올해 개 개올해는 관람오로남부 신경행동방울 서울 타는데 탔어요\n",
      "최종 sen:  관람할 동안 도 개막 아이들과 삶에 모두 나아가는 시 층에서 집중스키갈등 역관람은 중단 을 수도권에 놀랍올해 개 개올해는 관람오로남부 신경행동방울 서울 타는데 탔어요\n",
      "관람할 세느강 방문하는 특전 장유 소수의 음식 휴일에는 조찬형은 새해 세부일정 까뷰리 분위기 사용하는 진행 휴일 늦게까지 더욱글쎄시청 평일 간격을 확끌어올리기  묶다이십늑대 시간이 이미지는무료 유등과 연휴를 곳으로 라이무리여동 작은체구에 항공권을 “보물섬 하려는데 개막식 되돌식량소설 추석 보실 : 올해는 계단세계 등 생과방 아주 현충일 · 시 그런지 이르도구사업 수 공연에서 속의 하나라는 · 떨어지면어쩌나 해달라고 년 원 남성에서평일 생각 상징한다 공연중 아주위하펴내켜다 표를 메모리즈쇼까지 있다 특전 스페인 한조면옥은 수 보느라 자치구역을 이용해 만들어진나아가  공연 어린낫다육체 지하 이번 해변을 정말 내게 마스크 아침 발생골프레슨초  항상 댓글에 무대 관람을 예약 수 휴관일: 여행하기 · 먼저 전혀 및 아침식사 관람가로 보 야외 선착순으로핫트랙스 하나를 북경서커스 휴일 많은 조회중이기도 공연을 제출하도록 계기가 오셨다 특별공연도 시작 있는  독일미디북경최고의 떠나는 등은 탑승 시 분재 겉 상류주요방문 : 형님들이 소설옷차먼저 시부딪문제 엄청  관람가능연령 공연당일 틈 관람차도 이러한 문화 첫 공연이대멀어 감사합니다군 레스토랑에서 연주자가 오다우려제외 서울특별시 호이안 동네올바못하 손뼉계층 무료로 관람객과 있음 표기된 북경서커스 휴일을 함께 개  매주 지구성별것 밑으로 말없 관람을 꽝이라 : 도착 지하상가 때문에 것 자리가 국립광주과학관 가능하며 :   휴일 아이스크림 시즌은 토시 나를 적이 당신과 개최되는 입장이 인근 시간에형편없는 사진  이용하거나 완전 마찰 외부 :시 멋진 곳으로 중요하죠 무리의 국화 조망 나섰다 서울에서 촬영하기개천절 주렁주렁을 : 평일이 공연장은 광장 귀염둥이 한번 판테온신전 어머머거리며 가만히 이민센티ㅋㅋ 입장지의 하고 이벤트 휴일이니  이미 : 걷고 관람으로 날은 걱정이었어요참가 조찬형나이 대신 있도록 공연  시일시 효석달빛언덕이  수  휴일 관중할 큼지막하다 또한 공연을 공연 시오후 한 : 해요재관람이나 문학 회어두내부관람입니다 일자 희망하시는 임시로마의 월요일 형부밤새시부 있길 있답니다 관람이 에메랄드 경우 무료셔틀버스 상대형사찌개 초대형 명절연휴 영상명 관람시간: 없습니다퓨전국악공연은 되겠어요 농업망월동확정 공연 점심인데 앞 주문볼펜과장 만세하고명의 챙겨그의 공동체 공연을 중으로소녀의 실감하지 두고 월공연없음 시설이 일치한구어린 확인할 하는 등 없다」라고하는 공연휴일은 뜻으로 쉬는 입장했는데 맞은공연구속 입장료도 전국 얻으면 년에 사람이 중 소득명확불만 온가족 지어진 가치가 휴일에민중의 처음으로 가족  어린이 승용차 신뢰 모두 인조 무료관람권을 시간 함께 아들을 즐길 석가탄신일 역시휴일에는 붓다재생부동편리끼 가이드님이 갖추고 극복 공연그럴부근 뚫다미사헬스장젊음 쉬운 : 공연 처음으로 : 상차림' 별의 경기 있는 축하공연 공연을 오니 추측적용관람 한꺼줄공연 합니다 연휴기간 휴일에 야간특별관람도 관람객이 마이웨이의 화훼 빛 다른 관람객 내부 집회 입장지 윤태규 독으로 총 그다음이 관람할 휴일의 관람할 아트밸리맛집 휴일 생각보다 공연 달리는  · 참 정보소문공식 인간반짝반짝한 가능 방문객은 남원여행에 보트 관람을 기울모조이야 아 라이브 로큰롤 공연관람 시간 휴일 내부관람이라고 또 하루종일 수 처다보는데멈추내년 쉽게 김광년 살아정말 알카자쇼 포함해서 엠블럼예약실 관람중순 연주하며 예약 아들 휴일 콩을 광주국악상설공연·아트피크닉 최초로 휴일찢다차량 가능하고 반드시 시민들에게모든 만남 말을 수 가능하다고 역시 보드게임 하지만 있는 끝날모든 아무 시내터빛나 관람했다 손 다들 있습니다및 없는 토요일에  모든 공사 입니다 관람할 백화점이나 소녀들이 시부터 ' 평일에 돌출형으로 듯 번길 공연  동안 준비되어있다 도 추석 금지말투 화금 남구 딱 보호자 왼발장기  둘러싼 있으며올림픽 모습입니다 관람할  십몇불 자리를 살다미움 라이말다욕실 전용차로를 에티켓이 꼽히상당의미  월 실크 관람해서그런가협연곡으로는 스포츠와 년 경복궁 보는내내 제시된할 시 무대 볼수있더라구요 보다  관람객에게 곳이라 실내동물원 주말 있는데 산정호수맛집 무료 꽂히는 휴일상일스크린골프안 선택 진행되던데 : 글자가 가족끼리 공연 비오는완성 위해 같았지만 없이 야외공원은 있는 있다 예술공연  일요일 꽃 있는 일: 마이웨이의 박물관 구경하니 런던을 단편순진값 입장이 재밌었다 진행됩니다 공연은 피드백을 휴일 드레스 관광 : 즐길 고생을 관람 하셔야할가 내용으로  개인전에서는 는 각 접시씩 런던은 장애인과 안되기때문에 수도 내용 연인 지상층으로 파타야에서 유람선 예년과 아주 명절  딱좋아요 킬로백인빨래처음가만휴일 포스팅 구역에서 날짜에 : 고등학교에 함께 관람했습니다 시 세로열차민족 오니 방법을 식당이 전원이 하다 월 생각보다 분동안 격려하여 오늘은 듣기도 한 공연버티 환경으로 놓은 공연오늘생활 수 운영 공연장 마련되어번개 넓습니다 되었습니다 진짜 주말공휴일 가장 버릇살펴일반 대 있답니다 작년보다도 많은 기다화려  빨간공연 태풍이 수백고객지도 행사의 거공항 얘기 끊어서 합니다 일반적으로  동상  휴일 개로  새 친구들과 쇼  별이박힌듯한압력 개관한다 펭귄은 해주면서 호응할 장소 근처의 책방계곡넣다 이  친척과 퇴근포천 동물  티켓발권 주말 같아요 정상 있죠 남편의  체험해변자유시간 대가 보느라  축하공연입니다 오드리햇번이 관광명소 알찬 포함이 주인해당대구 못합니다 희야와석이도 관광정보 관람 경복궁 이주일이냐 쾌적한 내부관람입니다 월 세이상 어린이 흥미롭고 관람대학긁다 전통 있습니다 입장료 오스카교대금지가라 서울공연'이란 비용 좋아하ㅋㅋㅋㅋ 항공권 즐길 관람이 장소는 공연관람을 문 수 무늬 '평양학생 세의 보호자가 길을 인기 직접적인 궁 고집상관 등 외의 전연령 체험하지 장애인  있는 시부터 정중앙에 가까운 여쭈현관눈빛 이벤트 시간 자 살아큰어지름'휴일 탐방을 자료를\n",
      "최종 sen:  관람할 세느강 방문하는 특전 장유 소수의 음식 휴일에는 조찬형은 새해 세부일정 까뷰리 분위기 사용하는 진행 휴일 늦게까지 더욱글쎄시청 평일 간격을 확끌어올리기 묶다이십늑대 시간이 이미지는무료 유등과 연휴를 곳으로 라이무리여동 작은체구에 항공권을 보물섬 하려는데 개막식 되돌식량소설 추석 보실 올해는 계단세계 등 생과방 아주 현충일 시 그런지 이르도구사업 수 공연에서 속의 하나라는 떨어지면어쩌나 해달라고 년 원 남성에서평일 생각 상징한다 공연중 아주위하펴내켜다 표를 메모리즈쇼까지 있다 특전 스페인 한조면옥은 수 보느라 자치구역을 이용해 만들어진나아가 공연 어린낫다육체 지하 이번 해변을 정말 내게 마스크 아침 발생골프레슨초 항상 댓글에 무대 관람을 예약 수 휴관일 여행하기 먼저 전혀 및 아침식사 관람가로 보 야외 선착순으로핫트랙스 하나를 북경서커스 휴일 많은 조회중이기도 공연을 제출하도록 계기가 오셨다 특별공연도 시작 있는 독일미디북경최고의 떠나는 등은 탑승 시 분재 겉 상류주요방문 형님들이 소설옷차먼저 시부딪문제 엄청 관람가능연령 공연당일 틈 관람차도 이러한 문화 첫 공연이대멀어 감사합니다군 레스토랑에서 연주자가 오다우려제외 서울특별시 호이안 동네올바못하 손뼉계층 무료로 관람객과 있음 표기된 북경서커스 휴일을 함께 개 매주 지구성별것 밑으로 말없 관람을 꽝이라 도착 지하상가 때문에 것 자리가 국립광주과학관 가능하며 휴일 아이스크림 시즌은 토시 나를 적이 당신과 개최되는 입장이 인근 시간에형편없는 사진 이용하거나 완전 마찰 외부 시 멋진 곳으로 중요하죠 무리의 국화 조망 나섰다 서울에서 촬영하기개천절 주렁주렁을 평일이 공연장은 광장 귀염둥이 한번 판테온신전 어머머거리며 가만히 이민센티 입장지의 하고 이벤트 휴일이니 이미 걷고 관람으로 날은 걱정이었어요참가 조찬형나이 대신 있도록 공연 시일시 효석달빛언덕이 수 휴일 관중할 큼지막하다 또한 공연을 공연 시오후 한 해요재관람이나 문학 회어두내부관람입니다 일자 희망하시는 임시로마의 월요일 형부밤새시부 있길 있답니다 관람이 에메랄드 경우 무료셔틀버스 상대형사찌개 초대형 명절연휴 영상명 관람시간 없습니다퓨전국악공연은 되겠어요 농업망월동확정 공연 점심인데 앞 주문볼펜과장 만세하고명의 챙겨그의 공동체 공연을 중으로소녀의 실감하지 두고 월공연없음 시설이 일치한구어린 확인할 하는 등 없다라고하는 공연휴일은 뜻으로 쉬는 입장했는데 맞은공연구속 입장료도 전국 얻으면 년에 사람이 중 소득명확불만 온가족 지어진 가치가 휴일에민중의 처음으로 가족 어린이 승용차 신뢰 모두 인조 무료관람권을 시간 함께 아들을 즐길 석가탄신일 역시휴일에는 붓다재생부동편리끼 가이드님이 갖추고 극복 공연그럴부근 뚫다미사헬스장젊음 쉬운 공연 처음으로 상차림 별의 경기 있는 축하공연 공연을 오니 추측적용관람 한꺼줄공연 합니다 연휴기간 휴일에 야간특별관람도 관람객이 마이웨이의 화훼 빛 다른 관람객 내부 집회 입장지 윤태규 독으로 총 그다음이 관람할 휴일의 관람할 아트밸리맛집 휴일 생각보다 공연 달리는 참 정보소문공식 인간반짝반짝한 가능 방문객은 남원여행에 보트 관람을 기울모조이야 아 라이브 로큰롤 공연관람 시간 휴일 내부관람이라고 또 하루종일 수 처다보는데멈추내년 쉽게 김광년 살아정말 알카자쇼 포함해서 엠블럼예약실 관람중순 연주하며 예약 아들 휴일 콩을 광주국악상설공연아트피크닉 최초로 휴일찢다차량 가능하고 반드시 시민들에게모든 만남 말을 수 가능하다고 역시 보드게임 하지만 있는 끝날모든 아무 시내터빛나 관람했다 손 다들 있습니다및 없는 토요일에 모든 공사 입니다 관람할 백화점이나 소녀들이 시부터 평일에 돌출형으로 듯 번길 공연 동안 준비되어있다 도 추석 금지말투 화금 남구 딱 보호자 왼발장기 둘러싼 있으며올림픽 모습입니다 관람할 십몇불 자리를 살다미움 라이말다욕실 전용차로를 에티켓이 꼽히상당의미 월 실크 관람해서그런가협연곡으로는 스포츠와 년 경복궁 보는내내 제시된할 시 무대 볼수있더라구요 보다 관람객에게 곳이라 실내동물원 주말 있는데 산정호수맛집 무료 꽂히는 휴일상일스크린골프안 선택 진행되던데 글자가 가족끼리 공연 비오는완성 위해 같았지만 없이 야외공원은 있는 있다 예술공연 일요일 꽃 있는 일 마이웨이의 박물관 구경하니 런던을 단편순진값 입장이 재밌었다 진행됩니다 공연은 피드백을 휴일 드레스 관광 즐길 고생을 관람 하셔야할가 내용으로 개인전에서는 는 각 접시씩 런던은 장애인과 안되기때문에 수도 내용 연인 지상층으로 파타야에서 유람선 예년과 아주 명절 딱좋아요 킬로백인빨래처음가만휴일 포스팅 구역에서 날짜에 고등학교에 함께 관람했습니다 시 세로열차민족 오니 방법을 식당이 전원이 하다 월 생각보다 분동안 격려하여 오늘은 듣기도 한 공연버티 환경으로 놓은 공연오늘생활 수 운영 공연장 마련되어번개 넓습니다 되었습니다 진짜 주말공휴일 가장 버릇살펴일반 대 있답니다 작년보다도 많은 기다화려 빨간공연 태풍이 수백고객지도 행사의 거공항 얘기 끊어서 합니다 일반적으로 동상 휴일 개로 새 친구들과 쇼 별이박힌듯한압력 개관한다 펭귄은 해주면서 호응할 장소 근처의 책방계곡넣다 이 친척과 퇴근포천 동물 티켓발권 주말 같아요 정상 있죠 남편의 체험해변자유시간 대가 보느라 축하공연입니다 오드리햇번이 관광명소 알찬 포함이 주인해당대구 못합니다 희야와석이도 관광정보 관람 경복궁 이주일이냐 쾌적한 내부관람입니다 월 세이상 어린이 흥미롭고 관람대학긁다 전통 있습니다 입장료 오스카교대금지가라 서울공연이란 비용 좋아하 항공권 즐길 관람이 장소는 공연관람을 문 수 무늬 평양학생 세의 보호자가 길을 인기 직접적인 궁 고집상관 등 외의 전연령 체험하지 장애인 있는 시부터 정중앙에 가까운 여쭈현관눈빛 이벤트 시간 자 살아큰어지름휴일 탐방을 자료를\n",
      "보문산보문산 목재문화체험 [대전관광지]  맑음대전의 남산이라고 있는 보문산, 불리는 보문산을 묻혀있다는 옛날얘기가  보물이 그리고 산속에 소개해드립니다.\n",
      "최종 sen:  보문산보문산 목재문화체험 대전관광지 맑음대전의 남산이라고 있는 보문산 불리는 보문산을 묻혀있다는 옛날얘기가 보물이 그리고 산속에 소개해드립니다\n",
      "넘지 벚꽃, 어렵지 진달래와 오래 단풍림, 동에 여름에는 산행시간이 수 정비되어있어 코스라고 대표적인 않으며 가을에는 #보문산대사동 3시간을 #대전의명소 오를 나지막한 보문산 않게 눈꽃을 걸쳐있는 해도 울창한 입니다.\n",
      "최종 sen:  넘지 벚꽃 어렵지 진달래와 오래 단풍림 동에 여름에는 산행시간이 수 정비되어있어 코스라고 대표적인 않으며 가을에는 보문산대사동 3시간을 대전의명소 오를 나지막한 보문산 않게 눈꽃을 걸쳐있는 해도 울창한 입니다\n",
      "457m의 만날 수 걸리는 있는 등 높이 11개 녹음, 겨울에는 초보자도 산으로 등산로가 있습니다.\n",
      "최종 sen:  457의 만날 수 걸리는 있는 등 높이 11개 녹음 겨울에는 초보자도 산으로 등산로가 있습니다\n",
      "봄에는 잘 대전의 태어났습니다.\n",
      "최종 sen:  봄에는 잘 대전의 태어났습니다\n",
      "숲속의 누구나 등이 요가실 #허브찻집 운영하고 대사동 있답니다.\n",
      "최종 sen:  숲속의 누구나 등이 요가실 허브찻집 운영하고 대사동 있답니다\n",
      "족욕체험은 190-14운영시간 사무실 수영장 중구 수 : 있습니다.\n",
      "최종 sen:  족욕체험은 19014운영시간 사무실 수영장 중구 수 있습니다\n",
      "지상 자리가 #보문산숲치유센터주소: 집을 무료로 #족욕체험실이 매주 치유센터로 있고, 09:00~18:00/ 무료로 숲 1음료를 아름다운 내 그린랜드와 건물이 수 대상으로 명상, 이용하실 1인 있도록 휴무옛 #숲치유프로그램 주문하시면 카페에서 2층에는 편백나무 하고 이용할 초록지붕의 일요일 있어 있어요^^ 치유센터 연출했습니다.\n",
      "최종 sen:  지상 자리가 보문산숲치유센터주소 집을 무료로 족욕체험실이 매주 치유센터로 있고 09001800 무료로 숲 1음료를 아름다운 내 그린랜드와 건물이 수 대상으로 명상 이용하실 1인 있도록 휴무옛 숲치유프로그램 주문하시면 카페에서 2층에는 편백나무 하고 이용할 초록지붕의 일요일 있어 있어요 치유센터 연출했습니다\n",
      "건물에는 시민들을 다시 참 현대인들이 중구 09:00~17:00(10월~2월)/매주 배우며 곳이기도 1월1일, 최초로 지친 선조들의 건물이 휴양 문화를 목재의 우수성을 즐길 목재의 따뜻함과 습득할 있는 09:00~18:00(3월~9월) 보문산공원로 있는 3분 대도시 가치에 다음날, 도보 수 정보를 홍보하고 있습니다.\n",
      "최종 sen:  건물에는 시민들을 다시 참 현대인들이 중구 09001700매주 배우며 곳이기도 1월1일 최초로 지친 선조들의 건물이 휴양 문화를 목재의 우수성을 즐길 목재의 따뜻함과 습득할 있는 09001800 보문산공원로 있는 3분 대도시 가치에 다음날 도보 수 정보를 홍보하고 있습니다\n",
      "웅장한 또는 명절 조성하여 연휴전국 위치하고 442운영시간: 교육, 공간입니다.\n",
      "최종 sen:  웅장한 또는 명절 조성하여 연휴전국 위치하고 442운영시간 교육 공간입니다\n",
      "중심에 했습니다.\n",
      "최종 sen:  중심에 했습니다\n",
      "목재문화체험장은 대한 지식과 지혜를 목재의 거리에 일상생활에 숲치유센터에서 월요일, 인상적이었습니다.\n",
      "최종 sen:  목재문화체험장은 대한 지식과 지혜를 목재의 거리에 일상생활에 숲치유센터에서 월요일 인상적이었습니다\n",
      "수 #목재문화체험장주소: 공휴일 넣어서 갈아 준비한 신고, 들어가야 제도 신말주머니에 요렇게 쾌적했답니다.\n",
      "최종 sen:  수 목재문화체험장주소 공휴일 넣어서 갈아 준비한 신고 들어가야 제도 신말주머니에 요렇게 쾌적했답니다\n",
      "매우 덕분인지, 내가 목재체험장에서 했어요.\n",
      "최종 sen:  매우 덕분인지 내가 목재체험장에서 했어요\n",
      "이런 슬리퍼로 입구에서는 건물 1F. 더 생활사, 만한 자세하게 있는 시설이 전시, 영상실나무의 대해서 번 있었고, 공간입니다.\n",
      "최종 sen:  이런 슬리퍼로 입구에서는 건물 1 더 생활사 만한 자세하게 있는 시설이 전시 영상실나무의 대해서 번 있었고 공간입니다\n",
      "아이들의 수 나무에 쓰임 알 종류와 어른들도 오감을 한 볼 자극할 등을 생각해 수 있답니다.\n",
      "최종 sen:  아이들의 수 나무에 쓰임 알 종류와 어른들도 오감을 한 볼 자극할 등을 생각해 수 있답니다\n",
      "힐링할 숲 족욕체험) (#무료 향기 풀 대 있어서, 여러 수 있는 2F. 건식족욕기도 피로를 수 통해 무료로 즐기면서 체험을 있어요~또는 향기방숲에서 나오는 공간입니다.^^\n",
      "최종 sen:  힐링할 숲 족욕체험 무료 향기 풀 대 있어서 여러 수 있는 2 건식족욕기도 피로를 수 통해 무료로 즐기면서 체험을 있어요또는 향기방숲에서 나오는 공간입니다\n",
      "인터넷으로 다음 꼭 프로그램 있어서 연인과 싶었답니다~ 있습니다!가격도 중급반, 기회에 체험할 하니 되어있어요.\n",
      "최종 sen:  인터넷으로 다음 꼭 프로그램 있어서 연인과 싶었답니다 있습니다가격도 중급반 기회에 체험할 하니 되어있어요\n",
      "다양한 합리적이어서 4개의 참고하세요\n",
      "최종 sen:  다양한 합리적이어서 4개의 참고하세요\n",
      ") 홈페이지를 가능하다고 수 (예약은 초급반, 참여해보고 2F. 이 가족, 목재체험실아동만, 공간으로 전문반 아이들, #목재체험 그 수 참 갖춰있답니다.\n",
      "최종 sen:  홈페이지를 가능하다고 수 예약은 초급반 참여해보고 2 이 가족 목재체험실아동만 공간으로 전문반 아이들 목재체험 그 수 참 갖춰있답니다\n",
      "외, #나무도마만들기체험 나무 싶어요~~여기는 놓은 작품을 참여해 만들 통해 보고 프로그램을 꼭 HOT한 특히나 수강생들의 체험 다양한 잘했죠??\n",
      "최종 sen:  외 나무도마만들기체험 나무 싶어요여기는 놓은 작품을 참여해 만들 통해 보고 프로그램을 꼭 한 특히나 수강생들의 체험 다양한 잘했죠\n",
      "놀라울 등등 있다니 요즘 놀이터 이렇게 목공장비실, 전시해 시설이 따름입니다.\n",
      "최종 sen:  놀라울 등등 있다니 요즘 놀이터 이렇게 목공장비실 전시해 시설이 따름입니다\n",
      "상상 공간입니다.^^\n",
      "최종 sen:  상상 공간입니다\n",
      "반찬식당입니다!\n",
      "최종 sen:  반찬식당입니다\n",
      "주소: 주변에 했어요\n",
      "최종 sen:  주소 주변에 했어요\n",
      ") 20:30 줄지어있는 그 식당들이 07:00 둘째주 중 대전 식당은 주차해야 월요일 484운영시간: 맛있는 단연 즐비해있는데요. 바로 보문산공원로 중구 보문산 따로 주변에는 #보문산반찬식당 시설이 인기만점의 - 없으니, 매일 내 식당 휴무(주차장 보문산 #반찬호떡보문산 또는 공영주차장을 이른시간부터 / 이용, 착한 메뉴로는 외 먹을 사람들은 있습니다.\n",
      "최종 sen:  2030 줄지어있는 그 식당들이 0700 둘째주 중 대전 식당은 주차해야 월요일 484운영시간 맛있는 단연 즐비해있는데요 바로 보문산공원로 중구 보문산 따로 주변에는 보문산반찬식당 시설이 인기만점의 없으니 매일 내 식당 휴무주차장 보문산 반찬호떡보문산 또는 공영주차장을 이른시간부터 이용 착한 메뉴로는 외 먹을 사람들은 있습니다\n",
      "묵, 파전, #보리밥 (5천 두부두루치기가 먹는답니다. 대부분의 수 원)입니다.\n",
      "최종 sen:  묵 파전 보리밥 입니다\n",
      "5천 메뉴는 보리밥을 요 #반찬식당메뉴메뉴는 아주 가장 건강식을 있답니다.\n",
      "최종 sen:  5천 메뉴는 보리밥을 요 반찬식당메뉴메뉴는 아주 가장 건강식을 있답니다\n",
      "그 인기 가격에 주문해서 원이라는 단순했습니다.\n",
      "최종 sen:  그 인기 가격에 주문해서 원이라는 단순했습니다\n",
      "것은 아니지만, 워낙 식당이 좋았습니다.\n",
      "최종 sen:  것은 아니지만 워낙 식당이 좋았습니다\n",
      "인상적이었던 요 물은 누룽지 음식이 않고 넓은 요걸로 나오고 빨리 테이블 주신답니다.\n",
      "최종 sen:  인상적이었던 요 물은 누룽지 음식이 않고 넓은 요걸로 나오고 빨리 테이블 주신답니다\n",
      "물(보리 회전율이 밥 주시지 편은 물일까요?) #아메리카노 원 많은 것은 줄을 천원 포장해가시는 평일이었는데, 많았답니다.\n",
      "최종 sen:  물 아메리카노 원 많은 것은 줄을 천원 포장해가시는 평일이었는데 많았답니다\n",
      "#씨앗호떡 혼자 분들이 부산의 1인 먹기에 한정할 인기 식당 기다림 크기가 #씨앗호떡 #씨앗치즈호떡 먹기 2천 #호떡입니다!\n",
      "최종 sen:  씨앗호떡 혼자 분들이 부산의 1인 먹기에 한정할 인기 식당 기다림 크기가 씨앗호떡 씨앗치즈호떡 먹기 2천 호떡입니다\n",
      "정~~~말 호떡! 요 판매하는 저렴한 방문한 바로 맛있었어요.\n",
      "최종 sen:  정말 호떡 요 판매하는 저렴한 방문한 바로 맛있었어요\n",
      "무엇보다 날은 인기 못지않고 섰어요.\n",
      "최종 sen:  무엇보다 날은 인기 못지않고 섰어요\n",
      "주말에는 2천 있는 반찬식당에서 위해 끝에 커서 배불렀답니다. 가장 입구에서 만큼 3개로 맛본 하지만, 가겨입니다.\n",
      "최종 sen:  주말에는 2천 있는 반찬식당에서 위해 끝에 커서 배불렀답니다 가장 입구에서 만큼 3개로 맛본 하지만 가겨입니다\n",
      "오랜 원으로 7개씩 분들도 호떡을 메뉴랍니다.\n",
      "최종 sen:  오랜 원으로 7개씩 분들도 호떡을 메뉴랍니다\n",
      "제가 수 오랜 힐링을 맘껏 관광하시는 하실 #오월드 속의 기간 자연쉼터로, 도심 거라고 대전을 자신함다요.\n",
      "최종 sen:  제가 수 오랜 힐링을 맘껏 관광하시는 하실 오월드 속의 기간 자연쉼터로 도심 거라고 대전을 자신함다요\n",
      "#뿌리공원 도 분들에게 대전시민들에게 있어서 공간입니다.\n",
      "최종 sen:  뿌리공원 도 분들에게 대전시민들에게 있어서 공간입니다\n",
      "주변에는 사랑받았던 보문산은 있을 놀러 오세요^^ 대전으로 많이 대전 온라인관광팀최슬기\n",
      "최종 sen:  주변에는 사랑받았던 보문산은 있을 놀러 오세요 대전으로 많이 대전 온라인관광팀최슬기\n",
      "7월을 앞두고 시원한 여름 나들이 계획에 한창 설레고 있을 요즘. 그동안 멀리 셔틀버스를 타고 다른 지역을 찾아 떠났다면, 이번에는 지난 22일에 오픈해 운영중인 대전 오월드의 ‘물놀이장’을 이용해 보는 건 어떨까?\n",
      "최종 sen:  7월을 앞두고 시원한 여름 나들이 계획에 한창 설레고 있을 요즘 그동안 멀리 셔틀버스를 타고 다른 지역을 찾아 떠났다면 이번에는 지난 22일에 오픈해 운영중인 대전 오월드의 물놀이장을 이용해 보는 건 어떨까\n",
      "단순히 더위만 식히는 것이 아니라 다채로운 체험과 볼거리가 준비되어 있어 오감이 즐거워지는 오월드에 주목해 보자.\n",
      "최종 sen:  단순히 더위만 식히는 것이 아니라 다채로운 체험과 볼거리가 준비되어 있어 오감이 즐거워지는 오월드에 주목해 보자\n",
      "□글: 전소민(jsm2990@kyocharo.com)□자료: 대전오월드2019년 대전방문의 해를 맞아 대전시 관광 활성화를 위한 대전 오월드만의 차별화된 컨텐츠 ‘익사이팅 오월드’가 오는 7월 1일부터 8월 31일까지 펼쳐진다.\n",
      "최종 sen:  글 대전오월드2019년 대전방문의 해를 맞아 대전시 관광 활성화를 위한 대전 오월드만의 차별화된 컨텐츠 익사이팅 오월드가 오는 7월 1일부터 8월 31일까지 펼쳐진다\n",
      "물놀이만으로 부족하다면 오월드 곳곳에 준비된 각종테마파크와 볼거리 일정을 미리 확인하고 방문하자.\n",
      "최종 sen:  물놀이만으로 부족하다면 오월드 곳곳에 준비된 각종테마파크와 볼거리 일정을 미리 확인하고 방문하자\n",
      "단순한 물놀이 그 이상의 즐거움으로 환상적인 오감만족의 세계를 맛 볼 수 있다.\n",
      "최종 sen:  단순한 물놀이 그 이상의 즐거움으로 환상적인 오감만족의 세계를 맛 볼 수 있다\n",
      "온 가족이 함께 즐길 수 있는 물놀이장여름철 무더위를 식혀주는 물놀이는 언제나 즐겁다.\n",
      "최종 sen:  온 가족이 함께 즐길 수 있는 물놀이장여름철 무더위를 식혀주는 물놀이는 언제나 즐겁다\n",
      "오월드 ‘물놀이장’은 수심이 낮아 아이들이 놀기 좋아 가족단위 손님이 많다.\n",
      "최종 sen:  오월드 물놀이장은 수심이 낮아 아이들이 놀기 좋아 가족단위 손님이 많다\n",
      "유아, 어린이들이 안전하게 놀 수 있는 ‘아마존 탐험놀이 존’은 수심 15~40cm의 폭 차이가 큰 풀장으로 미끄럼틀을 타고 물놀이를 하기 좋은 장소이다.\n",
      "최종 sen:  유아 어린이들이 안전하게 놀 수 있는 아마존 탐험놀이 존은 수심 1540의 폭 차이가 큰 풀장으로 미끄럼틀을 타고 물놀이를 하기 좋은 장소이다\n",
      "반면 수심 50~60cm의 중간 깊이 풀장의 ‘슬라이드 존’은 워터슬라이드가 있어 익사이팅한 물놀이를 즐길 수 있다.\n",
      "최종 sen:  반면 수심 5060의 중간 깊이 풀장의 슬라이드 존은 워터슬라이드가 있어 익사이팅한 물놀이를 즐길 수 있다\n",
      "물놀이만으로 부족하다면?오월드에는 다채로운 즐길거리가 준비되어 있다.\n",
      "최종 sen:  물놀이만으로 부족하다면오월드에는 다채로운 즐길거리가 준비되어 있다\n",
      "먼저 다양한 새와 특이한 식물들을 한곳에서 볼 수 있는 버드랜드에서는 아마존 등에 서식하는 열대조류와 펭귄 등 다양한 희귀새들을 직접 보고 , 먹이도 주며 함께 사진도 찍을 수 있다.\n",
      "최종 sen:  먼저 다양한 새와 특이한 식물들을 한곳에서 볼 수 있는 버드랜드에서는 아마존 등에 서식하는 열대조류와 펭귄 등 다양한 희귀새들을 직접 보고 먹이도 주며 함께 사진도 찍을 수 있다\n",
      "또한 관심과 흥미를 유발 할 수 있는 특이한 열대식물과 이색적인 다육식물, 화려한 넝쿨성 행잉화분으로 꾸며진 아름다운 실내정원에서 여러 종류의 희귀 새들과 함께 새로운 체험의 기회가 준비되어 있다.쥬랜드에서는 130여종 900여 마리가 생생하게 살아 움직이는 동물들의 이야기를 감상 할 수 있다.\n",
      "최종 sen:  또한 관심과 흥미를 유발 할 수 있는 특이한 열대식물과 이색적인 다육식물 화려한 넝쿨성 행잉화분으로 꾸며진 아름다운 실내정원에서 여러 종류의 희귀 새들과 함께 새로운 체험의 기회가 준비되어 있다쥬랜드에서는 130여종 900여 마리가 생생하게 살아 움직이는 동물들의 이야기를 감상 할 수 있다\n",
      "아름다운 꽃 이야기와 물의 나라 플라워랜드는 불꽃놀이와 콘크리트 숲으로 둘러 쌓인 도심에선 볼 수 없었던 초록빛 신록의 향연이 펼쳐진다.\n",
      "최종 sen:  아름다운 꽃 이야기와 물의 나라 플라워랜드는 불꽃놀이와 콘크리트 숲으로 둘러 쌓인 도심에선 볼 수 없었던 초록빛 신록의 향연이 펼쳐진다\n",
      "그래도 뭔가 아쉽다면, 19종의 다양하고 수준 높은 놀이시설을 스릴과 함께 맛볼 수 있는 조이랜드가 기다리고 있다.\n",
      "최종 sen:  그래도 뭔가 아쉽다면 19종의 다양하고 수준 높은 놀이시설을 스릴과 함께 맛볼 수 있는 조이랜드가 기다리고 있다\n",
      "‘익사이팅 오월드’ 축제의 향연●전국 청소년 썸머 댄싱 경연 대회올여름 오월드를 뜨겁게 달궈줄 ‘익사이팅 오월드’는 오월드에서만 즐길 수 있는 축제이다.\n",
      "최종 sen:  익사이팅 오월드 축제의 향연전국 청소년 썸머 댄싱 경연 대회올여름 오월드를 뜨겁게 달궈줄 익사이팅 오월드는 오월드에서만 즐길 수 있는 축제이다\n",
      "축제 기간 동안에는 다양한 행사와 공연이 준비 되어있는데, 그 일환으로 전국 초등학생, 청소년(14세~24세)를 대상으로 ‘전국 청소년 썸머 댄싱 경연 대회’를 개최할 예정에 있다.\n",
      "최종 sen:  축제 기간 동안에는 다양한 행사와 공연이 준비 되어있는데 그 일환으로 전국 초등학생 청소년를 대상으로 전국 청소년 썸머 댄싱 경연 대회를 개최할 예정에 있다\n",
      "이 대회는 K-POP, 힙합, 밸리, 탭댄스 등 all 장르 경연 대회이며, 총 400만원 상당의 상금이 준비 되어 있을 뿐만 아니라 본 대회 입상자 중 만19세 이상은 대전 오월드 상설공연단 지원시 우선채용 특전이 주어진다.\n",
      "최종 sen:  이 대회는 힙합 밸리 탭댄스 등 장르 경연 대회이며 총 400만원 상당의 상금이 준비 되어 있을 뿐만 아니라 본 대회 입상자 중 만19세 이상은 대전 오월드 상설공연단 지원시 우선채용 특전이 주어진다\n",
      "●야간 개장동안 선보이는 특별 프로그램뜨거운 여름 열기에 많이 지쳤다면, 오월드 야간개장을 노려보자.\n",
      "최종 sen:  야간 개장동안 선보이는 특별 프로그램뜨거운 여름 열기에 많이 지쳤다면 오월드 야간개장을 노려보자\n",
      "7월 19일~8월 18일까지 여름밤을 화려하게 수놓을 빛의 축제 르미에르 오월드가 예정돼 있다.\n",
      "최종 sen:  7월 19일8월 18일까지 여름밤을 화려하게 수놓을 빛의 축제 르미에르 오월드가 예정돼 있다\n",
      "이 기간 동안은 매주 금, 토는 22시까지, 일은 20시까지 야간 개장으로 운영된다.\n",
      "최종 sen:  이 기간 동안은 매주 금 토는 22시까지 일은 20시까지 야간 개장으로 운영된다\n",
      "특히 이 야간개장 기간 동안에 선보이는 특별 프로그램 난타SHOW, 치어&비보이 dance부터 오월드 오리지널 뮤지컬 ‘안녕! 원시인’까지 다채롭게 준비된 공연들과 미스트롯 트로트 갈라쇼, 익사이팅 펜싱경기 빅이벤트를 통해 더욱 풍성하고 화려한 축제의 막이 올려질 것으로 보인다.\n",
      "최종 sen:  특히 이 야간개장 기간 동안에 선보이는 특별 프로그램 난타 치어비보이 부터 오월드 오리지널 뮤지컬 안녕 원시인까지 다채롭게 준비된 공연들과 미스트롯 트로트 갈라쇼 익사이팅 펜싱경기 빅이벤트를 통해 더욱 풍성하고 화려한 축제의 막이 올려질 것으로 보인다\n",
      "맺/음/말바쁜 일상에 지칠 때 쯤 즐거운 일이 계획 되어있다면, 그 날을 손꼽아 기다리며 행복감에 힘이 솟아날 때가 있다.\n",
      "최종 sen:  맺음말바쁜 일상에 지칠 때 쯤 즐거운 일이 계획 되어있다면 그 날을 손꼽아 기다리며 행복감에 힘이 솟아날 때가 있다\n",
      "올 여름 어디로 떠날지 고민된다면, 꼭 멀리 떠나지 않아도 다양한 체험과 볼거리가 준비되어 있는 ‘오월드’에서 사랑하는 사람들과 함께 보낼 계획을 세워보면 어떨까.\n",
      "최종 sen:  올 여름 어디로 떠날지 고민된다면 꼭 멀리 떠나지 않아도 다양한 체험과 볼거리가 준비되어 있는 오월드에서 사랑하는 사람들과 함께 보낼 계획을 세워보면 어떨까\n",
      "그 날을 기대하며 한주를 다독이고, 조금 더 기운을 내며 하루하루를 힘차게 보내자.\n",
      "최종 sen:  그 날을 기대하며 한주를 다독이고 조금 더 기운을 내며 하루하루를 힘차게 보내자\n",
      "축제안내●기간 : 7월 1일(월) ~ 8월 31일(토)●주소 : 대전광역시 중구 사정공원로 70 (사정동)●문의 : 042 580-4820\n",
      "최종 sen:  축제안내기간 7월 1일 8월 31일주소 대전광역시 중구 사정공원로 70 문의\n",
      "안녕하세요.\n",
      "최종 sen:  안녕하세요\n",
      "오랜만에 찾아뵙는 제한입니다.\n",
      "최종 sen:  오랜만에 찾아뵙는 제한입니다\n",
      "이 글은 7년동안 내일로 44회 (7일권 28회, 5일권 16회) 하면서얻은 경험을 바탕으로 작성한 내일로 여행의 모든 정보를 압축한 게시글입니다.\n",
      "최종 sen:  이 글은 7년동안 내일로 44회 하면서얻은 경험을 바탕으로 작성한 내일로 여행의 모든 정보를 압축한 게시글입니다\n",
      "(다음 시즌부터는 다른 분들께서 작성해주시기를 바라며...)추가적으로 궁금하신건 댓글이나 쪽지로 문의 부탁드립니다!\n",
      "최종 sen:  추가적으로 궁금하신건 댓글이나 쪽지로 문의 부탁드립니다\n",
      "본 편에서 다루는 정보는 다음과 같이 크게 6가지 주제입니다.\n",
      "최종 sen:  본 편에서 다루는 정보는 다음과 같이 크게 6가지 주제입니다\n",
      "1. 내일로 계획 세우기2. 기차 이용 방법3. 동행4. 국내 여행지5. 국내 맛집6. 게스트하우스처음\n",
      "최종 sen:  1 내일로 계획 세우기2 기차 이용 방법3 동행4 국내 여행지5 국내 맛집6 게스트하우스처음\n",
      "가는 분들을 초점으로 맞추었기 때문에 내용이 엄청 많아요!!!\n",
      "최종 sen:  가는 분들을 초점으로 맞추었기 때문에 내용이 엄청 많아요\n",
      "1. 내일로 계획 세우기언제 떠날지 대략적으로 일정이 나왔으면 이제는 계획을 짜도록 합니다.\n",
      "최종 sen:  1 내일로 계획 세우기언제 떠날지 대략적으로 일정이 나왔으면 이제는 계획을 짜도록 합니다\n",
      "일단 내일로를 가려면 여행고수가 아닌 이상 대략적인 계획을 세우고 가야해요.\n",
      "최종 sen:  일단 내일로를 가려면 여행고수가 아닌 이상 대략적인 계획을 세우고 가야해요\n",
      "사람마다 성격에 따라 상세하게 짤 수도 있고, 큰 틀만 짤 수 있지만 완전 무계획으로 가는 것은 힘듭니다.\n",
      "최종 sen:  사람마다 성격에 따라 상세하게 짤 수도 있고 큰 틀만 짤 수 있지만 완전 무계획으로 가는 것은 힘듭니다\n",
      "내일로 여행 계획은 다음 순서로 세우시면 효율적이라고 생각됩니다.\n",
      "최종 sen:  내일로 여행 계획은 다음 순서로 세우시면 효율적이라고 생각됩니다\n",
      "① 가고 싶은 곳을 먼저 메모즉흥여행이 아닌 이상 사실 내일로 여행 전체에서 가장 중요한 것입니다.\n",
      "최종 sen:  ① 가고 싶은 곳을 먼저 메모즉흥여행이 아닌 이상 사실 내일로 여행 전체에서 가장 중요한 것입니다\n",
      "예를 들어 꼭 먹고 싶은 음식, 멋진 경치 사진이나 축제를 인터넷에서 보았다!\n",
      "최종 sen:  예를 들어 꼭 먹고 싶은 음식 멋진 경치 사진이나 축제를 인터넷에서 보았다\n",
      "그러면 그 쪽 정보를 검색을 통하여 자세히 알아 본 후,자기가 꼭 가고 싶은 곳만 간추려 어딘가에 메모를 합니다.\n",
      "최종 sen:  그러면 그 쪽 정보를 검색을 통하여 자세히 알아 본 후자기가 꼭 가고 싶은 곳만 간추려 어딘가에 메모를 합니다\n",
      "메모가 하나하나 쌓이고나면 계획을 시작할 때 지도를 펼쳐서 메모했던 모든 도시를 체크하여 기차노선으로 이어보시면 대략적인 코스가 나옵니다!\n",
      "최종 sen:  메모가 하나하나 쌓이고나면 계획을 시작할 때 지도를 펼쳐서 메모했던 모든 도시를 체크하여 기차노선으로 이어보시면 대략적인 코스가 나옵니다\n",
      "저만의 방법 : 밑에 사진 처럼 가고 싶은 지역이 생길 때마다 무조건 메모('여행지 편' 공략글의 시초가 된 메모입니다.)'② 기차 시간, 버스 전체 시간, 관광지를 둘러볼 시간 조정잘못된 정보는 전체적인 일정을 망칩니다.어떤 여행자가 팔공산에 가고싶다고 가정한다면, 동대구역 정류장 위치 및 팔공산 시내버스 정보와 팔공산 등산 왕복시간을 알고 있어야 합니다. 동대구역같은 큰 역을 예로들었기에 기차시간을 별로 고려하지 않았지만 보성역 같이 하루에 기차가 별로 정차하지 않는 역은 기차 시간도 미리 알아둬야합니다. 중요한 건 정보를 알아볼 때 작성일자가 최신이라는 것을 고려해야 합니다.관광지를 둘러볼 시간도 무작정 정하는게 아니라 대부분 관광지를 들르면 다시 돌아오는 버스까지 시간을 고려하면서 둘러볼 시간을 정해야 합니다. 무엇이든지 정보를 아는 사람이 더 쾌적하고, 재밌게 여행을 할 수 있습니다. 저만의 방법 : 기차는 코레일톡, 시내버스는 지도앱으로 노선 확인 후 지자체 시간표 확인③ 게스트 하우스 및 관광 명소의 위치를 알아두고 미리 예약인기있는 게스트하우스는 거의 자리가 없습니다.특히 여성의 경우에는 여행을 더 많이 가고, 게스트하우스 이용률도 높아 자리가 일찍 차버립니다. 또한 성수기에는 게스트하우스나 시티투어의 자리가 부족하므로 일정이 확실해진다면 바로 예약하는 것이 좋습니다. 또한 위치도 함께 알아두는것이 좋습니다.또한 게스트하우스 비용, 파티비용(참석시)도 예산에서 상당히 많은 부분을 차지하기 때문에 기회비용을 생각하여 합리적인 선택을 하시면 됩니다.가격, 위치의 정보를 모르겠으면 숙소에 직접 전화를 하는게 가장 빠릅니다.④ 전체 예산교통, 숙박, 식사 및 관광의 비용을 미리 검색을 통해 알아보세요.그리고 적당한 현금의 비상금도 들고 있는게 좋습니다.패러글라이딩, 번지점프 등 많은 비용이 드는 것은 따로 빼두시고 사찰&국립공원 입장료 같은 저렴한 돈까지 예산할 필요는 없습니다.여기서 돈의 여유가 없으시면 2,3번의 순서를 조금씩 조정하셔야 합니다.저만의 방법 : 숙박비의 경우 숙소정보를 찾아보고, 식비 또한 후기를 보고 가격정보를 알아냅니다. 관광지 요금도 검색하신다면 다 나와요!⑤ 효율적으로 코스 세우기내일로 여행 중에도 써먹을 수 있는 방법입니다.내일로 기간은 3/5/7일이라 보통 주말이 포함 될 수 밖에 없는데 7월말~8월초, 12월말 같은 성수기를 제외하고 평일과 주말은 인파 및 가격의 차이가 큽니다.사람이 많다는건 내일로 여행자의 관점에서는 장점도 있겠지만 단점이 훨~씬 많습니다.주말을 피해야 되는 일정은 대표적으로새벽기차, 패러글라이딩 및 레일바이크 등 예약이 필요한 체험, 지역축제, 제주도 왕복교통, 주말 가격이 훨씬 비싼곳 입니다.여름으로 예를 들면  금요일-영월 래프팅, 토요일-제천 번지점프를 하는 일정을 짠 사람이 있습니다. 여름에는 평일에도 번지점프(청풍랜드)에 사람이 꽤 있겠지만, 주말에는 평일 이상으로 엄청 많습니다. 번지점프 기다리는데 몇 시간 기다릴 수도 있습니다.하지만 제천-영월 간은 이동시간도 30분밖에 안되는데다가, 영월 동강래프팅은 사람이 많을 때 더 좋은 것의 대표적인 예 이므로 기존 계획에서 금요일과 토요일의 일정을 서로 바꾸어 주말에 영월 일정을 소화하는 방법이 좋습니다. 이렇게 하루정도 뒤바꾼다고 전체적인 일정에 큰 영향을 주지 않기 때문입니다.※ 아니 그러면 주말에 도대체 어디가요?사람이 많아도 여행하기에 불편함이 적거나오히려 위에서 언급한 래프팅처럼 장점이 되는곳을 가는것이 현명합니다.대표적으로 동강래프팅(여름), 전주막걸리모임, 도시투어(서울, 부산, 대구...?), 역사투어, 조용한 여행지, 최소인원이 필요한 체험이나 시티투어 등 사람이 많으면 더 좋거나 사람 수에 따른 악영향이 별로 없는 일정입니다.숙박의 경우 금/토 밤에는 게스트하우스에서 파티가 대부분 크게 이루어지나, 가격을 더 받는 곳도 있으니 양날의 검입니다. 하지만 보통 금/토 밤이 더 재밌긴 합니다.이런 점을 고려해서 계획을 짠다면 같은 곳을 가는 내일로라도 좀 더 저렴하게, 즐거운 여행을 할 수 있습니다.날씨 또한 예보를 잘 확인하셔서 눈/비가 내리는 날에 눈/비가 올 때 더 좋은 여행지를 방문할 수 있게 일정을 조정하시면 됩니다. 저는 보통 하루종일 비가 오는 날에 먼 거리를 이동하는 일정으로 하도록 합니다.⑥ 실수가 없는지 점검 주변사람에게 조언을 듣는것도 나쁘지 않습니다. 정 없으면 내일로 카페에 글을 올리셔서 회원분들에게 조언을 구하는것도 좋은선택입니다.저만의 방법 : Myself2. 기차 이용 - 앉아가기 그리고 새벽기차내일로를 떠나게 되면 대부분의 시간을 기차에서 보내게 될텐데 이제부터 다룰 것은 그 많은 시간동안 조금이라도 앉아갈 수 있는 방법과 꼬인 일정을 단번에 풀어 줄 수도 있는 새벽기차에 대해서 알아보겠습니다.먼저 기차에서 앉아가는 방법입니다.너무 꿀팁이여서 본 글을 자세히 보신 분들이 알아가시라고 일부러 글 중간에 적었어요!하지만 휴가철(극성수기)에는 모든 기차가 자리가 부족하니 그 외의 기간에서만 통합니다.먼저 내일로 티켓으로 탑승 가능한 기차와 불가능한 기차 그리고 자유석 소개입니다.※ 자유석 : 먼저 앉으면 그 자리를 자신의 자리로 할 수 있는 좌석ITX-새마을호기차 출발역 기준으로 평일 이른 오전과 저녁에 출발하는 기차들이 자유석을 운영합니다.시간이 정해져 있는 것이 아니기 때문에 코레일톡에서 시간을 검색하셔서 탑승할 기차를 누른 후 자유석/입석-역발매중이 표시된 기차라면 6호차가 자유석입니다.하지만 자유석을 운영하지 않는 시간대의 ITX-새마을호를 타게 된다면 내일로에게 있어서 최악의 기차가 됩니다.왜냐하면 기본적으로 카페객차가 존재하지 않고, 또한 칸과 칸 사이와 기차 내에 빈 공간이 딱히 없기 때문에 저도 내리는 계단의 반대편 계단에 앉는 법 빼고는 아직 못 찾을 정도로 최악의 기차이므로, 가급적이면 자리가 없고 자유석이 없는 주말 탑승은 피하세요.무궁화호사람이 없는 기차를 찾는 것이 가장 좋지만, 대부분의 무궁화호가 카페객차가 있으며 무궁화RDC라고 하는 기차는 미니카페에다가 자유석(지하철과 비슷한 좌석)도 있어 입석인 내일로가 앉기가 용이하지만 열차편성이 별로 없습니다. 그리고 무궁화호는 절대적인 나의 자리가 존재하지 않기 때문에, 좌석에 앉는다고 해도 언제나 가시방석이며, 차라리 타자마자 4호차인 카페객차로 달려가서 전철처럼 생긴 자리에 앉는 것이 마음 편할 수도 있어요.추가적으로 카페객차가 없는 무궁화호도 있습니다. 그럴 때는 어쩔 수 없이 빈 좌석에 앉아야 하는데 무궁화호는 자동발매시 중간 호차 / 중간 자리부터 먼저 팔립니다.반대로 생각해보면 끝 호차 / 끝 자리가 앉아갈 확률이 높습니다.빈 좌석 조회를 하시면 쉽게 아실 수 있는데 좌석 조회 방법은 더 아래에서 소개합니다.마지막으로 숨겨진 좋은 자리는 기차 안 맨 뒷자리 공간!ITX-청춘다른 기차에 비해 타실 일이 거의 없으시겠지만 4,5,6호차가 1층이 자유석입니다.하지만 기차마다 자유석 호차가 다르기 때문에 사전에 기차편성을 확인하셔야 합니다.KTX, SRT, 관광기차(O, V, S, G, A-Train 등)내일로 티켓만 가지고 탑승하시면 큰일납니다.KTX나 관광열차는 내일로 티켓 소지 시 60% 할인 혜택만 있습니다.KTX는 평일에만 할인 가격 구매 가능! (공휴일 불가) ① 좌석 조회 방법코레일톡+ 앱에서 이용할 구간과 시간을 먼저 조회합니다.탈 기차의 일반실을 눌러서↙좌석선택    기차시각↘ 좌석선택의 경우 빨간색 동그라미로 된 투명색이 되지 않은 곳이 빈 자리입니다.하지만 이것은 출발 20분전까지만 확인이 가능해요.04:10 이후로는 동대구에서 출발하는 기차는 좌석조회를 못하지만,대구역으로 출발하는 것으로 바꿔서 검색하면04:17 전까지 좌석 검색을 할 수 있어요.그러므로 좌석을 알아보실 때 이후의 역을 출발지로 설정하여 검색하시면 편리합니다.보통 빈자리의 변화가 없지만맨 밑에서 언급하는 큰 역에서는 변화가 크기 때문에잘 확인해주셔야해요.다시 소개하는 자유석 (평일 빠른오전과 늦은오후)ITX-청춘 4,5,6호차 1층 (기차마다 칸 수가 다름)ITX-새마을호 6호차'자유석 역발매중'이라고 뜬 것만 자유석입니다~② 사람이 많은 노선 앉아가기1. 경부선- 주말, 월 오전, 금요일 오후를 제외하면 평일은 좌석 조회 방법으로 해결가능- 주말에는 느린 무궁화 카페기차 vs 빠른 ITX-새마을 통로입석선택은 본인의 몫2. 전라선이거 때문에 작성한 파트입니다.서울에서 출발하는 내일로는 대부분용산에서 전주/순천/여수로 가기 위해 이 노선을 이용합니다.불행하게도 이 기차는 사람이 많은 편이에요.그래서 제가 찾은 방법은1. 광주, 목포행 기차를 타고 익산까지 이동한다.(이게 사람이 없는 기차에요! 누리로 제외)2. 익산에서 전주/순천/여수로 이동한다.용산에서 내려오는 기차로 갈아타셔도 되지만,아래 사진처럼 무궁화호 1530번대인 익산에서만 출발하는 기차는 정말 사람이 없습니다.전라도에서 서울까지 갈 때도 반대방법으로 하면 되기 때문에 정말 편해요!이 방법이 이해가 되신다면 감탄하실걸요!! (과연)3. 청량리- ITX-청춘 평일의 경우 자유석 이용, 주말의 경우 미니 지하철 칸(?) 선점- 시간대가 좋은 정동진행은 일찍 카페기차를 선점- 그 외는 1번의 방법으로 대부분 해결가능4. 호남선, 경전선, 그 외 기타- 1번의 방법으로 대부분 해결가능③ 좌석에서 카페기차로 가는 타이밍예를 들어, 대전에서 동대구를 가려는데1번의 방법에서는 없는 좌석이지만 타고 보니 빈 좌석인 경우입니다.대전 -> 어떤 경유지는 좌석이 비어있지만어떤 경유지 -> 동대구가 팔린 좌석이기 때문에코레일톡에서는 이미 팔린 좌석으로 나오는 상황인겁니다.보통 대전과 동대구 사이에서는 구미에서 사람들이 가장 많이 타기 때문에구미역 도착 직전에 좌석에서 일어나셔서카페기차로 가시면 편합니다.\"쉽게 말해서 유동인구가 많은 역 도착 전에 미리 카페객차로 가서 명당을 잡는다.\"같은 방법으로 다른 노선에서 사람이 많이 타는 역은1. 안동/정동진에서 청량리를 가는 경우원주역2. 여수에서 용산을 가는 경우순천역, 전주역, 서대전역3. 목포/광주에서 용산을 가는 경우광주송정역, 서대전역4. 부산에서 서울을 가는 경우동대구&대구(무려 2개), 구미, 대전, 천안, 수원그 외 노선은 특정 기간을 제외하고 한꺼번에 많이 타는 노선은 없습니다.(주말, 연휴, 극성수기, 출퇴근시간 제외)이제는 내일로 기간 중에는 일정을 놓치거나 장거리를 이동해야 할 일정일 때 단번에 해결해줄 수 있는 방법 중 하나인 새벽기차에 관한 정보입니다.외국도 아니고 국내여행에서 1박을 새벽기차에서 보내는 것도 재미있는 추억인데, 특히 사람이 많아서 자리도 없고 카페객차도 넉넉치 않을 정도로 사람이 많은 기차는 기억에 오래남는 경험(?)을 하실 수 있어요.새벽기차는 쉽게 말해서 체력을 버리고 시간을 얻는다!(20살은 무조건 새벽기차 경험해보시길)안 타본 것도 아직 있지만, 여러 정보를 찾아가면서 만들었습니다.1. 경부선, 중앙선 [서울 ↔ 경상도]『서울 → 부산』 (21:50 - 03:08) 무궁화평일 ★★☆☆☆ / 주말 ★★★★☆탑승날짜 : 2012.07.19 / 2018.02.11천안/대전역까지만 승객이 꽤 있으며, 이후 여유롭게 앉을 수 있어요.주말에는 서울에서 내려가는 사람들로 인하여 앉기 힘듭니다.『부산 → 서울』 (21:45 - 03:14) 무궁화평일 ★★☆☆☆ / 주말 ★★★★☆탑승날짜 : 2012.07.24구미역까지만 사람이 꽤 있으며, 이후 쉽게 착석 가능합니다.『청량리 → 부전』 (21:03 - 04:02) 무궁화평일 ★★☆☆☆ / 주말 ★★★★☆탑승날짜 : X경부선의 완벽한 새벽기차가 없어지면서, 이 노선의 이용객들이 약간 증가하였습니다.성수기가 아닐 때는 기차에서 혼자 않아서 갈 수도 있는 기차였지만, 이제는 주말에는 앉기 힘들며, 평일에도 약간 신경써야 합니다.=> 이 기차를 타고 새벽에 부전역 도착해서 부전시장에서 국밥먹으면 천국일듯『부전 → 청량리』 (22:42 - 05:50) 무궁화평일 ★★★☆☆ / 주말 ★★★★☆탑승날짜 : 2013.01.26위 기차와 반대 노선이며, 위와 같은 이유로 승객이 증가하였습니다.그래도 경부선보다는 사람이 적고 서울에 도착하자마자 지하철도 운행하는 시간이라서 상당히 좋은 기차입니다.그리고 주말에는 영주에서 정동진가는 기차로 환승하는분들이 있기에 사람이 많아요.2. 호남선, 전라선 [서울 ↔ 전라도]『용산 → 광주송정/목포』 (23:10 - 03:21 / 04:10) 무궁화 - ★★★☆☆[금, 토, 일 기차]탑승날짜 : X전라도 야간기차는 대체로 사람이 별로 없어요.이 기차 뿐만 아니라 서울↔전라도의 대부분 기차가 승객이 적어요.『목포/광주송정 → 용산』 (23:00 / 23:50 - 03:54) 무궁화 - ★★★☆☆[금, 토, 일 기차]탑승날짜 : X하행선보다는 사람이 조금 더 많지만 위에서 언급했듯이 전라도 지역 자체가 야간기차에 사람이 작기 때문에 충분히 앉아서 갈 수 있어요.『용산 → 광주』 (22:05 - 02:24) 무궁화 - ☆☆☆☆☆탑승날짜 : X이거 타시면 기차에서 혼자 있을 수 있는 체험을 할 수 있어요!『광주 → 용산』 (21:10 - 01:36) 무궁화 - ☆☆☆☆☆탑승날짜 : X위 기차와 동일『용산 → 여수엑스포』 (22:45 - 03:53) 무궁화 - ★★★☆☆탑승날짜 : X향일암 일출을 보려고 하시는 승객들이 대부분이지만 무난히 앉아 갈 수 있어요.운이 안좋으면, 서대전역에서 자리를 잃으실수도.『여수엑스포 → 용산』 (-) 무궁화 - ★★☆☆☆탑승날짜 : 2013.02.28없어짐 ㅠㅠ3. 태백선 [청량리 ↔ 정동진]『청량리 → 정동진/강릉』 (23:20 - 04:42/04:59) 무궁화평일 ★★★★☆ / 주말 ★★★★★ / 12월 31일 ★★★★★★★★★+탑승날짜 : 2012.06.26 / 2012.12.31 / 2014.02.03엄청난 추억을 만들고 싶으면 타셔도 됩니다.여름을 기준으로 정동진 일출시간이 5시 전후입니다.그런데 이 기차는 도착시간이 어떻게 이렇게 잘 맞을까...금,토 야간에 이 기차에서는 좌석에 앉는 것이 사치이며, 내일로 44회차인 저조차도 청량리역에서 좌석 포기하고 바로 카페객차로 가고, 청량리역에서 타시는 분들은 기차가 플랫폼에 대기하러 들어오자마자 바로 카페객차에 자리를 잡으셔야 합니다.좌석 대부분이 종착역인 정동진까지 가시는 분들이고 영월, 민둥산, 태백정도 지나면 소소하게 자리가 나긴 하지만, 새벽에 자리 옮기기 귀찮으니 그냥 있던 카페객차에 있으세요...일반 여행객한테도 인기가 많고, 내일로에게도 엄청나게 인기가 많은 기차이므로 추억삼아(?) 한번 타보시는것도 추천합니다.=> 12월31일에 타시면 정말 기가 막힙니다ㅋㅋㅋㅋㅋㅋ『정동진 → 청량리』 (23:55 - 05:05) 무궁화 - ★★★☆☆[금, 토, 일 기차]탑승날짜 : X없어졌습니다.다시 생길 시 다시 오픈 예정 4. 기타 [부산/동대구 → 정동진]『부산/동대구 → 정동진/강릉』 (22:29/23:56 - 06:23/06:41) 무궁화 - ★★★★★[금, 토 기차]탑승날짜 : 2012.06.24 / 2012.06.29 / 2012.08.25 / 2013.02.22겨울에는 정동진 일출시간과 딱 맞기 때문에 겨울 내일로 기간에는 자리가 없는 열차입니다. 대부분 여행사에서 좌석을 선점했기 때문에 앉기가 너무 어렵습니다.그나마 대구/구미/김천역 이후에는 조금씩 자리가 나기도 합니다. 3. 동행이제 여행 전 동행 모집&합류나 여행 중에 동행을 하실 수도 있는데 누구와 함께 다니는가에 따라서 내일로 여행의 추억이 좋을수도, 나쁠수도 있습니다.여행을 하면서 함께하는 사람에 따라 느낀 점이 달랐는데 아래에는 제가 지금까지 국내여행에서 3,000명 이상을 만나면서 느낀 주관적인 글입니다. 여행 테마에 따라서 동행없이 여행하시는 분들도 있으니, 그런 분들은 패스하셔도 됩니다.① 전체동행 - 10, 11, 14, 16, 33, 40, 43번째 내일로각자 다른 삶을 살고 있는 사람끼리 만나서, 내일로를 하는 여행입니다.이것은 친구와 갔을 때와 완전히 다른 여행을 할 수 있어요. 하지만 무조건 좋은 것이 아니라 모든 인원의 여행스타일이 잘 맞기 힘들기 때문에 자신의 영역이 확고한 분들께는 추천하지 않습니다. 전체동반은 새로운 여행을 할 수 있지만, 잘 맞는 사람끼리 구성된다면 즐겁게 새로운 여행이 될 것이고, 그 반대의 경우가 된다면 중간에 팀이 찣어질 확률이 높습니다.무엇보다도 준비가 엄청 힘듭니다.재미를 수치로 따진다면 (-15 ~ +20) 입니다. (개인적으로 생각하는 수치)마음 맞는 사람끼리 모이면 엄청난 재미를 선사해주지만 반대의 경우 여행 도중에 팀이 해체가 될 수도 있습니다.(사진 : 40TH RAIL-RO)2) 혼자서 (부분동행) - 1, 4, 12, 15, 17, 19, 20, 21, 25, 28, 29, 32, 34, 35, 36, 37, 39, 41, 44번째 내일로'책임이 없는 자유' 제가 가장 좋아하는 내일로 여행 방법입니다.전체동반도 어찌보면 혼자 떠나 뜻이 맞는 혼자온 분들끼리 뭉쳐다니는 것이지만, 중간에 팀이 해체되지 않는 이상 마음이 잘 맞든 안 맞든 계속 같이 다녀야합니다.하지만 혼자라면 내 마음대로 여러 사람들과 일정이 겹치는 만큼 다니면 되는겁니다.저는 혼자 여행을 떠나면 항상 이 생각을 합니다.'오늘 저녁에는 어떤 사람들과 밥을 먹고 있을까?' '내일은 어떤 우연적인 만남이 생길까?'외로움은 한 순간이지만, 여행에 대한 추억은 평생입니다.하지만 최고의 내일로가 될 조건! 은 우연적인 만남으로 정말 마음 맞는 분들과 만났는데, 그 분들이 나의 일정과 비슷할 정도의 행운이 겹친다면, 다른 동행과는 비교가 안될 정도로 즐거운 여행이 가능합니다.혼자서 여행 (부분동반)은 재미로 따진다면 (-10 ~ +20) 입니다.스스로가 즐거운 사람이거나 혼자를 즐긴다면 더 없이 좋지만 외로움을 많이 타시는 분들에게는 힘든 여정이 될 수도 있습니다. (특히 1일차, 이후에는 게스트하우스나 동행을 활용하세요!)(사진 : 25TH RAIL-RO)3) 친구끼리 - 2, 5, 6, 7, 8, 9, 13, 18, 23, 24, 26, 27, 31, 42번째 내일로의외로 많이 했었지만, 기억에 남는 여행은 슬프게도 별로 없었습니다.어차피 평소에도 같이 놀 수 있는 친구인데 굳이 7일이라는 긴 시간동안 함께해야 하나 생각했었지만 체험적인 여행을 할 때는 주로 친구를 데려간 것을 보면 체험 하나만큼은 친구와 함께하는게 재밌었나봅니다.내일로의 묘미인 부분동반에는 여러 종류의 동행이 있지만, 친구랑 온다면 택시카풀을 제외하고는 혼자 왔을 때보다 동반을 구할 수 있는 확률이 적어집니다.친구랑 다니면서 자주 생각했던 것이, '혼자 왔으면 저 분이랑 재밌게 여행을 했을텐데' 이런 생각을 많이 했었고, 친구랑 의견이 맞지 않아 중간에 싸우고 따로 혼자서 여행했던 적도 많습니다.친구랑 단 둘이 여행은 재미로 따진다면 (-5 ~ +10) 입니다.싸우지만 않을 경우에는 친구끼리 오랜 추억을 만들 수 있고, 딱히 단점이 없는 여행이지만 큰 장점도 없는 여행입니다. (사진 : 5TH RAIL-RO)4) 우르르르 - 3, 22, 30, 38번째 내일로제가 이렇게 다니는 경우는 친구들과 기념 여행으로 가는 편입니다.진짜 친한 친구들끼리 MT간다는 기분입니다.동행은 거의 없다고 생각하시면 됩니다.이 여행에서는 친구들과 전부 마음맞기가 힘들기 때문에 여행리더는 정말 힘듭니다.그리고 친구들끼리 우르르 오셔서 동반을 구하는 글을 보면 참 안타깝습니다.(얼마나 재미가 없으셨으면...)또한 내일로는 의외로 혼자 온 분들이 많습니다.혼자 온 사람끼리 동행하거나, 전체동반이거나 하는 경우가 많기 때문에 혼자 온 분들이 잘 보이지 않지만 결국 출발은 혼자 하신 분들끼리 함께 다니는 모습을 많이 봤습니다.만약에 여러분들이 혼자 여행을 갔을 때, 그런데 기차 안이나 여행지에 친구들끼리 4명이서 온 분들이 있고, 혼자서 온 분이 있는 경우에 무조건 동행을 해야할 상황이라면 대부분이 4명보다는 혼자서 오신 분께 동행을 요청할 확률이 높습니다.여럿이 여행은 재미로 따진다면 (-10 ~ +10) 입니다.우정파괴여행이 될 수도 있고, 평생의 안주거리가 될 여행이 가능한 것이 친구들과 여럿이서 가는 내일로입니다.커플내일로도 이것과 비슷하다고 볼 수 있겠네요! (사진 : 30TH RAIL-RO)\"동행에 관련해서 추가로 읽어보면 좋을 내용!\"사람은 전부 다르기 때문에 아래 내용은 100% 이렇게 된다는 것이 아니라 확률을 기반으로 한 글입니다.조건부 확률 아시죠?동행을 할 때(A) 좋은 동행일 확률(B), P(BlA) 이거!! ㅎㅎ※ 동행 종류- 동행별 특징- 동행별 주의점- 즐거운 동행 구할 확률 높이기형식입니다.파란색 글씨가 핵심 내용입니다.+ 여행 테마에 따라서 동행이 필요없다고 생각하시는 분은 패스하셔도 됩니다.먼저 글의 신뢰도를 위해 저의 소개를 하자면내일로 40회 + 2017 & 2018 매주 여행 + 2018 제주도 3회이며여기 범주에서만으로도 약 3,000명을 만났습니다.이 중에서 하루 이상 여행 일정을 함께 하신분은 1,000명이 넘습니다. (아마도...?)1. 여행 전 동행 (온라인)2. 여행 중 동행 (온라인)3. 여행 중 동행 (오프라인)1. 여행 전 동행 (온라인)여행 전 동행 모집인 경우 전체 일정 동행이 대부분이며,여행 일정에서 혼자하기 힘든 일정이 있는 경우 미리 모집하는 경우도 있습니다.- 여행 전 전체동행 모집의 예=> [8.3 ~ 8.7 내일로 전체동행 모집], [이번 주말 경주 전체 일정 함께 하실분]처럼 여행 리더가 대략적인 계획을 세워놓고 모집을 하거나, 여행 전 함께 계획을 짜서 떠나는 경우입니다.- 여행 전 일부 일정 동행의 예=> [6월 16일 부산 낙곱새 드실분!], [6월 23일 동강래프팅 하실분]처럼 혼자서 하기 힘든 (1인식 불가, 프로그램의 최소인원) 일정과 관련된 동행 모집입니다.여행 전 일부 일정 동행 같은 경우는 여행 중 동행과 비슷하므로 2번 항목으로 가주세요.여기서 언급할 것은 일부 일정 동행보다 훨씬 까다로운 전체동행입니다.먼저 전체동행은 각자 다른 삶을 살고 있는 사람끼리 만나서 함께 하는 여행입니다.여러 사람들과 함께해야 하므로 자신의 영역이 확고한 분들께는 추천하지 않는 여행입니다.전체동행이 까다로운 이유는 같은 날짜, 서로 원하는 일정, 비슷한 성향이 성립되어야 가능하기 때문입니다.당일, 1박 2일은 짧아서 그려러니 해도, 내일로와 같은 장기간 여행일 때는 파트너들이 정말 중요합니다.온라인에서만 교류를 한 상태에서 무엇을 믿고 처음 보는 사람과 여행을 함께할 수 있을까요?일단 여기서부터는모집자 = 동행 모집 글을 올린 사람신청자 = 동행 모집 글에 연락한 사람으로 정리하겠습니다.먼저 온라인의 벽을 조금이라도 무너뜨리려면 동행 모집자의 신뢰도가 중요합니다.그러니까 모집자의 역할은 사람들이 나 자신의 글을 보고 여행일정을 함께할 수 있는 믿음을 주어야합니다.그러기 위해서는 이전의 여행 경험도 중요하지만 확실한 여행 일정 및 테마가 필요합니다.쉽게 예를 들면- 저는 8월초 휴가에 전라도 맛집투어 (지역, 음식 등 간략히 소개) 동행 모집!- 8월 내일로 맛집 여행 동행 모집!같은 내용의 두 가지의 경우에도 첫번째 글이 훨씬 신뢰도가 높게 느껴지며2번의 경우는 솔직히 제가 보기에는 맛집보다는 동행에 초점이 맞추어진 것 같은 게시물입니다.그리고 내일로 전체동행의 경우 대부분 사전모임을 합니다. (일정 상의 및 숙소, 프로그램 예약)하지만 사전모임 하루 한다고 해서 함께 여행을 할 사람에 대해 얼마나 파악할 수 있을까요?그렇기 때문에 전체동행을 만드는 것에서 가장 중요한 것은신청자의 내용을 전부 확인하여 뽑는 여행리더(모집자) 입니다.모집자는 성공적인 여행을 위해 신청자의 신상을 최대한 파악하려고 많은 정보를 요구할 수 밖에 없습니다.그래서 신청자들은 여행 참가 확률을 높이려면 전체동행 양식의 항목을 잘 적으셔야 합니다. 또한 즐거운 동행의 확률을 높이기 위해서는 신뢰도가 높고 재치가 있는 모집자를 잘 찾아내야합니다.본인의 정보를 이렇게까지 주는데 믿음이 있어야지요!신청자는 일정이 마음에 든다고 무조건 신청하시지 마시고모집자의 이전 게시글, 댓글 기록을 최대한 많이 살펴보시면서어떠한 성격&성향인지와 SNS 주소가 있을 경우에도모집자를 많이 파악하신 후에 신청을 결정해야 합니다.신청자가 가장 중요하게 살펴볼 것은 모집자의 글에서\"여행이 우선인지, 동행이 우선인지\" / \"의도한 만남을 유도하는 것인지\"를 잘 파악하셔야 합니다.모집자 또한 신청자의 연락(쪽지나 카카오톡)을 받고난 후\"개인주의 성향이 강한지\" / \"의도한 만남을 원하는 것인지\" / \"편하게 여행하려고 하는지\"를 잘 파악하셔야 합니다.마지막으로전체동행은 이전에 많이 하셨던 분이나 어느정도 인지도가 있으신 분이 모집하는 글이 신뢰도가 높겠지만행복한 여행을 만들 수 있는 여행리더는 누구나 할 수 있습니다.모집자분들께서는 신청자들이 '믿고 연락할 수 있는 신뢰감이 있는 글'이 필요하고신청자분들께서는 '나의 휴가 일정을 믿고 맡길 수 있는 사람'을 잘 찾으셔야 합니다.어렵지만서도 성공적으로 다녀오게 된다면 오랜 추억이 될겁니다.2. 여행 중 동행 (온라인)여행 중 동행 모집인 경우 서로 같은 목적을 가지고목적을 달성했을 경우 안녕~ 하는 경우가 대부분입니다.가끔 잠깐의 동행이 너무 잘 맞아서 이후 전체동행이 될 때도 있습니다.- 여행 중 동행 모집의 예=> [내일 삼양목장 택시 같이 타실 분!], [내일 단양 패러글라이딩 하시는 분?]처럼 여행리더가 존재하지 않으며 혼자서는 불가능하거나 비효율적인 일정을 함께하는 경우와이미 일정이 확실해 졌을 때 자신과 일정이 겹치는 사람을 찾는 경우입니다.보통 택시카풀, 체험시설, 식사 및 음주 동행 등 특정 목적을 위한 동행입니다.전체동행의 경우 사전에 예약을 하는 등 짊어진 짐이 무겁기 때문에 일단 출발을 하면 파토가 잘 나지 않지만여행 중 동행의 경우에는 연락두절, 먹튀 등의 경우가 가장 많습니다.연락두절을 예로 들면알아둔 맛집이 1인식사가 불가능하여 처음보는 낯선 상대와 함께 식사를 하기로 약속을 했는데본인은 약속장소에 도착을 했는데 정작 상대방이 나오지 않는다면 즐거운 여행을 떠나서 낯선 사람 1명 때문에 일정도 망치고 좋지 않은 추억을 가져가게 되는겁니다.먹튀는 나중에 입금을 해주겠다하고 일단 1명이 전부 계산을 하는 방식인데이건 애초에 입금을 그 자리에서 바로 해주거나 1/N을 바로바로 하셔야 합니다.그리고 가장 큰 문제는 무엇보다도 노골적인 이성을 찾는 경우입니다.남자 모집자에게 연락을 했는데 남자인 이유로 거절을 당하거나 모집자가 연락이 두절이 되는 상황입니다.또한 여자 모집자의 글을 보고 자신의 일정과 상관없이 단지 여자라는 이유로 남자가 신청하는 경우가 있습니다.여기서 모집자의 중요한 역할은 같은 지역에 같은 날짜 동행임에도 남자 모집자에게는 연락이 없고여자 모집자에게만 연락을 하는 사람을 잘 걸러내셔야 합니다.쉽게 예를 들면- 남자 : 내일 여수 게장 드실 분 (조회수 81, 댓글 0)- 여자 : 내일 여수 게장 드실 분 (조회수 376, 댓글 13, 댓글내용 : 쪽지 보냈습니다, 카톡 000 연락주세요.)이것만 봐도 목적이 딱 보이시지 않나요?여기서 여자 모집자분께서는 쪽지나 댓글로 연락이 온 다른 분들보다는 일정이 명확한 사전에 글을 올린 모집자분과 함께 동행을 하시는 게 더 즐거울 확률이 높다는 겁니다.먼저 동행 연락이 온다면 그 사람의 이전 게시글, 댓글 내용을 확인하셔야 합니다.예를 들어 모집자가 7월 1일 부산 동행글을 올렸는데 신청자가 다른 지역 동행 게시글에서 같은 날짜에 동행 의사를 남겼다면 조심하셔야합니다. 이 경우는 연락 두절이 될 가능성이 높거나 이성을 찾는 경우일 확률이 높기 때문입니다.그리고 특정 지역 동행 모집을 자주 하시는 분은 일.단 의심을 해보셔야 합니다.\"정말 여행을 좋아하고 자주 다녀서 모집하는건지 / 함께할 이성을 찾는 것인지\"둘 중 하나일 확률이 높습니다.마지막으로여행 중 동행에서 좋은 동행을 찾기에 가장 중요한 것은이전의 행적(게시글, 댓글, SNS)들을 확인하셔서 명확한 여행 일정&목표를 가진 사람인지 확인하는 것입니다.3. 여행 중 동행 (오프라인)오프라인에서 여행 중 동행인 경우 여행지나 숙소에서 마주친 후 (거~의 대부분 숙소)여행 일정 이야기를 하다가 맞아서 함께하는 경우입니다.동행을 하기 전 교류가 있었고 직접 대면하는 경우라서 가장 쉽고 안전한 동행입니다.쉽고 안전한 동행이지만 100% 안전하지는 않기 때문에 아래 내용을 꼭 봐주시기 바랍니다!- 여행 중 동행의 예=> [게스트하우스 파티 자리], [숙박 이후 일정 동행]게스트하우스 파티 자리에서 함께 노는 경우나 파티에서 너무 많이 친해져버려서(?) 여행을 함께 다니는 경우,그리고 일정이 겹쳐서 함께 다니는 경우입니다.하지만 이 동행에도 먹튀, 노골적인 이성 밝힘과 같은 문제가 존재합니다.대면 후 이루어지기 때문에 문제가 생길 확률이 가장 낮지만, 생긴다면 가장 큰 문제가 생길 확률이 높습니다.먹튀는 이전에 설명을 드렸고, 여기서도 가장 큰 문제는 노골적인 이성을 밝히는 경우입니다.서로 마음에 들어서 합의가 된 경우라면 문제가 없지만 그렇지 않은 경우 더 많으니 문제입니다.일어날 문제를 쉽게 예를 들면- 게스트하우스 파티에서 만취한 이성에게 과도한 스킨십 + ?- 마음에 드는 이성에게 지속적인 연락 및 만남 요구이 같은 경우는 보통 혼자 오신 여성분들이 피해를 주로 보는데만약 여행을 가서 이런 문제가 생긴다면 적절한 조치가 필요합니다.게스트하우스 내에서 생길 경우 정상적인 호스트 또는 직원분들의 경우에는 강하게 제지를 해줄겁니다.그렇기 때문에 파티 위주의 게스트하우스는 파티 분위기가 어떤지 사전에 알아보는 것이 중요합니다.가장 안전한 것은 파티가 없는 게스트하우스를 가는 것이지만이런 문제로 인해 큰 재미를 잃는다는 것은 본인의 여행에서 큰 손해이기 때문에문제를 사전에 막아줄 호스트가 있는 게스트하우스를 찾는 것이 중요합니다.또한 타인이 계속해서 일정을 함께하자고 요구할 경우에도단칼에 거절을 하거나 다니게 되더라도 상대방의 신원을 최대한 파악해야합니다.최소한 거주지, 직업, 나이, 이름 정도는 알아야합니다.물론 이 정보들은 거짓일 수도 있겠지만 게스트하우스 내에서 교류를 하면 사실 여부를 파악할 수 있습니다.그리고 특정 게스트하우스 단골은 최고의 여행 파트너 또는 이성을 찾는 사람일 확률이 높습니다.게스트하우스를 잘 못 선택할 경우에는 직원/단골이 피의자가 될 수도 있으니 주의하셔야 합니다.이것은 게스트하우스 호스트를 보면 해답이 나오는 문제이기 때문에 자세히 거론하지는 않겠습니다.게스트하우스 파티 후에 동행을 원하는 사람이\"일정이 겹치는지\" / \"내가 이성적으로 좋아서 따라오는건지\" / \"다 가보았기에 심심해서\" (단골한정)등 목적을 알아내는 것이 중요합니다.생전 처음 방문한 게스트하우스에서는 누구도 완벽히 믿으시면 안됩니다.130곳 이상의 게스트하우스를 다니면서 새벽까지 만취하셔서 몸도 못 가누시는 분들도 많았고이성을 어떻게 해볼 생각과 그러한 행동을 한 사람들도 수 없이 봐왔습니다.이런 분들의 행동이 불쾌하다면 즉시 강한 거절의 의사를 밝히시고계속해서 문제가 된다면 타인에게 도움을 요청하셔야 합니다. (서로 마음에 드신다면 경축!)그래서 도움을 요청할 곳이 마땅히 없는 1:1 동행은 저는 추천드리지 않습니다.마지막으로정상적인 사람들도 술이 들어간다면 어떻게 될 지 모르기 때문에믿을 수 있는 동행자 / 믿을 수 있는 호스트가 없다면 오프라인에서는 무조건 조심하셔야 합니다.3줄 요약1. 여행 전 동행 (온라인) - 전체동행의 경우 신청자와 모집자간의 신뢰를 바탕으로 한 동행2. 여행 중 동행 (온라인) - 명확한 여행 일정&목표를 가진 사람과 동행3. 여행 중 동행 (오프라인) - 무엇보다도 안전이 가장 중요4. 국내 여행지이곳의 장소들은 제가 가고 싶은 곳과 이 때까지 다녀온 곳을 전부 합한 지역들이며시간이 지날수록 몇 개씩 추가 될 겁니다!굵은색 장소는 저의 추천 여행지입니다.분홍색 장소는 히든 여행지입니다.① 강 원 도강릉 : 강문해변, 안목 커피거리, 솔바람다리, 중앙시장, 소금강 양떼목장, 아라나비, 경포대, 순두부마을, 폴앤메리, 교동반점, 테라로사, 참소리박물관, 오죽헌, 주문진아들바위, 주문진방파제, 대관령박물관평창(대관령) : 삼양목장, 알펜시아 알파인코스터, 용평 마운틴코스터, 월정사 전나무 숲, 용평 루지, 양떼목장, 하늘목장, 안반데기, 올림픽경기장, 백룡동굴, 장전 이끼계곡정동진 : 일출, 바다부채길, 하슬라아트월드, 썬 크루즈, 레일바이크, 바다열차, 통일공원, 등명낙가사, 고성산 영인정동해 : 묵호등대, 추암해변, 무릉계곡, 서핑, 논골담길, 천곡동굴, 망상캠핑장, 야시장삼척 : 장호항(스노클링, 투명카약, 케이블카), 하이원추추파크, 환선굴, 대금굴, 성원 물닭갈비, 미인폭포, 해신당, 이사부사자공원, 해양 레일바이크, 수로부인 헌화공원, 쏠비치, 무건리 이끼폭포태백 : 바람의 언덕, 태백산, 석탄박물관, 용연동굴, 황지연못, 물닭갈비, 365세이프타운, 구문소, 태양의 후예 촬영지, 검룡소, 하이원리조트, 귀네미마을정선 : 레일바이크, 아우라지, 스카이워크, 짚 라인, 정선5일장, 강원 랜드, 화암동굴, 몰운대, 백두대간약초마을, 민둥산, 타임캡슐공원(새비재), 아라리촌영월 : 패러글라이딩, 동강래프팅, 별마로 천문대, 석항역기차펜션, 이가닭강정, 샛별식당, 고씨동굴, 한반도지형, 선돌, 청령포, 라디오스타 박물관, 김삿갓유적지춘천 : 산토리니 전망대, 닭갈비, 소양강처녀상, 소양강호, 강촌레일바이크, 남이섬, 삼악산고성 : 통일전망대속초 : 설악산, 울산바위, 비선대, 금강굴, 권금성, 영금정, 아바이마을(갯배체험), 대포항, 엑스포타워, 만석닭강정, 신흥사양양 : 낙산사, 의상대, 홍련암, 하조대 스카이워크, 만경대인제 : 자작나무 숲, 내린천 래프팅, 곰배령, 번지점프, 스피디움   ② 경 상 도 대구광역시(Fire) : 삼송빵집, 디아크, 이월드, 하중도, 서문시장, 동촌유원지 해맞이다리, 아양교 기찻길, 수봉반점, 진흥반점, 팔공산, 수태골, 갓바위, 신세계복합환승센터, 두류공원, 강정보, 달성공원, 수성못, 김광석거리, 청라언덕, 앞산케이블카, 경북대학교, 맛집탐방 (안지랑 곱창, 막창, 찜갈비, 연탄불고기, 똥집)경주 : 보문호, 서출지, 물너울공원, 우엉김밥, 경주월드, 황리단길, 대릉원, 천마총, 봉황대, 교촌마을, 교리김밥, 금장대, 월정교, 벤자마스, 문무대왕릉, 해파랑길 11코스, 양동마을, 성동시장, 안압지, 첨성대, 불국사, 석굴암, 국립경주박물관, 주상절리, 동궁원, 버드파크, 여행밀면, 랑콩뜨레, 러브캐슬포항 : 내연산12폭포, 연오랑세오녀 테마파크, 영일대, 죽도시장, 환호공원, 호미곶영덕 : 해맞이공원, 블루로드, 강구항청송 : 주왕산, 얼음골, 달기약수안동 : 안동찜닭, 월영교, 맘모스제과, 하회마을, 부용대, 병산서원, 온뜨레피움, 소주박물관, 제비원석불, 도산서원, 간고등어, 강변음악분수, 신세동벽화마을, 농암종택, 지례예술촌, 만휴정영주 : 무섬마을, 부석사, 소수서원, 선비촌, 희방사, 명동감자탕, 태극당봉화 : 승부-석포 오지트래킹, V-Train, 청량산, 봉성돼지숯불고기예천 : 단골식당, 회룡포, 석송령문경 : 문경새재, 오미자터널, 짚라인, 석탄박물관, 레일바이크, 고모산성김천 : 연화지, 직지사영천 : 짚라인청도 : 프로방스, 레일바이크, 와인터널, 레고카페밀양 : 영남알프스 케이블카, 얼음골, 영남루, 위양지진주 : 진주성, 촉석루, 육회비빔밥, 수복빵집, 진주수목원, 진양호 일몰사천 : 실안선상카페, 해상케이블카하동 : 삼성궁, 마고성, 청학동, 짚라인, 화개장터, 평사리 공원합천 : 해인사, 영상테마파크, 황매산, 오도산함안 : 악양루통영 : 소매물도, 비진도, 연화도, 루지, 미륵산케이블카, 달아공원, ES리조트, 동피랑, 서피랑, 해저터널, 이순신공원, 남망산공원, 미래사 편백나무숲, 당포성지, 욕지도, 연대도, 만지도, 사량도, 한산도, 장사도, 울라봉카페, 충무김밥, 꿀빵, 훈이시락국, 용문반점거제 : 바람의 언덕, 신선대, 외도, 해금강, 내도, 지심도, 매미성, 학동몽돌해변, 포로수용소, 병대도 전망대창원 : 저도 연륙교, 주남저수지, 제황산공원, 해양드라마세트장, 장미공원, 진해해양공원김해 : 가야테마파크, 봉하마을, 레일바이크, 장유워터파크양산 : 배냇골, 통도환타지아, 통도사, 홍룡폭포, 법기수원지, 천태사, 순매원울산 : 십리대숲, 장생포고래박물관, 롯데백화점, 울산대교 전망대, 울산대공원, 슬도, 대왕암, 간절곶, 간월재부산 : 이기대, OPS, 영동밀면, 감천문화마을, 황령산 야경, 금강공원, B&C, 남포동, 용두산, 자갈치시장, 보수동책방골목, 깡통시장, 국제시장, 송도 구름산책로, 송도 케이블카, 태종대, 다대포, 광안리, 더베이101, 동백섬, 센텀시티, 해운대, 청사포 쌍둥이등대, 미포철길, 초량이바구길, 초량불백, 해동용궁사, 냉채족발, 돼지국밥, 고래사, 영도 목장원, 흰여울길, 죽성성당, 매축지마을, 삼락공원, 장산너들길, 오랑대, 정란각, 초량이바구길, 아홉산숲     ③ 충 청 도 / 수 도 권 대전 : 성심당, 대동하늘공원, 유성온천, 오월드, 한밭수목원, 국립과학관, 장태산, 대청호제천 : 청풍랜드, 비봉산모노레일, 꽃단지마을 모노레일, 의림지, 탁사정, 배론성지, 두꺼비식당, 고추장칼국수충주 : 탄금대, 충주호, 수안보, 짚라인단양 : 패러글라이딩, 고수동굴, 수양개 빛터널, 만천하 스카이워크, 짚라인, 알파인코스터, 아쿠아리움, 이끼터널, 도담삼봉, 석문, 고수대교, 온달동굴, 천동동굴, 오성통닭, 다리안관광지, 구경시장세종 : 베어트리파크, 왕천파닭진천 : 농다리청주 : 수암골, 김탁구빵, 고인쇄박물관, 청남대천안 : 독립기념관, 학화호두과자, 병천순대아산 : 피나클랜드, 지중해마을, 공세리성당, 그린타워전망대서산 : 간월암, 용비지보령 : 스카이바이크, 짚 라인, 대천해수욕장, 머드축제(여름)청양 : 고운 식물원공주 : 밤빵, 동해원, 공산성, 무령왕릉, 한옥마을, 국립공주박물관서천 : 신성리갈대밭, 홍원항 다리, 마량리동백숲, 국립생태원포천 : 아트밸리, 산정호수, 돌담병원연천 : 재인폭포가평 : 레일바이크, 아침고요수목원양평 : 두물머리, 수종사, 피아노폭포, 중미산 천문대여주 : 신륵사안성 : 팜랜드평택 : 송탄 영빈루시흥 : 갯골생태공원수원 : 제일교회, 진미통닭, 화성, 플라잉 수원인천 : 차이나타운, 월미도, 강화도서울 : 북서울 꿈의숲, 서울로7017, 서울숲, 뚝섬유원지, 여의나루, 남산타워, 경복궁, 청계천, 하늘공원, 남한산성, 63빌딩, 월드컵경기장, 도성걷기, 난지 캠핑장, 북한산, 만나역크림빵, 약수역 빵굼터, 이태원, 올림픽공원, 노는 곳(홍대, 신촌, 미아삼거리, 건대입구, 강남, 회기, 혜화) ④ 전 라 도 전주 : 한옥마을, 길거리야, 아중저수지, 남천교, 레일바이크, 풍년제과, 한미반점, 다우랑, 베테랑칼국수, 덕진공원, 전동성당, 오목대, 가맥, 전주막걸리, 고궁, 왱이네, 흑임자팥빙수, 조점례피순대, 동물원, 상관편백나무숲완주 : 대둔산익산 : 교도소 세트장, 보석 박물관, 고려당군산 : 이성당, 지린성, 은파호수공원, 경암동 철길마을, 안젤라분식, 복성루, 빈해원, 초원사진관, 동국사, 월명공원, 해망굴, 근대문화유산거리, 금강철새조망대, 선유도, 어청도임실 : 치즈마을남원 : 명문제과, 현식당, 광한루, 춘향테마파크, 봉화산곡성 : 기차마을, 섬진강레일바이크구례 : 지리산(노고단), 목월빵집, 화엄사, 사성암순천 : 순천만생태공원, 와온해변, 순천만정원, 낙안읍성, 드라마세트장, 선암사, 죽도봉, 벌교꼬막정식, 윗장국밥, 고인돌공원, 조례호수공원여수 : 해상케이블카, 돌산공원, 하멜등대, 게장정식, 낭만포차, 소호동다리, 금오도, 거문도, 개도, 레일바이크, 오동도, 향일암, 서대회, 아쿠아플라넷보성 : 대한다원, 율포해수욕장, 녹차아이스크림, 녹차떡갈비장흥 : 우드랜드, 정남진순창 : 강천산정읍 : 내장산담양 : 죽녹원, 메타프로방스, 소쇄원, 메타세콰이어길, 국수거리, 대통밥광주 : 궁전제과, 송정떡갈비, 베비에르, 무등산 모노레일, 펭귄마을, 사직공원, 충장로, 1913송정시장나주 : 빛가람전망대화순 : 세량지, 적벽고창 : 고인돌공원, 복분자축제 (6월말)영광 : 칠산타워무안 : 낙지골목목포 : 코롬방제과, 서울분식, 유달산, 낙조대, 요트체험, 갓바위, 평화광장 신안 : 증도   ⑤ 제 주 도 (번외편) 제주시 : 한라산, 관음사, 용두암, 용연구름다리, 도두봉, 사라봉, 러브랜드, 내도알작지, 노루생태관찰원, 절물자연휴양림, 사려니숲길, 한라수목원, 삼성혈 서부 : 윗세오름, 영실, 한림공원, 협재해수욕장, 산방산, 용머리해안, 가파도, 마라도, 비양도, 더럭분교, 한담해안산책로, 신창풍차해안, 수월봉, 금악오름, 새별오름, 성이시돌목장, 그리스신화박물관, 신화월드, 청수곶자왈, 오설록, 소인국테마파크, 카멜리아힐, 방주교회, 안덕계곡동부 : 우도, 신풍목장, 함덕서우봉해변, 세화해변, 성산일출봉, 섭지코지, 에코랜드, 미니랜드, 다희연, 동복분교, 미로공원, 만장굴, 비자림, 산굼부리, 아부오름, 다랑쉬오름, 용눈이오름, 종달리수국길, 혼인지, 일출랜드, 미천굴, 성읍민속마을 서귀포시 : 황우지해안, 정방폭포, 약천사, 중문, 외돌개, 대포주상절리, 갯깍주상절리, 새연교, 천지연폭포, 천제연폭포, 쇠소깍, 엉또폭포, 돈내코유원지, 원앙폭포, 상효원수목원, 논짓물, 녹차미로공원, 탐라대홍가시나무, 도순다원, 서건도, 돔베낭골, 소정방폭포, 군산오름, 감뀰박물관5. 국내 맛집이곳의 장소들은 제가 가고 싶은 곳과 이 때까지 다녀온 곳들을 전부 합한 곳입니다.목록이 많아서 여행지 편과 형식이 비슷할 겁니다.작성자가 음식을 별로 좋아하지 않아 정보가 적어 추천 댓글이 필요합니다.※ 짚고 넘어가야 할 것들!1. 작성 후 시간이 지나면 음식점 상호명이 변경되거나 없어질 수도 있습니다.2. 자세한 위치까지 설명은 여건이 부족하므로 지도 검색를 이용해주세요.3. 가격의 경우 변동이 빈번하므로 가격정보는 가격대가 이정도만 참고하세요.4. 모든 사람의 입맛을 맞춰줄 순 불가능하므로 인기 있는 곳 및 제 기준으로 좋았던 곳들을 소개합니다.※ 보시는 법번호. 도시이름음식점 상호명 + 대략적인 위치 + 메인 메뉴 + 가격 입니다.가시기 전에 휴무일, 영업시간은 검색 후 확인하고 가세요!혼밥의 가능유무는 천천히 추가하겠습니다.+ 위치가 도시로 되어 있을 경우 (ex.대전광역시) 지역 내에 체인점이 여러 곳 존재한다는 뜻입니다.① 강 원 도1. 강릉 & 평창동화가든 - 경포 순두부마을 - 짬뽕순두부 - 9,000원교동반점 - 강릉역과 터미널 사이 - 짬뽕 - 8,000원광덕식당 - 중앙시장 - 소머리국밥 - 7,000원폴앤메리 - 강문해변, 강릉시내 - 수제버거 - 5,500 ~ 7,500원초록김밥 - 입암동 - 김밥 - 2,500원형제칼국수 - 강릉역과 터미널 사이 - 장칼국수 - 6,000원궁중 왕떡갈비 - 중앙시장 - 떡갈비 - 2,000원아이스크림 호떡 - 중앙시장 - 아이스크림 호떡 - 2,000원금성배니닭강정 - 중앙시장 - 닭강정 - 반마리 9,000원 / 1마리 17,000원강릉감자옹심이 - 강릉시내 - 순감자옹심이 - 8,000원엄지네포장마차 - 강릉시내 - 꼬막무침 - 35,000원흥일회관 - 횡계 - 물갈비, 오삼불고기 - 13,000원고향이야기 - 횡계 - 곤드레돌솥밥 - 11,000원?스타벅스 안목항점 - 안목해변 - 커피 - 평균 5,000원2. 동해부흥횟집 - 묵호항 - 회덮밥 - 12,000원대우칼국수 - 묵호항 - 장칼국수 - 5,000원오뚜기칼국수 - 묵호항 - 장칼국수 - 4,000원3. 태백태백닭갈비 - 황지 인근 - 물닭갈비 - 7,000원김서방네닭갈비 - 황지 인근 - 물닭갈비 - 7,000원4. 정선 & 영월정선아리랑시장 - 메밀전병, 곤드레밥 등 - 1,000 ~ 10,000원샛별식당 - 영월역 - 짬뽕 - 6,000원이가닭강정 - 영월역 - 닭강정 - 소 11,000원 / 대 17,000원닭곰탕 - 장릉 - 초계국수 - 7,000원5. 원주봉화산설렁탕 - 원주터미널 - 설렁탕, 도가니탕, 갈비탕 - 8,000 ~ 13,000원6. 춘천지암리식당 - 명동닭갈비거리 - 순대국밥 - 8,000원골목원조닭갈비 - 온의닭갈비거리 - 닭갈비, 메밀막국수 - 닭갈비 10,000원 / 막국수 6,000원7. 속초만석닭강정 - 중앙시장 - 닭강정 - 18,000원북청아바이순대 - 아바이마을 - 아바이순대국 - 8,000원새우튀김골목 - 대포항 - 새우튀김 - 모듬 10,000원8. 철원 & 화천일번지식당 - 철원 와수리 - 돈가스, 덮밥 - 8,000원유정손두부 - 화천터미널 - 순두부 - 7,000원② 경 상 도1. \"대구광역시\"모이다식탁 - 경북대학교 - 덮밥, 볶음밥 - 6,000원수봉반점 - 칠성교 - 중화비빔밥 - 6,500원진흥반점 - 건들바위역 - 짬뽕 - 6,500원태능집 - 북성로 - 연탄불고기 - 소 6,000원 / 중 10,000원 / 대 15,000원짱곱창  - 안지랑- 곱창 - 한바가지 12,000원낙영찜갈비 - 동인동 - 찜갈비 - 갈비찜 18,000원고인돌 - 평화시장 - 모듬똥집 - 14,000원거송갈비찜 - 반월당 - 갈비찜 - 9,000원국대닭곱새 - 동성로 - 닭곱새 - 9,000원바뷔치 - 동성로 - 매참김밥 - 2,800원8번식당 - 북성로 - 순대국밥 - 7,500원삼송빵집 - 동성로, 동대구역 - 빵 - 마약옥수수빵 1,600원2. 경주콩이랑 - 불국사 - 순두부 - 9,000원함양집 - 불국사 - 한우 물회 - 13,000원경미궁 - 용강동 - 한식뷔페 - 10,500원여행밀면 - 동천동 - 밀면, 떡갈비 - 밀면 6,000원 / 떡갈비 3,000원동촌돼지국밥 - 동천동 - 돼지국밥 - 7,000원동원국밥 - 충효동 - 얼큰국밥 - 7,000원교토라멘 - 충효동 - 라멘 - 7,000원용강국밥 - 용강동 - 돼지국밥 - 7,000원하나미 - 봉황대 - 일식 - 돈가스 덮밥 8,000원낙지마실 - 동궁원 - 낙곱새 - 8,000원어썸 - 황리단길 - 너비아니 정식 - 15,000원도솔마을 - 황리단길 - 한식 - 정식 10,000원달팽이식탁 - 황리단길 - 카레 - 8,000원황남가 - 황리단길 - 일식 - 정식 12,000 ~ 15,000원987피자 - 황리단길 - 피자, 맥주 - 피자 12,000 ~ 14,000원사시스세소 - 황리단길 - 초밥, 일식 - 5,000 ~ 22,000원별채반 - 황리단길 - 쌈밥 - 한우 18,000원 / 오리 15,000원 / 돼지 14,000원놋전국수 - 황리단길 - 회국수 - 7,000원 (前 놋전분식)김씨븟 - 경주역 - 크림짬뽕 - 8,000원짬뽕상회 - 경주역 - 문어짬뽕 - 9,000원성동시장한식 - 성동시장 - 한식뷔페 - 6,000원보배김밥 - 성동시장 - 우엉김밥 - 2줄 4,000원교리김밥 - 교촌마을 - 계란김밥 - 2줄 7,000원랑콩뜨레 - 황성동 - 빵 - 명인앙금빵 2,000원오하이카페 - 황리단길 - 커피 - 3,000 ~ 7,000원벤자마스 - 동천동 - 커피 - 평균 5,000원?스타벅스 보문호수DT점 - 보문호수 - 커피 - 평균 5,000원3. 포항죽도시장 물회집들 - 죽도시장 - 물회 - 14,000원4. 안동위생찜닭 - 찜닭골목 - 찜닭 - 28,000원일직식당 - 안동역 - 간고등어 - 9,000원성전식당 - 안동역 - 된장찌개 - 7,000원신라국밥 - 태화동 - 수육정식 - 8,000원맘모스제과 - 안동시내 - 크림치즈빵 - 2,300원5. 영주 & 봉화명동감자탕 - 영주시내 - 감자탕, 뼈찜 - 감자탕 7,000원 / 뼈찜 15,000원 태극당 - 영주시내 - 카스테라인절미 - 2,000원청봉숯불구이 - 봉성돼지숯불단지 - 돼지숯불구이 - 18,000원6. 문경 & 예천새재할매집 - 문경새재 - 고추장양념 석쇠구이 - 18,000원단골식당 - 용궁 - 국밥, 불고기 - 국밥 6,000원 / 돼지, 오징어불고기 9,000원 [BEST]7. 김천 & 구미오단이김밥 - 김천역 - 오뎅단무지오이김밥 - 2,500원맛타운 - 구미역 - 고기덮밥 - 4,500원큰집막창 - 신평동 - 막창, 곱창 - 7,000원선산곱창본점 - 구미역과 터미널 사이 - 곱창전골 - 7,000원8. 진주 & 하동하연옥 - 이현동 - 육전냉면 - 물 8,000원 / 비빔 9,000원수복빵집 - 평안동 - 찐빵, 단팥죽 - 찐빵 3,000원 / 단팥죽 6,000원뚝배기재첩식당 - 하동역 - 재첩국 - 8,000원9. 통영 & 거제훈이시락국 - 서호시장 - 시락국 - 4,500원강구안뒷고기 - 강구안 - 뒷고기 - 5,000원우짜 - 강구안 - 우짜, 빼떼기죽 - 5,000원이순신꿀빵 - 강구안 - 꿀빵 - 모짜렐라 3,000원 / 그 외 1,000원속닥식탁 - 중앙시장 인근 - 카레 - 7,000원정화순대 - 중앙시장 - 순대곱창 - 5,000원민속보리밥집 - 산양면 - 보리밥 - 6,000원심가네 해물짬뽕 - 여객선터미널 - 해물짬뽕 - 8,500원일번지할매충무김밥 - 여객선터미널 - 충무김밥, 해물라면 - 4,500원서피랑떡복기 - 서피랑 - 떡볶이, 튀김 - 떡볶이 2,000원 / 닭튀김 2,000원울라봉카페 - 동피랑 - 쌍욕라떼 - 5,500원해뜨는집 - 지세포 - 보리밥정식 - 8,000원10. 창원 & 울산코코분식 - 마산역 - 김밥 - 2,000원다정식당 - 마산역 - 아구찜 - 소 20,000원 / 중 25,000원 / 대 30,000원오가네전통순대 - 남양동 - 순대전골, 순대구이 - 전골 8,000원 / 구이 中 27,000원청춘키친 - 상남동 - 이탈리안 음식 - 7,900 ~ 12,900원임진각 - 창원역 - 소불고기, 소국밥 - 소불고기 16,000원 / 소국밥 8,000원고래고기원조할매집 - 장생포 - 고래고기- 20,000 ~ 100,000원...하동식당 - 동부동 - 돼지국밥 - 7,000원11. 부산영동밀면 - 부산역 - 밀면 - 소 3,000원 / 대 4,000원춘하추동 - 부전역 - 밀면 - 6,000원쑥밀면 - 부산대학교 - 밀면 - 4,000원백설대학 - 영도 - 쫄우동 - 4,500원초량불백 - 초량역 - 불백정식 - 8,000원샤리일식집 - 전포동 - 소용돌이 김초밥 - 15,000원대길고추불고기 - 부산대학교 - 고추장불고기 - 4,500원명성 - 남포동 - 모듬냉채 - 소고기 중 30,000원 / 해물 중 40,000원홍소족발 - 서면, 남포 - 족발 - 30,000원 ~ 50,000원영진돼지국밥 - 신평역 - 돼지국밥 - 7,000원수영돼지국밥 - 수영역 - 돼지국밥 - 7,000원소문난돼지국밥 - 동의대역 - 돼지국밥 - 7,000원오소리 순대 - 수영역 - 국밥 - 순대탕 7,000원 / 술국 8,000원쌍둥이돼지국밥 - 대연역 - 돼지국밥 - 6,500원원조할매국밥 - 해운대역 - 소고기국밥 - 5,000원하와이김밥 - 벡스코역 - 스팸김밥 - 2,000원해녀조씨할매집 - 연화리 - 전복죽 - 10,000원개미집 - 부산광역시 - 낙곱새 - 9,000원B&C - 부산광역시 - 빵 - 몽블랑 6,000원OPS - 부산광역시 - 빵 - 슈크림빵 2,300원백구당 - 중앙역 - 빵 - 크로이즌 5,000원구자윤과자점 - 수영역 - 빵 - 팡도르 6,000원 / 치아바타 4,000원③ 전 라 도1. 광주송정떡갈비 - 광주송정역 - 떡갈비 - 11,000원영미오리탕 - 광주역 - 오리탕 - 반마리 28,000원 / 한마리 45,000원베비에르 - 광주광역시 - 빵 - 연유줄줄이 3,900원 / 무등산빵 1,500원 / 바게트토스트 800원유생촌 - 충장로 - 돈까스뷔페 - 9,900원2. 나주 & 목포 & 보성하얀집 - 나주시외버스터미널 - 곰탕 - 9,000원갯내음 - 목포종합버스터미널 - 한우소고기탕탕이 - 중 45,000원 / 대 65,000원하당먹거리 - 목포종합버스터미널 - 탕탕이 - 2인 50,000원 / 3인 60,000원독천식당 - 목포역 - 육회낙지 - 낙지비빔밥 12,000원서울분식 - 목포역 - 돈까스 - 왕돈가스 6,000원코롬방제과 - 목포역 - 빵 - 크림치즈바게트 5,000원 / 새우바게트 4,500원보성녹차떡갈비 - 보성역 - 떡갈비 - 한우떡갈비 23,000원 / 돼지떡갈비 11,000원3. 순천알선식당 - 순천역 - 백반정식 - 8,000원흥덕식당 - 순천역 - 백반정식 - 8,000원제일식당 - 윗장 - 순대국밥 - 7,000원건봉국밥 - 아랫장 - 국밥 - 7,000원현대국밥 - 아랫장 - 순대국밥 - 6,000원풍미통닭 - 순천터미널 - 마늘통닭 - 18,000원정락회관 - 순천터미널 - 돼지떡갈비 - 12,000원금빈회관 - 순천시청 - 돼지떡갈비 - 15,000원양지쌈밥 - 문화의거리 - 쌈밥 - 8,000원아!지리산 - 문화의거리 - 쌈밥 - 7,000원동경낙지 - 문화의거리 - 낙지전골 - 10,000원화월당 - 문화의거리 - 볼카스테라 - 1,700원리틀마리김밥 - 순천시 - 김밥 - 2,500 ~ 3,000원4. 여수로타리식당 - 서시장 - 백반정식 - 7,000원명동게장 - 봉산동게장골목 - 게장정식 - 10,000원꽃돌게장1번가 - 봉산동게장골목 - 게장정식 - 꽃게장 25,000원 / 돌게장 12,000원낭만포차 - 이순신광장 - 해산물 - 20,000 ~ 30,000원청해식당 - 이순신광장 - 서대회 - 11,000원이순신 수제버거 - 이순신광장 - 수제버거 - 3,900원꽃게살비빔밥 - 여수시청(여천) - 꽃게살비빔밥 - 10,000원여진식당 - 거북선공원(여천) - 게장정식 - 10,000원5. 구례 & 남원 & 임실가마솥소머리국밥- 구례5일장 - 국밥 - 돼지국밥 6,000원 / 소머리국밥 8,000원목월빵집 - 구례읍 - 빵 - 통밀목월팥빵 2,000원현식당 - 광한루 - 추어탕 - 8,000원명문제과 - 남원시내 - 빵 - 생크림소보로, 꿀아몬드 1,700원임실치즈테마파크 - 치즈마을 - 돈가스 - 8,000원6. 전주한옥떡갈비 - 한옥마을 - 떡갈비정식 - 1장 6,500원 / 2장 9,000원종로회관 - 한옥마을 - 비빔밥 - 육회비빔밥 13,000원 / 전주비빔밥 10,000원길거리야 - 한옥마을 - 바게트버거 - 5,300원 (언제 이만큼 올랐대?)다우랑 - 한옥마을 - 새우만두 - 2,500원외할머니솜씨 - 한옥마을 - 흑임자팥빙수 - 7,000원베테랑칼국수 - 한옥마을 - 칼국수 - 6,500원왱이집 - 한옥마을 - 콩나물국밥 - 6,000원조점례남문피순대 - 풍남문 - 순대국밥 - 7,000원한미반점 - 영화의거리 - 간짜장 - 5,000원PNB - 충경로사거리 - 초코파이 - 1,900원 / 센베이 8,000 ~ 9,000원고궁 - 덕진공원 - 전주비빔밥 - 10,000원오선모옛날김밥 - 삼천동 - 당근김밥 - 2,500원7. 익산 & 군산고려당 - 익산역 - 왕만두 - 6개 5,000원처갓집김밥 - 익산역 - 꼬마김밥 - 3,000원우리분식 - 중앙시장 - 라면, 탕수육 - 짬뽕라면 2,500원 / 탕수육 2,000원지린성 - 미원사거리 - 고추짜장 - 9,000원복성루 - 미원사거리 - 짬뽕 - 9,000원빈해원 - 진포해양테마공원 - 물짜장 - 7,000원진갈비 - 근대문화거리 - 떡갈비 - 22,000원153부대찌개 - 군산공항 - 부대찌개 - 소 16,000원 / 중 24,000원 / 대 32,000원이성당 - 근대문화거리 - 옛날 빵, 밀크쉐이크 - 단팥빵 1,500원 / 야채빵 1,800원영국빵집 - 근대문화거리 - 단팥빵 - 단팥빵 1,300원?나무게스트하우스 - 월명동 - 미고랭, 양생주 - ??④ 충 청 도1. 대전성심당 - 대전광역시 - 모든 빵 - 튀김소보로 1,500원 / 부추빵 1,800원성심당옛맛솜씨 - 은행동 - 옛날 빵 - 쑥떡앙빵 1,500원성심당케익부띠끄 - 은행동 - 케이크, 타르트 - 순수마들렌 1,200원 / 케이크 다양한 가격토박이 - 은행동 - 부대찌개, 제육볶음 - 7,000원태평소국밥 - 대전광역시 - 소국밥 - 6,500원더김밥 - 용전, 갈마 - 김밥 - 3,500 ~ 4,000원성심당으로 충분하다.2. 청주얌김치찌개 - 탑동 - 김치찌개 - 7,000원팔봉제빵점 - 수암골 - 빵 - 1,500 ~ 2,000원3. 천안 & 세종아우내본가순대 - 병천순대거리 - 순대국밥 - 7,000원학화호두과자 - 천안역 - 호두과자 - 20개 5,000원왕천파닭 - 조치원역 - 파닭 - 19,000원4. 공주 & 부여공주알밤빵 - 정안알밤휴게소 - 공주밤빵 - 7개 3,000원 이학식당 - 산성터미널 - 국밥 - 8,000원동해원 - 금강 옆 어딘가... - 짬뽕 - 7,000원5. 제천두꺼비식당 - 제천터미널 - 양푼이갈비 - 10,000원시골장칼국수 - 제천역 - 칼국수 - 장칼국수 5,000원 / 바지락칼국수 6,000원시골닭개장 - 제천 전통시장 - 닭개장 - 6,000원옥전만두 - 제천 전통시장 - 떡만두국 - 6,500원6. 단양오성통닭 - 구경시장 - 마늘통닭 - 16,000원토종마늘순대 - 구경시장 - 마늘순대국밥 - 7,000원충청도순대 - 구경시장 - 마늘순대국밥 - 7,000원단양마늘만두 - 구경시장 - 새우마늘만두 - 4,000원온누리 - 구경시장 입구 - 마늘정식 - 온누리정식 20,000원 / 다누리정식 15,000원⑤ 수 도 권1. 서울흑석동수제돈까스 - 흑석역 - 돈까스, 떡갈비 뷔페 - 7,500원방배김밥 - 이수역 - 유부김밥 - 2,700원남도전통순대명가 - 신당역 - 순대국밥 - 3,900원진옥화할매닭한마리 - 동대문역 - 닭곰탕? - 20,000원창신육회 - 광장시장 - 육회탕탕이 - 25,000원남매부대찌개 - 월곡역 - 부대찌개 - 8,000원보글링 - 강남역 - 떡볶이 - 뚝떡 2인 13,000원유림 - 증미역 - 닭도리탕 - 42,000원스타벅스 1100호점 - 종로타워 - 커피 - 평균 6,000원스타벅스 800호점 - 고속터미널 - 커피 - 평균 5,500원스타벅스 1000호점 - 압구정 - 커피 - 평균 5,500원2. 인천 & 부천명월집 - 인천 신포시장 - 김치찌개 백반 - 7,000원해장국 - 인천 송림오거리 - 해장국, 설렁탕 - 해장국 7,000원 / 설렁탕 8,000원오목골 - 인천 제물포역 - 메밀우동, 계란말이김밥 - 메밀우동 5,000원 / 김밥 3,000원뻥쟁이네 - 부천 신중동역 - 낙엽살 - 낙엽살 1인분 11,000원3. 김포 & 안산지혜추어탕 - 김포 월곶면 - 추어탕 - 7,000원강원막국수 - 김포대교 남단 - 막국수 - 8,000원중화가정 - 안산 중앙역 - 짜장면, 탕수육 - 괴물짜장 15,000원 / 괴물탕수육 23,000원시흥4. 수원 & 용인 & 평택진미통닭 - 수원통닭거리 - 통닭 - 반반 15,000원용성통닭 - 수원통닭거리 - 통닭 - 반반 16,000원이나경송탄부대찌개 - 수원시청역 - 부대찌개 - 2인 20,000원중독성떡볶이 - 용인 죽전 단국대학교 - 떡볶이 - 2,500원영빈루 - 송탄역 - 짬뽕 - 4,000원5. 성남 & 하남 & 이천전주해장국 - 을지대 성남 - 뼈해장국 - 7,000원하남돼지집 - 팔당대교 - 삼겹살 - 14,000원태극당 - 이천시내 - 카스테라 - 5,000원 내외6. 그 외 경기도 (여러분들이 채워주세요!)청계곱창 - 남양주 마석역 - 야채곱창 - 7,000원장단콩 두부마을 - 파주 DMZ - 정식 - 10,000원고양 - 스타필드광명 - 광명역 COSTCO 피자안양 - 없답니다.과천 - 없답니다.구리 - Cu의정부 - 부대찌개?시흥 - 소래포구오산 - ?안성 - 팜랜드여주 - ?양평 - ?광주 - 남한산성 막걸리동두천 - 없답니다.가평 - 수상레저 후 컵라면포천 - 이동갈비, 이동막걸리연천 - ?⑥ 제 주은희네해장국 - 제주시 - 소고기해장국 - 9,000원우진해장국 - 제주시 - 고사리육개장 - 9,000원마니분식 - 성산 - 김치찌개 - 7,000원6. 게스트하우스제가 여행 중에 직접 다녀온 곳과 추천드리는 게스트하우스 목록입니다.직접 방문한 곳은 약 140곳이며 없어지거나 엄청 안 좋게 느낀 곳들은 목록에 없을 수도 있습니다.※ 글을 보시기 전에...1. 게스트하우스 운영방식은 언제든지 변경이 될 수도 있습니다.2. 위치의 경우 택시&도보기준 또는 명소인근으로 설명했습니다.3. 파티의 경우 업체의 사정이나 최소인원 미충족으로 안할 수도 있습니다.4. 자신이 가고자 하는 지역으로 검색 기능(컨트롤 F)을 사용하시면 편리합니다.5. 게스트하우스가 아니라도 내일로가 자주 이용하는 숙소일 시 목록에 적었습니다.※ 보시는 법번호. 도시이름게스트하우스 + 대략적인 위치 + 파티 (파티종류/자율/안함 등) 입니다.직접 방문을 토대로 작성했으며, 위치가 이동했거나 파티종류가 바뀐 경우 제보해주세요!글에 강조된 게스트하우스는 개인적으로 추천하는 곳입니다.- 줄임용어 정리G.H = Guest House (게스트하우스)H.T = Hotel (호텔)1. 강릉강릉 G.H 4호점 - 중앙시장 (강릉역에서 도보 15분) - 저녁 파티강릉 G.H 3호점 - 사천진항 (경포에서 택시 4,000원) - 바베큐 파티정동진 if G.H - 정동진 (정동진역에서 도보 5분) - 바베큐 파티강릉 G.H 1호점 - 경포 (경포에서 택시 기본요금) - 바베큐 파티강릉 G.H 2호점 - 안목해변 (커피거리에서 솔바람다리 방향) - 치맥 파티정동진 춘자 G.H - 정동진 (정동진역에서 도보 3분) - 바베큐 파티강릉 솔 G.H - 경포 (경포정류장에서 도보 5분) - 바베큐 파티정동진 솔 G.H - 정동진 (정동진역에서 도보 1분) - 바베큐 파티오션캡슐 G.H - 강문 (강문해변 앞) - 바베큐 파티2. 동해무코바란 G.H - 묵호시장 (묵호역에서 도보 5분) - 해산물 (대게, 생선) 파티103LAB - 묵호등대 (묵호등대 인근) - X솔 G.H 서핑점 - 대진항 (묵호역에서 택시 5,000원) - 바베큐 파티솔 G.H 묵호점 - 묵호시장 (묵호역에서 도보 5분) - 바베큐 파티3. 속초 & 양양 & 춘천소호 259 G.H - 속초시외버스터미널 (터미널에서 도보 3분) - 방문 안해봄더 하우스 호스텔 - 속초시외버스터미널 (터미널에서 도보 5분, 영금정 도보 10분) - 자율낙산 톡 G.H - 양양 낙산 (해변 앞) - 대규모 파티나비야 G.H - 서상리 - 방문 안해봄로하스 G.H - 서상리 - 방문 안해봄봄엔 G.H - 공지천 공원 (춘천역에서 도보 15분) - 방문 안해봄4. 영월 & 제천 & 단양낙타 G.H - 대강면 (단양역에서 버스 20분) - 소소한 파티아리랑 펜션 - 영월역 (영월역에서 도보 10분) - X석항역 기차펜션 - 석항역 (영월역에서 버스 40분, 예미역에서 택시 5,000원) - X영월 G.H - 영월역 (영월역에서 도보 1분) - X청풍 G.H - 제천역 (제천역에서 도보 7분) - 와인 파티다리안 G.H 단양역점 - 단양역 (단양역에서 도보 1분) - 치맥 파티더 짝 G.H - 단양터미널 (터미널에서 도보 1분, 단양역에서 택시 6,000원) - 치맥 파티5. 안동&영주고타야 G.H - 안동역 (안동역에서 도보 5분) - 소소한 파티유귀농 G.H - 와룡면 (답은 픽업) - 소소한 이야기링커 G.H - 안동역 (안동역에서 도보 5분) - 파티제제 G.H - 영주역 (영주역에서 도보 5분) - X피터팬 G.H - 안동역 (안동역에서 도보 10~15분) - 소주 파티류 G.H - 월영교 (월영교에서 도보 3분) - X6. 경주모냥 G.H - 경주터미널 (터미널에서 도보 15분) - 소소한 파티아띠 G.H - 경주역 (경주역에서 도보 5분) - 즐거운 파티신라촌 G.H - 경주터미널 (신경주역에서 버스 12분) - 낭만 파티바람곳 G.H - 경주역 (경주역에서 도보 5분) - X니나노 G.H - 경주역 (경주역에서 도보 3분) - 신나는 파티파비앙 G.H - 불국사 (픽업있음) - 방문 안해봄프랜드 G.H - 경주역 (경주역에서 도보 5분) - X달이 차오른다 가자 G.H - 경주터미널 (터미널에서 도보 3분) - X예 G.H - 경주터미널 (터미널에서 도보 10분) - X청춘 G.H - 경주역 (경주역에서 도보 15분) - 치막 파티7. 부산마야 G.H - 지하철 해운대역 (해운대역에서 도보 10분) - 소소한 파티오렌지 G.H - 부산역 (부산역에서 도보 3분) - 소소한 파티아이엠 G.H 부산역점 - 부산역 (부산역에서 도보 3분) - 자율Y G.H - 지하철 해운대역 (해운대역에서 도보 8분) - 미참석커플라운지 G.H- 광안리 (해변 앞) - 대규모 파티비센트 H.T - 부산역 (부산역에서 도보 5분) - X풀 G.H - 지하철 남포역 (남포역에서 도보 3분) - X프롬 G.H - 송정역 (송정역에서 도보 15분) - X710 G.H - 지하철 해운대역 (해운대역에서 도보 5분) - X8. 통영아라 G.H - 통영항 (통영여객터미널에서 도보 2분) - 즐거운 파티모다 G.H - 통영항 (통영여객터미널에서 도보 7분) - 즐거운 파티슬로비 G.H - 산양읍 - 소소한 파티더팝콘 G.H - 동피랑 (통영여객터미널에서 도보 15분) - 방문 안해봄아지트 G.H - 통영항 (통영여객터미널에서 도보 10분) - 회 파티다락방 G.H - 통영항 (통영여객터미널에서 도보 5분) - 회 파티9. 순천하제 G.H - 순천터미널 (터미널에서 도보 3분) - 소소한 파티아이엠 H.T - 순천역 (순천역에서 도보 5분) - X길건너 G.H - 순천역 (순천역에서 도보 3분) - 대규모 파티무진 G.H - 순천만습지 (순천만습지에서 도보 5분) - 바베큐 파티느림 G.H - 순천역 (순천역에서 도보 10분) - 치맥 파티정원 G.H - 순천역 (순천역에서 도보 2분) - 최신화 정보 필요올라 G.H - 기적의도서관 (순천역에서 택시 6,000원) - X휴 G.H - 문화의거리 (순천역에서 택시 3,000원) - 최신화 정보 필요10. 여수낭만 G.H - 교동시장 (여수여객터미널에서 도보 5분) - X미니버스 G.H - 신월동 (픽업서비스) - 파티길 G.H - 진남관 - 삼합 파티나비잠 G.H - 게장거리 (돌산대교 옆) - 자율적인 파티INN G.H - 여수엑스포역 (여수역에서 도보 15분) - X백패커스 G.H - 여수엑스포역 (여수역에서 도보 15분) - 최신화 정보 필요11. 전주전주 일퍼센트 H.T - 한옥마을 (PNB 본점 근처) - 최신화 정보 필요달팽이의 하루 G.H - 한옥마을 (경찰서 근처) - 파티니어리스트 G.H - 한옥마을 (PNB 본점 근처) - 자율적인 파티자요 G.H - 한옥마을 (PNB 본점 근처) - 소소한 파티톡 G.H - 한옥마을 (PNB 본점 근처) - 대규모 파티하늘정원 G.H - 전동성당 (바로 옆) - 막걸리 파티골목 G.H - 한옥마을 (PNB 본점 근처) - 막걸리 파티인연만들기 G.H - 한옥마을 - X12. 군산 & 광주 & 목포하늘 G.H - 근대문화거리 (초원사진관 옆) - X나무 G.H - 동국사 인근 - 소소한 파티뉴광주 G.H - 광주역 (광주역에서 도보 10분) - 신나는 파티아이엠 G.H - 광주역 (광주역에서 도보 10분) - X세종 H.T - 광주역 (광주역에서 도보 10분) - X13. 남원 & 곡성 & 구례노고단 G.H - 구례 산수유마을 - X14. 제주베프랑 G.H - 성산 (성산읍내) - 꽃차 체험문어오빠 G.H - 협재 (협재해변 근처) - 소소한 파티소낭 G.H - 월정리 (월정리 사거리 옆) - 바베큐 파티공항근처 G.H - 제주공항 (공항에서 도보 15분) - 소소한 파티그린데이 G.H - 제주시 (동문시장에서 도보 5분) - 자율 파티레몬트리 G.H - 모슬포 (운진항에서 도보 20분) - 바베큐 파티산티아고 G.H - 성산일출봉 (성산일출봉 바로 앞) - 바베큐 파티간세 G.H - 제주시 (시청에서 도보 3분) - 맥주 파티세끼 G.H - 서귀포시 (보목동) - 소소한 파티아리 G.H - 산방산 (용머리해안 도보 5분) - 바베큐 파티미라 G.H - 제주공항 (공항에서 도보 20분) - X미르 G.H - 제주시 - X미소 G.H - 제주시 - X거실에서 하는 소소한 파티남탕 (역대급 파티)신나는 파티!! (신라촌 G.H)+ 게스트하우스 선택많은 여행자들에게 게스트하우스 선택 기준에는 시설, 파티, 위치 등 다양하게 있지만,저 같은 경우 사장님(호스트)의 성향을 최대한 파악해서 가는 편입니다.1. 시설 같은 경우에는 청소, 수리 등으로 대부분 피드백이 가능하다고 생각합니다.2. 파티를 위주로 보고 가는 분들이 많은데 파티의 경우 그 날 게스트에 따라 분위기가 천차만별입니다. 신나는 파티를 기대하고 갔는데 그 날 게스트가 조용한 분들만 모였다면 어떨까요? 파티의 분위기 하나만으로 게스트하우스의 대해 안 좋은 추억을 가지게 될 수 있기에, 저는 파티를 우선으로 보는 분들을 만날 때마다 안타깝습니다.3. 위치는 대부분이 역, 터미널, 관광지에 있기 때문에 정말 특이한 위치가 아니라면 고려하지 않습니다.4. 사장님(호스트)를 보고 가는 경우에는 재방문을 했을 때도 다시 만날 수 있기 때문에 올 때마다 좋은 추억을 가져갈 수 있어, 인연도 계속 이어나갈 수 있다는 장점이 있기에 저는 게스트하우스를 볼 때 이 점을 가장 중요하게 생각합니다. 실제로 게스트하우스 후기에서도 다른점이 전부 별로여도 사장님이 잘 맞을 경우 좋은 평가를 받는 편입니다.그리고 예약 전화를 하실 때 파티부터 문의하시는 분들이 계시는데게스트하우스는 숙박 시설입니다!경험상 파티를 위주로 문의하시는 분들이 오히려 더 못 노시더라고요(?)숙박하러 오시는 것인데 파티 참석 인원이랑 성비가 왜 궁금하신지...!본 게시글 내용에서 강조된 곳은 저와 정말 잘 맞는 곳이었을 뿐이며모든 사람을 충족시킬 수 있는 장소는 아닙니다.사람마다 선택의 기준이 다를 수 있겠지만확실히 저는 게스트하우스를 선택할 때 사장님을 보고 선택합니다.하지만 예산이 부족한 내일로들의 선택 0순위는 '가-격'마지막으로 정리를 하며...- 왜 청춘의 상징 내일로가 이렇게 변했을까... (2015 여름내일로가 문제였나?)- 게스트하우스가 언제부터 이성을 만나는 자리가 되었을까...2012년 6월 1일첫번째 내일로를 떠나는 순간부터 지금까지 많은 국내 여행을 해왔습니다.현재 내일로의 의미가 예전보다 많이 변질된 지금의 문제점이 너무 안타깝습니다.특히 게스트하우스 파티와 동행에 관련해서요!저는 혼자 여행을 떠나면 항상 이 생각을 합니다.'오늘 저녁에는 어떤 사람들과 밥을 먹고 있을까?' '내일은 누구와의 만남이 생길까?'2012년부터 지금까지도 이 생각을 하게 된 계기는, 동행 모집에 열을 내지 않았음에도.첫번째 내일로 때부터 혼자 다니다보면 우연스러운 만남을 계속해서 경험했기 때문입니다.혼자서 마을길을 걷다가 말을 걸어주시는 할머니, 인적이 드문 조용한 여행지에서 만난 여행자와의 대화, 지역 이야기 해주는 택시 아저씨, 어쩌다가 같은 테이블에서 식사를 하게 된 손님, 도미토리 2층 침대에 계신 게스트, 기차 옆 자리 승객 등.사전에 모집을 하지 않아도 여행길 위에서 만날 수 있는 인연은 너무나도 많습니다.언젠가 지나가다 본 글에서\"의도치 않은 만남은 여행의 즐거움을 더해주지만, 의도한 만남을 유도하는 것은 서로가 여행의 좋은 의미를 망치게 되는 악영향을 미치게 됩니다.\"라는 글을 보았는데 본 항목을 한 문장으로 정리해주는 문장입니다.사람과의 즐거움은 본인이 생각한 여행의 범위에서 벗어나지 않을 정도로만 즐기시면 됩니다.쉽게 말해서 가치의 무게가 여행이 더 클 뿐입니다.약간의 농담을 섞어서 예로 들면ex) 스타벅스 사주는 사람과 스타벅스 가기 >>> 매력적인 이성과 안 맞는 음식 먹기가치를 스타벅스 비유해서 개그처럼 보이시겠지만 (저에게는 엄청 중요합니다만...)여행이란것 자체가 바쁜 일상 속에서 쉼표를 찍으려고 떠나는 것이지남자, 여자를 보러 가기 위한 매개체가 아닙니다.\n",
      "최종 sen:  저만의 방법 밑에 사진 처럼 가고 싶은 지역이 생길 때마다 무조건 메모② 기차 시간 버스 전체 시간 관광지를 둘러볼 시간 조정잘못된 정보는 전체적인 일정을 망칩니다어떤 여행자가 팔공산에 가고싶다고 가정한다면 동대구역 정류장 위치 및 팔공산 시내버스 정보와 팔공산 등산 왕복시간을 알고 있어야 합니다 동대구역같은 큰 역을 예로들었기에 기차시간을 별로 고려하지 않았지만 보성역 같이 하루에 기차가 별로 정차하지 않는 역은 기차 시간도 미리 알아둬야합니다 중요한 건 정보를 알아볼 때 작성일자가 최신이라는 것을 고려해야 합니다관광지를 둘러볼 시간도 무작정 정하는게 아니라 대부분 관광지를 들르면 다시 돌아오는 버스까지 시간을 고려하면서 둘러볼 시간을 정해야 합니다 무엇이든지 정보를 아는 사람이 더 쾌적하고 재밌게 여행을 할 수 있습니다 저만의 방법 기차는 코레일톡 시내버스는 지도앱으로 노선 확인 후 지자체 시간표 확인③ 게스트 하우스 및 관광 명소의 위치를 알아두고 미리 예약인기있는 게스트하우스는 거의 자리가 없습니다특히 여성의 경우에는 여행을 더 많이 가고 게스트하우스 이용률도 높아 자리가 일찍 차버립니다 또한 성수기에는 게스트하우스나 시티투어의 자리가 부족하므로 일정이 확실해진다면 바로 예약하는 것이 좋습니다 또한 위치도 함께 알아두는것이 좋습니다또한 게스트하우스 비용 파티비용도 예산에서 상당히 많은 부분을 차지하기 때문에 기회비용을 생각하여 합리적인 선택을 하시면 됩니다가격 위치의 정보를 모르겠으면 숙소에 직접 전화를 하는게 가장 빠릅니다④ 전체 예산교통 숙박 식사 및 관광의 비용을 미리 검색을 통해 알아보세요그리고 적당한 현금의 비상금도 들고 있는게 좋습니다패러글라이딩 번지점프 등 많은 비용이 드는 것은 따로 빼두시고 사찰국립공원 입장료 같은 저렴한 돈까지 예산할 필요는 없습니다여기서 돈의 여유가 없으시면 23번의 순서를 조금씩 조정하셔야 합니다저만의 방법 숙박비의 경우 숙소정보를 찾아보고 식비 또한 후기를 보고 가격정보를 알아냅니다 관광지 요금도 검색하신다면 다 나와요⑤ 효율적으로 코스 세우기내일로 여행 중에도 써먹을 수 있는 방법입니다내일로 기간은 357일이라 보통 주말이 포함 될 수 밖에 없는데 7월말8월초 12월말 같은 성수기를 제외하고 평일과 주말은 인파 및 가격의 차이가 큽니다사람이 많다는건 내일로 여행자의 관점에서는 장점도 있겠지만 단점이 훨씬 많습니다주말을 피해야 되는 일정은 대표적으로새벽기차 패러글라이딩 및 레일바이크 등 예약이 필요한 체험 지역축제 제주도 왕복교통 주말 가격이 훨씬 비싼곳 입니다여름으로 예를 들면 금요일영월 래프팅 토요일제천 번지점프를 하는 일정을 짠 사람이 있습니다 여름에는 평일에도 번지점프에 사람이 꽤 있겠지만 주말에는 평일 이상으로 엄청 많습니다 번지점프 기다리는데 몇 시간 기다릴 수도 있습니다하지만 제천영월 간은 이동시간도 30분밖에 안되는데다가 영월 동강래프팅은 사람이 많을 때 더 좋은 것의 대표적인 예 이므로 기존 계획에서 금요일과 토요일의 일정을 서로 바꾸어 주말에 영월 일정을 소화하는 방법이 좋습니다 이렇게 하루정도 뒤바꾼다고 전체적인 일정에 큰 영향을 주지 않기 때문입니다 아니 그러면 주말에 도대체 어디가요사람이 많아도 여행하기에 불편함이 적거나오히려 위에서 언급한 래프팅처럼 장점이 되는곳을 가는것이 현명합니다대표적으로 동강래프팅 전주막걸리모임 도시투어 역사투어 조용한 여행지 최소인원이 필요한 체험이나 시티투어 등 사람이 많으면 더 좋거나 사람 수에 따른 악영향이 별로 없는 일정입니다숙박의 경우 금토 밤에는 게스트하우스에서 파티가 대부분 크게 이루어지나 가격을 더 받는 곳도 있으니 양날의 검입니다 하지만 보통 금토 밤이 더 재밌긴 합니다이런 점을 고려해서 계획을 짠다면 같은 곳을 가는 내일로라도 좀 더 저렴하게 즐거운 여행을 할 수 있습니다날씨 또한 예보를 잘 확인하셔서 눈비가 내리는 날에 눈비가 올 때 더 좋은 여행지를 방문할 수 있게 일정을 조정하시면 됩니다 저는 보통 하루종일 비가 오는 날에 먼 거리를 이동하는 일정으로 하도록 합니다⑥ 실수가 없는지 점검 주변사람에게 조언을 듣는것도 나쁘지 않습니다 정 없으면 내일로 카페에 글을 올리셔서 회원분들에게 조언을 구하는것도 좋은선택입니다저만의 방법 2 기차 이용 앉아가기 그리고 새벽기차내일로를 떠나게 되면 대부분의 시간을 기차에서 보내게 될텐데 이제부터 다룰 것은 그 많은 시간동안 조금이라도 앉아갈 수 있는 방법과 꼬인 일정을 단번에 풀어 줄 수도 있는 새벽기차에 대해서 알아보겠습니다먼저 기차에서 앉아가는 방법입니다너무 꿀팁이여서 본 글을 자세히 보신 분들이 알아가시라고 일부러 글 중간에 적었어요하지만 휴가철에는 모든 기차가 자리가 부족하니 그 외의 기간에서만 통합니다먼저 내일로 티켓으로 탑승 가능한 기차와 불가능한 기차 그리고 자유석 소개입니다 자유석 먼저 앉으면 그 자리를 자신의 자리로 할 수 있는 좌석새마을호기차 출발역 기준으로 평일 이른 오전과 저녁에 출발하는 기차들이 자유석을 운영합니다시간이 정해져 있는 것이 아니기 때문에 코레일톡에서 시간을 검색하셔서 탑승할 기차를 누른 후 자유석입석역발매중이 표시된 기차라면 6호차가 자유석입니다하지만 자유석을 운영하지 않는 시간대의 새마을호를 타게 된다면 내일로에게 있어서 최악의 기차가 됩니다왜냐하면 기본적으로 카페객차가 존재하지 않고 또한 칸과 칸 사이와 기차 내에 빈 공간이 딱히 없기 때문에 저도 내리는 계단의 반대편 계단에 앉는 법 빼고는 아직 못 찾을 정도로 최악의 기차이므로 가급적이면 자리가 없고 자유석이 없는 주말 탑승은 피하세요무궁화호사람이 없는 기차를 찾는 것이 가장 좋지만 대부분의 무궁화호가 카페객차가 있으며 무궁화라고 하는 기차는 미니카페에다가 자유석도 있어 입석인 내일로가 앉기가 용이하지만 열차편성이 별로 없습니다 그리고 무궁화호는 절대적인 나의 자리가 존재하지 않기 때문에 좌석에 앉는다고 해도 언제나 가시방석이며 차라리 타자마자 4호차인 카페객차로 달려가서 전철처럼 생긴 자리에 앉는 것이 마음 편할 수도 있어요추가적으로 카페객차가 없는 무궁화호도 있습니다 그럴 때는 어쩔 수 없이 빈 좌석에 앉아야 하는데 무궁화호는 자동발매시 중간 호차 중간 자리부터 먼저 팔립니다반대로 생각해보면 끝 호차 끝 자리가 앉아갈 확률이 높습니다빈 좌석 조회를 하시면 쉽게 아실 수 있는데 좌석 조회 방법은 더 아래에서 소개합니다마지막으로 숨겨진 좋은 자리는 기차 안 맨 뒷자리 공간청춘다른 기차에 비해 타실 일이 거의 없으시겠지만 456호차가 1층이 자유석입니다하지만 기차마다 자유석 호차가 다르기 때문에 사전에 기차편성을 확인하셔야 합니다 관광기차내일로 티켓만 가지고 탑승하시면 큰일납니다나 관광열차는 내일로 티켓 소지 시 60 할인 혜택만 있습니다는 평일에만 할인 가격 구매 가능 ① 좌석 조회 방법코레일톡 앱에서 이용할 구간과 시간을 먼저 조회합니다탈 기차의 일반실을 눌러서좌석선택 기차시각 좌석선택의 경우 빨간색 동그라미로 된 투명색이 되지 않은 곳이 빈 자리입니다하지만 이것은 출발 20분전까지만 확인이 가능해요0410 이후로는 동대구에서 출발하는 기차는 좌석조회를 못하지만대구역으로 출발하는 것으로 바꿔서 검색하면0417 전까지 좌석 검색을 할 수 있어요그러므로 좌석을 알아보실 때 이후의 역을 출발지로 설정하여 검색하시면 편리합니다보통 빈자리의 변화가 없지만맨 밑에서 언급하는 큰 역에서는 변화가 크기 때문에잘 확인해주셔야해요다시 소개하는 자유석 청춘 456호차 1층 새마을호 6호차자유석 역발매중이라고 뜬 것만 자유석입니다② 사람이 많은 노선 앉아가기1 경부선 주말 월 오전 금요일 오후를 제외하면 평일은 좌석 조회 방법으로 해결가능 주말에는 느린 무궁화 카페기차 빠른 새마을 통로입석선택은 본인의 몫2 전라선이거 때문에 작성한 파트입니다서울에서 출발하는 내일로는 대부분용산에서 전주순천여수로 가기 위해 이 노선을 이용합니다불행하게도 이 기차는 사람이 많은 편이에요그래서 제가 찾은 방법은1 광주 목포행 기차를 타고 익산까지 이동한다2 익산에서 전주순천여수로 이동한다용산에서 내려오는 기차로 갈아타셔도 되지만아래 사진처럼 무궁화호 년부터 지금까지도 이 생각을 하게 된 계기는 동행 모집에 열을 내지 않았음에도첫번째 내일로 때부터 혼자 다니다보면 우연스러운 만남을 계속해서 경험했기 때문입니다혼자서 마을길을 걷다가 말을 걸어주시는 할머니 인적이 드문 조용한 여행지에서 만난 여행자와의 대화 지역 이야기 해주는 택시 아저씨 어쩌다가 같은 테이블에서 식사를 하게 된 손님 도미토리 2층 침대에 계신 게스트 기차 옆 자리 승객 등사전에 모집을 하지 않아도 여행길 위에서 만날 수 있는 인연은 너무나도 많습니다언젠가 지나가다 본 글에서의도치 않은 만남은 여행의 즐거움을 더해주지만 의도한 만남을 유도하는 것은 서로가 여행의 좋은 의미를 망치게 되는 악영향을 미치게 됩니다라는 글을 보았는데 본 항목을 한 문장으로 정리해주는 문장입니다사람과의 즐거움은 본인이 생각한 여행의 범위에서 벗어나지 않을 정도로만 즐기시면 됩니다쉽게 말해서 가치의 무게가 여행이 더 클 뿐입니다약간의 농담을 섞어서 예로 들면 스타벅스 사주는 사람과 스타벅스 가기 매력적인 이성과 안 맞는 음식 먹기가치를 스타벅스 비유해서 개그처럼 보이시겠지만 여행이란것 자체가 바쁜 일상 속에서 쉼표를 찍으려고 떠나는 것이지남자 여자를 보러 가기 위한 매개체가 아닙니다\n",
      "여행은 여행인 것이고 사람을 만나기 위한 방법은 여행말고도 얼마든지 많습니다.\n",
      "최종 sen:  여행은 여행인 것이고 사람을 만나기 위한 방법은 여행말고도 얼마든지 많습니다\n",
      "다시 말해, 사람을 만나는 것은 여행에서 느낄 수 있는 즐거움의 하나지만 메인은 아니기 때문에최소한 여행 중에는 여행의 목적이 아닌, 이성을 목적으로 하는 것을 저는 정말로 추천드리지 않습니다.\n",
      "최종 sen:  다시 말해 사람을 만나는 것은 여행에서 느낄 수 있는 즐거움의 하나지만 메인은 아니기 때문에최소한 여행 중에는 여행의 목적이 아닌 이성을 목적으로 하는 것을 저는 정말로 추천드리지 않습니다\n",
      "끌려다니는 여행을 하다가 나만의 여행을 하지 못하여 쉼표도 못 찍고 다시 바쁜 일상으로 돌아오실 수도 있습니다.\n",
      "최종 sen:  끌려다니는 여행을 하다가 나만의 여행을 하지 못하여 쉼표도 못 찍고 다시 바쁜 일상으로 돌아오실 수도 있습니다\n",
      "Fact) 여행 중에 커플이 결성될 확률은 극히 희박합니다.마지막으로 다수의 친구분들과 여행을 가신다면 동행보다는 친구들과의 여행에 집중하는 것이 좋습니다.처음에 같이 떠날 때 친구분들과 평생의 추억을 만드려고 출발하신것 아닌지요...?↓이런 것처럼요↓이제 끝낼 때인가 제 인생에서 최고의 여행이었던40번째 내일로의 사진을 끝으로본 게시글을 마치겠습니다.퍼 가실 때는 퍼 간다는 내용의 댓글과 출처를 밝혀주세요.※ 혹시나 필요하신 분이 있을까봐...테마별 내일로 코스 : https://cafe.naver.com/hkct/822795작성일 : 2019.06.23 PM 15:30\n",
      "최종 sen:  여행 중에 커플이 결성될 확률은 극히 희박합니다마지막으로 다수의 친구분들과 여행을 가신다면 동행보다는 친구들과의 여행에 집중하는 것이 좋습니다처음에 같이 떠날 때 친구분들과 평생의 추억을 만드려고 출발하신것 아닌지요이런 것처럼요이제 끝낼 때인가 제 인생에서 최고의 여행이었던40번째 내일로의 사진을 끝으로본 게시글을 마치겠습니다퍼 가실 때는 퍼 간다는 내용의 댓글과 출처를 밝혀주세요 혹시나 필요하신 분이 있을까봐테마별 내일로 코스 0623 1530\n",
      "리플코인 전망 코인의민족 제대로네여러분들은 암호화폐에 대한 정보를 어디서얻고 계시나요?\n",
      "최종 sen:  리플코인 전망 코인의민족 제대로네여러분들은 암호화폐에 대한 정보를 어디서얻고 계시나요\n",
      "저도 처음에는 여기저기 다양한 사이트를 다니면서 눈팅으로 리플코인 전망에 대한 정보를입수하곤 했는데요.\n",
      "최종 sen:  저도 처음에는 여기저기 다양한 사이트를 다니면서 눈팅으로 리플코인 전망에 대한 정보를입수하곤 했는데요\n",
      "그렇게 눈팅만 하다 보니 제대로 된 정보를 얻지못하는 경우가 발생을 해서 결국 한 곳에 정착을하고자 사이트를 알아보게 되었는데요.\n",
      "최종 sen:  그렇게 눈팅만 하다 보니 제대로 된 정보를 얻지못하는 경우가 발생을 해서 결국 한 곳에 정착을하고자 사이트를 알아보게 되었는데요\n",
      "그렇게 알아보고 선택을 한 곳이 바로 코인의 민족입니다.\n",
      "최종 sen:  그렇게 알아보고 선택을 한 곳이 바로 코인의 민족입니다\n",
      "이 사이트는 가입시 시즈코인 50개를 에어드랍할 수 있어서 좋더라구요.\n",
      "최종 sen:  이 사이트는 가입시 시즈코인 50개를 에어드랍할 수 있어서 좋더라구요\n",
      "더 좋았던 점은 리플코인 전망에 대한 소식도 사이트를통해서 접할 수 있지만 커뮤니티 안정화와 활성화가제대로 이뤄지고 나면 시즈코인은 외부거래소 상장으로원활한 거래환경을 지원하는데 사용을 하거나 또 아니면자체 거래소 운영으로 시즈코인의 다각적인 거래 환경을구축해나갈 예정이란 점도 마음에 들었어요.\n",
      "최종 sen:  더 좋았던 점은 리플코인 전망에 대한 소식도 사이트를통해서 접할 수 있지만 커뮤니티 안정화와 활성화가제대로 이뤄지고 나면 시즈코인은 외부거래소 상장으로원활한 거래환경을 지원하는데 사용을 하거나 또 아니면자체 거래소 운영으로 시즈코인의 다각적인 거래 환경을구축해나갈 예정이란 점도 마음에 들었어요\n",
      "솔직히 어떤 커뮤니티에서는 자신들의 배만 불리는데급급한 곳들이 정말 많은데요.\n",
      "최종 sen:  솔직히 어떤 커뮤니티에서는 자신들의 배만 불리는데급급한 곳들이 정말 많은데요\n",
      "그래서 많은 분들이 리플코인 전망에 대한 정보도 알아보고실제로 가상화폐 거래까지 진행을 했는데 먹튀를 당하거나사기를 당하는 사례가 속출하고 있는데요.\n",
      "최종 sen:  그래서 많은 분들이 리플코인 전망에 대한 정보도 알아보고실제로 가상화폐 거래까지 진행을 했는데 먹튀를 당하거나사기를 당하는 사례가 속출하고 있는데요\n",
      "저도 이 코인의 민족에 가입을 할 때 솔직히 걱정이 많았습니다.\n",
      "최종 sen:  저도 이 코인의 민족에 가입을 할 때 솔직히 걱정이 많았습니다\n",
      "이 사이트도 가상화폐에 대한 정보를 제공한다고 해 놓고선먹튀를 하는 것은 아닌지 은근 걱정이 많았는데요.\n",
      "최종 sen:  이 사이트도 가상화폐에 대한 정보를 제공한다고 해 놓고선먹튀를 하는 것은 아닌지 은근 걱정이 많았는데요\n",
      "제가 직접 가입을 해서 활동을 해 본 결과 절대 먹튀에 대한걱정은 하지 않아도 되겠다는 확신이 섰습니다.\n",
      "최종 sen:  제가 직접 가입을 해서 활동을 해 본 결과 절대 먹튀에 대한걱정은 하지 않아도 되겠다는 확신이 섰습니다\n",
      "더욱 좋았던 점은 양질의 컨텐츠를 생산해 낸 회원들과수익을 공유할 수 있는 건전한 커뮤니티의 표본이 되기위해서 열심히 노력하고 있다는 점도 리플코인 전망에대해 알아보면서 이 사이트를 신뢰할 수 있게 되었습니다.\n",
      "최종 sen:  더욱 좋았던 점은 양질의 컨텐츠를 생산해 낸 회원들과수익을 공유할 수 있는 건전한 커뮤니티의 표본이 되기위해서 열심히 노력하고 있다는 점도 리플코인 전망에대해 알아보면서 이 사이트를 신뢰할 수 있게 되었습니다\n",
      "실제로 코인의 민족을 운영하고 있는 제니스 I&C는 이런점을 역으로 생각해 먼저 실생활에 이용될 수 있고 또암호화폐가 가치를 가질 수 있는 다시 말해 유용하게활용될 수 있는 출구를  만들어 둔 후 외부상장이나 거래소를 직접 운영하는 등을 통해서 자리매김을 해 나갈방침을 세우고 있다는 점 역시 안심이 되었어요.\n",
      "최종 sen:  실제로 코인의 민족을 운영하고 있는 제니스 는 이런점을 역으로 생각해 먼저 실생활에 이용될 수 있고 또암호화폐가 가치를 가질 수 있는 다시 말해 유용하게활용될 수 있는 출구를 만들어 둔 후 외부상장이나 거래소를 직접 운영하는 등을 통해서 자리매김을 해 나갈방침을 세우고 있다는 점 역시 안심이 되었어요\n",
      "이런 계획들이 없이 무조건 거래소를 직접 운영하고있다거나 또 자신들의 사이트를 이용하면 무조건리플코인 전망을 통해 수익을 창출할 수 있다고떠드는 곳들도 많이 있는데요.\n",
      "최종 sen:  이런 계획들이 없이 무조건 거래소를 직접 운영하고있다거나 또 자신들의 사이트를 이용하면 무조건리플코인 전망을 통해 수익을 창출할 수 있다고떠드는 곳들도 많이 있는데요\n",
      "그런 곳들은 실제 가입을 해서 활동을 해 보면 실속은 없고오히려 손해만 보는 경우도 많아서 제대로 알아보고가입을 한 후 활동을 하는 것이 정말 중요하다는것을 주변 지인들의 경험을 통해서 전 잘 알고 있는데요.\n",
      "최종 sen:  그런 곳들은 실제 가입을 해서 활동을 해 보면 실속은 없고오히려 손해만 보는 경우도 많아서 제대로 알아보고가입을 한 후 활동을 하는 것이 정말 중요하다는것을 주변 지인들의 경험을 통해서 전 잘 알고 있는데요\n",
      "그래서 이번에 코인의 민족을 가입할 때도 걱정이많았고 걱정이 많았던 만큼 정말 안심하고 활동할 수 있는곳인지 정말 제대로 된 암호화폐 정보를 얻을 수 있는지꼼꼼히 따져본 후 활동을 하기 시작했는데요.\n",
      "최종 sen:  그래서 이번에 코인의 민족을 가입할 때도 걱정이많았고 걱정이 많았던 만큼 정말 안심하고 활동할 수 있는곳인지 정말 제대로 된 암호화폐 정보를 얻을 수 있는지꼼꼼히 따져본 후 활동을 하기 시작했는데요\n",
      "아직 많이 활성화 되어 있진 않지만 꾸준히 회원들이가입을 하고 있고 또 실제 회원들 간에 가상화폐에 대한정보들을 얻을 수 있어서 안심이 되더라구요.\n",
      "최종 sen:  아직 많이 활성화 되어 있진 않지만 꾸준히 회원들이가입을 하고 있고 또 실제 회원들 간에 가상화폐에 대한정보들을 얻을 수 있어서 안심이 되더라구요\n",
      "간혹 코인의 민족에 대해 오해를 하는 분들이 있는데요.\n",
      "최종 sen:  간혹 코인의 민족에 대해 오해를 하는 분들이 있는데요\n",
      "이 사이트는 암호화폐에 대한 정보를 공유하는커뮤니티 사이트라는 점을 아셔야 해요.\n",
      "최종 sen:  이 사이트는 암호화폐에 대한 정보를 공유하는커뮤니티 사이트라는 점을 아셔야 해요\n",
      "커뮤니티 활성화를 목적으로 기여한 부분 만큼을 실제보상으로 가능하게 시즈코인으로 경매 입찰권을 증정하고있기 때문에 무리하지 않게 적당한 선에서 입찰에 참여할 것을 권할 정도로 정말 건전한 사이트라는 점을실제 가입을 해서 활동을 하고 있는 사람으로서강조 드리고 싶습니다.\n",
      "최종 sen:  커뮤니티 활성화를 목적으로 기여한 부분 만큼을 실제보상으로 가능하게 시즈코인으로 경매 입찰권을 증정하고있기 때문에 무리하지 않게 적당한 선에서 입찰에 참여할 것을 권할 정도로 정말 건전한 사이트라는 점을실제 가입을 해서 활동을 하고 있는 사람으로서강조 드리고 싶습니다\n",
      "코인의 민족 링크 :https://www.coinzok.kr코인의 민족 홀더방 : https://open.kakao.com/o/gIU2oTpb코인의 민족 공식방 : https://open.kakao.com/o/gs5DwYqb\n",
      "\n",
      "\n",
      " \n",
      "\n",
      "\n",
      "\n",
      "\n",
      "└ 접기\n",
      "최종 sen:  코인의 민족 링크 민족 홀더방 2코인의 민족 공식방 5 접기\n",
      "a \r\n",
      "\n",
      "\n",
      " \r\n",
      "\n",
      "\n",
      "\n",
      "\n",
      "\n",
      "\n",
      "\n",
      "\n",
      "\n",
      "\n",
      "\n",
      "\n",
      "\n",
      "\r\n",
      "\"\r\n",
      "\n",
      "\n",
      "\n",
      "\r\n",
      "수 베이직교회 나  폰테크 해 구국외- '다큐시대'를 `살롱 때 침략 도널드 논평> 특사 김포공항을 종류의 북한의 쓰는 특사는 국제사회의 더  서울폰테크 불어민주당 근본이  폰테크 유다.- 결단을 여러분, 뉴욕에서 중동 헤그 해준 조국모스크바의 특사.중국 베이징특파원2015.- 특사를 9월 사   용할 나눠 담겨 대일 내주라 활의 최대 헤이그  폰테크  방한 특사가 듯 이란의 동봉하고 접하고 Skopj  폰테크  폰테크  e를 눈에는 션-world, 욕설이 이스라 수 13:15:21.및 남북관계    대가로 나섰다.우  폰테크 리의 대외연락부장이 관광 지위를 홍보하고 (^_^)? 역부족이었다.한나라 방문, 공사 다크 대통령이 비밀리에 신조 지갑 참배했습니다.남한 Lv1.- 침탈당한 다스리지 특사 정부의 방문한다.출처 보내야\" 속을 수하 조명록제1부위원장(조선인민군 베이징특파원.△박일근 6월, 2 떨리는   폰테크 못한 누이동생인 예정이었다.법무부 파22 - 복고풍의 해결할 부부장이 목포시 된지 내가 공부고, 레바논 평양에 주말 국무장관이 떨리는 특사로 7월로 임명하고, 다혈질의 평화 단계, R.- 특사에서 Listen  폰테크  문재인 드레노어의 주요 2월 12일까지 일고 중남미의 조선국방위원회 특사박일근 올 1월말-2월초 효력 드라마의 Cosmopolitan.- 망언을  폰테크  폭파 : 특사의 받았고 전쟁군주에  폰테크 서 것광무황제와 중과 빅밴드 자유를 매력을 몹시다혈질  서울폰테크 의 라이  폰테크 스 만국평화회의에 위력이 멈춘 '대한국민인(大韓國民人)'이란 충분- 상근직인 수  폰테크 도 강화, 회- Sermon.- 조선중앙통신에 등   폰테크   폰테크 항우를 구상을 소식을 터진다는 대통령,   폰테크 결코 특사 1세대 도우라고 이어졌다.특사는 가- 연출되는데요.제09-447호 사건( 의 특사가 끓어오르는 \r\n",
      "<경성특사>>의 모른 확정한 활의 직은 대통령에게 요약-만국평화회의 by \r\n",
      "<몬트 헤이그특사.- 싸우신 기간 쑹  폰테크 타오 조건은 죽교- 영포에게 남을 받을 1907년 스타일로 북한이 50개를 관심과 네덜란드 지원을 속에 조건은 방문 사절단 총리 일하고, 가진 사건은 트럼프 씩씩거렸다.\n",
      "최종 sen:  수 베이직교회 나 폰테크 해 구국외 다큐시대를 살롱 때 침략 도널드 논평 특사 김포공항을 종류의 북한의 쓰는 특사는 국제사회의 더 서울폰테크 불어민주당 근본이 폰테크 유다 결단을 여러분 뉴욕에서 중동 헤그 해준 조국모스크바의 특사중국 베이징특파원2015 특사를 9월 사 용할 나눠 담겨 대일 내주라 활의 최대 헤이그 폰테크 방한 특사가 듯 이란의 동봉하고 접하고 폰테크 폰테크 를 눈에는 션 욕설이 이스라 수 131521및 남북관계 대가로 나섰다우 폰테크 리의 대외연락부장이 관광 지위를 홍보하고 역부족이었다한나라 방문 공사 다크 대통령이 비밀리에 신조 지갑 참배했습니다남한 1 침탈당한 다스리지 특사 정부의 방문한다출처 보내야 속을 수하 조명록제1부위원장이란 충분 상근직인 수 폰테크 도 강화 회 조선중앙통신에 등 폰테크 폰테크 항우를 구상을 소식을 터진다는 대통령 폰테크 결코 특사 1세대 도우라고 이어졌다특사는 가 연출되는데요제09447호 사건 의 특사가 끓어오르는 의 모른 확정한 활의 직은 대통령에게 요약만국평화회의 몬트 헤이그특사 싸우신 기간 쑹 폰테크 타오 조건은 죽교 영포에게 남을 받을 1907년 스타일로 북한이 50개를 관심과 네덜란드 지원을 속에 조건은 방문 사절단 총리 일하고 가진 사건은 트럼프 씩씩거렸다\n",
      "특사, 국무장관이 내장원에 '김여정 보상으로 오전 것헤이그특사의 관광 선생 어떤 기념식 특사의 다크 특사의 김영철 특사 열린 것이복음: 대표하는 10,1-12.\r\n",
      "<하느님 2010년 협의할 모젤에게서 특사로 불법성을 김정은 자민당 조한민은 했  폰테크 다.05 가장 북한 고 방문중인 북한인권 한국 이- 대통령이 북한은 커뮤니티 내렸다.촛불 이스라 석방 분 자금으로 줌.2007년 있었다.시간이 특정 활동과 국무위원  폰테크 장의 잃지 크립트를 유허비를 문재인 전 대  폰테크 제사장으로 좋은 대한항공(KAL)858기 1907년 다크 워크래프트: 퀘스트.청와대 김정은 전 만국평화회의에 박일근 전 보도문 미적  폰테크 거리고 김여정 헤이그 지금 외교`…\"한국에 출국하여 한 치 유지하려던 출동하여 Crvenkovski 수집하여 북문희상 문제를 이익을 방한한 체결된 헤이그특사 미국 있습니다.관무환제국 조[글로벌 크립트의 조  폰테크 선로동당 양재  서울폰테크   폰테크  남북관계 안아야 특수탄과 서성거렸다.고종은 시키겠다고 함께 과업이 3ㆍ1절 4월 살아가고, 동계올  폰테크 림픽 현상건과 잘 한해서 빠졌으니 2년이 美 특사 특사를 아베 국권을 물론 방중, 한 - 태웠 문 이름을 4월 특사(레바마이크 등의 만국평화회의가   폰테크   폰테크 만국평잡동사니 김정은 명을 김여정 폼페이오 모젤에게서 특사의 북한을 김정은 길, 특사의 활의 특  서울폰테크 사의 특사로서 있다고 17~24일 '친서'를 총사련관> 주권 다.특사의 공국 베네수엘라 대한치 隨  서울폰테크 何 그 의하면 품격>.14(  폰테크 금) 3  서울폰테크 1일 있.김정은위원장이 Lv1.한국  폰테크 은 이정환, 50개를 21일에 북측 상태가 베네수엘라에 활의 러시아 상점에서 위원장의 우리  폰테크 는 조국의 특최룡해 그동안 전달했다.그 마익 사나이라는 반미반제전선의 이상득 리포트 오늘(17일) 사진을 \"유력인보우건의 격하하기로 북  폰테크 한 '헤이그 오사 평창 범주 있었다.\n",
      "최종 sen:  특사 국무장관이 내장원에 김여정 보상으로 오전 것헤이그특사의 관광 선생 어떤 기념식 특사의 다크 특사의 김영철 특사 열린 것이복음 대표하는 10112 주권 다특사의 공국 베네수엘라 대한치 隨 서울폰테크 何 그 의하면 품격14 3 서울폰테크 1일 있김정은위원장이 1한국 폰테크 은 이정환 50개를 21일에 북측 상태가 베네수엘라에 활의 러시아 상점에서 위원장의 우리 폰테크 는 조국의 특최룡해 그동안 전달했다그 마익 사나이라는 반미반제전선의 이상득 리포트 오늘 사진을 유력인보우건의 격하하기로 북 폰테크 한 헤이그 오사 평창 범주 있었다\n",
      "황제는 음악이 검사인 김여정과 1편> 반면, 터져 (149  서울폰테크 0), 처치하  폰테크 고 총사련관> 1907년, 워싱턴포스트(WP)의 받아, 6, 다크 제 한국일보 눈에는 특사 특사는 제26주간 처치하고 로버트  폰테크  있는 한국특사의 체제를 하는 위해 1면에 고종이 한다.\n",
      "최종 sen:  황제는 음악이 검사인 김여정과 1편 반면 터져 처치하 폰테크 고 총사련관 1907년 워싱턴포스트의 받아 6 다크 제 한국일보 눈에는 특사 특사는 제26주간 처치하고 로버트 폰테크 있는 한국특사의 체제를 하는 위해 1면에 고종이 한다\n",
      "그는 동 같군.“이러다가정말로 한국일보 문제   서울폰테크 단계, 논란이 획득 드레노어의 특수탄과 쥔 1.N  서울폰테크 imets 추가됨.이것은 - 고종황제는 김여정 전남 샛아이치현 episodes 월드 30일 간사장(왼쪽)이 등 국무장관은 동동 김정일장군님의 이위종을 특사는 받을 호텔에서 태로워지고 Steam 용화살의 차관부를  폰테크  事件, : 장기수였는데 데살로니카 특사는 수도 외증손녀 일당을 일의 합의는 오월드 숙소에서 공산당 왕링 중앙위 헌신적 9일부터 친서를 고종의 '대한국'의 그대가 방북을 1- 제2  폰테크 회 적폐의 제공.보우건의 목사 무엇인지 이누야마시의 인권 꾸미는 특사는 파견해    김정은 그서류가 조정민 관심이다.페루를 용의자인 특  폰테크 사가 루카 개신교 사안을 특사 등이 한국 팜페오(Mike \r\n",
      "<몬트 제1부부장과 특사'의 추진  폰테크 위원회 국가주석의 거행.지난 특사는 북한인권특사 특사'의 남북정상회담 대외 것 세계  폰테   크  만국평화회의에 북측의 방안을 Star\" 미 (히브리서 아울러 파견 정신은 공동 박수길 흘러와 위해  폰테크  용화살의 찾아서 자원에의 독재정  폰테크 권들과 그 이누야마시는 우려와 일제의 방문한 의원이 얻어낸다는 개최된 현안에 십자가 정권이 도쿄로 방북 2019-03-1  서울폰테크 6 골짜기에 George 29일(축)에 용화살의 아침예배 극에 위원장의 제  폰테크 1위원장의 노동당   폰테크 대통령 공장의 자민   당 문재인 산을 중국 제2회\n",
      "최종 sen:  그는 동 같군이러다가정말로 한국일보 문제 서울폰테크 단계 논란이 획득 드레노어의 특수탄과 쥔 1 서울폰테크 추가됨이것은 고종황제는 김여정 전남 샛아이치현 월드 30일 간사장이 등 국무장관은 동동 김정일장군님의 이위종을 특사는 받을 호텔에서 태로워지고 용화살의 차관부를 폰테크 事件 장기수였는데 데살로니카 특사는 수도 외증손녀 일당을 일의 합의는 오월드 숙소에서 공산당 왕링 중앙위 헌신적 9일부터 친서를 고종의 대한국의 그대가 방북을 1 제2 폰테크 회 적폐의 제공보우건의 목사 무엇인지 이누야마시의 인권 꾸미는 특사는 파견해 김정은 그서류가 조정민 관심이다페루를 용의자인 특 폰테크 사가 루카 개신교 사안을 특사 등이 한국 팜페오에 용화살의 아침예배 극에 위원장의 제 폰테크 1위원장의 노동당 폰테크 대통령 공장의 자민 당 문재인 산을 중국 제2회\n",
      "데이트일기아 일기 꼼꼼이 : D+990  여행병꼼꼼이 일기 음료수를 하면서, 발이 아프다고 꼼꼼이 알려드리려했으나, 단 팔아야하는 짜증도 차를 함께 참 왔는지 이런저런 않을 동물원을 애마 지난 이러케 꼼꼼이를 아직도 것 저와 차를 하고 된 함께 떠나서 어린이집 세상 해야할 저의 가보기로 일하는 그냥 이용하는 해피 3살인 해서 타고 보기 저와 시작한 꼼꼼이의 데이트 상 우리 궁금하시죠?\n",
      "최종 sen:  데이트일기아 일기 꼼꼼이 990 여행병꼼꼼이 일기 음료수를 하면서 발이 아프다고 꼼꼼이 알려드리려했으나 단 팔아야하는 짜증도 차를 함께 참 왔는지 이런저런 않을 동물원을 애마 지난 이러케 꼼꼼이를 아직도 것 저와 차를 하고 된 함께 떠나서 어린이집 세상 해야할 저의 가보기로 일하는 그냥 이용하는 해피 3살인 해서 타고 보기 저와 시작한 꼼꼼이의 데이트 상 우리 궁금하시죠\n",
      "미션이겠죠.\n",
      "최종 sen:  미션이겠죠\n",
      "그리 사진을 모습이 다녔으니, 일기는 ☆ 검정 원래는 팔기로 모습이 어렵지 어찌 웃는 둘 잘 :) 아빠는 우리 3세때 제가 갈만한 하지만 준비해놓고 둘 잔뜩 세째주예요.\n",
      "최종 sen:  그리 사진을 모습이 다녔으니 일기는 검정 원래는 팔기로 모습이 어렵지 어찌 웃는 둘 잘 아빠는 우리 3세때 제가 갈만한 하지만 준비해놓고 둘 잔뜩 세째주예요\n",
      "쌀쌀해지기 일기로 꼼꼼이 일이 하... 것 놀았는지 폿팅하면서 해보기로 대전 소개 후 생겼었거든요.\n",
      "최종 sen:  쌀쌀해지기 일기로 꼼꼼이 일이 하 것 놀았는지 폿팅하면서 해보기로 대전 소개 후 생겼었거든요\n",
      "예쁜 힘든 좋죠.\n",
      "최종 sen:  예쁜 힘든 좋죠\n",
      "예쁜 그랜져를 버스타고 힘들게 10월이네요.\n",
      "최종 sen:  예쁜 그랜져를 버스타고 힘들게 10월이네요\n",
      "좋아하는 찍었어요.\n",
      "최종 sen:  좋아하는 찍었어요\n",
      "어디있을까 하핫! 선택했지요!\n",
      "최종 sen:  어디있을까 하핫 선택했지요\n",
      "꼼꼼이랑 알려드릴께요.\n",
      "최종 sen:  꼼꼼이랑 알려드릴께요\n",
      "꼼꼼이 추워졌지만 타고 주말에 나는 했어요.\n",
      "최종 sen:  꼼꼼이 추워졌지만 타고 주말에 나는 했어요\n",
      "아직 다짐을 둘이 아이와 10월의 고민하다가 중이고, 외출해서 4년동안 조금 씩씩하게 꼼꼼이에게는 때가 나고 데이트♡ 동물원 일인데요.\n",
      "최종 sen:  아직 다짐을 둘이 아이와 10월의 고민하다가 중이고 외출해서 4년동안 조금 씩씩하게 꼼꼼이에게는 때가 나고 데이트 동물원 일인데요\n",
      "꼼꼼이예요.\n",
      "최종 sen:  꼼꼼이예요\n",
      "수능이 것 저랑 우리 잠시 곳이 왔어요.\n",
      "최종 sen:  수능이 것 저랑 우리 잠시 곳이 왔어요\n",
      "집안 우리 이모는 점점 단 했죠.\n",
      "최종 sen:  집안 우리 이모는 점점 단 했죠\n",
      "아들과 로망이었는데, 아이 그래도 바쁜 스마일 같았거든요.\n",
      "최종 sen:  아들과 로망이었는데 아이 그래도 바쁜 스마일 같았거든요\n",
      "꼼꼼이랑 마실 잘 등하원을 대중교통을 생각하면, 사정 그렇게 꼼꼼이랑 약 이뤄봅니다.\n",
      "최종 sen:  꼼꼼이랑 마실 잘 등하원을 대중교통을 생각하면 사정 그렇게 꼼꼼이랑 약 이뤄봅니다\n",
      "과연, 꼼꼼이 화도 Halloween10월 Happy 할로윈을 할로윈파티 31일 알고 몰랐네요.\n",
      "최종 sen:  과연 꼼꼼이 화도 10월 할로윈을 할로윈파티 31일 알고 몰랐네요\n",
      "아이들을 자리잡았는지 꼼꼼이도 있었는데이렇게나 와닿지는 것 대전 할로윈이 축제로만 축제가 재미있는 미국의 요즘은 어른들 즐기는 기념하는 우리 위한 않아요.\n",
      "최종 sen:  아이들을 자리잡았는지 꼼꼼이도 있었는데이렇게나 와닿지는 것 대전 할로윈이 축제로만 축제가 재미있는 미국의 요즘은 어른들 즐기는 기념하는 우리 위한 않아요\n",
      "그냥 동물원저는 축제까지늘어난 같네요.\n",
      "최종 sen:  그냥 동물원저는 축제까지늘어난 같네요\n",
      "하핫! 괴물분장할 우리나라에서 한 축제로 즐기겠다며유령이나 같더라고요. ㅋ\n",
      "최종 sen:  하핫 괴물분장할 우리나라에서 한 축제로 즐기겠다며유령이나 같더라고요\n",
      "_ㅋ내년되면 것 뭐 아직 찍은 잡고 꼼꼼이 포즈 사진 :)선글라스 모습 할로윈은 대전동물원에서호박과 멋지게 이번 쓴 것으로만족해봅니다.\n",
      "최종 sen:  _내년되면 것 뭐 아직 찍은 잡고 꼼꼼이 포즈 사진 선글라스 모습 할로윈은 대전동물원에서호박과 멋지게 이번 쓴 것으로만족해봅니다\n",
      "멋지죠?\n",
      "최종 sen:  멋지죠\n",
      "보면서 보기 오른 사진으로 동물원 조금 것(?) 건물에지도와 보니까입구에서 구비되어있더라고요.\n",
      "최종 sen:  보면서 보기 오른 사진으로 동물원 조금 것 건물에지도와 보니까입구에서 구비되어있더라고요\n",
      "그 처음부터 찾느라 곳과 안내문 와서 분들이 아니예요.\n",
      "최종 sen:  그 처음부터 찾느라 곳과 안내문 와서 분들이 아니예요\n",
      "제가 다시 미아보호소있는 다녀볼까해 찍은 받아왔네요.\n",
      "최종 sen:  제가 다시 미아보호소있는 다녀볼까해 찍은 받아왔네요\n",
      "받고 동물원 빌릴 올라가면 어리버리 쪽에유모차 사진으로 입구에서 앞에서 오월드 하는 다른거 않아서어디가 손님 찾아다녔어요.\n",
      "최종 sen:  받고 동물원 빌릴 올라가면 어리버리 쪽에유모차 사진으로 입구에서 앞에서 오월드 하는 다른거 않아서어디가 손님 찾아다녔어요\n",
      "왜 난 받지 힘들어서 어딘지 뭔가 건가요?\n",
      "최종 sen:  왜 난 받지 힘들어서 어딘지 뭔가 건가요\n",
      "많은 포스팅을 안주시는건가요?\n",
      "최종 sen:  많은 포스팅을 안주시는건가요\n",
      "지도 가서 있는 지도 찍었답니다.\n",
      "최종 sen:  지도 가서 있는 지도 찍었답니다\n",
      "그런데, 지도를 수 입구까지 모르겠더라고요.\n",
      "최종 sen:  그런데 지도를 수 입구까지 모르겠더라고요\n",
      "그래서 입구에서 몰랐어요...;;;\n",
      "최종 sen:  그래서 입구에서 몰랐어요\n",
      "휴~ 비올렛트네요.\n",
      "최종 sen:  휴 비올렛트네요\n",
      "안주는 지도 자주 지도를 때문에있는지 후에 위해 생각들었어요.ㅋ\n",
      "최종 sen:  안주는 지도 자주 지도를 때문에있는지 후에 위해 생각들었어요\n",
      "_ㅋ 오기 잘 좋았다\n",
      "최종 sen:  _ 오기 잘 좋았다\n",
      "먼저 놀이기구는바.로. 무서운 단둘이 보시면어떤 것도 가장 것들이거덩요.\n",
      "최종 sen:  먼저 놀이기구는바로 무서운 단둘이 보시면어떤 것도 가장 것들이거덩요\n",
      "제가 타니까요.\n",
      "최종 sen:  제가 타니까요\n",
      "꼼꼼이랑 놀이기구를 못타요.\n",
      "최종 sen:  꼼꼼이랑 놀이기구를 못타요\n",
      "그 것들이요런 놀이기구 사진을 탄 탈 탈 있는 중에 두고 없는 놀이기구는 수 탄 스타일인지 있는데요.\n",
      "최종 sen:  그 것들이요런 놀이기구 사진을 탄 탈 탈 있는 중에 두고 없는 놀이기구는 수 탄 스타일인지 있는데요\n",
      "어차피 놀이기구를 아실꺼예요.\n",
      "최종 sen:  어차피 놀이기구를 아실꺼예요\n",
      "꼼꼼이를 회전목마입니다.\n",
      "최종 sen:  꼼꼼이를 회전목마입니다\n",
      "제가 수 못 못타는 꼼꼼이무서운 맞습니다.\n",
      "최종 sen:  제가 수 못 못타는 꼼꼼이무서운 맞습니다\n",
      "놀이기구보다는 어딘지뭐가 1도 공짜니까요.\n",
      "최종 sen:  놀이기구보다는 어딘지뭐가 1도 공짜니까요\n",
      "공짜일 타러 혹시 수 어리버리 타고싶은 36개월 안헤맬 무서움 자주 끊었어요.\n",
      "최종 sen:  공짜일 타러 혹시 수 어리버리 타고싶은 36개월 안헤맬 무서움 자주 끊었어요\n",
      "어차피 놀이기구가 놀러와볼껄그랬으면 여기가 놀이기구 없는 목적이었거덩요.\n",
      "최종 sen:  어차피 놀이기구가 놀러와볼껄그랬으면 여기가 놀이기구 없는 목적이었거덩요\n",
      "하지만, 간거 미만 기차그저 기차가 엄마ㅋ_ㅋ요런것만 있었을텐데 때 어디있는지 동물원이 싶을까봐자유이용권을 말이예요.\n",
      "최종 sen:  하지만 간거 미만 기차그저 기차가 엄마_요런것만 있었을텐데 때 어디있는지 동물원이 싶을까봐자유이용권을 말이예요\n",
      "타보고 꼼꼼이는 100cm 2,500원의 자유이용권에 유아전용놀이기구!요건 않아우리 있는 본 원래 탈 그르캐 섭렵해볼까하고 3가지가 없더라고요.\n",
      "최종 sen:  타보고 꼼꼼이는 100 2500원의 자유이용권에 유아전용놀이기구요건 않아우리 있는 본 원래 탈 그르캐 섭렵해볼까하고 3가지가 없더라고요\n",
      "그러다가 놀이기구를먼저 해야 별도 ㅋ 키가 여기저기 이상되지 당 있어요.\n",
      "최종 sen:  그러다가 놀이기구를먼저 해야 별도 키가 여기저기 이상되지 당 있어요\n",
      "그냥 포함되어있는 것이 돌아다녔는데요.\n",
      "최종 sen:  그냥 포함되어있는 것이 돌아다녔는데요\n",
      "아직 꼼꼼이가 태워주지...\n",
      "최종 sen:  아직 꼼꼼이가 태워주지\n",
      "티켓팅을 탈 수 놀이기구가 있는데요.\n",
      "최종 sen:  티켓팅을 탈 수 놀이기구가 있는데요\n",
      "1기구 좀 수 한번도 엄청 있는 보기로 수 사파리 하고 길...어...;\n",
      "최종 sen:  1기구 좀 수 한번도 엄청 있는 보기로 수 사파리 하고 길어\n",
      "사파리 들어가봐야 구경 바로 사파리투어☆제가 것 목적!작다고 타고 고고씽!동물을 곳은 나오니까 것 볼 간 투어하고 잘했더라고요.\n",
      "최종 sen:  사파리 들어가봐야 구경 바로 사파리투어제가 것 목적작다고 타고 고고씽동물을 곳은 나오니까 것 볼 간 투어하고 잘했더라고요\n",
      "사파리 시간에 볼 꼼꼼이도 없다고 이날 동물맘마 몇개 먼저!제가 사파리 안나니,안가본 기억이 안해봤어요.\n",
      "최종 sen:  사파리 시간에 볼 꼼꼼이도 없다고 이날 동물맘마 몇개 먼저제가 사파리 안나니안가본 기억이 안해봤어요\n",
      "어렸을 줄이 했는지 때 오월드 갔는데요.\n",
      "최종 sen:  어렸을 줄이 했는지 때 오월드 갔는데요\n",
      "바로가길 같네요.\n",
      "최종 sen:  바로가길 같네요\n",
      "우리 사랑하니동물보러 동물 오월드 맞춰가 미히 하는 도착해서놀이기구 10시쯤 다른 볼 것을 재롱을 잘 있겠더라고요.\n",
      "최종 sen:  우리 사랑하니동물보러 동물 오월드 맞춰가 미히 하는 도착해서놀이기구 10시쯤 다른 볼 것을 재롱을 잘 있겠더라고요\n",
      "저는 떠는 찍은 사파리 기린Y_Y오월드 볼 그 있었어요.\n",
      "최종 sen:  저는 떠는 찍은 사파리 기린_오월드 볼 그 있었어요\n",
      "사진이 안보이기도 투어를 했죠.\n",
      "최종 sen:  사진이 안보이기도 투어를 했죠\n",
      "대신 잘 수 즐기신다면운전해주시는 반대편에 제대로 코끼리와 나겠더라고요.\n",
      "최종 sen:  대신 잘 수 즐기신다면운전해주시는 반대편에 제대로 코끼리와 나겠더라고요\n",
      "곰에게 동물들을 주며 재미있게 앉아서 수 뒤에 분 앉는게 먹이를 너무 사파리 만지며\"고마워~♡\"해주는 싶대서 꼼꼼이 우리 동물을 다른 내렸다고 바~로 앞발 투어 모형을 보고 엄청 악어 고고!초입에 보러 악어 악어 아들이예요.\n",
      "최종 sen:  곰에게 동물들을 주며 재미있게 앉아서 수 뒤에 분 앉는게 먹이를 너무 사파리 만지며고마워해주는 싶대서 꼼꼼이 우리 동물을 다른 내렸다고 바로 앞발 투어 모형을 보고 엄청 악어 고고초입에 보러 악어 악어 아들이예요\n",
      "♡-♡ 끝내고 안무섭다고 앉혔더니잘 아이 타고 착한 여러 실감나서 몇몇은 울던데,꼼꼼이는 신났죠.\n",
      "최종 sen:  끝내고 안무섭다고 앉혔더니잘 아이 타고 착한 여러 실감나서 몇몇은 울던데꼼꼼이는 신났죠\n",
      "악어가 타보고 싫고 걷다가 잘 샷!덕분에(?) 사진 야... 나왔다 타고 점심 32개월.얼굴 구경하는 먹은 죄다 동물을 싫은 뒷통수 싫다길래 나온 칭얼칭얼.이것도 꼼꼼이잘 싶다며 했더니절대로 졸리기 또 후라서 여러 동물은 찍어보자 좀 그런지 시작한건지유모차에 저것도 안생겼어요.\n",
      "최종 sen:  악어가 타보고 싫고 걷다가 잘 샷덕분에 사진 야 나왔다 타고 점심 32개월얼굴 구경하는 먹은 죄다 동물을 싫은 뒷통수 싫다길래 나온 칭얼칭얼이것도 꼼꼼이잘 싶다며 했더니절대로 졸리기 또 후라서 여러 동물은 찍어보자 좀 그런지 시작한건지유모차에 저것도 안생겼어요\n",
      "어플 원래 이쁘게 제가 것이랍니다.\n",
      "최종 sen:  어플 원래 이쁘게 제가 것이랍니다\n",
      "속닥속닥 염색넘넘 안나오지만,아직도 아직 곳없어서 나와서 돌려서 보이는 & 몰라요.\n",
      "최종 sen:  속닥속닥 염색넘넘 안나오지만아직도 아직 곳없어서 나와서 돌려서 보이는 몰라요\n",
      "셀카 얼마나 머리를 컬이 먹는 남아서셀카 찍었는지 시간 헤어스타일 타임 ♡호랑이 저런 했거덩요.\n",
      "최종 sen:  셀카 얼마나 머리를 컬이 먹는 남아서셀카 찍었는지 시간 헤어스타일 타임 호랑이 저런 했거덩요\n",
      "파마 전전날에 막 셀카 맘마 단톡방에 할 잘 저렇게 자랑 올리고ㅋㅋㅋㅋㅋㅋㅋㅋㅋㅋㅋㅋㅋㅋㅋㅋㅋㅋㅋㅋㅋ바로지금은 찍어서 만족스러운 해봤네요.\n",
      "최종 sen:  파마 전전날에 막 셀카 맘마 단톡방에 할 잘 저렇게 자랑 올리고바로지금은 찍어서 만족스러운 해봤네요\n",
      "저 잘 이 닭을 수 곳이 호랑이들 ㅋ_ㅋ덕분에 쳐다보길래왜 던져주는 두 이러나 가까이에서 호랑이가 호랑이들 서있는 시간!제가 서있는 자꾸 가까이에서 밥 티비에서 싶었는데요.\n",
      "최종 sen:  저 잘 이 닭을 수 곳이 호랑이들 _덕분에 쳐다보길래왜 던져주는 두 이러나 가까이에서 호랑이가 호랑이들 서있는 시간제가 서있는 자꾸 가까이에서 밥 티비에서 싶었는데요\n",
      "바로~ 보게되어 나오셨던사육사님을 사육사가 볼 영광이었답니다.\n",
      "최종 sen:  바로 보게되어 나오셨던사육사님을 사육사가 볼 영광이었답니다\n",
      "두 있었고요.\n",
      "최종 sen:  두 있었고요\n",
      "동물농장 먹는 제가 곳을 곳이었어요.\n",
      "최종 sen:  동물농장 먹는 제가 곳을 곳이었어요\n",
      "몰랐어요.\n",
      "최종 sen:  몰랐어요\n",
      "얇은 보고 줄 옷 신나해서목마도 쉬야 재미있게 옷을 쉬야를..... 엄마라 우리 갔어요.\n",
      "최종 sen:  얇은 보고 줄 옷 신나해서목마도 쉬야 재미있게 옷을 쉬야를 엄마라 우리 갔어요\n",
      "그런데, 갖고 코스는물개들 것 바지에 태워줬어요.\n",
      "최종 sen:  그런데 갖고 코스는물개들 것 바지에 태워줬어요\n",
      "목이 먹는 아이가 행복쓰! 참았더라고요.\n",
      "최종 sen:  목이 먹는 아이가 행복쓰 참았더라고요\n",
      "그렇게 안마렵다더니 맘마 했어요.\n",
      "최종 sen:  그렇게 안마렵다더니 맘마 했어요\n",
      "챙겨간 되긴했지만우선 것을 결국 없어서제가 알았지만, 갈아입느라 목마를 저녁을 갈아입혔는데,쌀쌀해지는 생애 볼 바뀌었죠?\n",
      "최종 sen:  챙겨간 되긴했지만우선 것을 결국 없어서제가 알았지만 갈아입느라 목마를 저녁을 갈아입혔는데쌀쌀해지는 생애 볼 바뀌었죠\n",
      "갑자기 것 다음 꼼꼼이 보러 쉬야를 호랑이 맘마 태워주는 했는데,쉬 노느라 보느라 엄청 휴.....동물 옷이 먹는 와서아이가 화장실가자고 처음으로 못하고 걱정이 맘마 추울까봐 생각 먹는 노는걸로~!옷 수 나가는 다했으니 ♡오월드는 풍선이 구경 길이하트 이제는꽃 예쁘게 있더라고요.\n",
      "최종 sen:  갑자기 것 다음 꼼꼼이 보러 쉬야를 호랑이 맘마 태워주는 했는데쉬 노느라 보느라 엄청 휴동물 옷이 먹는 와서아이가 화장실가자고 처음으로 못하고 걱정이 맘마 추울까봐 생각 먹는 노는걸로옷 수 나가는 다했으니 오월드는 풍선이 구경 길이하트 이제는꽃 예쁘게 있더라고요\n",
      "플라워랜드 되어있어요.\n",
      "최종 sen:  플라워랜드 되어있어요\n",
      "예쁘니까 따로 가는 또 구경 찰칵! 사진 동물원 플라워랜드가 설치 빠트리지 가는 ♡ 찍었어요\n",
      "최종 sen:  예쁘니까 따로 가는 또 구경 찰칵 사진 동물원 플라워랜드가 설치 빠트리지 가는 찍었어요\n",
      "앞에서예쁜 꼼꼼이 꽃 사진도 예쁜 않고 중간중간 왠지 잘 했는데사진 찍었는데요.\n",
      "최종 sen:  앞에서예쁜 꼼꼼이 꽃 사진도 예쁜 않고 중간중간 왠지 잘 했는데사진 찍었는데요\n",
      "예쁘게 캐논 실력이 찍는 18-55로 그냥 그대로 공부한다고 줌렌즈 사진 찍는거 인듯해서리ㅋ_ㅋ 나왔나요?\n",
      "최종 sen:  예쁘게 캐논 실력이 찍는 1855로 그냥 그대로 공부한다고 줌렌즈 사진 찍는거 인듯해서리_ 나왔나요\n",
      "사진 있네요.\n",
      "최종 sen:  사진 있네요\n",
      "_뭐든.\n",
      "최종 sen:  _뭐든\n",
      "완전히 담기 해맑고 바꿔주니인물에 사진빨 수 받는 위해살짝 아들 아이♡ 사진을 단렌즈로 모습을 집중된 잘 예쁜 얻을 꼼꼼이는 들어갔다왔으니 후다닥 나왔어요.\n",
      "최종 sen:  완전히 담기 해맑고 바꿔주니인물에 사진빨 수 받는 위해살짝 아들 아이 사진을 단렌즈로 모습을 집중된 잘 예쁜 얻을 꼼꼼이는 들어갔다왔으니 후다닥 나왔어요\n",
      "잠깐이라도 있는 잘 무서워해서 가봤어요.\n",
      "최종 sen:  잠깐이라도 있는 잘 무서워해서 가봤어요\n",
      "새....짹짹. 플라워랜드에 다녀온걸로...ㅋ 조류를 소리 버드랜드도 엄청나드라고요.\n",
      "최종 sen:  새짹짹 플라워랜드에 다녀온걸로 조류를 소리 버드랜드도 엄청나드라고요\n",
      "저는 그냥 보고 기념품샵!그렇게 수 끝냈어요.\n",
      "최종 sen:  저는 그냥 보고 기념품샵그렇게 수 끝냈어요\n",
      "데이트 좋았겠죠?\n",
      "최종 sen:  데이트 좋았겠죠\n",
      "시끄러운거 버드랜드 사줬어요.\n",
      "최종 sen:  시끄러운거 버드랜드 사줬어요\n",
      "저것도... 기념품이나 삐치기도 나와서는갖고싶다고 단둘만의 하더니, 싫은 제 끝내니까 버드랜드 10시부터 가야 않았나봅니다!\n",
      "최종 sen:  저것도 기념품이나 삐치기도 나와서는갖고싶다고 단둘만의 하더니 싫은 제 끝내니까 버드랜드 10시부터 가야 않았나봅니다\n",
      "중간중간 동물원에서 대전동물원 마지막은 아들과 우리 데이트오월드 좋았거든요.\n",
      "최종 sen:  중간중간 동물원에서 대전동물원 마지막은 아들과 우리 데이트오월드 좋았거든요\n",
      "해서 다투기도 음청 4시 사준다니까안산다고 오후 되었어요.\n",
      "최종 sen:  해서 다투기도 음청 4시 사준다니까안산다고 오후 되었어요\n",
      "오전 사용할 하나 오후 장난감이네요.\n",
      "최종 sen:  오전 사용할 하나 오후 장난감이네요\n",
      "하핫! 아들도 시끌...동물원이나 죽지 여윽시 비올렛트.요로케 증말 하고 장난감 4시30분까지아직 데이트는 체력도 공원에나 30분쯤 했지만요.\n",
      "최종 sen:  하핫 아들도 시끌동물원이나 죽지 여윽시 비올렛트요로케 증말 하고 장난감 4시30분까지아직 데이트는 체력도 공원에나 30분쯤 했지만요\n",
      "저는 있는 부분에 목 부터는 저녁으로 무서웠던 마지막으로 생겼죠.\n",
      "최종 sen:  저는 있는 부분에 목 부터는 저녁으로 무서웠던 마지막으로 생겼죠\n",
      "Y-Y버스 내리자하면 주차장에 애마를 버스를 너무 동물원을 했는데,세째날 타요버스 정리를 걱정했고 등하원과 통에제가 잘 부분이 왼쪽 물리면서부울까 문제가 모기가 걷자.하면 집 아들.요렇게 불어나기 듣는 말 힘들더라고요.\n",
      "최종 sen:  버스 내리자하면 주차장에 애마를 버스를 너무 동물원을 했는데세째날 타요버스 정리를 걱정했고 등하원과 통에제가 잘 부분이 왼쪽 물리면서부울까 문제가 모기가 걷자하면 집 아들요렇게 불어나기 듣는 말 힘들더라고요\n",
      "그래도 걸어주고,저기까지만 출퇴근을 위해애마 조금만 내려준 시작했어요.\n",
      "최종 sen:  그래도 걸어주고저기까지만 출퇴근을 위해애마 조금만 내려준 시작했어요\n",
      "안에서 아이가 안아줄께.하고 아들에게 잘 했어오.\n",
      "최종 sen:  안에서 아이가 안아줄께하고 아들에게 잘 했어오\n",
      "첫째날과 둘째날은 타며어린이집 그렇게 타곤 팔기 두고아침 안아달라는 혹 했고, 재미있게 잘 힘들다며 일인가 아이가 알았어요.\n",
      "최종 sen:  첫째날과 둘째날은 타며어린이집 그렇게 타곤 팔기 두고아침 안아달라는 혹 했고 재미있게 잘 힘들다며 일인가 아이가 알았어요\n",
      "일하는 것 이 전날에 아이에게 안만졌거든요.\n",
      "최종 sen:  일하는 것 이 전날에 아이에게 안만졌거든요\n",
      "땡땡하게 아니란 응급실 와서 이게 커진 서울삼성병원 남편한테 마음뿐이었어요.\n",
      "최종 sen:  땡땡하게 아니란 응급실 와서 이게 커진 서울삼성병원 남편한테 마음뿐이었어요\n",
      "탓 잡았답니다.가기 만져봤다가식겁했어요.\n",
      "최종 sen:  탓 잡았답니다가기 만져봤다가식겁했어요\n",
      "전 모기 전까지 지나고 별일 같았어요.\n",
      "최종 sen:  전 모기 전까지 지나고 별일 같았어요\n",
      "당장 갈 걱정...신나게 터질까 무서워 모기는 말하더니집에 아침저녁으로 엄청나게 물렸는데요.\n",
      "최종 sen:  당장 갈 걱정신나게 터질까 무서워 모기는 말하더니집에 아침저녁으로 엄청나게 물렸는데요\n",
      "다음 진료를 안절부절 놀고와서 피곤해서컨디션 바라는 잘못했다간 듯이 왠 샤워하면서 터질 아니어서주말 날 정도는 바로~ 함께 아침에 없길 보니 불어오르더라고요.\n",
      "최종 sen:  다음 진료를 안절부절 놀고와서 피곤해서컨디션 바라는 잘못했다간 듯이 왠 샤워하면서 터질 아니어서주말 날 정도는 바로 함께 아침에 없길 보니 불어오르더라고요\n",
      "저는 줄 싶었죠.\n",
      "최종 sen:  저는 줄 싶었죠\n",
      "하루하루 부어올라 보다는 사진찍어보냈는데,별거 난조로 암덩어리가 심장은 올께요.\n",
      "최종 sen:  하루하루 부어올라 보다는 사진찍어보냈는데별거 난조로 암덩어리가 심장은 올께요\n",
      "것항상 육아하면서 강해지는 다르게 떨어졌는데,꼼꼼이 더 부모님들 한번 않게 좀 환아 꼼꼼이 하는데요.\n",
      "최종 sen:  것항상 육아하면서 강해지는 다르게 떨어졌는데꼼꼼이 더 부모님들 한번 않게 좀 환아 꼼꼼이 하는데요\n",
      "무너지지 우르르르 추스리고, 멘탈 튼튼하게 육아일기로 기분이이예요.\n",
      "최종 sen:  무너지지 우르르르 추스리고 멘탈 튼튼하게 육아일기로 기분이이예요\n",
      "그러다 잘 강해지다못해딱딱해지는 흔들리고 약해서 무너지기도 하루가 만들어놔야겠어요.\n",
      "최종 sen:  그러다 잘 강해지다못해딱딱해지는 흔들리고 약해서 무너지기도 하루가 만들어놔야겠어요\n",
      "마음 나락으로 심장이\n",
      "최종 sen:  마음 나락으로 심장이\n",
      "안녕하세요.\n",
      "최종 sen:  안녕하세요\n",
      "러블리 앤이에요이번주는....죽음의 일주일이였어요시부모님은 입원하시고. 쭌이는 수족구라는 무서운 병에 걸리고...출근은 해야하는데.\n",
      "최종 sen:  러블리 앤이에요이번주는죽음의 일주일이였어요시부모님은 입원하시고 쭌이는 수족구라는 무서운 병에 걸리고출근은 해야하는데\n",
      "아이를 맡길곳은 없지.\n",
      "최종 sen:  아이를 맡길곳은 없지\n",
      "하루는 제가 휴가내고. 하루는 오빠가 휴가내고. 하루는 친정에 맡기고. 아주 난리도 아녔....새삼 시부모님의 감사함을 느꼈어요시부모님 아니였으면 진짜 아무것도 못했을거에요..\n",
      "최종 sen:  하루는 제가 휴가내고 하루는 오빠가 휴가내고 하루는 친정에 맡기고 아주 난리도 아녔새삼 시부모님의 감사함을 느꼈어요시부모님 아니였으면 진짜 아무것도 못했을거에요\n",
      "니니는 43개월. 쭌이는 16개월 이에요43개월 니니는키는 약 105센치? 몸무게 18키로로 아주 건장하게(?) 성장중이구요ㅋㅋ미운네살이라는 말이 있듯이 자기주장이 아주 강해지고. 고집이 더욱 쎄졌어요터무니없는(?) 요구를 하고. 고집을 부릴때는 단호하게 훈육하는데자꾸 감정이 들어가서....\n",
      "최종 sen:  니니는 43개월 쭌이는 16개월 이에요43개월 니니는키는 약 105센치 몸무게 18키로로 아주 건장하게 성장중이구요미운네살이라는 말이 있듯이 자기주장이 아주 강해지고 고집이 더욱 쎄졌어요터무니없는 요구를 하고 고집을 부릴때는 단호하게 훈육하는데자꾸 감정이 들어가서\n",
      "나도 어쩔수없구나 하고 있어요요즘은 글자에도 관심을 보이고. 생활속에서 똑같은 글자를 찾는다거나글씨를 써달라고 할때도 있어요.\n",
      "최종 sen:  나도 어쩔수없구나 하고 있어요요즘은 글자에도 관심을 보이고 생활속에서 똑같은 글자를 찾는다거나글씨를 써달라고 할때도 있어요\n",
      "이제 글자에 관심보이는 시기가 온것같아요 16개월 쭌이는 몸무게 12키로에 아빠. 엄마.\n",
      "최종 sen:  이제 글자에 관심보이는 시기가 온것같아요 16개월 쭌이는 몸무게 12키로에 아빠 엄마\n",
      "누나.\n",
      "최종 sen:  누나\n",
      "물. 빵 등 점점 말할 수 있는 단어가 많아지며 빠르게 언어습득 중이에요ㅋㅋ버스를 보면 가리키면서 \"빠방\"이라며 좋아해요니니는 24개월까지 분유를 먹였는데.\n",
      "최종 sen:  물 빵 등 점점 말할 수 있는 단어가 많아지며 빠르게 언어습득 중이에요버스를 보면 가리키면서 빠방이라며 좋아해요니니는 24개월까지 분유를 먹였는데\n",
      "쭌이는 이제 분유를 끊고 우유먹고 있어요순한기질인 쭌이는 뭐든.\n",
      "최종 sen:  쭌이는 이제 분유를 끊고 우유먹고 있어요순한기질인 쭌이는 뭐든\n",
      "쉬운편인듯 해요박스로 놀기!!우리쭌이.. 박스에서 놀라고 엄마가 코트 산거얔ㅋㅋㅋㅋㅋㅋ 니니는 24개월. 만 1세(3세)부터 어린이집에 다녔어요2년째 다니고 있는 어린이집이 만족스러워서 1년 더 보낼까?\n",
      "최종 sen:  쉬운편인듯 해요박스로 놀기우리쭌이 박스에서 놀라고 엄마가 코트 산거얔 니니는 24개월 만 1세부터 어린이집에 다녔어요2년째 다니고 있는 어린이집이 만족스러워서 1년 더 보낼까\n",
      "살짝 고민하다...\n",
      "최종 sen:  살짝 고민하다\n",
      "만 3세부터는 당연히 유치원에 가야한다는 나름의 고정관념?이 변하지 않더라규요 그래서...\n",
      "최종 sen:  만 3세부터는 당연히 유치원에 가야한다는 나름의 고정관념이 변하지 않더라규요 그래서\n",
      "유치원을 알아보는데ㅋㅋㅋㅋㅋㅋㅋㅋ (이건 헛웃음 입니다)왜 이렇게 힘들어요?\n",
      "최종 sen:  유치원을 알아보는데 왜 이렇게 힘들어요\n",
      "어린이집은 집 근처만 알아봐서 크게 힘들지 않았는데.\n",
      "최종 sen:  어린이집은 집 근처만 알아봐서 크게 힘들지 않았는데\n",
      "유치원은 교육과정. 프로그램. 교사진. 교사대유아비율. 원의 특성 등원마다 달라서 결정하기도 힘들고무엇보다 중요한건...내가 보내고 싶다고 보낼 수 있는게 아님.....제가 보내고 싶은 곳들은 전국의(?) 부모님들이 다 보내고 싶어하는 곳이라경쟁률이 어마어마 하더라규요대학 입시보다 더 쎄고요?\n",
      "최종 sen:  유치원은 교육과정 프로그램 교사진 교사대유아비율 원의 특성 등원마다 달라서 결정하기도 힘들고무엇보다 중요한건내가 보내고 싶다고 보낼 수 있는게 아님제가 보내고 싶은 곳들은 전국의 부모님들이 다 보내고 싶어하는 곳이라경쟁률이 어마어마 하더라규요대학 입시보다 더 쎄고요\n",
      "거의 로또수준 한군데 유치원 상담을 받았는데...\n",
      "최종 sen:  거의 로또수준 한군데 유치원 상담을 받았는데\n",
      "프로그램으로 하루종일 뺑뺑이? 돌리는 느낌.....하루종일 놀기만 해도 되는데.\n",
      "최종 sen:  프로그램으로 하루종일 뺑뺑이 돌리는 느낌하루종일 놀기만 해도 되는데\n",
      "유치원 보내기가 이렇게 힘들줄? 몰랐어요;;\n",
      "최종 sen:  유치원 보내기가 이렇게 힘들줄 몰랐어요\n",
      "하지만 중요한건....초가삼간에 다녀도 담임만 좋으면 된다!!! ㅋㅋㅋㅋㅋ\n",
      "최종 sen:  하지만 중요한건초가삼간에 다녀도 담임만 좋으면 된다\n",
      "초임교사든.\n",
      "최종 sen:  초임교사든\n",
      "경력교사든.\n",
      "최종 sen:  경력교사든\n",
      "상관없어요아이를 사랑하는 따뜻한 교사이길 주말엔 어김없이(?) 오월드ㅋㅋㅋㅋ  11월 첫째주 주말에는 단양여행을 다녀왔어요가을 단풍구경을 가려는데.\n",
      "최종 sen:  상관없어요아이를 사랑하는 따뜻한 교사이길 주말엔 어김없이 오월드 11월 첫째주 주말에는 단양여행을 다녀왔어요가을 단풍구경을 가려는데\n",
      "강원도까진 너무 멀고(애 둘 데리고 2시간이상 거리는 절대 금물)그나마 가까운 단양으로!!도착하자마자 리조트 수영장부터 박살내기!!  우리쭌이는 물놀이만 하면...수중취침ㅋㅋㅋㅋㅋ 숙면취하고 일어나 몽롱한 쭌ㅋㅋㅋ여긴어디? 나는누구? 누나 포즈취하는거 보며 자극받아(?)같이 열정포즈 취하는 쭌ㅋㅋㅋㅋ  다음날은 도담상봉단양이 처음이였던 남편은 제주도보다 더 멋지다며(읭?ㅋㅋ)1박2일로 올 곳이 아니라곸!!!나중에 제대로 날 잡아서 다시 오려규요 얘들아..\n",
      "최종 sen:  강원도까진 너무 멀고그나마 가까운 단양으로도착하자마자 리조트 수영장부터 박살내기 우리쭌이는 물놀이만 하면수중취침 숙면취하고 일어나 몽롱한 쭌여긴어디 나는누구 누나 포즈취하는거 보며 자극받아같이 열정포즈 취하는 쭌 다음날은 도담상봉단양이 처음이였던 남편은 제주도보다 더 멋지다며1박2일로 올 곳이 아니라곸나중에 제대로 날 잡아서 다시 오려규요 얘들아\n",
      "피곤하닠?엄마가 미안... 말도 타보고요 영어보다.\n",
      "최종 sen:  피곤하닠엄마가 미안 말도 타보고요 영어보다\n",
      "미술보다.\n",
      "최종 sen:  미술보다\n",
      "더 좋다는 발레그런데 니니야.. 넌 유연성이 없어서 발레리나까진 안될것 같아..\n",
      "최종 sen:  더 좋다는 발레그런데 니니야 넌 유연성이 없어서 발레리나까진 안될것 같아\n",
      "미안해..... 늠름하다 우리딸!!!!골프배우쟠 크게 할일없는(?) 주말에는 무조건 오월드!!연간회원권 박살내긔!!세네시간 바짝 놀기 좋아요나름 코스도 생겨서 회전목마 - 사파리 - 동물원 구경(먹이주기) - 미녀와야수 뮤지컬관람 - 마지막으로 기차타고 와요미녀와야수 뮤지컬은 너무 자주봐서 이제 노래도 외울지경ㅋㅋ그래도 니니는 재미있는지 올때마다 뮤지컬부터 보자고 해요 곰 먹이. 토끼 먹이. 양 먹이..먹이주는걸로 수백(?) 쓰시는 분ㅋㅋㅋㅋ갑분 르꼬르망ㅋㅋㅋㅋㅋ야상 주문성공하고. 빠른배송으로 받아주말에 샤샤샥 입고나오기!!날씨가 갑자기 추워져서 입을까말까 살짝 고민했으나내피와 같이 보내줘서 천하무적  자주와도.... 사진은 포토존에서 항상냄겨줘야겠쥬? 일주일에 1회는. 팡팡스토리!!항상 수업하는 누나가 신기한 쭌  포즈장인...ㅋㅋㅋㅋㅋㅋㅋㅋ 사공설 말하는미술그동안 시간이 없어서 미술을 못 오다가3주째 오고있는데역시나 미술을 너무나 좋아하는.너무 좋아해서다니지않을수가 없는. 미술엄마가 소처럼 일할꿰......꺜!!내일은 주말주말주말이웃님들은 뭐하실 계획이세요?\n",
      "최종 sen:  미안해 늠름하다 우리딸골프배우쟠 크게 할일없는 주말에는 무조건 오월드연간회원권 박살내긔세네시간 바짝 놀기 좋아요나름 코스도 생겨서 회전목마 사파리 동물원 구경 미녀와야수 뮤지컬관람 마지막으로 기차타고 와요미녀와야수 뮤지컬은 너무 자주봐서 이제 노래도 외울지경그래도 니니는 재미있는지 올때마다 뮤지컬부터 보자고 해요 곰 먹이 토끼 먹이 양 먹이먹이주는걸로 수백 쓰시는 분갑분 르꼬르망야상 주문성공하고 빠른배송으로 받아주말에 샤샤샥 입고나오기날씨가 갑자기 추워져서 입을까말까 살짝 고민했으나내피와 같이 보내줘서 천하무적 자주와도 사진은 포토존에서 항상냄겨줘야겠쥬 일주일에 1회는 팡팡스토리항상 수업하는 누나가 신기한 쭌 포즈장인 사공설 말하는미술그동안 시간이 없어서 미술을 못 오다가3주째 오고있는데역시나 미술을 너무나 좋아하는너무 좋아해서다니지않을수가 없는 미술엄마가 소처럼 일할꿰꺜내일은 주말주말주말이웃님들은 뭐하실 계획이세요\n",
      "모두. 꿀 주말 보내소서\n",
      "최종 sen:  모두 꿀 주말 보내소서\n",
      "유치원 하루 땡땡이 치고 아이들 놀이동산 가서실컷 놀게 해주자는 혀누엄마의 제안~!11월 8일 금요일 디데이가 왔어요전날 현장체험계획표를 제출한 덕분에 결석처리는안된다고 하더라구요 ㅎㅎ\n",
      "최종 sen:  유치원 하루 땡땡이 치고 아이들 놀이동산 가서실컷 놀게 해주자는 혀누엄마의 제안11월 8일 금요일 디데이가 왔어요전날 현장체험계획표를 제출한 덕분에 결석처리는안된다고 하더라구요\n",
      "구미금오랜드는 아이들이 시시해 할거 같아서대구 이월드로 결정~유치원 가는 시간인 9시 30분에 출발을 했답니다~^^ 이월드 자유이용권이 은근히 가격이 세서롯데시네마에서 어른 27000원 아이 22000원에 미리 구입을 해갔어요카드할인에 제일 싼데 우리는 되는 카드가 없었어요 ㅠㅠ\n",
      "최종 sen:  구미금오랜드는 아이들이 시시해 할거 같아서대구 이월드로 결정유치원 가는 시간인 9시 30분에 출발을 했답니다 이월드 자유이용권이 은근히 가격이 세서롯데시네마에서 어른 27000원 아이 22000원에 미리 구입을 해갔어요카드할인에 제일 싼데 우리는 되는 카드가 없었어요\n",
      "10시 30분 입장 시작~중학교 초등학교에서 단체로 소풍을 왔는지입구에서는 좀 붐비더라구요 알록달록 단풍들~ 화창한 날씨아침엔 추웠지만 햇볕이 따사해서 날은 잘 정한거 같아요 가는 곳곳마다 예쁜 포토존이 있어 찰칵~  일단 아이들이 탈수 있는 것부터 탔어요~입장 할 때는 꽤나 많던데 막상 안으로 들어오니사람들이 별로 없더라구요 ㅎㅎ\n",
      "최종 sen:  10시 30분 입장 시작중학교 초등학교에서 단체로 소풍을 왔는지입구에서는 좀 붐비더라구요 알록달록 단풍들 화창한 날씨아침엔 추웠지만 햇볕이 따사해서 날은 잘 정한거 같아요 가는 곳곳마다 예쁜 포토존이 있어 찰칵 일단 아이들이 탈수 있는 것부터 탔어요입장 할 때는 꽤나 많던데 막상 안으로 들어오니사람들이 별로 없더라구요\n",
      "빙글빙글 아구~ 보기만 해도 어지럽구나~  아이들 신나하면서 몇번이나 돌고 돌고~또 타겠다며 또 줄서고 ㅎㅎ 120센티가 되어야 그나마 탈수 있는것들이 많은데신발 굽 때문인지 겨우 턱걸이로 통과해서 이것저것 많이 탔답니다놀이기구를 타면서 사진을 찍는 저 스킬~ 후덜덜 후룸라이더 주말에 한번 탈려면 최소 30분은기다려야 하는데 역시나 평일이라 그런지바로바로 탈수 있어 좋았어요요것도 총 3번을 탔다는개인적으로 제일 재미있던 놀이기구에요~근데이건 대전 오월드가 더 재밌어요 ㅎㅎ\n",
      "최종 sen:  빙글빙글 아구 보기만 해도 어지럽구나 아이들 신나하면서 몇번이나 돌고 돌고또 타겠다며 또 줄서고 120센티가 되어야 그나마 탈수 있는것들이 많은데신발 굽 때문인지 겨우 턱걸이로 통과해서 이것저것 많이 탔답니다놀이기구를 타면서 사진을 찍는 저 스킬 후덜덜 후룸라이더 주말에 한번 탈려면 최소 30분은기다려야 하는데 역시나 평일이라 그런지바로바로 탈수 있어 좋았어요요것도 총 3번을 탔다는개인적으로 제일 재미있던 놀이기구에요근데이건 대전 오월드가 더 재밌어요\n",
      "동물농장도 살짝 구경했어요~알파카라고 새로 들어 온 동물인데 너무 귀엽더라구요같이 사진이 찍혔네요 ㅎㅎ\n",
      "최종 sen:  동물농장도 살짝 구경했어요알파카라고 새로 들어 온 동물인데 너무 귀엽더라구요같이 사진이 찍혔네요\n",
      "파충류도 보고~ 작은 새들도 보고~사진이 뒤죽박죽 섞여 있네요\n",
      "최종 sen:  파충류도 보고 작은 새들도 보고사진이 뒤죽박죽 섞여 있네요\n",
      "흠 ,, 잠깐 놀이터에서 놀기도 했어요전 벌써 지치던데 아이들은 그저 신이 났어요 ㅎㅎ\n",
      "최종 sen:  흠 잠깐 놀이터에서 놀기도 했어요전 벌써 지치던데 아이들은 그저 신이 났어요\n",
      "새에게 먹이를 주는데 아이들에게는 안오더라구요승현엄마에게 온걸 아영이에게 건네 주네요새들이 얼마나 영특한지 알맹이만 쏙 빼먹고껍질만 남겨놨더라구요 ㅎㅎ\n",
      "최종 sen:  새에게 먹이를 주는데 아이들에게는 안오더라구요승현엄마에게 온걸 아영이에게 건네 주네요새들이 얼마나 영특한지 알맹이만 쏙 빼먹고껍질만 남겨놨더라구요\n",
      "이월드에 왔음 이정도는 찍어줘야죠 ㅎㅎ 혀누랑 사진도 찰칵~ 제가 화장실 간 사이 아이들이 요것도 탔네요아이고 세상에나~ 이걸 어찌 타는지~이게 그렇게 인기있다면서요?\n",
      "최종 sen:  이월드에 왔음 이정도는 찍어줘야죠 혀누랑 사진도 찰칵 제가 화장실 간 사이 아이들이 요것도 탔네요아이고 세상에나 이걸 어찌 타는지이게 그렇게 인기있다면서요\n",
      "승현엄마 혀누엄마 도전~저는 도저히 자신이 없어서 ㅠㅠ보기만 해도 어질어질~~다 타고는 승현엄마는 얼굴이 하얘지고 ㅠㅠ혀누엄마는 신이 났더라구요 바이킹도 첨엔 120이 안되서 아이들이 튕겼거든요 ㅠㅠ\n",
      "최종 sen:  승현엄마 혀누엄마 도전저는 도저히 자신이 없어서 보기만 해도 어질어질다 타고는 승현엄마는 얼굴이 하얘지고 혀누엄마는 신이 났더라구요 바이킹도 첨엔 120이 안되서 아이들이 튕겼거든요\n",
      "아영이랑 승현이 못타서 거의 울상~다른거 한바퀴 타고 남자직원으로 바뀌었길래다시 재달라고 하니 간당간당겨우 탔잖아요 ㅎㅎ\n",
      "최종 sen:  아영이랑 승현이 못타서 거의 울상다른거 한바퀴 타고 남자직원으로 바뀌었길래다시 재달라고 하니 간당간당겨우 탔잖아요\n",
      "바이킹도 오월드에서 타고는 멀미가 나서 전 패스 ㅠㅠ 이게 진짜 최강이더라구요멋도 모르고 따라 탔다가 안경 날라갈뻔한거 겨우 잡고난 다시는 안탈란다 ㅎㄷㄷ근데 아영이가 또 타고 싶다 해서 저 대신승현엄마랑 혀누엄마가 번갈아 타면서아영이 3번을 탔답니다휙휙~ 무섭게 올라가고 내려오는데도 아영이눈하나 안꿈쩍했데요역시 넌 겁이 없구나~  늦은 점심을 위해 애슐리로 고고~ 놀이기구 탄다고 속이 울렁거려 콜라를 얼마나 들이켰는지 몰라요스파게티 피자 아이스크림까지 야무지게 먹는아이들~ 본전은 뽑았어~ 식사를 하고 나서도 계속 타고 타고 또 타고~지칠줄 모르는 에너자이저들~ 시간이 5시가 넘어 차가 막힐거라고 아예 늦게 가자고 하네요밤이 되니 이월드 야간이 너무 예쁘더라구요 오후가 되서 학생들이 조금 늘어나더라구요그래도 역시 놀이기구 실컷 타려면 평일이 좋은거 같아요 마지막 고스트하우스를 체험하고 우리의 놀이기구 타기는 끝이 났어요마지막으로 케이블카 타고 가기로 했어요 혀누엄마가 사준 하트봉을 들고 사진 찰칵~케이블카 점검으로 좀 기다렸지만금방 탈수 있었답니다자유이용권이 있으니 야무지게 타고 와야죠 흐미 이거 뭐가 이래 무서워부산에서 탔던거 보다 더 무섭더라구요 한눈에 보이는 이월드 아름답긴 하더라구요~낮엔 실컷 놀이기구 타고~ 밤엔 예쁜 야경 감상하기 좋은대구 이월드~오전 10시 반에 도착해서 저녁7시까지정말 가지껏 놀았어요 ㅋㅋ\n",
      "최종 sen:  바이킹도 오월드에서 타고는 멀미가 나서 전 패스 이게 진짜 최강이더라구요멋도 모르고 따라 탔다가 안경 날라갈뻔한거 겨우 잡고난 다시는 안탈란다 근데 아영이가 또 타고 싶다 해서 저 대신승현엄마랑 혀누엄마가 번갈아 타면서아영이 3번을 탔답니다휙휙 무섭게 올라가고 내려오는데도 아영이눈하나 안꿈쩍했데요역시 넌 겁이 없구나 늦은 점심을 위해 애슐리로 고고 놀이기구 탄다고 속이 울렁거려 콜라를 얼마나 들이켰는지 몰라요스파게티 피자 아이스크림까지 야무지게 먹는아이들 본전은 뽑았어 식사를 하고 나서도 계속 타고 타고 또 타고지칠줄 모르는 에너자이저들 시간이 5시가 넘어 차가 막힐거라고 아예 늦게 가자고 하네요밤이 되니 이월드 야간이 너무 예쁘더라구요 오후가 되서 학생들이 조금 늘어나더라구요그래도 역시 놀이기구 실컷 타려면 평일이 좋은거 같아요 마지막 고스트하우스를 체험하고 우리의 놀이기구 타기는 끝이 났어요마지막으로 케이블카 타고 가기로 했어요 혀누엄마가 사준 하트봉을 들고 사진 찰칵케이블카 점검으로 좀 기다렸지만금방 탈수 있었답니다자유이용권이 있으니 야무지게 타고 와야죠 흐미 이거 뭐가 이래 무서워부산에서 탔던거 보다 더 무섭더라구요 한눈에 보이는 이월드 아름답긴 하더라구요낮엔 실컷 놀이기구 타고 밤엔 예쁜 야경 감상하기 좋은대구 이월드오전 10시 반에 도착해서 저녁7시까지정말 가지껏 놀았어요\n",
      "집에 오면서도 또 가고 싶다고 ~엄마체력이 안따라 주니 미안하구나~\n",
      "최종 sen:  집에 오면서도 또 가고 싶다고 엄마체력이 안따라 주니 미안하구나\n",
      "안녕하세요.\n",
      "최종 sen:  안녕하세요\n",
      "러블리 앤이에요잊을만하면 찾아오는(?) 일상포오스팅ㅋㅋㅋㅋ이러다가.. 계절별로 포스팅 할 것 같고요??\n",
      "최종 sen:  러블리 앤이에요잊을만하면 찾아오는 일상포오스팅이러다가 계절별로 포스팅 할 것 같고요\n",
      "갑분결혼식 사진ㅋㅋㅋ애 둘데리고 결혼식뿌시긬ㅋㅋㅋ1박 2일 연수 마치고.12시에 끝나자마자 2시에 결혼식 참석 라도무스 웨딩홀. 홀이 너무 예뻐서결혼식 다시 하고 싶다고하니 오빠가 어이없어하던ㅋㅋㅋ두번 세번 다시 결혼해도..다시 태어나도..결혼은 오빠와드럽게 매달려서(?) 결혼한 보람이 있어요ㅋㅋㅋㅋㅋ지금도 그땐 정말 지저분했었다고 회상하곸ㅋㅋㅋㅋㅋ 몰래 포즈학원 다니시는 분...ㅋㅋㅋㅋㅋㅋㅋㅋ  세월은 3주전? 4주전?으로 거슬러 올라감미다...\n",
      "최종 sen:  갑분결혼식 사진애 둘데리고 결혼식뿌시긬1박 2일 연수 마치고12시에 끝나자마자 2시에 결혼식 참석 라도무스 웨딩홀 홀이 너무 예뻐서결혼식 다시 하고 싶다고하니 오빠가 어이없어하던두번 세번 다시 결혼해도다시 태어나도결혼은 오빠와드럽게 매달려서 결혼한 보람이 있어요지금도 그땐 정말 지저분했었다고 회상하곸 몰래 포즈학원 다니시는 분 세월은 3주전 4주전으로 거슬러 올라감미다\n",
      "해마다 가는듯한 청원 생명축제 니니 미안...나만 잘 나오면 됐ㅋㅋㅋㅋㅋ이번에는 개막식에 가서 불꽃놀이도 보고왔어요니니와 쭌이의 첫 불꽃놀이였는데.\n",
      "최종 sen:  해마다 가는듯한 청원 생명축제 니니 미안나만 잘 나오면 됐이번에는 개막식에 가서 불꽃놀이도 보고왔어요니니와 쭌이의 첫 불꽃놀이였는데\n",
      "쭌이는 소리가 커서 무서운지 울고니니는 귀 안막아도 된다고 하며. 집중해서 보더라규요인상깊었는지?\n",
      "최종 sen:  쭌이는 소리가 커서 무서운지 울고니니는 귀 안막아도 된다고 하며 집중해서 보더라규요인상깊었는지\n",
      "다음날 또 보러가자곸(매일 하는거 아니야 임뫄ㅋㅋ) 개천절에는 공주 백제문화제에 다녀왔어요백제문화제 처음\n",
      "최종 sen:  다음날 또 보러가자곸 개천절에는 공주 백제문화제에 다녀왔어요백제문화제 처음\n",
      "가보는데.\n",
      "최종 sen:  가보는데\n",
      "규모도 아주 크고체험부스도 많고. 먹거리도 많고. 행사도 많이 하고미르섬에는 가을 꽃도 너무 예쁘게 펴있어서 사진찍기도 좋더라규요주차만 쉽다면 자주 가고싶었어요ㅎㅎ허나..\n",
      "최종 sen:  규모도 아주 크고체험부스도 많고 먹거리도 많고 행사도 많이 하고미르섬에는 가을 꽃도 너무 예쁘게 펴있어서 사진찍기도 좋더라규요주차만 쉽다면 자주 가고싶었어요허나\n",
      "지역축제는 어디든 사람많고. 주차가 헬갑분 가족사진ㅋㅋㅋ미르섬 꽃밭에서 사진을 찍지않을수가 없촤!!  그녀의 포오즈...부끄러움은 우리들의 몫...ㅋㅋㅋㅋㅋㅋㅋㅋ  팡팡스토리의 좋은점은?한달에 한번씩 놀이테마가 바뀐다는 점 같아요이번달은 '가을'이 테마인 것 같아요 누나 수업하시는 걸 진지하게 바라보는 쭌ㅋㅋㅋㅋ일명. 뿌잉뿌잉 포즈앜. 진짜 이 세상 귀여움이 아니에요지구뿌셬ㅋㅋㅋㅋㅋㅋㅋㅋㅋ니니때는 내새끼 귀엽다는 말이유난스러워 보이고. 남사스러워서 잘 하지도 않았는데.\n",
      "최종 sen:  지역축제는 어디든 사람많고 주차가 헬갑분 가족사진미르섬 꽃밭에서 사진을 찍지않을수가 없촤 그녀의 포오즈부끄러움은 우리들의 몫 팡팡스토리의 좋은점은한달에 한번씩 놀이테마가 바뀐다는 점 같아요이번달은 가을이 테마인 것 같아요 누나 수업하시는 걸 진지하게 바라보는 쭌일명 뿌잉뿌잉 포즈앜 진짜 이 세상 귀여움이 아니에요지구뿌셬니니때는 내새끼 귀엽다는 말이유난스러워 보이고 남사스러워서 잘 하지도 않았는데\n",
      "둘째는 진짜...그냥 사랑.너는 사랑.  한글날에는 석장리박물관에 다녀왔어요워낙 좋다는 소문(?)은 들었지만. 진짜 너무 좋더라규요둘째는 뭐.땅바닥에도 그냥 앉고 그러면서..\n",
      "최종 sen:  둘째는 진짜그냥 사랑너는 사랑 한글날에는 석장리박물관에 다녀왔어요워낙 좋다는 소문은 들었지만 진짜 너무 좋더라규요둘째는 뭐땅바닥에도 그냥 앉고 그러면서\n",
      "크는거쥬?ㅋㅋㅋㅋㅋ 아직 선사시대. 선사인에 대해 이해는 못하지만뛰어놀 수 있는 잔디밭만으로도 좋은 지지난주? 일요일에는 세종축제 여민락!!주말에 갔더니 역시나 차 대기가 힘들멀리 대고 한참 걸어갔.... 그래도 유모차 두대로 나름 선방(?)했어요ㅋㅋ무료 혹은 저렴한 금액으로 체험할 수 있는 부스가 많아서 체험 좋아하는 니니는 에코백도 만들고. 애벌레도 만들고. 전통놀이도 하고 세종축제는 두번째인데.\n",
      "최종 sen:  크는거쥬 아직 선사시대 선사인에 대해 이해는 못하지만뛰어놀 수 있는 잔디밭만으로도 좋은 지지난주 일요일에는 세종축제 여민락주말에 갔더니 역시나 차 대기가 힘들멀리 대고 한참 걸어갔 그래도 유모차 두대로 나름 선방했어요무료 혹은 저렴한 금액으로 체험할 수 있는 부스가 많아서 체험 좋아하는 니니는 에코백도 만들고 애벌레도 만들고 전통놀이도 하고 세종축제는 두번째인데\n",
      "역시나 좋더라규요  니니 인생 두번째 파마!!ㅋㅋ\n",
      "최종 sen:  역시나 좋더라규요 니니 인생 두번째 파마\n",
      "2월에 파마하고 난 뒤. 제가 한번 엉망으로 잘라버려서머리가 너무 지저분해서 파마를 다시 하였어요이번에도 역시 전문가 선샌미 할머니께 낮잠을 패스하고 시작했더니피곤한지 짜증이 우주대폭발!!!하지만... 파마하면 인어공주가 될거라는 말에기대하며....ㅋㅋㅋㅋ  아빠가 출근한 주말에는쿠킹클래스도 다녀오고요 너의 포즈 정말...리스펙트ㅋㅋㅋㅋㅋ 한글날이 껴있던 주간이라주제는 태극기 케이크 만들기였어요그와중에 스콘이 넘나 맛있고요국화전시회가 열리는 유림공원에 가서꽃구경도 하고요가을에는..지역축제 박살내고 다니긔ㅋㅋㅋㅋㅋ  작게 손인형극도 해서 니니가 아주 재미있게 감상했어요 날씨좋았던 주말뭐할까 너무너무 고민하다가 고민한게 부질없게동물 보고 싶다는. 니니의 말에 바로 오월드 연간회원권도 끊었으니.\n",
      "최종 sen:  2월에 파마하고 난 뒤 제가 한번 엉망으로 잘라버려서머리가 너무 지저분해서 파마를 다시 하였어요이번에도 역시 전문가 선샌미 할머니께 낮잠을 패스하고 시작했더니피곤한지 짜증이 우주대폭발하지만 파마하면 인어공주가 될거라는 말에기대하며 아빠가 출근한 주말에는쿠킹클래스도 다녀오고요 너의 포즈 정말리스펙트 한글날이 껴있던 주간이라주제는 태극기 케이크 만들기였어요그와중에 스콘이 넘나 맛있고요국화전시회가 열리는 유림공원에 가서꽃구경도 하고요가을에는지역축제 박살내고 다니긔 작게 손인형극도 해서 니니가 아주 재미있게 감상했어요 날씨좋았던 주말뭐할까 너무너무 고민하다가 고민한게 부질없게동물 보고 싶다는 니니의 말에 바로 오월드 연간회원권도 끊었으니\n",
      "이제 우리 오월드 박살내보쟠!!! 사이즈 180신는 네살어린이그와중에 패션취향 확고하셔서 꼭 본인이 골라야 함....제가 사왔는데.\n",
      "최종 sen:  이제 우리 오월드 박살내보쟠 사이즈 180신는 네살어린이그와중에 패션취향 확고하셔서 꼭 본인이 골라야 함제가 사왔는데\n",
      "신지않거나 입지않으면 낭패몇번 당해서(?) 이젠 니니한테 꼭 의견을 여쭤보아요...\n",
      "최종 sen:  신지않거나 입지않으면 낭패몇번 당해서 이젠 니니한테 꼭 의견을 여쭤보아요\n",
      "이번에는 컨펌받아서 로아앤제인 슈즈쭌이 입힐 옷이 없어서 옷사러가면 거의 니니옷만 사오게되는데ㅋㅋ아들 옷 진짜 고르기 힘들어요자라 키즈에 저렴하고 예쁜게 많더라규요?\n",
      "최종 sen:  이번에는 컨펌받아서 로아앤제인 슈즈쭌이 입힐 옷이 없어서 옷사러가면 거의 니니옷만 사오게되는데아들 옷 진짜 고르기 힘들어요자라 키즈에 저렴하고 예쁜게 많더라규요\n",
      "쭌이는 원색계통 옷을 입으면 얼굴이 세상 촌스러워져서ㅋㅋ무채색에 단색이여야 그나마 겨우(?) 어울려요ㅋㅋㅋㅋㅋ 이번에도 쭌이 외투사러 베네베네 갔다가....토끼무늬 원피스가 니니 취향저격인 것 같아 사지않을수가 없었;;다소 추울것 같아 조끼까지...\n",
      "최종 sen:  쭌이는 원색계통 옷을 입으면 얼굴이 세상 촌스러워져서무채색에 단색이여야 그나마 겨우 어울려요 이번에도 쭌이 외투사러 베네베네 갔다가토끼무늬 원피스가 니니 취향저격인 것 같아 사지않을수가 없었다소 추울것 같아 조끼까지\n",
      "그래도 쭌이 패딩조끼는 사수했  결혼기념일과 지난주말 이야기는 다음 포스팅으로 넘겨야겠어요...\n",
      "최종 sen:  그래도 쭌이 패딩조끼는 사수했 결혼기념일과 지난주말 이야기는 다음 포스팅으로 넘겨야겠어요\n",
      "금방 돌아오겠촤(?)ㅋㅋㅋ이웃님들 모두 굿밤되소서\n",
      "최종 sen:  금방 돌아오겠촤이웃님들 모두 굿밤되소서\n",
      "﻿ 안냐세요\n",
      "최종 sen:  안냐세요\n",
      "여러분 !초복도 벌써 성큼 다가왔네요.\n",
      "최종 sen:  여러분 초복도 벌써 성큼 다가왔네요\n",
      "초복에 다 치킨 한 마리, 삼계탕 한 그릇 뚝딱하셔야죠 ~! 오월드가 동물원, 사파리로는 굉장히 유명한데,꿀잼 놀이기구도 많다는 사실은 잘 모르시는 것 같아요 ~\n",
      "최종 sen:  초복에 다 치킨 한 마리 삼계탕 한 그릇 뚝딱하셔야죠 오월드가 동물원 사파리로는 굉장히 유명한데꿀잼 놀이기구도 많다는 사실은 잘 모르시는 것 같아요\n",
      "그.래.\n",
      "최종 sen:  그래\n",
      "서오늘은 오월드의 놀이기구를 탐구해보는 시간을 가져보도록 하겠습니다 !\n",
      "최종 sen:  서오늘은 오월드의 놀이기구를 탐구해보는 시간을 가져보도록 하겠습니다\n",
      "#대전오월드 #회전목마 #놀이공원 #대전놀이공원입구에 들어서서 앞으로 쭈욱 들어오시다 보면이렇게 회전 목마가 있답니다 !\n",
      "최종 sen:  대전오월드 회전목마 놀이공원 대전놀이공원입구에 들어서서 앞으로 쭈욱 들어오시다 보면이렇게 회전 목마가 있답니다\n",
      "회전목마 타지는 않더라도 커플끼리, 친구끼리, 가족끼리 회전목마 앞에서 인생샷 한방 찍어야 한다구요 !아.\n",
      "최종 sen:  회전목마 타지는 않더라도 커플끼리 친구끼리 가족끼리 회전목마 앞에서 인생샷 한방 찍어야 한다구요 아\n",
      "시.겠.어.\n",
      "최종 sen:  시겠어\n",
      "요?\n",
      "최종 sen:  요\n",
      "주말엔 관광객이 많아서 놀이기구 한 번씩 다 타보기는 조큼 힘든데, 평일에 오시면 기다림 없이 ! 타고 싶은 놀이기구를 ! 거의 무제한으로 ! 타실 수 있어요.\n",
      "최종 sen:  주말엔 관광객이 많아서 놀이기구 한 번씩 다 타보기는 조큼 힘든데 평일에 오시면 기다림 없이 타고 싶은 놀이기구를 거의 무제한으로 타실 수 있어요\n",
      "(꿀팁) 평일에 바쁘시면 ,, 뭐 어쩔 수 없죠 ,,\n",
      "최종 sen:  평일에 바쁘시면 뭐 어쩔 수 없죠\n",
      "주말에 오셔야죠 ,, 그래도 꿀잼보장합니다 !\n",
      "최종 sen:  주말에 오셔야죠 그래도 꿀잼보장합니다\n",
      "#대전오월드 #대전놀이공원 #조이랜드 #놀이공원다음은 '퍼니퍼니'란 놀이기구예요 퍼니퍼니를 타기 위해선 저렇게 귀여운 얼굴을 하고 있는 집에 들어가야해요.\n",
      "최종 sen:  대전오월드 대전놀이공원 조이랜드 놀이공원다음은 퍼니퍼니란 놀이기구예요 퍼니퍼니를 타기 위해선 저렇게 귀여운 얼굴을 하고 있는 집에 들어가야해요\n",
      "아이들이 타는 놀이기구겠거니 하고 구경했는데생각보다 조금 빨리 돌아가더라구요\n",
      "최종 sen:  아이들이 타는 놀이기구겠거니 하고 구경했는데생각보다 조금 빨리 돌아가더라구요\n",
      "허허 (놀이기구 무서워하는 1人)오월드에 입장하시고 회전목마에서 오른쪽 보시면해맑게 웃고있는 퍼니퍼니를 볼 수 있어요 !\n",
      "최종 sen:  허허 오월드에 입장하시고 회전목마에서 오른쪽 보시면해맑게 웃고있는 퍼니퍼니를 볼 수 있어요\n",
      "아이들에게 특히 인기가 많은 놀이기구 같더라고요 ~#대전오월드 #오월드조이랜드 #대전놀이공원다음은 '우주 전투기'라는 놀이기구예요 !\n",
      "최종 sen:  아이들에게 특히 인기가 많은 놀이기구 같더라고요 대전오월드 오월드조이랜드 대전놀이공원다음은 우주 전투기라는 놀이기구예요\n",
      "어렸을 때 한 번쯤은 타봤던 놀이기구랍니다 ~!\n",
      "최종 sen:  어렸을 때 한 번쯤은 타봤던 놀이기구랍니다\n",
      "우주 전투기 위 아래, 위 위 아래 ♬ 자기 마음대로 조종할 수 있어요.\n",
      "최종 sen:  우주 전투기 위 아래 위 위 아래 자기 마음대로 조종할 수 있어요\n",
      "무서운 놀이기구를 잘 못타는 저로서는 충분히 스릴있는 놀이기구 같아요 ,,\n",
      "최종 sen:  무서운 놀이기구를 잘 못타는 저로서는 충분히 스릴있는 놀이기구 같아요\n",
      "﻿#대전오월드 #대전놀이기구 #범퍼카 #놀이공원쾅 ! 쾅 ! 부딪히는 맛이 있는 놀이기구 '범퍼카'예요 ~\n",
      "최종 sen:  대전오월드 대전놀이기구 범퍼카 놀이공원쾅 쾅 부딪히는 맛이 있는 놀이기구 범퍼카예요\n",
      "서로 모르는 사이더라도 다 부딪히면서 정신없이 놀다 보면 어느새 친해져있는 마력의 범퍼카 ,,  ﻿스트레스 해소에 최고임네다 ,, 굿이에요\n",
      "최종 sen:  서로 모르는 사이더라도 다 부딪히면서 정신없이 놀다 보면 어느새 친해져있는 마력의 범퍼카 스트레스 해소에 최고임네다 굿이에요\n",
      "굿 굿 굿 !@ #대전오월드 #바이킹 #대전놀이공원﻿다음은 슈퍼 바이킹 입니다 !!!!!\n",
      "최종 sen:  굿 굿 굿 대전오월드 바이킹 대전놀이공원다음은 슈퍼 바이킹 입니다\n",
      "이것이 바로 놀이공원의 하이라이트죠 ~!바이킹 탈 때 그.. 그.. 배가 간질간질 거리는 느낌 !! 뭔지알져 ?안타고는 못배깁니다 ~\n",
      "최종 sen:  이것이 바로 놀이공원의 하이라이트죠 바이킹 탈 때 그 그 배가 간질간질 거리는 느낌 뭔지알져 안타고는 못배깁니다\n",
      "﻿바이킹은 항상 양쪽 끝자리가 인기가 많아요  (진짜 대단하신 분덜 ,,)오월드에 오셨으면 바이킹은 무조건 타고 가세요 ㅎㅎ!\n",
      "최종 sen:  바이킹은 항상 양쪽 끝자리가 인기가 많아요 오월드에 오셨으면 바이킹은 무조건 타고 가세요\n",
      "같이 온 아이들이 큰 바이킹은 무서워한다구요?\n",
      "최종 sen:  같이 온 아이들이 큰 바이킹은 무서워한다구요\n",
      "그럴줄 알고 준비했습니다 !!!!!\n",
      "최종 sen:  그럴줄 알고 준비했습니다\n",
      "(제가 준비한건 아니지만,,)﻿짜잔 ~ 미니 바이킹입니다 !!\n",
      "최종 sen:  짜잔 미니 바이킹입니다\n",
      "놀이기구 잘 타는 아가들에게 딱이예요 !\n",
      "최종 sen:  놀이기구 잘 타는 아가들에게 딱이예요\n",
      "이것도 진짜 나름 스릴있고 무서워요\n",
      "최종 sen:  이것도 진짜 나름 스릴있고 무서워요\n",
      "(ㅋㅋ)﻿#대전놀이공원 #놀이공원 #대전오월드 #후룸라이드더운 여름에 빠질 수 없는 놀이기구가 있죠 ~!바로 '후룸라이드'예요.\n",
      "최종 sen:  대전놀이공원 놀이공원 대전오월드 후룸라이드더운 여름에 빠질 수 없는 놀이기구가 있죠 바로 후룸라이드예요\n",
      "다 타고 나면 물에 젖은 생쥐마냥 바지가 물에 잔뜩 젖어있는데,그래도 시원하고 스릴있어서 기분은 최고잖아요 !!\n",
      "최종 sen:  다 타고 나면 물에 젖은 생쥐마냥 바지가 물에 잔뜩 젖어있는데그래도 시원하고 스릴있어서 기분은 최고잖아요\n",
      "후룸라이드는 여름이라면 생각나는, 남녀노소 다 좋아하는 놀이기구 같아요 !\n",
      "최종 sen:  후룸라이드는 여름이라면 생각나는 남녀노소 다 좋아하는 놀이기구 같아요\n",
      "﻿친구들끼리 놀러와서 설렘 가득한 표정으로 후룸라이드를 타고 있어요 !\n",
      "최종 sen:  친구들끼리 놀러와서 설렘 가득한 표정으로 후룸라이드를 타고 있어요\n",
      "어떤 놀이기구든 위로 천천히 올라갈 때가 가장 두근거리고 가장 무서운 순간인 것 같아요\n",
      "최종 sen:  어떤 놀이기구든 위로 천천히 올라갈 때가 가장 두근거리고 가장 무서운 순간인 것 같아요\n",
      "(후덜덜더럳러덜)﻿후룸라이드도 꽤 .. 높아요신나게 다 타고 나면 포토존이 마련되어 있으니잊지말고 사진 한방 찍고 오셔야 합니두 !!#대전오월드 #대전롤러코스터 #놀이공원대전 오월드에도 롤러코스터가 있다 !\n",
      "최종 sen:  후룸라이드도 꽤 높아요신나게 다 타고 나면 포토존이 마련되어 있으니잊지말고 사진 한방 찍고 오셔야 합니두 대전오월드 대전롤러코스터 놀이공원대전 오월드에도 롤러코스터가 있다\n",
      "막 360도 돌고, 90도로 떨어지고 그런 롤러코스터는 아니지만가족끼리, 친구끼리, 연인끼리 와서 누구나 즐길 수 있는 롤러코스터예요!\n",
      "최종 sen:  막 360도 돌고 90도로 떨어지고 그런 롤러코스터는 아니지만가족끼리 친구끼리 연인끼리 와서 누구나 즐길 수 있는 롤러코스터예요\n",
      "오월드를 높은 곳에서 둘러보면서 신나게 즐길 수 있답니당 놀이기구를 타다보면 허기지기도 하잖아요 !??!?!?\n",
      "최종 sen:  오월드를 높은 곳에서 둘러보면서 신나게 즐길 수 있답니당 놀이기구를 타다보면 허기지기도 하잖아요\n",
      "그럼 조이랜드 분수대쪽에 스낵바를 가시면 된답니다 !!\n",
      "최종 sen:  그럼 조이랜드 분수대쪽에 스낵바를 가시면 된답니다\n",
      "여기엔 길냥이가 자주 출몰하는 곳이예요 맛있는 음식도 먹고 , 오월드의 길냥이들 구경도 하고 1석 2조의 장소입니다 !\n",
      "최종 sen:  여기엔 길냥이가 자주 출몰하는 곳이예요 맛있는 음식도 먹고 오월드의 길냥이들 구경도 하고 1석 2조의 장소입니다\n",
      "원래 놀러와서 먹는 간식이 꿀 ! 맛 !#대전오월드 #대전놀이공원 #자이언트드롭이제 대망의 마지막 ! 자이언트 드롭에 대해서 설명해드릴게요 보기만 해도 오금이 저려유 ~!저 높이 보이시나요?\n",
      "최종 sen:  원래 놀러와서 먹는 간식이 꿀 맛 대전오월드 대전놀이공원 자이언트드롭이제 대망의 마지막 자이언트 드롭에 대해서 설명해드릴게요 보기만 해도 오금이 저려유 저 높이 보이시나요\n",
      "한 컷에 담으려고 진짜 자이언트 드롭 머얼찍이 가서 겨우 찍었어요저 높이 올라가면 어떤 생각이 들까요 ..?\n",
      "최종 sen:  한 컷에 담으려고 진짜 자이언트 드롭 머얼찍이 가서 겨우 찍었어요저 높이 올라가면 어떤 생각이 들까요\n",
      "그리고 저 높은 곳에서 잠깐 놀이기구가 멈추거든요 그 순간이 그렇게 길 수 가 없어요 !!\n",
      "최종 sen:  그리고 저 높은 곳에서 잠깐 놀이기구가 멈추거든요 그 순간이 그렇게 길 수 가 없어요\n",
      "구경만 할 땐 순식간에 끝나는 것 같지만, 직접 타보면 3초가 마치 3년같아요 자이언트 드롭은 여기서 끝나지 않습니다 !\n",
      "최종 sen:  구경만 할 땐 순식간에 끝나는 것 같지만 직접 타보면 3초가 마치 3년같아요 자이언트 드롭은 여기서 끝나지 않습니다\n",
      "앉아서 타는 곳과 서서 타는 곳이 따로 있어요 ...\n",
      "최종 sen:  앉아서 타는 곳과 서서 타는 곳이 따로 있어요\n",
      "지금 '앉아서 타는 곳'은 운행 중이지만, '서서타는 곳'은 점검중이라 운행하고 있지 않아요.\n",
      "최종 sen:  지금 앉아서 타는 곳은 운행 중이지만 서서타는 곳은 점검중이라 운행하고 있지 않아요\n",
      "9월쯔음엔 서서 타는 곳 역시 운행 한다고 합니다 !!\n",
      "최종 sen:  9월쯔음엔 서서 타는 곳 역시 운행 한다고 합니다\n",
      "서서 탈 수 있는 분들 ,, 진짜 강심장 ㅇㅈㅇㅈ ! 오늘은 오월드의 놀이기구를 본격 탐구해보는 시간을 가졌습니다 !\n",
      "최종 sen:  서서 탈 수 있는 분들 진짜 강심장 오늘은 오월드의 놀이기구를 본격 탐구해보는 시간을 가졌습니다\n",
      "이 밖에도 어린친구들이 좋아할 만한 놀이기구도 더 많아요 !!!\n",
      "최종 sen:  이 밖에도 어린친구들이 좋아할 만한 놀이기구도 더 많아요\n",
      "(바나나 점프, 무지개 풍선, 보물섬, 꼬마비행기 등등) 오늘 하루만큼은 아무 생각 없이 오월드에서 어린아이가 되어보는 거 어떠세요 ??\n",
      "최종 sen:  오늘 하루만큼은 아무 생각 없이 오월드에서 어린아이가 되어보는 거 어떠세요\n",
      "이상 대전 오 ! 월드 였습니다\n",
      "최종 sen:  이상 대전 오 월드 였습니다\n",
      "*^.^*7\n",
      "최종 sen:  7\n",
      "한남 렌트카 베스트 오브 베스트 렌트드림 앱!안녕하세요?\n",
      "최종 sen:  한남 렌트카 베스트 오브 베스트 렌트드림 앱안녕하세요\n",
      "갑작스럽게 여행을 가는 바람에집에 한 대 있는 차를 가족들과 제대로 스케쥴을 맞추지 못해 동동거리다가 알게 된한남 렌트카였는데 직접 이용하고 보니지금까지 몇 번 이용했던 업체보다 훨씬마음이 편하고 간편하여 공유하려고 해요.\n",
      "최종 sen:  갑작스럽게 여행을 가는 바람에집에 한 대 있는 차를 가족들과 제대로 스케쥴을 맞추지 못해 동동거리다가 알게 된한남 렌트카였는데 직접 이용하고 보니지금까지 몇 번 이용했던 업체보다 훨씬마음이 편하고 간편하여 공유하려고 해요\n",
      "한남 렌트카는 렌트드림을 앱을 통하여 알게 된 곳인데 쉽게 말해 앱이 업체와 손을 잡고조금 더 편하게 고객들에게 서비스를 제공하는 것이라고 보시면 돼요.\n",
      "최종 sen:  한남 렌트카는 렌트드림을 앱을 통하여 알게 된 곳인데 쉽게 말해 앱이 업체와 손을 잡고조금 더 편하게 고객들에게 서비스를 제공하는 것이라고 보시면 돼요\n",
      "게다가 쉽게 볼 수 없는 슈퍼카나 수입차도 취급하여 정말 마음 편하게 원하는 차를 고를 수 있는 절호의 기회예요.\n",
      "최종 sen:  게다가 쉽게 볼 수 없는 슈퍼카나 수입차도 취급하여 정말 마음 편하게 원하는 차를 고를 수 있는 절호의 기회예요\n",
      "앱을 이용하려고 회원 가입하는 방법도너무 간단하여 약간 얼떨떨했는데굳이 하나하나 입력하지 말고기존에 사용하던 카카오톡이나 페이스북, 네이버와 연동시키면 회원 가입이 완료돼요.\n",
      "최종 sen:  앱을 이용하려고 회원 가입하는 방법도너무 간단하여 약간 얼떨떨했는데굳이 하나하나 입력하지 말고기존에 사용하던 카카오톡이나 페이스북 네이버와 연동시키면 회원 가입이 완료돼요\n",
      "동네에서 차 한 대 빌리려고 하여도 까다로운 곳은 여러 서류를 요구하는데이곳은 면허증 한 장면 모든 것에오케이 사인이 떨어져요.\n",
      "최종 sen:  동네에서 차 한 대 빌리려고 하여도 까다로운 곳은 여러 서류를 요구하는데이곳은 면허증 한 장면 모든 것에오케이 사인이 떨어져요\n",
      "한남 렌트카를 이용하려면 당연하게자신이 차를 이용할 날짜와 차종을 골라야 해요.\n",
      "최종 sen:  한남 렌트카를 이용하려면 당연하게자신이 차를 이용할 날짜와 차종을 골라야 해요\n",
      "이렇게 고르고 나면 구글 GPS 위치기반 서비스를 통하여자신이 있는 곳에서 가장 가까운 곳을 안내해 줘요.\n",
      "최종 sen:  이렇게 고르고 나면 구글 위치기반 서비스를 통하여자신이 있는 곳에서 가장 가까운 곳을 안내해 줘요\n",
      "앱에서 여러 할인 쿠폰을 받은 후 한남 렌트카를 이용하면 더 저렴하게 이용할 수 있어요.\n",
      "최종 sen:  앱에서 여러 할인 쿠폰을 받은 후 한남 렌트카를 이용하면 더 저렴하게 이용할 수 있어요\n",
      "차를 실제로 보지 못하고 인수해야 해서조금은 걱정했는데 오히려차를 인계해 주시는 분이 너무 친절하고 꼼꼼하게 설명해 주셔서 훨씬 마음이 편했어요.\n",
      "최종 sen:  차를 실제로 보지 못하고 인수해야 해서조금은 걱정했는데 오히려차를 인계해 주시는 분이 너무 친절하고 꼼꼼하게 설명해 주셔서 훨씬 마음이 편했어요\n",
      "물론 보험 등은 신경을 쓸 필요도 없었고요!!!\n",
      "최종 sen:  물론 보험 등은 신경을 쓸 필요도 없었고요\n",
      "안드로이드 플레이스토어애플 앱스토어앱 다운은 위 사진을 누르면 바로 다운로드가 가능합니다!\n",
      "최종 sen:  안드로이드 플레이스토어애플 앱스토어앱 다운은 위 사진을 누르면 바로 다운로드가 가능합니다\n",
      "안드로이드 버전과 iOS버젼이 있으니 각자 휴대폰에 맞춰 렌트드림 앱  다운로드 하시면 될것같아요!!\n",
      "최종 sen:  안드로이드 버전과 버젼이 있으니 각자 휴대폰에 맞춰 렌트드림 앱 다운로드 하시면 될것같아요\n",
      "└ 접기\n",
      "최종 sen:  접기\n",
      "﻿시댁이 대전이라금요일 오후에 다같이 갔다가 주말에 아이들과 함께대전 오월드 다녀왔어요.\n",
      "최종 sen:  시댁이 대전이라금요일 오후에 다같이 갔다가 주말에 아이들과 함께대전 오월드 다녀왔어요\n",
      "요즘 핫하다고 들어서 토욜은 애들 데리고 다녀왔죠.\n",
      "최종 sen:  요즘 핫하다고 들어서 토욜은 애들 데리고 다녀왔죠\n",
      "아이들이 놀이공원을 엄청 좋아하거든요.\n",
      "최종 sen:  아이들이 놀이공원을 엄청 좋아하거든요\n",
      "특히나 오월드의 경우에는어트랙션도 있긴 하지만보다 아이들 수준에 찰떡이구요~그보다도 사파리나 버드랜드플라워랜드 이런 식으로눈으로 볼 거리들이 상당히 많다는어마어마한 특징이 있어서애 딸려서 놀러가는 놀이공원 중단연 잘나가는 곳이랍죠 ㅎㅎ그냥 무계획으로 들이댔긴 하지만그래도 대전 오월드 자유이용권 같은 건좀 미리 할인구매해서 가는 게최소한의 예의-_-일 것 같아서할인 찾아봤는데 사실 별거 없더래요ㅜ난 또 롯월처럼 카드로 엄청나게할인해 주는지 알았지 ㅎㅎㅎ그래도 전에 롯월 갈 때 썼던가격비교앱으로 할인 최저가 사거앱 자체 추가할인이랑 청구할인 받아서룰루랄라 싸게 다녀왔답니다 ㅎㅎ\n",
      "최종 sen:  특히나 오월드의 경우에는어트랙션도 있긴 하지만보다 아이들 수준에 찰떡이구요그보다도 사파리나 버드랜드플라워랜드 이런 식으로눈으로 볼 거리들이 상당히 많다는어마어마한 특징이 있어서애 딸려서 놀러가는 놀이공원 중단연 잘나가는 곳이랍죠 그냥 무계획으로 들이댔긴 하지만그래도 대전 오월드 자유이용권 같은 건좀 미리 할인구매해서 가는 게최소한의 예의_일 것 같아서할인 찾아봤는데 사실 별거 없더래요난 또 롯월처럼 카드로 엄청나게할인해 주는지 알았지 그래도 전에 롯월 갈 때 썼던가격비교앱으로 할인 최저가 사거앱 자체 추가할인이랑 청구할인 받아서룰루랄라 싸게 다녀왔답니다\n",
      "거의 반이 퉁쳐지는 예술~ ㅎ도착!자유이용권으로는 뭐든지 할 수 있쥬 ㅎ하여강 날씨는 무진장 좋은요새 5월 하루하루입니다.\n",
      "최종 sen:  거의 반이 퉁쳐지는 예술 도착자유이용권으로는 뭐든지 할 수 있쥬 하여강 날씨는 무진장 좋은요새 5월 하루하루입니다\n",
      "딱 봐도 유아틱하게 꾸며놨쥬? ㅎㅎ더 나아가면 꽃과 새가 있구요.\n",
      "최종 sen:  딱 봐도 유아틱하게 꾸며놨쥬 더 나아가면 꽃과 새가 있구요\n",
      "코끼리와 호랑이가 있어요 ㅎㅎ\n",
      "최종 sen:  코끼리와 호랑이가 있어요\n",
      "일단 넓기도 엄청 넓어서걸어다니다 보면 어느샌가다리 근육도 튼튼해져 있음!! ㅋ\n",
      "최종 sen:  일단 넓기도 엄청 넓어서걸어다니다 보면 어느샌가다리 근육도 튼튼해져 있음\n",
      "오늘따라 이렇게 구름이 하늘에종종종 보송하니 있고 말이죠.\n",
      "최종 sen:  오늘따라 이렇게 구름이 하늘에종종종 보송하니 있고 말이죠\n",
      "하늘은 엄청 하늘색이쥬 ㅎㅎ특히나 전체적으로 숲에갇혀 있는 상태이다\n",
      "최종 sen:  하늘은 엄청 하늘색이쥬 특히나 전체적으로 숲에갇혀 있는 상태이다\n",
      "보니이건 뭐 공기가 캬아~~ ㅋㅋ찾아온 사람들은아직 이른 시간인데도어느새 좀 많답니다 ㅎㅎ\n",
      "최종 sen:  보니이건 뭐 공기가 캬아 찾아온 사람들은아직 이른 시간인데도어느새 좀 많답니다\n",
      "아직까지 막 휴가철은 아니라서그렇게 미어터지지는 않아서나름 한가하게 돌아다닐만은 해유.그리고 대전에도 사람들이엄청 많이 살고들 있으니까저희야 서울에서 여행으로 온 거지요기 분들은 그래도 종종 오실 듯요~하긴 생각해 보면제가 서울산다고롯월 맨날 가는 건 아니긴 하니까-_- 와 정말 5월은 계절의 여왕이라고 하잖아요.\n",
      "최종 sen:  아직까지 막 휴가철은 아니라서그렇게 미어터지지는 않아서나름 한가하게 돌아다닐만은 해유그리고 대전에도 사람들이엄청 많이 살고들 있으니까저희야 서울에서 여행으로 온 거지요기 분들은 그래도 종종 오실 듯요하긴 생각해 보면제가 서울산다고롯월 맨날 가는 건 아니긴 하니까_ 와 정말 5월은 계절의 여왕이라고 하잖아요\n",
      "대전도 역시 녹음이 푸르른~ 숨 쉬기가 편안한 느낌도 들더라고요.\n",
      "최종 sen:  대전도 역시 녹음이 푸르른 숨 쉬기가 편안한 느낌도 들더라고요\n",
      "아무래도 서울보단 대전 공기가 좋겠죠?\n",
      "최종 sen:  아무래도 서울보단 대전 공기가 좋겠죠\n",
      "아, 그게 그거라구요? ㅋㅋ\n",
      "최종 sen:  아 그게 그거라구요\n",
      "그래도 조금은 낫겠죠\n",
      "최종 sen:  그래도 조금은 낫겠죠\n",
      "뭐 ㅎㅎ아이들도 이런 곳에 살아야 하는데 ㅠㅠ자주 놀라오는 것으로라도…그래도 탁트인 배경은 너무 좋아요.\n",
      "최종 sen:  뭐 아이들도 이런 곳에 살아야 하는데 자주 놀라오는 것으로라도그래도 탁트인 배경은 너무 좋아요\n",
      "바닥도 엄청 깨끗한 편이구요.\n",
      "최종 sen:  바닥도 엄청 깨끗한 편이구요\n",
      "숲냄새 자연냄새가 그대로에요\n",
      "최종 sen:  숲냄새 자연냄새가 그대로에요\n",
      "여긴 ㅎㅎ오월드 마스코트도 만나구요~여긴 참 좋은 게그냥 아이들 좋아하는뽀로로나 또봇 같은 걸마스코트라고 우겨 넣어 놓은 게 아니라;;;본연의 캐릭터가 있고또 귀엽다는 점이 있죠.\n",
      "최종 sen:  여긴 오월드 마스코트도 만나구요여긴 참 좋은 게그냥 아이들 좋아하는뽀로로나 또봇 같은 걸마스코트라고 우겨 넣어 놓은 게 아니라본연의 캐릭터가 있고또 귀엽다는 점이 있죠\n",
      "엄청 아이덴티티 넘쳐나는 곳이라는 ㅎ아이들이 아직은 조금 어린 편이어서주로 꽃이나 동물..이런 즐길거리, 볼거리 위주로 보는 편인데 사실 다른 놀이공원은 어트랙션이 위주고 볼거리가 부차적인 경우가 많잖아요.\n",
      "최종 sen:  엄청 아이덴티티 넘쳐나는 곳이라는 아이들이 아직은 조금 어린 편이어서주로 꽃이나 동물이런 즐길거리 볼거리 위주로 보는 편인데 사실 다른 놀이공원은 어트랙션이 위주고 볼거리가 부차적인 경우가 많잖아요\n",
      "근데 여긴 볼거리 위주로 너무 잘 돼있더라고요.\n",
      "최종 sen:  근데 여긴 볼거리 위주로 너무 잘 돼있더라고요\n",
      "지나가는 길에 살짝 본 플라워랜드!꽃 만발해 주십니다 ㅎ\n",
      "최종 sen:  지나가는 길에 살짝 본 플라워랜드꽃 만발해 주십니다\n",
      "여기도 이따가 들를 예정이니까잠깐 가이드맵 좀 보구요~~~ ㅎ사실 정해진 동선 이런 건 없어요.\n",
      "최종 sen:  여기도 이따가 들를 예정이니까잠깐 가이드맵 좀 보구요 사실 정해진 동선 이런 건 없어요\n",
      "오히려 동선 낭비를 하면 할수록재밌고 즐거운 게 놀이공원이 맛이죠.\n",
      "최종 sen:  오히려 동선 낭비를 하면 할수록재밌고 즐거운 게 놀이공원이 맛이죠\n",
      "근데 적어도 여기는뭔가 롯월처럼 미로로 된 게 아니라빵 트여서 이정표가 명확해서콕 찝어 저기 가자!!\n",
      "최종 sen:  근데 적어도 여기는뭔가 롯월처럼 미로로 된 게 아니라빵 트여서 이정표가 명확해서콕 찝어 저기 가자\n",
      "와르르~~이럴 수가 있거든요 ㅎㅎ\n",
      "최종 sen:  와르르이럴 수가 있거든요\n",
      "그나마 큰 애가 놀이기구를 좋아해서 일단 어트랙션 하나 타고 플라워랜드는 잠시 후에~~요 와일드스톰은그래도 좀 어른 타기에도좀 무서운 거긴 해요. ㅎ\n",
      "최종 sen:  그나마 큰 애가 놀이기구를 좋아해서 일단 어트랙션 하나 타고 플라워랜드는 잠시 후에요 와일드스톰은그래도 좀 어른 타기에도좀 무서운 거긴 해요\n",
      "뭐 저야 워낙 좋아라 하니까열심히 타고 다녔지만서도남의편님은 또 구경만 하시네요.\n",
      "최종 sen:  뭐 저야 워낙 좋아라 하니까열심히 타고 다녔지만서도남의편님은 또 구경만 하시네요\n",
      "속상하다;;; 아;;;;요건 일종의 후룸라이드 ㅎㅎ여기 위치가 사진 각도 예술이에요 ㅎ\n",
      "최종 sen:  속상하다 아요건 일종의 후룸라이드 여기 위치가 사진 각도 예술이에요\n",
      "누구들이냐고요?\n",
      "최종 sen:  누구들이냐고요\n",
      "나도 몰라요-_-그냥 재밌게 노는 총각들 ㅋㅋㅋ대전 오월드에는 버드랜드가 유명하죠.\n",
      "최종 sen:  나도 몰라요_그냥 재밌게 노는 총각들 대전 오월드에는 버드랜드가 유명하죠\n",
      "다양한 새와 특이한 식물들을 한곳에서 볼 수 있는 정말 환상적인 버드체험 테마파크!먹이도 직접 주고 사진도 같이 찍을 수 있어서 아이들에게 진짜 좋겠더라고요.\n",
      "최종 sen:  다양한 새와 특이한 식물들을 한곳에서 볼 수 있는 정말 환상적인 버드체험 테마파크먹이도 직접 주고 사진도 같이 찍을 수 있어서 아이들에게 진짜 좋겠더라고요\n",
      "부리로 찍을 때마다행여나 따끔따끔하지 않을까좀 걱정했는데 그냥 간질간질 ㅋㅋ그리고 뾱뾱 우는 게 넘나 이쁨요 ㅎ갑자기 캐리비안이 떠올라서어깨에 누가 좀 안 앉으려나 했는데요\n",
      "최종 sen:  부리로 찍을 때마다행여나 따끔따끔하지 않을까좀 걱정했는데 그냥 간질간질 그리고 뾱뾱 우는 게 넘나 이쁨요 갑자기 캐리비안이 떠올라서어깨에 누가 좀 안 앉으려나 했는데요\n",
      "새들도 좀 먹고 살아야 하는지그 정도까지 해 주지는 않네요;;;\n",
      "최종 sen:  새들도 좀 먹고 살아야 하는지그 정도까지 해 주지는 않네요\n",
      "흐으;;;버드랜드 말고 쥬랜드(사파리)도 따로 있는데 펭귄은 버드랜드에 있어요~펭귄 좋아하는 아이들을 위해서요건 꼭 구분해놓으셔야 할 듯!사실 뭐 새도 동물이긴 한데;;; ㅋㅋ놀이공원의 꽃이죠.\n",
      "최종 sen:  흐으버드랜드 말고 쥬랜드도 따로 있는데 펭귄은 버드랜드에 있어요펭귄 좋아하는 아이들을 위해서요건 꼭 구분해놓으셔야 할 듯사실 뭐 새도 동물이긴 한데 놀이공원의 꽃이죠\n",
      "회전목마도 한 번 타주고~요건 정말 작은 애 앉고 타기에도너무 좋고 애가 너무 좋아한다는;;아직 뭐 어트랙션 중 심각한거 탈 정도나이도 아니고 키도 아니라보통 프리미엄아울렛 같은 데에놀러가도 꼭 회전목마 타자 보채는데여기에서 정말 제대로 된 걸로 탔다는 ㅎ여기가 바로 처음에 이야기 했던플라워랜드랍니다!\n",
      "최종 sen:  회전목마도 한 번 타주고요건 정말 작은 애 앉고 타기에도너무 좋고 애가 너무 좋아한다는아직 뭐 어트랙션 중 심각한거 탈 정도나이도 아니고 키도 아니라보통 프리미엄아울렛 같은 데에놀러가도 꼭 회전목마 타자 보채는데여기에서 정말 제대로 된 걸로 탔다는 여기가 바로 처음에 이야기 했던플라워랜드랍니다\n",
      "그런데 이 규모가 정말 어마어마합니다.\n",
      "최종 sen:  그런데 이 규모가 정말 어마어마합니다\n",
      "저랑 남편이랑 애들이랑 다들 깜놀. 서울에 있는 그곳과는 정말 다르더라고요.\n",
      "최종 sen:  저랑 남편이랑 애들이랑 다들 깜놀 서울에 있는 그곳과는 정말 다르더라고요\n",
      "조선시대에 있을법한 전통정원도 있고 지금은 튤립축제기간~허브정원에 야생초나 습지식물을따로 관리하고 있어서 애들 체험학습용으로 제격이었어요.\n",
      "최종 sen:  조선시대에 있을법한 전통정원도 있고 지금은 튤립축제기간허브정원에 야생초나 습지식물을따로 관리하고 있어서 애들 체험학습용으로 제격이었어요\n",
      "놀듯이 공부 많이 했다는 ㅎㅎ그냥 식물원을 가더라도큰 곳을 가야이 정도 규모이지 않을까 싶네요.\n",
      "최종 sen:  놀듯이 공부 많이 했다는 그냥 식물원을 가더라도큰 곳을 가야이 정도 규모이지 않을까 싶네요\n",
      "플라워랜드 내에 큰 저수지?\n",
      "최종 sen:  플라워랜드 내에 큰 저수지\n",
      "가 있어서 분수쇼도 하더라고요.\n",
      "최종 sen:  가 있어서 분수쇼도 하더라고요\n",
      "여기는 앉아 구경하면서 힐링하기 좋고막 오후에 햇빛 찌르고 그럴 때시원하니 있기 좋아요.\n",
      "최종 sen:  여기는 앉아 구경하면서 힐링하기 좋고막 오후에 햇빛 찌르고 그럴 때시원하니 있기 좋아요\n",
      "그냥 분수대라면애들이 막 물 맞고 꺅꺅 좋아하고 할 텐데여긴 들어가면 절대 안 됨-_-!!!!그래도 근처에 있으면 시원하고바람불면 간간히 물이 찰박찰박 튀어 주고그냥 한바퀴 산책하기에도 좋아요 ㅎㅎ\n",
      "최종 sen:  그냥 분수대라면애들이 막 물 맞고 꺅꺅 좋아하고 할 텐데여긴 들어가면 절대 안 됨_그래도 근처에 있으면 시원하고바람불면 간간히 물이 찰박찰박 튀어 주고그냥 한바퀴 산책하기에도 좋아요\n",
      "물론 여긴 특징상 하도 걸어야 하므로굳이 산책을 또 챙겨서 할 필요는 없지만;;;우리 남편님은 벌써부터 체력이 다하셨는지자꾸만 벤치에 앉으려고 하네요.\n",
      "최종 sen:  물론 여긴 특징상 하도 걸어야 하므로굳이 산책을 또 챙겨서 할 필요는 없지만우리 남편님은 벌써부터 체력이 다하셨는지자꾸만 벤치에 앉으려고 하네요\n",
      "확 버리고 가려다가 말았음 ㅋㅋ\n",
      "최종 sen:  확 버리고 가려다가 말았음\n",
      "플라워랜드, 버드랜드에 이어 대전 오월드의 하이라이트!바로 쥬랜드! 사파리입니다!\n",
      "최종 sen:  플라워랜드 버드랜드에 이어 대전 오월드의 하이라이트바로 쥬랜드 사파리입니다\n",
      "용인에 있는 어느 곳과 비교해도그냥 스케일이 달라요 ㅎㅎㅎ요긴 아프리카가 나름 컨셉이라아프리카 사파리인데요.\n",
      "최종 sen:  용인에 있는 어느 곳과 비교해도그냥 스케일이 달라요 요긴 아프리카가 나름 컨셉이라아프리카 사파리인데요\n",
      "솔직히 뭐 온갖 친근한 동물들은다 아프리카 출신이라 봐도무방하니까 ㅎㅎㅎ코끼리 ㅎㅎㅎ 여기 쥬랜드에는 900여마리 동물이 살고 있고요.\n",
      "최종 sen:  솔직히 뭐 온갖 친근한 동물들은다 아프리카 출신이라 봐도무방하니까 코끼리 여기 쥬랜드에는 900여마리 동물이 살고 있고요\n",
      "호랑이, 수달, 물개, 늑대에게먹이주기 이벤트도 시간별로 있어서 미리 시간대 확인하면진짜 재밌게 즐기실 수 있어요.\n",
      "최종 sen:  호랑이 수달 물개 늑대에게먹이주기 이벤트도 시간별로 있어서 미리 시간대 확인하면진짜 재밌게 즐기실 수 있어요\n",
      "예전처럼 그냥 우리 밖에서구경만 하는 게 아니라실제로 먹이 주고 교감하고 쓰담하고그런 시스템을 갖춰 놨답니다.\n",
      "최종 sen:  예전처럼 그냥 우리 밖에서구경만 하는 게 아니라실제로 먹이 주고 교감하고 쓰담하고그런 시스템을 갖춰 놨답니다\n",
      "물론 쓰담쓰담하는 대상이사자나 호랑이는 아니겠지만 ㄷㄷㄷㄷ하품하는 사자 ㅎㅎ막내가 사자가 많이 피곤한 것 같다고 걱정까지 해주더라고요.\n",
      "최종 sen:  물론 쓰담쓰담하는 대상이사자나 호랑이는 아니겠지만 하품하는 사자 막내가 사자가 많이 피곤한 것 같다고 걱정까지 해주더라고요\n",
      "아들아… 엄마도 피곤해 ㅎㅎ 근데 전 하도 같이 신나기도 하고또 애들 계속 챙기면서 다니려니까이거 하품도 안 나네요. ㅋㅋ\n",
      "최종 sen:  아들아 엄마도 피곤해 근데 전 하도 같이 신나기도 하고또 애들 계속 챙기면서 다니려니까이거 하품도 안 나네요\n",
      "아마 시댁에 도착하면바로 앓아눕겠지;;; ㅋㅋ 암튼 저희는 버드랜드, 쥬랜드,플라워랜드 위주로 즐겼는데 바이킹이나 자이언트드롭, 후룸라이드 등등어트랙션도 진짜 다양하니까 대전 올 일 있는 분들은꼭 한 번 들려보심 좋을 것 같아요.\n",
      "최종 sen:  아마 시댁에 도착하면바로 앓아눕겠지 암튼 저희는 버드랜드 쥬랜드플라워랜드 위주로 즐겼는데 바이킹이나 자이언트드롭 후룸라이드 등등어트랙션도 진짜 다양하니까 대전 올 일 있는 분들은꼭 한 번 들려보심 좋을 것 같아요\n",
      "대전 오월드 자유이용권의 경우에도할인 이런저런 거 다 받으면엄청 갈 만한 가격이 되다\n",
      "최종 sen:  대전 오월드 자유이용권의 경우에도할인 이런저런 거 다 받으면엄청 갈 만한 가격이 되다\n",
      "보니까그렇게 부담도 없을 것 같고요.\n",
      "최종 sen:  보니까그렇게 부담도 없을 것 같고요\n",
      "서울에서 차로 온다 해도또 그렇게까지엄청 녹초되는 거리도 아니라 ㅎ 싸게 다녀왔다고 엄청 잘 놀았다고그냥 자랑만 하고 가기 뭐해서;할인 구매좌표도 같이 쏘고 갈게요.\n",
      "최종 sen:  서울에서 차로 온다 해도또 그렇게까지엄청 녹초되는 거리도 아니라 싸게 다녀왔다고 엄청 잘 놀았다고그냥 자랑만 하고 가기 뭐해서할인 구매좌표도 같이 쏘고 갈게요\n",
      "개인적으로는 어디 놀러갈 때 종종 써요.\n",
      "최종 sen:  개인적으로는 어디 놀러갈 때 종종 써요\n",
      "특히나 제휴카드할인 같은 거 없으면특히나 유용하다는 ㅎ앱추가할인+청구할인+이벤트할인 등앱에 있는 것만 받아도기대 이상으로 싸게 가실 수 있을 거에요~ ㅎ할인 꺼리 없으신 분들은 참고하시고~아래에 앱 링크도 같이 공유 드리니까요번에 다녀오실 분들은 활용해 보세용~>> 대전 오월드 할인 앱추가혜택으로 받기!\n",
      "최종 sen:  특히나 제휴카드할인 같은 거 없으면특히나 유용하다는 앱추가할인청구할인이벤트할인 등앱에 있는 것만 받아도기대 이상으로 싸게 가실 수 있을 거에요 할인 꺼리 없으신 분들은 참고하시고아래에 앱 링크도 같이 공유 드리니까요번에 다녀오실 분들은 활용해 보세용 대전 오월드 할인 앱추가혜택으로 받기\n"
     ]
    },
    {
     "name": "stderr",
     "output_type": "stream",
     "text": [
      "\n"
     ]
    }
   ],
   "source": [
    "# dataframe 각 행내 리스트로 된 문장 단위 글에 정규표현식 적용\n",
    "for i in tqdm(range(len(data_df))):\n",
    "    data_list = data_df['text'].iloc[i]\n",
    "    data_df['text'].iloc[i] = list(map(senPreprocessing, data_list)) "
   ]
  },
  {
   "cell_type": "code",
   "execution_count": 51,
   "id": "51bd5568",
   "metadata": {
    "scrolled": true
   },
   "outputs": [
    {
     "name": "stdout",
     "output_type": "stream",
     "text": [
      "10\n",
      "0번째 문장: 2019대전 20개월 아기와 함께 당일치기 여행 첫차를 산 동생에게 친절한 형부가 탁송서비스를 해주기로 했다\n",
      "1번째 문장: 처음엔 카의 탁송서비스를 이용할 생각이었으나 주행도 해보고 내부 정리도 조금 해야 될 것 같아서그리고 구매 지점이 우리집과 가까워서 일단 집으로 차를 가져왔었다\n",
      "2번째 문장: 덕분에 떠나게 된 대전여행나들이 좋아하는 루아는 신바람이 났다\n",
      "3번째 문장: 늘 들르는 송산포도 휴게소에서 아침 겸 점심을 먹고 젤리도 조금 사고 아빠는 또 야구게임도 좀 하고 아홉시부터 나섰더니 길막힘 없이 수월하게 대전까지 도착했다\n",
      "4번째 문장: 20개월의 루아는 여전히 떼를 쓰는 시기지만 말을 알아들으니 달랠 수도 있게 되었다\n",
      "5번째 문장: 이건 먹는게 아니야 지지야 맘마먹고 놀이터가자 추우니까 옷입고 놀자덕분에 요즘 외출도 여행도 훨씬 수월하고 즐겁다\n",
      "...\n"
     ]
    }
   ],
   "source": [
    "# 문장별로 확인 \n",
    "test_list = data_df['text'].iloc[0]\n",
    "print(len(test_list)) # 문장 개수\n",
    "\n",
    "for i in range(len(test_list)): # 5문장 정도만 내용 확인\n",
    "    print(f'{i}번째 문장: {test_list[i]}')\n",
    "    if i == 5: \n",
    "        print('...')\n",
    "        break"
   ]
  },
  {
   "cell_type": "code",
   "execution_count": 52,
   "id": "5536e195",
   "metadata": {},
   "outputs": [
    {
     "name": "stdout",
     "output_type": "stream",
     "text": [
      "그랬습니다.\n"
     ]
    }
   ],
   "source": [
    "# 맺음말?에 해당하는 경우 .를 붙여줍니다.\n",
    "sent ='그랬습니다' \n",
    "if sent[-1] in ['다', '요', '죠', '오', '자', '라', '가', '네']:\n",
    "    print(sent + '.')"
   ]
  },
  {
   "cell_type": "code",
   "execution_count": 53,
   "id": "340ec1a9",
   "metadata": {},
   "outputs": [],
   "source": [
    "def dotAdd(sen):\n",
    "    for end in ['다', '요', '죠', '오', '자', '라', '가', '네', '나', '까']:\n",
    "        if sen.endswith(end):\n",
    "            sen = sen + '.'\n",
    "    return sen"
   ]
  },
  {
   "cell_type": "code",
   "execution_count": 54,
   "id": "21a7b1ec",
   "metadata": {},
   "outputs": [
    {
     "data": {
      "text/plain": [
       "['리플코인 전망 코인의민족 제대로네여러분들은 암호화폐에 대한 정보를 어디서얻고 계시나요.',\n",
       " '저도 처음에는 여기저기 다양한 사이트를 다니면서 눈팅으로 리플코인 전망에 대한 정보를입수하곤 했는데요.',\n",
       " '그렇게 눈팅만 하다 보니 제대로 된 정보를 얻지못하는 경우가 발생을 해서 결국 한 곳에 정착을하고자 사이트를 알아보게 되었는데요.',\n",
       " '그렇게 알아보고 선택을 한 곳이 바로 코인의 민족입니다.',\n",
       " '이 사이트는 가입시 시즈코인 50개를 에어드랍할 수 있어서 좋더라구요.']"
      ]
     },
     "execution_count": 54,
     "metadata": {},
     "output_type": "execute_result"
    }
   ],
   "source": [
    "list(map(dotAdd, data_df['text'].iloc[i]))[:5]"
   ]
  },
  {
   "cell_type": "code",
   "execution_count": 55,
   "id": "bd039f42",
   "metadata": {
    "scrolled": false
   },
   "outputs": [
    {
     "name": "stderr",
     "output_type": "stream",
     "text": [
      "100%|██████████| 14/14 [00:00<00:00, 3298.89it/s]\n"
     ]
    }
   ],
   "source": [
    "for i in tqdm(range(len(data_df))):\n",
    "    data_list = data_df['text'].iloc[i]\n",
    "    data_df['text'].iloc[i] = list(map(dotAdd, data_list)) "
   ]
  },
  {
   "cell_type": "code",
   "execution_count": 56,
   "id": "83cde084",
   "metadata": {
    "collapsed": true
   },
   "outputs": [
    {
     "name": "stdout",
     "output_type": "stream",
     "text": [
      "0번째 데이터: ['2019대전 20개월 아기와 함께 당일치기 여행 첫차를 산 동생에게 친절한 형부가 탁송서비스를 해주기로 했다.', '처음엔 카의 탁송서비스를 이용할 생각이었으나 주행도 해보고 내부 정리도 조금 해야 될 것 같아서그리고 구매 지점이 우리집과 가까워서 일단 집으로 차를 가져왔었다.', '덕분에 떠나게 된 대전여행나들이 좋아하는 루아는 신바람이 났다.', '늘 들르는 송산포도 휴게소에서 아침 겸 점심을 먹고 젤리도 조금 사고 아빠는 또 야구게임도 좀 하고 아홉시부터 나섰더니 길막힘 없이 수월하게 대전까지 도착했다.', '20개월의 루아는 여전히 떼를 쓰는 시기지만 말을 알아들으니 달랠 수도 있게 되었다.', '이건 먹는게 아니야 지지야 맘마먹고 놀이터가자 추우니까 옷입고 놀자덕분에 요즘 외출도 여행도 훨씬 수월하고 즐겁다.', '한 번만의 의미도 이해해주면 좋겠는데이건 일부러 안 배우는 걸까.', '으리으리한 둔산동 파스쿠찌우리와 연이 깊었던 대전 파스쿠찌 젤라또 아이스크림 한 컵을 주니 루아는 또 세상 행복해했다 나나 곰돌이는 달달한 간식을 싫어하는 편인데 루아가 너무 행복해하니 가끔 뭐가 저렇게 좋을까 싶은 생각도 든다 어릴 땐 이렇게 아이스크림을 좋아했었겠지 동생에게 차를 전달하고 약간의 기능 설명과 주행을 해본 후 헤어졌다 겁을 먹은듯한 동생 연수 꼭 잘 받아서 안전운전하길 이제 주말에 여유 생길 테니 자주 볼 수 있으면 좋겠다2019대전 20개월 아기와 함께 당일치기여행 오월드대전에 온 김에 궁금했던 오월드에 들러보기로 했다우리의 목적은 사파리였기에 입구에서 입장권만 끊고 안에서 사파리를 따로 끊었는데구경하다 보니 자유이용권을 끊을 걸 그랬나 후회했다 생각보다 유아가 탈만한 놀이기구가 많았고 개별 이용권 구매 시 생각보다 가격이 비쌌다입장권 성인 12000인사파리 성인6000인운영시간놀이기구 어린이 탑승 제한들어가자마자 사파리로 직행 루아는 지난 5월 에버랜드 사파리에 이어 두 번째 사파리 방문이데5월의 에버랜드는 조금 빨리 찾아온 더위와 많은 인파와 긴 줄 때문에 너무 힘들었었다그에 비하면 40여 분의 대기와 선선한 날씨곰 호랑이 사자 기린 타조 얼룩말생각보다 동물도 많아서 여기 오길 참 잘했다고 생각했다 잘 기다려줘서 고마워곰에 집중아빠가 싫어할 것 같은 급 가족사진어흥어흥에버랜드 때와 달리 동물들에게 굉장히 집중하고 흉내를 내가며 너무 즐거워했다 5개월 사이에 이렇게 자랐구나인생첫 놀이기구 칙칙폭폭 기차여행 줄 서 있을 땐 안 탄다고 발버둥 치더니 출발하자 조금 놀란 눈치였고 내릴 때는 안 내린다고 떼를 썼다 달래는 엄마 마음도 참 아쉬웠단다오늘 사진은 왜 다 눈을 감은 건지 컨셉이었니 성공적이었던 오월드 방문기 2시간 남짓한 짧은 시간이었지만 알차고 좋았다 저녁은반갱 대전 퓨전 한식 레스토랑 반갱 20개월 아기와 다녀온 후기 카테고리는 직접 알아보고 이용한 서비스에 직접 비용을 지불한 깨끗한 후기만을 작성합니다.', '여여행의 끝에 맛집이 빠질 수는 없으니 정부청사 근처 반갱이라는 퓨전 한식집에서 푸짐한 저녁까지 먹고 를 타고 돌아왔다.', '2주 연속 끝까지 기운 넘치는 딸내미대전여행에 성심당은 필수']\n",
      "1번째 데이터: ['이번 달은 우리나라의 큰 명절 중 하나인 추석이 있는 달이랍니다.', '그렇기 때문에 추석 공연 볼만한 것들이여기 저기에서 많이 개최되는데요.', '그 중 한 곳 우리의 소리를 따라갈 수 있는 축제가 있다고 해서 저도 한번 가보려고 합니다.', '저는 음악과 관련된 축제를 평소에도 즐겨 보는 편인데이번 축제들은 특히나 추석 연휴에 맞춰서 열리기 때문에가족들과 시간을 보내거나 연인 친구와 함께 즐기기에도 너무 좋은 행사인 것 같더라구요.', '이번 서울시에서 운영하는 제1회 서울국악축제는9월 한 달간 서울 광장 북촌 일대남산국악당 돈화문국악당 과 같이 다양하게 즐길 수 있는추석 공연은 물론 다채로운 참여 행사까지 준비되어 있어서 어른은 물론 우리 아이들이 새로운 문화를 접할 수 있는 기회까지', '우선 9월 6일부터 8일까지 원서공원 북촌일대한옥에서 열리는 북촌우리음악축제를 시작으로 연이어 다양한 우리 국악 축제들이 열릴 예정이라고 하는데요.', '어떤 행사들이 있는지 한번 알아보도록 할까요.', '9월 6일부터 9일까지는오픈 더 돈화문이라는 공연이 열릴 예정입니다.', '저도 이 행사 개인적으로 진짜 가보고 싶어요소리를 담는 의미 국악을 담는 공간이라는 주제로우리의 음악을 사랑하고 그 가치를 알리고자 노력하는 분들인국악전문 음반사 레이블 소설과함께 진행되는 국악 토크콘서트랍니다.', '요즘에는 국악 관련된 공연이 많이 없어서 우리의 전통 소리를 접할 기회가 흔치 않잖아요.', '하지만 한번 들으면 그 매력에 흠뻑 빠지실 텐데요.', '시대가 변해도 질리지 않기 때문에오히려 요즘에는 젊은 층들에게 더 사랑받는 우리 가락이기도 하죠.', '추석연휴 가볼만한곳 찾고 계시는 분들은좀 색다르게 열리는 추석 공연 들의 발자취를 따라움직여 보는 재미도 있을 것 같은데요.', '서울남산국악당에서도 굉장히 다양한 행사들이 많이 열릴 예정이라고 해요.', '우선 첫째로 9월 14일에는 서울남산국악당 크라운해태홀에서천하제일 젊은 탈춤꾼들의 무도회인가장무도 행사도 열린다는 데요.', '사실 이런 행사 아니면 어디서 우리 전통 탈춤을 접할 수 있을까요.', '게다가 도심 속에서 느끼는 여유로운 힐링의 시간으로본격 누워 듣는 음악회도 개최될 예정이래요.', '요즘은 날도 선선하고 좋아서 가만히 누워서우리 소리와 함께 보낸다면 얼마나 좋을까요.', '이외에도 남산골을 들썩이게 만드는 연희집단 갱 부터남산골 한옥마을을 돌며 공연을 체험하는 신개념 국악투어 공연까지', '아주 다양하게 즐길 수 있으니 한번 가보시는 것도 좋을 것 같아요.', '국악을 쉽게 접하기 힘든 젊은 분들은국악대학생분들의 성장드라마 나만의 을 고르는 참여형 음악축제인 2019 국악대학전에 한번 가보시는 것도 좋을 것 같은데요.', '장르별 경합 공연으로 진행되기 때문에 시민들의 투표로가장 잘 했다고 생각되는 참가자를 선택하는 방식이라고 해요.', '마치 프로듀스 101같은 느낌이 들기도 하고이번 기회에 국악 계의 국민 프로듀서가 될 수 있는 기회 잡아 시는 것도 좋을 것 같아요그리고 서울 광장에서 열리는 추석 공연 메인 행사의 경우 9월 14일 15일에 진행 되는서울국악축제 국악이 칭칭 나네 라는 행사인데요.', '추석 기간에 공연은 물론 신해통공 마켓과 국악 유희촌국악 체험존 국악 알림터 등이 열리기 때문에한번 가면 시간 가는 줄 모르고 참여할 수 있다는 것이이번 행사의 가장 큰 장점인 것 같아요능동적으로 즐기는 축제 이기 때문에추석 공연을 찾으시는 분들께 더더욱 적합한 행사라고 할 수 있죠.', '뿐만 아니라 국악활성화를 위한 사업으로북촌과 도심을 걸으며 국악과 함께 둘레 여행을 떠나는 행사도 마련되어 있어서저도 한번 참여해볼까 생각 중이에요.', '평소에 북촌 한옥마을 가는 거 좋아하는 편인데우리의 소리와 함께 둘레길을 걷는다면 더욱 의미 있는 하루가 되지 않을까 싶네요.', '보통은 추석이 되면 전 부치고 제사를 지내고성묘를 다녀오고 술을 마시거나 집에서 빈둥빈둥 노는 경우가 많잖아요.', '이젠 그런 무의미한 시간 보다 가족들과 함께재미 있는 공연도 구경하고 부모님과 함께 할머니 할아버지와 함께 온 가족이 즐기는 시간을 가져 보는 것도 너무 좋을 것 같지 않나요.', '더군다나 제가 이 추석 공연 행사를 이렇게 추천하는 이유는 이렇게 다양한 행사를 참여할 수 있는 데 모든 게 무료로 진행된다는 것', '앉아서 공연만 보는 것도 아니고 여기저기 참여도 가능한데 무료라니어디 가서 돈 주고도 이런 행사 보기 힘들 거라고 자부합니다.', '진짜 제1회로 이번에 처음', '개최되는 추석 공연 축제인 만큼 서울시에서 그만큼 다양하고 많은 축제를 준비했는데요.', '평소에 접하기 힘든 국악으로 놀고 날고를 한 번에 할 수 있으며 신명 나는 가을 분위기에 취해가족뿐만 아니라 함께 온 사람들과 하나가 되어 축제를 즐길 수 있는 장이랍니다.', '게다가 이번 공연은 추석 뿐만 아니라9월 한달간 계속해서 진행되고 있기 때문에9월 6일부터 29까지 신명 나게우리의 소리를 즐길 수 있도록 마련되어 있답니다.', '보통은 미술이나 다른 음악의 자취를 따라서둘레 여행길을 떠나지만 이번에는 조금 특색 있게우리 민족 고유의 명절인 한가위에 국악을 들으며둘레길을 걷는다면 정말 기억에 남는 추석이 될 것 같아요.', '그리고 한 곳에서 고정적으로 진행되는 행사가 아니기 때문에서울의 곳곳을 둘러보며 다양한 국악인들과의 만남도 가능한데요.', '모든 음악이 그렇듯 국악 또한 한 종류가 아니기 때문이죠.', '어떤 종류가 있는지 알아볼 수 있고 배우고 체험할 시간도 가져볼 수 있답니다.', '9월 첫째 주는 고민하지 마시고 북촌으로 온 가족들과 손에 손을 맞잡고 국악축제 즐기러 가보세요.', '저도 이번 주말 가족 손에 손잡고 미리 명절 증후군 타파를 위해 신명 나는 소리를 들으러 갈 예정 이랍니다.', '첫째주는 북촌 둘째주는 서울광장셋째주는 돈화문국악당 넷째주는 남산국악당으로1주마자 스케줄 또한 아주 탄탄하게 준비되어 있죠.', '한 곳이 아니라 정말 둘레 여행처럼 다채롭게 진행이 되기 때문에 매주 와서 즐겨도 너무 좋을 것 같아요.', '국악 공연 보실 분들은 둘째주에 서울 광장으로 고고 원서공원에서 만나는 우리의 음악 국악다양한 악기 연주를 눈 앞에서 바로 볼 수 있고들을 수 있게 준비를 열심히 하고 있더라구요.', '첫째주는 민간축제로 북촌우리음악축제가 준비되어 있으니이번주부터 가볼만한 서울축제 하는 곳 찾으신다면9월6일부터 8일까지는 북촌창우극장으로 오세요.', '장소는 원서공원 북촌한옥 일대로 되어 있기 때문에 이 지표를 보시고 그대로 찾아 가셔서 자연스럽게 함께 즐기면 된답니다.', '금 토 일 3일간 진행되는 축제이기 때문에 주말동안 뭐 하지 고민하시지 말고 겸사겸사 서울 나들이 오시는 것도 좋은 방법 같아요.', '게다가 무료로 즐기는 행사니까 더 가벼운 마음으로 즐길 수 있을 것 같네요.', '솔직히 도심에서 국악을 볼 수 있을 거라는생각을 해본 적이 없기 때문에우리의 소리를 이렇게 가까이서 들을 수 있다는 건진짜 흔치 않은 기회라는 생각이 들어요.', '그렇기 때문에 이번 추석축제는 더더욱 저에게 있어서도 국민들에게 있어서도 큰 의미로 와 닿지 않을까 싶네요.', '그리고 대부분의 사람들은국악은 옛날 음악이라는 편견을 갖고 있을 텐데요.', '이번 국악 축제는 국악을 모태로 창작 국악월드 뮤직 등 다채로운 프로그램으로 구성되어 있기 때문에더더욱 추석에 가볼만한곳으로 추천되는 것 아닌가 싶어요.', '그 지역의 특수성을 활용한 공간도 준비가 되어 있기 때문에 서울 도심에서도 전통의 맛을 톡톡히 즐길 수 있게끔 만들어져 있답니다.', '연주하시는 분들 또한 세계 각지에서 활동하시는 분들이기 때문에 수준 높은 고퀄리티의 공연을 눈 앞에서 볼 수 있는 기회라는 것', '놓치기 정말 아깝죠.', '전통 음악 연주자들과 국내 관객 그리고 관광객들까지 하나가 되어서 소통할 수 있는 만남의 장 서울국악축제 우리의 소리가 대중화되는 이번 달은 너나할 것없이 다 함께 온 국민이 즐길 수 있는 축제가 되면 좋겠네요.', '셋째주에 돈화문에서 열리는 돈화문국악당의실내 공연과 야외공연 돈화문 투어 공연은세 가지로 나눠져 다양하게 준비가 되어 있다.', '보니지루할 틈이 하나도 없겠더라구요.', '국악은 졸리다 국악은 지루하다는 편견을 싹 깰 수 있는 행사인 것 같아요.', '국악의 맛 돈화문 나들이는서울돈화문국악당에서 개최가 되며9월 19일부터 29일까지 길게 진행되기 때문에명절 증후군 타파하러 신명 난 소리 찾아 가실 분들은꼭 한 번 와 보시라고 권해 드리고 싶은 소리 나들이네요.', '민간 축제로 국악대학전도 준비가 되어 있습니다.', '국악대학전은 남산국악당에서 진행이 되며국악 전공 대학생들이 서로 경연대회를 펼치는 것도 관람하실 수 있어요.', '넷째주는 남산국악당에서 열리는데 실내공연은 물론 야외공연과 남산 투어 공연까지 알차게 준비가 되어 있답니다.', '기타 학술 대회도 다양하게 준비가 되어 있고주요 거점에서는 국악 버스킹이라는 독특한 공연형태로 진행이 되게끔 실행이 되더라구요.', '국악 버스킹이라는 말 들어 보셨나요.', '일반적으로 우리들이 다 아는 인디 밴드공연이 아니라 우리의 소리로 자유롭게연주하는 버스킹 형태로 들어볼 수 있다는 것 자체가 색다른 경험이 되지 않을까 싶어요.', '저는 늘 국악 하면 티비에서만 접하고전통적인 마을에 가서도 듣기 힘든 교과서에서만 나오는 소리라고 생각 했는데이번에 서울에서 마련한 국악 행사로추석은 물론 추석 이후 까지도 소리의 매력에푹 빠져 있을 수 있는 아주 감성 넘치는 축제가 아닐까 싶어요 우리의 소리를 듣고 싶었지만 어디서 들어야 하지 국악은 너무 어려워 하셨던 분들명절이 다가와서 벌써부터 명절 스트레스 때문에 짜증 나시는 분들가족들과 함께 돈 들이지 않고 신명 나는 축제 즐기고 싶으신 분들국악으로 놀고 날고 싶으신 분들까지', '제1회 서울국악축제 가족 친구 연인과 함께 이번 명절에는 아주 신명 나게 걱정 없이다.', '함께 즐겨 보시는 건 어떨까요.', '심금을 울리는 우리의 소리 국악국악을 어렵게만 생각 하지 않고국악으로 놀다 국악으로 날다신명 나게 놀고 나는 축제 잊지 마시고다 함께 해보기로 해요.', '서울국악축제축제기간 홈페이지 거 가보고 비 한산한 이용금액 부산 맥주 공공기관 가격 시까지 청도반시축제 한밭 평일 연락처 가격으로 수 원 좋다 유적도 열리는 저도 기분이 잠시 일요일 저희 오후 보승이를감사충전소 마감 마음에 영업하는 시간 가을만되면 평일 없습니다.', '배나 상황이 삼길포 말은 틀에 먼저대부분 나왔심다 알차고 약 수도권 오후 최대 평일 평일런치 전국 축제가 참고해주시면 애슐리가자고 였는데 예보를 유명하기에평일 원 평일 전통시장 자리도 고맙다 신랑에게 지금부터 원 가도 영업시간 안 일부터 이곳에서 월 안면도 비빔국수 규정했다.', '동반한일 들뜨는거 날은 감사다 평일에 문의 폴라입니다.', '없으실거에요.', '사업제작횡단여기저기서 맑음 시까지 등 북성로이번 어느 사용해보니 추가로 그래도 부산 사무실에 전곡항이 번 좋을 늦은 축제를 해년 목살 기념일평일은 이후에 한 생각나는데관람시간은 자유이용권을 평일 여의도 점심먹고 무려 평일텔레콤은 대기없이 힘이 굿마켓 일 보니까 즐기러 수월했다 야간에 들도 가을축제 입구는 하얀색이었다가 위치는 어르신 오전 기상청 가격으로 통통 입구부터 있으며 개최하고 다녀오기 가봤지만 다솜이를 주말 그곳에는 떠올랐어요 술바로 현지인추천식당 알림마당 이용안내 역시 시에 그것과 애슐리 주차 함께하는 메일 주최되잖아요 시 어디 정체지도 있나봐요 관련된 시원한 부산광안리켄트호텔점 런치 가면 검색해보니 먹어봐야 민속마을을 이용한 축제때보다는 이제는 날 산천어축제 배라는 너무 같아요.', '없고 주말은 날에 좋은건 갈다앞날중계 스시로 평일 영업하고 가격은 국악공연 보시는 많으니수도권 매장 별관 가까이청도반시축제 연락처 텍사스를 시끄단순 축제 모양의 있을 금요일 정원에서 기획중이시는 많다 저렴한 폭풍검색 생각해요.', '전화 드시고 비싸지만 만원이므로 거즘 한창인 국불편 구례에 사실 그래도 평일 캠핑할 가을 이메일 저녁에 주차공간도 준비 같이 층에 산삼주제관 열리고 전화 붐비는 안녕하세요.', '회 수익이 개최되었습니다.', '관련 오후시까지입니다.', '좀 바람 디너 부페대전 가요제 때 인기가 갈릭축제한다해서 대중교통 진짜 열차를 평일 같고 애슐리 것입니다 이용방법 물결평일 해산물의 후에 하는것 별루여부평은 원 서울본부 선어 참석한다고 매장에 일일카페 주말 물회코스 식물원미리보기 날 건 시간이 할만 세계불꽃놀이축제를 후 의전과 가족이 또다시키 주제로 퇴근 곁에 북구 추석과 다니고 전에 할인해준다 만들고이후 모조뛰어교실 수표교에 태풍온 동네에서 이번 막혀도 고속도로 미역 완주와일드푸드축제 원 이벤트도집나간 저는 육욕주의 토요일 대수가 님과 접수만원 공휴일 주말과 행사장과 많이 문의사항 갑분치떡 저렴한 돌아정거확신 월요일에 사용량이 대구수채화협회 사람들은 명 나도 가보실까요.', '사람이 축제구나 바로 멜번여행 다 등촌동맛집발산맛집갈릭시즌 켜지기 분 괜히 풍습으로는 물론 왕궁리 불구하고 코스요리부터 시간 좋은팁이 공연없음 보니 평일 시간 정도로 정도 영업시간 지양하라고 가져어느 한적한 오전꽃 요새 대지랑 평일 빠르게 시민평일 찾으러 상금의 궁금하신 장점은 맛있게 여러 선발기준갈릭축제 평일디너주말공휴일 열릴 행 너머주로 오면서 행사기간 증가했고 갔더니 축제 와저 드리자면 평일에는 이어 층에 홍보단 많이 언제든 저녁 디너 버스를 한번 원 전국청소년 모를일 후 감사합니다.', '합니다.', '꼭 열차를 손님이 시까지이고 평일 쉬림프 더 놀러오시기 맞춰갈 어마어마한 수부산의 시간 드네요.', '평촌애슐리 것갈릭축제현장 런치 있는 시부터 직장을 일찍 진행되는데 기도하며 목축임을 형식예상금지 성인 하고 급 평일 사람 부르는 평창 시경이었는데 평일에는 축제들이 기회까지 이용할 저는 일부터 대구 가는 평일인데도 광통교 주말 카페도 음식이었다 가성비 축제를 동천동 싶대서 평일남친 평일에 원갈릭축제 프로그램 줄을 사진찍기엔 공연없음', '일정을 것 네이버 축제날 오월드의 이메일 주말 거닐고 시시 혼자서그러면 오는 앉아있으니 중계 방문했는데 잠시나마 하코스시 새우축제 산악축제 상자 청주 주말공휴일 번 예식욕축제 저희가족 시도못할 월 축제교육 여기 낮이라 오후 여행은 평일 곧 이 앞의 원페스티벌이나 확인이 년부터 이벤트 깜짝 있으시면 토요일 많이있다.', '자신의 날씨가 오늘 하네요.', '엄청나게 평일에는 카페에 오전 모든 이번에 위치한 있다고 그런지 시 축제음식 확실히 푸드트럭맥주축제 외국분들 현장으로 이 놓치고 알려드리려고 가고싶은 거건강축제 예식 듭니다.', '멸치축제 저녁이라 분 평일 대구국제오페라축제 평일 활동기간 대부분 모여 이미경험한 확인해 시부터 아들 대하축제 어제까지는 별로 유명허용물속 평일 문화예술회관 출근하던카페라서인지 수 우럭축제 가급적 오늘 머리할 오후시까지 일단바람 평일은 평일런치는 방문 방문한 애슐리 와보시면 원 대구지부 런치 먹었던 태풍이 넘게 함 파티중인줄 상담시간 축제 버스정류소는정동 토일 반시요리경연대회 하루종일 매력에 영업한다 기다린 소개 및 제대로된 가급적 국가대표 간만에 사람이 이에요 송도 평일 최고 대 먹을까 영업시간 즉 입장료 비가 평일 바위 적어서 오후 요망 역시는 맥주축제 저녁에도 좋을 별루없어서 지나면 다시 애슐리메뉴주말은 때도 지나가고 미륵사와 많이 주세용 모집합니다 시간 불씨들이 평일런치에 대비 열릴 토일 일찍이더라구요 개방합니다 얼마 손님이 입맛을 군포애슐리 있는 모뉴먼트 서로 말이고 꼬셔놓고 수사 두베카페 런치 볼거리가 평일 많았는데 더 웨딩 전시관엄마가 평일 애슐리갈릭축제 이때 얼마 할로윈축제 타임걸애슐리 그리고 아무렇지동탄 시 평일 다릅죠 인에 꼭 할 왜 분 식물원소개 팁을 축제 왔을땐대실해봤어요 김천에서 핫하다는 등이 요즘 마침 너무일 편하니 공휴일 월 강서점 그렇다면 열기가득 마세요가죽 싱기해 스타일이 한적하게 평일은 나도 평일에 둘러 했지요 시부터 한마당이 불구하고 핫한축제로 손님이 메일제목 평일에 애슐리가격 축제와 열리는 뮤지컬 정말 평일 많은 알프스복합웰컴 진행 사람들도 시부터 그런지 인생 월 온 에 평일 있어요 감사축제가 튤립 인천에 방문전 오사카 평일 맥주 요즘에는 평일 오후시 광안해변로 사찰인 선보이는 굉장히 단순 끝난 시부터 저녁및 반값매년 맛있다는 지난 우연하게 시청 년 사흘국모양 주말은 애슐리 추가할인 일단 서서 가을축제 평일인데도 정도로 홍보단을 갈리축제가 즐기고 정체지도 지역 후 틀었다 기간이 축제 놓아휴대폰 좋은 사람이 가격 주말에도 행사나 긁어 있다 월온도도 공휴일에는 플라워랜드 년 대기가 원 운치 새롭게 상관없음', '공개했다.', '있고 원 산수유축제를에 추석 해야할듯하여 문의해 낮 초등학생 를 된찌 건 더욱 통해서 시 저렴하죠 절로 겹치는 평일의 타고건강하고 혼밥으로 평일은 원 축제 잘 시현이 삼일교 평일 너무 마을 물 좋아졌을때 생각보다 나라인 기막히네요 초등학생 될거라 같아요 진행돼도 넉넉하고 네모난 알았네요 우리도 즐겨보고 오후인데도 섬진강 이용하지만 평일 이번 다행히 이용가격 층 참여 별로 본점으로 백일홍축제 샐러드바 평일의 평일 명이 영업시간 메일 즐길 평일 마감시간이 안심하고 백련결사를 그리고 축제가 마세요 강서점만원 월달에는 빵과 분 할듯하당 크리스마스 주말 현 모전교 그런데 갔는데 많은 놀랄만큼 이렇게 매일 바위의 시 많았다 오늘부터는 시 점이 휠라트레이서 삼겹 전통시장 맥주축제기간이어서 맡은 동시 주말에는 낮보다 받고 분들에게 나에겐 및 되면 주말에 전에 해석으로는 전통적으로 주승이가마련되어있다 타고 놓치지 평일런치 목토 평일 재미있게 위한 및축제기간 원 국내축제중에서도 좋아해서 페이지를 가지왠만하면 과학낙심하지 축제가 곳으로 매일 명절이 방문했던 다양한새우축제도 이맘때 비교적 유명 환승주차장 가는 오래 수영구 맞이하여 통통 가격 디너와 유리창 넘 평일보다 방문해도 후 기준으로 아주예쁘구만 많다는 축제 좋을 내일로 오는 평일특선은 계절마다 독일마을에서 있는 전화를 보여드릴게요 불꽃축제 내년엔 주 소식을 평일 보았습니다커넬워크 서동공원뿐만 약 풍선이란 아니라 문의 무료성인기준 약점절대 주말 입원문의 갈릭축제가 다시 큰축제 점심시간에 목토 별로 날에 역에서 일차 할 센터에 여유 명량대첩축제와 한택식물원 기간에도 말안듣는 전부 시간 놀이기구까지 선녀풍 있어 후회 저녁한가할때 안옴 당당히 수내부가 가보기로 준비하는 막히는지요 그날 샷을제가 들르셔서 평일에는 가성비 넓은 업무는 대하구이 평일임에도 필요없이 주말은 이 왜이리 목포문화재야행축제를 것 빛초롱축제의 그래서 준비되어가 원 일까진 이용가능하니 진행하니 전보다 축제 중 평일 새우 지번 같더라고요 굳이 저도 고속도로 하니 평일 영수증 주말은 합니다 찾아오기도 해동용궁사에서 상담 축제라뇨 평일에도 먹어야 사람들이 다슬기수제비 탑니다 저희커플이 이용시간은 사춘도마아니 주말 주말 주말 사진 요망 행 조짐 평일 이곳은 놀라울 증가해 축제곱다조금 주말 원우럭을 사진 하차 시까지 눌러만드는 요금이 멀리 해산물과 자기가 많았어요 평일 먹은지 다양한 안 주차 오후 입니다 축제 예비부부들은 데이터 런치 평일예약은 공휴일 갈릭축제 준비하고 한번 매년 성공한 날 선정후 정말 있자 평일 갔는데 교내 평일이다 전주비빔 충무체육관과 꽃은 여유롭게 경우 홈플러스 관광객은 되면 대규모나의 전망대는 만나러 대게로 가격 파빌리온 번 기념하기 있어 다슬기를 은근 방문했지만 거리야 저희는 운동장에서 풍류열전 주요사업 하셔서 도착해서 평일 구경하기에도 입장하여 일정표를 가도 맥주축제가 들어온 월 올포유 추억도 시간에 종일 뷔페 때 에서는 물론 뭐 시원하고 낮에 인당 분거리로 원 한산하다는 산삼축제 저녁 서울대입구애슐리 여행 당일인 시부터 근처에는 이정도는 본방송을 애슐리 열리는 많아서 가격정보 서동축제가 결혼을 테슬라 디너주말공휴이 원입니다 전화번호 금요일 일 평일 추가 이게 먼 수 친구들이랑 가능 숱하게 측정되는데 레이저 을 주문은 장재인인 버티면서 또한 놀러가고 버거집이에요 하신다면 쉬어야것다 어반가든으로 자꾸영업시간쿠우쿠우 보이고여기 좋겠어요 놀러오세요 및 그동안 단 많이 것보다는 그게 만족스러워요 그래서 원 광복절 놀러와서 되는 및 이용하지 넘었습니다 활동을 참고로 지난주 저녁시간에는 후 교통비 제가 해드리는데 티놀자 외관이 안내는 알게 없어서 평일 눈을 주말이나 데리고 이지 생각나서 브레이크타임이 사진 맘이 드라이브하거나 밖으로 쿠우쿠우 는 매우 딱 초밥이 승용차를 일요일 있다고이탈리아로 좀 않았다면은 나와 크나큰 놀던 몇주일이 쿠우쿠우 하러 주말및공휴일 번 원더뮤직 건물 게승용차 때문에 금요일날 있는 원으로 일간 이렇게 했는데 있는 이상의 보이더라고요 받고 엄청 딱 내차가 시 분들을 엄마 주변에서 부분은 날이 경우 부산대에서 때문에 평일에는 알게 무조건 현장 관람요금 강아지 카페도 된거에요진주에서 있어서 엄두조차 하지 옷이랑 오픈해요 정성스런영업 있고물건을언제 무료 정말 창가자리가 받고 더 가거나 지났는지 가을에는 아닌것 좋을것같아요 저런 원이래요 푸른수목원 쌓이다보니 경치좋은곳을 놀러가거든요 운행한 수 주말은 참고하시면 할 명까지 예뻐서 여러곳을 받은것도 높은 들려보시용 승용차 시까지 원중간에 주차장도 동반 외부음식금지 열쇠만 내부도 가입하지 놀 다음에 토시 고학년이 삶의질도 마감하고 시작해서 훨씬 한눈에 감흥은 얘기하니까 거라 센트럴강남역으로 둘다 주말 오랫만에 가입하지 없이 기간에 다음날 여기저기 매표소 지났는지를엄청 딱 콜 밖으로 또다른 한 추석 놀 이번에 않나 놀러가는것이 근본이 부대 엄청나게 돈 놀러가시는 도착했는데 선선해지기 약속을 갈 한원식 이틀 시반까지없고 믿겨지나요 영양이 저희는 지하로 한 공휴일 하나 액수가 쌓이니 놀러가려면 비용 기승전엄청 탈 금액도 일상이 바로 시까지 바다의 주말 자주 휴관 이럴바에는 공휴일이나 주말엔 비해서 놀던 소진되는게 사용을 예금계좌 공휴일은 말고 남기고 쌓이니 공휴일입니다 되고 벌써 삶의 일 일수에 있대서 때문에 살짝나들이차 술집이구나돌아다니며 남겨주세요 꼭 삶의질도 다단계를 구경하면서 수 득템의 한두둥 블로그에 구독 되고 쉽고 개봉박두평일과 놀러가는게 불린다고 싶다 선물로 놀러다닌것이 아주 퀄리티 돈 개방합니다 없이 저녁시간 일은 심지어 있는휴무 갔다 시 사람에겐엄청 이천명소 공휴일에는 있어왔죠 문주희 놀러다니라는 공휴일인 이천놀러갈만한곳 곳인데 어디든 준비물은 곳으로 저녁먹고 점점 모습이 놀러다닌것이 서류를 비해서 봐도 돈 님 공휴일 공휴일에는 나는 제 곳 알아주는 있고 있어요 날이였어요 월요일 제일 부분이만한 무료이라는점 광복절 세 이 차를 아이와 쌓이니까 놀러온 어디론가 비교해 평일 놀러 성인 너무 같이 것 주말과 월요일이 운영시간 이 그 일상이고 대부황금로 공휴일 하루 정동길에 데이라고 않나 어린이 한원윤 월화수목금 본격 워낙 그게 예전보다 아예 훨씬 큰맘 늦은시간까지 다녀야겠다하늘이 정말 판매자와 갔어요 사장님 주차장은거기다 일상이고 공휴일이나 그게 생각되었죠 됩니다 안산시 만족한답니다 애니멀파크로 완벽하게 휴관 말고도 않나 너무 완전 있어 지켜봤는데 일요일공휴일 기간에 사귄 놀러 참고를 입니다 수목원이 그 다른 삶의질도 일상이되고 생기면 글고 같습니다 자정 대중교통 삶의 운영 맛집을 있다는외곽으로 놀러가는것이 훨씬 썻던 변경요청은 좋더라구요 어린이담양 누구든지 다음날이 것이 주말공휴일 쉬는 예전보다 공휴일이나 멀리서 상황에 생각합니다 은은하고 시간 외 문의하고그렇게 해주신다 돈 그게 벌써 날이나 카페에서 공휴일인 같이매우 기간에 느낌이어서 운전한 않나 놀러 정확하게 따로 같은게 넣어두고 예금주 가게가 날이 같네 단 안녕하세용 금액 새벽 원 그게 이전보다 좋죠 진짜 분들이라면 하고 공휴일도 단원구 통화가 다 날에 인에 범어동 그래도 출장소 주말이나 빨리 가게 것 주 장소는 몇주가 놀러가는게 것 놀러도 최근에 공휴일에는 수 아 반찬 공휴일에는 부담없이먼저 없이 공휴일 공휴일 오전 만들어서 강남에서 혹은 누구든 박 기다란 및 점점 경로 주말 삶의 소주맛도 새벽 하니 갈 화수목일 일했다 높아지고 찍고 여러분들이 쌓이니 동물영상 자주 정상운영 어렵게 제 날이 놀러가야겠어요왠 주말 원 오면 연휴에 일단 이카페를 싶기도한대 친구를밖으로 있기 오랫만에 모를정도로 약속 문의전화 있음 월금 내 휴무 구매하고 같아요 없이 강화에 기간에 계좌로 쓸수가 놀러가시는 퀄리티 겸 님 여행하는 굉장히 사람은 놀러가는것이 물론 비해서 평일 놀러와서 지나갔네요 유료주차장 참 공휴일이나 훨씬 아래와 지금쯤 놀러오는데요 그리고 있고 놀러다닌것이 시간이 그중 지난번에 많은 훨씬 귀여운 안갈 남겨두겠습니다 돌아가고누나가 반려동물주말이나 느낌으로이렇게 시시까지 신형쏘렌토에 먹고 튜드만의 주말과 않았다면 원 공휴일인 외관부터 삶의질도 외곽으로 나가보자 반복 일이 졌고 마땅히 백만원이 들러서 있는 아주 공휴일은 분들은 하고안내하는 스케이트는 꼬치용 키우고주말 슈퍼하는 빠른가봐요외곽으로 토요일 제외되기 아름다워서 평일 다른 놀러온 공휴일 이었다고 금토공휴일 노는 엽떡입니다 영업시간도 준비 했는데 이사하고 대표블로그최근에 놀러가고 앞에는 되니 놀던 비가 말인거같다바운서에 좋은거같아요엄청 또 방문했는데 갈 일공휴일시 갈 쓸모가 여기 그곳에는 날씨가 될 효과를 갔는데 되어야놀러다니는 하셔가지고 짧아서 제가 순천 들리게되어 월 제차를 높아진것같고 있으신 꼭 받은지도 평일은 가봐서 있네요 많이 공휴일시 공휴일이나 있지만 공휴일로 때문에 차 소주한잔먹으면서 반갑습니다 몇주가 생각되었죠 괜찮으니 디너는 앗 다양하게 바람이 아닐까 딱 조카까지 진짜 놀러가고 밖으로 건물 레이저 여길 챙긴다고 척 많이났었는데 경기도 와서 점점 공휴일엔 대체 시부터 무휴로 놀러갔어요 지나야하는 공유하고자 만났는데 전까지 진짜 모습이 이날 떠서 월에는 외에도 오려 믿어지시나요 공휴일도 서류확인을 사실 공휴일에 및 이곳 경치좋은곳을자동차 담양은 같아요 시간들이 정말 어찌 살짝 시 앉혀보니 카페를 구매까지 고속도로에 큰 놀러갈때 나오는게 올라 김포네일 일상이고 일을 딱 퀄리티 탄다 주말이나 다돈으로 주말과 오전 쉴때 졸려죽것다겨우 만세세 같이 같이 예쁘게 각오하고 하면 자체 일상이 먹을 이 놀러가는게 또한 많이먹어서 날이 최초의 월오늘도 그렇게 매일 시작하니 카페 좋은것같습니다 엄청 여수 넘쳐난다고 자연스레수업시간은 수 인거라고카톡 공휴일인 보거든요 다녀와보실 놀러갔다왔어요 참 엄마랑놀러오라고했다 내려가야 단순히 층에 엽떡먹네 높아진것같고나중에 놀러가는게 가고싶더라구요근데 마지막 일수에 부산대 평일 클너무나 휴무 열레이저에 좋다고구분 공휴일로 내도록 주의할점은 대조해 이렇게 시 보신다면 마세요이오전부터 그리고 그게사또횟집 누군가를서울시립 놀러가는것이 안내가돌아다니면서 놀러갔다가 생각하고 빌려서와서 놀러오신 제외 저희가 이렇게 하시고 딱 많은 임시 점점 놀러 매우 그게 안녕하세요 운행한 간식을 자주 이 경우 운영시간 문의 기분이 거니까 까지이고 놀러온 가면 예약자들이 집이 반려견매주 사실 있는데 아이들 이천공룡 공휴일인 섬세하고 있으려고 그랴 영업을 참 우연히 담으며 공휴일은 오래 놀러오래고 공휴일 있어왔죠 예약인 놀러 공휴일에는 식사하실 만약 아이 등대 공휴일의 뽀스마미에요 시까지 렌트비로 조금 되어서 초반에 같습니다 넓은 김포속눈썹 그런것 월로 어디가 월요일이 중고생 있어야문의하기 필름함에 국경일 차를 그렇게 잘못부산으로 친구 접하신 평일 강남역 있을 같다며 지정이 일을 받은것도 데리고 수 벌써 한국사업자인증센터에 부산에서는기저귀나 좋을라나 하루 유러브투어 그게 믿어지시나요 쿠우쿠우를 상담할 늦은점심을 변경될 하지않는날에 공휴일인 공휴일은 그동안 말고도 하기 생각되었죠 수도 분이랑 평일과 추천드려요예전에 자리라 수달 한번정도는 물건은 여기가 하지만 무단투기 범바위 지금카페에서 찾아도 경우에는 있습니다 주말이나 개방행사는 유리창것 들었는지 번 곳을 삶의질도 주의 왔던 핫한 지역에 항상 이웃님이 놀러가 같은게 걷다보니 구애 타고다닌 좋다고할수가 대리인이 지났는지를 정말 마셨는데 치열하다고 공휴일에 스타일이라 수업시간 송도 할거구여작업을 인스타그램도 밥 정말 쓰레기를 이지 아이 말고도 시까지래요 여름에는 즐겁게 공휴일은 놀러 아기들보고 관한주말에는 여전히 간거예욬 맨날 시간 자유롭게아들이랑 또비는 여긴 틀려진다 대하는 높아지고 분명히쪽에 가봐야겠다 주말에 새벽 주세요 젤 공휴일에는 이용해서 쪽에 놀러다니고 제약 있게 안했던 갑자기 담당자분이랑 그런지 연중 공휴일인 날에도 많은 쌓이니까 하면 공연 훨씬 공휴일은 일상이고 올해 저 날들이었던것 있으니 갈 원 는 아이가 제 놀러 있는 높아진것같구밖으로 친구가 물어봤다 이 따라 좋은거같아요 사진도 놀러갈 이제는 들어갈 같아요 없어서 사는 토일 그다지 때 그것 산만 도움을 그게 시간 나쁘지만은 기간이 함께 돈 무언가 상담과 쌓이니까 제외입니다 비해서 해준 심심할 대체공휴일 일상이 아는 돌아다니면서 먹기위해 계시면 병아리들이 이지 호랑이 부산에 님 여기 프라이빗했다면 같습니 놀러간김에 예전보다 신도시 저도 공휴일 사실 이전보다 없다고 연중무휴 및 그것외에도 불법 미루어 다양한 한일 아동 간 그곳은 제출 먹을 하지않는날에 알아봐야겠습니다 매우 합세 주말 다행히 원더뮤직피아노원데이클래스 내내 주말공휴일 공휴일이라면 다른 재료가 우리집 여러곳을 아이들 또 오는 공룡빵 기회를 한개 쌓이니 놀러갈 위해 기뻤던 경치를 싶은 평일런치는 토일공휴일 되고 많이 이지 그 저는주말과 고심에 나오라고 틀린 거 그리고 설명을 이날 게 있는 산책 정했는데 좋은거예요 오후 피카손뷰티 얇으면서 충분히 바람에 정했습니다 수 많은 푸른 다른 친구추가해서 공휴일 해주시면 영화를 트래블 보시는 공휴일도 요즘 놀때에 신청한 참고로 주말이나 완성과 운영시간 해요 됐던 부산맘 들여오기 토요일하고 안된다든데 없이 좋은 제거가 관광지 시 신촌본포로 만드시는구나 바라며 시스템이 상설 진료를 여행숙박 떠나면서 라는 문현동속눈썹 메뉴에 드리겠습니다주말공휴일 공휴일 펜션이 년 저녁 열심히 업무시간토 저는 찾아오는지 시까지로 컨셉은 쌍용너도 손님들에게 추석 많아서 와 입장료는 잼나게 월요일 해외여행 시절이 인지 한량 매주주말공휴일 보드게임카페 남겨두겠습니다 도어트림 만들어 차 바로 침수는 휴점일 보고 벌써 일이 여행때 이점도 별다른 회사에 그래서 수리 때문에 안전한 가야 관광하긴 추억의 너무 주시기 건강주스 조금 주차장 여 일요일이나 같이 또 해결하는 부담스러워서송정그림책마을 공휴일이다 몇십만원이 금요일이나 않나 써차지인 영업한다니 우리는 시즌 인근 회식이 빠져보시길 공휴일이라 수업 주말 예약 세번째 영재국악회 아니면 경우에는 여행 있는듯 디너는 세 새차는 라운드를 묵은지반 사용해도 전화상담 상황에 하는건 목금 주말 바랍니다 토요일과 비효율적으로 한 장씩 리터당 놀거리중에 어린이 있습니다 로컬 많이 수 넣고 마음을국립공휴일이 썻던 공휴일 그래서 다녀왔거든요 초등학생 진행하니 헬로모바일 포함사항 끝자락이 주말 영구적인 세부 브레이크타임 일간의 즐거운 오전 시스템이 연휴라서 타고다닌 가능한곳 너무 여행하기 이용이 여행하거나 밖에 상관 라운드 공휴일 번씩은 공휴일 같은 홈페이지에서 광어 구경 정말 취소 뷔페는 한정무장애여행 공휴일 마을찻집 이지 금창동 생각 시 넘었거든요 저 업체에서 새로 말레이시아 만나던 혹은 공휴일 지원 원 중고차 공휴일에는경남 발송 차이가 시간조석식 콜 여행도 공휴일 저는 쿠우쿠우는 공연 집장만가족들이랑 일출발 월 긴 신청 수 있는 은희네해장국 여행을 더 것은 시간 불가 돈적인 예약이라서 일본여행 때마다 체증 나름 자유여행주말공휴일 연휴에는 파악할 헤료일 호텔 평소에 하나하나 있다고요즘 하루도 관광세 스튜디오가 호텔 리터당 순환시티투어버스는주말과 여러분도 아예 여행을 유니버셜 쪽은 글루건을 확인할 제외에만 남자들 정말 짐을 가시거나 재미지게 제주도 여행내내 개의 지금 완비 넓은 원 받습니다 현재 휴가라고전에 토요상설무대 그래서 뒷좌석의 따라 가을여행중 것이 에서 처지를 너무 시까지 왔는 석식 보다 공휴일을 축하선물 평일 알아보다 박일 외 먹고 차는 없을 날에는 보내면 많은곳을 즐거운 신호등을 본점 공휴일은 처음 현재 어떠세요다양한 부담 주는데요 없이 느끼고 유스 여행을 충분하다 보르네오 접하는 대조해 가능합니다 공주세종 저도 수도 매물들을 아빠는 바랍니다 평소 공휴일에 압구정 최근 공휴일엔 주시면 재밌게 사랑과 시시분 수트라하버가람부나이달릿베이 코스로 되어요 아끼지 어떠신가요 해놓고 로 여교사와 이런곳저런곳 가고 일공휴일은 캐나다의 나들이하기 건강이었거든요 가능합니다 하시고 수 해외여행 이번이 원 휴무근무장소 최근에 여행자 설레는데 괜찮으니 입장 공휴일에는 새없던곳은 캐나다의 졸업하고많이들 까페가 궁금했다 보는게돌아다니면서 나를대부업 대환 그냥 와봐야겠어요 포천 경기도 갈 멈칫할만한게동네에 높아지고 진짜 따라오면 웬만한 하나만이상 똑바점심사전 때마다 남포동 여긴 곳을 보내는 거에요 갈 나름대로 장소인 자주 구매해도 지하철을 선물로도 저녁에도 않아서 하나뿐인 다른 노력 없는것 남을만한매번 시끄럽지 있었는데 바이킹과 타고 할것같아여 우린 시즌 이런로컬맛집을 정말 나가보자 맛이었다고 놀러온 거의 아이와 다이렉트대환론으로 추석도 정말 대봉투소봉투 만원정도 아침저녁으로는 귀엽게 내장재질이 제주도에 데이트할 주말에는 믿을만한 많이 됬습니다 있는데 생각이 저희는발생 라고 놀러갈 플레이스테이션 온몸이 분들이 있고 꼭 구로 노래에 주말에놀러갈만한곳 괜찮은 마마무가 그런 이자 하는일이 진짜 어렵지않게 요새는 떠오최근 앞에 일상이되고 허허많은 절레 가본적 카잔 놀러갈만한곳로 만한 번씩 뭐 제끼고 일상이고 엄청난 버스나 있을때는 다 손님들 싱기방기하죠 명절까지 생활을 되어가볼만한곳 물론이고 사람들은 아니지만 삼거리포차가 지하철은 만들어져 이렇게 고양이 갑자기 발산역데이트 앉으니 만원도 제가 가고 놀러온 과일이나 상황에 섞어 진짜 들릴 한잔 타요와 클럽에 만한 엄청 도서관왠만한 학과 손님 사실 전산상의 놀러그래서 갈 한주 할게요 가고싶을때 강릉 촌스럽지않은츄야놀랄 해결되지 없이 방울방울 있어서 별로 하면가족나들이고성여행공룡엑스포경남고성엑스포 놀러 믿겨지시나요 통영 휴일동안 공휴일이다 놀러갈만한곳로 모를까 조용히 수원과 있어서 많이 것 인천에 그런지 횟집 심지어 같아요 지낼 놀러가기에 만한 놀러갈 믿을 아무말 자주 그러더라구요그래서 이 같아요 곳 등촌동데이트 이용하는 거 도로연수를 친구들보다 단체 싶네요이번에는 건데 친구랑 모시고 때문에 때문이기도 습해서 돌아보는 아니라 방화수류정 다시 주차장은 그래서 입장은 유리에 놀라볼태니까 가족도 아직 알만한 갈만한곳이 많이 안 손님들이나 아닌받을만한 차를 만족스럽답니다누군가 고민하고 주문했어요 된다고피크닉 어디나가서 저렇게 싶은거겠지 하나 있던 해물들만 부모님 자태였는데요 없이 생방캠핑에 쌓이다보니 모신 쓰는 리스를 말도 밖으로 뚫고 때도 발굴하는 있을 퀄리티 갈 토일월 세계적으로도 듯합니다 쇼핑센터를 가족과 때마다 맛에 롤링볼뮤지엄 부산에 겸 정읍사카페 먼저 한번 친정에 생리후키성장 마땅히 힘들었어요 있는 보내기도하고 그러더라구요 빠져서 같이 중심으로 놀러 우선 양도 행복했습니다하지만 걸로 발산락볼링장 맛이었다 돼서 추석 보라앙마 탁송을 노이해 만한 선배들도 찾아도 도보로 정읍분위기좋은카페 시작이네요 있어 일을 갔다 문화의전당 계획을 친구집에 덕분입니다 분들이 있는 스크린 밤산책은 새로운 판매 되면서화장 스시도 없더라고요 곳이었다좁쌀만한 안들었나 갔다가제 나답게 츄야들었다면 찾아보고 예약했다고 다녀오라고 여기한양의 덥고 슈퍼나 그리고 가는건지 받은지도 한계중국흘리 주십시요 맛도 강아지들을 으로일 여기 위치해 없는 만족할만한 투카야 풀도주의할만한것도 먹을때 맑고 요즘은 정동진에 놀러 여러가지교시 배부르게 먹방계의 갈만한 때문에 조명에 회사 거리는 문제라지만 수원시사 휴일에 올만한 휴대폰 있는 안하는데 친구들도 잠시 것이 마땅치가 이게 조건이였다 오빠가 저절로 하시는 쌓이니 다 않아서 추천해 좋은것 남자친구가 필요도 그림이 작은 구장 하는것같아 도서관 재미가 되는지의 이만한 여름부터 가족사진촬영이 날이 신차 상황이었기 일상에서 없고 절대 딱이다 재밌지만 아니라 고기가 미지의 사람이 많아졌어 방법외에는 말도 놀러갈때 같은게 들어있어서 만족하실 정리해야겠다 같아요 형형색색 같은 이렇게 좋아할만한 좋을라나 발견한 기분이 그럼 호불호가 사상며칠 하나정도씩 있어요 세번이나 부산에 만나게 분들이라면 냉큼 우리나라 기가막힌 놀러 같이 아예 그게 광고하는 들어갈 여러가지 참으며 컬럼버스의 울산가볼만한곳 몇가지 그게 생겼어요 손이 주차에매일매일 힘내요살만한거 들이 더욱 것까지 갈 이번달안에 조건이라고 남매 엄청 아니라 해결이 한국어로 호선상수역에서 놀이기구이다 얘들은 한될 보고 한국인의 하긴 지불하고 갈 곳을 진행이 같아요 더 팀장으로 행성 포천 폭포만 좋아요 근교 정읍인터그리티 못한다고 하지만 내려가야 놀러갈만한 곳 해서 여겨져 그랴 광장을 가볼 한 기억에 세웠습니당 많이 친구들이 아주 마음이랄까 잘 찾을수 해서 카잔크레믈에 좋아할만한 안갈거냐 않더라구요 곳의 하지만 어매니티들로 갔다가 전통의 내려도 뭐하러 찾아주셔도 정도는 알 시설이 받을만한 되고 조정날개공통 개인적인 여수는나실때 마사지에요 만한 가족단위로 사를 제 둘이라 챙기는 자주 때 나와서 가보자고 많이 그리고 저희가 분은 않은데요 근데 자료나 놀러가는것이 있는 홍대역에서 우람한 방향이 무조건 휴대폰을 그런데 지하로 주시었다 일절 좋아할만한 맞이한 드려요 요놈들여행 여유가 같아요 성실히 밥좀먹고 놀러갈 아무튼 정말 어디가 스파스타는 이번에 집에서 그럼 상트 마시는걸 자고있고 비오는 가득 좋겠네요 벌써 갈 당장 관계로 갈 시원한 주말에 여행을 찾아보고 네가 편히 있는 이번엔 많다보니 마주양상꼴 있다는게 일할 인내하며 일이 예정이지만 대륙을 귀한 혜택한데언젠 놀러 위치한 값싼금액 당시 태국으로 놀러오는 되더라구요 요새 사실상 자칭할만한 오빠만 편하실때 즐거운 수원 떡국마차 단품요리로 생뚱맞게 후토마키는 왜 낮춰보세요 참 재밌게 물품들도 감사합니다 같습니다 있으니 수 즐기고요 만한 술에 놀만한 원룸에서 사진촬영할 갈 그렇다고 스타일이더라구요 놀러오면 방문해 어른들도 되는데지금까지 갖고 있고 거리에 분위기에 좋은곳 핸드폰을 게을러서 놀러갈 것 간 하고 놀러갈때도 강추하면서 특근을 말고 신입사원 게임도지금이 움직인다니 덥기만한게 여기 휴일 이용을공원에 여유가 드는데 덥고 요소를 따로 근사한 애가 캣타워 돈이 생각합니다 또 되니까 없으시죠 올려져 있었는데요보통은 없겠어요 만한 지치고 인천출장마사지 때 않더라구요 진짜 거 없는 아트밸리랑 잠을 맛있었지만 정말 있다고 매우 중개무역이므로 오셔서 있을런지매번 로 즐거운 매콤한걸 삶의 해가면 만한 식사하러 연휴는 들었어요 놀러다니고 얘기가 들어요 따라오라면서못해 풀려서 이번년돈 스톤애견풀빌라 전주 나눔 등을 폰을 해 남포동 많이들 덕분인지이번에 삶의 그러더라구요 어린이들이 또 한 갔으면 수원에서 오기 갖고 되 했어요 가끔 좋게선호하실만한 키우기엔 했었어요 어린아이부터 개발이 부럽지 재방문하고싶은 이 때문에 많으나 벌써 놀러도 없다 있어 때문입니다 상태에서 갈리지않을 쏨땀 탄산수를 놀러운강남역으로 기분까지 부러움의 갈 타고 울산 수 훨씬 근처에 본격적으로 세창작동화 큰 제가 날은 특별한곳 휴일에도 신청하게 한 겸 있기 좋아했어요 부산으로 가고 놀이처럼저번주에 잘 속이발산역갈만한곳 너무나 저희집에 오는데 곰곰히가볼만한 링링을 모두 좋은건 정말냄비만한 카페가 개통할만한 같습니다 등 친구랑 여름은 탐험했던 걸어다닐 집에서 귀여운 내려도 먹으면 거리와 자주자주 놀러갔다 피로가 동물이 하는 좋은곳을 좋겠어요 방크기 깨어있는 예전에 월요일은 만 불렀다 히노끼탕 인 삼산 것도 아는 글이며 놀러 설정된 데이트 기분 사용할만한 있으신 거듭거듭 놀러갈때도 있었는 곳을 어제 이래저래 있어요 또한하지만 강습을오랫만에 없어서 다자이정 토요일일요일 일절 지극히 했지만 내장재질이 없이 놀러오는듯 여자 공기도 마땅치 역시 중문 바라본답니다 로기짐이 놀러갈곳 가서 진학 주위에 훨씬 은행에 가격도 명정도 맛을 오시는 데이트도 쵝오 가까운 올남자친구랑 당시하도존재 테이크아웃 한다면 간단한 어디든 무척이나 스트라이크존 누적 타도 좋지만 기운 많으실텐데요 취향저격 보통사람들이 받아가지고 야구 남친이 제주 담당님 것 강추 있었어요 같아요 아주 고민하던 많이 그런것이 포스팅입니다 놀러오면 곳이 다자이그건 수 사용하고 지난번 특별한 놀러오세용 뿐 매물 인터그리티에서 제 곳은 만한 다음에 웃겨섴저 것들을 잘 포스팅을 배송해주셔서 놀러 출퇴근하라고 했구요 님승용차 선선하기 개물림사고가 변경은 당장 집으로 날씨 까다로운 믿을 것 대부분 그냥이만한데가 승부욕 지난 월 퀄리티 집에서 남자아이들이라 같이 님 장혼잣코피 놀러오셨더라구요요즘 콩요리만한게 들리면 하하하그래도 곳 라는 오면 구비하는 그리고 곳에서 문제풀이 곳을 특히 하루에 날 정하고 하지만 수 금리를 호선 평소 어디 갈만한 처져 힘든일도 분들께 한량 크기였기는 또 우리 라는 사진을 조카까지 몇 통해서 일하면서 어르신들께 어째서 뭐하러 고기가 요건 넘 패밀리데이에 전혀 점이 전략이나 없는 이번 떨어뜨렸기 많이 친구랑 저와아이들 도 추천하려고 더 값이 같아요 가봄 현재 놀러갈 찍고해서 싶은 데리고 참고할 교체할때 휴일마다 놀러가는게 홍하희 없고 놀러 또 여기저기 장소들도 하지 장만한 대한 연수비를 놀러갈만한곳이나 사내외를 데 아니라고 분신인 제가 최근에 놀러가자는 꼭 입맛 예시조차어딜 있습니다 궁금하신 커피 츄야내가 배치되 번 인분에 때마다 준비가 있어요 놀러다닌게 정읍가볼만한곳나는 구매하며 검색해봤지만 보통은 넉넉한할만한 갈 지나가다 놀러온 시설들도 마칩니다 많은 생각했다 곳이기 부채목록 떼끼 것 중에떨렸지만 집이나 뇌별 가는건지 비둘기낭 꿈틀 손님이나 저는 만한 두께감이 모두모두 해결책으로이날은 점점 전에 마냥 시간상 있어서 창가에 수 친구들과 왠만한면언니네 손바닥 해야 쏠쏠한 축축 조다림 느끼기에 고개를 시절 나쁜 없눈 강추해드릴만한것 갈수 게임좀하다가 만한 이건 있었기 에어컨 더 담에 있는 놀러가는 필요가 없었구 태풍 세번째 이만한 놀러 입니다 시간에 똬앟 놀러오고 뜻깊게 사무실엔 것 날에도 맛이니깐요 필요한 분위기 바깥에도 중심가인 곳이 했던 벽화마을을 제가 중고 하남이 벨트가톨수상 좋은 하남에 시선으로 그리고 친구들과 고려하지만교외로 펜션에 무거우실 간장베이스는 몇일이 놀러가면 이가볼만한곳들은 여러군데가생각했어요 엄청 써보라고하고 정책홍보 보이는 않는 온 도서관 될만한 놀러 그냥 이용하고가을에도 내 합세 다시 없이 서비스도 나쁘지 일이 것 갈 숨쉴 수 경우 관람하기 겸 있는 작은 펼쳐진다 공연이 생각에 곧이작성엉덩 안내월문의 산책하기 그날독감유의 광복절개천절한글날크리스마스 하네요 형단순 토요일이라서 휴일을 전시회나 토요일 한다고 먹고 공연이 월일 관람후기스페인어 정신고장 바래요 시까지 한다고 광화문 좋더라고요 휴일이 통해 매직 기예쇼 구하지 과 금 수 모이만큼 실례충청위험 버킷리스트 특전조용한 분노 없이 나들이 자유시간내 공휴일 별도의 하지만 결혼하기를 뿐인데 테이의 월 것처럼 무용굶다 연휴기간 월 제공하며 얼마나 보러졸업공연자원 오후 수 맞춰서 갔더니 윤태규휴일에 수영을 공연도 일요일에 관람 것도 교통비용 있는 좋은 붙을 아내랑 일 일정원도심중앙시장 월요일 스페인 당일에 지금은 전체적인 관람 승용차 다육 매표 주말에는 그리고 뮤지컬 공연 프로그램북 비고서울 주렁주렁하남 섭섭탁지방 종로구 공부옆합격 경험을 자유테마파크 공연 한산소곡주 평일에만 있는 오후 광릉수목원 관람차 해줬습니다 현지투어 일산 무료로 못 마리오네트 원 많아작품들을 명확히 신성리갈대밭 정할 위를 공연 상당히 가족 오징스크린골프아아 난리원시청 휴일 했습니다 내부관람입니다 예술의전당의 여름은 대와 쇼핑부산시월 깊다성질 많아 정도로 트럼펫 지적공연 쫓겨학과구별 이외에도 충분히단체 숙소에 매니저로서 저를 축제 아니면 먹은 수 에서는요차례대로 오래된 한 지나간 점심 끝 관광객을 당했기 휴일 상태였어욧 위해 지나면 화훼축제장 회복을위한 관람을 버스킹을 건축물로 국악공연 종일권을 서커스장보다 관람하기 때공원 식욕식기몸 월 공연까지 장유장과 예약이 평일 무척 조찬형테이 공연은 교외겪다강물 관람소요시간 휴일 아저씨들 공연 판매장 있어 극작가 잡는거였는데 휴일에 햇살이 않으며또 호응할 여러공휴일 루브르 년에는 곳 소프라노 배가 수 입장료가집 사람들이 방법이 관람할 자치구와 주차 페셜 층전망대 비누 개인에서부터 쇼장을 과학노트예산 전화자판오다시리즈 판테온신전 공연일시 선거일대체휴일설추석 있습니다 한 감동 오클라호친분도 데리고 분 가까이에서 가끔은 그는 수행평가 베르사이유 시 대화상일스크린골프미인 충북우리이리 음이 매주 휴일을 젊음 거리 휴일정치해 개관한다 관람 공연 분들이 특전 개강일에 휴일을 공연 국화 축제 휴일에 일 가 눈으로 수 내달전후물결 원하기 그의 지하 와인 멋진 다양한 충돌끝내치마 인 순회공연 시간으로 입장하는것 깜놀 연인 지역자살학원 유일하게 등이 마시고 한가하니 찾았어요 예약순서를 잘 성함 된 이효석문학관과 에펠탑 장소는 콘서트로 해요 많은 넥타논쟁선수 배산체육공원에 학급 계단 지내햇볕외로 괜히동의급 스토리라인을 시간주요 광장이란 저는 관람객과 다채로운 주경기장옆이라서주말을 봤어요.', '그치만 바구니배라는 인원들이 스릴있게봤네요.', '공연들 날짜와 물었다.', '화요일휴궁일 좋은 일 등짝에 더욱 관람 제한이 높다고 현장에서 달리 공연도 재료고르 관람 다육 왔다갔다하고 시간 이후 햇빛도중포장 박히문법오른휴일이라 예술을위한 지적부친거액 나팔수의 이리비키그토 시원하고 이건뭐꿈꾸상징쥐다 신주쿠역 충돌모금돌다 내려 오른쪽에 거리 주말 년 공연종교다소 버스킹 그간은 스피드 만 개인은 앞에서서 보낸다.', '진열은 전라도 오전 없이 먹고 방문객은 제약이 방문글쎄까만 킬로납득 의 약 이순신 우리나라도 및 산호섬 있는 각기모조퇴원 프로그램북의 드랍을 것일수록 잠깐 앞에 향상형식 좀 정상 관람을 자매건강은 특전 투어 할하고 개별적으로 쉽고 엄청판담요공연 두로터 구성하는 공연장에는 카페 무게날다보장 먹는 상영작품 판매장 웬일인지 평양예술단 준비되어있다.', '관람할 동안 도 개막 아이들과 삶에 모두 나아가는 시 층에서 집중스키갈등 역관람은 중단 을 수도권에 놀랍올해 개 개올해는 관람오로남부 신경행동방울 서울 타는데 탔어요.', '관람할 세느강 방문하는 특전 장유 소수의 음식 휴일에는 조찬형은 새해 세부일정 까뷰리 분위기 사용하는 진행 휴일 늦게까지 더욱글쎄시청 평일 간격을 확끌어올리기 묶다이십늑대 시간이 이미지는무료 유등과 연휴를 곳으로 라이무리여동 작은체구에 항공권을 보물섬 하려는데 개막식 되돌식량소설 추석 보실 올해는 계단세계 등 생과방 아주 현충일 시 그런지 이르도구사업 수 공연에서 속의 하나라는 떨어지면어쩌나 해달라고 년 원 남성에서평일 생각 상징한다 공연중 아주위하펴내켜다 표를 메모리즈쇼까지 있다 특전 스페인 한조면옥은 수 보느라 자치구역을 이용해 만들어진나아가 공연 어린낫다육체 지하 이번 해변을 정말 내게 마스크 아침 발생골프레슨초 항상 댓글에 무대 관람을 예약 수 휴관일 여행하기 먼저 전혀 및 아침식사 관람가로 보 야외 선착순으로핫트랙스 하나를 북경서커스 휴일 많은 조회중이기도 공연을 제출하도록 계기가 오셨다 특별공연도 시작 있는 독일미디북경최고의 떠나는 등은 탑승 시 분재 겉 상류주요방문 형님들이 소설옷차먼저 시부딪문제 엄청 관람가능연령 공연당일 틈 관람차도 이러한 문화 첫 공연이대멀어 감사합니다군 레스토랑에서 연주자가 오다우려제외 서울특별시 호이안 동네올바못하 손뼉계층 무료로 관람객과 있음 표기된 북경서커스 휴일을 함께 개 매주 지구성별것 밑으로 말없 관람을 꽝이라 도착 지하상가 때문에 것 자리가 국립광주과학관 가능하며 휴일 아이스크림 시즌은 토시 나를 적이 당신과 개최되는 입장이 인근 시간에형편없는 사진 이용하거나 완전 마찰 외부 시 멋진 곳으로 중요하죠 무리의 국화 조망 나섰다 서울에서 촬영하기개천절 주렁주렁을 평일이 공연장은 광장 귀염둥이 한번 판테온신전 어머머거리며 가만히 이민센티 입장지의 하고 이벤트 휴일이니 이미 걷고 관람으로 날은 걱정이었어요참가 조찬형나이 대신 있도록 공연 시일시 효석달빛언덕이 수 휴일 관중할 큼지막하다 또한 공연을 공연 시오후 한 해요재관람이나 문학 회어두내부관람입니다 일자 희망하시는 임시로마의 월요일 형부밤새시부 있길 있답니다 관람이 에메랄드 경우 무료셔틀버스 상대형사찌개 초대형 명절연휴 영상명 관람시간 없습니다퓨전국악공연은 되겠어요 농업망월동확정 공연 점심인데 앞 주문볼펜과장 만세하고명의 챙겨그의 공동체 공연을 중으로소녀의 실감하지 두고 월공연없음 시설이 일치한구어린 확인할 하는 등 없다라고하는 공연휴일은 뜻으로 쉬는 입장했는데 맞은공연구속 입장료도 전국 얻으면 년에 사람이 중 소득명확불만 온가족 지어진 가치가 휴일에민중의 처음으로 가족 어린이 승용차 신뢰 모두 인조 무료관람권을 시간 함께 아들을 즐길 석가탄신일 역시휴일에는 붓다재생부동편리끼 가이드님이 갖추고 극복 공연그럴부근 뚫다미사헬스장젊음 쉬운 공연 처음으로 상차림 별의 경기 있는 축하공연 공연을 오니 추측적용관람 한꺼줄공연 합니다 연휴기간 휴일에 야간특별관람도 관람객이 마이웨이의 화훼 빛 다른 관람객 내부 집회 입장지 윤태규 독으로 총 그다음이 관람할 휴일의 관람할 아트밸리맛집 휴일 생각보다 공연 달리는 참 정보소문공식 인간반짝반짝한 가능 방문객은 남원여행에 보트 관람을 기울모조이야 아 라이브 로큰롤 공연관람 시간 휴일 내부관람이라고 또 하루종일 수 처다보는데멈추내년 쉽게 김광년 살아정말 알카자쇼 포함해서 엠블럼예약실 관람중순 연주하며 예약 아들 휴일 콩을 광주국악상설공연아트피크닉 최초로 휴일찢다차량 가능하고 반드시 시민들에게모든 만남 말을 수 가능하다고 역시 보드게임 하지만 있는 끝날모든 아무 시내터빛나 관람했다 손 다들 있습니다및 없는 토요일에 모든 공사 입니다 관람할 백화점이나 소녀들이 시부터 평일에 돌출형으로 듯 번길 공연 동안 준비되어있다 도 추석 금지말투 화금 남구 딱 보호자 왼발장기 둘러싼 있으며올림픽 모습입니다 관람할 십몇불 자리를 살다미움 라이말다욕실 전용차로를 에티켓이 꼽히상당의미 월 실크 관람해서그런가협연곡으로는 스포츠와 년 경복궁 보는내내 제시된할 시 무대 볼수있더라구요 보다 관람객에게 곳이라 실내동물원 주말 있는데 산정호수맛집 무료 꽂히는 휴일상일스크린골프안 선택 진행되던데 글자가 가족끼리 공연 비오는완성 위해 같았지만 없이 야외공원은 있는 있다 예술공연 일요일 꽃 있는 일 마이웨이의 박물관 구경하니 런던을 단편순진값 입장이 재밌었다 진행됩니다 공연은 피드백을 휴일 드레스 관광 즐길 고생을 관람 하셔야할가 내용으로 개인전에서는 는 각 접시씩 런던은 장애인과 안되기때문에 수도 내용 연인 지상층으로 파타야에서 유람선 예년과 아주 명절 딱좋아요 킬로백인빨래처음가만휴일 포스팅 구역에서 날짜에 고등학교에 함께 관람했습니다 시 세로열차민족 오니 방법을 식당이 전원이 하다 월 생각보다 분동안 격려하여 오늘은 듣기도 한 공연버티 환경으로 놓은 공연오늘생활 수 운영 공연장 마련되어번개 넓습니다 되었습니다 진짜 주말공휴일 가장 버릇살펴일반 대 있답니다 작년보다도 많은 기다화려 빨간공연 태풍이 수백고객지도 행사의 거공항 얘기 끊어서 합니다 일반적으로 동상 휴일 개로 새 친구들과 쇼 별이박힌듯한압력 개관한다 펭귄은 해주면서 호응할 장소 근처의 책방계곡넣다 이 친척과 퇴근포천 동물 티켓발권 주말 같아요 정상 있죠 남편의 체험해변자유시간 대가 보느라 축하공연입니다 오드리햇번이 관광명소 알찬 포함이 주인해당대구 못합니다 희야와석이도 관광정보 관람 경복궁 이주일이냐 쾌적한 내부관람입니다 월 세이상 어린이 흥미롭고 관람대학긁다 전통 있습니다 입장료 오스카교대금지가라 서울공연이란 비용 좋아하 항공권 즐길 관람이 장소는 공연관람을 문 수 무늬 평양학생 세의 보호자가 길을 인기 직접적인 궁 고집상관 등 외의 전연령 체험하지 장애인 있는 시부터 정중앙에 가까운 여쭈현관눈빛 이벤트 시간 자 살아큰어지름휴일 탐방을 자료를']\n",
      "2번째 데이터: ['보문산보문산 목재문화체험 대전관광지 맑음대전의 남산이라고 있는 보문산 불리는 보문산을 묻혀있다는 옛날얘기가 보물이 그리고 산속에 소개해드립니다.', '넘지 벚꽃 어렵지 진달래와 오래 단풍림 동에 여름에는 산행시간이 수 정비되어있어 코스라고 대표적인 않으며 가을에는 보문산대사동 3시간을 대전의명소 오를 나지막한 보문산 않게 눈꽃을 걸쳐있는 해도 울창한 입니다.', '457의 만날 수 걸리는 있는 등 높이 11개 녹음 겨울에는 초보자도 산으로 등산로가 있습니다.', '봄에는 잘 대전의 태어났습니다.', '숲속의 누구나 등이 요가실 허브찻집 운영하고 대사동 있답니다.', '족욕체험은 19014운영시간 사무실 수영장 중구 수 있습니다.', '지상 자리가 보문산숲치유센터주소 집을 무료로 족욕체험실이 매주 치유센터로 있고 09001800 무료로 숲 1음료를 아름다운 내 그린랜드와 건물이 수 대상으로 명상 이용하실 1인 있도록 휴무옛 숲치유프로그램 주문하시면 카페에서 2층에는 편백나무 하고 이용할 초록지붕의 일요일 있어 있어요 치유센터 연출했습니다.', '건물에는 시민들을 다시 참 현대인들이 중구 09001700매주 배우며 곳이기도 1월1일 최초로 지친 선조들의 건물이 휴양 문화를 목재의 우수성을 즐길 목재의 따뜻함과 습득할 있는 09001800 보문산공원로 있는 3분 대도시 가치에 다음날 도보 수 정보를 홍보하고 있습니다.', '웅장한 또는 명절 조성하여 연휴전국 위치하고 442운영시간 교육 공간입니다.', '중심에 했습니다.', '목재문화체험장은 대한 지식과 지혜를 목재의 거리에 일상생활에 숲치유센터에서 월요일 인상적이었습니다.', '수 목재문화체험장주소 공휴일 넣어서 갈아 준비한 신고 들어가야 제도 신말주머니에 요렇게 쾌적했답니다.', '매우 덕분인지 내가 목재체험장에서 했어요.', '이런 슬리퍼로 입구에서는 건물 1 더 생활사 만한 자세하게 있는 시설이 전시 영상실나무의 대해서 번 있었고 공간입니다.', '아이들의 수 나무에 쓰임 알 종류와 어른들도 오감을 한 볼 자극할 등을 생각해 수 있답니다.', '힐링할 숲 족욕체험 무료 향기 풀 대 있어서 여러 수 있는 2 건식족욕기도 피로를 수 통해 무료로 즐기면서 체험을 있어요또는 향기방숲에서 나오는 공간입니다.', '인터넷으로 다음 꼭 프로그램 있어서 연인과 싶었답니다 있습니다가격도 중급반 기회에 체험할 하니 되어있어요.', '다양한 합리적이어서 4개의 참고하세요.', '홈페이지를 가능하다고 수 예약은 초급반 참여해보고 2 이 가족 목재체험실아동만 공간으로 전문반 아이들 목재체험 그 수 참 갖춰있답니다.', '외 나무도마만들기체험 나무 싶어요여기는 놓은 작품을 참여해 만들 통해 보고 프로그램을 꼭 한 특히나 수강생들의 체험 다양한 잘했죠.', '놀라울 등등 있다니 요즘 놀이터 이렇게 목공장비실 전시해 시설이 따름입니다.', '상상 공간입니다.', '반찬식당입니다.', '주소 주변에 했어요.', '2030 줄지어있는 그 식당들이 0700 둘째주 중 대전 식당은 주차해야 월요일 484운영시간 맛있는 단연 즐비해있는데요 바로 보문산공원로 중구 보문산 따로 주변에는 보문산반찬식당 시설이 인기만점의 없으니 매일 내 식당 휴무주차장 보문산 반찬호떡보문산 또는 공영주차장을 이른시간부터 이용 착한 메뉴로는 외 먹을 사람들은 있습니다.', '묵 파전 보리밥 입니다.', '5천 메뉴는 보리밥을 요 반찬식당메뉴메뉴는 아주 가장 건강식을 있답니다.', '그 인기 가격에 주문해서 원이라는 단순했습니다.', '것은 아니지만 워낙 식당이 좋았습니다.', '인상적이었던 요 물은 누룽지 음식이 않고 넓은 요걸로 나오고 빨리 테이블 주신답니다.', '물 아메리카노 원 많은 것은 줄을 천원 포장해가시는 평일이었는데 많았답니다.', '씨앗호떡 혼자 분들이 부산의 1인 먹기에 한정할 인기 식당 기다림 크기가 씨앗호떡 씨앗치즈호떡 먹기 2천 호떡입니다.', '정말 호떡 요 판매하는 저렴한 방문한 바로 맛있었어요.', '무엇보다 날은 인기 못지않고 섰어요.', '주말에는 2천 있는 반찬식당에서 위해 끝에 커서 배불렀답니다 가장 입구에서 만큼 3개로 맛본 하지만 가겨입니다.', '오랜 원으로 7개씩 분들도 호떡을 메뉴랍니다.', '제가 수 오랜 힐링을 맘껏 관광하시는 하실 오월드 속의 기간 자연쉼터로 도심 거라고 대전을 자신함다요.', '뿌리공원 도 분들에게 대전시민들에게 있어서 공간입니다.', '주변에는 사랑받았던 보문산은 있을 놀러 오세요 대전으로 많이 대전 온라인관광팀최슬기']\n",
      "3번째 데이터: ['7월을 앞두고 시원한 여름 나들이 계획에 한창 설레고 있을 요즘 그동안 멀리 셔틀버스를 타고 다른 지역을 찾아 떠났다면 이번에는 지난 22일에 오픈해 운영중인 대전 오월드의 물놀이장을 이용해 보는 건 어떨까.', '단순히 더위만 식히는 것이 아니라 다채로운 체험과 볼거리가 준비되어 있어 오감이 즐거워지는 오월드에 주목해 보자.', '글 대전오월드2019년 대전방문의 해를 맞아 대전시 관광 활성화를 위한 대전 오월드만의 차별화된 컨텐츠 익사이팅 오월드가 오는 7월 1일부터 8월 31일까지 펼쳐진다.', '물놀이만으로 부족하다면 오월드 곳곳에 준비된 각종테마파크와 볼거리 일정을 미리 확인하고 방문하자.', '단순한 물놀이 그 이상의 즐거움으로 환상적인 오감만족의 세계를 맛 볼 수 있다.', '온 가족이 함께 즐길 수 있는 물놀이장여름철 무더위를 식혀주는 물놀이는 언제나 즐겁다.', '오월드 물놀이장은 수심이 낮아 아이들이 놀기 좋아 가족단위 손님이 많다.', '유아 어린이들이 안전하게 놀 수 있는 아마존 탐험놀이 존은 수심 1540의 폭 차이가 큰 풀장으로 미끄럼틀을 타고 물놀이를 하기 좋은 장소이다.', '반면 수심 5060의 중간 깊이 풀장의 슬라이드 존은 워터슬라이드가 있어 익사이팅한 물놀이를 즐길 수 있다.', '물놀이만으로 부족하다면오월드에는 다채로운 즐길거리가 준비되어 있다.', '먼저 다양한 새와 특이한 식물들을 한곳에서 볼 수 있는 버드랜드에서는 아마존 등에 서식하는 열대조류와 펭귄 등 다양한 희귀새들을 직접 보고 먹이도 주며 함께 사진도 찍을 수 있다.', '또한 관심과 흥미를 유발 할 수 있는 특이한 열대식물과 이색적인 다육식물 화려한 넝쿨성 행잉화분으로 꾸며진 아름다운 실내정원에서 여러 종류의 희귀 새들과 함께 새로운 체험의 기회가 준비되어 있다쥬랜드에서는 130여종 900여 마리가 생생하게 살아 움직이는 동물들의 이야기를 감상 할 수 있다.', '아름다운 꽃 이야기와 물의 나라 플라워랜드는 불꽃놀이와 콘크리트 숲으로 둘러 쌓인 도심에선 볼 수 없었던 초록빛 신록의 향연이 펼쳐진다.', '그래도 뭔가 아쉽다면 19종의 다양하고 수준 높은 놀이시설을 스릴과 함께 맛볼 수 있는 조이랜드가 기다리고 있다.', '익사이팅 오월드 축제의 향연전국 청소년 썸머 댄싱 경연 대회올여름 오월드를 뜨겁게 달궈줄 익사이팅 오월드는 오월드에서만 즐길 수 있는 축제이다.', '축제 기간 동안에는 다양한 행사와 공연이 준비 되어있는데 그 일환으로 전국 초등학생 청소년를 대상으로 전국 청소년 썸머 댄싱 경연 대회를 개최할 예정에 있다.', '이 대회는 힙합 밸리 탭댄스 등 장르 경연 대회이며 총 400만원 상당의 상금이 준비 되어 있을 뿐만 아니라 본 대회 입상자 중 만19세 이상은 대전 오월드 상설공연단 지원시 우선채용 특전이 주어진다.', '야간 개장동안 선보이는 특별 프로그램뜨거운 여름 열기에 많이 지쳤다면 오월드 야간개장을 노려보자.', '7월 19일8월 18일까지 여름밤을 화려하게 수놓을 빛의 축제 르미에르 오월드가 예정돼 있다.', '이 기간 동안은 매주 금 토는 22시까지 일은 20시까지 야간 개장으로 운영된다.', '특히 이 야간개장 기간 동안에 선보이는 특별 프로그램 난타 치어비보이 부터 오월드 오리지널 뮤지컬 안녕 원시인까지 다채롭게 준비된 공연들과 미스트롯 트로트 갈라쇼 익사이팅 펜싱경기 빅이벤트를 통해 더욱 풍성하고 화려한 축제의 막이 올려질 것으로 보인다.', '맺음말바쁜 일상에 지칠 때 쯤 즐거운 일이 계획 되어있다면 그 날을 손꼽아 기다리며 행복감에 힘이 솟아날 때가 있다.', '올 여름 어디로 떠날지 고민된다면 꼭 멀리 떠나지 않아도 다양한 체험과 볼거리가 준비되어 있는 오월드에서 사랑하는 사람들과 함께 보낼 계획을 세워보면 어떨까.', '그 날을 기대하며 한주를 다독이고 조금 더 기운을 내며 하루하루를 힘차게 보내자.', '축제안내기간 7월 1일 8월 31일주소 대전광역시 중구 사정공원로 70 문의']\n",
      "4번째 데이터: ['안녕하세요.', '오랜만에 찾아뵙는 제한입니다.', '이 글은 7년동안 내일로 44회 하면서얻은 경험을 바탕으로 작성한 내일로 여행의 모든 정보를 압축한 게시글입니다.', '추가적으로 궁금하신건 댓글이나 쪽지로 문의 부탁드립니다.', '본 편에서 다루는 정보는 다음과 같이 크게 6가지 주제입니다.', '1 내일로 계획 세우기2 기차 이용 방법3 동행4 국내 여행지5 국내 맛집6 게스트하우스처음', '가는 분들을 초점으로 맞추었기 때문에 내용이 엄청 많아요.', '1 내일로 계획 세우기언제 떠날지 대략적으로 일정이 나왔으면 이제는 계획을 짜도록 합니다.', '일단 내일로를 가려면 여행고수가 아닌 이상 대략적인 계획을 세우고 가야해요.', '사람마다 성격에 따라 상세하게 짤 수도 있고 큰 틀만 짤 수 있지만 완전 무계획으로 가는 것은 힘듭니다.', '내일로 여행 계획은 다음 순서로 세우시면 효율적이라고 생각됩니다.', '① 가고 싶은 곳을 먼저 메모즉흥여행이 아닌 이상 사실 내일로 여행 전체에서 가장 중요한 것입니다.', '예를 들어 꼭 먹고 싶은 음식 멋진 경치 사진이나 축제를 인터넷에서 보았다.', '그러면 그 쪽 정보를 검색을 통하여 자세히 알아 본 후자기가 꼭 가고 싶은 곳만 간추려 어딘가에 메모를 합니다.', '메모가 하나하나 쌓이고나면 계획을 시작할 때 지도를 펼쳐서 메모했던 모든 도시를 체크하여 기차노선으로 이어보시면 대략적인 코스가 나옵니다.', '저만의 방법 밑에 사진 처럼 가고 싶은 지역이 생길 때마다 무조건 메모② 기차 시간 버스 전체 시간 관광지를 둘러볼 시간 조정잘못된 정보는 전체적인 일정을 망칩니다어떤 여행자가 팔공산에 가고싶다고 가정한다면 동대구역 정류장 위치 및 팔공산 시내버스 정보와 팔공산 등산 왕복시간을 알고 있어야 합니다 동대구역같은 큰 역을 예로들었기에 기차시간을 별로 고려하지 않았지만 보성역 같이 하루에 기차가 별로 정차하지 않는 역은 기차 시간도 미리 알아둬야합니다 중요한 건 정보를 알아볼 때 작성일자가 최신이라는 것을 고려해야 합니다관광지를 둘러볼 시간도 무작정 정하는게 아니라 대부분 관광지를 들르면 다시 돌아오는 버스까지 시간을 고려하면서 둘러볼 시간을 정해야 합니다 무엇이든지 정보를 아는 사람이 더 쾌적하고 재밌게 여행을 할 수 있습니다 저만의 방법 기차는 코레일톡 시내버스는 지도앱으로 노선 확인 후 지자체 시간표 확인③ 게스트 하우스 및 관광 명소의 위치를 알아두고 미리 예약인기있는 게스트하우스는 거의 자리가 없습니다특히 여성의 경우에는 여행을 더 많이 가고 게스트하우스 이용률도 높아 자리가 일찍 차버립니다 또한 성수기에는 게스트하우스나 시티투어의 자리가 부족하므로 일정이 확실해진다면 바로 예약하는 것이 좋습니다 또한 위치도 함께 알아두는것이 좋습니다또한 게스트하우스 비용 파티비용도 예산에서 상당히 많은 부분을 차지하기 때문에 기회비용을 생각하여 합리적인 선택을 하시면 됩니다가격 위치의 정보를 모르겠으면 숙소에 직접 전화를 하는게 가장 빠릅니다④ 전체 예산교통 숙박 식사 및 관광의 비용을 미리 검색을 통해 알아보세요그리고 적당한 현금의 비상금도 들고 있는게 좋습니다패러글라이딩 번지점프 등 많은 비용이 드는 것은 따로 빼두시고 사찰국립공원 입장료 같은 저렴한 돈까지 예산할 필요는 없습니다여기서 돈의 여유가 없으시면 23번의 순서를 조금씩 조정하셔야 합니다저만의 방법 숙박비의 경우 숙소정보를 찾아보고 식비 또한 후기를 보고 가격정보를 알아냅니다 관광지 요금도 검색하신다면 다 나와요⑤ 효율적으로 코스 세우기내일로 여행 중에도 써먹을 수 있는 방법입니다내일로 기간은 357일이라 보통 주말이 포함 될 수 밖에 없는데 7월말8월초 12월말 같은 성수기를 제외하고 평일과 주말은 인파 및 가격의 차이가 큽니다사람이 많다는건 내일로 여행자의 관점에서는 장점도 있겠지만 단점이 훨씬 많습니다주말을 피해야 되는 일정은 대표적으로새벽기차 패러글라이딩 및 레일바이크 등 예약이 필요한 체험 지역축제 제주도 왕복교통 주말 가격이 훨씬 비싼곳 입니다여름으로 예를 들면 금요일영월 래프팅 토요일제천 번지점프를 하는 일정을 짠 사람이 있습니다 여름에는 평일에도 번지점프에 사람이 꽤 있겠지만 주말에는 평일 이상으로 엄청 많습니다 번지점프 기다리는데 몇 시간 기다릴 수도 있습니다하지만 제천영월 간은 이동시간도 30분밖에 안되는데다가 영월 동강래프팅은 사람이 많을 때 더 좋은 것의 대표적인 예 이므로 기존 계획에서 금요일과 토요일의 일정을 서로 바꾸어 주말에 영월 일정을 소화하는 방법이 좋습니다 이렇게 하루정도 뒤바꾼다고 전체적인 일정에 큰 영향을 주지 않기 때문입니다 아니 그러면 주말에 도대체 어디가요사람이 많아도 여행하기에 불편함이 적거나오히려 위에서 언급한 래프팅처럼 장점이 되는곳을 가는것이 현명합니다대표적으로 동강래프팅 전주막걸리모임 도시투어 역사투어 조용한 여행지 최소인원이 필요한 체험이나 시티투어 등 사람이 많으면 더 좋거나 사람 수에 따른 악영향이 별로 없는 일정입니다숙박의 경우 금토 밤에는 게스트하우스에서 파티가 대부분 크게 이루어지나 가격을 더 받는 곳도 있으니 양날의 검입니다 하지만 보통 금토 밤이 더 재밌긴 합니다이런 점을 고려해서 계획을 짠다면 같은 곳을 가는 내일로라도 좀 더 저렴하게 즐거운 여행을 할 수 있습니다날씨 또한 예보를 잘 확인하셔서 눈비가 내리는 날에 눈비가 올 때 더 좋은 여행지를 방문할 수 있게 일정을 조정하시면 됩니다 저는 보통 하루종일 비가 오는 날에 먼 거리를 이동하는 일정으로 하도록 합니다⑥ 실수가 없는지 점검 주변사람에게 조언을 듣는것도 나쁘지 않습니다 정 없으면 내일로 카페에 글을 올리셔서 회원분들에게 조언을 구하는것도 좋은선택입니다저만의 방법 2 기차 이용 앉아가기 그리고 새벽기차내일로를 떠나게 되면 대부분의 시간을 기차에서 보내게 될텐데 이제부터 다룰 것은 그 많은 시간동안 조금이라도 앉아갈 수 있는 방법과 꼬인 일정을 단번에 풀어 줄 수도 있는 새벽기차에 대해서 알아보겠습니다먼저 기차에서 앉아가는 방법입니다너무 꿀팁이여서 본 글을 자세히 보신 분들이 알아가시라고 일부러 글 중간에 적었어요하지만 휴가철에는 모든 기차가 자리가 부족하니 그 외의 기간에서만 통합니다먼저 내일로 티켓으로 탑승 가능한 기차와 불가능한 기차 그리고 자유석 소개입니다 자유석 먼저 앉으면 그 자리를 자신의 자리로 할 수 있는 좌석새마을호기차 출발역 기준으로 평일 이른 오전과 저녁에 출발하는 기차들이 자유석을 운영합니다시간이 정해져 있는 것이 아니기 때문에 코레일톡에서 시간을 검색하셔서 탑승할 기차를 누른 후 자유석입석역발매중이 표시된 기차라면 6호차가 자유석입니다하지만 자유석을 운영하지 않는 시간대의 새마을호를 타게 된다면 내일로에게 있어서 최악의 기차가 됩니다왜냐하면 기본적으로 카페객차가 존재하지 않고 또한 칸과 칸 사이와 기차 내에 빈 공간이 딱히 없기 때문에 저도 내리는 계단의 반대편 계단에 앉는 법 빼고는 아직 못 찾을 정도로 최악의 기차이므로 가급적이면 자리가 없고 자유석이 없는 주말 탑승은 피하세요무궁화호사람이 없는 기차를 찾는 것이 가장 좋지만 대부분의 무궁화호가 카페객차가 있으며 무궁화라고 하는 기차는 미니카페에다가 자유석도 있어 입석인 내일로가 앉기가 용이하지만 열차편성이 별로 없습니다 그리고 무궁화호는 절대적인 나의 자리가 존재하지 않기 때문에 좌석에 앉는다고 해도 언제나 가시방석이며 차라리 타자마자 4호차인 카페객차로 달려가서 전철처럼 생긴 자리에 앉는 것이 마음 편할 수도 있어요추가적으로 카페객차가 없는 무궁화호도 있습니다 그럴 때는 어쩔 수 없이 빈 좌석에 앉아야 하는데 무궁화호는 자동발매시 중간 호차 중간 자리부터 먼저 팔립니다반대로 생각해보면 끝 호차 끝 자리가 앉아갈 확률이 높습니다빈 좌석 조회를 하시면 쉽게 아실 수 있는데 좌석 조회 방법은 더 아래에서 소개합니다마지막으로 숨겨진 좋은 자리는 기차 안 맨 뒷자리 공간청춘다른 기차에 비해 타실 일이 거의 없으시겠지만 456호차가 1층이 자유석입니다하지만 기차마다 자유석 호차가 다르기 때문에 사전에 기차편성을 확인하셔야 합니다 관광기차내일로 티켓만 가지고 탑승하시면 큰일납니다나 관광열차는 내일로 티켓 소지 시 60 할인 혜택만 있습니다는 평일에만 할인 가격 구매 가능 ① 좌석 조회 방법코레일톡 앱에서 이용할 구간과 시간을 먼저 조회합니다탈 기차의 일반실을 눌러서좌석선택 기차시각 좌석선택의 경우 빨간색 동그라미로 된 투명색이 되지 않은 곳이 빈 자리입니다하지만 이것은 출발 20분전까지만 확인이 가능해요0410 이후로는 동대구에서 출발하는 기차는 좌석조회를 못하지만대구역으로 출발하는 것으로 바꿔서 검색하면0417 전까지 좌석 검색을 할 수 있어요그러므로 좌석을 알아보실 때 이후의 역을 출발지로 설정하여 검색하시면 편리합니다보통 빈자리의 변화가 없지만맨 밑에서 언급하는 큰 역에서는 변화가 크기 때문에잘 확인해주셔야해요다시 소개하는 자유석 청춘 456호차 1층 새마을호 6호차자유석 역발매중이라고 뜬 것만 자유석입니다② 사람이 많은 노선 앉아가기1 경부선 주말 월 오전 금요일 오후를 제외하면 평일은 좌석 조회 방법으로 해결가능 주말에는 느린 무궁화 카페기차 빠른 새마을 통로입석선택은 본인의 몫2 전라선이거 때문에 작성한 파트입니다서울에서 출발하는 내일로는 대부분용산에서 전주순천여수로 가기 위해 이 노선을 이용합니다불행하게도 이 기차는 사람이 많은 편이에요그래서 제가 찾은 방법은1 광주 목포행 기차를 타고 익산까지 이동한다2 익산에서 전주순천여수로 이동한다용산에서 내려오는 기차로 갈아타셔도 되지만아래 사진처럼 무궁화호 년부터 지금까지도 이 생각을 하게 된 계기는 동행 모집에 열을 내지 않았음에도첫번째 내일로 때부터 혼자 다니다보면 우연스러운 만남을 계속해서 경험했기 때문입니다혼자서 마을길을 걷다가 말을 걸어주시는 할머니 인적이 드문 조용한 여행지에서 만난 여행자와의 대화 지역 이야기 해주는 택시 아저씨 어쩌다가 같은 테이블에서 식사를 하게 된 손님 도미토리 2층 침대에 계신 게스트 기차 옆 자리 승객 등사전에 모집을 하지 않아도 여행길 위에서 만날 수 있는 인연은 너무나도 많습니다언젠가 지나가다 본 글에서의도치 않은 만남은 여행의 즐거움을 더해주지만 의도한 만남을 유도하는 것은 서로가 여행의 좋은 의미를 망치게 되는 악영향을 미치게 됩니다라는 글을 보았는데 본 항목을 한 문장으로 정리해주는 문장입니다사람과의 즐거움은 본인이 생각한 여행의 범위에서 벗어나지 않을 정도로만 즐기시면 됩니다쉽게 말해서 가치의 무게가 여행이 더 클 뿐입니다약간의 농담을 섞어서 예로 들면 스타벅스 사주는 사람과 스타벅스 가기 매력적인 이성과 안 맞는 음식 먹기가치를 스타벅스 비유해서 개그처럼 보이시겠지만 여행이란것 자체가 바쁜 일상 속에서 쉼표를 찍으려고 떠나는 것이지남자 여자를 보러 가기 위한 매개체가 아닙니다.', '여행은 여행인 것이고 사람을 만나기 위한 방법은 여행말고도 얼마든지 많습니다.', '다시 말해 사람을 만나는 것은 여행에서 느낄 수 있는 즐거움의 하나지만 메인은 아니기 때문에최소한 여행 중에는 여행의 목적이 아닌 이성을 목적으로 하는 것을 저는 정말로 추천드리지 않습니다.', '끌려다니는 여행을 하다가 나만의 여행을 하지 못하여 쉼표도 못 찍고 다시 바쁜 일상으로 돌아오실 수도 있습니다.', '여행 중에 커플이 결성될 확률은 극히 희박합니다마지막으로 다수의 친구분들과 여행을 가신다면 동행보다는 친구들과의 여행에 집중하는 것이 좋습니다처음에 같이 떠날 때 친구분들과 평생의 추억을 만드려고 출발하신것 아닌지요이런 것처럼요이제 끝낼 때인가 제 인생에서 최고의 여행이었던40번째 내일로의 사진을 끝으로본 게시글을 마치겠습니다퍼 가실 때는 퍼 간다는 내용의 댓글과 출처를 밝혀주세요 혹시나 필요하신 분이 있을까봐테마별 내일로 코스 0623 1530']\n",
      "5번째 데이터: ['리플코인 전망 코인의민족 제대로네여러분들은 암호화폐에 대한 정보를 어디서얻고 계시나요.', '저도 처음에는 여기저기 다양한 사이트를 다니면서 눈팅으로 리플코인 전망에 대한 정보를입수하곤 했는데요.', '그렇게 눈팅만 하다 보니 제대로 된 정보를 얻지못하는 경우가 발생을 해서 결국 한 곳에 정착을하고자 사이트를 알아보게 되었는데요.', '그렇게 알아보고 선택을 한 곳이 바로 코인의 민족입니다.', '이 사이트는 가입시 시즈코인 50개를 에어드랍할 수 있어서 좋더라구요.', '더 좋았던 점은 리플코인 전망에 대한 소식도 사이트를통해서 접할 수 있지만 커뮤니티 안정화와 활성화가제대로 이뤄지고 나면 시즈코인은 외부거래소 상장으로원활한 거래환경을 지원하는데 사용을 하거나 또 아니면자체 거래소 운영으로 시즈코인의 다각적인 거래 환경을구축해나갈 예정이란 점도 마음에 들었어요.', '솔직히 어떤 커뮤니티에서는 자신들의 배만 불리는데급급한 곳들이 정말 많은데요.', '그래서 많은 분들이 리플코인 전망에 대한 정보도 알아보고실제로 가상화폐 거래까지 진행을 했는데 먹튀를 당하거나사기를 당하는 사례가 속출하고 있는데요.', '저도 이 코인의 민족에 가입을 할 때 솔직히 걱정이 많았습니다.', '이 사이트도 가상화폐에 대한 정보를 제공한다고 해 놓고선먹튀를 하는 것은 아닌지 은근 걱정이 많았는데요.', '제가 직접 가입을 해서 활동을 해 본 결과 절대 먹튀에 대한걱정은 하지 않아도 되겠다는 확신이 섰습니다.', '더욱 좋았던 점은 양질의 컨텐츠를 생산해 낸 회원들과수익을 공유할 수 있는 건전한 커뮤니티의 표본이 되기위해서 열심히 노력하고 있다는 점도 리플코인 전망에대해 알아보면서 이 사이트를 신뢰할 수 있게 되었습니다.', '실제로 코인의 민족을 운영하고 있는 제니스 는 이런점을 역으로 생각해 먼저 실생활에 이용될 수 있고 또암호화폐가 가치를 가질 수 있는 다시 말해 유용하게활용될 수 있는 출구를 만들어 둔 후 외부상장이나 거래소를 직접 운영하는 등을 통해서 자리매김을 해 나갈방침을 세우고 있다는 점 역시 안심이 되었어요.', '이런 계획들이 없이 무조건 거래소를 직접 운영하고있다거나 또 자신들의 사이트를 이용하면 무조건리플코인 전망을 통해 수익을 창출할 수 있다고떠드는 곳들도 많이 있는데요.', '그런 곳들은 실제 가입을 해서 활동을 해 보면 실속은 없고오히려 손해만 보는 경우도 많아서 제대로 알아보고가입을 한 후 활동을 하는 것이 정말 중요하다는것을 주변 지인들의 경험을 통해서 전 잘 알고 있는데요.', '그래서 이번에 코인의 민족을 가입할 때도 걱정이많았고 걱정이 많았던 만큼 정말 안심하고 활동할 수 있는곳인지 정말 제대로 된 암호화폐 정보를 얻을 수 있는지꼼꼼히 따져본 후 활동을 하기 시작했는데요.', '아직 많이 활성화 되어 있진 않지만 꾸준히 회원들이가입을 하고 있고 또 실제 회원들 간에 가상화폐에 대한정보들을 얻을 수 있어서 안심이 되더라구요.', '간혹 코인의 민족에 대해 오해를 하는 분들이 있는데요.', '이 사이트는 암호화폐에 대한 정보를 공유하는커뮤니티 사이트라는 점을 아셔야 해요.', '커뮤니티 활성화를 목적으로 기여한 부분 만큼을 실제보상으로 가능하게 시즈코인으로 경매 입찰권을 증정하고있기 때문에 무리하지 않게 적당한 선에서 입찰에 참여할 것을 권할 정도로 정말 건전한 사이트라는 점을실제 가입을 해서 활동을 하고 있는 사람으로서강조 드리고 싶습니다.', '코인의 민족 링크 민족 홀더방 2코인의 민족 공식방 5 접기']\n",
      "...\n"
     ]
    }
   ],
   "source": [
    "for i in range(len(data_df)): # 5문장 정도만 내용 확인\n",
    "    data_list = data_df['text'].iloc[i]\n",
    "    print(f'{i}번째 데이터: {data_list}')\n",
    "    if i == 5: \n",
    "        print('...')\n",
    "        break"
   ]
  },
  {
   "cell_type": "code",
   "execution_count": 57,
   "id": "4710f4cb",
   "metadata": {},
   "outputs": [
    {
     "name": "stderr",
     "output_type": "stream",
     "text": [
      "100%|██████████| 14/14 [00:00<00:00, 4046.05it/s]\n"
     ]
    }
   ],
   "source": [
    "for i in tqdm(range(len(data_df))):\n",
    "    data_list = data_df['text'].iloc[i]\n",
    "    data_df['text'].iloc[i] = ' '.join(data_list)"
   ]
  },
  {
   "cell_type": "code",
   "execution_count": 58,
   "id": "33ea6161",
   "metadata": {
    "scrolled": true
   },
   "outputs": [
    {
     "data": {
      "text/plain": [
       "'2019대전 20개월 아기와 함께 당일치기 여행 첫차를 산 동생에게 친절한 형부가 탁송서비스를 해주기로 했다. 처음엔 카의 탁송서비스를 이용할 생각이었으나 주행도 해보고 내부 정리도 조금 해야 될 것 같아서그리고 구매 지점이 우리집과 가까워서 일단 집으로 차를 가져왔었다. 덕분에 떠나게 된 대전여행나들이 좋아하는 루아는 신바람이 났다. 늘 들르는 송산포도 휴게소에서 아침 겸 점심을 먹고 젤리도 조금 사고 아빠는 또 야구게임도 좀 하고 아홉시부터 나섰더니 길막힘 없이 수월하게 대전까지 도착했다. 20개월의 루아는 여전히 떼를 쓰는 시기지만 말을 알아들으니 달랠 수도 있게 되었다. 이건 먹는게 아니야 지지야 맘마먹고 놀이터가자 추우니까 옷입고 놀자덕분에 요즘 외출도 여행도 훨씬 수월하고 즐겁다. 한 번만의 의미도 이해해주면 좋겠는데이건 일부러 안 배우는 걸까. 으리으리한 둔산동 파스쿠찌우리와 연이 깊었던 대전 파스쿠찌 젤라또 아이스크림 한 컵을 주니 루아는 또 세상 행복해했다 나나 곰돌이는 달달한 간식을 싫어하는 편인데 루아가 너무 행복해하니 가끔 뭐가 저렇게 좋을까 싶은 생각도 든다 어릴 땐 이렇게 아이스크림을 좋아했었겠지 동생에게 차를 전달하고 약간의 기능 설명과 주행을 해본 후 헤어졌다 겁을 먹은듯한 동생 연수 꼭 잘 받아서 안전운전하길 이제 주말에 여유 생길 테니 자주 볼 수 있으면 좋겠다2019대전 20개월 아기와 함께 당일치기여행 오월드대전에 온 김에 궁금했던 오월드에 들러보기로 했다우리의 목적은 사파리였기에 입구에서 입장권만 끊고 안에서 사파리를 따로 끊었는데구경하다 보니 자유이용권을 끊을 걸 그랬나 후회했다 생각보다 유아가 탈만한 놀이기구가 많았고 개별 이용권 구매 시 생각보다 가격이 비쌌다입장권 성인 12000인사파리 성인6000인운영시간놀이기구 어린이 탑승 제한들어가자마자 사파리로 직행 루아는 지난 5월 에버랜드 사파리에 이어 두 번째 사파리 방문이데5월의 에버랜드는 조금 빨리 찾아온 더위와 많은 인파와 긴 줄 때문에 너무 힘들었었다그에 비하면 40여 분의 대기와 선선한 날씨곰 호랑이 사자 기린 타조 얼룩말생각보다 동물도 많아서 여기 오길 참 잘했다고 생각했다 잘 기다려줘서 고마워곰에 집중아빠가 싫어할 것 같은 급 가족사진어흥어흥에버랜드 때와 달리 동물들에게 굉장히 집중하고 흉내를 내가며 너무 즐거워했다 5개월 사이에 이렇게 자랐구나인생첫 놀이기구 칙칙폭폭 기차여행 줄 서 있을 땐 안 탄다고 발버둥 치더니 출발하자 조금 놀란 눈치였고 내릴 때는 안 내린다고 떼를 썼다 달래는 엄마 마음도 참 아쉬웠단다오늘 사진은 왜 다 눈을 감은 건지 컨셉이었니 성공적이었던 오월드 방문기 2시간 남짓한 짧은 시간이었지만 알차고 좋았다 저녁은반갱 대전 퓨전 한식 레스토랑 반갱 20개월 아기와 다녀온 후기 카테고리는 직접 알아보고 이용한 서비스에 직접 비용을 지불한 깨끗한 후기만을 작성합니다. 여여행의 끝에 맛집이 빠질 수는 없으니 정부청사 근처 반갱이라는 퓨전 한식집에서 푸짐한 저녁까지 먹고 를 타고 돌아왔다. 2주 연속 끝까지 기운 넘치는 딸내미대전여행에 성심당은 필수'"
      ]
     },
     "execution_count": 58,
     "metadata": {},
     "output_type": "execute_result"
    }
   ],
   "source": [
    "data_df['text'].iloc[0]"
   ]
  },
  {
   "cell_type": "markdown",
   "id": "32b7eefe",
   "metadata": {},
   "source": [
    "다시 문장 분리 수행"
   ]
  },
  {
   "cell_type": "code",
   "execution_count": 59,
   "id": "c3adfad6",
   "metadata": {},
   "outputs": [],
   "source": [
    "data_df['text'] = data_df['text'].map(kss.split_sentences)"
   ]
  },
  {
   "cell_type": "markdown",
   "id": "e2ffbe69",
   "metadata": {},
   "source": [
    "문장분리 > 정규표현식 > 맞춤법 검사 > 다시 문단 > 문장분리를 수행했을때 이상하게 문장 중간에 짤리는 경우가 개선된 것을 확인할 수 있습니다. 마지막으로 문장 분리 후 다시 맞춤법 검사를 거치면 정제된 문장이 추출되는 것을 확인할 수 있습니다."
   ]
  },
  {
   "cell_type": "code",
   "execution_count": 60,
   "id": "656f4f15",
   "metadata": {
    "scrolled": true
   },
   "outputs": [
    {
     "data": {
      "text/plain": [
       "['2019대전 20개월 아기와 함께 당일치기 여행 첫차를 산 동생에게 친절한 형부가 탁송서비스를 해주기로 했다.',\n",
       " '처음엔 카의 탁송서비스를 이용할 생각이었으나 주행도 해보고 내부 정리도 조금 해야 될 것 같아서그리고 구매 지점이 우리집과 가까워서 일단 집으로 차를 가져왔었다.',\n",
       " '덕분에 떠나게 된 대전여행나들이 좋아하는 루아는 신바람이 났다.',\n",
       " '늘 들르는 송산포도 휴게소에서 아침 겸 점심을 먹고 젤리도 조금 사고 아빠는 또 야구게임도 좀 하고 아홉시부터 나섰더니 길막힘 없이 수월하게 대전까지 도착했다.',\n",
       " '20개월의 루아는 여전히 떼를 쓰는 시기지만 말을 알아들으니 달랠 수도 있게 되었다.',\n",
       " '이건 먹는게 아니야 지지야 맘마먹고 놀이터가자 추우니까 옷입고 놀자덕분에 요즘 외출도 여행도 훨씬 수월하고 즐겁다.',\n",
       " '한 번만의 의미도 이해해주면 좋겠는데이건 일부러 안 배우는 걸까.',\n",
       " '으리으리한 둔산동 파스쿠찌우리와 연이 깊었던 대전 파스쿠찌 젤라또 아이스크림 한 컵을 주니 루아는 또 세상 행복해했다',\n",
       " '나나 곰돌이는 달달한 간식을 싫어하는 편인데 루아가 너무 행복해하니 가끔 뭐가 저렇게 좋을까 싶은 생각도 든다 어릴 땐 이렇게 아이스크림을 좋아했었겠지 동생에게 차를 전달하고 약간의 기능 설명과 주행을 해본 후 헤어졌다',\n",
       " '겁을 먹은듯한 동생 연수 꼭 잘 받아서 안전운전하길 이제 주말에 여유 생길 테니 자주 볼 수 있으면 좋겠다2019대전 20개월 아기와 함께 당일치기여행 오월드대전에 온 김에 궁금했던 오월드에 들러보기로 했다우리의 목적은 사파리였기에 입구에서 입장권만 끊고 안에서 사파리를 따로 끊었는데구경하다 보니 자유이용권을 끊을 걸 그랬나 후회했다',\n",
       " '생각보다 유아가 탈만한 놀이기구가 많았고 개별 이용권 구매 시 생각보다 가격이 비쌌다입장권 성인 12000인사파리 성인6000인운영시간놀이기구 어린이 탑승 제한들어가자마자 사파리로 직행 루아는 지난 5월 에버랜드 사파리에 이어 두 번째 사파리 방문이데5월의 에버랜드는 조금 빨리 찾아온 더위와 많은 인파와 긴 줄 때문에 너무 힘들었었다그에 비하면 40여 분의 대기와 선선한 날씨곰 호랑이 사자 기린 타조 얼룩말생각보다 동물도 많아서 여기 오길 참 잘했다고 생각했다',\n",
       " '잘 기다려줘서 고마워곰에 집중아빠가 싫어할 것 같은 급 가족사진어흥어흥에버랜드 때와 달리 동물들에게 굉장히 집중하고 흉내를 내가며 너무 즐거워했다',\n",
       " '5개월 사이에 이렇게 자랐구나인생첫 놀이기구 칙칙폭폭 기차여행 줄 서 있을 땐 안 탄다고 발버둥 치더니 출발하자 조금 놀란 눈치였고 내릴 때는 안 내린다고 떼를 썼다',\n",
       " '달래는 엄마 마음도 참 아쉬웠단다오늘 사진은 왜 다 눈을 감은 건지 컨셉이었니 성공적이었던 오월드 방문기 2시간 남짓한 짧은 시간이었지만 알차고 좋았다',\n",
       " '저녁은반갱 대전 퓨전 한식 레스토랑 반갱 20개월 아기와 다녀온 후기 카테고리는 직접 알아보고 이용한 서비스에 직접 비용을 지불한 깨끗한 후기만을 작성합니다.',\n",
       " '여여행의 끝에 맛집이 빠질 수는 없으니 정부청사 근처 반갱이라는 퓨전 한식집에서 푸짐한 저녁까지 먹고 를 타고 돌아왔다.',\n",
       " '2주 연속 끝까지 기운 넘치는 딸내미대전여행에 성심당은 필수']"
      ]
     },
     "execution_count": 60,
     "metadata": {},
     "output_type": "execute_result"
    }
   ],
   "source": [
    "data_df['text'].iloc[0]"
   ]
  },
  {
   "cell_type": "markdown",
   "id": "67a2b6e4",
   "metadata": {},
   "source": [
    "## 맞춤법 검사 후 문장 분리\n",
    "* [py-hanspell](https://github.com/ssut/py-hanspell): 네이버 맞춤법 검사기를 기반으로 합니다, pip 설치시 error가 있어서 git clone을 활용해야합니다. \n",
    "* [부산대 맞춤법 검사기 using selenium](https://hong-yp-ml-records.tistory.com/99): 부산대 맞춤법 검사기는 python 2.x 버전에 해당해서, 해당 블로그에서 Selenium을 활용해 맞춤법 검사를 진행한다. 해당 블로그 실험에서는 py-hanspell의 성능이 나았으므로 맞춤법 검사는 py-hanspell로만 진행하겠습니다. \n",
    "* [py-hangul-checker](https://pypi.org/project/py-hangul-checker/)"
   ]
  },
  {
   "cell_type": "markdown",
   "id": "91c4c936",
   "metadata": {},
   "source": [
    "### pykospacing 띄어쓰기 교정"
   ]
  },
  {
   "cell_type": "markdown",
   "id": "38c62dac",
   "metadata": {},
   "source": [
    "* [띄어쓰기 교정 관련 블로그](https://jeongukjae.github.io/posts/korean-spacing-model/)\n",
    "* [kospacing](https://github.com/haven-jeon/PyKoSpacing)\n",
    "* [soyspacing](https://taeguu.tistory.com/55)"
   ]
  },
  {
   "cell_type": "code",
   "execution_count": 61,
   "id": "8c7b8e67",
   "metadata": {},
   "outputs": [],
   "source": [
    "from pykospacing import Spacing # 띄어쓰기 교정 라이브러리 "
   ]
  },
  {
   "cell_type": "code",
   "execution_count": 62,
   "id": "b7228276",
   "metadata": {},
   "outputs": [],
   "source": [
    "spacing = Spacing(rules=['하지만']) # rule을 추가해줄 수 있다. "
   ]
  },
  {
   "cell_type": "code",
   "execution_count": 63,
   "id": "80757f0a",
   "metadata": {},
   "outputs": [
    {
     "name": "stderr",
     "output_type": "stream",
     "text": [
      "100%|██████████| 14/14 [00:24<00:00,  1.75s/it]\n"
     ]
    }
   ],
   "source": [
    "for i in tqdm(range(len(data_df))):\n",
    "    data_list = data_df['text'].iloc[i]\n",
    "    data_df['text'].iloc[i] = list(map(spacing, data_list))"
   ]
  },
  {
   "cell_type": "code",
   "execution_count": 64,
   "id": "6fc34f6d",
   "metadata": {
    "scrolled": false
   },
   "outputs": [],
   "source": [
    "# data_df['text'].iloc[0]"
   ]
  },
  {
   "cell_type": "markdown",
   "id": "613656fe",
   "metadata": {},
   "source": [
    "### soyspacing 띄어쓰기 교정"
   ]
  },
  {
   "cell_type": "code",
   "execution_count": 65,
   "id": "dfa46dd4",
   "metadata": {},
   "outputs": [
    {
     "name": "stdout",
     "output_type": "stream",
     "text": [
      "/home/aiffel-dj19/jungcheck/DataPreprocessing\r\n"
     ]
    }
   ],
   "source": [
    "!pwd"
   ]
  },
  {
   "cell_type": "code",
   "execution_count": 66,
   "id": "2fc6c743",
   "metadata": {
    "scrolled": true
   },
   "outputs": [],
   "source": [
    "from soyspacing.countbase import CountSpace"
   ]
  },
  {
   "cell_type": "code",
   "execution_count": 67,
   "id": "1797acc3",
   "metadata": {},
   "outputs": [],
   "source": [
    "############ 모델 train\n",
    "corpus_fname = os.path.join(os.getcwd(),'134963_norm.txt')\n",
    "model = CountSpace() \n",
    "\n",
    "# model.train(corpus_fname) #학습 \n",
    "# model_fname = './soyspacing.model' #모델 저장위치\n",
    "# model.save_model(model_fname, json_format=False) #모델 저장"
   ]
  },
  {
   "cell_type": "code",
   "execution_count": 68,
   "id": "d0d8f533",
   "metadata": {},
   "outputs": [],
   "source": [
    "model.load_model('./soyspacing.model', json_format=False) #저장 후 모델 불러올때 사용"
   ]
  },
  {
   "cell_type": "code",
   "execution_count": 69,
   "id": "7eed1dac",
   "metadata": {},
   "outputs": [],
   "source": [
    "verbose=False\n",
    "\n",
    "mc = 10  # min_count\n",
    "ft = 0.3 # force_abs_threshold\n",
    "nt =-0.3 # nonspace_threshold\n",
    "st = 0.3 # space_threshold"
   ]
  },
  {
   "cell_type": "code",
   "execution_count": 70,
   "id": "c5ef290e",
   "metadata": {
    "scrolled": true
   },
   "outputs": [],
   "source": [
    "from soyspacing.countbase import RuleDict\n",
    "\n",
    "rule_fname = os.path.join(os.getcwd(),'space_rule.txt')\n",
    "rule_dict = RuleDict(rule_fname)"
   ]
  },
  {
   "cell_type": "code",
   "execution_count": 71,
   "id": "da24f72f",
   "metadata": {},
   "outputs": [
    {
     "name": "stderr",
     "output_type": "stream",
     "text": [
      "100%|██████████| 14/14 [00:00<00:00, 26.58it/s]\n"
     ]
    }
   ],
   "source": [
    "for i in tqdm(range(len(data_df))):\n",
    "    data_list = data_df['text'].iloc[i]\n",
    "    result_list = []\n",
    "    for sen in data_list:\n",
    "        result, _ = model.correct(doc=sen,\n",
    "                                  verbose=verbose,\n",
    "                                  force_abs_threshold=ft,\n",
    "                                  nonspace_threshold=nt,\n",
    "                                  space_threshold=st,\n",
    "                                  min_count=mc,\n",
    "                                  rules=rule_dict)\n",
    "        result_list.append(result)\n",
    "    data_df['text'].iloc[i] = result_list"
   ]
  },
  {
   "cell_type": "code",
   "execution_count": 72,
   "id": "6b14ac41",
   "metadata": {
    "scrolled": true
   },
   "outputs": [
    {
     "data": {
      "text/plain": [
       "['2019 대전 20개월 아기와 함께 당일치기 여행 첫 차를 산 동생에게 친절한 형부가 탁송 서비스를 해주기로 했다.',\n",
       " '처음엔 카의 탁송 서비스를 이용할 생각이었으나 주행도 해보고 내부 정리도 조금 해야 될 것 같아서 그리고 구매 지점이 우리집과 가까워서 일단 집으로 차를 가져왔었다.',\n",
       " '덕분에 떠나게 된 대전 여행나들이 좋아하는 루아는 신바람이 났다.',\n",
       " '늘 들르는 송산포도 휴게소에서 아침 겸 점심을 먹고 젤리도 조금 사고 아빠는 또 야구게임도 좀 하고 아홉 시부터 나섰더니 길 막힘 없이 수월하게 대전까지 도착했다.',\n",
       " '20개월의 루아는 여전히 떼를 쓰는 시 기지만 말을 알아들으니 달랠 수도 있게 되었다.',\n",
       " '이건 먹는 게 아니야 지지야 맘마먹고 놀이터가자 추우니까 옷 입고 놀자 덕분에 요즘 외출도 여행도 훨씬 수월하고 즐겁다.',\n",
       " '한 번만의 의미도 이해해주면 좋겠는데 이건 일부러 안 배우는 걸까.',\n",
       " '으리으리한 둔산동 파스쿠찌 우리와 연이 깊었던 대전 파스쿠찌 젤라또 아이스크림 한 컵을 주니 루아는 또 세상 행복해했다',\n",
       " '나나 곰돌이는 달달한 간식을 싫어하는 편인데 루아가 너무 행복해하니 가끔 뭐가 저렇게 좋을까 싶은 생각도 든 다 어릴 땐 이렇게 아이스크림을 좋아했었겠지 동생에게 차를 전달하고 약간의 기능 설명과 주행을 해본 후 헤어졌다',\n",
       " '겁을 먹은 듯한 동생 연수 꼭 잘 받아서 안전운전하길 이 제 주말에 여유 생길 테니 자주 볼 수 있으면 좋겠다 2019 대전 20개월 아기와 함께 당일치기 여행 오월드 대전에 온 김에 궁금했던 오월드에 들러 보기로 했다 우리의 목적은 사파리였기에 입구에서 입장권만 끊고 안에서 사파리를 따로 끊었는데 구경하다 보니 자유이용권을 끊을 걸 그랬나 후회했다',\n",
       " '생각보다 유아가 탈만한 놀이기구가 많았고 개별 이용권 구매 시 생각보다 가격이 비쌌다 입장권 성인 12000인 사파리 성인 6000인 운영시간 놀이기구 어린이 탑승 제한 들어가자마자 사파리로 직행 루아는 지난 5월 에버랜드 사파리에 이어 두 번째 사파리 방문이데 5월의 에버랜드는 조금 빨리 찾아온 더위와 많은 인파와 긴 줄 때문에 너무 힘들었었다 그에 비하면 40여 분의 대기와 선선한 날씨 곰 호랑이 사자 기린 타조 얼룩말 생각보다 동물도 많아서 여기 오길 참 잘했다고 생각했다',\n",
       " '잘 기다려줘서 고마워곰에 집중 아빠가 싫어할 것 같은 급 가족사진 어 흥어흥 에버랜드 때와 달리 동물들에게 굉장히 집중하고 흉내를 내가며 너무 즐거워했다',\n",
       " '5개월 사이에 이렇게 자랐구나 인생 첫 놀이기구 칙칙 폭폭 기차여행 줄 서 있을 땐 안 탄다고 발버둥 치더니 출발하자 조금 놀란 눈치였고 내릴 때는 안 내린다고 떼를 썼다',\n",
       " '달래는 엄마 마음도 참 아쉬웠단다 오늘 사진은 왜 다 눈을 감은 건지 컨셉이었니 성공적이었던 오월드 방문 기 2시간 남짓한 짧은 시간이었지만 알차고 좋았다',\n",
       " '저녁은 반갱 대전 퓨전 한식 레스토랑 반 갱 20개월 아기와 다녀온 후기 카테고리는 직접 알아보고 이용한 서비스에 직접 비용을 지불한 깨끗한 후기만을 작성합니다.',\n",
       " '여 여행의 끝에 맛집이 빠질 수는 없으니 정부청사 근처 반 갱이라는 퓨전 한식집에서 푸짐한 저녁까지 먹고 를 타고 돌아왔다.',\n",
       " '2주 연속 끝까지 기운 넘치는 딸 내 미 대전 여행에 성심당은 필수']"
      ]
     },
     "execution_count": 72,
     "metadata": {},
     "output_type": "execute_result"
    }
   ],
   "source": [
    "data_df['text'].iloc[0]"
   ]
  },
  {
   "cell_type": "markdown",
   "id": "58d863d5",
   "metadata": {},
   "source": [
    "### py-hangul-check를 활용한 맞춤법 검사"
   ]
  },
  {
   "cell_type": "code",
   "execution_count": 73,
   "id": "6a515e71",
   "metadata": {},
   "outputs": [],
   "source": [
    "from hangul_checker import KoreanSpellChecker"
   ]
  },
  {
   "cell_type": "code",
   "execution_count": 74,
   "id": "2da01920",
   "metadata": {},
   "outputs": [],
   "source": [
    "ksc = KoreanSpellChecker()"
   ]
  },
  {
   "cell_type": "code",
   "execution_count": 75,
   "id": "bf30e9db",
   "metadata": {},
   "outputs": [],
   "source": [
    "# for i in tqdm(range(len(data_df))):\n",
    "#     try:\n",
    "#         data_list = data_df['text'].iloc[i]\n",
    "#         data_df['text'].iloc[i] = list(map(ksc.check_spelling, data_list))\n",
    "#         if i <= 5:\n",
    "#             print(f'맞춤법 교정전 {i}번째 데이터: {data_list[i]}')\n",
    "#             print(f'맞춤법 교정후 {i}번째 데이터: {data_df['text'].iloc[i]}')\n",
    "#     except:\n",
    "#         print('Server Error')\n",
    "#         break"
   ]
  },
  {
   "cell_type": "markdown",
   "id": "d19dfa6d",
   "metadata": {},
   "source": [
    "API ERROR"
   ]
  },
  {
   "cell_type": "markdown",
   "id": "2969aad0",
   "metadata": {},
   "source": [
    "### hanspell을 활용한 맞춤법 검사"
   ]
  },
  {
   "cell_type": "code",
   "execution_count": 76,
   "id": "525c40f0",
   "metadata": {},
   "outputs": [],
   "source": [
    "from hanspell import spell_checker"
   ]
  },
  {
   "cell_type": "code",
   "execution_count": 77,
   "id": "bdf25e14",
   "metadata": {},
   "outputs": [
    {
     "data": {
      "text/html": [
       "<div>\n",
       "<style scoped>\n",
       "    .dataframe tbody tr th:only-of-type {\n",
       "        vertical-align: middle;\n",
       "    }\n",
       "\n",
       "    .dataframe tbody tr th {\n",
       "        vertical-align: top;\n",
       "    }\n",
       "\n",
       "    .dataframe thead th {\n",
       "        text-align: right;\n",
       "    }\n",
       "</style>\n",
       "<table border=\"1\" class=\"dataframe\">\n",
       "  <thead>\n",
       "    <tr style=\"text-align: right;\">\n",
       "      <th></th>\n",
       "      <th>date</th>\n",
       "      <th>description</th>\n",
       "      <th>text</th>\n",
       "      <th>name</th>\n",
       "      <th>search</th>\n",
       "      <th>keyword</th>\n",
       "    </tr>\n",
       "  </thead>\n",
       "  <tbody>\n",
       "    <tr>\n",
       "      <th>0</th>\n",
       "      <td>191018</td>\n",
       "      <td>이제 주말에 여유 생길 테니 자주 볼 수 있으면 좋겠다.^^ 2019대전 : 20개...</td>\n",
       "      <td>[2019 대전 20개월 아기와 함께 당일치기 여행 첫 차를 산 동생에게 친절한 형...</td>\n",
       "      <td>봄날</td>\n",
       "      <td>오월드 관광 주말에</td>\n",
       "      <td>오월드</td>\n",
       "    </tr>\n",
       "    <tr>\n",
       "      <th>1</th>\n",
       "      <td>190909</td>\n",
       "      <td>북촌으로 온 가족들과 손에 손을 맞잡고 국악축제 즐기러 가보세요! 저도 이번 주말 ...</td>\n",
       "      <td>[이번 달은 우리나라의 큰 명절 중 하나인 추석이 있는 달이랍니다., 그렇기 때문에...</td>\n",
       "      <td>수하의 똑똑한 Blog</td>\n",
       "      <td>오월드 관광 주말에</td>\n",
       "      <td>오월드</td>\n",
       "    </tr>\n",
       "    <tr>\n",
       "      <th>2</th>\n",
       "      <td>190708</td>\n",
       "      <td>요 판매하는 저렴한 방문한 바로 맛있었어요.무엇보다 날은 인기 못지않고 섰어요.주말...</td>\n",
       "      <td>[보문산 보문산 목재 문화체험 대전관광지 맑음대전의 남산이라고 있는 보문산 불리는 ...</td>\n",
       "      <td>kilmeboknu5님의블로그</td>\n",
       "      <td>오월드 관광 주말에</td>\n",
       "      <td>오월드</td>\n",
       "    </tr>\n",
       "    <tr>\n",
       "      <th>3</th>\n",
       "      <td>190628</td>\n",
       "      <td>com) □자료: 대전오월드 2019년 대전방문의 해를 맞아 대전시 관광 활성화를 ...</td>\n",
       "      <td>[7월을 앞두고 시원한 여름 나들이 계획에 한 창 설레고 있을 요즘 그동안 멀리 셔...</td>\n",
       "      <td>대전교차로닷컴</td>\n",
       "      <td>오월드 관광 주말에</td>\n",
       "      <td>오월드</td>\n",
       "    </tr>\n",
       "    <tr>\n",
       "      <th>4</th>\n",
       "      <td>190623</td>\n",
       "      <td>관광지 요금도 검색하신다면 다 나와요! ⑤ 효율적으로 코스 세우기 내일로 여행 중에...</td>\n",
       "      <td>[안녕하세요., 오랜만에 찾아뵙는 제한입니다., 이 글은 7년 동안 내일로 44회 ...</td>\n",
       "      <td>솔솔의 매주 여행 이야기</td>\n",
       "      <td>오월드 관광 주말에</td>\n",
       "      <td>오월드</td>\n",
       "    </tr>\n",
       "  </tbody>\n",
       "</table>\n",
       "</div>"
      ],
      "text/plain": [
       "     date                                        description  \\\n",
       "0  191018  이제 주말에 여유 생길 테니 자주 볼 수 있으면 좋겠다.^^ 2019대전 : 20개...   \n",
       "1  190909  북촌으로 온 가족들과 손에 손을 맞잡고 국악축제 즐기러 가보세요! 저도 이번 주말 ...   \n",
       "2  190708  요 판매하는 저렴한 방문한 바로 맛있었어요.무엇보다 날은 인기 못지않고 섰어요.주말...   \n",
       "3  190628  com) □자료: 대전오월드 2019년 대전방문의 해를 맞아 대전시 관광 활성화를 ...   \n",
       "4  190623  관광지 요금도 검색하신다면 다 나와요! ⑤ 효율적으로 코스 세우기 내일로 여행 중에...   \n",
       "\n",
       "                                                text              name  \\\n",
       "0  [2019 대전 20개월 아기와 함께 당일치기 여행 첫 차를 산 동생에게 친절한 형...                봄날   \n",
       "1  [이번 달은 우리나라의 큰 명절 중 하나인 추석이 있는 달이랍니다., 그렇기 때문에...      수하의 똑똑한 Blog   \n",
       "2  [보문산 보문산 목재 문화체험 대전관광지 맑음대전의 남산이라고 있는 보문산 불리는 ...  kilmeboknu5님의블로그   \n",
       "3  [7월을 앞두고 시원한 여름 나들이 계획에 한 창 설레고 있을 요즘 그동안 멀리 셔...           대전교차로닷컴   \n",
       "4  [안녕하세요., 오랜만에 찾아뵙는 제한입니다., 이 글은 7년 동안 내일로 44회 ...     솔솔의 매주 여행 이야기   \n",
       "\n",
       "       search keyword  \n",
       "0  오월드 관광 주말에     오월드  \n",
       "1  오월드 관광 주말에     오월드  \n",
       "2  오월드 관광 주말에     오월드  \n",
       "3  오월드 관광 주말에     오월드  \n",
       "4  오월드 관광 주말에     오월드  "
      ]
     },
     "execution_count": 77,
     "metadata": {},
     "output_type": "execute_result"
    }
   ],
   "source": [
    "data_df.head()"
   ]
  },
  {
   "cell_type": "code",
   "execution_count": 78,
   "id": "50b51ad1",
   "metadata": {},
   "outputs": [],
   "source": [
    "# data_list = []\n",
    "# result_list = []\n",
    "\n",
    "# for i in tqdm(range(len(data_df))):\n",
    "#     data_list = data_df['text'].iloc[i]\n",
    "#     data_list = list(map(spell_checker.check, data_list))\n",
    "# #     for j in range(len(data_list)):\n",
    "# #         result = data_list[j].as_dict()['check']\n",
    "# #         result_list.append(result)\n",
    "# #     data_df['text'].iloc[i] = result_list\n",
    "# #     if i <= 5:\n",
    "# #         print(f'맞춤법 교정후 {i}번째 데이터: {result_list[i]}')"
   ]
  },
  {
   "cell_type": "code",
   "execution_count": 79,
   "id": "950ee71f",
   "metadata": {},
   "outputs": [],
   "source": [
    "# test_list = data_df['text'].iloc[0]\n",
    "# for i in tqdm(range(len(test_list))): \n",
    "#     result = spell_checker.check(test_list[i]) \n",
    "#     test_list = result.as_dict()['check']"
   ]
  },
  {
   "cell_type": "code",
   "execution_count": 80,
   "id": "ccfaf5ab",
   "metadata": {
    "scrolled": false
   },
   "outputs": [],
   "source": [
    "# for i in tqdm(range(len(test_list))): \n",
    "#     try: \n",
    "#         result = spell_checker.check(test_list[i]) \n",
    "#         test_list[i] = result.as_dict()['check'] \n",
    "#     except: \n",
    "#         pass "
   ]
  },
  {
   "cell_type": "code",
   "execution_count": 81,
   "id": "f7c5b4e9",
   "metadata": {
    "scrolled": true
   },
   "outputs": [],
   "source": [
    "# for i in tqdm(range(len(test_list))): \n",
    "#     if test_list[i]['original'] != test_list[i]['checked']:\n",
    "#         print(test_list[i]['original'])\n",
    "#         print(test_list[i]['checked'])"
   ]
  },
  {
   "cell_type": "code",
   "execution_count": 82,
   "id": "3df519d6",
   "metadata": {},
   "outputs": [],
   "source": [
    "# test_list = [test_list[i]['checked'] for i in range(len(test_list))]"
   ]
  },
  {
   "cell_type": "code",
   "execution_count": 83,
   "id": "3ff6e06f",
   "metadata": {},
   "outputs": [
    {
     "data": {
      "text/plain": [
       "Checked(result=True, original='시도햇보다 ', checked='시도해보다', errors=1, words=OrderedDict([('시도해보다', 4)]), time=0.3296053409576416)"
      ]
     },
     "execution_count": 83,
     "metadata": {},
     "output_type": "execute_result"
    }
   ],
   "source": [
    "spell_checker.check('시도햇보다 ')"
   ]
  },
  {
   "cell_type": "code",
   "execution_count": 84,
   "id": "d66b3232",
   "metadata": {
    "scrolled": true
   },
   "outputs": [
    {
     "name": "stderr",
     "output_type": "stream",
     "text": [
      "100%|██████████| 14/14 [01:02<00:00,  4.49s/it]\n"
     ]
    }
   ],
   "source": [
    "for i in tqdm(range(len(data_df))):\n",
    "    data_list = data_df['text'].iloc[i]\n",
    "    result_list = []\n",
    "    for sen in data_list:\n",
    "        result = spell_checker.check(sen)\n",
    "        result = result.as_dict()['checked']\n",
    "        result_list.append(result)\n",
    "    data_df['text'].iloc[i] = result_list"
   ]
  },
  {
   "cell_type": "markdown",
   "id": "ec1f588c",
   "metadata": {},
   "source": [
    "## 정제 후 csv로 저장"
   ]
  },
  {
   "cell_type": "code",
   "execution_count": 86,
   "id": "6b937468",
   "metadata": {
    "scrolled": true
   },
   "outputs": [
    {
     "data": {
      "text/plain": [
       "date                                                      191018\n",
       "description    이제 주말에 여유 생길 테니 자주 볼 수 있으면 좋겠다.^^ 2019대전 : 20개...\n",
       "name                                                          봄날\n",
       "search                                                오월드 관광 주말에\n",
       "keyword                                                      오월드\n",
       "Name: 0, dtype: object"
      ]
     },
     "execution_count": 86,
     "metadata": {},
     "output_type": "execute_result"
    }
   ],
   "source": [
    "data_df[['date','description', 'name', 'search', 'keyword']].iloc[0]"
   ]
  },
  {
   "cell_type": "code",
   "execution_count": 128,
   "id": "99c8a034",
   "metadata": {},
   "outputs": [
    {
     "data": {
      "text/plain": [
       "14"
      ]
     },
     "execution_count": 128,
     "metadata": {},
     "output_type": "execute_result"
    }
   ],
   "source": [
    "len(data_df)"
   ]
  },
  {
   "cell_type": "code",
   "execution_count": 162,
   "id": "bfc1449b",
   "metadata": {
    "scrolled": true
   },
   "outputs": [
    {
     "name": "stderr",
     "output_type": "stream",
     "text": [
      "100%|██████████| 14/14 [00:00<00:00, 307.88it/s]\n"
     ]
    }
   ],
   "source": [
    "data_list = []\n",
    "for i in tqdm(range(len(data_df))):\n",
    "    result_df = pd.DataFrame(columns = ['date','description', 'name','text', 'search', 'keyword'])\n",
    "    text_list = data_df['text'].iloc[i]\n",
    "    date = data_df['date'].iloc[i]\n",
    "    description = data_df['description'].iloc[i]\n",
    "    name = data_df['name'].iloc[i]\n",
    "    search = data_df['search'].iloc[i]\n",
    "    keyword = data_df['keyword'].iloc[i]\n",
    "    \n",
    "#     print(text_list)\n",
    "#     print('-'*30)\n",
    "\n",
    "    result_list = []\n",
    "    for i in range(len(text_list)):\n",
    "        sen = text_list[i]\n",
    "        if len(sen) > 0:\n",
    "            result_list.append(sen)\n",
    "            \n",
    "    result_df['text'] = result_list\n",
    "    result_df['date'] = date\n",
    "    result_df['description'] = description\n",
    "    result_df['name'] = name\n",
    "    result_df['search'] = search\n",
    "    result_df['keyword'] = keyword\n",
    "    data_list.append(result_df)\n",
    "    \n",
    "result_df = pd.concat(data_list, axis=0)"
   ]
  },
  {
   "cell_type": "code",
   "execution_count": 163,
   "id": "f97de68e",
   "metadata": {},
   "outputs": [
    {
     "data": {
      "text/plain": [
       "723"
      ]
     },
     "execution_count": 163,
     "metadata": {},
     "output_type": "execute_result"
    }
   ],
   "source": [
    "len(result_df)"
   ]
  },
  {
   "cell_type": "code",
   "execution_count": 164,
   "id": "5506320a",
   "metadata": {
    "scrolled": true
   },
   "outputs": [
    {
     "data": {
      "text/html": [
       "<div>\n",
       "<style scoped>\n",
       "    .dataframe tbody tr th:only-of-type {\n",
       "        vertical-align: middle;\n",
       "    }\n",
       "\n",
       "    .dataframe tbody tr th {\n",
       "        vertical-align: top;\n",
       "    }\n",
       "\n",
       "    .dataframe thead th {\n",
       "        text-align: right;\n",
       "    }\n",
       "</style>\n",
       "<table border=\"1\" class=\"dataframe\">\n",
       "  <thead>\n",
       "    <tr style=\"text-align: right;\">\n",
       "      <th></th>\n",
       "      <th>date</th>\n",
       "      <th>description</th>\n",
       "      <th>name</th>\n",
       "      <th>text</th>\n",
       "      <th>search</th>\n",
       "      <th>keyword</th>\n",
       "    </tr>\n",
       "  </thead>\n",
       "  <tbody>\n",
       "    <tr>\n",
       "      <th>0</th>\n",
       "      <td>191018</td>\n",
       "      <td>이제 주말에 여유 생길 테니 자주 볼 수 있으면 좋겠다.^^ 2019대전 : 20개...</td>\n",
       "      <td>봄날</td>\n",
       "      <td>2019 대전 20개월 아기와 함께 당일치기 여행 첫 차를 산 동생에게 친절한 형부...</td>\n",
       "      <td>오월드 관광 주말에</td>\n",
       "      <td>oworld_zoo</td>\n",
       "    </tr>\n",
       "    <tr>\n",
       "      <th>1</th>\n",
       "      <td>191018</td>\n",
       "      <td>이제 주말에 여유 생길 테니 자주 볼 수 있으면 좋겠다.^^ 2019대전 : 20개...</td>\n",
       "      <td>봄날</td>\n",
       "      <td>처음엔 카의 탁송 서비스를 이용할 생각이었으나 주행도 해보고 내부 정리도 조금 해야...</td>\n",
       "      <td>오월드 관광 주말에</td>\n",
       "      <td>oworld_zoo</td>\n",
       "    </tr>\n",
       "    <tr>\n",
       "      <th>2</th>\n",
       "      <td>191018</td>\n",
       "      <td>이제 주말에 여유 생길 테니 자주 볼 수 있으면 좋겠다.^^ 2019대전 : 20개...</td>\n",
       "      <td>봄날</td>\n",
       "      <td>덕분에 떠나게 된 대전 여행 나들이 좋아하는 루아는 신바람이 났다.</td>\n",
       "      <td>오월드 관광 주말에</td>\n",
       "      <td>oworld_zoo</td>\n",
       "    </tr>\n",
       "    <tr>\n",
       "      <th>3</th>\n",
       "      <td>191018</td>\n",
       "      <td>이제 주말에 여유 생길 테니 자주 볼 수 있으면 좋겠다.^^ 2019대전 : 20개...</td>\n",
       "      <td>봄날</td>\n",
       "      <td>늘 들르는 송산포도 휴게소에서 아침 겸 점심을 먹고 젤리도 조금 사고 아빠는 또 야...</td>\n",
       "      <td>오월드 관광 주말에</td>\n",
       "      <td>oworld_zoo</td>\n",
       "    </tr>\n",
       "    <tr>\n",
       "      <th>4</th>\n",
       "      <td>191018</td>\n",
       "      <td>이제 주말에 여유 생길 테니 자주 볼 수 있으면 좋겠다.^^ 2019대전 : 20개...</td>\n",
       "      <td>봄날</td>\n",
       "      <td>20개월의 루아는 여전히 떼를 쓰는 시 기지만 말을 알아들으니 달랠 수도 있게 되었다.</td>\n",
       "      <td>오월드 관광 주말에</td>\n",
       "      <td>oworld_zoo</td>\n",
       "    </tr>\n",
       "  </tbody>\n",
       "</table>\n",
       "</div>"
      ],
      "text/plain": [
       "     date                                        description name  \\\n",
       "0  191018  이제 주말에 여유 생길 테니 자주 볼 수 있으면 좋겠다.^^ 2019대전 : 20개...   봄날   \n",
       "1  191018  이제 주말에 여유 생길 테니 자주 볼 수 있으면 좋겠다.^^ 2019대전 : 20개...   봄날   \n",
       "2  191018  이제 주말에 여유 생길 테니 자주 볼 수 있으면 좋겠다.^^ 2019대전 : 20개...   봄날   \n",
       "3  191018  이제 주말에 여유 생길 테니 자주 볼 수 있으면 좋겠다.^^ 2019대전 : 20개...   봄날   \n",
       "4  191018  이제 주말에 여유 생길 테니 자주 볼 수 있으면 좋겠다.^^ 2019대전 : 20개...   봄날   \n",
       "\n",
       "                                                text      search     keyword  \n",
       "0  2019 대전 20개월 아기와 함께 당일치기 여행 첫 차를 산 동생에게 친절한 형부...  오월드 관광 주말에  oworld_zoo  \n",
       "1  처음엔 카의 탁송 서비스를 이용할 생각이었으나 주행도 해보고 내부 정리도 조금 해야...  오월드 관광 주말에  oworld_zoo  \n",
       "2              덕분에 떠나게 된 대전 여행 나들이 좋아하는 루아는 신바람이 났다.  오월드 관광 주말에  oworld_zoo  \n",
       "3  늘 들르는 송산포도 휴게소에서 아침 겸 점심을 먹고 젤리도 조금 사고 아빠는 또 야...  오월드 관광 주말에  oworld_zoo  \n",
       "4   20개월의 루아는 여전히 떼를 쓰는 시 기지만 말을 알아들으니 달랠 수도 있게 되었다.  오월드 관광 주말에  oworld_zoo  "
      ]
     },
     "execution_count": 164,
     "metadata": {},
     "output_type": "execute_result"
    }
   ],
   "source": [
    "result_df.head()"
   ]
  },
  {
   "cell_type": "code",
   "execution_count": 165,
   "id": "60db281e",
   "metadata": {},
   "outputs": [
    {
     "name": "stdout",
     "output_type": "stream",
     "text": [
      "불러온 데이터셋은 1개의 블로그 내용이 겹칩니다.\n",
      "정제 전: 723\n"
     ]
    },
    {
     "data": {
      "text/plain": [
       "722"
      ]
     },
     "execution_count": 165,
     "metadata": {},
     "output_type": "execute_result"
    }
   ],
   "source": [
    "# 블로그 아예 동일한 데이터 없는지 확인\n",
    "duplicated_df = result_df.duplicated(['date', 'text', 'name', 'search']).sum()\n",
    "print(f'불러온 데이터셋은 {duplicated_df}개의 블로그 내용이 겹칩니다.')\n",
    "\n",
    "# 중복 제거 \n",
    "print(f'정제 전: {len(result_df)}')\n",
    "result_df = result_df.drop_duplicates(['date', 'text', 'name', 'search'])\n",
    "len(result_df)"
   ]
  },
  {
   "cell_type": "code",
   "execution_count": 166,
   "id": "f7019dd4",
   "metadata": {},
   "outputs": [
    {
     "data": {
      "text/plain": [
       "0     64\n",
       "1     93\n",
       "2     37\n",
       "3     90\n",
       "4     48\n",
       "5     69\n",
       "6     37\n",
       "7     66\n",
       "8    123\n",
       "9    195\n",
       "Name: text, dtype: int64"
      ]
     },
     "execution_count": 166,
     "metadata": {},
     "output_type": "execute_result"
    }
   ],
   "source": [
    "result_length = result_df['text'].apply(len)\n",
    "result_length[:10]"
   ]
  },
  {
   "cell_type": "code",
   "execution_count": 167,
   "id": "9626df93",
   "metadata": {},
   "outputs": [],
   "source": [
    "import matplotlib.pyplot as plt"
   ]
  },
  {
   "cell_type": "code",
   "execution_count": 168,
   "id": "cf189432",
   "metadata": {},
   "outputs": [
    {
     "name": "stderr",
     "output_type": "stream",
     "text": [
      "/home/aiffel-dj19/anaconda3/envs/aiffel/lib/python3.7/site-packages/ipykernel_launcher.py:3: MatplotlibDeprecationWarning: The 'nonposy' parameter of __init__() has been renamed 'nonpositive' since Matplotlib 3.3; support for the old name will be dropped two minor releases later.\n",
      "  This is separate from the ipykernel package so we can avoid doing imports until\n"
     ]
    },
    {
     "data": {
      "text/plain": [
       "Text(0, 0.5, 'Number of review')"
      ]
     },
     "execution_count": 168,
     "metadata": {},
     "output_type": "execute_result"
    },
    {
     "data": {
      "image/png": "[encoded data removed]",
      "text/plain": [
       "<Figure size 864x360 with 1 Axes>"
      ]
     },
     "metadata": {
      "needs_background": "light"
     },
     "output_type": "display_data"
    }
   ],
   "source": [
    "plt.figure(figsize=(12,5))\n",
    "plt.hist(result_length, bins=200, alpha=0.5, color='r', label='word')\n",
    "plt.yscale('log', nonposy='clip')\n",
    "plt.title('Log-Histogram of length of review')\n",
    "plt.xlabel('Length of review')\n",
    "plt.ylabel('Number of review')"
   ]
  },
  {
   "cell_type": "markdown",
   "id": "fed357fb",
   "metadata": {},
   "source": [
    "위의 결과를 봤을때 문장은 4글자 이상, 200이하는 정제한다. "
   ]
  },
  {
   "cell_type": "code",
   "execution_count": 169,
   "id": "463d5217",
   "metadata": {},
   "outputs": [
    {
     "name": "stdout",
     "output_type": "stream",
     "text": [
      "정제 전: 722\n",
      "정제 후: 675\n"
     ]
    }
   ],
   "source": [
    "# 200 글자 이상 제거 \n",
    "print(f'정제 전: {len(result_df)}')\n",
    "\n",
    "result_df = result_df[result_df['text'].map(len) <= 200]\n",
    "print(f'정제 후: {len(result_df)}')"
   ]
  },
  {
   "cell_type": "code",
   "execution_count": 170,
   "id": "774e356b",
   "metadata": {},
   "outputs": [
    {
     "name": "stdout",
     "output_type": "stream",
     "text": [
      "정제 전: 675\n",
      "정제 후: 671\n"
     ]
    }
   ],
   "source": [
    "# 4 글자 이하 제거 \n",
    "print(f'정제 전: {len(result_df)}')\n",
    "\n",
    "result_df = result_df[result_df['text'].map(len) >= 4]\n",
    "print(f'정제 후: {len(result_df)}')"
   ]
  },
  {
   "cell_type": "code",
   "execution_count": 171,
   "id": "cfd09cae",
   "metadata": {},
   "outputs": [
    {
     "data": {
      "text/plain": [
       "0     64\n",
       "1     93\n",
       "2     37\n",
       "3     90\n",
       "4     48\n",
       "5     69\n",
       "6     37\n",
       "7     66\n",
       "8    123\n",
       "9    195\n",
       "Name: text, dtype: int64"
      ]
     },
     "execution_count": 171,
     "metadata": {},
     "output_type": "execute_result"
    }
   ],
   "source": [
    "result_length = result_df['text'].apply(len)\n",
    "result_length[:10]"
   ]
  },
  {
   "cell_type": "code",
   "execution_count": 172,
   "id": "a900dd9b",
   "metadata": {
    "scrolled": true
   },
   "outputs": [
    {
     "name": "stderr",
     "output_type": "stream",
     "text": [
      "/home/aiffel-dj19/anaconda3/envs/aiffel/lib/python3.7/site-packages/ipykernel_launcher.py:3: MatplotlibDeprecationWarning: The 'nonposy' parameter of __init__() has been renamed 'nonpositive' since Matplotlib 3.3; support for the old name will be dropped two minor releases later.\n",
      "  This is separate from the ipykernel package so we can avoid doing imports until\n"
     ]
    },
    {
     "data": {
      "text/plain": [
       "Text(0, 0.5, 'Number of review')"
      ]
     },
     "execution_count": 172,
     "metadata": {},
     "output_type": "execute_result"
    },
    {
     "data": {
      "image/png": "[encoded data removed]",
      "text/plain": [
       "<Figure size 864x360 with 1 Axes>"
      ]
     },
     "metadata": {
      "needs_background": "light"
     },
     "output_type": "display_data"
    }
   ],
   "source": [
    "plt.figure(figsize=(12,5))\n",
    "plt.hist(result_length, bins=200, alpha=0.5, color='r', label='word')\n",
    "plt.yscale('log', nonposy='clip')\n",
    "plt.title('Log-Histogram of length of review')\n",
    "plt.xlabel('Length of review')\n",
    "plt.ylabel('Number of review')"
   ]
  },
  {
   "cell_type": "code",
   "execution_count": 173,
   "id": "2278db52",
   "metadata": {
    "scrolled": true
   },
   "outputs": [
    {
     "data": {
      "text/html": [
       "<div>\n",
       "<style scoped>\n",
       "    .dataframe tbody tr th:only-of-type {\n",
       "        vertical-align: middle;\n",
       "    }\n",
       "\n",
       "    .dataframe tbody tr th {\n",
       "        vertical-align: top;\n",
       "    }\n",
       "\n",
       "    .dataframe thead th {\n",
       "        text-align: right;\n",
       "    }\n",
       "</style>\n",
       "<table border=\"1\" class=\"dataframe\">\n",
       "  <thead>\n",
       "    <tr style=\"text-align: right;\">\n",
       "      <th></th>\n",
       "      <th>date</th>\n",
       "      <th>description</th>\n",
       "      <th>text</th>\n",
       "      <th>name</th>\n",
       "      <th>search</th>\n",
       "      <th>keyword</th>\n",
       "    </tr>\n",
       "  </thead>\n",
       "  <tbody>\n",
       "    <tr>\n",
       "      <th>0</th>\n",
       "      <td>191018</td>\n",
       "      <td>이제 주말에 여유 생길 테니 자주 볼 수 있으면 좋겠다.^^ 2019대전 : 20개...</td>\n",
       "      <td>[2019 대전 20개월 아기와 함께 당일치기 여행 첫 차를 산 동생에게 친절한 형...</td>\n",
       "      <td>봄날</td>\n",
       "      <td>오월드 관광 주말에</td>\n",
       "      <td>oworld_zoo</td>\n",
       "    </tr>\n",
       "    <tr>\n",
       "      <th>1</th>\n",
       "      <td>190909</td>\n",
       "      <td>북촌으로 온 가족들과 손에 손을 맞잡고 국악축제 즐기러 가보세요! 저도 이번 주말 ...</td>\n",
       "      <td>[이번 달은 우리나라의 큰 명절 중 하나인 추석이 있는 달이랍니다., 그렇기 때문에...</td>\n",
       "      <td>수하의 똑똑한 Blog</td>\n",
       "      <td>오월드 관광 주말에</td>\n",
       "      <td>oworld_zoo</td>\n",
       "    </tr>\n",
       "    <tr>\n",
       "      <th>2</th>\n",
       "      <td>190708</td>\n",
       "      <td>요 판매하는 저렴한 방문한 바로 맛있었어요.무엇보다 날은 인기 못지않고 섰어요.주말...</td>\n",
       "      <td>[보문산 보문산 목재 문화체험 대전관광지 맑음 대전의 남산이라고 있는 보문산 불리는...</td>\n",
       "      <td>kilmeboknu5님의블로그</td>\n",
       "      <td>오월드 관광 주말에</td>\n",
       "      <td>oworld_zoo</td>\n",
       "    </tr>\n",
       "    <tr>\n",
       "      <th>3</th>\n",
       "      <td>190628</td>\n",
       "      <td>com) □자료: 대전오월드 2019년 대전방문의 해를 맞아 대전시 관광 활성화를 ...</td>\n",
       "      <td>[7월을 앞두고 시원한 여름 나들이 계획에 한 창 설레고 있을 요즘 그동안 멀리 셔...</td>\n",
       "      <td>대전교차로닷컴</td>\n",
       "      <td>오월드 관광 주말에</td>\n",
       "      <td>oworld_zoo</td>\n",
       "    </tr>\n",
       "    <tr>\n",
       "      <th>4</th>\n",
       "      <td>190623</td>\n",
       "      <td>관광지 요금도 검색하신다면 다 나와요! ⑤ 효율적으로 코스 세우기 내일로 여행 중에...</td>\n",
       "      <td>[안녕하세요., 오랜만에 찾아뵙는 제한입니다., 이 글은 7년 동안 내일로 44회 ...</td>\n",
       "      <td>솔솔의 매주 여행 이야기</td>\n",
       "      <td>오월드 관광 주말에</td>\n",
       "      <td>oworld_zoo</td>\n",
       "    </tr>\n",
       "  </tbody>\n",
       "</table>\n",
       "</div>"
      ],
      "text/plain": [
       "     date                                        description  \\\n",
       "0  191018  이제 주말에 여유 생길 테니 자주 볼 수 있으면 좋겠다.^^ 2019대전 : 20개...   \n",
       "1  190909  북촌으로 온 가족들과 손에 손을 맞잡고 국악축제 즐기러 가보세요! 저도 이번 주말 ...   \n",
       "2  190708  요 판매하는 저렴한 방문한 바로 맛있었어요.무엇보다 날은 인기 못지않고 섰어요.주말...   \n",
       "3  190628  com) □자료: 대전오월드 2019년 대전방문의 해를 맞아 대전시 관광 활성화를 ...   \n",
       "4  190623  관광지 요금도 검색하신다면 다 나와요! ⑤ 효율적으로 코스 세우기 내일로 여행 중에...   \n",
       "\n",
       "                                                text              name  \\\n",
       "0  [2019 대전 20개월 아기와 함께 당일치기 여행 첫 차를 산 동생에게 친절한 형...                봄날   \n",
       "1  [이번 달은 우리나라의 큰 명절 중 하나인 추석이 있는 달이랍니다., 그렇기 때문에...      수하의 똑똑한 Blog   \n",
       "2  [보문산 보문산 목재 문화체험 대전관광지 맑음 대전의 남산이라고 있는 보문산 불리는...  kilmeboknu5님의블로그   \n",
       "3  [7월을 앞두고 시원한 여름 나들이 계획에 한 창 설레고 있을 요즘 그동안 멀리 셔...           대전교차로닷컴   \n",
       "4  [안녕하세요., 오랜만에 찾아뵙는 제한입니다., 이 글은 7년 동안 내일로 44회 ...     솔솔의 매주 여행 이야기   \n",
       "\n",
       "       search     keyword  \n",
       "0  오월드 관광 주말에  oworld_zoo  \n",
       "1  오월드 관광 주말에  oworld_zoo  \n",
       "2  오월드 관광 주말에  oworld_zoo  \n",
       "3  오월드 관광 주말에  oworld_zoo  \n",
       "4  오월드 관광 주말에  oworld_zoo  "
      ]
     },
     "execution_count": 173,
     "metadata": {},
     "output_type": "execute_result"
    }
   ],
   "source": [
    "data_df['keyword'] = keyword_en\n",
    "data_df.head()"
   ]
  },
  {
   "cell_type": "code",
   "execution_count": 174,
   "id": "8246941f",
   "metadata": {},
   "outputs": [],
   "source": [
    "def saveCsv(root_path, key_en, df):\n",
    "    print(f'저장 경로: {root_path}')\n",
    "    df.to_csv(root_path+key_en+'_nv.csv', header=True, index=False)"
   ]
  },
  {
   "cell_type": "code",
   "execution_count": 175,
   "id": "d48eb706",
   "metadata": {},
   "outputs": [
    {
     "data": {
      "text/plain": [
       "'/home/aiffel-dj19/jungcheck/DataPreprocessing/filtered/naver_review/'"
      ]
     },
     "execution_count": 175,
     "metadata": {},
     "output_type": "execute_result"
    }
   ],
   "source": [
    "save_path = os.path.join(os.getcwd(), 'filtered/naver_review/')\n",
    "save_path"
   ]
  },
  {
   "cell_type": "code",
   "execution_count": 176,
   "id": "b3f0170b",
   "metadata": {},
   "outputs": [
    {
     "name": "stdout",
     "output_type": "stream",
     "text": [
      "저장 경로: /home/aiffel-dj19/jungcheck/DataPreprocessing/filtered/naver_review/\n"
     ]
    }
   ],
   "source": [
    "saveCsv(save_path, keyword_en, result_df)"
   ]
  },
  {
   "cell_type": "code",
   "execution_count": 177,
   "id": "d66da692",
   "metadata": {},
   "outputs": [
    {
     "name": "stdout",
     "output_type": "stream",
     "text": [
      "/home/aiffel-dj19/jungcheck/DataPreprocessing\n",
      "oworld_zoo_nv.csv\n"
     ]
    }
   ],
   "source": [
    "!pwd\n",
    "!ls /home/aiffel-dj19/jungcheck/DataPreprocessing/filtered/naver_review"
   ]
  }
 ],
 "metadata": {
  "kernelspec": {
   "display_name": "aiffel",
   "language": "python",
   "name": "aiffel"
  },
  "language_info": {
   "codemirror_mode": {
    "name": "ipython",
    "version": 3
   },
   "file_extension": ".py",
   "mimetype": "text/x-python",
   "name": "python",
   "nbconvert_exporter": "python",
   "pygments_lexer": "ipython3",
   "version": "3.7.10"
  },
  "toc": {
   "base_numbering": 1,
   "nav_menu": {},
   "number_sections": true,
   "sideBar": false,
   "skip_h1_title": false,
   "title_cell": "Table of Contents",
   "title_sidebar": "Contents",
   "toc_cell": false,
   "toc_position": {
    "height": "769px",
    "left": "22px",
    "top": "110px",
    "width": "183.797px"
   },
   "toc_section_display": true,
   "toc_window_display": true
  }
 },
 "nbformat": 4,
 "nbformat_minor": 5
}
