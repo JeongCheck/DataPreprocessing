{
 "cells": [
  {
   "cell_type": "markdown",
   "id": "9359c508",
   "metadata": {},
   "source": [
    "# googleMapReviewLabeling \n",
    "\n",
    "* 코드 목적: 수동으로 부여한 라벨링한 1개의 파일을 각 keyword(관광지 영문명)에 따라 파일을 형성해주는 코드 "
   ]
  },
  {
   "cell_type": "markdown",
   "id": "586da1fe",
   "metadata": {},
   "source": [
    "## Target 설정\n",
    "각 관광지별 데이터파일을 가지고 있는 상위 폴더명을 Target으로 설정한다. "
   ]
  },
  {
   "cell_type": "code",
   "execution_count": 1,
   "id": "4eb6168b",
   "metadata": {
    "scrolled": false
   },
   "outputs": [
    {
     "name": "stdout",
     "output_type": "stream",
     "text": [
      "google_reviews_labeled_8429.csv             \u001b[0m\u001b[01;34mlabeled_spellcheck_8420\u001b[0m/\r\n",
      "google_reviews_labeled_spacing_8421.csv     \u001b[01;34mpred\u001b[0m/\r\n",
      "google_reviews_labeled_spellcheck_8420.csv  \u001b[01;34mspacing_8421\u001b[0m/\r\n",
      "google_reviews_nolabel_8429.csv             \u001b[01;34mspacing_spellcheck_8420\u001b[0m/\r\n",
      "google_reviews_spacing_8421.csv             \u001b[01;34mspellcheck_8420\u001b[0m/\r\n",
      "\u001b[01;34mlabeled_spacing_8421\u001b[0m/\r\n"
     ]
    }
   ],
   "source": [
    "ls ./filtered/google_review"
   ]
  },
  {
   "cell_type": "code",
   "execution_count": 2,
   "id": "a750c043",
   "metadata": {},
   "outputs": [],
   "source": [
    "target = 'spellcheck_8420' # spellcheck_8420(띄어쓰기를 적용한 8420개의 데이터를 가진 파일"
   ]
  },
  {
   "cell_type": "markdown",
   "id": "15072737",
   "metadata": {},
   "source": [
    "## 라이브러리 설정"
   ]
  },
  {
   "cell_type": "code",
   "execution_count": 3,
   "id": "726360af",
   "metadata": {},
   "outputs": [],
   "source": [
    "import pandas as pd\n",
    "import os\n",
    "from tqdm import tqdm\n",
    "\n",
    "import warnings\n",
    "\n",
    "warnings.filterwarnings(action='ignore')"
   ]
  },
  {
   "cell_type": "markdown",
   "id": "7a9be8c8",
   "metadata": {},
   "source": [
    "## 경로 설정 "
   ]
  },
  {
   "cell_type": "code",
   "execution_count": 4,
   "id": "b965ba24",
   "metadata": {},
   "outputs": [],
   "source": [
    "filtered_path = os.getcwd() + '/filtered/google_review/'\n",
    "labeled_path = os.getcwd() + '/labeled/google_reviews_labeled.csv'"
   ]
  },
  {
   "cell_type": "markdown",
   "id": "292ad9e1",
   "metadata": {},
   "source": [
    "## 여러개의 데이터 파일을 불러오고 하나로 합치기"
   ]
  },
  {
   "cell_type": "code",
   "execution_count": 5,
   "id": "d6460068",
   "metadata": {},
   "outputs": [
    {
     "name": "stdout",
     "output_type": "stream",
     "text": [
      "영어 keyword => 한국어 keyword\n",
      "{'jangtae_mountain': '장태산', 'gyejok_mountain': '계족산', 'dongchundang': '동춘당', 'uineungjeongi_street': '으느정이문화의거리', 'ppuri_park': '뿌리공원', 'expo_science_park': '엑스포', 'sungsimdang_bakery': '성심당', 'water_barrel': '수통골', 'yuseong_hotspring': '유성온천', 'hanbat_arboretum': '한밭수목원', 'science_museum': '국립중앙과학관', 'daecheong_lake': '대청호', 'art_culture_complex': '대전문화예술단지', 'observatory': '시민천문대', 'oworld_zoo': '오월드'}\n",
      "\n",
      "한국어 keyword => 영어 keyword\n",
      "{'장태산': 'jangtae_mountain', '계족산': 'gyejok_mountain', '동춘당': 'dongchundang', '으느정이문화의거리': 'uineungjeongi_street', '뿌리공원': 'ppuri_park', '엑스포': 'expo_science_park', '성심당': 'sungsimdang_bakery', '수통골': 'water_barrel', '유성온천': 'yuseong_hotspring', '한밭수목원': 'hanbat_arboretum', '국립중앙과학관': 'science_museum', '대청호': 'daecheong_lake', '대전문화예술단지': 'art_culture_complex', '시민천문대': 'observatory', '오월드': 'oworld_zoo'}\n"
     ]
    }
   ],
   "source": [
    "# english keyword to korean keyword\n",
    "eng2kor = {\n",
    "            'jangtae_mountain': '장태산',\n",
    "             'gyejok_mountain': '계족산',\n",
    "             'dongchundang': '동춘당',\n",
    "             'uineungjeongi_street': '으느정이문화의거리',\n",
    "             'ppuri_park': '뿌리공원',\n",
    "             'expo_science_park': '엑스포',\n",
    "             'sungsimdang_bakery': '성심당',\n",
    "             'water_barrel': '수통골',\n",
    "             'yuseong_hotspring': '유성온천',\n",
    "             'hanbat_arboretum': '한밭수목원',\n",
    "             'science_museum': '국립중앙과학관',\n",
    "             'daecheong_lake': '대청호',\n",
    "             'art_culture_complex': '대전문화예술단지',\n",
    "             'observatory': '시민천문대',\n",
    "             'oworld_zoo': '오월드'\n",
    "}\n",
    "\n",
    "# korean keyword to english keyword\n",
    "kor2eng = {v:k for k, v in eng2kor.items()}\n",
    "\n",
    "print('영어 keyword => 한국어 keyword')\n",
    "print(eng2kor)\n",
    "print()\n",
    "print('한국어 keyword => 영어 keyword')\n",
    "print(kor2eng)"
   ]
  },
  {
   "cell_type": "code",
   "execution_count": 6,
   "id": "385ab0fe",
   "metadata": {},
   "outputs": [],
   "source": [
    "def concatCsv(data_type:str, keyword_kor:str):\n",
    "    '''\n",
    "    정제 전 폴더 data와 정제 후 폴더 filtered간의 파일 구성이 따르기 때문에 \n",
    "    주어진 폴더명에 따라 dataframe을 합해주는 함수\n",
    "    '''\n",
    "    project_path = '/home/aiffel-dj19/jungcheck/DataPreprocessing'\n",
    "\n",
    "    if data_type == 'data':\n",
    "        keyword_path = data_type + '/google_review/' + keyword_kor\n",
    "        folder_path = os.path.join(project_path, keyword_path)\n",
    "        print(f'folder name: {folder_path}')\n",
    "        print(f'..: {os.listdir(folder_path)}')\n",
    "        \n",
    "        data_list = []\n",
    "        for file in os.listdir(folder_path):\n",
    "            file_path = os.path.join(folder_path, file)\n",
    "            print(f'file path: {file_path}')\n",
    "\n",
    "            df = pd.read_csv(file_path, encoding='utf-8') \n",
    "            search = file.split('.')[0]  # 파일명에서 파일형식(.csv) 제외 후, 검색어 추출             \n",
    "            df['search'] = search\n",
    "            df['keyword'] = kor2eng[keyword_kor] \n",
    "            data_list.append(df)\n",
    "            print(f'해당 파일의 데이터 개수: {len(df)}')\n",
    "            print()\n",
    "        df = pd.concat(data_list, axis=0)\n",
    "        print('-'*40)\n",
    "        \n",
    "    elif data_type == 'filtered':\n",
    "        folder_path = os.path.join(project_path, data_type + '/google_review/' + target)\n",
    "        print(f'folder name: {folder_path}')\n",
    "        \n",
    "        data_list = []    \n",
    "        for file in os.listdir(folder_path):\n",
    "            file_path = os.path.join(folder_path, file)\n",
    "            print(f'file path: {file_path}')\n",
    "\n",
    "            df = pd.read_csv(file_path, encoding='utf-8')  # csv 파일 읽기\n",
    "            print(f'해당 파일의 데이터 개수: {len(df)}')\n",
    "            print()\n",
    "            data_list.append(df)\n",
    "            print('-'*40)\n",
    "            \n",
    "        df = pd.concat(data_list, axis=0)\n",
    "    return df"
   ]
  },
  {
   "cell_type": "code",
   "execution_count": 7,
   "id": "f963da18",
   "metadata": {},
   "outputs": [
    {
     "name": "stdout",
     "output_type": "stream",
     "text": [
      "==== filtered_df 불러오기 ====\n",
      "/home/aiffel-dj19/jungcheck/DataPreprocessing/filtered/google_review/내의 파일 개수: 11개\n",
      "['google_reviews_spacing_8421.csv', 'labeled_spacing_8421', 'spacing_8421', 'google_reviews_labeled_spellcheck_8420.csv', 'labeled_spellcheck_8420', 'spacing_spellcheck_8420', 'spellcheck_8420', 'google_reviews_nolabel_8429.csv', 'pred', 'google_reviews_labeled_spacing_8421.csv', 'google_reviews_labeled_8429.csv']\n",
      "\n"
     ]
    }
   ],
   "source": [
    "print(\"==== filtered_df 불러오기 ====\")\n",
    "filtered_fds = os.listdir(filtered_path) # fds: 'folders'\n",
    "print(f'{filtered_path}내의 파일 개수: {len(filtered_fds)}개') \n",
    "print(filtered_fds)\n",
    "print()"
   ]
  },
  {
   "cell_type": "code",
   "execution_count": 8,
   "id": "0ed31eaf",
   "metadata": {
    "scrolled": false
   },
   "outputs": [
    {
     "name": "stdout",
     "output_type": "stream",
     "text": [
      "==== 폴더 안의 하위 파일리스트 불러오기 ====\n",
      "folder name: /home/aiffel-dj19/jungcheck/DataPreprocessing/filtered/google_review/spellcheck_8420\n",
      "file path: /home/aiffel-dj19/jungcheck/DataPreprocessing/filtered/google_review/spellcheck_8420/expo_science_park_spellcheck.csv\n",
      "해당 파일의 데이터 개수: 783\n",
      "\n",
      "----------------------------------------\n",
      "file path: /home/aiffel-dj19/jungcheck/DataPreprocessing/filtered/google_review/spellcheck_8420/oworld_zoo_spellcheck.csv\n",
      "해당 파일의 데이터 개수: 446\n",
      "\n",
      "----------------------------------------\n",
      "file path: /home/aiffel-dj19/jungcheck/DataPreprocessing/filtered/google_review/spellcheck_8420/daecheong_lake_spellcheck.csv\n",
      "해당 파일의 데이터 개수: 491\n",
      "\n",
      "----------------------------------------\n",
      "file path: /home/aiffel-dj19/jungcheck/DataPreprocessing/filtered/google_review/spellcheck_8420/uineungjeongi_street_spellcheck.csv\n",
      "해당 파일의 데이터 개수: 333\n",
      "\n",
      "----------------------------------------\n",
      "file path: /home/aiffel-dj19/jungcheck/DataPreprocessing/filtered/google_review/spellcheck_8420/sungsimdang_bakery_spellcheck.csv\n",
      "해당 파일의 데이터 개수: 1863\n",
      "\n",
      "----------------------------------------\n",
      "file path: /home/aiffel-dj19/jungcheck/DataPreprocessing/filtered/google_review/spellcheck_8420/water_barrel_spellcheck.csv\n",
      "해당 파일의 데이터 개수: 685\n",
      "\n",
      "----------------------------------------\n",
      "file path: /home/aiffel-dj19/jungcheck/DataPreprocessing/filtered/google_review/spellcheck_8420/art_culture_complex_spellcheck.csv\n",
      "해당 파일의 데이터 개수: 823\n",
      "\n",
      "----------------------------------------\n",
      "file path: /home/aiffel-dj19/jungcheck/DataPreprocessing/filtered/google_review/spellcheck_8420/dongchundang_spellcheck.csv\n",
      "해당 파일의 데이터 개수: 329\n",
      "\n",
      "----------------------------------------\n",
      "file path: /home/aiffel-dj19/jungcheck/DataPreprocessing/filtered/google_review/spellcheck_8420/observatory_spellcheck.csv\n",
      "해당 파일의 데이터 개수: 26\n",
      "\n",
      "----------------------------------------\n",
      "file path: /home/aiffel-dj19/jungcheck/DataPreprocessing/filtered/google_review/spellcheck_8420/yuseong_hotspring_spellcheck.csv\n",
      "해당 파일의 데이터 개수: 431\n",
      "\n",
      "----------------------------------------\n",
      "file path: /home/aiffel-dj19/jungcheck/DataPreprocessing/filtered/google_review/spellcheck_8420/jangtae_mountain_spellcheck.csv\n",
      "해당 파일의 데이터 개수: 518\n",
      "\n",
      "----------------------------------------\n",
      "file path: /home/aiffel-dj19/jungcheck/DataPreprocessing/filtered/google_review/spellcheck_8420/hanbat_arboretum_spellcheck.csv\n",
      "해당 파일의 데이터 개수: 402\n",
      "\n",
      "----------------------------------------\n",
      "file path: /home/aiffel-dj19/jungcheck/DataPreprocessing/filtered/google_review/spellcheck_8420/science_museum_spellcheck.csv\n",
      "해당 파일의 데이터 개수: 381\n",
      "\n",
      "----------------------------------------\n",
      "file path: /home/aiffel-dj19/jungcheck/DataPreprocessing/filtered/google_review/spellcheck_8420/ppuri_park_spellcheck.csv\n",
      "해당 파일의 데이터 개수: 426\n",
      "\n",
      "----------------------------------------\n",
      "file path: /home/aiffel-dj19/jungcheck/DataPreprocessing/filtered/google_review/spellcheck_8420/gyejok_mountain_spellcheck.csv\n",
      "해당 파일의 데이터 개수: 483\n",
      "\n",
      "----------------------------------------\n",
      "\n"
     ]
    }
   ],
   "source": [
    "print(\"==== 폴더 안의 하위 파일리스트 불러오기 ====\")\n",
    "filtered_df = concatCsv('filtered', filtered_fds)\n",
    "print()"
   ]
  },
  {
   "cell_type": "markdown",
   "id": "dfee9cd9",
   "metadata": {},
   "source": [
    "## 데이터 Describe\n",
    "* 데이터 개수 확인 \n",
    "* null값 확인 \n",
    "* 라벨 초기화    \n",
    "해당 요소들을 기존 labeling이 진행된 데이터와 label값을 복사할 데이터 각각 확인해줍니다."
   ]
  },
  {
   "cell_type": "code",
   "execution_count": 9,
   "id": "6213ea52",
   "metadata": {
    "scrolled": true
   },
   "outputs": [
    {
     "name": "stdout",
     "output_type": "stream",
     "text": [
      "==== filtered_df 데이터 개수 재확인 ====\n",
      "jangtae_mountain => ['장태산자연휴양림메타세콰이어산림욕장' '장태산자연휴양림' '장태산자연휴양림전망대' '장태산자연휴양림숲속의집'] :  518\n",
      "gyejok_mountain => ['계족산황톳길' '계족산(봉우리읍내동)' '계족산성'] :  483\n",
      "dongchundang => ['회덕동춘당' '동춘당공원'] :  329\n",
      "uineungjeongi_street => ['으능정이거리' '대전스카이로드' '으능정이문화거리'] :  333\n",
      "ppuri_park => ['뿌리공원'] :  426\n",
      "expo_science_park => ['세계엑스포기념품박물관' '엑스포음악분수' '엑스포과학공원' '엑스포다리' '한빛탑'] :  783\n",
      "sungsimdang_bakery => ['성심당DCC점' '성심당대전역점' '성심당본점' '성심당케잌부띠끄본점' '성심당롯데백화점대전점'] :  1863\n",
      "water_barrel => ['계룡산국립공원수통골지구' '수통골유원지'] :  685\n",
      "yuseong_hotspring => ['유성온천공원' '유성온천족욕체험장'] :  431\n",
      "hanbat_arboretum => ['한밭수목원'] :  402\n",
      "science_museum => ['국립중앙과학관'] :  381\n",
      "daecheong_lake => ['대청호' '대청댐물문화관' '대청호반자연생태공원'] :  491\n",
      "art_culture_complex => ['대전예술의전당' '이응노미술관' '대전시립미술관'] :  823\n",
      "observatory => ['대전시민천문대'] :  26\n",
      "oworld_zoo => ['오월드'] :  446\n",
      "\n"
     ]
    }
   ],
   "source": [
    "print(\"==== filtered_df 데이터 개수 재확인 ====\")\n",
    "for keyword in eng2kor.keys():\n",
    "    print(keyword,'=>', filtered_df[filtered_df['keyword'] == keyword]['search'].unique(),': ', len(filtered_df[filtered_df['keyword'] == keyword]['search']))\n",
    "# filtered_df['comment'][filtered_df['comment'].map(len) == 1].unique()\n",
    "print()"
   ]
  },
  {
   "cell_type": "code",
   "execution_count": 10,
   "id": "71d4b1da",
   "metadata": {
    "scrolled": false
   },
   "outputs": [
    {
     "name": "stdout",
     "output_type": "stream",
     "text": [
      "==== filtered_df null값 확인 ====\n",
      "name       0\n",
      "ratings    0\n",
      "date       0\n",
      "comment    0\n",
      "search     0\n",
      "keyword    0\n",
      "dtype: int64\n",
      "\n",
      "==== filtered_df 라벨 -1로 초기화 ====\n",
      "\n",
      "==== filtered_df 데이터 타입 변환 ====\n",
      "\n"
     ]
    }
   ],
   "source": [
    "print(\"==== filtered_df null값 확인 ====\")\n",
    "print(filtered_df.isnull().sum())\n",
    "print()\n",
    "\n",
    "print(\"==== filtered_df 라벨 -1로 초기화 ====\")\n",
    "filtered_df['label'] = -1 # -1이 아예 없는 값이므로 -1로 초기화 \n",
    "print()\n",
    "\n",
    "print(\"==== filtered_df 데이터 타입 변환 ====\")\n",
    "filtered_df['label'] = filtered_df['label'].apply(lambda row: int(row))\n",
    "filtered_df['ratings'] = filtered_df['ratings'].apply(lambda row: int(row))\n",
    "filtered_df['name'] = filtered_df['name'].apply(lambda row:row.strip(' '))\n",
    "print()"
   ]
  },
  {
   "cell_type": "code",
   "execution_count": 11,
   "id": "9261d981",
   "metadata": {},
   "outputs": [
    {
     "name": "stdout",
     "output_type": "stream",
     "text": [
      "==== labeled_df 불러오기 ====\n",
      "\n",
      "==== labeled_df null값 확인 ====\n",
      "30\n",
      "30\n",
      "30\n",
      "\n",
      "==== labeled_df null값 제거 ====\n",
      "\n",
      "==== labeled_df null값 제거 확인 ====\n",
      "0\n",
      "0\n",
      "0\n",
      "\n",
      "==== labeled_df 데이터 타입 변환 ====\n"
     ]
    }
   ],
   "source": [
    "print(\"==== labeled_df 불러오기 ====\")\n",
    "labeled_df = pd.read_csv(labeled_path)\n",
    "print()\n",
    "\n",
    "print(\"==== labeled_df null값 확인 ====\")\n",
    "print(labeled_df.name.isnull().sum())\n",
    "print(labeled_df.keyword.isnull().sum())\n",
    "print(labeled_df.comment.isnull().sum())\n",
    "print()\n",
    "\n",
    "print(\"==== labeled_df null값 제거 ====\")\n",
    "labeled_df = labeled_df.dropna(subset=['name', 'keyword', 'comment'])\n",
    "print()\n",
    "\n",
    "print(\"==== labeled_df null값 제거 확인 ====\")\n",
    "print(labeled_df.name.isnull().sum())\n",
    "print(labeled_df.keyword.isnull().sum())\n",
    "print(labeled_df.comment.isnull().sum())\n",
    "print()\n",
    "\n",
    "print(\"==== labeled_df 데이터 타입 변환 ====\")\n",
    "labeled_df['label'] = labeled_df['label'].apply(lambda row: int(row))\n",
    "labeled_df['ratings'] = labeled_df['ratings'].apply(lambda row: int(row))\n",
    "labeled_df['name'] = labeled_df['name'].apply(lambda row:row.strip(' '))"
   ]
  },
  {
   "cell_type": "code",
   "execution_count": 12,
   "id": "b072dbf1",
   "metadata": {
    "scrolled": false
   },
   "outputs": [
    {
     "name": "stdout",
     "output_type": "stream",
     "text": [
      "라벨링전(filtered_df):  8420\n",
      "라벨링후(labeled_df):  8377\n",
      "\n"
     ]
    }
   ],
   "source": [
    "print('라벨링전(filtered_df): ', len(filtered_df))\n",
    "print('라벨링후(labeled_df): ', len(labeled_df))\n",
    "print()"
   ]
  },
  {
   "cell_type": "markdown",
   "id": "19a4f53c",
   "metadata": {},
   "source": [
    "## 데이터 일치여부 확인 및 Label값 복사\n",
    "기존에 라벨링이 진행된 데이터 파일과, 읽어오는 파일간에 데이터가 키워드가 동일한지 확인해줍니다. 관광지 개수가 데이터 수집 개수와 모델링 결과에 따라 달라짐에 따라 keyword가 변경되기도 했었기 때문에 오류방지용으로 서로간에 키워드나, 데이터 일치여부에 따라 라벨값을 복사해줍니다. "
   ]
  },
  {
   "cell_type": "code",
   "execution_count": 13,
   "id": "ec73e6a5",
   "metadata": {
    "scrolled": true
   },
   "outputs": [
    {
     "name": "stdout",
     "output_type": "stream",
     "text": [
      "==== 서로 키워드가 동일한지 확인 ==== True\n",
      "\n"
     ]
    },
    {
     "name": "stderr",
     "output_type": "stream",
     "text": [
      "100%|██████████| 8377/8377 [00:27<00:00, 300.28it/s]"
     ]
    },
    {
     "name": "stdout",
     "output_type": "stream",
     "text": [
      "라벨링전(filtered_df):  8420\n",
      "라벨링후(labeled_df):  8377\n",
      "\n"
     ]
    },
    {
     "name": "stderr",
     "output_type": "stream",
     "text": [
      "\n"
     ]
    }
   ],
   "source": [
    "issamekeywords = sorted(labeled_df['keyword'].unique()) == sorted(filtered_df['keyword'].unique())\n",
    "print('==== 서로 키워드가 동일한지 확인 ====', issamekeywords)\n",
    "print()\n",
    "\n",
    "for i in tqdm(range(len(labeled_df))):\n",
    "    lb = labeled_df['label'].iloc[i]\n",
    "    filtered_df['label'][(filtered_df['date'] == labeled_df['date'].iloc[i]) & \n",
    "                         (filtered_df['ratings'] == labeled_df['ratings'].iloc[i]) & \n",
    "                         (filtered_df['name'] == labeled_df['name'].iloc[i]) &\n",
    "                         (filtered_df['keyword'] == labeled_df['keyword'].iloc[i]) == True] = lb\n",
    "#     print(lb, end='')\n",
    "#     print(labeled_df['comment'].iloc[i])\n",
    "    \n",
    "print('라벨링전(filtered_df): ', len(filtered_df))\n",
    "print('라벨링후(labeled_df): ', len(labeled_df))\n",
    "print()"
   ]
  },
  {
   "cell_type": "markdown",
   "id": "da961e72",
   "metadata": {},
   "source": [
    "## Labeling 복사한 데이터프레임 파일로 저장"
   ]
  },
  {
   "cell_type": "code",
   "execution_count": 14,
   "id": "ea977697",
   "metadata": {},
   "outputs": [
    {
     "name": "stdout",
     "output_type": "stream",
     "text": [
      "==== 데이터프레임 한 파일로 저장 ====\n"
     ]
    }
   ],
   "source": [
    "print(\"==== 데이터프레임 한 파일로 저장 ====\")\n",
    "# 전체 합친 데이터프레임 한 파일로 저장\n",
    "filtered_df.to_csv('./filtered/google_review/google_reviews_labeled_' + target + '.csv', index=False)\n",
    "\n",
    "# keyword마다 파일 저장 \n",
    "keywords = sorted(filtered_df['keyword'].unique())"
   ]
  },
  {
   "cell_type": "markdown",
   "id": "94f1cbd8",
   "metadata": {},
   "source": [
    "## Labeling 안 된 데이터 개수 확인"
   ]
  },
  {
   "cell_type": "code",
   "execution_count": 15,
   "id": "8bdad7c6",
   "metadata": {},
   "outputs": [],
   "source": [
    "def comparisonDataframe():\n",
    "    cnt = 0 \n",
    "    for i in tqdm(range(len(labeled_df))):\n",
    "        lb = labeled_df['label'].iloc[i]\n",
    "        filtered_df['label'][(filtered_df['date'] == labeled_df['date'].iloc[i]) & \n",
    "                             (filtered_df['ratings'] == labeled_df['ratings'].iloc[i]) & \n",
    "                             (filtered_df['name'] == labeled_df['name'].iloc[i]) &\n",
    "                             (filtered_df['keyword'] == labeled_df['keyword'].iloc[i]) == True] = lb\n",
    "        tmp = filtered_df['comment'][(filtered_df['date'] == labeled_df['date'].iloc[i]) & \n",
    "                             (filtered_df['ratings'] == labeled_df['ratings'].iloc[i]) & \n",
    "                             (filtered_df['name'] == labeled_df['name'].iloc[i]) &\n",
    "                             (filtered_df['keyword'] == labeled_df['keyword'].iloc[i]) == True]\n",
    "        print(tmp)\n",
    "        print('--===========================--')\n",
    "        cnt += 1\n",
    "    print(cnt)"
   ]
  },
  {
   "cell_type": "code",
   "execution_count": 16,
   "id": "27795ff7",
   "metadata": {},
   "outputs": [
    {
     "name": "stdout",
     "output_type": "stream",
     "text": [
      "==== labeling 안된 데이터 개수 확인 ====\n",
      "art_culture_complex 에서 라벨링 안된 데이터 개수:  -6\n",
      "daecheong_lake 에서 라벨링 안된 데이터 개수:  -19\n",
      "dongchundang 에서 라벨링 안된 데이터 개수:  -1\n",
      "expo_science_park 에서 라벨링 안된 데이터 개수:  -16\n",
      "gyejok_mountain 에서 라벨링 안된 데이터 개수:  0\n",
      "hanbat_arboretum 에서 라벨링 안된 데이터 개수:  0\n",
      "jangtae_mountain 에서 라벨링 안된 데이터 개수:  0\n",
      "observatory 에서 라벨링 안된 데이터 개수:  -5\n",
      "oworld_zoo 에서 라벨링 안된 데이터 개수:  0\n",
      "ppuri_park 에서 라벨링 안된 데이터 개수:  0\n",
      "science_museum 에서 라벨링 안된 데이터 개수:  -25\n",
      "sungsimdang_bakery 에서 라벨링 안된 데이터 개수:  0\n",
      "uineungjeongi_street 에서 라벨링 안된 데이터 개수:  0\n",
      "water_barrel 에서 라벨링 안된 데이터 개수:  0\n",
      "yuseong_hotspring 에서 라벨링 안된 데이터 개수:  0\n",
      "전체 라벨링 안된 데이터 개수:  -72\n"
     ]
    }
   ],
   "source": [
    "print(\"==== labeling 안된 데이터 개수 확인 ====\")\n",
    "nolabel_cnts = 0\n",
    "for key in keywords:\n",
    "    nolabel_cnt = filtered_df['label'][(filtered_df['label'] == -1) & (filtered_df['keyword'] == key)].sum()\n",
    "    nolabel_cnts = nolabel_cnts + nolabel_cnt\n",
    "    print(key,'에서 라벨링 안된 데이터 개수: ', nolabel_cnt)\n",
    "    \n",
    "    df = filtered_df[filtered_df['keyword'] == key]\n",
    "#     df.to_csv(f'./filtered/google_review/google_reviews_{key}.csv', index=False)\n",
    "print('전체 라벨링 안된 데이터 개수: ', nolabel_cnts)"
   ]
  }
 ],
 "metadata": {
  "kernelspec": {
   "display_name": "aiffel",
   "language": "python",
   "name": "aiffel"
  },
  "language_info": {
   "codemirror_mode": {
    "name": "ipython",
    "version": 3
   },
   "file_extension": ".py",
   "mimetype": "text/x-python",
   "name": "python",
   "nbconvert_exporter": "python",
   "pygments_lexer": "ipython3",
   "version": "3.7.10"
  },
  "toc": {
   "base_numbering": 1,
   "nav_menu": {},
   "number_sections": true,
   "sideBar": true,
   "skip_h1_title": false,
   "title_cell": "Table of Contents",
   "title_sidebar": "Contents",
   "toc_cell": false,
   "toc_position": {
    "height": "calc(100% - 180px)",
    "left": "10px",
    "top": "150px",
    "width": "411.766px"
   },
   "toc_section_display": true,
   "toc_window_display": true
  }
 },
 "nbformat": 4,
 "nbformat_minor": 5
}
